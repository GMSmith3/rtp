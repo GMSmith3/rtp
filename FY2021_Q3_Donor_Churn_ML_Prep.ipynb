{
 "cells": [
  {
   "cell_type": "markdown",
   "metadata": {},
   "source": [
    "# Set-up"
   ]
  },
  {
   "cell_type": "code",
   "execution_count": 1,
   "metadata": {},
   "outputs": [
    {
     "name": "stdout",
     "output_type": "stream",
     "text": [
      "/Users/georgesmith/Desktop/RTP/Season 28/Development/Analysis\r\n"
     ]
    }
   ],
   "source": [
    "#Check directory\n",
    "!pwd"
   ]
  },
  {
   "cell_type": "code",
   "execution_count": 2,
   "metadata": {},
   "outputs": [
    {
     "name": "stdout",
     "output_type": "stream",
     "text": [
      "/Users/georgesmith/Desktop/RTP/Season 28/Development/Analysis\n"
     ]
    }
   ],
   "source": [
    "#Change directory\n",
    "%cd /Users/georgesmith/Desktop/RTP/Season 28/Development/Analysis/"
   ]
  },
  {
   "cell_type": "code",
   "execution_count": 3,
   "metadata": {},
   "outputs": [],
   "source": [
    "#Import necessary packages:\n",
    "import pandas as pd\n",
    "from pandas.plotting import scatter_matrix\n",
    "import numpy as np\n",
    "import datetime\n",
    "from datetime import date\n",
    "from datetime import datetime\n",
    "import matplotlib\n",
    "import matplotlib.pyplot as plt\n",
    "import seaborn as sns\n",
    "from scipy import stats\n",
    "from IPython.display import display\n",
    "import plotly.graph_objects as go # To Generate Graphs\n",
    "import plotly.express as px # To Generate box plot for statistical representation\n",
    "#import itertools\n",
    "#import sys\n",
    "#Install pingouin package into this jupyter kernal\n",
    "#!{sys.executable} -m pip install pingouin\n",
    "#import pingouin as pg #this throws the warning message\n",
    "#!{sys.executable} -m pip install --upgrade statsmodels\n",
    "#import pickle\n",
    "# import plotly.offline as py\n",
    "# color = sns.color_palette()\n",
    "# import plotly.graph_objs as go\n",
    "# py.init_notebook_mode(connected=True)\n",
    "# import plotly.tools as tls\n",
    "\n",
    "\n",
    "%matplotlib inline"
   ]
  },
  {
   "cell_type": "code",
   "execution_count": 4,
   "metadata": {},
   "outputs": [
    {
     "data": {
      "text/html": [
       "<div>\n",
       "<style scoped>\n",
       "    .dataframe tbody tr th:only-of-type {\n",
       "        vertical-align: middle;\n",
       "    }\n",
       "\n",
       "    .dataframe tbody tr th {\n",
       "        vertical-align: top;\n",
       "    }\n",
       "\n",
       "    .dataframe thead th {\n",
       "        text-align: right;\n",
       "    }\n",
       "</style>\n",
       "<table border=\"1\" class=\"dataframe\">\n",
       "  <thead>\n",
       "    <tr style=\"text-align: right;\">\n",
       "      <th></th>\n",
       "      <th>account_id</th>\n",
       "      <th>account_record_type</th>\n",
       "      <th>do_not_mail</th>\n",
       "      <th>donation_record_type</th>\n",
       "      <th>amount</th>\n",
       "      <th>close_date</th>\n",
       "      <th>email_opt_out</th>\n",
       "      <th>mailing_city</th>\n",
       "      <th>mailing_state</th>\n",
       "      <th>mailing_zip</th>\n",
       "      <th>...</th>\n",
       "      <th>card_type</th>\n",
       "      <th>check_date</th>\n",
       "      <th>grant_amount</th>\n",
       "      <th>matching_amount</th>\n",
       "      <th>first_donation_date</th>\n",
       "      <th>lifetime_donation_total_amount</th>\n",
       "      <th>lifetime_donation_count</th>\n",
       "      <th>lifetime_subscription_purchase_total</th>\n",
       "      <th>lifetime_single_ticket_purchase_total</th>\n",
       "      <th>lifetime_order_count</th>\n",
       "    </tr>\n",
       "  </thead>\n",
       "  <tbody>\n",
       "    <tr>\n",
       "      <th>0</th>\n",
       "      <td>NaN</td>\n",
       "      <td>NaN</td>\n",
       "      <td>0</td>\n",
       "      <td>Donation</td>\n",
       "      <td>25.0</td>\n",
       "      <td>1/20/21</td>\n",
       "      <td>0</td>\n",
       "      <td>East Kingston</td>\n",
       "      <td>NH</td>\n",
       "      <td>3827</td>\n",
       "      <td>...</td>\n",
       "      <td>Discover</td>\n",
       "      <td>NaN</td>\n",
       "      <td>NaN</td>\n",
       "      <td>0.0</td>\n",
       "      <td>NaN</td>\n",
       "      <td>NaN</td>\n",
       "      <td>NaN</td>\n",
       "      <td>NaN</td>\n",
       "      <td>NaN</td>\n",
       "      <td>NaN</td>\n",
       "    </tr>\n",
       "    <tr>\n",
       "      <th>1</th>\n",
       "      <td>0013p000020Q9Em</td>\n",
       "      <td>Individual</td>\n",
       "      <td>0</td>\n",
       "      <td>PatronTicket Donation</td>\n",
       "      <td>13.0</td>\n",
       "      <td>9/26/20</td>\n",
       "      <td>0</td>\n",
       "      <td>Hardy</td>\n",
       "      <td>VA</td>\n",
       "      <td>24101</td>\n",
       "      <td>...</td>\n",
       "      <td>MasterCard</td>\n",
       "      <td>NaN</td>\n",
       "      <td>NaN</td>\n",
       "      <td>0.0</td>\n",
       "      <td>NaN</td>\n",
       "      <td>0.0</td>\n",
       "      <td>0.0</td>\n",
       "      <td>0.0</td>\n",
       "      <td>0.0</td>\n",
       "      <td>0.0</td>\n",
       "    </tr>\n",
       "    <tr>\n",
       "      <th>2</th>\n",
       "      <td>0011R00002HkvI7</td>\n",
       "      <td>Individual</td>\n",
       "      <td>0</td>\n",
       "      <td>Donation</td>\n",
       "      <td>50.0</td>\n",
       "      <td>5/22/20</td>\n",
       "      <td>0</td>\n",
       "      <td>NaN</td>\n",
       "      <td>NaN</td>\n",
       "      <td>NaN</td>\n",
       "      <td>...</td>\n",
       "      <td>NaN</td>\n",
       "      <td>NaN</td>\n",
       "      <td>NaN</td>\n",
       "      <td>0.0</td>\n",
       "      <td>NaN</td>\n",
       "      <td>0.0</td>\n",
       "      <td>0.0</td>\n",
       "      <td>0.0</td>\n",
       "      <td>0.0</td>\n",
       "      <td>0.0</td>\n",
       "    </tr>\n",
       "    <tr>\n",
       "      <th>3</th>\n",
       "      <td>0013600000TKzRp</td>\n",
       "      <td>Individual</td>\n",
       "      <td>0</td>\n",
       "      <td>Donation</td>\n",
       "      <td>1.0</td>\n",
       "      <td>10/31/18</td>\n",
       "      <td>0</td>\n",
       "      <td>New York</td>\n",
       "      <td>NY</td>\n",
       "      <td>10019</td>\n",
       "      <td>...</td>\n",
       "      <td>Amex</td>\n",
       "      <td>NaN</td>\n",
       "      <td>NaN</td>\n",
       "      <td>0.0</td>\n",
       "      <td>NaN</td>\n",
       "      <td>0.0</td>\n",
       "      <td>0.0</td>\n",
       "      <td>0.0</td>\n",
       "      <td>0.0</td>\n",
       "      <td>0.0</td>\n",
       "    </tr>\n",
       "    <tr>\n",
       "      <th>4</th>\n",
       "      <td>0013600000TKzRp</td>\n",
       "      <td>Individual</td>\n",
       "      <td>0</td>\n",
       "      <td>Donation</td>\n",
       "      <td>1.0</td>\n",
       "      <td>8/10/16</td>\n",
       "      <td>0</td>\n",
       "      <td>New York</td>\n",
       "      <td>NY</td>\n",
       "      <td>10019</td>\n",
       "      <td>...</td>\n",
       "      <td>Amex</td>\n",
       "      <td>NaN</td>\n",
       "      <td>NaN</td>\n",
       "      <td>0.0</td>\n",
       "      <td>NaN</td>\n",
       "      <td>0.0</td>\n",
       "      <td>0.0</td>\n",
       "      <td>0.0</td>\n",
       "      <td>0.0</td>\n",
       "      <td>0.0</td>\n",
       "    </tr>\n",
       "  </tbody>\n",
       "</table>\n",
       "<p>5 rows × 33 columns</p>\n",
       "</div>"
      ],
      "text/plain": [
       "        account_id account_record_type  do_not_mail   donation_record_type  \\\n",
       "0              NaN                 NaN            0               Donation   \n",
       "1  0013p000020Q9Em          Individual            0  PatronTicket Donation   \n",
       "2  0011R00002HkvI7          Individual            0               Donation   \n",
       "3  0013600000TKzRp          Individual            0               Donation   \n",
       "4  0013600000TKzRp          Individual            0               Donation   \n",
       "\n",
       "   amount close_date  email_opt_out   mailing_city mailing_state mailing_zip  \\\n",
       "0    25.0    1/20/21              0  East Kingston            NH        3827   \n",
       "1    13.0    9/26/20              0          Hardy            VA       24101   \n",
       "2    50.0    5/22/20              0            NaN           NaN         NaN   \n",
       "3     1.0   10/31/18              0       New York            NY       10019   \n",
       "4     1.0    8/10/16              0       New York            NY       10019   \n",
       "\n",
       "   ...   card_type check_date grant_amount  matching_amount  \\\n",
       "0  ...    Discover        NaN          NaN              0.0   \n",
       "1  ...  MasterCard        NaN          NaN              0.0   \n",
       "2  ...         NaN        NaN          NaN              0.0   \n",
       "3  ...        Amex        NaN          NaN              0.0   \n",
       "4  ...        Amex        NaN          NaN              0.0   \n",
       "\n",
       "  first_donation_date lifetime_donation_total_amount lifetime_donation_count  \\\n",
       "0                 NaN                            NaN                     NaN   \n",
       "1                 NaN                            0.0                     0.0   \n",
       "2                 NaN                            0.0                     0.0   \n",
       "3                 NaN                            0.0                     0.0   \n",
       "4                 NaN                            0.0                     0.0   \n",
       "\n",
       "   lifetime_subscription_purchase_total lifetime_single_ticket_purchase_total  \\\n",
       "0                                   NaN                                   NaN   \n",
       "1                                   0.0                                   0.0   \n",
       "2                                   0.0                                   0.0   \n",
       "3                                   0.0                                   0.0   \n",
       "4                                   0.0                                   0.0   \n",
       "\n",
       "   lifetime_order_count  \n",
       "0                   NaN  \n",
       "1                   0.0  \n",
       "2                   0.0  \n",
       "3                   0.0  \n",
       "4                   0.0  \n",
       "\n",
       "[5 rows x 33 columns]"
      ]
     },
     "execution_count": 4,
     "metadata": {},
     "output_type": "execute_result"
    }
   ],
   "source": [
    "#Import and prep data\n",
    "\n",
    "#Read in donation data:\n",
    "input_cols = ['account_id',\n",
    " 'account_name',\n",
    " 'contact_name',\n",
    " 'account_record_type',\n",
    " 'do_not_mail',\n",
    " 'donation_record_type',\n",
    " 'informal_salutation',\n",
    " 'amount',\n",
    " 'close_date',\n",
    " 'email_opt_out',\n",
    " 'contact_email',\n",
    " 'mailing_street',\n",
    " 'mailing_city',\n",
    " 'mailing_state',\n",
    " 'mailing_zip',\n",
    " 'fund',\n",
    " 'frequency',\n",
    " 'payment_type',\n",
    " 'pledge_amount',\n",
    " 'payment_schedule',\n",
    " 'type',\n",
    " 'stage',\n",
    " 'fiscal_year',\n",
    " 'fiscal_quarter',\n",
    " 'last_donation_amount',\n",
    " 'last_donation_date',\n",
    " 'close_month',\n",
    " 'anonymous',\n",
    " 'card_type',\n",
    " 'check_date',\n",
    " 'donation_matched',\n",
    " 'grant_amount',\n",
    " 'matching_amount',\n",
    " 'matching_close_date',\n",
    " 'first_donation_date',\n",
    " 'lifetime_donation_total_amount',\n",
    " 'lifetime_donation_count',\n",
    " 'lifetime_subscription_purchase_total',\n",
    " 'lifetime_single_ticket_purchase_total',\n",
    " 'lifetime_order_count']\n",
    " \n",
    "raw_donations = pd.read_csv('/Users/georgesmith/Desktop/RTP/Season 28/Development/Analysis/donations_Jul2014_Jan202021.csv', header=0, names=input_cols)\n",
    "\n",
    "#Drop identifying columns to anonymize data (and the entirely null 'donation_matched' and 'matching_close_date' columns)\n",
    "iden_cols = ['account_name', 'contact_name', 'informal_salutation', 'donation_matched', 'matching_close_date', 'contact_email', 'mailing_street']\n",
    "donations = raw_donations.drop(iden_cols, axis=1, inplace=False)\n",
    "donations.head()"
   ]
  },
  {
   "cell_type": "code",
   "execution_count": 5,
   "metadata": {},
   "outputs": [],
   "source": [
    "def col_dtype_conversions(df, col_list1, new_dtype1, col_list2, new_dtype2):\n",
    "    \"\"\"\n",
    "    Converts columns in col_list1 to datatype specified in new_dtype1\n",
    "    and converts those in col_list2 to datatype specified in new_dtype2\n",
    "\n",
    "    Params\n",
    "    ------\n",
    "    df : pandas.DataFrame\n",
    "        dataframe with columns in both col_lists\n",
    "    col_list1 : list\n",
    "        list of column names to be converted to dtype specified by new_dtype1\n",
    "    new_dtype1 : str (must put in quotes)\n",
    "        data type to which columns in col_list1 will be converted\n",
    "    col_list2 : list\n",
    "        list of column names to be converted to dtype specified by new_dtype2\n",
    "    new_dtype2 : str (must put in quotes)\n",
    "        data type to which columns in col_list2 will be converted\n",
    "\n",
    "    Returns\n",
    "    -------\n",
    "    pandas.DataFrame\n",
    "        Returns a dataframe with the same columns, some of which are now cast as\n",
    "        the specified data types\n",
    "    \"\"\"\n",
    "    for col1 in col_list1:\n",
    "        df[col1] = df[col1].astype(new_dtype1)\n",
    "        for col2 in col_list2:\n",
    "            df[col2] = df[col2].astype(new_dtype2)\n",
    "    return\n",
    "\n",
    "col1 = ['fiscal_year', 'do_not_mail', 'email_opt_out', 'anonymous']\n",
    "col2 = ['close_date', 'close_month', 'first_donation_date', 'last_donation_date', 'check_date']\n",
    "\n",
    "col_dtype_conversions(donations, col1, 'str', col2, 'datetime64[ns]')"
   ]
  },
  {
   "cell_type": "code",
   "execution_count": 6,
   "metadata": {},
   "outputs": [],
   "source": [
    "#Parse month from full dates shown in close_month column\n",
    "donations.close_month = donations.close_month.dt.month.astype('str')"
   ]
  },
  {
   "cell_type": "code",
   "execution_count": 7,
   "metadata": {},
   "outputs": [
    {
     "data": {
      "text/plain": [
       "Annual Fund                                  4540\n",
       "25th Anniversary Capital Campaign              94\n",
       "Next Stage Campaign                            82\n",
       "Advertiser                                     73\n",
       "Education Fund                                 34\n",
       "Sponsorship Fund                               24\n",
       "Mary Morton Parsons Challenge Grant Match      11\n",
       "Moose Management Academy Attendance             8\n",
       "Project Fund                                    8\n",
       "New Works (Knapp-Gillham) Fund                  8\n",
       "Building Fund                                   6\n",
       "So.Queer Playwrights Festival                   2\n",
       "Cabell Foundation Match                         1\n",
       "Name: fund, dtype: int64"
      ]
     },
     "execution_count": 7,
     "metadata": {},
     "output_type": "execute_result"
    }
   ],
   "source": [
    "#Donations with missing values in the fund column are Annual Fund gifts made online -- reassign accordingly\n",
    "donations.fund.fillna('Annual Fund', inplace=True)\n",
    "\n",
    "#Consolidate all Annual Fund donations under a common string\n",
    "donations.fund = np.where(donations.fund.isin(['ANN', 'Annual Fund Historical']), 'Annual Fund', donations.fund)\n",
    "\n",
    "#Group levels referencing the same fund under common levels\n",
    "donations.loc[(donations['fund'].isin([\"25th Anniversary Campaign Fund\", '25th Anniversary Fund', '25TH'])), 'fund'] = \"25th Anniversary Capital Campaign\"\n",
    "donations.loc[(donations['fund'] == 'NEXT'), 'fund'] = \"Next Stage Campaign\"\n",
    "donations.loc[(donations['fund'] == 'John Knapp -Tim Gillham Fund'), 'fund'] = \"New Works (Knapp-Gillham) Fund\"\n",
    "donations.loc[(donations['fund'].isin([\"Education Program Fund\", 'EDUC'])), 'fund'] = \"Education Fund\"\n",
    "donations.loc[(donations['fund'] == 'MMP'), 'fund'] = \"Mary Morton Parsons Challenge Grant Match\"\n",
    "\n",
    "#Reviewed cleaned fund column distribution\n",
    "donations.fund.value_counts(dropna=False)"
   ]
  },
  {
   "cell_type": "code",
   "execution_count": 8,
   "metadata": {},
   "outputs": [
    {
     "data": {
      "text/html": [
       "<div>\n",
       "<style scoped>\n",
       "    .dataframe tbody tr th:only-of-type {\n",
       "        vertical-align: middle;\n",
       "    }\n",
       "\n",
       "    .dataframe tbody tr th {\n",
       "        vertical-align: top;\n",
       "    }\n",
       "\n",
       "    .dataframe thead th {\n",
       "        text-align: right;\n",
       "    }\n",
       "</style>\n",
       "<table border=\"1\" class=\"dataframe\">\n",
       "  <thead>\n",
       "    <tr style=\"text-align: right;\">\n",
       "      <th></th>\n",
       "      <th>account_id</th>\n",
       "      <th>account_record_type</th>\n",
       "      <th>do_not_mail</th>\n",
       "      <th>donation_record_type</th>\n",
       "      <th>amount</th>\n",
       "      <th>close_date</th>\n",
       "      <th>email_opt_out</th>\n",
       "      <th>mailing_city</th>\n",
       "      <th>mailing_state</th>\n",
       "      <th>mailing_zip</th>\n",
       "      <th>...</th>\n",
       "      <th>card_type</th>\n",
       "      <th>check_date</th>\n",
       "      <th>grant_amount</th>\n",
       "      <th>matching_amount</th>\n",
       "      <th>first_donation_date</th>\n",
       "      <th>lifetime_donation_total_amount</th>\n",
       "      <th>lifetime_donation_count</th>\n",
       "      <th>lifetime_subscription_purchase_total</th>\n",
       "      <th>lifetime_single_ticket_purchase_total</th>\n",
       "      <th>lifetime_order_count</th>\n",
       "    </tr>\n",
       "  </thead>\n",
       "  <tbody>\n",
       "    <tr>\n",
       "      <th>0</th>\n",
       "      <td>0013p000020Q9Em</td>\n",
       "      <td>Individual</td>\n",
       "      <td>0</td>\n",
       "      <td>PatronTicket Donation</td>\n",
       "      <td>13.0</td>\n",
       "      <td>2020-09-26</td>\n",
       "      <td>0</td>\n",
       "      <td>Hardy</td>\n",
       "      <td>VA</td>\n",
       "      <td>24101</td>\n",
       "      <td>...</td>\n",
       "      <td>MasterCard</td>\n",
       "      <td>NaT</td>\n",
       "      <td>NaN</td>\n",
       "      <td>0.0</td>\n",
       "      <td>NaT</td>\n",
       "      <td>0.0</td>\n",
       "      <td>0.0</td>\n",
       "      <td>0.0</td>\n",
       "      <td>0.0</td>\n",
       "      <td>0.0</td>\n",
       "    </tr>\n",
       "    <tr>\n",
       "      <th>1</th>\n",
       "      <td>0011R00002HkvI7</td>\n",
       "      <td>Individual</td>\n",
       "      <td>0</td>\n",
       "      <td>Donation</td>\n",
       "      <td>50.0</td>\n",
       "      <td>2020-05-22</td>\n",
       "      <td>0</td>\n",
       "      <td>NaN</td>\n",
       "      <td>NaN</td>\n",
       "      <td>NaN</td>\n",
       "      <td>...</td>\n",
       "      <td>NaN</td>\n",
       "      <td>NaT</td>\n",
       "      <td>NaN</td>\n",
       "      <td>0.0</td>\n",
       "      <td>NaT</td>\n",
       "      <td>0.0</td>\n",
       "      <td>0.0</td>\n",
       "      <td>0.0</td>\n",
       "      <td>0.0</td>\n",
       "      <td>0.0</td>\n",
       "    </tr>\n",
       "    <tr>\n",
       "      <th>2</th>\n",
       "      <td>0013600000TKzRp</td>\n",
       "      <td>Individual</td>\n",
       "      <td>0</td>\n",
       "      <td>Donation</td>\n",
       "      <td>1.0</td>\n",
       "      <td>2018-10-31</td>\n",
       "      <td>0</td>\n",
       "      <td>New York</td>\n",
       "      <td>NY</td>\n",
       "      <td>10019</td>\n",
       "      <td>...</td>\n",
       "      <td>Amex</td>\n",
       "      <td>NaT</td>\n",
       "      <td>NaN</td>\n",
       "      <td>0.0</td>\n",
       "      <td>NaT</td>\n",
       "      <td>0.0</td>\n",
       "      <td>0.0</td>\n",
       "      <td>0.0</td>\n",
       "      <td>0.0</td>\n",
       "      <td>0.0</td>\n",
       "    </tr>\n",
       "    <tr>\n",
       "      <th>3</th>\n",
       "      <td>0013600000TKzRp</td>\n",
       "      <td>Individual</td>\n",
       "      <td>0</td>\n",
       "      <td>Donation</td>\n",
       "      <td>1.0</td>\n",
       "      <td>2016-08-10</td>\n",
       "      <td>0</td>\n",
       "      <td>New York</td>\n",
       "      <td>NY</td>\n",
       "      <td>10019</td>\n",
       "      <td>...</td>\n",
       "      <td>Amex</td>\n",
       "      <td>NaT</td>\n",
       "      <td>NaN</td>\n",
       "      <td>0.0</td>\n",
       "      <td>NaT</td>\n",
       "      <td>0.0</td>\n",
       "      <td>0.0</td>\n",
       "      <td>0.0</td>\n",
       "      <td>0.0</td>\n",
       "      <td>0.0</td>\n",
       "    </tr>\n",
       "    <tr>\n",
       "      <th>4</th>\n",
       "      <td>0011R00001zaq0m</td>\n",
       "      <td>Household</td>\n",
       "      <td>0</td>\n",
       "      <td>Donation</td>\n",
       "      <td>25.0</td>\n",
       "      <td>2020-06-15</td>\n",
       "      <td>0</td>\n",
       "      <td>Quinton</td>\n",
       "      <td>VA</td>\n",
       "      <td>23141-2209</td>\n",
       "      <td>...</td>\n",
       "      <td>NaN</td>\n",
       "      <td>2020-06-09</td>\n",
       "      <td>NaN</td>\n",
       "      <td>0.0</td>\n",
       "      <td>2020-06-15</td>\n",
       "      <td>25.0</td>\n",
       "      <td>1.0</td>\n",
       "      <td>0.0</td>\n",
       "      <td>184.5</td>\n",
       "      <td>2.0</td>\n",
       "    </tr>\n",
       "  </tbody>\n",
       "</table>\n",
       "<p>5 rows × 33 columns</p>\n",
       "</div>"
      ],
      "text/plain": [
       "        account_id account_record_type do_not_mail   donation_record_type  \\\n",
       "0  0013p000020Q9Em          Individual           0  PatronTicket Donation   \n",
       "1  0011R00002HkvI7          Individual           0               Donation   \n",
       "2  0013600000TKzRp          Individual           0               Donation   \n",
       "3  0013600000TKzRp          Individual           0               Donation   \n",
       "4  0011R00001zaq0m           Household           0               Donation   \n",
       "\n",
       "   amount close_date email_opt_out mailing_city mailing_state mailing_zip  \\\n",
       "0    13.0 2020-09-26             0        Hardy            VA       24101   \n",
       "1    50.0 2020-05-22             0          NaN           NaN         NaN   \n",
       "2     1.0 2018-10-31             0     New York            NY       10019   \n",
       "3     1.0 2016-08-10             0     New York            NY       10019   \n",
       "4    25.0 2020-06-15             0      Quinton            VA  23141-2209   \n",
       "\n",
       "   ...   card_type check_date grant_amount  matching_amount  \\\n",
       "0  ...  MasterCard        NaT          NaN              0.0   \n",
       "1  ...         NaN        NaT          NaN              0.0   \n",
       "2  ...        Amex        NaT          NaN              0.0   \n",
       "3  ...        Amex        NaT          NaN              0.0   \n",
       "4  ...         NaN 2020-06-09          NaN              0.0   \n",
       "\n",
       "  first_donation_date lifetime_donation_total_amount lifetime_donation_count  \\\n",
       "0                 NaT                            0.0                     0.0   \n",
       "1                 NaT                            0.0                     0.0   \n",
       "2                 NaT                            0.0                     0.0   \n",
       "3                 NaT                            0.0                     0.0   \n",
       "4          2020-06-15                           25.0                     1.0   \n",
       "\n",
       "  lifetime_subscription_purchase_total lifetime_single_ticket_purchase_total  \\\n",
       "0                                  0.0                                   0.0   \n",
       "1                                  0.0                                   0.0   \n",
       "2                                  0.0                                   0.0   \n",
       "3                                  0.0                                   0.0   \n",
       "4                                  0.0                                 184.5   \n",
       "\n",
       "   lifetime_order_count  \n",
       "0                   0.0  \n",
       "1                   0.0  \n",
       "2                   0.0  \n",
       "3                   0.0  \n",
       "4                   2.0  \n",
       "\n",
       "[5 rows x 33 columns]"
      ]
     },
     "execution_count": 8,
     "metadata": {},
     "output_type": "execute_result"
    }
   ],
   "source": [
    "donations = donations[donations['account_record_type'].isin(['Individual', 'Household'])].reset_index(drop=True)\n",
    "donations.head()"
   ]
  },
  {
   "cell_type": "markdown",
   "metadata": {},
   "source": [
    "Executive Director tells me this is, in fact, an individual donor's annual fund donation, which is correctly designated as a grant because it comes from their family advised fund."
   ]
  },
  {
   "cell_type": "code",
   "execution_count": 9,
   "metadata": {},
   "outputs": [],
   "source": [
    "#Reassign this record to annual fund donation (i.e. change donation_record_type to Donation & amount to $100)\n",
    "donations.loc[(donations.account_id == '0013600000ggdlM'), 'last_donation_date'] = '2020-12-21'\n",
    "donations.loc[(donations.account_id == '0013600000ggdlM'), 'last_donation_amount'] = 100\n",
    "donations.loc[(donations.account_id == '0013600000ggdlM') & (donations.close_date == '2020-12-21'), 'donation_record_type'] = 'Donation'\n",
    "donations.loc[(donations.account_id == '0013600000ggdlM') & (donations.close_date == '2020-12-21'), 'amount'] = 100"
   ]
  },
  {
   "cell_type": "code",
   "execution_count": 10,
   "metadata": {},
   "outputs": [],
   "source": [
    "#Assign group levels referencing the same payment_type to common levels\n",
    "donations.loc[(donations['payment_type'] == 'CRED'), 'payment_type'] = \"Credit Card\"\n",
    "donations.loc[(donations['payment_type'] == 'Third Party'), 'payment_type'] = \"Credit Card - Third Party\"\n",
    "donations.loc[(donations['payment_type'] == 'INKND'), 'payment_type'] = \"In Kind\"\n",
    "donations.loc[(donations['payment_type'].isna()) & donations['check_date'].notnull(), 'payment_type'] = \"Check\""
   ]
  },
  {
   "cell_type": "code",
   "execution_count": 11,
   "metadata": {},
   "outputs": [
    {
     "data": {
      "text/html": [
       "<div>\n",
       "<style scoped>\n",
       "    .dataframe tbody tr th:only-of-type {\n",
       "        vertical-align: middle;\n",
       "    }\n",
       "\n",
       "    .dataframe tbody tr th {\n",
       "        vertical-align: top;\n",
       "    }\n",
       "\n",
       "    .dataframe thead th {\n",
       "        text-align: right;\n",
       "    }\n",
       "</style>\n",
       "<table border=\"1\" class=\"dataframe\">\n",
       "  <thead>\n",
       "    <tr style=\"text-align: right;\">\n",
       "      <th></th>\n",
       "      <th>account_id</th>\n",
       "      <th>account_record_type</th>\n",
       "      <th>do_not_mail</th>\n",
       "      <th>donation_record_type</th>\n",
       "      <th>amount</th>\n",
       "      <th>close_date</th>\n",
       "      <th>email_opt_out</th>\n",
       "      <th>mailing_city</th>\n",
       "      <th>mailing_state</th>\n",
       "      <th>mailing_zip</th>\n",
       "      <th>...</th>\n",
       "      <th>card_type</th>\n",
       "      <th>check_date</th>\n",
       "      <th>grant_amount</th>\n",
       "      <th>matching_amount</th>\n",
       "      <th>first_donation_date</th>\n",
       "      <th>lifetime_donation_total_amount</th>\n",
       "      <th>lifetime_donation_count</th>\n",
       "      <th>lifetime_subscription_purchase_total</th>\n",
       "      <th>lifetime_single_ticket_purchase_total</th>\n",
       "      <th>lifetime_order_count</th>\n",
       "    </tr>\n",
       "  </thead>\n",
       "  <tbody>\n",
       "    <tr>\n",
       "      <th>4471</th>\n",
       "      <td>0013600000VKQmI</td>\n",
       "      <td>Household</td>\n",
       "      <td>0</td>\n",
       "      <td>Pledge</td>\n",
       "      <td>NaN</td>\n",
       "      <td>2015-02-04</td>\n",
       "      <td>0</td>\n",
       "      <td>Richmond</td>\n",
       "      <td>VA</td>\n",
       "      <td>23222</td>\n",
       "      <td>...</td>\n",
       "      <td>Visa</td>\n",
       "      <td>NaT</td>\n",
       "      <td>NaN</td>\n",
       "      <td>0.0</td>\n",
       "      <td>2009-05-01</td>\n",
       "      <td>10023.35</td>\n",
       "      <td>77.0</td>\n",
       "      <td>1280.0</td>\n",
       "      <td>3963.25</td>\n",
       "      <td>67.0</td>\n",
       "    </tr>\n",
       "    <tr>\n",
       "      <th>4472</th>\n",
       "      <td>0013600000VKQmI</td>\n",
       "      <td>Household</td>\n",
       "      <td>0</td>\n",
       "      <td>Pledge</td>\n",
       "      <td>NaN</td>\n",
       "      <td>2015-02-04</td>\n",
       "      <td>0</td>\n",
       "      <td>Richmond</td>\n",
       "      <td>VA</td>\n",
       "      <td>23222</td>\n",
       "      <td>...</td>\n",
       "      <td>Visa</td>\n",
       "      <td>NaT</td>\n",
       "      <td>NaN</td>\n",
       "      <td>0.0</td>\n",
       "      <td>2009-05-01</td>\n",
       "      <td>10023.35</td>\n",
       "      <td>77.0</td>\n",
       "      <td>1280.0</td>\n",
       "      <td>3963.25</td>\n",
       "      <td>67.0</td>\n",
       "    </tr>\n",
       "    <tr>\n",
       "      <th>4668</th>\n",
       "      <td>0013600000VKQlO</td>\n",
       "      <td>Individual</td>\n",
       "      <td>0</td>\n",
       "      <td>Pledge Payment</td>\n",
       "      <td>125.0</td>\n",
       "      <td>2015-03-19</td>\n",
       "      <td>0</td>\n",
       "      <td>Richmond</td>\n",
       "      <td>VA</td>\n",
       "      <td>23225-3502</td>\n",
       "      <td>...</td>\n",
       "      <td>NaN</td>\n",
       "      <td>NaT</td>\n",
       "      <td>NaN</td>\n",
       "      <td>0.0</td>\n",
       "      <td>2009-10-21</td>\n",
       "      <td>22182.67</td>\n",
       "      <td>138.0</td>\n",
       "      <td>300.0</td>\n",
       "      <td>2164.00</td>\n",
       "      <td>22.0</td>\n",
       "    </tr>\n",
       "    <tr>\n",
       "      <th>3282</th>\n",
       "      <td>0013600000VKQoW</td>\n",
       "      <td>Household</td>\n",
       "      <td>0</td>\n",
       "      <td>Pledge</td>\n",
       "      <td>NaN</td>\n",
       "      <td>2015-03-19</td>\n",
       "      <td>0</td>\n",
       "      <td>NaN</td>\n",
       "      <td>NaN</td>\n",
       "      <td>NaN</td>\n",
       "      <td>...</td>\n",
       "      <td>Visa</td>\n",
       "      <td>NaT</td>\n",
       "      <td>NaN</td>\n",
       "      <td>0.0</td>\n",
       "      <td>2012-09-15</td>\n",
       "      <td>6965.00</td>\n",
       "      <td>14.0</td>\n",
       "      <td>1110.0</td>\n",
       "      <td>1368.00</td>\n",
       "      <td>13.0</td>\n",
       "    </tr>\n",
       "    <tr>\n",
       "      <th>3283</th>\n",
       "      <td>0013600000VKQoW</td>\n",
       "      <td>Household</td>\n",
       "      <td>0</td>\n",
       "      <td>Pledge</td>\n",
       "      <td>NaN</td>\n",
       "      <td>2015-03-19</td>\n",
       "      <td>0</td>\n",
       "      <td>NaN</td>\n",
       "      <td>NaN</td>\n",
       "      <td>NaN</td>\n",
       "      <td>...</td>\n",
       "      <td>Visa</td>\n",
       "      <td>NaT</td>\n",
       "      <td>NaN</td>\n",
       "      <td>0.0</td>\n",
       "      <td>2012-09-15</td>\n",
       "      <td>6965.00</td>\n",
       "      <td>14.0</td>\n",
       "      <td>1110.0</td>\n",
       "      <td>1368.00</td>\n",
       "      <td>13.0</td>\n",
       "    </tr>\n",
       "    <tr>\n",
       "      <th>...</th>\n",
       "      <td>...</td>\n",
       "      <td>...</td>\n",
       "      <td>...</td>\n",
       "      <td>...</td>\n",
       "      <td>...</td>\n",
       "      <td>...</td>\n",
       "      <td>...</td>\n",
       "      <td>...</td>\n",
       "      <td>...</td>\n",
       "      <td>...</td>\n",
       "      <td>...</td>\n",
       "      <td>...</td>\n",
       "      <td>...</td>\n",
       "      <td>...</td>\n",
       "      <td>...</td>\n",
       "      <td>...</td>\n",
       "      <td>...</td>\n",
       "      <td>...</td>\n",
       "      <td>...</td>\n",
       "      <td>...</td>\n",
       "      <td>...</td>\n",
       "    </tr>\n",
       "    <tr>\n",
       "      <th>4455</th>\n",
       "      <td>0013600000VKQmI</td>\n",
       "      <td>Household</td>\n",
       "      <td>0</td>\n",
       "      <td>Pledge</td>\n",
       "      <td>NaN</td>\n",
       "      <td>2020-04-27</td>\n",
       "      <td>0</td>\n",
       "      <td>Richmond</td>\n",
       "      <td>VA</td>\n",
       "      <td>23222</td>\n",
       "      <td>...</td>\n",
       "      <td>Visa</td>\n",
       "      <td>NaT</td>\n",
       "      <td>NaN</td>\n",
       "      <td>0.0</td>\n",
       "      <td>2009-05-01</td>\n",
       "      <td>10023.35</td>\n",
       "      <td>77.0</td>\n",
       "      <td>1280.0</td>\n",
       "      <td>3963.25</td>\n",
       "      <td>67.0</td>\n",
       "    </tr>\n",
       "    <tr>\n",
       "      <th>4498</th>\n",
       "      <td>0013600000VKQmI</td>\n",
       "      <td>Household</td>\n",
       "      <td>0</td>\n",
       "      <td>Pledge</td>\n",
       "      <td>NaN</td>\n",
       "      <td>2020-05-16</td>\n",
       "      <td>0</td>\n",
       "      <td>Richmond</td>\n",
       "      <td>VA</td>\n",
       "      <td>23222</td>\n",
       "      <td>...</td>\n",
       "      <td>Visa</td>\n",
       "      <td>NaT</td>\n",
       "      <td>NaN</td>\n",
       "      <td>0.0</td>\n",
       "      <td>2009-05-01</td>\n",
       "      <td>10023.35</td>\n",
       "      <td>77.0</td>\n",
       "      <td>1280.0</td>\n",
       "      <td>3963.25</td>\n",
       "      <td>67.0</td>\n",
       "    </tr>\n",
       "    <tr>\n",
       "      <th>4500</th>\n",
       "      <td>0013600000VKQmI</td>\n",
       "      <td>Household</td>\n",
       "      <td>0</td>\n",
       "      <td>Pledge</td>\n",
       "      <td>NaN</td>\n",
       "      <td>2020-05-16</td>\n",
       "      <td>0</td>\n",
       "      <td>Richmond</td>\n",
       "      <td>VA</td>\n",
       "      <td>23222</td>\n",
       "      <td>...</td>\n",
       "      <td>Visa</td>\n",
       "      <td>NaT</td>\n",
       "      <td>NaN</td>\n",
       "      <td>0.0</td>\n",
       "      <td>2009-05-01</td>\n",
       "      <td>10023.35</td>\n",
       "      <td>77.0</td>\n",
       "      <td>1280.0</td>\n",
       "      <td>3963.25</td>\n",
       "      <td>67.0</td>\n",
       "    </tr>\n",
       "    <tr>\n",
       "      <th>4488</th>\n",
       "      <td>0013600000VKQmI</td>\n",
       "      <td>Household</td>\n",
       "      <td>0</td>\n",
       "      <td>Pledge</td>\n",
       "      <td>NaN</td>\n",
       "      <td>2020-11-03</td>\n",
       "      <td>0</td>\n",
       "      <td>Richmond</td>\n",
       "      <td>VA</td>\n",
       "      <td>23222</td>\n",
       "      <td>...</td>\n",
       "      <td>Visa</td>\n",
       "      <td>NaT</td>\n",
       "      <td>NaN</td>\n",
       "      <td>0.0</td>\n",
       "      <td>2009-05-01</td>\n",
       "      <td>10023.35</td>\n",
       "      <td>77.0</td>\n",
       "      <td>1280.0</td>\n",
       "      <td>3963.25</td>\n",
       "      <td>67.0</td>\n",
       "    </tr>\n",
       "    <tr>\n",
       "      <th>1179</th>\n",
       "      <td>0013600000ggdlM</td>\n",
       "      <td>Individual</td>\n",
       "      <td>0</td>\n",
       "      <td>Donation</td>\n",
       "      <td>100.0</td>\n",
       "      <td>2020-12-21</td>\n",
       "      <td>0</td>\n",
       "      <td>NaN</td>\n",
       "      <td>NaN</td>\n",
       "      <td>NaN</td>\n",
       "      <td>...</td>\n",
       "      <td>NaN</td>\n",
       "      <td>NaT</td>\n",
       "      <td>100.0</td>\n",
       "      <td>0.0</td>\n",
       "      <td>2019-12-26</td>\n",
       "      <td>125.00</td>\n",
       "      <td>2.0</td>\n",
       "      <td>0.0</td>\n",
       "      <td>84.00</td>\n",
       "      <td>7.0</td>\n",
       "    </tr>\n",
       "  </tbody>\n",
       "</table>\n",
       "<p>142 rows × 33 columns</p>\n",
       "</div>"
      ],
      "text/plain": [
       "           account_id account_record_type do_not_mail donation_record_type  \\\n",
       "4471  0013600000VKQmI           Household           0               Pledge   \n",
       "4472  0013600000VKQmI           Household           0               Pledge   \n",
       "4668  0013600000VKQlO          Individual           0       Pledge Payment   \n",
       "3282  0013600000VKQoW           Household           0               Pledge   \n",
       "3283  0013600000VKQoW           Household           0               Pledge   \n",
       "...               ...                 ...         ...                  ...   \n",
       "4455  0013600000VKQmI           Household           0               Pledge   \n",
       "4498  0013600000VKQmI           Household           0               Pledge   \n",
       "4500  0013600000VKQmI           Household           0               Pledge   \n",
       "4488  0013600000VKQmI           Household           0               Pledge   \n",
       "1179  0013600000ggdlM          Individual           0             Donation   \n",
       "\n",
       "      amount close_date email_opt_out mailing_city mailing_state mailing_zip  \\\n",
       "4471     NaN 2015-02-04             0     Richmond            VA       23222   \n",
       "4472     NaN 2015-02-04             0     Richmond            VA       23222   \n",
       "4668   125.0 2015-03-19             0     Richmond            VA  23225-3502   \n",
       "3282     NaN 2015-03-19             0          NaN           NaN         NaN   \n",
       "3283     NaN 2015-03-19             0          NaN           NaN         NaN   \n",
       "...      ...        ...           ...          ...           ...         ...   \n",
       "4455     NaN 2020-04-27             0     Richmond            VA       23222   \n",
       "4498     NaN 2020-05-16             0     Richmond            VA       23222   \n",
       "4500     NaN 2020-05-16             0     Richmond            VA       23222   \n",
       "4488     NaN 2020-11-03             0     Richmond            VA       23222   \n",
       "1179   100.0 2020-12-21             0          NaN           NaN         NaN   \n",
       "\n",
       "      ... card_type check_date grant_amount  matching_amount  \\\n",
       "4471  ...      Visa        NaT          NaN              0.0   \n",
       "4472  ...      Visa        NaT          NaN              0.0   \n",
       "4668  ...       NaN        NaT          NaN              0.0   \n",
       "3282  ...      Visa        NaT          NaN              0.0   \n",
       "3283  ...      Visa        NaT          NaN              0.0   \n",
       "...   ...       ...        ...          ...              ...   \n",
       "4455  ...      Visa        NaT          NaN              0.0   \n",
       "4498  ...      Visa        NaT          NaN              0.0   \n",
       "4500  ...      Visa        NaT          NaN              0.0   \n",
       "4488  ...      Visa        NaT          NaN              0.0   \n",
       "1179  ...       NaN        NaT        100.0              0.0   \n",
       "\n",
       "     first_donation_date lifetime_donation_total_amount  \\\n",
       "4471          2009-05-01                       10023.35   \n",
       "4472          2009-05-01                       10023.35   \n",
       "4668          2009-10-21                       22182.67   \n",
       "3282          2012-09-15                        6965.00   \n",
       "3283          2012-09-15                        6965.00   \n",
       "...                  ...                            ...   \n",
       "4455          2009-05-01                       10023.35   \n",
       "4498          2009-05-01                       10023.35   \n",
       "4500          2009-05-01                       10023.35   \n",
       "4488          2009-05-01                       10023.35   \n",
       "1179          2019-12-26                         125.00   \n",
       "\n",
       "     lifetime_donation_count lifetime_subscription_purchase_total  \\\n",
       "4471                    77.0                               1280.0   \n",
       "4472                    77.0                               1280.0   \n",
       "4668                   138.0                                300.0   \n",
       "3282                    14.0                               1110.0   \n",
       "3283                    14.0                               1110.0   \n",
       "...                      ...                                  ...   \n",
       "4455                    77.0                               1280.0   \n",
       "4498                    77.0                               1280.0   \n",
       "4500                    77.0                               1280.0   \n",
       "4488                    77.0                               1280.0   \n",
       "1179                     2.0                                  0.0   \n",
       "\n",
       "     lifetime_single_ticket_purchase_total  lifetime_order_count  \n",
       "4471                               3963.25                  67.0  \n",
       "4472                               3963.25                  67.0  \n",
       "4668                               2164.00                  22.0  \n",
       "3282                               1368.00                  13.0  \n",
       "3283                               1368.00                  13.0  \n",
       "...                                    ...                   ...  \n",
       "4455                               3963.25                  67.0  \n",
       "4498                               3963.25                  67.0  \n",
       "4500                               3963.25                  67.0  \n",
       "4488                               3963.25                  67.0  \n",
       "1179                                 84.00                   7.0  \n",
       "\n",
       "[142 rows x 33 columns]"
      ]
     },
     "execution_count": 11,
     "metadata": {},
     "output_type": "execute_result"
    }
   ],
   "source": [
    "donations.loc[donations.payment_type.isna()].sort_values('close_date')"
   ]
  },
  {
   "cell_type": "code",
   "execution_count": 12,
   "metadata": {},
   "outputs": [],
   "source": [
    "#Assign the remaining records to check\n",
    "donations.loc[donations['payment_type'].isna(), 'payment_type'] = \"Check\""
   ]
  },
  {
   "cell_type": "code",
   "execution_count": 13,
   "metadata": {},
   "outputs": [],
   "source": [
    "#Select donations where close_date > '2015-07-01'\n",
    "donations = donations[donations.close_date > '2015-06-30']"
   ]
  },
  {
   "cell_type": "code",
   "execution_count": 14,
   "metadata": {},
   "outputs": [],
   "source": [
    "#Subset the pledge records from the actual donations\n",
    "pledges = donations[donations.donation_record_type == 'Pledge']"
   ]
  },
  {
   "cell_type": "code",
   "execution_count": 15,
   "metadata": {},
   "outputs": [],
   "source": [
    "#Select only donations applicable to stewardship program (i.e. hh or individual account record type; fund == annual fund; \n",
    "#donation records type isin(['Donation', 'PatronTicket Donation', 'Pledge Payment', 'Grant', 'Matching Donation']))\n",
    "donations = donations[donations.donation_record_type.isin(['Donation', 'PatronTicket Donation', 'Pledge Payment', 'Grant', 'Matching Donation'])]"
   ]
  },
  {
   "cell_type": "code",
   "execution_count": 16,
   "metadata": {},
   "outputs": [],
   "source": [
    "#Filter out the donation record(s) id-ed above where amount is nan\n",
    "donations = donations[donations.amount.notnull()].reset_index(drop=True)"
   ]
  },
  {
   "cell_type": "code",
   "execution_count": 17,
   "metadata": {},
   "outputs": [],
   "source": [
    "#Remove PatronManager Client Services records from analysis (i.e account_id == '0013600000TKzRp')\n",
    "donations = donations[donations.account_id != '0013600000TKzRp']"
   ]
  },
  {
   "cell_type": "code",
   "execution_count": null,
   "metadata": {},
   "outputs": [],
   "source": []
  },
  {
   "cell_type": "markdown",
   "metadata": {},
   "source": [
    "**Segment Annual Fund**"
   ]
  },
  {
   "cell_type": "code",
   "execution_count": 18,
   "metadata": {},
   "outputs": [],
   "source": [
    "aFund = donations.loc[donations.fund == 'Annual Fund', :].copy().reset_index(drop=True)\n",
    "\n",
    "#Remove the In Kind donations as they are not driven by campaigns that raise money for the annual fund:\n",
    "aFund = aFund[aFund.payment_type != 'In Kind']"
   ]
  },
  {
   "cell_type": "code",
   "execution_count": 21,
   "metadata": {},
   "outputs": [
    {
     "data": {
      "text/plain": [
       "close_date\n",
       "2015-07-09    3\n",
       "2015-07-14    3\n",
       "2015-08-03    4\n",
       "2015-08-10    2\n",
       "2015-08-11    1\n",
       "             ..\n",
       "2021-01-16    5\n",
       "2021-01-17    2\n",
       "2021-01-18    3\n",
       "2021-01-19    2\n",
       "2021-01-20    2\n",
       "Name: account_id, Length: 1024, dtype: int64"
      ]
     },
     "execution_count": 21,
     "metadata": {},
     "output_type": "execute_result"
    }
   ],
   "source": [
    "aFund.groupby('close_date')['account_id'].size()"
   ]
  },
  {
   "cell_type": "code",
   "execution_count": 28,
   "metadata": {},
   "outputs": [
    {
     "data": {
      "image/png": "[encoded data removed]",
      "text/plain": [
       "<Figure size 1080x720 with 1 Axes>"
      ]
     },
     "metadata": {},
     "output_type": "display_data"
    }
   ],
   "source": [
    "#Plot the daily annual fund donation totals\n",
    "\n",
    "#set style\n",
    "sns.set(style='darkgrid')\n",
    "\n",
    "#Adjust the plot size\n",
    "plt.figure(figsize=[15,10])\n",
    "\n",
    "#Line Plot\n",
    "sns.lineplot(x=aFund.groupby('close_date')['account_id'].size().index, y=aFund.groupby('close_date')['account_id'].size().values, color='green')\n",
    "\n",
    "#Assign axis labels:\n",
    "plt.ylabel('# of Annual Fund Donations', fontsize=14)\n",
    "plt.xlabel('Close Date', fontsize=14)\n",
    "plt.title('Number of Annual Fund Donations by Date', fontsize=16)\n",
    "plt.show()"
   ]
  },
  {
   "cell_type": "code",
   "execution_count": 27,
   "metadata": {},
   "outputs": [
    {
     "data": {
      "text/plain": [
       "close_date\n",
       "2018-04-19    226\n",
       "2020-06-30    194\n",
       "2019-04-18    149\n",
       "2020-12-01    144\n",
       "2020-06-29     77\n",
       "             ... \n",
       "2019-11-26      1\n",
       "2019-11-25      1\n",
       "2019-11-20      1\n",
       "2018-04-07      1\n",
       "2019-01-02      1\n",
       "Name: account_id, Length: 1024, dtype: int64"
      ]
     },
     "execution_count": 27,
     "metadata": {},
     "output_type": "execute_result"
    }
   ],
   "source": [
    "aFund.groupby('close_date')['account_id'].size().sort_values(ascending=False)"
   ]
  },
  {
   "cell_type": "markdown",
   "metadata": {},
   "source": [
    "**4 of the 5 days with the highest annual fund donation volume have been within the past 1.5 years.**"
   ]
  },
  {
   "cell_type": "code",
   "execution_count": 32,
   "metadata": {},
   "outputs": [
    {
     "data": {
      "text/plain": [
       "2020    1475\n",
       "2019     917\n",
       "2018     867\n",
       "2017     412\n",
       "2016     334\n",
       "2015      68\n",
       "2021      54\n",
       "Name: close_year, dtype: int64"
      ]
     },
     "execution_count": 32,
     "metadata": {},
     "output_type": "execute_result"
    }
   ],
   "source": [
    "aFund['close_year'] = aFund.close_date.dt.year\n",
    "aFund['close_year'].value_counts()"
   ]
  },
  {
   "cell_type": "code",
   "execution_count": 33,
   "metadata": {},
   "outputs": [
    {
     "data": {
      "text/plain": [
       "12    881\n",
       "6     661\n",
       "4     656\n",
       "5     426\n",
       "11    329\n",
       "1     239\n",
       "7     185\n",
       "9     176\n",
       "10    169\n",
       "2     148\n",
       "8     145\n",
       "3     112\n",
       "Name: close_month, dtype: int64"
      ]
     },
     "execution_count": 33,
     "metadata": {},
     "output_type": "execute_result"
    }
   ],
   "source": [
    "aFund['close_month'] = aFund.close_date.dt.month\n",
    "aFund['close_month'].value_counts()"
   ]
  },
  {
   "cell_type": "code",
   "execution_count": 63,
   "metadata": {},
   "outputs": [
    {
     "data": {
      "text/html": [
       "<div>\n",
       "<style scoped>\n",
       "    .dataframe tbody tr th:only-of-type {\n",
       "        vertical-align: middle;\n",
       "    }\n",
       "\n",
       "    .dataframe tbody tr th {\n",
       "        vertical-align: top;\n",
       "    }\n",
       "\n",
       "    .dataframe thead th {\n",
       "        text-align: right;\n",
       "    }\n",
       "</style>\n",
       "<table border=\"1\" class=\"dataframe\">\n",
       "  <thead>\n",
       "    <tr style=\"text-align: right;\">\n",
       "      <th></th>\n",
       "      <th>close_year</th>\n",
       "      <th>close_month</th>\n",
       "      <th># of donations</th>\n",
       "    </tr>\n",
       "  </thead>\n",
       "  <tbody>\n",
       "    <tr>\n",
       "      <th>0</th>\n",
       "      <td>2015</td>\n",
       "      <td>7</td>\n",
       "      <td>6</td>\n",
       "    </tr>\n",
       "    <tr>\n",
       "      <th>1</th>\n",
       "      <td>2015</td>\n",
       "      <td>8</td>\n",
       "      <td>7</td>\n",
       "    </tr>\n",
       "    <tr>\n",
       "      <th>2</th>\n",
       "      <td>2015</td>\n",
       "      <td>9</td>\n",
       "      <td>2</td>\n",
       "    </tr>\n",
       "    <tr>\n",
       "      <th>3</th>\n",
       "      <td>2015</td>\n",
       "      <td>10</td>\n",
       "      <td>1</td>\n",
       "    </tr>\n",
       "    <tr>\n",
       "      <th>4</th>\n",
       "      <td>2015</td>\n",
       "      <td>11</td>\n",
       "      <td>5</td>\n",
       "    </tr>\n",
       "  </tbody>\n",
       "</table>\n",
       "</div>"
      ],
      "text/plain": [
       "   close_year  close_month  # of donations\n",
       "0        2015            7               6\n",
       "1        2015            8               7\n",
       "2        2015            9               2\n",
       "3        2015           10               1\n",
       "4        2015           11               5"
      ]
     },
     "execution_count": 63,
     "metadata": {},
     "output_type": "execute_result"
    }
   ],
   "source": [
    "aFundDons_by_close_month = aFund.groupby(['close_year', 'close_month']).size().reset_index()\n",
    "aFundDons_by_close_month.columns = ['close_year', 'close_month', '# of donations']\n",
    "aFundDons_by_close_month.head()"
   ]
  },
  {
   "cell_type": "code",
   "execution_count": 44,
   "metadata": {},
   "outputs": [
    {
     "data": {
      "text/plain": [
       "2020    12\n",
       "2019    12\n",
       "2018    12\n",
       "2017    12\n",
       "2016    11\n",
       "2015     6\n",
       "2021     1\n",
       "Name: close_year, dtype: int64"
      ]
     },
     "execution_count": 44,
     "metadata": {},
     "output_type": "execute_result"
    }
   ],
   "source": [
    "aFundDons_by_close_month['close_year'].value_counts()"
   ]
  },
  {
   "cell_type": "code",
   "execution_count": 67,
   "metadata": {},
   "outputs": [
    {
     "data": {
      "image/png": "[encoded data removed]",
      "text/plain": [
       "<Figure size 1080x720 with 1 Axes>"
      ]
     },
     "metadata": {},
     "output_type": "display_data"
    }
   ],
   "source": [
    "#Plot the daily annual fund donation totals\n",
    "\n",
    "#set style\n",
    "sns.set(style='darkgrid')\n",
    "\n",
    "#Adjust the plot size\n",
    "plt.figure(figsize=[15,10])\n",
    "\n",
    "#Line Plot\n",
    "sns.lineplot(x='close_month', y='# of donations', hue=aFundDons_by_close_month['close_year'].astype('category'),\n",
    "             hue_order=[2015, 2016, 2017, 2018, 2019, 2020, 2021],\n",
    "             palette='rainbow', lw=4,\n",
    "             data=aFundDons_by_close_month)\n",
    "\n",
    "#Assign axis labels:\n",
    "plt.ylabel('# of Annual Fund Donations', fontsize=14)\n",
    "plt.xlabel('Donation Month', fontsize=14)\n",
    "plt.title('Number of Annual Fund Donations by Month', fontsize=16)\n",
    "plt.show()"
   ]
  },
  {
   "cell_type": "code",
   "execution_count": 37,
   "metadata": {
    "scrolled": true
   },
   "outputs": [
    {
     "data": {
      "text/html": [
       "<div>\n",
       "<style scoped>\n",
       "    .dataframe tbody tr th:only-of-type {\n",
       "        vertical-align: middle;\n",
       "    }\n",
       "\n",
       "    .dataframe tbody tr th {\n",
       "        vertical-align: top;\n",
       "    }\n",
       "\n",
       "    .dataframe thead th {\n",
       "        text-align: right;\n",
       "    }\n",
       "</style>\n",
       "<table border=\"1\" class=\"dataframe\">\n",
       "  <thead>\n",
       "    <tr style=\"text-align: right;\">\n",
       "      <th></th>\n",
       "      <th>close_year</th>\n",
       "      <th>close_month</th>\n",
       "      <th>account_id</th>\n",
       "    </tr>\n",
       "  </thead>\n",
       "  <tbody>\n",
       "    <tr>\n",
       "      <th>0</th>\n",
       "      <td>2015</td>\n",
       "      <td>7</td>\n",
       "      <td>6</td>\n",
       "    </tr>\n",
       "    <tr>\n",
       "      <th>1</th>\n",
       "      <td>2015</td>\n",
       "      <td>8</td>\n",
       "      <td>7</td>\n",
       "    </tr>\n",
       "    <tr>\n",
       "      <th>2</th>\n",
       "      <td>2015</td>\n",
       "      <td>9</td>\n",
       "      <td>2</td>\n",
       "    </tr>\n",
       "    <tr>\n",
       "      <th>3</th>\n",
       "      <td>2015</td>\n",
       "      <td>10</td>\n",
       "      <td>1</td>\n",
       "    </tr>\n",
       "    <tr>\n",
       "      <th>4</th>\n",
       "      <td>2015</td>\n",
       "      <td>11</td>\n",
       "      <td>5</td>\n",
       "    </tr>\n",
       "    <tr>\n",
       "      <th>...</th>\n",
       "      <td>...</td>\n",
       "      <td>...</td>\n",
       "      <td>...</td>\n",
       "    </tr>\n",
       "    <tr>\n",
       "      <th>61</th>\n",
       "      <td>2020</td>\n",
       "      <td>9</td>\n",
       "      <td>38</td>\n",
       "    </tr>\n",
       "    <tr>\n",
       "      <th>62</th>\n",
       "      <td>2020</td>\n",
       "      <td>10</td>\n",
       "      <td>48</td>\n",
       "    </tr>\n",
       "    <tr>\n",
       "      <th>63</th>\n",
       "      <td>2020</td>\n",
       "      <td>11</td>\n",
       "      <td>47</td>\n",
       "    </tr>\n",
       "    <tr>\n",
       "      <th>64</th>\n",
       "      <td>2020</td>\n",
       "      <td>12</td>\n",
       "      <td>336</td>\n",
       "    </tr>\n",
       "    <tr>\n",
       "      <th>65</th>\n",
       "      <td>2021</td>\n",
       "      <td>1</td>\n",
       "      <td>54</td>\n",
       "    </tr>\n",
       "  </tbody>\n",
       "</table>\n",
       "<p>66 rows × 3 columns</p>\n",
       "</div>"
      ],
      "text/plain": [
       "    close_year  close_month  account_id\n",
       "0         2015            7           6\n",
       "1         2015            8           7\n",
       "2         2015            9           2\n",
       "3         2015           10           1\n",
       "4         2015           11           5\n",
       "..         ...          ...         ...\n",
       "61        2020            9          38\n",
       "62        2020           10          48\n",
       "63        2020           11          47\n",
       "64        2020           12         336\n",
       "65        2021            1          54\n",
       "\n",
       "[66 rows x 3 columns]"
      ]
     },
     "execution_count": 37,
     "metadata": {},
     "output_type": "execute_result"
    }
   ],
   "source": [
    "aFund.groupby(['close_year', 'close_month'])['account_id'].count().reset_index()"
   ]
  },
  {
   "cell_type": "code",
   "execution_count": 70,
   "metadata": {},
   "outputs": [
    {
     "data": {
      "text/html": [
       "<div>\n",
       "<style scoped>\n",
       "    .dataframe tbody tr th:only-of-type {\n",
       "        vertical-align: middle;\n",
       "    }\n",
       "\n",
       "    .dataframe tbody tr th {\n",
       "        vertical-align: top;\n",
       "    }\n",
       "\n",
       "    .dataframe thead th {\n",
       "        text-align: right;\n",
       "    }\n",
       "</style>\n",
       "<table border=\"1\" class=\"dataframe\">\n",
       "  <thead>\n",
       "    <tr style=\"text-align: right;\">\n",
       "      <th></th>\n",
       "      <th>account_id</th>\n",
       "      <th>num_donations</th>\n",
       "    </tr>\n",
       "  </thead>\n",
       "  <tbody>\n",
       "    <tr>\n",
       "      <th>0</th>\n",
       "      <td>0011R00001yzm4S</td>\n",
       "      <td>1</td>\n",
       "    </tr>\n",
       "    <tr>\n",
       "      <th>1</th>\n",
       "      <td>0011R00001zaq0m</td>\n",
       "      <td>1</td>\n",
       "    </tr>\n",
       "    <tr>\n",
       "      <th>2</th>\n",
       "      <td>0011R00001zbJNc</td>\n",
       "      <td>2</td>\n",
       "    </tr>\n",
       "    <tr>\n",
       "      <th>3</th>\n",
       "      <td>0011R00001zbJO4</td>\n",
       "      <td>1</td>\n",
       "    </tr>\n",
       "    <tr>\n",
       "      <th>4</th>\n",
       "      <td>0011R00001zcCFw</td>\n",
       "      <td>1</td>\n",
       "    </tr>\n",
       "  </tbody>\n",
       "</table>\n",
       "</div>"
      ],
      "text/plain": [
       "        account_id  num_donations\n",
       "0  0011R00001yzm4S              1\n",
       "1  0011R00001zaq0m              1\n",
       "2  0011R00001zbJNc              2\n",
       "3  0011R00001zbJO4              1\n",
       "4  0011R00001zcCFw              1"
      ]
     },
     "execution_count": 70,
     "metadata": {},
     "output_type": "execute_result"
    }
   ],
   "source": [
    "#How many donations did each account make over this review period?\n",
    "donor_gifts = aFund.groupby(['account_id']).size().reset_index()\n",
    "donor_gifts.columns = ['account_id', 'num_donations']\n",
    "donor_gifts.head()"
   ]
  },
  {
   "cell_type": "code",
   "execution_count": 71,
   "metadata": {},
   "outputs": [
    {
     "data": {
      "text/plain": [
       "Text(0.5, 1.0, 'Annual Fund Donation Counts By Donor')"
      ]
     },
     "execution_count": 71,
     "metadata": {},
     "output_type": "execute_result"
    },
    {
     "data": {
      "image/png": "[encoded data removed]",
      "text/plain": [
       "<Figure size 864x648 with 1 Axes>"
      ]
     },
     "metadata": {},
     "output_type": "display_data"
    }
   ],
   "source": [
    "#set style\n",
    "sns.set(style='darkgrid')\n",
    "\n",
    "#Adjust the plot size\n",
    "plt.figure(figsize=[12,9])\n",
    "\n",
    "sns.distplot(donor_gifts.num_donations, kde=False)\n",
    "\n",
    "#Assign axis labels:\n",
    "plt.xlabel('Number of Donations', fontsize=14)\n",
    "plt.ylabel('Annual Fund Donors', fontsize=14)\n",
    "#plt.xticks(rotation=45)\n",
    "plt.title('Annual Fund Donation Counts By Donor', fontsize=14)"
   ]
  },
  {
   "cell_type": "markdown",
   "metadata": {},
   "source": [
    "# Binary Classification Model"
   ]
  },
  {
   "cell_type": "markdown",
   "metadata": {},
   "source": [
    "**We'll build a model to predict whether a donor will give in the coming six month period.**"
   ]
  },
  {
   "cell_type": "markdown",
   "metadata": {},
   "source": [
    "*As such, we'll split the data on close_date field to create the model_window (including all donations between 2015-07-01 and the snapshot date of 2020-06-30) as well as the prediction window, which includes all donations made between 2020-07-01 and 2020-12-31.*"
   ]
  },
  {
   "cell_type": "code",
   "execution_count": 111,
   "metadata": {},
   "outputs": [],
   "source": [
    "snapshot_date = pd.to_datetime('2020-06-30')"
   ]
  },
  {
   "cell_type": "code",
   "execution_count": 112,
   "metadata": {},
   "outputs": [
    {
     "data": {
      "text/plain": [
       "Timestamp('2020-06-30 00:00:00')"
      ]
     },
     "execution_count": 112,
     "metadata": {},
     "output_type": "execute_result"
    }
   ],
   "source": [
    "snapshot_date"
   ]
  },
  {
   "cell_type": "code",
   "execution_count": 113,
   "metadata": {},
   "outputs": [],
   "source": [
    "#aFund['close_date'] = aFund['close_date'].astype('datetime64[ns]')\n",
    "aFund['close_date'] = pd.to_datetime(aFund['close_date'].astype('str'))"
   ]
  },
  {
   "cell_type": "code",
   "execution_count": 114,
   "metadata": {
    "scrolled": true
   },
   "outputs": [
    {
     "data": {
      "text/plain": [
       "(4127, 3551)"
      ]
     },
     "execution_count": 114,
     "metadata": {},
     "output_type": "execute_result"
    }
   ],
   "source": [
    "#Filter the data to create the modeling window for analysis\n",
    "model_window = aFund.loc[aFund['close_date'] <= snapshot_date].reset_index()\n",
    "\n",
    "len(aFund), len(model_window)"
   ]
  },
  {
   "cell_type": "code",
   "execution_count": 115,
   "metadata": {},
   "outputs": [],
   "source": [
    "#Filter out donations made after 2020-12-31 so that the prediction window is limited to the 6-month interval\n",
    "aFund_filtered = aFund.loc[aFund['close_date'] <= pd.to_datetime('2020-12-31')].sort_values('close_date', ascending=False).reset_index()"
   ]
  },
  {
   "cell_type": "code",
   "execution_count": 116,
   "metadata": {},
   "outputs": [
    {
     "data": {
      "text/plain": [
       "(4073, 3551)"
      ]
     },
     "execution_count": 116,
     "metadata": {},
     "output_type": "execute_result"
    }
   ],
   "source": [
    "len(aFund_filtered), len(model_window)"
   ]
  },
  {
   "cell_type": "code",
   "execution_count": 117,
   "metadata": {},
   "outputs": [
    {
     "data": {
      "text/plain": [
       "(Timestamp('2020-12-31 00:00:00'), Timestamp('2015-07-09 00:00:00'))"
      ]
     },
     "execution_count": 117,
     "metadata": {},
     "output_type": "execute_result"
    }
   ],
   "source": [
    "#Confirm accuracy of start and end dates for aFund_filtered\n",
    "aFund_filtered.close_date.max(), aFund_filtered.close_date.min()"
   ]
  },
  {
   "cell_type": "code",
   "execution_count": 118,
   "metadata": {},
   "outputs": [
    {
     "data": {
      "text/plain": [
       "(Timestamp('2020-06-30 00:00:00'), Timestamp('2015-07-09 00:00:00'))"
      ]
     },
     "execution_count": 118,
     "metadata": {},
     "output_type": "execute_result"
    }
   ],
   "source": [
    "#Confirm accuracy of start and end dates for aFund_filtered\n",
    "model_window.close_date.max(), model_window.close_date.min()"
   ]
  },
  {
   "cell_type": "markdown",
   "metadata": {},
   "source": [
    "# Feature engineering"
   ]
  },
  {
   "cell_type": "markdown",
   "metadata": {},
   "source": [
    "Extract the most recent donation by each unique donor account in order to calculate donor recency (number of days between beginning of period and the snapshot date)"
   ]
  },
  {
   "cell_type": "markdown",
   "metadata": {},
   "source": [
    "**Feature #1: donor_recency**"
   ]
  },
  {
   "cell_type": "code",
   "execution_count": 119,
   "metadata": {},
   "outputs": [
    {
     "data": {
      "text/html": [
       "<div>\n",
       "<style scoped>\n",
       "    .dataframe tbody tr th:only-of-type {\n",
       "        vertical-align: middle;\n",
       "    }\n",
       "\n",
       "    .dataframe tbody tr th {\n",
       "        vertical-align: top;\n",
       "    }\n",
       "\n",
       "    .dataframe thead th {\n",
       "        text-align: right;\n",
       "    }\n",
       "</style>\n",
       "<table border=\"1\" class=\"dataframe\">\n",
       "  <thead>\n",
       "    <tr style=\"text-align: right;\">\n",
       "      <th></th>\n",
       "      <th>account_id</th>\n",
       "      <th>close_date</th>\n",
       "    </tr>\n",
       "  </thead>\n",
       "  <tbody>\n",
       "    <tr>\n",
       "      <th>0</th>\n",
       "      <td>0011R00001yzm4S</td>\n",
       "      <td>2018-10-20</td>\n",
       "    </tr>\n",
       "    <tr>\n",
       "      <th>1</th>\n",
       "      <td>0011R00001zaq0m</td>\n",
       "      <td>2020-06-15</td>\n",
       "    </tr>\n",
       "    <tr>\n",
       "      <th>2</th>\n",
       "      <td>0011R00001zbJO4</td>\n",
       "      <td>2019-04-18</td>\n",
       "    </tr>\n",
       "    <tr>\n",
       "      <th>3</th>\n",
       "      <td>0011R0000203w1Q</td>\n",
       "      <td>2019-02-23</td>\n",
       "    </tr>\n",
       "    <tr>\n",
       "      <th>4</th>\n",
       "      <td>0011R000020JELD</td>\n",
       "      <td>2018-11-13</td>\n",
       "    </tr>\n",
       "  </tbody>\n",
       "</table>\n",
       "</div>"
      ],
      "text/plain": [
       "        account_id close_date\n",
       "0  0011R00001yzm4S 2018-10-20\n",
       "1  0011R00001zaq0m 2020-06-15\n",
       "2  0011R00001zbJO4 2019-04-18\n",
       "3  0011R0000203w1Q 2019-02-23\n",
       "4  0011R000020JELD 2018-11-13"
      ]
     },
     "execution_count": 119,
     "metadata": {},
     "output_type": "execute_result"
    }
   ],
   "source": [
    "#Get max date for each accounts' donation\n",
    "donor_recency = model_window.groupby('account_id')['close_date'].max().reset_index()\n",
    "donor_recency.head()"
   ]
  },
  {
   "cell_type": "code",
   "execution_count": 120,
   "metadata": {},
   "outputs": [
    {
     "data": {
      "text/plain": [
       "0   619 days\n",
       "1    15 days\n",
       "2   439 days\n",
       "3   493 days\n",
       "4   595 days\n",
       "Name: close_date, dtype: timedelta64[ns]"
      ]
     },
     "execution_count": 120,
     "metadata": {},
     "output_type": "execute_result"
    }
   ],
   "source": [
    "#Count number of days between donor_recency date and the snapshot date\n",
    "#donor_recency['close_date'] = pd.to_datetime(donor_recency['close_date'].astype('str'))\n",
    "delta = snapshot_date - donor_recency['close_date']\n",
    "delta.head()"
   ]
  },
  {
   "cell_type": "code",
   "execution_count": 121,
   "metadata": {},
   "outputs": [
    {
     "data": {
      "text/html": [
       "<div>\n",
       "<style scoped>\n",
       "    .dataframe tbody tr th:only-of-type {\n",
       "        vertical-align: middle;\n",
       "    }\n",
       "\n",
       "    .dataframe tbody tr th {\n",
       "        vertical-align: top;\n",
       "    }\n",
       "\n",
       "    .dataframe thead th {\n",
       "        text-align: right;\n",
       "    }\n",
       "</style>\n",
       "<table border=\"1\" class=\"dataframe\">\n",
       "  <thead>\n",
       "    <tr style=\"text-align: right;\">\n",
       "      <th></th>\n",
       "      <th>account_id</th>\n",
       "      <th>close_date</th>\n",
       "      <th>donation_recency</th>\n",
       "    </tr>\n",
       "  </thead>\n",
       "  <tbody>\n",
       "    <tr>\n",
       "      <th>0</th>\n",
       "      <td>0011R00001yzm4S</td>\n",
       "      <td>2018-10-20</td>\n",
       "      <td>619</td>\n",
       "    </tr>\n",
       "    <tr>\n",
       "      <th>1</th>\n",
       "      <td>0011R00001zaq0m</td>\n",
       "      <td>2020-06-15</td>\n",
       "      <td>15</td>\n",
       "    </tr>\n",
       "    <tr>\n",
       "      <th>2</th>\n",
       "      <td>0011R00001zbJO4</td>\n",
       "      <td>2019-04-18</td>\n",
       "      <td>439</td>\n",
       "    </tr>\n",
       "    <tr>\n",
       "      <th>3</th>\n",
       "      <td>0011R0000203w1Q</td>\n",
       "      <td>2019-02-23</td>\n",
       "      <td>493</td>\n",
       "    </tr>\n",
       "    <tr>\n",
       "      <th>4</th>\n",
       "      <td>0011R000020JELD</td>\n",
       "      <td>2018-11-13</td>\n",
       "      <td>595</td>\n",
       "    </tr>\n",
       "  </tbody>\n",
       "</table>\n",
       "</div>"
      ],
      "text/plain": [
       "        account_id close_date  donation_recency\n",
       "0  0011R00001yzm4S 2018-10-20               619\n",
       "1  0011R00001zaq0m 2020-06-15                15\n",
       "2  0011R00001zbJO4 2019-04-18               439\n",
       "3  0011R0000203w1Q 2019-02-23               493\n",
       "4  0011R000020JELD 2018-11-13               595"
      ]
     },
     "execution_count": 121,
     "metadata": {},
     "output_type": "execute_result"
    }
   ],
   "source": [
    "#Convert this timedelta feature into an integer field inside the donor_recency df\n",
    "donor_recency['donation_recency'] = delta.dt.days\n",
    "donor_recency.head()"
   ]
  },
  {
   "cell_type": "code",
   "execution_count": 122,
   "metadata": {},
   "outputs": [],
   "source": [
    "#Drop the close_date from this df since we're finished with it here\n",
    "donor_recency.drop('close_date', axis=1, inplace=True)"
   ]
  },
  {
   "cell_type": "code",
   "execution_count": 123,
   "metadata": {},
   "outputs": [
    {
     "data": {
      "text/html": [
       "<div>\n",
       "<style scoped>\n",
       "    .dataframe tbody tr th:only-of-type {\n",
       "        vertical-align: middle;\n",
       "    }\n",
       "\n",
       "    .dataframe tbody tr th {\n",
       "        vertical-align: top;\n",
       "    }\n",
       "\n",
       "    .dataframe thead th {\n",
       "        text-align: right;\n",
       "    }\n",
       "</style>\n",
       "<table border=\"1\" class=\"dataframe\">\n",
       "  <thead>\n",
       "    <tr style=\"text-align: right;\">\n",
       "      <th></th>\n",
       "      <th>count</th>\n",
       "      <th>unique</th>\n",
       "      <th>top</th>\n",
       "      <th>freq</th>\n",
       "      <th>mean</th>\n",
       "      <th>std</th>\n",
       "      <th>min</th>\n",
       "      <th>25%</th>\n",
       "      <th>50%</th>\n",
       "      <th>75%</th>\n",
       "      <th>max</th>\n",
       "    </tr>\n",
       "  </thead>\n",
       "  <tbody>\n",
       "    <tr>\n",
       "      <th>account_id</th>\n",
       "      <td>1436</td>\n",
       "      <td>1436</td>\n",
       "      <td>0013600000Xsazj</td>\n",
       "      <td>1</td>\n",
       "      <td>NaN</td>\n",
       "      <td>NaN</td>\n",
       "      <td>NaN</td>\n",
       "      <td>NaN</td>\n",
       "      <td>NaN</td>\n",
       "      <td>NaN</td>\n",
       "      <td>NaN</td>\n",
       "    </tr>\n",
       "    <tr>\n",
       "      <th>donation_recency</th>\n",
       "      <td>1436</td>\n",
       "      <td>NaN</td>\n",
       "      <td>NaN</td>\n",
       "      <td>NaN</td>\n",
       "      <td>382.496</td>\n",
       "      <td>447.551</td>\n",
       "      <td>0</td>\n",
       "      <td>15</td>\n",
       "      <td>200.5</td>\n",
       "      <td>678.5</td>\n",
       "      <td>1818</td>\n",
       "    </tr>\n",
       "  </tbody>\n",
       "</table>\n",
       "</div>"
      ],
      "text/plain": [
       "                 count unique              top freq     mean      std  min  \\\n",
       "account_id        1436   1436  0013600000Xsazj    1      NaN      NaN  NaN   \n",
       "donation_recency  1436    NaN              NaN  NaN  382.496  447.551    0   \n",
       "\n",
       "                  25%    50%    75%   max  \n",
       "account_id        NaN    NaN    NaN   NaN  \n",
       "donation_recency   15  200.5  678.5  1818  "
      ]
     },
     "execution_count": 123,
     "metadata": {},
     "output_type": "execute_result"
    }
   ],
   "source": [
    "donor_recency.describe(include='all').T"
   ]
  },
  {
   "cell_type": "markdown",
   "metadata": {},
   "source": [
    "Among other stats, this summary shows that 1436 donors are included in the modeling dataset for this time period."
   ]
  },
  {
   "cell_type": "code",
   "execution_count": 125,
   "metadata": {},
   "outputs": [
    {
     "data": {
      "image/png": "[encoded data removed]",
      "text/plain": [
       "<Figure size 1080x432 with 1 Axes>"
      ]
     },
     "metadata": {},
     "output_type": "display_data"
    }
   ],
   "source": [
    "#set style\n",
    "sns.set(style='darkgrid')\n",
    "\n",
    "#Adjust the plot size\n",
    "plt.figure().set_size_inches(15,6)\n",
    "\n",
    "sns.distplot(donor_recency['donation_recency'], kde=False)\n",
    "\n",
    "#Assign axis labels:\n",
    "plt.xlabel('Days Since the Most Recent Donation', fontsize=14)\n",
    "plt.ylabel('Number of Annual Fund Donors', fontsize=14)\n",
    "#plt.xticks(rotation=45)\n",
    "plt.title('Distribution of Donation Recency By Donor', fontsize=15)\n",
    "plt.show()"
   ]
  },
  {
   "cell_type": "code",
   "execution_count": 126,
   "metadata": {},
   "outputs": [
    {
     "data": {
      "image/png": "[encoded data removed]",
      "text/plain": [
       "<Figure size 1080x432 with 1 Axes>"
      ]
     },
     "metadata": {},
     "output_type": "display_data"
    }
   ],
   "source": [
    "#set style\n",
    "sns.set(style='darkgrid')\n",
    "\n",
    "#Adjust the plot size\n",
    "plt.figure().set_size_inches(15,6)\n",
    "\n",
    "sns.distplot(donor_recency['donation_recency'], kde=True)\n",
    "\n",
    "#Assign axis labels:\n",
    "plt.xlabel('Days Since the Most Recent Donation', fontsize=14)\n",
    "plt.ylabel('Number of Annual Fund Donors', fontsize=14)\n",
    "#plt.xticks(rotation=45)\n",
    "plt.title('Distribution of Donation Recency By Donor', fontsize=15)\n",
    "plt.show()"
   ]
  },
  {
   "cell_type": "code",
   "execution_count": 129,
   "metadata": {},
   "outputs": [
    {
     "data": {
      "text/plain": [
       "(0, 1818)"
      ]
     },
     "execution_count": 129,
     "metadata": {},
     "output_type": "execute_result"
    }
   ],
   "source": [
    "#What are the low and high bounds of donation_recency\n",
    "donor_recency['donation_recency'].min(), donor_recency['donation_recency'].max()"
   ]
  },
  {
   "cell_type": "code",
   "execution_count": 134,
   "metadata": {},
   "outputs": [
    {
     "data": {
      "text/html": [
       "<div>\n",
       "<style scoped>\n",
       "    .dataframe tbody tr th:only-of-type {\n",
       "        vertical-align: middle;\n",
       "    }\n",
       "\n",
       "    .dataframe tbody tr th {\n",
       "        vertical-align: top;\n",
       "    }\n",
       "\n",
       "    .dataframe thead th {\n",
       "        text-align: right;\n",
       "    }\n",
       "</style>\n",
       "<table border=\"1\" class=\"dataframe\">\n",
       "  <thead>\n",
       "    <tr style=\"text-align: right;\">\n",
       "      <th></th>\n",
       "      <th>donation_recency</th>\n",
       "      <th>donor_count</th>\n",
       "    </tr>\n",
       "  </thead>\n",
       "  <tbody>\n",
       "    <tr>\n",
       "      <th>0</th>\n",
       "      <td>0</td>\n",
       "      <td>184</td>\n",
       "    </tr>\n",
       "    <tr>\n",
       "      <th>1</th>\n",
       "      <td>1</td>\n",
       "      <td>73</td>\n",
       "    </tr>\n",
       "    <tr>\n",
       "      <th>2</th>\n",
       "      <td>2</td>\n",
       "      <td>13</td>\n",
       "    </tr>\n",
       "    <tr>\n",
       "      <th>3</th>\n",
       "      <td>3</td>\n",
       "      <td>6</td>\n",
       "    </tr>\n",
       "    <tr>\n",
       "      <th>4</th>\n",
       "      <td>4</td>\n",
       "      <td>27</td>\n",
       "    </tr>\n",
       "  </tbody>\n",
       "</table>\n",
       "</div>"
      ],
      "text/plain": [
       "   donation_recency  donor_count\n",
       "0                 0          184\n",
       "1                 1           73\n",
       "2                 2           13\n",
       "3                 3            6\n",
       "4                 4           27"
      ]
     },
     "execution_count": 134,
     "metadata": {},
     "output_type": "execute_result"
    }
   ],
   "source": [
    "recency_distr = donor_recency.groupby('donation_recency').size().reset_index().rename(columns={0: 'donor_count'})\n",
    "recency_distr.head()"
   ]
  },
  {
   "cell_type": "code",
   "execution_count": 144,
   "metadata": {},
   "outputs": [
    {
     "data": {
      "text/plain": [
       "0    0.128134\n",
       "1    0.178969\n",
       "2    0.188022\n",
       "3    0.192201\n",
       "4    0.211003\n",
       "Name: donor_count, dtype: float64"
      ]
     },
     "execution_count": 144,
     "metadata": {},
     "output_type": "execute_result"
    }
   ],
   "source": [
    "cum_pctg = recency_distr['donor_count'].cumsum() / sum(recency_distr['donor_count'])\n",
    "cum_pctg.head()"
   ]
  },
  {
   "cell_type": "code",
   "execution_count": 145,
   "metadata": {},
   "outputs": [
    {
     "data": {
      "image/png": "[encoded data removed]",
      "text/plain": [
       "<Figure size 648x648 with 1 Axes>"
      ]
     },
     "metadata": {},
     "output_type": "display_data"
    }
   ],
   "source": [
    "#set style\n",
    "sns.set(style='darkgrid')\n",
    "\n",
    "#Adjust the plot size\n",
    "plt.figure().set_size_inches(9,9)\n",
    "\n",
    "sns.lineplot(x=recency_distr['donation_recency'], y=cum_pctg, \n",
    "             color='mediumslateblue', lw=3)\n",
    "\n",
    "#Assign axis labels:\n",
    "plt.xlabel('Days Since the Most Recent Donation', fontsize=14)\n",
    "plt.ylabel('Cumulative % of Donors', fontsize=14)\n",
    "plt.title('Cumulative Distribution of Donors By Recency', fontsize=15)\n",
    "plt.show()"
   ]
  },
  {
   "cell_type": "markdown",
   "metadata": {},
   "source": [
    "May consider excluding from the modeling dataset donors who have not given in one/two/three/etc years; however, another consideration is ensuring we have as many observations as possible given the relatively small number of donors we have at this stage (1436)"
   ]
  },
  {
   "cell_type": "markdown",
   "metadata": {},
   "source": [
    "**Feature #2: Number of Donations Per Donor/Account**"
   ]
  },
  {
   "cell_type": "code",
   "execution_count": 149,
   "metadata": {},
   "outputs": [
    {
     "data": {
      "text/html": [
       "<div>\n",
       "<style scoped>\n",
       "    .dataframe tbody tr th:only-of-type {\n",
       "        vertical-align: middle;\n",
       "    }\n",
       "\n",
       "    .dataframe tbody tr th {\n",
       "        vertical-align: top;\n",
       "    }\n",
       "\n",
       "    .dataframe thead th {\n",
       "        text-align: right;\n",
       "    }\n",
       "</style>\n",
       "<table border=\"1\" class=\"dataframe\">\n",
       "  <thead>\n",
       "    <tr style=\"text-align: right;\">\n",
       "      <th></th>\n",
       "      <th>account_id</th>\n",
       "      <th>total_donations</th>\n",
       "    </tr>\n",
       "  </thead>\n",
       "  <tbody>\n",
       "    <tr>\n",
       "      <th>0</th>\n",
       "      <td>0011R00001yzm4S</td>\n",
       "      <td>1</td>\n",
       "    </tr>\n",
       "    <tr>\n",
       "      <th>1</th>\n",
       "      <td>0011R00001zaq0m</td>\n",
       "      <td>1</td>\n",
       "    </tr>\n",
       "    <tr>\n",
       "      <th>2</th>\n",
       "      <td>0011R00001zbJO4</td>\n",
       "      <td>1</td>\n",
       "    </tr>\n",
       "    <tr>\n",
       "      <th>3</th>\n",
       "      <td>0011R0000203w1Q</td>\n",
       "      <td>1</td>\n",
       "    </tr>\n",
       "    <tr>\n",
       "      <th>4</th>\n",
       "      <td>0011R000020JELD</td>\n",
       "      <td>1</td>\n",
       "    </tr>\n",
       "  </tbody>\n",
       "</table>\n",
       "</div>"
      ],
      "text/plain": [
       "        account_id  total_donations\n",
       "0  0011R00001yzm4S                1\n",
       "1  0011R00001zaq0m                1\n",
       "2  0011R00001zbJO4                1\n",
       "3  0011R0000203w1Q                1\n",
       "4  0011R000020JELD                1"
      ]
     },
     "execution_count": 149,
     "metadata": {},
     "output_type": "execute_result"
    }
   ],
   "source": [
    "#Count number of donations per donor/account (in our analysis, account and donor are used interchangeably)\n",
    "account_donations = model_window.groupby('account_id').size().reset_index().rename(columns={0: 'total_donations'})\n",
    "account_donations.head()"
   ]
  },
  {
   "cell_type": "markdown",
   "metadata": {},
   "source": [
    "**Combine these attributes into a single dataframe**"
   ]
  },
  {
   "cell_type": "code",
   "execution_count": 152,
   "metadata": {},
   "outputs": [
    {
     "data": {
      "text/plain": [
       "1436"
      ]
     },
     "execution_count": 152,
     "metadata": {},
     "output_type": "execute_result"
    }
   ],
   "source": [
    "attrs = pd.merge(donor_recency, account_donations, on='account_id', how='inner')\n",
    "len(attrs)"
   ]
  },
  {
   "cell_type": "code",
   "execution_count": 153,
   "metadata": {},
   "outputs": [
    {
     "data": {
      "text/html": [
       "<div>\n",
       "<style scoped>\n",
       "    .dataframe tbody tr th:only-of-type {\n",
       "        vertical-align: middle;\n",
       "    }\n",
       "\n",
       "    .dataframe tbody tr th {\n",
       "        vertical-align: top;\n",
       "    }\n",
       "\n",
       "    .dataframe thead th {\n",
       "        text-align: right;\n",
       "    }\n",
       "</style>\n",
       "<table border=\"1\" class=\"dataframe\">\n",
       "  <thead>\n",
       "    <tr style=\"text-align: right;\">\n",
       "      <th></th>\n",
       "      <th>account_id</th>\n",
       "      <th>donation_recency</th>\n",
       "      <th>total_donations</th>\n",
       "    </tr>\n",
       "  </thead>\n",
       "  <tbody>\n",
       "    <tr>\n",
       "      <th>0</th>\n",
       "      <td>0011R00001yzm4S</td>\n",
       "      <td>619</td>\n",
       "      <td>1</td>\n",
       "    </tr>\n",
       "    <tr>\n",
       "      <th>1</th>\n",
       "      <td>0011R00001zaq0m</td>\n",
       "      <td>15</td>\n",
       "      <td>1</td>\n",
       "    </tr>\n",
       "    <tr>\n",
       "      <th>2</th>\n",
       "      <td>0011R00001zbJO4</td>\n",
       "      <td>439</td>\n",
       "      <td>1</td>\n",
       "    </tr>\n",
       "    <tr>\n",
       "      <th>3</th>\n",
       "      <td>0011R0000203w1Q</td>\n",
       "      <td>493</td>\n",
       "      <td>1</td>\n",
       "    </tr>\n",
       "    <tr>\n",
       "      <th>4</th>\n",
       "      <td>0011R000020JELD</td>\n",
       "      <td>595</td>\n",
       "      <td>1</td>\n",
       "    </tr>\n",
       "  </tbody>\n",
       "</table>\n",
       "</div>"
      ],
      "text/plain": [
       "        account_id  donation_recency  total_donations\n",
       "0  0011R00001yzm4S               619                1\n",
       "1  0011R00001zaq0m                15                1\n",
       "2  0011R00001zbJO4               439                1\n",
       "3  0011R0000203w1Q               493                1\n",
       "4  0011R000020JELD               595                1"
      ]
     },
     "execution_count": 153,
     "metadata": {},
     "output_type": "execute_result"
    }
   ],
   "source": [
    "attrs.head()"
   ]
  },
  {
   "cell_type": "markdown",
   "metadata": {},
   "source": [
    "# Assign the Target Variable"
   ]
  },
  {
   "cell_type": "markdown",
   "metadata": {},
   "source": [
    "**The objective of our initial model is to predict whether a donor account will make at least one donation in the future (within the models target window of 6 months).**"
   ]
  },
  {
   "cell_type": "code",
   "execution_count": null,
   "metadata": {},
   "outputs": [],
   "source": []
  },
  {
   "cell_type": "markdown",
   "metadata": {},
   "source": [
    "**Step 1:** Isolate all donations that were made within the prediction window"
   ]
  },
  {
   "cell_type": "code",
   "execution_count": 162,
   "metadata": {},
   "outputs": [
    {
     "data": {
      "text/html": [
       "<div>\n",
       "<style scoped>\n",
       "    .dataframe tbody tr th:only-of-type {\n",
       "        vertical-align: middle;\n",
       "    }\n",
       "\n",
       "    .dataframe tbody tr th {\n",
       "        vertical-align: top;\n",
       "    }\n",
       "\n",
       "    .dataframe thead th {\n",
       "        text-align: right;\n",
       "    }\n",
       "</style>\n",
       "<table border=\"1\" class=\"dataframe\">\n",
       "  <thead>\n",
       "    <tr style=\"text-align: right;\">\n",
       "      <th></th>\n",
       "      <th>account_id</th>\n",
       "      <th>account_record_type</th>\n",
       "      <th>do_not_mail</th>\n",
       "      <th>donation_record_type</th>\n",
       "      <th>amount</th>\n",
       "      <th>close_date</th>\n",
       "      <th>email_opt_out</th>\n",
       "      <th>mailing_city</th>\n",
       "      <th>mailing_state</th>\n",
       "      <th>mailing_zip</th>\n",
       "      <th>...</th>\n",
       "      <th>check_date</th>\n",
       "      <th>grant_amount</th>\n",
       "      <th>matching_amount</th>\n",
       "      <th>first_donation_date</th>\n",
       "      <th>lifetime_donation_total_amount</th>\n",
       "      <th>lifetime_donation_count</th>\n",
       "      <th>lifetime_subscription_purchase_total</th>\n",
       "      <th>lifetime_single_ticket_purchase_total</th>\n",
       "      <th>lifetime_order_count</th>\n",
       "      <th>close_year</th>\n",
       "    </tr>\n",
       "  </thead>\n",
       "  <tbody>\n",
       "    <tr>\n",
       "      <th>0</th>\n",
       "      <td>0013p000020Q9Em</td>\n",
       "      <td>Individual</td>\n",
       "      <td>0</td>\n",
       "      <td>PatronTicket Donation</td>\n",
       "      <td>13.00</td>\n",
       "      <td>2020-09-26</td>\n",
       "      <td>0</td>\n",
       "      <td>Hardy</td>\n",
       "      <td>VA</td>\n",
       "      <td>24101</td>\n",
       "      <td>...</td>\n",
       "      <td>NaT</td>\n",
       "      <td>NaN</td>\n",
       "      <td>0.0</td>\n",
       "      <td>NaT</td>\n",
       "      <td>0.00</td>\n",
       "      <td>0.0</td>\n",
       "      <td>0.0</td>\n",
       "      <td>0.0</td>\n",
       "      <td>0.0</td>\n",
       "      <td>2020</td>\n",
       "    </tr>\n",
       "    <tr>\n",
       "      <th>4</th>\n",
       "      <td>0011R00001zcCFw</td>\n",
       "      <td>Individual</td>\n",
       "      <td>0</td>\n",
       "      <td>Donation</td>\n",
       "      <td>51.50</td>\n",
       "      <td>2020-12-10</td>\n",
       "      <td>0</td>\n",
       "      <td>Glen Allen</td>\n",
       "      <td>VA</td>\n",
       "      <td>23060</td>\n",
       "      <td>...</td>\n",
       "      <td>NaT</td>\n",
       "      <td>NaN</td>\n",
       "      <td>0.0</td>\n",
       "      <td>2020-12-10</td>\n",
       "      <td>51.50</td>\n",
       "      <td>1.0</td>\n",
       "      <td>0.0</td>\n",
       "      <td>157.5</td>\n",
       "      <td>2.0</td>\n",
       "      <td>2020</td>\n",
       "    </tr>\n",
       "    <tr>\n",
       "      <th>30</th>\n",
       "      <td>0011R000026HNZq</td>\n",
       "      <td>Household</td>\n",
       "      <td>0</td>\n",
       "      <td>Donation</td>\n",
       "      <td>50.00</td>\n",
       "      <td>2020-12-11</td>\n",
       "      <td>0</td>\n",
       "      <td>Mechanicsville</td>\n",
       "      <td>VA</td>\n",
       "      <td>23116</td>\n",
       "      <td>...</td>\n",
       "      <td>NaT</td>\n",
       "      <td>NaN</td>\n",
       "      <td>0.0</td>\n",
       "      <td>2020-12-11</td>\n",
       "      <td>50.00</td>\n",
       "      <td>1.0</td>\n",
       "      <td>0.0</td>\n",
       "      <td>64.0</td>\n",
       "      <td>1.0</td>\n",
       "      <td>2020</td>\n",
       "    </tr>\n",
       "    <tr>\n",
       "      <th>65</th>\n",
       "      <td>0011R00002E9bFB</td>\n",
       "      <td>Individual</td>\n",
       "      <td>0</td>\n",
       "      <td>Donation</td>\n",
       "      <td>20.00</td>\n",
       "      <td>2020-12-01</td>\n",
       "      <td>0</td>\n",
       "      <td>Richmond</td>\n",
       "      <td>VA</td>\n",
       "      <td>23228</td>\n",
       "      <td>...</td>\n",
       "      <td>NaT</td>\n",
       "      <td>NaN</td>\n",
       "      <td>0.0</td>\n",
       "      <td>2020-12-01</td>\n",
       "      <td>20.00</td>\n",
       "      <td>1.0</td>\n",
       "      <td>0.0</td>\n",
       "      <td>74.0</td>\n",
       "      <td>1.0</td>\n",
       "      <td>2020</td>\n",
       "    </tr>\n",
       "    <tr>\n",
       "      <th>69</th>\n",
       "      <td>0011R00002EeOeJ</td>\n",
       "      <td>Individual</td>\n",
       "      <td>0</td>\n",
       "      <td>Donation</td>\n",
       "      <td>128.75</td>\n",
       "      <td>2020-12-12</td>\n",
       "      <td>0</td>\n",
       "      <td>Richmond</td>\n",
       "      <td>VA</td>\n",
       "      <td>23221</td>\n",
       "      <td>...</td>\n",
       "      <td>NaT</td>\n",
       "      <td>NaN</td>\n",
       "      <td>0.0</td>\n",
       "      <td>2020-12-12</td>\n",
       "      <td>128.75</td>\n",
       "      <td>1.0</td>\n",
       "      <td>370.0</td>\n",
       "      <td>121.0</td>\n",
       "      <td>3.0</td>\n",
       "      <td>2020</td>\n",
       "    </tr>\n",
       "  </tbody>\n",
       "</table>\n",
       "<p>5 rows × 34 columns</p>\n",
       "</div>"
      ],
      "text/plain": [
       "         account_id account_record_type do_not_mail   donation_record_type  \\\n",
       "0   0013p000020Q9Em          Individual           0  PatronTicket Donation   \n",
       "4   0011R00001zcCFw          Individual           0               Donation   \n",
       "30  0011R000026HNZq           Household           0               Donation   \n",
       "65  0011R00002E9bFB          Individual           0               Donation   \n",
       "69  0011R00002EeOeJ          Individual           0               Donation   \n",
       "\n",
       "    amount close_date email_opt_out    mailing_city mailing_state mailing_zip  \\\n",
       "0    13.00 2020-09-26             0           Hardy            VA       24101   \n",
       "4    51.50 2020-12-10             0      Glen Allen            VA       23060   \n",
       "30   50.00 2020-12-11             0  Mechanicsville            VA       23116   \n",
       "65   20.00 2020-12-01             0        Richmond            VA       23228   \n",
       "69  128.75 2020-12-12             0        Richmond            VA       23221   \n",
       "\n",
       "    ... check_date grant_amount matching_amount  first_donation_date  \\\n",
       "0   ...        NaT          NaN             0.0                  NaT   \n",
       "4   ...        NaT          NaN             0.0           2020-12-10   \n",
       "30  ...        NaT          NaN             0.0           2020-12-11   \n",
       "65  ...        NaT          NaN             0.0           2020-12-01   \n",
       "69  ...        NaT          NaN             0.0           2020-12-12   \n",
       "\n",
       "   lifetime_donation_total_amount lifetime_donation_count  \\\n",
       "0                            0.00                     0.0   \n",
       "4                           51.50                     1.0   \n",
       "30                          50.00                     1.0   \n",
       "65                          20.00                     1.0   \n",
       "69                         128.75                     1.0   \n",
       "\n",
       "   lifetime_subscription_purchase_total lifetime_single_ticket_purchase_total  \\\n",
       "0                                   0.0                                   0.0   \n",
       "4                                   0.0                                 157.5   \n",
       "30                                  0.0                                  64.0   \n",
       "65                                  0.0                                  74.0   \n",
       "69                                370.0                                 121.0   \n",
       "\n",
       "   lifetime_order_count  close_year  \n",
       "0                   0.0        2020  \n",
       "4                   2.0        2020  \n",
       "30                  1.0        2020  \n",
       "65                  1.0        2020  \n",
       "69                  3.0        2020  \n",
       "\n",
       "[5 rows x 34 columns]"
      ]
     },
     "execution_count": 162,
     "metadata": {},
     "output_type": "execute_result"
    }
   ],
   "source": [
    "#Select annual fund donations made after June 30, 2020 (thru Dec 31, 2020, inclusive)\n",
    "mask = (aFund.close_date > '2020-06-30') & (aFund.close_date < '2021-01-01')\n",
    "target_events_raw = aFund[mask]\n",
    "target_events_raw.head()"
   ]
  },
  {
   "cell_type": "code",
   "execution_count": 163,
   "metadata": {},
   "outputs": [
    {
     "data": {
      "text/plain": [
       "522"
      ]
     },
     "execution_count": 163,
     "metadata": {},
     "output_type": "execute_result"
    }
   ],
   "source": [
    "len(target_events_raw)"
   ]
  },
  {
   "cell_type": "code",
   "execution_count": 164,
   "metadata": {},
   "outputs": [
    {
     "data": {
      "text/plain": [
       "(Timestamp('2020-07-01 00:00:00'), Timestamp('2020-12-31 00:00:00'))"
      ]
     },
     "execution_count": 164,
     "metadata": {},
     "output_type": "execute_result"
    }
   ],
   "source": [
    "#Confirm min and max dates are in prediction window\n",
    "target_events_raw.close_date.min(), target_events_raw.close_date.max()"
   ]
  },
  {
   "cell_type": "markdown",
   "metadata": {},
   "source": [
    "**Step 2: Summarize data to get one record per donor account**"
   ]
  },
  {
   "cell_type": "code",
   "execution_count": 165,
   "metadata": {},
   "outputs": [
    {
     "data": {
      "text/html": [
       "<div>\n",
       "<style scoped>\n",
       "    .dataframe tbody tr th:only-of-type {\n",
       "        vertical-align: middle;\n",
       "    }\n",
       "\n",
       "    .dataframe tbody tr th {\n",
       "        vertical-align: top;\n",
       "    }\n",
       "\n",
       "    .dataframe thead th {\n",
       "        text-align: right;\n",
       "    }\n",
       "</style>\n",
       "<table border=\"1\" class=\"dataframe\">\n",
       "  <thead>\n",
       "    <tr style=\"text-align: right;\">\n",
       "      <th></th>\n",
       "      <th>account_id</th>\n",
       "      <th>0</th>\n",
       "    </tr>\n",
       "  </thead>\n",
       "  <tbody>\n",
       "    <tr>\n",
       "      <th>0</th>\n",
       "      <td>0011R00001zbJNc</td>\n",
       "      <td>2</td>\n",
       "    </tr>\n",
       "    <tr>\n",
       "      <th>1</th>\n",
       "      <td>0011R00001zcCFw</td>\n",
       "      <td>1</td>\n",
       "    </tr>\n",
       "    <tr>\n",
       "      <th>2</th>\n",
       "      <td>0011R000020JELD</td>\n",
       "      <td>1</td>\n",
       "    </tr>\n",
       "    <tr>\n",
       "      <th>3</th>\n",
       "      <td>0011R000024RFNF</td>\n",
       "      <td>1</td>\n",
       "    </tr>\n",
       "    <tr>\n",
       "      <th>4</th>\n",
       "      <td>0011R000024adTq</td>\n",
       "      <td>1</td>\n",
       "    </tr>\n",
       "  </tbody>\n",
       "</table>\n",
       "</div>"
      ],
      "text/plain": [
       "        account_id  0\n",
       "0  0011R00001zbJNc  2\n",
       "1  0011R00001zcCFw  1\n",
       "2  0011R000020JELD  1\n",
       "3  0011R000024RFNF  1\n",
       "4  0011R000024adTq  1"
      ]
     },
     "execution_count": 165,
     "metadata": {},
     "output_type": "execute_result"
    }
   ],
   "source": [
    "#Count the number of donations by donor\n",
    "target_events = target_events_raw.groupby('account_id').size().reset_index()\n",
    "target_events.head()"
   ]
  },
  {
   "cell_type": "code",
   "execution_count": 166,
   "metadata": {},
   "outputs": [
    {
     "data": {
      "text/plain": [
       "368"
      ]
     },
     "execution_count": 166,
     "metadata": {},
     "output_type": "execute_result"
    }
   ],
   "source": [
    "len(target_events)"
   ]
  },
  {
   "cell_type": "markdown",
   "metadata": {},
   "source": [
    "*This is the number of donor accounts -- out of the eligible population of 1436 -- who gave at least once during the prediction window.*"
   ]
  },
  {
   "cell_type": "markdown",
   "metadata": {},
   "source": [
    "**Step 3:** Merge this dataframe with the `attrs` dataframe to create the modeling dataframe."
   ]
  },
  {
   "cell_type": "code",
   "execution_count": 167,
   "metadata": {},
   "outputs": [
    {
     "data": {
      "text/html": [
       "<div>\n",
       "<style scoped>\n",
       "    .dataframe tbody tr th:only-of-type {\n",
       "        vertical-align: middle;\n",
       "    }\n",
       "\n",
       "    .dataframe tbody tr th {\n",
       "        vertical-align: top;\n",
       "    }\n",
       "\n",
       "    .dataframe thead th {\n",
       "        text-align: right;\n",
       "    }\n",
       "</style>\n",
       "<table border=\"1\" class=\"dataframe\">\n",
       "  <thead>\n",
       "    <tr style=\"text-align: right;\">\n",
       "      <th></th>\n",
       "      <th>account_id</th>\n",
       "      <th>donation_recency</th>\n",
       "      <th>total_donations</th>\n",
       "      <th>donated</th>\n",
       "    </tr>\n",
       "  </thead>\n",
       "  <tbody>\n",
       "    <tr>\n",
       "      <th>0</th>\n",
       "      <td>0011R00001yzm4S</td>\n",
       "      <td>619</td>\n",
       "      <td>1</td>\n",
       "      <td>NaN</td>\n",
       "    </tr>\n",
       "    <tr>\n",
       "      <th>1</th>\n",
       "      <td>0011R00001zaq0m</td>\n",
       "      <td>15</td>\n",
       "      <td>1</td>\n",
       "      <td>NaN</td>\n",
       "    </tr>\n",
       "    <tr>\n",
       "      <th>2</th>\n",
       "      <td>0011R00001zbJO4</td>\n",
       "      <td>439</td>\n",
       "      <td>1</td>\n",
       "      <td>NaN</td>\n",
       "    </tr>\n",
       "    <tr>\n",
       "      <th>3</th>\n",
       "      <td>0011R0000203w1Q</td>\n",
       "      <td>493</td>\n",
       "      <td>1</td>\n",
       "      <td>NaN</td>\n",
       "    </tr>\n",
       "    <tr>\n",
       "      <th>4</th>\n",
       "      <td>0011R000020JELD</td>\n",
       "      <td>595</td>\n",
       "      <td>1</td>\n",
       "      <td>1.0</td>\n",
       "    </tr>\n",
       "  </tbody>\n",
       "</table>\n",
       "</div>"
      ],
      "text/plain": [
       "        account_id  donation_recency  total_donations  donated\n",
       "0  0011R00001yzm4S               619                1      NaN\n",
       "1  0011R00001zaq0m                15                1      NaN\n",
       "2  0011R00001zbJO4               439                1      NaN\n",
       "3  0011R0000203w1Q               493                1      NaN\n",
       "4  0011R000020JELD               595                1      1.0"
      ]
     },
     "execution_count": 167,
     "metadata": {},
     "output_type": "execute_result"
    }
   ],
   "source": [
    "#Merge the target_events dataframe with the dataframe that contains the engineered donor attributes.\n",
    "mdf = pd.merge(attrs, target_events, how='left', on='account_id').rename(columns={0: 'donated'})\n",
    "mdf.head()"
   ]
  },
  {
   "cell_type": "code",
   "execution_count": 168,
   "metadata": {
    "scrolled": true
   },
   "outputs": [
    {
     "data": {
      "text/plain": [
       "1.0    193\n",
       "2.0     40\n",
       "3.0     14\n",
       "4.0      7\n",
       "6.0      7\n",
       "5.0      3\n",
       "7.0      1\n",
       "9.0      1\n",
       "Name: donated, dtype: int64"
      ]
     },
     "execution_count": 168,
     "metadata": {},
     "output_type": "execute_result"
    }
   ],
   "source": [
    "#Show the distribution of the target column ('donated')\n",
    "mdf.donated.value_counts()"
   ]
  },
  {
   "cell_type": "code",
   "execution_count": 173,
   "metadata": {},
   "outputs": [
    {
     "data": {
      "text/plain": [
       "<matplotlib.axes._subplots.AxesSubplot at 0x7f8b8ec85f50>"
      ]
     },
     "execution_count": 173,
     "metadata": {},
     "output_type": "execute_result"
    },
    {
     "data": {
      "image/png": "[encoded data removed]",
      "text/plain": [
       "<Figure size 504x720 with 1 Axes>"
      ]
     },
     "metadata": {},
     "output_type": "display_data"
    }
   ],
   "source": [
    "#set style\n",
    "sns.set(style='darkgrid')\n",
    "\n",
    "#Adjust the plot size\n",
    "plt.figure().set_size_inches(7,10)\n",
    "mdf.donated.value_counts().plot(kind='bar')"
   ]
  },
  {
   "cell_type": "markdown",
   "metadata": {},
   "source": [
    "**Step 4:** Recode 'donated' column as binary flag equal to 1 if at least one donation was made and 0 otherwise."
   ]
  },
  {
   "cell_type": "code",
   "execution_count": 174,
   "metadata": {},
   "outputs": [
    {
     "data": {
      "text/html": [
       "<div>\n",
       "<style scoped>\n",
       "    .dataframe tbody tr th:only-of-type {\n",
       "        vertical-align: middle;\n",
       "    }\n",
       "\n",
       "    .dataframe tbody tr th {\n",
       "        vertical-align: top;\n",
       "    }\n",
       "\n",
       "    .dataframe thead th {\n",
       "        text-align: right;\n",
       "    }\n",
       "</style>\n",
       "<table border=\"1\" class=\"dataframe\">\n",
       "  <thead>\n",
       "    <tr style=\"text-align: right;\">\n",
       "      <th></th>\n",
       "      <th>account_id</th>\n",
       "      <th>donation_recency</th>\n",
       "      <th>total_donations</th>\n",
       "      <th>donated</th>\n",
       "    </tr>\n",
       "  </thead>\n",
       "  <tbody>\n",
       "    <tr>\n",
       "      <th>0</th>\n",
       "      <td>0011R00001yzm4S</td>\n",
       "      <td>619</td>\n",
       "      <td>1</td>\n",
       "      <td>0</td>\n",
       "    </tr>\n",
       "    <tr>\n",
       "      <th>1</th>\n",
       "      <td>0011R00001zaq0m</td>\n",
       "      <td>15</td>\n",
       "      <td>1</td>\n",
       "      <td>0</td>\n",
       "    </tr>\n",
       "    <tr>\n",
       "      <th>2</th>\n",
       "      <td>0011R00001zbJO4</td>\n",
       "      <td>439</td>\n",
       "      <td>1</td>\n",
       "      <td>0</td>\n",
       "    </tr>\n",
       "    <tr>\n",
       "      <th>3</th>\n",
       "      <td>0011R0000203w1Q</td>\n",
       "      <td>493</td>\n",
       "      <td>1</td>\n",
       "      <td>0</td>\n",
       "    </tr>\n",
       "    <tr>\n",
       "      <th>4</th>\n",
       "      <td>0011R000020JELD</td>\n",
       "      <td>595</td>\n",
       "      <td>1</td>\n",
       "      <td>1</td>\n",
       "    </tr>\n",
       "  </tbody>\n",
       "</table>\n",
       "</div>"
      ],
      "text/plain": [
       "        account_id  donation_recency  total_donations  donated\n",
       "0  0011R00001yzm4S               619                1        0\n",
       "1  0011R00001zaq0m                15                1        0\n",
       "2  0011R00001zbJO4               439                1        0\n",
       "3  0011R0000203w1Q               493                1        0\n",
       "4  0011R000020JELD               595                1        1"
      ]
     },
     "execution_count": 174,
     "metadata": {},
     "output_type": "execute_result"
    }
   ],
   "source": [
    "mdf['donated'] = [1 if x > 0 else 0 for x in mdf['donated']]\n",
    "mdf.head()"
   ]
  },
  {
   "cell_type": "code",
   "execution_count": 175,
   "metadata": {},
   "outputs": [
    {
     "data": {
      "text/plain": [
       "0    1170\n",
       "1     266\n",
       "Name: donated, dtype: int64"
      ]
     },
     "execution_count": 175,
     "metadata": {},
     "output_type": "execute_result"
    }
   ],
   "source": [
    "#Show the distribution of the target binary flag column ('donated')\n",
    "mdf.donated.value_counts()"
   ]
  },
  {
   "cell_type": "code",
   "execution_count": 177,
   "metadata": {},
   "outputs": [
    {
     "data": {
      "text/plain": [
       "0    0.814763\n",
       "1    0.185237\n",
       "Name: donated, dtype: float64"
      ]
     },
     "execution_count": 177,
     "metadata": {},
     "output_type": "execute_result"
    }
   ],
   "source": [
    "#Show % distribution of the target flag\n",
    "mdf.donated.value_counts(normalize=True)"
   ]
  },
  {
   "cell_type": "code",
   "execution_count": 178,
   "metadata": {},
   "outputs": [
    {
     "data": {
      "text/plain": [
       "0    0.814763\n",
       "1    0.185237\n",
       "Name: donated, dtype: float64"
      ]
     },
     "execution_count": 178,
     "metadata": {},
     "output_type": "execute_result"
    }
   ],
   "source": [
    "#Another way to do the previous cell\n",
    "mdf.donated.value_counts()/len(mdf)"
   ]
  },
  {
   "cell_type": "code",
   "execution_count": 183,
   "metadata": {},
   "outputs": [
    {
     "data": {
      "text/html": [
       "<div>\n",
       "<style scoped>\n",
       "    .dataframe tbody tr th:only-of-type {\n",
       "        vertical-align: middle;\n",
       "    }\n",
       "\n",
       "    .dataframe tbody tr th {\n",
       "        vertical-align: top;\n",
       "    }\n",
       "\n",
       "    .dataframe thead th {\n",
       "        text-align: right;\n",
       "    }\n",
       "</style>\n",
       "<table border=\"1\" class=\"dataframe\">\n",
       "  <thead>\n",
       "    <tr style=\"text-align: right;\">\n",
       "      <th></th>\n",
       "      <th>donation_recency</th>\n",
       "      <th>total_donations</th>\n",
       "      <th>donated</th>\n",
       "    </tr>\n",
       "  </thead>\n",
       "  <tbody>\n",
       "    <tr>\n",
       "      <th>donation_recency</th>\n",
       "      <td>1.000000</td>\n",
       "      <td>-0.235326</td>\n",
       "      <td>-0.259711</td>\n",
       "    </tr>\n",
       "    <tr>\n",
       "      <th>total_donations</th>\n",
       "      <td>-0.235326</td>\n",
       "      <td>1.000000</td>\n",
       "      <td>0.330360</td>\n",
       "    </tr>\n",
       "    <tr>\n",
       "      <th>donated</th>\n",
       "      <td>-0.259711</td>\n",
       "      <td>0.330360</td>\n",
       "      <td>1.000000</td>\n",
       "    </tr>\n",
       "  </tbody>\n",
       "</table>\n",
       "</div>"
      ],
      "text/plain": [
       "                  donation_recency  total_donations   donated\n",
       "donation_recency          1.000000        -0.235326 -0.259711\n",
       "total_donations          -0.235326         1.000000  0.330360\n",
       "donated                  -0.259711         0.330360  1.000000"
      ]
     },
     "execution_count": 183,
     "metadata": {},
     "output_type": "execute_result"
    }
   ],
   "source": [
    "#Check the correlations\n",
    "mdf[mdf.columns[1:].to_list()].corr()"
   ]
  },
  {
   "cell_type": "markdown",
   "metadata": {},
   "source": [
    "*Because none of the predictors are highly correlated, all of them are 'eligible' for inclusion in the model.*"
   ]
  },
  {
   "cell_type": "markdown",
   "metadata": {},
   "source": [
    "**Step 5:** Model Building"
   ]
  },
  {
   "cell_type": "code",
   "execution_count": 188,
   "metadata": {},
   "outputs": [],
   "source": [
    "#SetUp the model\n",
    "preds = ['donation_recency', 'total_donations']\n",
    "\n",
    "X = mdf[preds]\n",
    "y = mdf['donated']"
   ]
  },
  {
   "cell_type": "markdown",
   "metadata": {},
   "source": [
    "**Split the data into train, test and validation segments (aka 'Tri-Fold Partitioning')**"
   ]
  },
  {
   "cell_type": "code",
   "execution_count": 189,
   "metadata": {},
   "outputs": [
    {
     "data": {
      "text/plain": [
       "(861, 287, 288)"
      ]
     },
     "execution_count": 189,
     "metadata": {},
     "output_type": "execute_result"
    }
   ],
   "source": [
    "from sklearn.model_selection import train_test_split, GridSearchCV, cross_val_score\n",
    "\n",
    "X_train, X_test, y_train, y_test = train_test_split(X, y, test_size=.4, random_state=314)\n",
    "\n",
    "X_test, X_valid, y_test, y_valid = train_test_split(X_test, y_test, test_size=.5, random_state=314)\n",
    "\n",
    "len(X_train), len(X_test), len(X_valid)"
   ]
  },
  {
   "cell_type": "code",
   "execution_count": 190,
   "metadata": {},
   "outputs": [
    {
     "data": {
      "text/plain": [
       "0    691\n",
       "1    170\n",
       "Name: donated, dtype: int64"
      ]
     },
     "execution_count": 190,
     "metadata": {},
     "output_type": "execute_result"
    }
   ],
   "source": [
    "#Show the target distribution in the training set\n",
    "y_train.value_counts()"
   ]
  },
  {
   "cell_type": "code",
   "execution_count": 191,
   "metadata": {},
   "outputs": [
    {
     "data": {
      "text/plain": [
       "0    234\n",
       "1     53\n",
       "Name: donated, dtype: int64"
      ]
     },
     "execution_count": 191,
     "metadata": {},
     "output_type": "execute_result"
    }
   ],
   "source": [
    "#Show the target distribution in the test set\n",
    "y_test.value_counts()"
   ]
  },
  {
   "cell_type": "code",
   "execution_count": 192,
   "metadata": {},
   "outputs": [
    {
     "data": {
      "text/plain": [
       "0    245\n",
       "1     43\n",
       "Name: donated, dtype: int64"
      ]
     },
     "execution_count": 192,
     "metadata": {},
     "output_type": "execute_result"
    }
   ],
   "source": [
    "#Show the target distribution in the validation set\n",
    "y_valid.value_counts()"
   ]
  },
  {
   "cell_type": "code",
   "execution_count": 193,
   "metadata": {},
   "outputs": [],
   "source": [
    "from sklearn.linear_model import LogisticRegression\n",
    "\n",
    "#Define the model object (instantiate the classifier)\n",
    "clf=LogisticRegression(solver='liblinear', random_state=314)\n",
    "\n",
    "scores = cross_val_score(clf, X_train, y_train.values.ravel(), scoring='roc_auc', cv=10)\n",
    "scores.mean()"
   ]
  },
  {
   "cell_type": "code",
   "execution_count": 203,
   "metadata": {},
   "outputs": [],
   "source": [
    "from sklearn.metrics import recall_score, roc_curve, roc_auc_score, precision_score"
   ]
  },
  {
   "cell_type": "code",
   "execution_count": 205,
   "metadata": {},
   "outputs": [
    {
     "name": "stdout",
     "output_type": "stream",
     "text": [
      "BEST PARAMETERS: {'C': 0.75, 'penalty': 'l1'}\n",
      "\n",
      "0.769 (+/-0.133) 5 for {'C': 0.3, 'penalty': 'l1'}\n",
      "0.769 (+/-0.133) 5 for {'C': 0.3, 'penalty': 'l2'}\n",
      "0.77 (+/-0.134) 3 for {'C': 0.6, 'penalty': 'l1'}\n",
      "0.77 (+/-0.134) 3 for {'C': 0.6, 'penalty': 'l2'}\n",
      "0.77 (+/-0.134) 1 for {'C': 0.75, 'penalty': 'l1'}\n",
      "0.77 (+/-0.134) 1 for {'C': 0.75, 'penalty': 'l2'}\n"
     ]
    }
   ],
   "source": [
    "#Hyperparameter Tuning\n",
    "def print_results(results):\n",
    "    print('BEST PARAMETERS: {}\\n'.format(results.best_params_))\n",
    "    \n",
    "    means = results.cv_results_['mean_test_AUC']\n",
    "    stds = results.cv_results_['std_test_AUC']\n",
    "    rank = results.cv_results_['rank_test_AUC']\n",
    "    for mean, std, rank, params in zip(means, stds, rank, results.cv_results_['params']):\n",
    "        print('{} (+/-{}) {} for {}'.format(round(mean,3),round(std *2,3), rank, params))\n",
    "        \n",
    "parameters = {\n",
    "    'penalty': ['l1', 'l2'],\n",
    "    'C': [.3, .6, .75],\n",
    "    }\n",
    "\n",
    "scoring = {'AUC': 'roc_auc', 'Accuracy': 'accuracy', 'Precision': 'precision', 'Recall': 'recall'}\n",
    "clfcv = GridSearchCV(clf, parameters, scoring=scoring, refit='AUC', cv=10)\n",
    "#Train (fit) the model with the training datasetwhile cross validating \n",
    "clfcv.fit(X_train, y_train.values.ravel())\n",
    "\n",
    "print_results(clfcv)"
   ]
  },
  {
   "cell_type": "markdown",
   "metadata": {},
   "source": [
    "**Refit model with full training set and both sets of hyperparameters**"
   ]
  },
  {
   "cell_type": "code",
   "execution_count": 208,
   "metadata": {},
   "outputs": [
    {
     "data": {
      "text/plain": [
       "LogisticRegression(C=0.75, class_weight=None, dual=False, fit_intercept=True,\n",
       "                   intercept_scaling=1, l1_ratio=None, max_iter=100,\n",
       "                   multi_class='auto', n_jobs=None, penalty='l2',\n",
       "                   random_state=314, solver='liblinear', tol=0.0001, verbose=0,\n",
       "                   warm_start=False)"
      ]
     },
     "execution_count": 208,
     "metadata": {},
     "output_type": "execute_result"
    }
   ],
   "source": [
    "LR1 = LogisticRegression(solver='liblinear', C=0.75, penalty='l2', random_state=314)\n",
    "LR1.fit(X_train, y_train.values.ravel())"
   ]
  },
  {
   "cell_type": "code",
   "execution_count": 209,
   "metadata": {},
   "outputs": [
    {
     "data": {
      "text/plain": [
       "LogisticRegression(C=0.75, class_weight=None, dual=False, fit_intercept=True,\n",
       "                   intercept_scaling=1, l1_ratio=None, max_iter=100,\n",
       "                   multi_class='auto', n_jobs=None, penalty='l1',\n",
       "                   random_state=314, solver='liblinear', tol=0.0001, verbose=0,\n",
       "                   warm_start=False)"
      ]
     },
     "execution_count": 209,
     "metadata": {},
     "output_type": "execute_result"
    }
   ],
   "source": [
    "LR2 = LogisticRegression(solver='liblinear', C=0.75, penalty='l1', random_state=314)\n",
    "LR2.fit(X_train, y_train.values.ravel())"
   ]
  },
  {
   "cell_type": "code",
   "execution_count": 210,
   "metadata": {},
   "outputs": [
    {
     "data": {
      "text/plain": [
       "LogisticRegression(C=0.85, class_weight=None, dual=False, fit_intercept=True,\n",
       "                   intercept_scaling=1, l1_ratio=None, max_iter=100,\n",
       "                   multi_class='auto', n_jobs=None, penalty='l2',\n",
       "                   random_state=314, solver='liblinear', tol=0.0001, verbose=0,\n",
       "                   warm_start=False)"
      ]
     },
     "execution_count": 210,
     "metadata": {},
     "output_type": "execute_result"
    }
   ],
   "source": [
    "LR3 = LogisticRegression(solver='liblinear', C=0.85, penalty='l2', random_state=314)\n",
    "LR3.fit(X_train, y_train.values.ravel())"
   ]
  },
  {
   "cell_type": "code",
   "execution_count": 213,
   "metadata": {},
   "outputs": [
    {
     "name": "stdout",
     "output_type": "stream",
     "text": [
      "PENALTY: l2 / C: 0.75 -- AUC: 0.555 / A: 0.822 / P: 0.583 / R: 0.132\n",
      "PENALTY: l1 / C: 0.75 -- AUC: 0.555 / A: 0.822 / P: 0.583 / R: 0.132\n",
      "PENALTY: l2 / C: 0.85 -- AUC: 0.555 / A: 0.822 / P: 0.583 / R: 0.132\n"
     ]
    }
   ],
   "source": [
    "for mdl in [LR1, LR2, LR3]:\n",
    "    y_pred = mdl.predict(X_test)\n",
    "    AUC = round(roc_auc_score(y_test, y_pred), 3)\n",
    "    accuracy = round(accuracy_score(y_test, y_pred), 3)\n",
    "    precision = round(precision_score(y_test, y_pred), 3)\n",
    "    recall = round(recall_score(y_test, y_pred),3)\n",
    "    print('PENALTY: {} / C: {} -- AUC: {} / A: {} / P: {} / R: {}'. format(mdl.penalty,\n",
    "                                                                          mdl.C,\n",
    "                                                                          AUC,\n",
    "                                                                          accuracy,\n",
    "                                                                          precision,\n",
    "                                                                          recall))\n"
   ]
  },
  {
   "cell_type": "code",
   "execution_count": null,
   "metadata": {},
   "outputs": [],
   "source": []
  },
  {
   "cell_type": "code",
   "execution_count": null,
   "metadata": {},
   "outputs": [],
   "source": [
    "#Make predictions on the test set\n",
    "preds_test = clf.predict(X_test)"
   ]
  },
  {
   "cell_type": "code",
   "execution_count": null,
   "metadata": {},
   "outputs": [],
   "source": []
  },
  {
   "cell_type": "markdown",
   "metadata": {},
   "source": [
    "**Step 6:** Model Accuracy"
   ]
  },
  {
   "cell_type": "code",
   "execution_count": 195,
   "metadata": {},
   "outputs": [
    {
     "data": {
      "text/plain": [
       "0.8222996515679443"
      ]
     },
     "execution_count": 195,
     "metadata": {},
     "output_type": "execute_result"
    }
   ],
   "source": [
    "from sklearn.metrics import accuracy_score\n",
    "\n",
    "accuracy_score(y_test, preds_test)"
   ]
  },
  {
   "cell_type": "code",
   "execution_count": 196,
   "metadata": {},
   "outputs": [
    {
     "data": {
      "text/html": [
       "<div>\n",
       "<style scoped>\n",
       "    .dataframe tbody tr th:only-of-type {\n",
       "        vertical-align: middle;\n",
       "    }\n",
       "\n",
       "    .dataframe tbody tr th {\n",
       "        vertical-align: top;\n",
       "    }\n",
       "\n",
       "    .dataframe thead th {\n",
       "        text-align: right;\n",
       "    }\n",
       "</style>\n",
       "<table border=\"1\" class=\"dataframe\">\n",
       "  <thead>\n",
       "    <tr style=\"text-align: right;\">\n",
       "      <th>col_0</th>\n",
       "      <th>0</th>\n",
       "      <th>1</th>\n",
       "    </tr>\n",
       "    <tr>\n",
       "      <th>donated</th>\n",
       "      <th></th>\n",
       "      <th></th>\n",
       "    </tr>\n",
       "  </thead>\n",
       "  <tbody>\n",
       "    <tr>\n",
       "      <th>0</th>\n",
       "      <td>229</td>\n",
       "      <td>5</td>\n",
       "    </tr>\n",
       "    <tr>\n",
       "      <th>1</th>\n",
       "      <td>46</td>\n",
       "      <td>7</td>\n",
       "    </tr>\n",
       "  </tbody>\n",
       "</table>\n",
       "</div>"
      ],
      "text/plain": [
       "col_0      0  1\n",
       "donated        \n",
       "0        229  5\n",
       "1         46  7"
      ]
     },
     "execution_count": 196,
     "metadata": {},
     "output_type": "execute_result"
    }
   ],
   "source": [
    "#Compare model predictions to actual value of the target event (create a confusion matrix)\n",
    "pd.crosstab(y_test, preds_test)"
   ]
  },
  {
   "cell_type": "markdown",
   "metadata": {},
   "source": [
    "**Area under the ROC curve (AUC)**"
   ]
  },
  {
   "cell_type": "code",
   "execution_count": 198,
   "metadata": {},
   "outputs": [
    {
     "data": {
      "text/plain": [
       "0.7567731011127238"
      ]
     },
     "execution_count": 198,
     "metadata": {},
     "output_type": "execute_result"
    }
   ],
   "source": [
    "from sklearn.metrics import roc_auc_score\n",
    "\n",
    "#Calculate the probabilities on the test sample\n",
    "\n",
    "scores_test = clf.predict_proba(X_test)[:, 1]\n",
    "\n",
    "#Calculate AUC\n",
    "roc_auc_score(y_test, scores_test)"
   ]
  },
  {
   "cell_type": "code",
   "execution_count": 199,
   "metadata": {},
   "outputs": [
    {
     "data": {
      "text/html": [
       "<div>\n",
       "<style scoped>\n",
       "    .dataframe tbody tr th:only-of-type {\n",
       "        vertical-align: middle;\n",
       "    }\n",
       "\n",
       "    .dataframe tbody tr th {\n",
       "        vertical-align: top;\n",
       "    }\n",
       "\n",
       "    .dataframe thead th {\n",
       "        text-align: right;\n",
       "    }\n",
       "</style>\n",
       "<table border=\"1\" class=\"dataframe\">\n",
       "  <thead>\n",
       "    <tr style=\"text-align: right;\">\n",
       "      <th></th>\n",
       "      <th>account_id</th>\n",
       "      <th>donation_recency</th>\n",
       "      <th>total_donations</th>\n",
       "      <th>donated</th>\n",
       "      <th>prob_of_donating</th>\n",
       "    </tr>\n",
       "  </thead>\n",
       "  <tbody>\n",
       "    <tr>\n",
       "      <th>0</th>\n",
       "      <td>0011R00001yzm4S</td>\n",
       "      <td>619</td>\n",
       "      <td>1</td>\n",
       "      <td>0</td>\n",
       "      <td>0.077530</td>\n",
       "    </tr>\n",
       "    <tr>\n",
       "      <th>1</th>\n",
       "      <td>0011R00001zaq0m</td>\n",
       "      <td>15</td>\n",
       "      <td>1</td>\n",
       "      <td>0</td>\n",
       "      <td>0.222040</td>\n",
       "    </tr>\n",
       "    <tr>\n",
       "      <th>2</th>\n",
       "      <td>0011R00001zbJO4</td>\n",
       "      <td>439</td>\n",
       "      <td>1</td>\n",
       "      <td>0</td>\n",
       "      <td>0.107931</td>\n",
       "    </tr>\n",
       "    <tr>\n",
       "      <th>3</th>\n",
       "      <td>0011R0000203w1Q</td>\n",
       "      <td>493</td>\n",
       "      <td>1</td>\n",
       "      <td>0</td>\n",
       "      <td>0.097849</td>\n",
       "    </tr>\n",
       "    <tr>\n",
       "      <th>4</th>\n",
       "      <td>0011R000020JELD</td>\n",
       "      <td>595</td>\n",
       "      <td>1</td>\n",
       "      <td>1</td>\n",
       "      <td>0.081076</td>\n",
       "    </tr>\n",
       "  </tbody>\n",
       "</table>\n",
       "</div>"
      ],
      "text/plain": [
       "        account_id  donation_recency  total_donations  donated  \\\n",
       "0  0011R00001yzm4S               619                1        0   \n",
       "1  0011R00001zaq0m                15                1        0   \n",
       "2  0011R00001zbJO4               439                1        0   \n",
       "3  0011R0000203w1Q               493                1        0   \n",
       "4  0011R000020JELD               595                1        1   \n",
       "\n",
       "   prob_of_donating  \n",
       "0          0.077530  \n",
       "1          0.222040  \n",
       "2          0.107931  \n",
       "3          0.097849  \n",
       "4          0.081076  "
      ]
     },
     "execution_count": 199,
     "metadata": {},
     "output_type": "execute_result"
    }
   ],
   "source": [
    "#Score the dataset -- show each donor accounts predicted probability of making a donation in the prediction window\n",
    "\n",
    "scores_all = clf.predict_proba(mdf[preds])[:,1]\n",
    "\n",
    "mdf['prob_of_donating'] = scores_all\n",
    "\n",
    "mdf.head()"
   ]
  },
  {
   "cell_type": "code",
   "execution_count": 202,
   "metadata": {},
   "outputs": [
    {
     "data": {
      "text/html": [
       "<div>\n",
       "<style scoped>\n",
       "    .dataframe tbody tr th:only-of-type {\n",
       "        vertical-align: middle;\n",
       "    }\n",
       "\n",
       "    .dataframe tbody tr th {\n",
       "        vertical-align: top;\n",
       "    }\n",
       "\n",
       "    .dataframe thead th {\n",
       "        text-align: right;\n",
       "    }\n",
       "</style>\n",
       "<table border=\"1\" class=\"dataframe\">\n",
       "  <thead>\n",
       "    <tr style=\"text-align: right;\">\n",
       "      <th></th>\n",
       "      <th>account_id</th>\n",
       "      <th>donation_recency</th>\n",
       "      <th>total_donations</th>\n",
       "      <th>donated</th>\n",
       "      <th>prob_of_donating</th>\n",
       "    </tr>\n",
       "  </thead>\n",
       "  <tbody>\n",
       "    <tr>\n",
       "      <th>0</th>\n",
       "      <td>0013600000VKRpL</td>\n",
       "      <td>4</td>\n",
       "      <td>49</td>\n",
       "      <td>1</td>\n",
       "      <td>0.999289</td>\n",
       "    </tr>\n",
       "    <tr>\n",
       "      <th>1</th>\n",
       "      <td>0013600000VKQlO</td>\n",
       "      <td>187</td>\n",
       "      <td>47</td>\n",
       "      <td>0</td>\n",
       "      <td>0.998535</td>\n",
       "    </tr>\n",
       "    <tr>\n",
       "      <th>2</th>\n",
       "      <td>0013600000VKR7J</td>\n",
       "      <td>0</td>\n",
       "      <td>43</td>\n",
       "      <td>1</td>\n",
       "      <td>0.997968</td>\n",
       "    </tr>\n",
       "    <tr>\n",
       "      <th>3</th>\n",
       "      <td>0013600000VKRsl</td>\n",
       "      <td>1</td>\n",
       "      <td>38</td>\n",
       "      <td>1</td>\n",
       "      <td>0.995088</td>\n",
       "    </tr>\n",
       "    <tr>\n",
       "      <th>4</th>\n",
       "      <td>0013600000VKQmI</td>\n",
       "      <td>20</td>\n",
       "      <td>36</td>\n",
       "      <td>1</td>\n",
       "      <td>0.992750</td>\n",
       "    </tr>\n",
       "    <tr>\n",
       "      <th>...</th>\n",
       "      <td>...</td>\n",
       "      <td>...</td>\n",
       "      <td>...</td>\n",
       "      <td>...</td>\n",
       "      <td>...</td>\n",
       "    </tr>\n",
       "    <tr>\n",
       "      <th>1431</th>\n",
       "      <td>0013600000VKRGU</td>\n",
       "      <td>1659</td>\n",
       "      <td>1</td>\n",
       "      <td>0</td>\n",
       "      <td>0.010136</td>\n",
       "    </tr>\n",
       "    <tr>\n",
       "      <th>1432</th>\n",
       "      <td>0013600000VKQqB</td>\n",
       "      <td>1660</td>\n",
       "      <td>1</td>\n",
       "      <td>0</td>\n",
       "      <td>0.010115</td>\n",
       "    </tr>\n",
       "    <tr>\n",
       "      <th>1433</th>\n",
       "      <td>0013600000YDby6</td>\n",
       "      <td>1793</td>\n",
       "      <td>1</td>\n",
       "      <td>0</td>\n",
       "      <td>0.007747</td>\n",
       "    </tr>\n",
       "    <tr>\n",
       "      <th>1434</th>\n",
       "      <td>0013600000VKRZa</td>\n",
       "      <td>1818</td>\n",
       "      <td>1</td>\n",
       "      <td>0</td>\n",
       "      <td>0.007367</td>\n",
       "    </tr>\n",
       "    <tr>\n",
       "      <th>1435</th>\n",
       "      <td>0013600000VKRCz</td>\n",
       "      <td>1818</td>\n",
       "      <td>1</td>\n",
       "      <td>0</td>\n",
       "      <td>0.007367</td>\n",
       "    </tr>\n",
       "  </tbody>\n",
       "</table>\n",
       "<p>1436 rows × 5 columns</p>\n",
       "</div>"
      ],
      "text/plain": [
       "           account_id  donation_recency  total_donations  donated  \\\n",
       "0     0013600000VKRpL                 4               49        1   \n",
       "1     0013600000VKQlO               187               47        0   \n",
       "2     0013600000VKR7J                 0               43        1   \n",
       "3     0013600000VKRsl                 1               38        1   \n",
       "4     0013600000VKQmI                20               36        1   \n",
       "...               ...               ...              ...      ...   \n",
       "1431  0013600000VKRGU              1659                1        0   \n",
       "1432  0013600000VKQqB              1660                1        0   \n",
       "1433  0013600000YDby6              1793                1        0   \n",
       "1434  0013600000VKRZa              1818                1        0   \n",
       "1435  0013600000VKRCz              1818                1        0   \n",
       "\n",
       "      prob_of_donating  \n",
       "0             0.999289  \n",
       "1             0.998535  \n",
       "2             0.997968  \n",
       "3             0.995088  \n",
       "4             0.992750  \n",
       "...                ...  \n",
       "1431          0.010136  \n",
       "1432          0.010115  \n",
       "1433          0.007747  \n",
       "1434          0.007367  \n",
       "1435          0.007367  \n",
       "\n",
       "[1436 rows x 5 columns]"
      ]
     },
     "execution_count": 202,
     "metadata": {},
     "output_type": "execute_result"
    }
   ],
   "source": [
    "mdf.sort_values('prob_of_donating', ascending = False).reset_index(drop=True)"
   ]
  },
  {
   "cell_type": "markdown",
   "metadata": {},
   "source": [
    "# Next, incorporate hyper parameter tuning with the validation set."
   ]
  },
  {
   "cell_type": "code",
   "execution_count": null,
   "metadata": {},
   "outputs": [],
   "source": []
  },
  {
   "cell_type": "code",
   "execution_count": null,
   "metadata": {},
   "outputs": [],
   "source": []
  }
 ],
 "metadata": {
  "kernelspec": {
   "display_name": "Python 3",
   "language": "python",
   "name": "python3"
  },
  "language_info": {
   "codemirror_mode": {
    "name": "ipython",
    "version": 3
   },
   "file_extension": ".py",
   "mimetype": "text/x-python",
   "name": "python",
   "nbconvert_exporter": "python",
   "pygments_lexer": "ipython3",
   "version": "3.7.7"
  }
 },
 "nbformat": 4,
 "nbformat_minor": 4
}
