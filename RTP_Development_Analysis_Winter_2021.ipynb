{
 "cells": [
  {
   "cell_type": "code",
   "execution_count": null,
   "metadata": {},
   "outputs": [],
   "source": [
    "#Check directory\n",
    "#!pwd"
   ]
  },
  {
   "cell_type": "code",
   "execution_count": null,
   "metadata": {},
   "outputs": [],
   "source": [
    "#Change directory\n",
    "#%cd /Users/georgesmith/Desktop/RTP/Season 28/Development/Analysis/"
   ]
  },
  {
   "cell_type": "code",
   "execution_count": null,
   "metadata": {},
   "outputs": [],
   "source": [
    "#Import necessary packages:\n",
    "import pandas as pd\n",
    "from pandas.plotting import scatter_matrix\n",
    "import numpy as np\n",
    "import datetime\n",
    "from datetime import date\n",
    "from datetime import datetime\n",
    "import matplotlib\n",
    "import matplotlib.pyplot as plt\n",
    "import seaborn as sns\n",
    "from scipy import stats\n",
    "from IPython.display import display\n",
    "#import itertools\n",
    "#import sys\n",
    "#Install pingouin package into this jupyter kernal\n",
    "#!{sys.executable} -m pip install pingouin\n",
    "#import pingouin as pg #this throws the warning message\n",
    "#!{sys.executable} -m pip install --upgrade statsmodels\n",
    "#import pickle\n",
    "# import plotly.offline as py\n",
    "# color = sns.color_palette()\n",
    "# import plotly.graph_objs as go\n",
    "# py.init_notebook_mode(connected=True)\n",
    "# import plotly.tools as tls\n",
    "\n",
    "\n",
    "%matplotlib inline"
   ]
  },
  {
   "cell_type": "code",
   "execution_count": null,
   "metadata": {},
   "outputs": [],
   "source": [
    "#Read in donation data:\n",
    "input_cols = ['account_id',\n",
    " 'account_name',\n",
    " 'contact_name',\n",
    " 'account_record_type',\n",
    " 'do_not_mail',\n",
    " 'donation_record_type',\n",
    " 'informal_salutation',\n",
    " 'amount',\n",
    " 'close_date',\n",
    " 'email_opt_out',\n",
    " 'contact_email',\n",
    " 'mailing_street',\n",
    " 'mailing_city',\n",
    " 'mailing_state',\n",
    " 'mailing_zip',\n",
    " 'fund',\n",
    " 'frequency',\n",
    " 'payment_type',\n",
    " 'pledge_amount',\n",
    " 'payment_schedule',\n",
    " 'type',\n",
    " 'stage',\n",
    " 'fiscal_year',\n",
    " 'fiscal_quarter',\n",
    " 'last_donation_amount',\n",
    " 'last_donation_date',\n",
    " 'close_month',\n",
    " 'anonymous',\n",
    " 'card_type',\n",
    " 'check_date',\n",
    " 'donation_matched',\n",
    " 'grant_amount',\n",
    " 'matching_amount',\n",
    " 'matching_close_date',\n",
    " 'first_donation_date',\n",
    " 'lifetime_donation_total_amount',\n",
    " 'lifetime_donation_count',\n",
    " 'lifetime_subscription_purchase_total',\n",
    " 'lifetime_single_ticket_purchase_total',\n",
    " 'lifetime_order_count']\n",
    " \n",
    "#raw_donations = pd.read_csv('/Users/georgesmith/Desktop/RTP/Season 28/Development/Analysis/donations_Jul2016_Jan112021.csv', header=0, names=input_cols)\n",
    "raw_donations = pd.read_csv('/Users/georgesmith/Desktop/RTP/Season 28/Development/Analysis/donations_Jul2014_Jan202021.csv', header=0, names=input_cols)"
   ]
  },
  {
   "cell_type": "code",
   "execution_count": null,
   "metadata": {},
   "outputs": [],
   "source": [
    "#Expand dataframe display breadth\n",
    "pd.set_option('display.max_columns', None)\n",
    "#pd.set_option('display.max_rows', None)"
   ]
  },
  {
   "cell_type": "code",
   "execution_count": null,
   "metadata": {},
   "outputs": [],
   "source": [
    "#Remove columns necessary to anonymize each record (after analysis, come back and remove 'contact_name', 'account_name')\n",
    "iden_cols = ['account_name', 'contact_name', 'informal_salutation', 'donation_matched', 'contact_email', 'mailing_street']\n",
    "donations = raw_donations.drop(iden_cols, axis=1, inplace=False)\n",
    "donations.head()"
   ]
  },
  {
   "cell_type": "code",
   "execution_count": null,
   "metadata": {},
   "outputs": [],
   "source": [
    "donations.shape"
   ]
  },
  {
   "cell_type": "code",
   "execution_count": null,
   "metadata": {},
   "outputs": [],
   "source": [
    "donations.info()"
   ]
  },
  {
   "cell_type": "code",
   "execution_count": null,
   "metadata": {},
   "outputs": [],
   "source": [
    "#Drop column(s) with all missing values ['matching_close_date']\n",
    "donations.drop('matching_close_date', axis=1, inplace=True)"
   ]
  },
  {
   "cell_type": "code",
   "execution_count": null,
   "metadata": {},
   "outputs": [],
   "source": [
    "def col_dtype_conversions(df, col_list1, new_dtype1, col_list2, new_dtype2):\n",
    "    \"\"\"\n",
    "    Converts columns in col_list1 to datatype specified in new_dtype1\n",
    "    and converts those in col_list2 to datatype specified in new_dtype2\n",
    "\n",
    "    Params\n",
    "    ------\n",
    "    df : pandas.DataFrame\n",
    "        dataframe with columns in both col_lists\n",
    "    col_list1 : list\n",
    "        list of column names to be converted to dtype specified by new_dtype1\n",
    "    new_dtype1 : str (must put in quotes)\n",
    "        data type to which columns in col_list1 will be converted\n",
    "    col_list2 : list\n",
    "        list of column names to be converted to dtype specified by new_dtype2\n",
    "    new_dtype2 : str (must put in quotes)\n",
    "        data type to which columns in col_list2 will be converted\n",
    "\n",
    "    Returns\n",
    "    -------\n",
    "    pandas.DataFrame\n",
    "        Returns a dataframe with the same columns, some of which are now cast as\n",
    "        the specified data types\n",
    "    \"\"\"\n",
    "    for col1 in col_list1:\n",
    "        df[col1] = df[col1].astype(new_dtype1)\n",
    "        for col2 in col_list2:\n",
    "            df[col2] = df[col2].astype(new_dtype2)\n",
    "    return"
   ]
  },
  {
   "cell_type": "code",
   "execution_count": null,
   "metadata": {},
   "outputs": [],
   "source": [
    "col1 = ['fiscal_year', 'do_not_mail', 'email_opt_out', 'anonymous']\n",
    "col2 = ['close_date', 'close_month', 'first_donation_date', 'last_donation_date', 'check_date']"
   ]
  },
  {
   "cell_type": "code",
   "execution_count": null,
   "metadata": {},
   "outputs": [],
   "source": [
    "col_dtype_conversions(donations, col1, 'str', col2, 'datetime64[ns]')"
   ]
  },
  {
   "cell_type": "code",
   "execution_count": null,
   "metadata": {},
   "outputs": [],
   "source": [
    "#Select donations where close_date > '2015-07-01'\n",
    "donations = donations[donations.close_date > '2015-06-30']"
   ]
  },
  {
   "cell_type": "code",
   "execution_count": null,
   "metadata": {},
   "outputs": [],
   "source": [
    "#Parse month from full dates shown in close_month column\n",
    "donations.close_month = donations.close_month.dt.month.astype('str')"
   ]
  },
  {
   "cell_type": "code",
   "execution_count": null,
   "metadata": {},
   "outputs": [],
   "source": [
    "#Confirm data type changes\n",
    "donations.info()"
   ]
  },
  {
   "cell_type": "code",
   "execution_count": null,
   "metadata": {},
   "outputs": [],
   "source": [
    "#Review the distribution of the stage column\n",
    "donations.stage.value_counts(dropna=False)"
   ]
  },
  {
   "cell_type": "code",
   "execution_count": null,
   "metadata": {},
   "outputs": [],
   "source": [
    "#Examine the 'Refunded' records to confirm that they should be dropped from this analysis\n",
    "donations[donations.stage == 'Refunded']"
   ]
  },
  {
   "cell_type": "code",
   "execution_count": null,
   "metadata": {},
   "outputs": [],
   "source": [
    "#Drop donations marked as 'Refunded' in stage column\n",
    "donations = donations[donations.stage != 'Refunded'].reset_index(drop=True)"
   ]
  },
  {
   "cell_type": "code",
   "execution_count": null,
   "metadata": {},
   "outputs": [],
   "source": [
    "#Take a closer look at records where stage == any of these: 'Partially Paid', 'Pending', 'Paid in Full', 'Not Posted'\n",
    "donations[donations.stage.isin(['Partially Paid', 'Pending', 'Paid in Full', 'Not Posted'])].reset_index()"
   ]
  },
  {
   "cell_type": "code",
   "execution_count": null,
   "metadata": {},
   "outputs": [],
   "source": [
    "donations[(donations.stage.isin(['Partially Paid', 'Pending', 'Paid in Full', 'Not Posted'])) &\n",
    "         (donations.amount.notnull())].reset_index()"
   ]
  },
  {
   "cell_type": "code",
   "execution_count": null,
   "metadata": {},
   "outputs": [],
   "source": [
    "#Since none of the records with an populated amount field and stage field equal to 'Partially Paid', 'Pending', \n",
    "#'Paid in Full', or 'Not Posted' are 'Annual Fund' records, drop them\n",
    "donations = donations[~donations.stage.isin(['Partially Paid', 'Pending', 'Paid in Full', 'Not Posted'])].reset_index(drop=True)"
   ]
  },
  {
   "cell_type": "code",
   "execution_count": null,
   "metadata": {
    "scrolled": true
   },
   "outputs": [],
   "source": [
    "#display input summary statistics for all columns\n",
    "donations.describe(include = 'all').T"
   ]
  },
  {
   "cell_type": "code",
   "execution_count": null,
   "metadata": {
    "scrolled": true
   },
   "outputs": [],
   "source": [
    "#The mean gift of all donations made from 7/1/2015 to 1/10/2021 is\n",
    "donations.describe().loc['mean', 'amount']"
   ]
  },
  {
   "cell_type": "code",
   "execution_count": null,
   "metadata": {},
   "outputs": [],
   "source": [
    "#The median gift of all donations made from 7/1/2015 to 1/10/2021 is\n",
    "donations.describe().loc['50%', 'amount']"
   ]
  },
  {
   "cell_type": "code",
   "execution_count": null,
   "metadata": {},
   "outputs": [],
   "source": [
    "#The max gift of all donations made from 7/1/2015 to 1/10/2021 is\n",
    "donations.describe().loc['max', 'amount']"
   ]
  },
  {
   "cell_type": "code",
   "execution_count": null,
   "metadata": {},
   "outputs": [],
   "source": [
    "donations.fund.value_counts(dropna=False)"
   ]
  },
  {
   "cell_type": "code",
   "execution_count": null,
   "metadata": {},
   "outputs": [],
   "source": [
    "donations[donations.fund.isna()]"
   ]
  },
  {
   "cell_type": "code",
   "execution_count": null,
   "metadata": {},
   "outputs": [],
   "source": [
    "donations[donations.fund.notnull()]"
   ]
  },
  {
   "cell_type": "code",
   "execution_count": null,
   "metadata": {},
   "outputs": [],
   "source": [
    "#Donations with missing values in the fund column are Annual Fund gifts made online -- reassign accordingly\n",
    "donations.fund.fillna('Annual Fund', inplace=True)"
   ]
  },
  {
   "cell_type": "code",
   "execution_count": null,
   "metadata": {},
   "outputs": [],
   "source": [
    "donations.fund.value_counts(dropna=False)"
   ]
  },
  {
   "cell_type": "code",
   "execution_count": null,
   "metadata": {},
   "outputs": [],
   "source": [
    "#Consolidate all Annual Fund donations under a common string\n",
    "donations.fund = np.where(donations.fund.isin(['ANN', 'Annual Fund Historical']), 'Annual Fund', donations.fund)"
   ]
  },
  {
   "cell_type": "code",
   "execution_count": null,
   "metadata": {},
   "outputs": [],
   "source": [
    "#Confirm\n",
    "donations.fund.value_counts(dropna=False)"
   ]
  },
  {
   "cell_type": "code",
   "execution_count": null,
   "metadata": {},
   "outputs": [],
   "source": [
    "#Group levels referencing the same fund under common levels\n",
    "donations.loc[(donations['fund'].isin([\"25th Anniversary Campaign Fund\", '25th Anniversary Fund', '25TH'])), 'fund'] = \"25th Anniversary Capital Campaign\"\n",
    "donations.loc[(donations['fund'] == 'NEXT'), 'fund'] = \"Next Stage Campaign\"\n",
    "donations.loc[(donations['fund'] == 'John Knapp -Tim Gillham Fund'), 'fund'] = \"New Works (Knapp-Gillham) Fund\"\n",
    "donations.loc[(donations['fund'].isin([\"Education Program Fund\", 'EDUC'])), 'fund'] = \"Education Fund\"\n",
    "donations.loc[(donations['fund'] == 'MMP'), 'fund'] = \"Mary Morton Parsons Challenge Grant Match\""
   ]
  },
  {
   "cell_type": "code",
   "execution_count": null,
   "metadata": {},
   "outputs": [],
   "source": [
    "donations[donations.fund == 'Advertiser']"
   ]
  },
  {
   "cell_type": "code",
   "execution_count": null,
   "metadata": {},
   "outputs": [],
   "source": [
    "#Reviewed cleaned fund column distribution\n",
    "donations.fund.value_counts(dropna=False)"
   ]
  },
  {
   "cell_type": "markdown",
   "metadata": {},
   "source": [
    "Finding variation in how Advertising placement 'donations' are stored. For Data Dictionary and updating records/entries going forward: we'll note advertising payments with\n",
    "#donation_record_type = Ad Deposit / Ad Balance\n",
    "#fund = Advertiser\n",
    "#type = Sale"
   ]
  },
  {
   "cell_type": "markdown",
   "metadata": {},
   "source": [
    "The maximum values in the amount and pledge_amount columns highlight that the dataframe includes donations made by all account_record_types, including foundations and businesses. Because this analysis focuses on individual giving, we'll select only records where account_record_type == ['Individual', ' Household']. "
   ]
  },
  {
   "cell_type": "code",
   "execution_count": null,
   "metadata": {},
   "outputs": [],
   "source": [
    "donations = donations[donations['account_record_type'].isin(['Individual', 'Household'])].reset_index(drop=True)\n",
    "donations.head()"
   ]
  },
  {
   "cell_type": "code",
   "execution_count": null,
   "metadata": {},
   "outputs": [],
   "source": [
    "donations.account_record_type.value_counts()"
   ]
  },
  {
   "cell_type": "markdown",
   "metadata": {},
   "source": [
    "Additionally, with 0 shown as the minimum donation amount in a dataframes where each row is a donation record, we examine those records to determine what information these rows are actually storing. Subsequently, we can decide which, if any, should/can be removed from our donation analysis. UPDATE: E.D. instructs to remove donations where amount == 0 (from PatronManager)"
   ]
  },
  {
   "cell_type": "code",
   "execution_count": null,
   "metadata": {},
   "outputs": [],
   "source": [
    "donations[donations['amount'] == 0]"
   ]
  },
  {
   "cell_type": "code",
   "execution_count": null,
   "metadata": {},
   "outputs": [],
   "source": [
    "#Remove the 2 records where amount == 0 as they don't appear to hold any valuable information.\n",
    "donations = donations[donations['amount'] != 0]"
   ]
  },
  {
   "cell_type": "code",
   "execution_count": null,
   "metadata": {},
   "outputs": [],
   "source": [
    "#Display summary statistics\n",
    "donations.describe(include = 'all').T"
   ]
  },
  {
   "cell_type": "markdown",
   "metadata": {},
   "source": [
    "Because $25,000 seems a bit high for an individual donor's pledge AND grants tend to be awarded by foundations or government, the pledge_amount and grant_amount maximum and count metrics, respectively, stand out among Individual/Household account summary statistics. We'll take a closer look to see what's happening with these. "
   ]
  },
  {
   "cell_type": "code",
   "execution_count": null,
   "metadata": {},
   "outputs": [],
   "source": [
    "#Examine the donation record that records a $25,000 pledge\n",
    "donations[donations.pledge_amount == 25000]"
   ]
  },
  {
   "cell_type": "markdown",
   "metadata": {},
   "source": [
    "The $25,000 pledge is, in fact, accurately entered."
   ]
  },
  {
   "cell_type": "code",
   "execution_count": null,
   "metadata": {},
   "outputs": [],
   "source": [
    "#Examine the donation record that records a grant\n",
    "donations[donations.grant_amount.notnull()]"
   ]
  },
  {
   "cell_type": "markdown",
   "metadata": {},
   "source": [
    "Executive Director tells me this is, in fact, an individual donor's annual fund donation, which is correctly designated as a grant because it comes from their family advised fund."
   ]
  },
  {
   "cell_type": "code",
   "execution_count": null,
   "metadata": {},
   "outputs": [],
   "source": [
    "#Reassign this record to annual fund donation (i.e. change donation_record_type to Donation & amount to $100)\n",
    "donations.loc[(donations.account_id == '0013600000ggdlM'), 'last_donation_date'] = '2020-12-21'\n",
    "donations.loc[(donations.account_id == '0013600000ggdlM'), 'last_donation_amount'] = 100\n",
    "donations.loc[(donations.account_id == '0013600000ggdlM') & (donations.close_date == '2020-12-21'), 'donation_record_type'] = 'Donation'\n",
    "donations.loc[(donations.account_id == '0013600000ggdlM') & (donations.close_date == '2020-12-21'), 'amount'] = 100"
   ]
  },
  {
   "cell_type": "code",
   "execution_count": null,
   "metadata": {},
   "outputs": [],
   "source": [
    "donations[donations.account_id == '0013600000ggdlM']"
   ]
  },
  {
   "cell_type": "code",
   "execution_count": null,
   "metadata": {
    "scrolled": true
   },
   "outputs": [],
   "source": [
    "#Check out the max donations record (from dataset with wider timeframe)\n",
    "donations[donations.amount == 158115.36]"
   ]
  },
  {
   "cell_type": "markdown",
   "metadata": {},
   "source": [
    "The 'Next Stage Campaign' donation above reminds us that we'll need to select only annual fund gifts for the analysis once we impute missing values."
   ]
  },
  {
   "cell_type": "code",
   "execution_count": null,
   "metadata": {
    "scrolled": true
   },
   "outputs": [],
   "source": [
    "#Check out the max donations record\n",
    "donations[donations.amount == 25000]"
   ]
  },
  {
   "cell_type": "markdown",
   "metadata": {},
   "source": [
    "The 'Project Fund' and 'New Works Fund\" donations above reminds us that we'll need to select only annual fund gifts for the analysis once we impute missing values."
   ]
  },
  {
   "cell_type": "code",
   "execution_count": null,
   "metadata": {},
   "outputs": [],
   "source": [
    "#View donation_record_type category counts\n",
    "donations.donation_record_type.value_counts(dropna=False)"
   ]
  },
  {
   "cell_type": "code",
   "execution_count": null,
   "metadata": {},
   "outputs": [],
   "source": [
    "#Subset the pledge records from the actual donations\n",
    "pledges = donations[donations.donation_record_type == 'Pledge']"
   ]
  },
  {
   "cell_type": "code",
   "execution_count": null,
   "metadata": {},
   "outputs": [],
   "source": [
    "#Review Corporate Donations to understand why they were made by an/a individual/household account.\n",
    "donations[donations.donation_record_type == 'Corporate Donation']"
   ]
  },
  {
   "cell_type": "markdown",
   "metadata": {},
   "source": [
    "These are advertising payments. Filter from analysis and correct in PatronManager."
   ]
  },
  {
   "cell_type": "code",
   "execution_count": null,
   "metadata": {},
   "outputs": [],
   "source": [
    "#Select only donations applicable to stewardship program (i.e. hh or individual account record type; fund == annual fund; \n",
    "#donation records type isin(['Donation', 'PatronTicket Donation', 'Pledge Payment', 'Grant', 'Matching Donation']))\n",
    "donations = donations[donations.donation_record_type.isin(['Donation', 'PatronTicket Donation', 'Pledge Payment', 'Grant', 'Matching Donation'])]"
   ]
  },
  {
   "cell_type": "code",
   "execution_count": null,
   "metadata": {
    "scrolled": false
   },
   "outputs": [],
   "source": [
    "donations[donations.amount.isna()]"
   ]
  },
  {
   "cell_type": "code",
   "execution_count": null,
   "metadata": {},
   "outputs": [],
   "source": [
    "#Filter out the donation record(s) id-ed above where amount is nan\n",
    "donations = donations[donations.amount.notnull()].reset_index(drop=True)"
   ]
  },
  {
   "cell_type": "code",
   "execution_count": null,
   "metadata": {},
   "outputs": [],
   "source": [
    "#Remove PatronManager Client Services records from analysis (i.e account_id == '0013600000TKzRp')\n",
    "donations = donations[donations.account_id != '0013600000TKzRp']"
   ]
  },
  {
   "cell_type": "markdown",
   "metadata": {},
   "source": [
    "**How many new donors did we acquire over the period FY 2016-2021 (to 1/20/2021)**"
   ]
  },
  {
   "cell_type": "code",
   "execution_count": null,
   "metadata": {},
   "outputs": [],
   "source": [
    "len(donations[donations['first_donation_date'] >'2015-06-30'].account_id.unique())"
   ]
  },
  {
   "cell_type": "code",
   "execution_count": null,
   "metadata": {
    "scrolled": true
   },
   "outputs": [],
   "source": [
    "#Show the first time donors\n",
    "donations.drop_duplicates('account_id')[donations.drop_duplicates('account_id')['first_donation_date'] > '2015-06-30'].reset_index(drop=True)"
   ]
  },
  {
   "cell_type": "markdown",
   "metadata": {},
   "source": [
    "RTP acquired 1311 new donors during the years under review"
   ]
  },
  {
   "cell_type": "code",
   "execution_count": null,
   "metadata": {
    "scrolled": false
   },
   "outputs": [],
   "source": [
    "donations.describe(include='all').T"
   ]
  },
  {
   "cell_type": "markdown",
   "metadata": {},
   "source": [
    "# DOUBLE CHECK THIS STAT"
   ]
  },
  {
   "cell_type": "markdown",
   "metadata": {},
   "source": [
    "*Noteworthy statistic: 1306 first time donations / acquired donors of the 4314 (30.27%) individual/household account donations we've received over the past 4.5 years have been first-time donations.*"
   ]
  },
  {
   "cell_type": "code",
   "execution_count": null,
   "metadata": {},
   "outputs": [],
   "source": [
    "#Generate summary stats for nonAF donations\n",
    "donations.loc[donations.fund != 'Annual Fund', :].copy().reset_index(drop=True).describe(include='all').T"
   ]
  },
  {
   "cell_type": "markdown",
   "metadata": {},
   "source": [
    "*From July 1, 2015 - January 10, 2021, the mean donation across all funds, except for the annual fund, is 3550.5, median 300.*"
   ]
  },
  {
   "cell_type": "markdown",
   "metadata": {},
   "source": [
    "**Select only the Annual Fund records as they are the primary donations our communications efforts are meant to drive.**"
   ]
  },
  {
   "cell_type": "code",
   "execution_count": null,
   "metadata": {},
   "outputs": [],
   "source": [
    "aFund = donations.loc[donations.fund == 'Annual Fund', :].copy().reset_index(drop=True)"
   ]
  },
  {
   "cell_type": "code",
   "execution_count": null,
   "metadata": {
    "scrolled": true
   },
   "outputs": [],
   "source": [
    "aFund.payment_type.value_counts(dropna=False)"
   ]
  },
  {
   "cell_type": "code",
   "execution_count": null,
   "metadata": {},
   "outputs": [],
   "source": [
    "#Assign group levels referencing the same payment_type to common levels\n",
    "aFund.loc[(aFund['payment_type'] == 'CRED'), 'payment_type'] = \"Credit Card\"\n",
    "aFund.loc[(aFund['payment_type'] == 'Third Party'), 'payment_type'] = \"Credit Card - Third Party\"\n",
    "aFund.loc[(aFund['payment_type'] == 'INKND'), 'payment_type'] = \"In Kind\""
   ]
  },
  {
   "cell_type": "code",
   "execution_count": null,
   "metadata": {},
   "outputs": [],
   "source": [
    "aFund.loc[(aFund['payment_type'].isna()) & aFund['check_date'].notnull(), 'payment_type'] = \"Check\""
   ]
  },
  {
   "cell_type": "code",
   "execution_count": null,
   "metadata": {
    "scrolled": true
   },
   "outputs": [],
   "source": [
    "aFund.loc[aFund.payment_type.isna()].sort_values('close_date')"
   ]
  },
  {
   "cell_type": "code",
   "execution_count": null,
   "metadata": {},
   "outputs": [],
   "source": [
    "#Assign the remaining records to check\n",
    "aFund.loc[aFund['payment_type'].isna(), 'payment_type'] = \"Check\""
   ]
  },
  {
   "cell_type": "code",
   "execution_count": null,
   "metadata": {
    "scrolled": true
   },
   "outputs": [],
   "source": [
    "plt.figure(figsize=[15,6])\n",
    "sns.countplot(aFund.payment_type)\n",
    "plt.xticks(rotation=45)"
   ]
  },
  {
   "cell_type": "code",
   "execution_count": null,
   "metadata": {},
   "outputs": [],
   "source": [
    "#Remove the In Kind donations as they are not driven by campaigns that raise money for the annual fund:\n",
    "aFund = aFund[aFund.payment_type != 'In Kind']"
   ]
  },
  {
   "cell_type": "code",
   "execution_count": null,
   "metadata": {
    "scrolled": true
   },
   "outputs": [],
   "source": [
    "#Did it work?\n",
    "aFund[aFund.payment_type == 'In Kind']"
   ]
  },
  {
   "cell_type": "markdown",
   "metadata": {},
   "source": [
    "Because the donors who gave the in kind donations also donated money, this in kind record removal doesn't impact the acquired donor calculation above."
   ]
  },
  {
   "cell_type": "code",
   "execution_count": null,
   "metadata": {},
   "outputs": [],
   "source": [
    "aFund.shape"
   ]
  },
  {
   "cell_type": "code",
   "execution_count": null,
   "metadata": {},
   "outputs": [],
   "source": [
    "#Review updated summary statistics\n",
    "aFund.describe(include = 'all').T"
   ]
  },
  {
   "cell_type": "markdown",
   "metadata": {},
   "source": [
    "*Only 193 of 4111 (4.69%) individual/household donations were made to funds others than 'Annual Fund'*"
   ]
  },
  {
   "cell_type": "code",
   "execution_count": null,
   "metadata": {},
   "outputs": [],
   "source": [
    "figure, ax = plt.subplots(5,2, figsize=(12,24))\n",
    "\n",
    "#See the distrubution of the data\n",
    "\n",
    "sns.distplot(aFund['amount'],ax= ax[0,0])\n",
    "sns.distplot(aFund['last_donation_amount'],ax=ax[0,1])\n",
    "sns.distplot(aFund['lifetime_donation_count'],ax= ax[1,0])\n",
    "sns.distplot(aFund['lifetime_donation_total_amount'],ax= ax[1,1])\n",
    "sns.distplot(aFund['lifetime_single_ticket_purchase_total'],ax= ax[2,0])\n",
    "sns.distplot(aFund['lifetime_subscription_purchase_total'],ax=ax[2,1])\n",
    "sns.countplot(donations['fund'],ax= ax[3,0])\n",
    "sns.countplot(aFund['close_month'],ax= ax[3,1])\n",
    "sns.distplot(aFund['lifetime_order_count'],ax= ax[4,0])\n",
    "sns.countplot(aFund['payment_type'],ax=ax[4,1])\n",
    "\n",
    "\n",
    "plt.show() #optional line -- eliminates strange text output before plots"
   ]
  },
  {
   "cell_type": "code",
   "execution_count": null,
   "metadata": {},
   "outputs": [],
   "source": [
    "aFund['amount'].hist().plot(kind='bar')\n",
    "plt.title('Donation Amount Distribution')"
   ]
  },
  {
   "cell_type": "code",
   "execution_count": null,
   "metadata": {},
   "outputs": [],
   "source": [
    "import plotly.graph_objects as go # To Generate Graphs\n",
    "import plotly.express as px # To Generate box plot for statistical representation\n",
    "fig = px.box(aFund, x='fiscal_year', y='amount')\n",
    "fig.show()"
   ]
  },
  {
   "cell_type": "code",
   "execution_count": null,
   "metadata": {},
   "outputs": [],
   "source": [
    "pd.set_option('display.max_rows', None)\n",
    "aFund.groupby('close_date')['amount'].sum().reset_index().sort_values('close_date')"
   ]
  },
  {
   "cell_type": "code",
   "execution_count": null,
   "metadata": {},
   "outputs": [],
   "source": [
    "#Plot the daily annual fund donation totals\n",
    "\n",
    "#set style\n",
    "sns.set(style='darkgrid')\n",
    "\n",
    "#Adjust the plot size\n",
    "plt.figure(figsize=[15,6])\n",
    "\n",
    "#Line Plot\n",
    "sns.lineplot(x=aFund.groupby('close_date')['amount'].sum().index, y=aFund.groupby('close_date')['amount'].sum().values, color='green')\n",
    "\n",
    "#Assign axis labels:\n",
    "plt.ylabel('Donation Total ($)', fontsize=14)\n",
    "plt.xlabel('Close Date', fontsize=14)\n",
    "plt.title('Annual Fund Donation Totals Per Day', fontsize=16)"
   ]
  },
  {
   "cell_type": "code",
   "execution_count": null,
   "metadata": {},
   "outputs": [],
   "source": [
    "#Visualize donations over time\n",
    "dons = aFund.plot.scatter('close_date', 'amount')\n",
    "plt.title(\"Donation Amounts By Close Date (FY2016 - FY2021)\")"
   ]
  },
  {
   "cell_type": "code",
   "execution_count": null,
   "metadata": {},
   "outputs": [],
   "source": [
    "aFund[aFund.amount < 6000].plot('close_date', 'amount', kind='scatter', alpha=.35)"
   ]
  },
  {
   "cell_type": "code",
   "execution_count": null,
   "metadata": {},
   "outputs": [],
   "source": [
    "aFund[aFund.amount < 1001].plot('close_date', 'amount', kind='scatter', alpha=.25)"
   ]
  },
  {
   "cell_type": "code",
   "execution_count": null,
   "metadata": {
    "scrolled": true
   },
   "outputs": [],
   "source": [
    "aFund.groupby('close_date')['amount'].sum()"
   ]
  },
  {
   "cell_type": "code",
   "execution_count": null,
   "metadata": {},
   "outputs": [],
   "source": [
    "#Plot the daily annual fund donation totals\n",
    "\n",
    "#set style\n",
    "sns.set(style='darkgrid')\n",
    "\n",
    "#Adjust the plot size\n",
    "plt.figure(figsize=[15,6])\n",
    "\n",
    "#Line Plot\n",
    "sns.swarmplot(x=aFund.groupby('close_date')['amount'].sum().index, y=aFund.groupby('close_date')['amount'].sum().values, color='magenta')\n",
    "\n",
    "#Assign axis labels:\n",
    "plt.ylabel('Donation Total ($)', fontsize=14)\n",
    "plt.xlabel('Close Date', fontsize=14)\n",
    "plt.title('Annual Fund Donation Totals Per Day')"
   ]
  },
  {
   "cell_type": "code",
   "execution_count": null,
   "metadata": {},
   "outputs": [],
   "source": [
    "aFund.groupby('close_date')['amount'].sum().sort_values()"
   ]
  },
  {
   "cell_type": "code",
   "execution_count": null,
   "metadata": {},
   "outputs": [],
   "source": [
    "ax = aFund.groupby('close_date')['amount'].sum().hist(bins = 40).plot(kind='bar')\n",
    "plt.title('Donation Amount Distribution')"
   ]
  },
  {
   "cell_type": "code",
   "execution_count": null,
   "metadata": {
    "scrolled": true
   },
   "outputs": [],
   "source": [
    "#The mean gift of all donations made from 7/1/2015 to 1/10/2021 is\n",
    "aFund.describe().loc['mean', 'amount']"
   ]
  },
  {
   "cell_type": "code",
   "execution_count": null,
   "metadata": {},
   "outputs": [],
   "source": [
    "#The median gift of all donations made from 7/1/2015 to 1/10/2021 is\n",
    "aFund.describe().loc['50%', 'amount']"
   ]
  },
  {
   "cell_type": "code",
   "execution_count": null,
   "metadata": {},
   "outputs": [],
   "source": [
    "#The mean gift of all donations made from 7/1/2015 to 1/10/2021 is\n",
    "aFund.describe().loc['max', 'amount']"
   ]
  },
  {
   "cell_type": "markdown",
   "metadata": {},
   "source": [
    "# Examine Individual Donor Engagement Patterns"
   ]
  },
  {
   "cell_type": "markdown",
   "metadata": {},
   "source": [
    "Determine which and how many individual/household donor accounts made annual fund contributions in each of the fiscal year (2016-2021). Additionally, show how many donations each account made, along with their sums, per fiscal year."
   ]
  },
  {
   "cell_type": "code",
   "execution_count": null,
   "metadata": {},
   "outputs": [],
   "source": [
    "#How many annual fund contributions did each donor make over the period?\n",
    "aFund.groupby(['account_id'])['fiscal_year'].count().sort_values(ascending=False)"
   ]
  },
  {
   "cell_type": "code",
   "execution_count": null,
   "metadata": {},
   "outputs": [],
   "source": [
    "aFund.groupby(['account_id'])['fiscal_year'].count().sort_values(ascending=False).values"
   ]
  },
  {
   "cell_type": "code",
   "execution_count": null,
   "metadata": {
    "scrolled": true
   },
   "outputs": [],
   "source": [
    "aFund.groupby(['fiscal_year', 'account_id']).count().sort_values(by=['fiscal_year', 'account_id'])"
   ]
  },
  {
   "cell_type": "code",
   "execution_count": null,
   "metadata": {},
   "outputs": [],
   "source": [
    "#How many annual fund donations were made in each fiscal year over the analysis period\n",
    "aFund.groupby(['fiscal_year'])['account_id'].count()"
   ]
  },
  {
   "cell_type": "code",
   "execution_count": null,
   "metadata": {},
   "outputs": [],
   "source": [
    "aFund.groupby(['fiscal_year'])['amount'].count()"
   ]
  },
  {
   "cell_type": "code",
   "execution_count": null,
   "metadata": {
    "scrolled": true
   },
   "outputs": [],
   "source": [
    "aFund[aFund['fiscal_year'] == '2016'].reset_index(drop=True)"
   ]
  },
  {
   "cell_type": "code",
   "execution_count": null,
   "metadata": {},
   "outputs": [],
   "source": [
    "#How many annual fund donors by fy?\n",
    "aFund.groupby(['fiscal_year'])['account_id'].nunique()"
   ]
  },
  {
   "cell_type": "code",
   "execution_count": null,
   "metadata": {},
   "outputs": [],
   "source": [
    "aFund[aFund['fiscal_year'] == '2016'].drop_duplicates('account_id').reset_index(drop=True)"
   ]
  },
  {
   "cell_type": "code",
   "execution_count": null,
   "metadata": {
    "scrolled": true
   },
   "outputs": [],
   "source": [
    "#What's the average number of annual fund gifts given in each fiscal year from FY2016- FY2021 (current date of)\n",
    "aFund.groupby(['fiscal_year'])['account_id'].count().values.mean()"
   ]
  },
  {
   "cell_type": "code",
   "execution_count": null,
   "metadata": {},
   "outputs": [],
   "source": [
    "#average before last fiscal year\n",
    "aFund.groupby(['fiscal_year'])['account_id'].count().values[:4].mean()"
   ]
  },
  {
   "cell_type": "code",
   "execution_count": null,
   "metadata": {
    "scrolled": true
   },
   "outputs": [],
   "source": [
    "#Plot the annual fund means by fiscal year\n",
    "\n",
    "#set style\n",
    "sns.set(style='darkgrid')\n",
    "\n",
    "#Adjust the plot size\n",
    "plt.figure(figsize=[10,5])\n",
    "\n",
    "#Line Plot\n",
    "g = sns.barplot(x=aFund.groupby(['fiscal_year'])['account_id'].count().index, y=aFund.groupby(['fiscal_year'])['account_id'].count().values, \n",
    "            hue=aFund.groupby(['fiscal_year'])['amount'].count().loc[['2016', '2017', '2018', '2019', '2020', '2021']].index,\n",
    "            dodge=False)\n",
    "g.legend().set_title('RTP Fiscal Year')\n",
    "\n",
    "#Assign axis labels:\n",
    "plt.ylabel('Number of Donations', fontsize=14)\n",
    "plt.xlabel('Fiscal Year', fontsize=14)\n",
    "plt.title('Annual Fund Donation Counts By Fiscal Year (July 1 - June 30)', fontsize=14)\n",
    "\n",
    "#Annotate\n",
    "# This is the location for the annotated text\n",
    "i = 1.0\n",
    "j = 0\n",
    "# Annotating the bar plot with the values (means by fy)\n",
    "for i in range(len(['2016', '2017', '2018', '2019', '2020', '2021'])):\n",
    "    plt.annotate(round(aFund.groupby(['fiscal_year'])['account_id'].count().loc[['2016', '2017', '2018', '2019', '2020', '2021']], 2).values[i],\n",
    "                 (-0.1 + i, aFund.groupby(['fiscal_year'])['account_id'].count().loc[['2016', '2017', '2018', '2019', '2020', '2021']].values[i] + j), \n",
    "                 fontsize=13)\n",
    "    \n",
    "plt.show()"
   ]
  },
  {
   "cell_type": "code",
   "execution_count": null,
   "metadata": {
    "scrolled": true
   },
   "outputs": [],
   "source": [
    "#Plot the annual fund means by fiscal year\n",
    "\n",
    "#set style\n",
    "sns.set(style='darkgrid')\n",
    "\n",
    "#Adjust the plot size\n",
    "plt.figure(figsize=[10,5])\n",
    "\n",
    "#Line Plot\n",
    "g = sns.barplot(x=aFund.groupby(['fiscal_year'])['account_id'].nunique().index, y=aFund.groupby(['fiscal_year'])['account_id'].nunique().values, \n",
    "            hue=aFund.groupby(['fiscal_year'])['account_id'].nunique().loc[['2016', '2017', '2018', '2019', '2020', '2021']].index,\n",
    "            dodge=False)\n",
    "g.legend().set_title('RTP Fiscal Year')\n",
    "\n",
    "#Assign axis labels:\n",
    "plt.ylabel('Number of Unique Donors (Account IDs)', fontsize=14)\n",
    "plt.xlabel('Fiscal Year', fontsize=14)\n",
    "plt.title('Annual Fund Donor Volume By Fiscal Year (July 1 - June 30)', fontsize=14)\n",
    "\n",
    "#Annotate\n",
    "# This is the location for the annotated text\n",
    "i = 1.0\n",
    "j = 0\n",
    "# Annotating the bar plot with the values (means by fy)\n",
    "for i in range(len(['2016', '2017', '2018', '2019', '2020', '2021'])):\n",
    "    plt.annotate(round(aFund.groupby(['fiscal_year'])['account_id'].nunique().loc[['2016', '2017', '2018', '2019', '2020', '2021']], 2).values[i],\n",
    "                 (-0.1 + i, aFund.groupby(['fiscal_year'])['account_id'].nunique().loc[['2016', '2017', '2018', '2019', '2020', '2021']].values[i] + j), \n",
    "                 fontsize=13)\n",
    "    \n",
    "plt.show()"
   ]
  },
  {
   "cell_type": "code",
   "execution_count": null,
   "metadata": {},
   "outputs": [],
   "source": [
    "#Plot the annual fund means by fiscal year\n",
    "\n",
    "#set style\n",
    "sns.set(style='darkgrid')\n",
    "\n",
    "#Adjust the plot size\n",
    "plt.figure(figsize=[15,6])\n",
    "\n",
    "#Line Plot\n",
    "g = sns.barplot(x=aFund.groupby(['fiscal_year'])['amount'].sum().index, y=aFund.groupby(['fiscal_year'])['amount'].sum().values, \n",
    "            hue=aFund.groupby(['fiscal_year'])['amount'].sum().loc[['2016', '2017', '2018', '2019', '2020', '2021']].index,\n",
    "            dodge=False)\n",
    "g.legend().set_title(\"RTP_Fiscal_Year\")\n",
    "\n",
    "#Assign axis labels:\n",
    "plt.ylabel('Donation Totals ($)', fontsize=14)\n",
    "plt.xlabel('Fiscal Year', fontsize=14)\n",
    "plt.title('Annual Fund Donation Totals By Fiscal Year (July 1 - June 30)', fontsize=14)\n",
    "\n",
    "#Annotate\n",
    "# This is the location for the annotated text\n",
    "i = 1.0\n",
    "j = 10\n",
    "# Annotating the bar plot with the values (means by fy)\n",
    "for i in range(len(np.sort(aFund.fiscal_year.unique()))):\n",
    "    plt.annotate(round(aFund.groupby(['fiscal_year'])['amount'].sum().loc[['2016', '2017', '2018', '2019', '2020', '2021']], 2).values[i],\n",
    "                 (-0.1 + i, aFund.groupby(['fiscal_year'])['amount'].sum().loc[['2016', '2017', '2018', '2019', '2020', '2021']].values[i] + j), \n",
    "                 fontsize=13)\n",
    "    \n",
    "plt.show()"
   ]
  },
  {
   "cell_type": "code",
   "execution_count": null,
   "metadata": {},
   "outputs": [],
   "source": [
    "sns.boxplot(x='fiscal_year',y='amount',data=aFund[aFund.amount <2000])"
   ]
  },
  {
   "cell_type": "code",
   "execution_count": null,
   "metadata": {},
   "outputs": [],
   "source": [
    "sns.boxplot(x='fiscal_year',y='amount',data=aFund[aFund.amount <500])"
   ]
  },
  {
   "cell_type": "code",
   "execution_count": null,
   "metadata": {},
   "outputs": [],
   "source": [
    "aFund.groupby(['fiscal_year'])['amount'].median()"
   ]
  },
  {
   "cell_type": "code",
   "execution_count": null,
   "metadata": {},
   "outputs": [],
   "source": [
    "#Plot the annual fund medians by fiscal year\n",
    "\n",
    "#set style\n",
    "sns.set(style='darkgrid')\n",
    "\n",
    "#Adjust the plot size\n",
    "plt.figure(figsize=[15,6])\n",
    "\n",
    "#Line Plot\n",
    "sns.barplot(x=aFund.groupby(['fiscal_year'])['amount'].median().index, y=aFund.groupby(['fiscal_year'])['amount'].median().values, color='green')\n",
    "\n",
    "#Assign axis labels:\n",
    "plt.ylabel('Median Donations ($)', fontsize=14)\n",
    "plt.xlabel('Fiscal Year', fontsize=14)\n",
    "plt.title('Annual Fund Donation Median By Fiscal Year (July 1 - June 30)', fontsize=14)\n",
    "\n",
    "#Annotate\n",
    "# This is the location for the annotated text\n",
    "i = 1.0\n",
    "j = 0\n",
    "# Annotating the bar plot with the values (means by fy)\n",
    "for i in range(len(np.sort(aFund.fiscal_year.unique()))):\n",
    "    plt.annotate(round(aFund.groupby(['fiscal_year'])['amount'].median().loc[np.sort(aFund.fiscal_year.unique())], 2).values[i],\n",
    "                 (-0.1 + i, aFund.groupby(['fiscal_year'])['amount'].median().loc[np.sort(aFund.fiscal_year.unique())].values[i] + j), \n",
    "                 fontsize=13)\n",
    "    \n",
    "plt.show()"
   ]
  },
  {
   "cell_type": "code",
   "execution_count": null,
   "metadata": {},
   "outputs": [],
   "source": [
    "#Plot the annual fund medians by fiscal year\n",
    "\n",
    "#set style\n",
    "sns.set(style='darkgrid')\n",
    "\n",
    "#Adjust the plot size\n",
    "plt.figure(figsize=[15,6])\n",
    "\n",
    "#Line Plot\n",
    "sns.barplot(x=aFund.groupby(['fiscal_year'])['amount'].mean().index, y=aFund.groupby(['fiscal_year'])['amount'].mean().values, color='green')\n",
    "\n",
    "#Assign axis labels:\n",
    "plt.ylabel('Mean Donations ($)', fontsize=14)\n",
    "plt.xlabel('Fiscal Year', fontsize=14)\n",
    "plt.title('Annual Fund Donation Mean By Fiscal Year (July 1 - June 30)', fontsize=14)\n",
    "\n",
    "#Annotate\n",
    "# This is the location for the annotated text\n",
    "i = 1.0\n",
    "j = 0\n",
    "# Annotating the bar plot with the values (means by fy)\n",
    "for i in range(len(np.sort(aFund.fiscal_year.unique()))):\n",
    "    plt.annotate(round(aFund.groupby(['fiscal_year'])['amount'].mean().loc[np.sort(aFund.fiscal_year.unique())], 2).values[i],\n",
    "                 (-0.1 + i, aFund.groupby(['fiscal_year'])['amount'].mean().loc[np.sort(aFund.fiscal_year.unique())].values[i] + j), \n",
    "                 fontsize=13)\n",
    "    \n",
    "plt.show()"
   ]
  },
  {
   "cell_type": "code",
   "execution_count": null,
   "metadata": {},
   "outputs": [],
   "source": [
    "fq_wfy = pd.DataFrame(aFund.groupby(['fiscal_quarter'])['amount'].mean().loc[['Q1-2016', 'Q2-2016', 'Q3-2016','Q4-2016', 'Q1-2017', 'Q2-2017', 'Q3-2017','Q4-2017','Q1-2018', 'Q2-2018', 'Q3-2018','Q4-2018', 'Q1-2019', 'Q2-2019', 'Q3-2019','Q4-2019',\n",
    "                     'Q1-2020', 'Q2-2020', 'Q3-2020','Q4-2020', 'Q1-2021', 'Q2-2021', 'Q3-2021']])\n",
    "#Add 'FY' to year to clarify the legend labels\n",
    "fq_wfy['fiscal_year'] = np.concatenate([np.repeat('FY 2016', 4), np.repeat('FY 2017', 4), np.repeat('FY 2018', 4), np.repeat('FY 2019', 4), np.repeat('FY 2020', 4), np.repeat('FY 2021', 3)])\n",
    "fq_wfy['fiscal_year']#Create fiscal year array for coloring bars based on fiscal year"
   ]
  },
  {
   "cell_type": "code",
   "execution_count": null,
   "metadata": {},
   "outputs": [],
   "source": [
    "fq_wfy"
   ]
  },
  {
   "cell_type": "code",
   "execution_count": null,
   "metadata": {
    "scrolled": true
   },
   "outputs": [],
   "source": [
    "aFund.groupby(['fiscal_quarter'])['amount'].sum()"
   ]
  },
  {
   "cell_type": "code",
   "execution_count": null,
   "metadata": {},
   "outputs": [],
   "source": [
    "#Plot the annual fund totals by fiscal quarter\n",
    "\n",
    "#set style\n",
    "sns.set(style='darkgrid')\n",
    "\n",
    "#Adjust the plot size\n",
    "plt.figure(figsize=[15,6])\n",
    "\n",
    "#Line Plot\n",
    "g = sns.barplot(x=aFund.groupby(['fiscal_quarter'])['amount'].count().loc[['Q1-2016', 'Q2-2016', 'Q3-2016','Q4-2016', 'Q1-2017', 'Q2-2017', 'Q3-2017','Q4-2017','Q1-2018', 'Q2-2018', 'Q3-2018','Q4-2018', 'Q1-2019', 'Q2-2019', 'Q3-2019','Q4-2019',\n",
    "                     'Q1-2020', 'Q2-2020', 'Q3-2020','Q4-2020', 'Q1-2021', 'Q2-2021', 'Q3-2021']].index, \n",
    "            y=aFund.groupby(['fiscal_quarter'])['amount'].count().loc[['Q1-2016', 'Q2-2016', 'Q3-2016','Q4-2016', 'Q1-2017', 'Q2-2017', 'Q3-2017','Q4-2017','Q1-2018', 'Q2-2018', 'Q3-2018','Q4-2018', 'Q1-2019', 'Q2-2019', 'Q3-2019','Q4-2019',\n",
    "                     'Q1-2020', 'Q2-2020', 'Q3-2020','Q4-2020', 'Q1-2021', 'Q2-2021', 'Q3-2021']].values, \n",
    "            hue = fq_wfy['fiscal_year'].values,\n",
    "           dodge=False)\n",
    "g.legend(loc='upper left').set_title('RTP Fiscal Year')\n",
    "#Assign axis labels:\n",
    "plt.ylabel('Number of Donations', fontsize=14)\n",
    "plt.xlabel('Fiscal Quarter', fontsize=14)\n",
    "plt.xticks(rotation=45)\n",
    "plt.title('Annual Fund Donation Counts By Fiscal Quarter', fontsize=14)\n",
    "\n",
    "#Annotate\n",
    "# This is the location for the annotated text\n",
    "i = 1.0\n",
    "j = 6\n",
    "# Annotating the bar plot with the values \n",
    "for i in range(len(['Q1-2016', 'Q2-2016', 'Q3-2016','Q4-2016', 'Q1-2017', 'Q2-2017', 'Q3-2017','Q4-2017','Q1-2018', 'Q2-2018', 'Q3-2018','Q4-2018', 'Q1-2019', 'Q2-2019', 'Q3-2019','Q4-2019',\n",
    "                     'Q1-2020', 'Q2-2020', 'Q3-2020','Q4-2020', 'Q1-2021', 'Q2-2021', 'Q3-2021'])):\n",
    "    plt.annotate(aFund.groupby(['fiscal_quarter'])['amount'].count().loc[['Q1-2016', 'Q2-2016', 'Q3-2016','Q4-2016', 'Q1-2017', 'Q2-2017', 'Q3-2017','Q4-2017','Q1-2018', 'Q2-2018', 'Q3-2018','Q4-2018', 'Q1-2019', 'Q2-2019', 'Q3-2019','Q4-2019',\n",
    "                     'Q1-2020', 'Q2-2020', 'Q3-2020','Q4-2020', 'Q1-2021', 'Q2-2021', 'Q3-2021']].values[i], (-0.1 + i, aFund.groupby(['fiscal_quarter'])['amount'].count().loc[['Q1-2016', 'Q2-2016', 'Q3-2016','Q4-2016', 'Q1-2017', 'Q2-2017', 'Q3-2017','Q4-2017','Q1-2018', 'Q2-2018', 'Q3-2018','Q4-2018', 'Q1-2019', 'Q2-2019', 'Q3-2019','Q4-2019',\n",
    "                     'Q1-2020', 'Q2-2020', 'Q3-2020','Q4-2020', 'Q1-2021', 'Q2-2021', 'Q3-2021']].values[i] + j),\n",
    "                horizontalalignment='center',\n",
    "                 fontsize=13)"
   ]
  },
  {
   "cell_type": "code",
   "execution_count": null,
   "metadata": {},
   "outputs": [],
   "source": [
    "#Plot the annual fund totals by fiscal quarter\n",
    "\n",
    "#set style\n",
    "sns.set(style='darkgrid')\n",
    "\n",
    "#Adjust the plot size\n",
    "plt.figure(figsize=[20,10])\n",
    "\n",
    "#Line Plot\n",
    "g = sns.barplot(x=aFund.groupby(['fiscal_quarter'])['amount'].sum().loc[['Q1-2016', 'Q2-2016', 'Q3-2016','Q4-2016', 'Q1-2017', 'Q2-2017', 'Q3-2017','Q4-2017','Q1-2018', 'Q2-2018', 'Q3-2018','Q4-2018', 'Q1-2019', 'Q2-2019', 'Q3-2019','Q4-2019',\n",
    "                     'Q1-2020', 'Q2-2020', 'Q3-2020','Q4-2020', 'Q1-2021', 'Q2-2021', 'Q3-2021']].index, \n",
    "            y=aFund.groupby(['fiscal_quarter'])['amount'].sum().loc[['Q1-2016', 'Q2-2016', 'Q3-2016','Q4-2016', 'Q1-2017', 'Q2-2017', 'Q3-2017','Q4-2017','Q1-2018', 'Q2-2018', 'Q3-2018','Q4-2018', 'Q1-2019', 'Q2-2019', 'Q3-2019','Q4-2019',\n",
    "                     'Q1-2020', 'Q2-2020', 'Q3-2020','Q4-2020', 'Q1-2021', 'Q2-2021', 'Q3-2021']].values, \n",
    "            hue = fq_wfy['fiscal_year'].values,\n",
    "           dodge=False)\n",
    "g.legend(loc='upper left').set_title('RTP Fiscal Year')\n",
    "#Assign axis labels:\n",
    "plt.ylabel('Donations Totals ($)', fontsize=16)\n",
    "plt.xlabel('Fiscal Quarter', fontsize=16)\n",
    "plt.xticks(rotation=45, fontsize=15)\n",
    "plt.yticks(fontsize=15)\n",
    "plt.title('Annual Fund Donation Totals By Fiscal Quarter', fontsize=17)\n",
    "\n",
    "#Annotate\n",
    "# This is the location for the annotated text\n",
    "i = 1.0\n",
    "j = 2000\n",
    "# Annotating the bar plot with the values \n",
    "for i in range(len(['Q1-2016', 'Q2-2016', 'Q3-2016','Q4-2016', 'Q1-2017', 'Q2-2017', 'Q3-2017','Q4-2017','Q1-2018', 'Q2-2018', 'Q3-2018','Q4-2018', 'Q1-2019', 'Q2-2019', 'Q3-2019','Q4-2019',\n",
    "                     'Q1-2020', 'Q2-2020', 'Q3-2020','Q4-2020', 'Q1-2021', 'Q2-2021', 'Q3-2021'])):\n",
    "    plt.annotate(round(aFund.groupby(['fiscal_quarter'])['amount'].sum().loc[['Q1-2016', 'Q2-2016', 'Q3-2016','Q4-2016', 'Q1-2017', 'Q2-2017', 'Q3-2017','Q4-2017','Q1-2018', 'Q2-2018', 'Q3-2018','Q4-2018', 'Q1-2019', 'Q2-2019', 'Q3-2019','Q4-2019',\n",
    "                     'Q1-2020', 'Q2-2020', 'Q3-2020','Q4-2020', 'Q1-2021', 'Q2-2021', 'Q3-2021']], 3).values[i], (-0.1 + i, aFund.groupby(['fiscal_quarter'])['amount'].sum().loc[['Q1-2016', 'Q2-2016', 'Q3-2016','Q4-2016', 'Q1-2017', 'Q2-2017', 'Q3-2017','Q4-2017','Q1-2018', 'Q2-2018', 'Q3-2018','Q4-2018', 'Q1-2019', 'Q2-2019', 'Q3-2019','Q4-2019',\n",
    "                     'Q1-2020', 'Q2-2020', 'Q3-2020','Q4-2020', 'Q1-2021', 'Q2-2021', 'Q3-2021']].values[i] + j), \n",
    "                 horizontalalignment='center',\n",
    "                 verticalalignment='top',\n",
    "                 fontsize=13)"
   ]
  },
  {
   "cell_type": "code",
   "execution_count": null,
   "metadata": {},
   "outputs": [],
   "source": [
    "#Plot the annual fund medians by fiscal year\n",
    "\n",
    "#set style\n",
    "sns.set(style='darkgrid')\n",
    "\n",
    "#Adjust the plot size\n",
    "plt.figure(figsize=[15,6])\n",
    "\n",
    "#Line Plot\n",
    "g = sns.barplot(x=aFund.groupby(['fiscal_quarter'])['amount'].median().loc[['Q1-2016', 'Q2-2016', 'Q3-2016','Q4-2016', 'Q1-2017', 'Q2-2017', 'Q3-2017','Q4-2017','Q1-2018', 'Q2-2018', 'Q3-2018','Q4-2018', 'Q1-2019', 'Q2-2019', 'Q3-2019','Q4-2019',\n",
    "                     'Q1-2020', 'Q2-2020', 'Q3-2020','Q4-2020', 'Q1-2021', 'Q2-2021', 'Q3-2021']].index, \n",
    "            y=aFund.groupby(['fiscal_quarter'])['amount'].median().loc[['Q1-2016', 'Q2-2016', 'Q3-2016','Q4-2016', 'Q1-2017', 'Q2-2017', 'Q3-2017','Q4-2017','Q1-2018', 'Q2-2018', 'Q3-2018','Q4-2018', 'Q1-2019', 'Q2-2019', 'Q3-2019','Q4-2019',\n",
    "                     'Q1-2020', 'Q2-2020', 'Q3-2020','Q4-2020', 'Q1-2021', 'Q2-2021', 'Q3-2021']].values, \n",
    "            hue = fq_wfy['fiscal_year'].values,\n",
    "           dodge=False)\n",
    "#Add legend title (line below + setting the sns.barplot object equal to 'g' as above)\n",
    "g.legend().set_title('RTP Fiscal Year')\n",
    "\n",
    "#Assign axis labels:\n",
    "plt.ylabel('Median Donation ($)', fontsize=14)\n",
    "plt.xlabel('Fiscal Quarter', fontsize=14)\n",
    "plt.xticks(rotation=45)\n",
    "plt.title('Annual Fund Donation Median By Fiscal Quarter', fontsize=15)\n",
    "\n",
    "#Annotate\n",
    "# This is the location for the annotated text\n",
    "i = 1.0\n",
    "j = 1\n",
    "# Annotating the bar plot with the values \n",
    "for i in range(len(['Q1-2016', 'Q2-2016', 'Q3-2016','Q4-2016', 'Q1-2017', 'Q2-2017', 'Q3-2017','Q4-2017','Q1-2018', 'Q2-2018', 'Q3-2018','Q4-2018', 'Q1-2019', 'Q2-2019', 'Q3-2019','Q4-2019',\n",
    "                     'Q1-2020', 'Q2-2020', 'Q3-2020','Q4-2020', 'Q1-2021', 'Q2-2021', 'Q3-2021'])):\n",
    "    plt.annotate(round(aFund.groupby(['fiscal_quarter'])['amount'].median().loc[['Q1-2016', 'Q2-2016', 'Q3-2016','Q4-2016', 'Q1-2017', 'Q2-2017', 'Q3-2017','Q4-2017','Q1-2018', 'Q2-2018', 'Q3-2018','Q4-2018', 'Q1-2019', 'Q2-2019', 'Q3-2019','Q4-2019',\n",
    "                     'Q1-2020', 'Q2-2020', 'Q3-2020','Q4-2020', 'Q1-2021', 'Q2-2021', 'Q3-2021']], 2).values[i], (-0.1 + i, aFund.groupby(['fiscal_quarter'])['amount'].median().loc[['Q1-2016', 'Q2-2016', 'Q3-2016','Q4-2016', 'Q1-2017', 'Q2-2017', 'Q3-2017','Q4-2017','Q1-2018', 'Q2-2018', 'Q3-2018','Q4-2018', 'Q1-2019', 'Q2-2019', 'Q3-2019','Q4-2019',\n",
    "                     'Q1-2020', 'Q2-2020', 'Q3-2020','Q4-2020', 'Q1-2021', 'Q2-2021', 'Q3-2021']].values[i] + j),\n",
    "                horizontalalignment='center',\n",
    "                fontsize=13)"
   ]
  },
  {
   "cell_type": "code",
   "execution_count": null,
   "metadata": {
    "scrolled": true
   },
   "outputs": [],
   "source": [
    "fq_mean = (aFund.groupby(['fiscal_quarter'])['amount'].mean().loc[['Q1-2016', 'Q2-2016', 'Q3-2016','Q4-2016', 'Q1-2017', 'Q2-2017', 'Q3-2017','Q4-2017','Q1-2018', 'Q2-2018', 'Q3-2018','Q4-2018', 'Q1-2019', 'Q2-2019', 'Q3-2019','Q4-2019',\n",
    "                     'Q1-2020', 'Q2-2020', 'Q3-2020','Q4-2020', 'Q1-2021', 'Q2-2021', 'Q3-2021']])"
   ]
  },
  {
   "cell_type": "code",
   "execution_count": null,
   "metadata": {},
   "outputs": [],
   "source": [
    "#Plot the annual fund means by fiscal quarter\n",
    "\n",
    "#set style\n",
    "sns.set(style='darkgrid')\n",
    "\n",
    "#Adjust the plot size\n",
    "plt.figure(figsize=[15,6])\n",
    "\n",
    "#Line Plot\n",
    "\n",
    "g = sns.barplot(x=fq_mean.index, \n",
    "            y=fq_mean.values,\n",
    "           hue = fq_wfy['fiscal_year'].values,\n",
    "           dodge=False)\n",
    "g.legend(loc='upper right').set_title('RTP Fiscal Year')\n",
    "#Assign axis labels:\n",
    "plt.ylabel('Mean Donation ($)', fontsize=14)\n",
    "plt.xlabel('Fiscal Quarter', fontsize=14)\n",
    "plt.xticks(rotation=45)\n",
    "plt.title('Annual Fund Donation Mean By Fiscal Quarter', fontsize=15)\n",
    "\n",
    "#Annotate\n",
    "# This is the location for the annotated text\n",
    "i = 1.0\n",
    "j = 4\n",
    "# Annotating the bar plot with the values \n",
    "for i in range(len(['Q1-2016', 'Q2-2016', 'Q3-2016','Q4-2016', 'Q1-2017', 'Q2-2017', 'Q3-2017','Q4-2017','Q1-2018', 'Q2-2018', 'Q3-2018','Q4-2018', 'Q1-2019', 'Q2-2019', 'Q3-2019','Q4-2019',\n",
    "                     'Q1-2020', 'Q2-2020', 'Q3-2020','Q4-2020', 'Q1-2021', 'Q2-2021', 'Q3-2021'])):\n",
    "    plt.annotate(round(aFund.groupby(['fiscal_quarter'])['amount'].mean().loc[['Q1-2016', 'Q2-2016', 'Q3-2016','Q4-2016', 'Q1-2017', 'Q2-2017', 'Q3-2017','Q4-2017','Q1-2018', 'Q2-2018', 'Q3-2018','Q4-2018', 'Q1-2019', 'Q2-2019', 'Q3-2019','Q4-2019',\n",
    "                     'Q1-2020', 'Q2-2020', 'Q3-2020','Q4-2020', 'Q1-2021', 'Q2-2021', 'Q3-2021']], 2).values[i], (-0.1 + i, aFund.groupby(['fiscal_quarter'])['amount'].mean().loc[['Q1-2016', 'Q2-2016', 'Q3-2016','Q4-2016', 'Q1-2017', 'Q2-2017', 'Q3-2017','Q4-2017','Q1-2018', 'Q2-2018', 'Q3-2018','Q4-2018', 'Q1-2019', 'Q2-2019', 'Q3-2019','Q4-2019',\n",
    "                     'Q1-2020', 'Q2-2020', 'Q3-2020','Q4-2020', 'Q1-2021', 'Q2-2021', 'Q3-2021']].values[i] + j),\n",
    "                horizontalalignment='center',\n",
    "                fontsize=12.5)"
   ]
  },
  {
   "cell_type": "markdown",
   "metadata": {},
   "source": [
    "**INTERESTING THAT EARLIER QUARTERS HAVE HIGHER MEAN AND MEDIAN DONATION AMOUNTS GIVEN THEY ALSO TEND TO HAVE FEWER DONATIONS AND LOWER TOTALS. THIS INSIGHT MAY BE DUE TO OUR BEGINNING TO TAKE PART IN DEVELOPMENT INITIATIVES THAT AWARD PRIZES BASED ON NUMBER OF DONORS -- THESE EFFORTS EXPLAIN AT LEAST A GOOD PORTION OF THE REASON LATER QUARTERS HAVE LOWER AVG METRICS**"
   ]
  },
  {
   "cell_type": "code",
   "execution_count": null,
   "metadata": {},
   "outputs": [],
   "source": [
    "#Combine aggregations of interest into a single df\n",
    "#Create dictionary of aggregations needed to summarize data as desired.\n",
    "aggregations = {\n",
    "    'number_of_donations_byFY' : ('account_id', 'size'),\n",
    "    'donor_total_byFY' : ('amount', 'sum'),\n",
    "    'donor_median_byFY' : ('amount', 'median'),\n",
    "    'donor_avg_byFY' : ('amount', 'mean'),\n",
    "    'donor_max_byFY' : ('amount', 'max'),\n",
    "    'donor_min_byFY' : ('amount', 'min'),\n",
    "    'donor_last_gift_date' : ('last_donation_date', 'max'),\n",
    "    'donor_first_gift_date' : ('first_donation_date', 'min')\n",
    "    #'don_recency_median' : ('donation_recency', 'median'),\n",
    "    #'don_recency_avg' : ('donation_recency', 'mean'),\n",
    "    #'last_don_median' : ('last_donation_amount', 'median'),\n",
    "    #'last_don_avg' : ('last_donation_amount', 'median'),\n",
    "    #'avg_days_since_last' : ('days_since_last', 'mean'),\n",
    "    #'median_days_since_last' : ('days_since_last', 'median'),\n",
    "    #'avg_days_since_first' : ('days_since_first', 'mean'),\n",
    "    #'median_days_since_first' : ('days_since_first', 'median'),\n",
    "    #'number_firsts_byFY' : ('first_donation_flag', 'sum'),\n",
    "    #'number_lastsbyFY' : ('last_donation_flag', 'sum')\n",
    "}"
   ]
  },
  {
   "cell_type": "code",
   "execution_count": null,
   "metadata": {
    "scrolled": true
   },
   "outputs": [],
   "source": [
    "donors_by_fy = aFund.groupby(['fiscal_year', 'account_id']).agg(**aggregations).reset_index()\n",
    "donors_by_fy.head(25)"
   ]
  },
  {
   "cell_type": "code",
   "execution_count": null,
   "metadata": {},
   "outputs": [],
   "source": [
    "donors_by_fy.isna().sum()"
   ]
  },
  {
   "cell_type": "code",
   "execution_count": null,
   "metadata": {},
   "outputs": [],
   "source": [
    "#Which donors gave in each of the fiscal years under review?\n",
    "donors_by_fy.loc[donors_by_fy['fiscal_year'] == '2017',:].sort_values('donor_last_gift_date')"
   ]
  },
  {
   "cell_type": "code",
   "execution_count": null,
   "metadata": {
    "scrolled": true
   },
   "outputs": [],
   "source": [
    "len(donors_by_fy.loc[donors_by_fy['fiscal_year'] == '2017', 'account_id'].values)"
   ]
  },
  {
   "cell_type": "code",
   "execution_count": null,
   "metadata": {},
   "outputs": [],
   "source": [
    "#Double check the number of unique accounts across the entire period\n",
    "len(aFund.account_id.unique())"
   ]
  },
  {
   "cell_type": "markdown",
   "metadata": {},
   "source": [
    "# Create data table of retention metrics"
   ]
  },
  {
   "cell_type": "markdown",
   "metadata": {},
   "source": [
    "**Create arrays of the each fiscal year's retained account ids.**"
   ]
  },
  {
   "cell_type": "code",
   "execution_count": null,
   "metadata": {},
   "outputs": [],
   "source": [
    "retained_2021 = ([a for a in donors_by_fy.loc[donors_by_fy['fiscal_year'] == '2021', 'account_id'].values if a in donors_by_fy.loc[donors_by_fy['fiscal_year'] == '2020', 'account_id'].values])\n",
    "retained_2020 = ([a for a in donors_by_fy.loc[donors_by_fy['fiscal_year'] == '2020', 'account_id'].values if a in donors_by_fy.loc[donors_by_fy['fiscal_year'] == '2019', 'account_id'].values])\n",
    "retained_2019 = ([a for a in donors_by_fy.loc[donors_by_fy['fiscal_year'] == '2019', 'account_id'].values if a in donors_by_fy.loc[donors_by_fy['fiscal_year'] == '2018', 'account_id'].values])\n",
    "retained_2018 = ([a for a in donors_by_fy.loc[donors_by_fy['fiscal_year'] == '2018', 'account_id'].values if a in donors_by_fy.loc[donors_by_fy['fiscal_year'] == '2017', 'account_id'].values])\n",
    "retained_2017 = ([a for a in donors_by_fy.loc[donors_by_fy['fiscal_year'] == '2017', 'account_id'].values if a in donors_by_fy.loc[donors_by_fy['fiscal_year'] == '2016', 'account_id'].values])"
   ]
  },
  {
   "cell_type": "markdown",
   "metadata": {},
   "source": [
    "**Calculate Retention Rates by Fiscal Year**"
   ]
  },
  {
   "cell_type": "code",
   "execution_count": null,
   "metadata": {},
   "outputs": [],
   "source": [
    "# retained_2021 = ([a for a in donors_by_fy.loc[donors_by_fy['fiscal_year'] == '2021', 'account_id'].values if a in donors_by_fy.loc[donors_by_fy['fiscal_year'] == '2020', 'account_id'].values])\n",
    "# retained_2020 = ([a for a in donors_by_fy.loc[donors_by_fy['fiscal_year'] == '2020', 'account_id'].values if a in donors_by_fy.loc[donors_by_fy['fiscal_year'] == '2019', 'account_id'].values])\n",
    "# retained_2019 = ([a for a in donors_by_fy.loc[donors_by_fy['fiscal_year'] == '2019', 'account_id'].values if a in donors_by_fy.loc[donors_by_fy['fiscal_year'] == '2018', 'account_id'].values])\n",
    "# retained_2018 = ([a for a in donors_by_fy.loc[donors_by_fy['fiscal_year'] == '2018', 'account_id'].values if a in donors_by_fy.loc[donors_by_fy['fiscal_year'] == '2017', 'account_id'].values])\n",
    "# retained_2017 = ([a for a in donors_by_fy.loc[donors_by_fy['fiscal_year'] == '2017', 'account_id'].values if a in donors_by_fy.loc[donors_by_fy['fiscal_year'] == '2016', 'account_id'].values])"
   ]
  },
  {
   "cell_type": "code",
   "execution_count": null,
   "metadata": {},
   "outputs": [],
   "source": [
    "len(donors_by_fy.loc[donors_by_fy['fiscal_year'] == '2020', 'account_id'].values)"
   ]
  },
  {
   "cell_type": "code",
   "execution_count": null,
   "metadata": {},
   "outputs": [],
   "source": [
    "len(retained_2021)"
   ]
  },
  {
   "cell_type": "code",
   "execution_count": null,
   "metadata": {},
   "outputs": [],
   "source": [
    "#2021 retention rate\n",
    "round(len(retained_2021)/len(donors_by_fy.loc[donors_by_fy['fiscal_year'] == '2020', 'account_id'].values)*100, 2)"
   ]
  },
  {
   "cell_type": "markdown",
   "metadata": {},
   "source": [
    "**Create arrays of each fiscal year's acquired account ids.**"
   ]
  },
  {
   "cell_type": "code",
   "execution_count": null,
   "metadata": {
    "scrolled": true
   },
   "outputs": [],
   "source": [
    "donors_by_fy[(donors_by_fy['donor_first_gift_date'] > '2020-06-30') & (donors_by_fy['fiscal_year'] == '2021')].sort_values('donor_first_gift_date').reset_index(drop=True)"
   ]
  },
  {
   "cell_type": "code",
   "execution_count": null,
   "metadata": {
    "scrolled": true
   },
   "outputs": [],
   "source": [
    "acquired_2021 = donors_by_fy.loc[(donors_by_fy['donor_first_gift_date'] > '2020-06-30') & (donors_by_fy['fiscal_year'] == '2021'), 'account_id'].values\n",
    "len(acquired_2021)"
   ]
  },
  {
   "cell_type": "code",
   "execution_count": null,
   "metadata": {
    "scrolled": true
   },
   "outputs": [],
   "source": [
    "acquired_2020 = donors_by_fy.loc[(donors_by_fy['donor_first_gift_date'] > '2019-06-30') & (donors_by_fy['donor_first_gift_date'] < '2020-07-01') & (donors_by_fy['fiscal_year'] == '2020'), 'account_id'].values\n",
    "len(acquired_2020)"
   ]
  },
  {
   "cell_type": "code",
   "execution_count": null,
   "metadata": {
    "scrolled": true
   },
   "outputs": [],
   "source": [
    "acquired_2019 = donors_by_fy.loc[(donors_by_fy['donor_first_gift_date'] > '2018-06-30') & (donors_by_fy['donor_first_gift_date'] < '2019-07-01') & (donors_by_fy['fiscal_year'] == '2019'), 'account_id'].values\n",
    "len(acquired_2019)"
   ]
  },
  {
   "cell_type": "code",
   "execution_count": null,
   "metadata": {
    "scrolled": true
   },
   "outputs": [],
   "source": [
    "donors_by_fy.loc[(donors_by_fy['donor_first_gift_date'] > '2017-06-30') & (donors_by_fy['donor_first_gift_date'] < '2018-07-01') & (donors_by_fy['fiscal_year'] == '2018')].sort_values('donor_first_gift_date').reset_index(drop=True)"
   ]
  },
  {
   "cell_type": "code",
   "execution_count": null,
   "metadata": {
    "scrolled": true
   },
   "outputs": [],
   "source": [
    "acquired_2018 = donors_by_fy.loc[(donors_by_fy['donor_first_gift_date'] > '2017-06-30') & (donors_by_fy['donor_first_gift_date'] < '2018-07-01') & (donors_by_fy['fiscal_year'] == '2018'), 'account_id'].values\n",
    "len(acquired_2018)"
   ]
  },
  {
   "cell_type": "code",
   "execution_count": null,
   "metadata": {
    "scrolled": true
   },
   "outputs": [],
   "source": [
    "acquired_2017 = donors_by_fy.loc[(donors_by_fy['donor_first_gift_date'] > '2016-06-30') & (donors_by_fy['donor_first_gift_date'] < '2017-07-01') & (donors_by_fy['fiscal_year'] == '2017'), 'account_id'].values\n",
    "len(acquired_2017)"
   ]
  },
  {
   "cell_type": "markdown",
   "metadata": {},
   "source": [
    "**Create arrays of the each fiscal year's reactivated account ids.**"
   ]
  },
  {
   "cell_type": "code",
   "execution_count": null,
   "metadata": {},
   "outputs": [],
   "source": [
    "donors_by_fy.loc[(donors_by_fy['donor_first_gift_date'] < '2016-06-30') & (donors_by_fy['donor_last_gift_date'] > '2020-06-30')].reset_index(drop=True)"
   ]
  },
  {
   "cell_type": "code",
   "execution_count": null,
   "metadata": {},
   "outputs": [],
   "source": [
    "#Reactivated in FY2017:\n",
    "reactivated_2017 = donors_by_fy.loc[(donors_by_fy['donor_first_gift_date'] <= '2015-06-30') & (donors_by_fy['fiscal_year'] == '2017') & (~donors_by_fy['account_id'].isin(donors_by_fy.loc[donors_by_fy['fiscal_year'] == '2016', 'account_id'].values))]['account_id'].values"
   ]
  },
  {
   "cell_type": "code",
   "execution_count": null,
   "metadata": {},
   "outputs": [],
   "source": [
    "#Reactivated in FY2018:\n",
    "reactivated_2018 = donors_by_fy.loc[(donors_by_fy['donor_first_gift_date'] <= '2016-06-30') & (donors_by_fy['fiscal_year'] == '2018') & (~donors_by_fy['account_id'].isin(donors_by_fy.loc[donors_by_fy['fiscal_year'] == '2017', 'account_id'].values))].sort_values('donor_first_gift_date')['account_id'].values"
   ]
  },
  {
   "cell_type": "code",
   "execution_count": null,
   "metadata": {},
   "outputs": [],
   "source": [
    "#Reactivated in FY2019:\n",
    "reactivated_2019 = donors_by_fy.loc[(donors_by_fy['donor_first_gift_date'] <= '2017-06-30') & (donors_by_fy['fiscal_year'] == '2019') & (~donors_by_fy['account_id'].isin(donors_by_fy.loc[donors_by_fy['fiscal_year'] == '2018', 'account_id'].values))].sort_values('donor_first_gift_date')['account_id'].values"
   ]
  },
  {
   "cell_type": "code",
   "execution_count": null,
   "metadata": {},
   "outputs": [],
   "source": [
    "#Reactivated in FY2020:\n",
    "reactivated_2020 = donors_by_fy.loc[(donors_by_fy['donor_first_gift_date'] <= '2018-06-30') & (donors_by_fy['fiscal_year'] == '2020') & (~donors_by_fy['account_id'].isin(donors_by_fy.loc[donors_by_fy['fiscal_year'] == '2019', 'account_id'].values))].sort_values('donor_first_gift_date')['account_id'].values"
   ]
  },
  {
   "cell_type": "code",
   "execution_count": null,
   "metadata": {},
   "outputs": [],
   "source": [
    "#Reactivated in FY2021:\n",
    "reactivated_2021 = donors_by_fy.loc[(donors_by_fy['donor_first_gift_date'] <= '2019-06-30') & (donors_by_fy['fiscal_year'] == '2021') & (~donors_by_fy['account_id'].isin(donors_by_fy.loc[donors_by_fy['fiscal_year'] == '2020', 'account_id'].values))].sort_values('donor_first_gift_date')['account_id'].values"
   ]
  },
  {
   "cell_type": "markdown",
   "metadata": {},
   "source": [
    "**Create arrays of the each fiscal year's lapsed account ids.**"
   ]
  },
  {
   "cell_type": "code",
   "execution_count": null,
   "metadata": {},
   "outputs": [],
   "source": [
    "lapsed_2021 = ([a for a in donors_by_fy.loc[donors_by_fy['fiscal_year'] == '2020', 'account_id'].values if a not in donors_by_fy.loc[donors_by_fy['fiscal_year'] == '2021', 'account_id'].values])\n",
    "lapsed_2020 = ([a for a in donors_by_fy.loc[donors_by_fy['fiscal_year'] == '2019', 'account_id'].values if a not in donors_by_fy.loc[donors_by_fy['fiscal_year'] == '2020', 'account_id'].values])\n",
    "lapsed_2019 = ([a for a in donors_by_fy.loc[donors_by_fy['fiscal_year'] == '2018', 'account_id'].values if a not in donors_by_fy.loc[donors_by_fy['fiscal_year'] == '2019', 'account_id'].values])\n",
    "lapsed_2018 = ([a for a in donors_by_fy.loc[donors_by_fy['fiscal_year'] == '2017', 'account_id'].values if a not in donors_by_fy.loc[donors_by_fy['fiscal_year'] == '2018', 'account_id'].values])\n",
    "lapsed_2017 = ([a for a in donors_by_fy.loc[donors_by_fy['fiscal_year'] == '2016', 'account_id'].values if a not in donors_by_fy.loc[donors_by_fy['fiscal_year'] == '2017', 'account_id'].values])"
   ]
  },
  {
   "cell_type": "code",
   "execution_count": null,
   "metadata": {},
   "outputs": [],
   "source": [
    "#Confirm that np.tile will, in fact, repeat the array elements 5 times while retaining the impute order with each iteration\n",
    "#Unlike np.repeat, which seems to sort like array values together\n",
    "np.tile(aFund.account_id.unique(), 5)"
   ]
  },
  {
   "cell_type": "code",
   "execution_count": null,
   "metadata": {},
   "outputs": [],
   "source": [
    "round(len(lapsed_2017)/len(donors_by_fy.loc[donors_by_fy['fiscal_year'] == '2016', 'account_id'].values)*100, 2)"
   ]
  },
  {
   "cell_type": "code",
   "execution_count": null,
   "metadata": {},
   "outputs": [],
   "source": [
    "round(len(retained_2017)/len(donors_by_fy.loc[donors_by_fy['fiscal_year'] == '2016', 'account_id'].values)*100, 2)"
   ]
  },
  {
   "cell_type": "code",
   "execution_count": null,
   "metadata": {
    "scrolled": true
   },
   "outputs": [],
   "source": [
    "#Create a new dataframe to store the retention metrics\n",
    "donor_accounts =pd.DataFrame()\n",
    "donor_accounts['account_id'] = np.tile(aFund.account_id.unique(), 5) #create 1 row for every unique account for each fiscal year\n",
    "donor_accounts['fiscal_year'] = np.concatenate([np.repeat('2017', len(aFund.account_id.unique())), np.repeat('2018', len(aFund.account_id.unique())), np.repeat('2019', len(aFund.account_id.unique())), np.repeat('2020', len(aFund.account_id.unique())), np.repeat('2021', len(aFund.account_id.unique()))])\n",
    "#Add retention rates by fy as column in donor_accounts:\n",
    "donor_accounts['ret_rate_xfy'] = np.concatenate([np.repeat(round(len(retained_2017)/len(donors_by_fy.loc[donors_by_fy['fiscal_year'] == '2016', 'account_id'].values)*100, 2), len(aFund.account_id.unique())),                              \n",
    "                                                 np.repeat(round(len(retained_2018)/len(donors_by_fy.loc[donors_by_fy['fiscal_year'] == '2017', 'account_id'].values)*100, 2), len(aFund.account_id.unique())),\n",
    "                                                 np.repeat(round(len(retained_2019)/len(donors_by_fy.loc[donors_by_fy['fiscal_year'] == '2018', 'account_id'].values)*100, 2), len(aFund.account_id.unique())), \n",
    "                                                 np.repeat(round(len(retained_2020)/len(donors_by_fy.loc[donors_by_fy['fiscal_year'] == '2019', 'account_id'].values)*100, 2), len(aFund.account_id.unique())),\n",
    "                                                 np.repeat(round(len(retained_2021)/len(donors_by_fy.loc[donors_by_fy['fiscal_year'] == '2020', 'account_id'].values)*100, 2), len(aFund.account_id.unique()))], axis=0)\n",
    "\n",
    "donor_accounts['lapse_rate_xfy'] = np.concatenate([np.repeat(round(len(lapsed_2017)/len(donors_by_fy.loc[donors_by_fy['fiscal_year'] == '2016', 'account_id'].values)*100, 2), len(aFund.account_id.unique())),\n",
    "np.repeat(round(len(lapsed_2018)/len(donors_by_fy.loc[donors_by_fy['fiscal_year'] == '2017', 'account_id'].values)*100, 2), len(aFund.account_id.unique())),\n",
    "np.repeat(round(len(lapsed_2019)/len(donors_by_fy.loc[donors_by_fy['fiscal_year'] == '2018', 'account_id'].values)*100, 2), len(aFund.account_id.unique())),\n",
    "np.repeat(round(len(lapsed_2020)/len(donors_by_fy.loc[donors_by_fy['fiscal_year'] == '2019', 'account_id'].values)*100, 2), len(aFund.account_id.unique())),\n",
    "np.repeat(round(len(lapsed_2021)/len(donors_by_fy.loc[donors_by_fy['fiscal_year'] == '2020', 'account_id'].values)*100, 2), len(aFund.account_id.unique()))], axis=0)\n",
    "donor_accounts.tail()"
   ]
  },
  {
   "cell_type": "code",
   "execution_count": null,
   "metadata": {},
   "outputs": [],
   "source": [
    "donor_accounts.head()"
   ]
  },
  {
   "cell_type": "code",
   "execution_count": null,
   "metadata": {},
   "outputs": [],
   "source": [
    "donor_accounts['ret_rate_xfy'].value_counts()"
   ]
  },
  {
   "cell_type": "code",
   "execution_count": null,
   "metadata": {
    "scrolled": true
   },
   "outputs": [],
   "source": [
    "donor_accounts['lapse_rate_xfy'].value_counts()"
   ]
  },
  {
   "cell_type": "code",
   "execution_count": null,
   "metadata": {},
   "outputs": [],
   "source": [
    "donor_accounts.shape"
   ]
  },
  {
   "cell_type": "code",
   "execution_count": null,
   "metadata": {},
   "outputs": [],
   "source": [
    "#Add the ret_rate_xfy and lapse_rate_xfy columns to donors_by_fy df\n",
    "donor_accounts = pd.merge(donor_accounts, donors_by_fy, how='left', on=['account_id', 'fiscal_year']).sort_values(by=['fiscal_year', 'account_id']).reset_index(drop=True)\n",
    "donor_accounts.tail(20)"
   ]
  },
  {
   "cell_type": "code",
   "execution_count": null,
   "metadata": {},
   "outputs": [],
   "source": [
    "donor_accounts[donor_accounts['number_of_donations_byFY'].isna()].reset_index(drop=True)"
   ]
  },
  {
   "cell_type": "code",
   "execution_count": null,
   "metadata": {},
   "outputs": [],
   "source": [
    "donor_accounts[donor_accounts['number_of_donations_byFY'].notnull()].reset_index(drop=True)"
   ]
  },
  {
   "cell_type": "code",
   "execution_count": null,
   "metadata": {},
   "outputs": [],
   "source": [
    "#How many annual fund donations were given over the period.\n",
    "donor_accounts['number_of_donations_byFY'].sum()"
   ]
  },
  {
   "cell_type": "code",
   "execution_count": null,
   "metadata": {},
   "outputs": [],
   "source": [
    "#Column addition doesn't show up when checking the donor_accounts.columns. Add it a different way and check\n",
    "donor_accounts['retention_status'] = 'awaiting value'\n",
    "donor_accounts.loc[donor_accounts['number_of_donations_byFY'].isna(), 'retention_status'] = np.nan"
   ]
  },
  {
   "cell_type": "code",
   "execution_count": null,
   "metadata": {},
   "outputs": [],
   "source": [
    "#Assign values to new retention_status column based on conditions.\n",
    "conditions = [\n",
    "    ((donor_accounts['account_id'].isin(retained_2021)) & (donor_accounts.fiscal_year == '2021')),\n",
    "    ((donor_accounts['account_id'].isin(lapsed_2021)) & (donor_accounts.fiscal_year == '2021')),\n",
    "    ((donor_accounts['account_id'].isin(acquired_2021)) & (donor_accounts.fiscal_year == '2021')),\n",
    "    ((donor_accounts['account_id'].isin(retained_2020)) & (donor_accounts.fiscal_year == '2020')),\n",
    "    ((donor_accounts['account_id'].isin(lapsed_2020)) & (donor_accounts.fiscal_year == '2020')),\n",
    "    ((donor_accounts['account_id'].isin(acquired_2020)) & (donor_accounts.fiscal_year == '2020')),\n",
    "    ((donor_accounts['account_id'].isin(retained_2019)) & (donor_accounts.fiscal_year == '2019')),\n",
    "    ((donor_accounts['account_id'].isin(lapsed_2019)) & (donor_accounts.fiscal_year == '2019')),\n",
    "    ((donor_accounts['account_id'].isin(acquired_2019)) & (donor_accounts.fiscal_year == '2019')),\n",
    "    ((donor_accounts['account_id'].isin(retained_2018)) & (donor_accounts.fiscal_year == '2018')),\n",
    "    ((donor_accounts['account_id'].isin(lapsed_2018)) & (donor_accounts.fiscal_year == '2018')),\n",
    "    ((donor_accounts['account_id'].isin(acquired_2018)) & (donor_accounts.fiscal_year == '2018')),\n",
    "    ((donor_accounts['account_id'].isin(retained_2017)) & (donor_accounts.fiscal_year == '2017')),\n",
    "    ((donor_accounts['account_id'].isin(lapsed_2017)) & (donor_accounts.fiscal_year == '2017')),\n",
    "    ((donor_accounts['account_id'].isin(acquired_2017)) & (donor_accounts.fiscal_year == '2017'))\n",
    "]\n",
    "\n",
    "choices = ['Retained', 'Lapsed', 'Acquired', 'Retained', 'Lapsed', 'Acquired', 'Retained', 'Lapsed', 'Acquired', 'Retained', 'Lapsed', 'Acquired', 'Retained', 'Lapsed', 'Acquired']\n",
    "\n",
    "donor_accounts['retention_status'] = np.select(conditions, choices, default=donor_accounts['retention_status'])"
   ]
  },
  {
   "cell_type": "markdown",
   "metadata": {},
   "source": [
    "**Assign 'Reactivated' status to appropriate rows in the new column**"
   ]
  },
  {
   "cell_type": "code",
   "execution_count": null,
   "metadata": {},
   "outputs": [],
   "source": [
    "donor_accounts.loc[donor_accounts.account_id.isin(reactivated_2017) & (donor_accounts.fiscal_year == '2017'), 'retention_status'] = 'Reactivated'"
   ]
  },
  {
   "cell_type": "code",
   "execution_count": null,
   "metadata": {},
   "outputs": [],
   "source": [
    "donor_accounts.loc[(donor_accounts['account_id'].isin(reactivated_2018)) & (donor_accounts['fiscal_year'] == '2018'), 'retention_status'] = 'Reactivated'"
   ]
  },
  {
   "cell_type": "code",
   "execution_count": null,
   "metadata": {},
   "outputs": [],
   "source": [
    "donor_accounts.loc[(donor_accounts['account_id'].isin(reactivated_2019)) & (donor_accounts['fiscal_year'] == '2019'), 'retention_status'] = 'Reactivated'"
   ]
  },
  {
   "cell_type": "code",
   "execution_count": null,
   "metadata": {},
   "outputs": [],
   "source": [
    "donor_accounts.loc[(donor_accounts['account_id'].isin(reactivated_2020)) & (donor_accounts['fiscal_year'] == '2020'), 'retention_status'] = 'Reactivated'"
   ]
  },
  {
   "cell_type": "code",
   "execution_count": null,
   "metadata": {},
   "outputs": [],
   "source": [
    "donor_accounts.loc[(donor_accounts['account_id'].isin(reactivated_2021)) & (donor_accounts['fiscal_year'] == '2021'), 'retention_status'] = 'Reactivated'"
   ]
  },
  {
   "cell_type": "code",
   "execution_count": null,
   "metadata": {},
   "outputs": [],
   "source": [
    "donor_accounts['retention_status'].value_counts(dropna=False)"
   ]
  },
  {
   "cell_type": "markdown",
   "metadata": {},
   "source": [
    "# Visualize Retention Status (including, by fiscal year)"
   ]
  },
  {
   "cell_type": "code",
   "execution_count": null,
   "metadata": {
    "scrolled": true
   },
   "outputs": [],
   "source": [
    "#Plot retention status values counts\n",
    "donor_accounts['retention_status'].value_counts().plot(kind='bar')"
   ]
  },
  {
   "cell_type": "code",
   "execution_count": null,
   "metadata": {
    "scrolled": true
   },
   "outputs": [],
   "source": [
    "#Plot retention status by fiscal year\n",
    "donor_accounts.pivot_table(index='fiscal_year', columns='retention_status', aggfunc='size').plot.bar()"
   ]
  },
  {
   "cell_type": "code",
   "execution_count": null,
   "metadata": {
    "scrolled": true
   },
   "outputs": [],
   "source": [
    "donor_accounts.pivot_table(index='fiscal_year', columns='retention_status', aggfunc='size').plot.barh()"
   ]
  },
  {
   "cell_type": "code",
   "execution_count": null,
   "metadata": {},
   "outputs": [],
   "source": [
    "donor_accounts.pivot_table(index='retention_status', columns='fiscal_year', aggfunc='size').plot.bar()\n",
    "plt.show()"
   ]
  },
  {
   "cell_type": "code",
   "execution_count": null,
   "metadata": {
    "scrolled": true
   },
   "outputs": [],
   "source": [
    "g = donor_accounts.pivot_table(index='retention_status', columns='fiscal_year', aggfunc='size').plot.bar(stacked='True')\n",
    "g.legend(loc='upper center').set_title(\"RTP Fiscal Year\")\n",
    "plt.show()"
   ]
  },
  {
   "cell_type": "code",
   "execution_count": null,
   "metadata": {},
   "outputs": [],
   "source": [
    "g = donor_accounts.loc[donor_accounts['retention_status'] != 'Lapsed'].pivot_table(index='fiscal_year', columns='retention_status', aggfunc='size').plot.bar(stacked='True')\n",
    "plt.title(\"RTP Enhances Donor Engagement Efficacy Over Time\")\n",
    "plt.xlabel('Fiscal Year (July 1 - June 30)')\n",
    "plt.ylabel('Current Donor Counts By Retention Status')\n",
    "plt.xticks(rotation=45)\n",
    "g.legend().set_title(\"Retension Status\")\n",
    "plt.show()"
   ]
  },
  {
   "cell_type": "code",
   "execution_count": null,
   "metadata": {},
   "outputs": [],
   "source": [
    "donor_accounts.loc[donor_accounts['retention_status'] != 'Lapsed'].pivot_table(index='fiscal_year', columns='retention_status', aggfunc='size').plot.bar()\n",
    "plt.show()"
   ]
  },
  {
   "cell_type": "code",
   "execution_count": null,
   "metadata": {
    "scrolled": true
   },
   "outputs": [],
   "source": [
    "donor_accounts.describe(include = 'all').T"
   ]
  },
  {
   "cell_type": "code",
   "execution_count": null,
   "metadata": {
    "scrolled": true
   },
   "outputs": [],
   "source": [
    "donor_accounts.isna().sum()"
   ]
  },
  {
   "cell_type": "code",
   "execution_count": null,
   "metadata": {},
   "outputs": [],
   "source": [
    "pd.crosstab(donor_accounts['fiscal_year'], donor_accounts['retention_status'], margins=True)"
   ]
  },
  {
   "cell_type": "code",
   "execution_count": null,
   "metadata": {
    "scrolled": true
   },
   "outputs": [],
   "source": [
    "g = donor_accounts.loc[donor_accounts['retention_status'] != 'Lapsed'].pivot_table(values = 'donor_total_byFY', index='fiscal_year', columns='retention_status', aggfunc='sum').plot(kind='bar', stacked='True')\n",
    "plt.title(\"Fundraising Tactics Grow Donation Totals Year over Year\")\n",
    "plt.xlabel('Fiscal Year (July 1 - June 30)')\n",
    "plt.ylabel('Current Donor Totals By Retention Status')\n",
    "plt.xticks(rotation=45)\n",
    "g.legend().set_title(\"Retention_Status\")\n",
    "plt.show()"
   ]
  },
  {
   "cell_type": "code",
   "execution_count": null,
   "metadata": {
    "scrolled": true
   },
   "outputs": [],
   "source": [
    "donor_accounts.loc[donor_accounts['retention_status'] != 'Lapsed'].pivot_table(values = 'donor_total_byFY', index='fiscal_year', columns='retention_status', aggfunc='sum').plot(kind='bar')"
   ]
  },
  {
   "cell_type": "markdown",
   "metadata": {},
   "source": [
    "# Return here to fix error below and effectively label the bars in the plot. See page #270 in Python for DS"
   ]
  },
  {
   "cell_type": "code",
   "execution_count": null,
   "metadata": {
    "scrolled": true
   },
   "outputs": [],
   "source": [
    "fig, ax = plt.subplots(figsize=(16,20))\n",
    "donor_accounts.pivot_table(values = 'donor_total_byFY', index='fiscal_year', columns='retention_status', aggfunc='size', fill_value=0).plot(ax=ax, kind='bar', stacked=True, title='Annual Fund Donor Account Retention Status by Fiscal Year')\n",
    "\n",
    "style = dict(size=10, color='blue')\n",
    "#ax.text('Q1-2017', 31, '31', **style)"
   ]
  },
  {
   "cell_type": "markdown",
   "metadata": {},
   "source": [
    "# Stewardship Program##"
   ]
  },
  {
   "cell_type": "markdown",
   "metadata": {},
   "source": [
    "Create necessary columns to assign donor levels."
   ]
  },
  {
   "cell_type": "code",
   "execution_count": null,
   "metadata": {},
   "outputs": [],
   "source": [
    "#Only Annual Fund dontations made by Household or Individual donors are included in stewardship program totals\n",
    "\n",
    "aFund['stp_total_s28'] = aFund.loc[(aFund['close_date'] >= '2019-07-01')].groupby('account_id')['amount'].transform('sum')\n",
    "aFund['stp_total_s27'] = aFund.loc[(aFund['close_date'] >= '2018-07-01') & (aFund['close_date'] <= '2020-06-30')].groupby('account_id')['amount'].transform('sum')\n",
    "aFund['stp_total_s26'] = aFund.loc[(aFund['close_date'] >= '2017-07-01') & (aFund['close_date'] <= '2019-06-30')].groupby('account_id')['amount'].transform('sum')\n",
    "aFund['stp_total_s25'] = aFund.loc[(aFund['close_date'] >= '2016-07-01') & (aFund['close_date'] <= '2018-06-30')].groupby('account_id')['amount'].transform('sum')\n",
    "aFund['stp_total_s24'] = aFund.loc[(aFund['close_date'] >= '2015-07-01') & (aFund['close_date'] <= '2017-06-30')].groupby('account_id')['amount'].transform('sum')\n",
    "#The data does not include the complete date ranges below that are necessary to create the variables commented below\n",
    "#aFund['stp_total_s23'] = aFund.loc[(aFund['close_date'] >= '2014-07-01') & (aFund['close_date'] <= '2016-06-30')].groupby('account_id')['amount'].transform('sum')"
   ]
  },
  {
   "cell_type": "code",
   "execution_count": null,
   "metadata": {},
   "outputs": [],
   "source": [
    "# aFund['stp_total_s24'] = aFund.loc[(aFund['close_date'] >= '2015-07-01') & (aFund['close_date'] <= '2017-06-30')].groupby('account_id')['amount'].transform('sum')\n",
    "# aFund['stp_toDate_s24'] = aFund.loc[(aFund['close_date'] >= '2015-07-01') & (aFund['close_date'] <= '2017-01-20')].groupby('account_id')['amount'].transform('sum')"
   ]
  },
  {
   "cell_type": "code",
   "execution_count": null,
   "metadata": {},
   "outputs": [],
   "source": [
    "#Create a another similar set of columns to generate comparable (date range thru 1/11/YY) period over period comparisons\n",
    "\n",
    "aFund['stp_toDate_s28'] = aFund.loc[(aFund['close_date'] >= '2019-07-01')].groupby('account_id')['amount'].transform('sum')\n",
    "aFund['stp_toDate_s27'] = aFund.loc[(aFund['close_date'] >= '2018-07-01') & (aFund['close_date'] <= '2020-01-20')].groupby('account_id')['amount'].transform('sum')\n",
    "aFund['stp_toDate_s26'] = aFund.loc[(aFund['close_date'] >= '2017-07-01') & (aFund['close_date'] <= '2019-01-20')].groupby('account_id')['amount'].transform('sum')\n",
    "aFund['stp_toDate_s25'] = aFund.loc[(aFund['close_date'] >= '2016-07-01') & (aFund['close_date'] <= '2018-01-20')].groupby('account_id')['amount'].transform('sum')\n",
    "aFund['stp_toDate_s24'] = aFund.loc[(aFund['close_date'] >= '2015-07-01') & (aFund['close_date'] <= '2017-01-20')].groupby('account_id')['amount'].transform('sum')"
   ]
  },
  {
   "cell_type": "code",
   "execution_count": null,
   "metadata": {},
   "outputs": [],
   "source": [
    "#Fill NaNs with max value for that account_id shown in other rows for that particular stp_total_sXX column \n",
    "stp_total_cols = ['stp_total_s28', 'stp_total_s27', 'stp_total_s26', 'stp_total_s25', 'stp_total_s24', 'stp_toDate_s28', 'stp_toDate_s27', 'stp_toDate_s26', 'stp_toDate_s25', 'stp_toDate_s24']\n",
    "for col in stp_total_cols:\n",
    "    aFund.loc[aFund[col].isnull(), col] = aFund.groupby('account_id')[col].transform('max')"
   ]
  },
  {
   "cell_type": "code",
   "execution_count": null,
   "metadata": {},
   "outputs": [],
   "source": [
    "#Now, fill remaining nan in stp_total_sXX cols with 0 to simplify ufunc (stp_level_generator) below:  \n",
    "aFund.loc[:,['stp_total_s28', 'stp_total_s27', 'stp_total_s26', 'stp_total_s25', 'stp_total_s24', 'stp_toDate_s28', 'stp_toDate_s27', 'stp_toDate_s26', 'stp_toDate_s25', 'stp_toDate_s24']] = aFund[['stp_total_s28', 'stp_total_s27', 'stp_total_s26', 'stp_total_s25', 'stp_total_s24', 'stp_toDate_s28', 'stp_toDate_s27', 'stp_toDate_s26', 'stp_toDate_s25', 'stp_toDate_s24']].fillna(0)"
   ]
  },
  {
   "cell_type": "code",
   "execution_count": null,
   "metadata": {},
   "outputs": [],
   "source": [
    "aFund.isna().sum()"
   ]
  },
  {
   "cell_type": "code",
   "execution_count": null,
   "metadata": {},
   "outputs": [],
   "source": [
    "#Review a selection of account_id that made more than one donation to ensure previous two steps executed as expected\n",
    "#pd.set_option('display.max_rows', None)\n",
    "#aFund.loc[aFund.drop_duplicates(subset=['account_id'], keep='last', inplace=True),:].sort_values(by='account_id').reset_index(drop=True)[50:100]"
   ]
  },
  {
   "cell_type": "code",
   "execution_count": null,
   "metadata": {
    "scrolled": false
   },
   "outputs": [],
   "source": [
    "aFund.describe(include='all').T"
   ]
  },
  {
   "cell_type": "code",
   "execution_count": null,
   "metadata": {},
   "outputs": [],
   "source": [
    "aFund.shape"
   ]
  },
  {
   "cell_type": "code",
   "execution_count": null,
   "metadata": {},
   "outputs": [],
   "source": [
    "aFund.drop(['pledge_amount', 'payment_schedule', 'grant_amount'], axis=1, inplace=True)"
   ]
  },
  {
   "cell_type": "code",
   "execution_count": null,
   "metadata": {},
   "outputs": [],
   "source": [
    "#Define function to translate stewardship sums by season into stewardship levels by account_id\n",
    "def stp_level_generator(series):\n",
    "    if series == 0:\n",
    "        return 'Did Not Give'\n",
    "    elif (series > 0) & (series < 125):\n",
    "        return 'Pre-Steward'\n",
    "    elif (series >= 125) & (series < 250):\n",
    "        return 'Supporter'\n",
    "    elif (series >= 250) & (series < 500):\n",
    "        return 'Investor'\n",
    "    elif (series >= 500) & (series < 1000):\n",
    "        return 'Underwriter'\n",
    "    elif (series >= 1000) & (series < 2500):\n",
    "        return 'Performer'\n",
    "    elif (series >= 2500) & (series < 5000):\n",
    "        return 'Director'\n",
    "    elif (series >= 5000):\n",
    "        return 'Producer'"
   ]
  },
  {
   "cell_type": "code",
   "execution_count": null,
   "metadata": {},
   "outputs": [],
   "source": [
    "#Create new dataframe with account_id, stp_total_sX cols and corresponding stp_level cols: \n",
    "stp_amt_list = ['stp_total_s28', 'stp_total_s27', 'stp_total_s26', 'stp_total_s25', 'stp_total_s24', \n",
    "                'stp_toDate_s28', 'stp_toDate_s27', 'stp_toDate_s26', 'stp_toDate_s25', 'stp_toDate_s24']\n",
    "levels_by_season_df = pd.DataFrame()\n",
    "levels_by_season_df['account_id'] = aFund['account_id'].copy()\n",
    "\n",
    "for col in stp_amt_list:\n",
    "    levels_by_season_df[col] = aFund[col]\n",
    "    col_name = col + '_level'\n",
    "    levels_by_season_df[col_name] = (aFund[col].apply(stp_level_generator))"
   ]
  },
  {
   "cell_type": "code",
   "execution_count": null,
   "metadata": {},
   "outputs": [],
   "source": [
    "levels_by_season_df.head()"
   ]
  },
  {
   "cell_type": "code",
   "execution_count": null,
   "metadata": {},
   "outputs": [],
   "source": [
    "levels_by_season_df.shape"
   ]
  },
  {
   "cell_type": "code",
   "execution_count": null,
   "metadata": {},
   "outputs": [],
   "source": [
    "#Remove duplicate rows based on account_id to show each donor's stewardship levels across the most recent 5 seasons \n",
    "#(both for the total season and toDate)\n",
    "levels_by_season_df = levels_by_season_df.drop_duplicates(subset='account_id', keep='first').reset_index(drop='True')\n",
    "levels_by_season_df.shape"
   ]
  },
  {
   "cell_type": "markdown",
   "metadata": {},
   "source": [
    "**Add the stewardship totals and levels to the donor_accounts dataframe based on fiscal year**"
   ]
  },
  {
   "cell_type": "code",
   "execution_count": null,
   "metadata": {},
   "outputs": [],
   "source": [
    "levels_fy2021 = levels_by_season_df[['account_id', 'stp_total_s28', 'stp_total_s28_level']].copy()\n",
    "levels_fy2021.columns = ['account_id', 'stp_total', 'stp_level']\n",
    "levels_fy2021.insert(1, 'fiscal_year', np.repeat('2021', len(aFund.account_id.unique())))\n",
    "levels_fy2021.shape"
   ]
  },
  {
   "cell_type": "code",
   "execution_count": null,
   "metadata": {},
   "outputs": [],
   "source": [
    "levels_fy2020 = levels_by_season_df[['account_id', 'stp_total_s27', 'stp_total_s27_level']].copy()\n",
    "levels_fy2020.columns = ['account_id', 'stp_total', 'stp_level']\n",
    "levels_fy2020.insert(1, 'fiscal_year', np.repeat('2020', len(aFund.account_id.unique())))\n",
    "levels_fy2020.shape"
   ]
  },
  {
   "cell_type": "code",
   "execution_count": null,
   "metadata": {},
   "outputs": [],
   "source": [
    "levels_fy2019 = levels_by_season_df[['account_id', 'stp_total_s26', 'stp_total_s26_level']].copy()\n",
    "levels_fy2019.columns = ['account_id', 'stp_total', 'stp_level']\n",
    "levels_fy2019.insert(1, 'fiscal_year', np.repeat('2019', len(aFund.account_id.unique())))\n",
    "levels_fy2019.shape"
   ]
  },
  {
   "cell_type": "code",
   "execution_count": null,
   "metadata": {},
   "outputs": [],
   "source": [
    "levels_fy2018 = levels_by_season_df[['account_id', 'stp_total_s25', 'stp_total_s25_level']].copy()\n",
    "levels_fy2018.columns = ['account_id', 'stp_total', 'stp_level']\n",
    "levels_fy2018.insert(1, 'fiscal_year', np.repeat('2018', len(aFund.account_id.unique())))\n",
    "levels_fy2018.shape"
   ]
  },
  {
   "cell_type": "code",
   "execution_count": null,
   "metadata": {},
   "outputs": [],
   "source": [
    "levels_fy2017 = levels_by_season_df[['account_id', 'stp_total_s24', 'stp_total_s24_level']].copy()\n",
    "levels_fy2017.columns = ['account_id', 'stp_total', 'stp_level']\n",
    "levels_fy2017.insert(1, 'fiscal_year', np.repeat('2017', len(aFund.account_id.unique())))\n",
    "levels_fy2017.shape"
   ]
  },
  {
   "cell_type": "code",
   "execution_count": null,
   "metadata": {},
   "outputs": [],
   "source": [
    "#Append the rows to combine the 5 dfs into one -- merge this with donor_accounts df to \n",
    "levels_fy2017.append([levels_fy2018, levels_fy2019, levels_fy2020, levels_fy2021]).reset_index(drop=True)"
   ]
  },
  {
   "cell_type": "code",
   "execution_count": null,
   "metadata": {
    "scrolled": true
   },
   "outputs": [],
   "source": [
    "#Combine levels df with donor_accounts df\n",
    "donor_details = pd.merge(donor_accounts, levels_fy2017.append([levels_fy2018, levels_fy2019, levels_fy2020, levels_fy2021]).reset_index(drop=True), on=['account_id', 'fiscal_year'])\n",
    "donor_details['currentVlapsed'] = np.where(donor_details.retention_status.isin(['Acquired', 'Retained', 'Reactivated']), 'Current', donor_details.retention_status)\n",
    "donor_details"
   ]
  },
  {
   "cell_type": "code",
   "execution_count": null,
   "metadata": {},
   "outputs": [],
   "source": [
    "donor_details.retention_status.value_counts()"
   ]
  },
  {
   "cell_type": "code",
   "execution_count": null,
   "metadata": {},
   "outputs": [],
   "source": [
    "donor_details.groupby(['fiscal_year'])['retention_status'].value_counts()"
   ]
  },
  {
   "cell_type": "code",
   "execution_count": null,
   "metadata": {},
   "outputs": [],
   "source": [
    "donor_details['currentVlapsed'].value_counts()"
   ]
  },
  {
   "cell_type": "code",
   "execution_count": null,
   "metadata": {},
   "outputs": [],
   "source": [
    "donor_details.groupby(['fiscal_year'])['currentVlapsed'].value_counts()"
   ]
  },
  {
   "cell_type": "code",
   "execution_count": null,
   "metadata": {},
   "outputs": [],
   "source": [
    "#Calculate the current to lapsed ration by fy and add to donor_details df\n",
    "donor_details.groupby(['fiscal_year'])['currentVlapsed'].value_counts(normalize=True)"
   ]
  },
  {
   "cell_type": "code",
   "execution_count": null,
   "metadata": {},
   "outputs": [],
   "source": [
    "ax = sns.set(style=\"ticks\", palette=\"pastel\") #Update sns version to access set_theme attribute, but investigate all implications before updating te version\n",
    "\n",
    "# Load the example tips dataset\n",
    "#tips = sns.load_dataset(\"tips\")\n",
    "\n",
    "# Draw a nested boxplot to show bills by day and time\n",
    "ax = sns.boxplot(x=\"fiscal_year\", y=\"stp_total\",\n",
    "            hue=\"retention_status\", palette='winter',\n",
    "            data=donor_details)\n",
    "#sns.despine(offset=10, trim=True)"
   ]
  },
  {
   "cell_type": "code",
   "execution_count": null,
   "metadata": {
    "scrolled": true
   },
   "outputs": [],
   "source": [
    "# >>> g = sns.catplot(x=\"sex\", y=\"total_bill\",\n",
    "# ...                 hue=\"smoker\", col=\"time\",\n",
    "# ...                 data=tips, kind=\"box\",\n",
    "# ...                 height=4, aspect=.7);"
   ]
  },
  {
   "cell_type": "code",
   "execution_count": null,
   "metadata": {},
   "outputs": [],
   "source": [
    "# sns.set(style=\"ticks\", palette=\"pastel\") #Update sns version to access set_theme attribute, but investigate all implications before updating te version\n",
    "\n",
    "# # Load the example tips dataset\n",
    "# tips = sns.load_dataset(\"tips\")\n",
    "\n",
    "# # Draw a nested boxplot to show bills by day and time\n",
    "# sns.boxplot(x=\"day\", y=\"total_bill\",\n",
    "#             hue=\"smoker\", palette=[\"m\", \"g\"],\n",
    "#             data=tips)\n",
    "# sns.despine(offset=10, trim=True)"
   ]
  },
  {
   "cell_type": "code",
   "execution_count": null,
   "metadata": {},
   "outputs": [],
   "source": [
    "ax = stp_level_dist.iloc[1:,5:].plot(kind='bar', stacked=True)"
   ]
  },
  {
   "cell_type": "code",
   "execution_count": null,
   "metadata": {},
   "outputs": [],
   "source": [
    "donor_details.pivot_table(values = 'stp_total', index='fiscal_year', columns='retention_status', aggfunc='sum').plot(kind='bar', stacked='True')\n",
    "\n",
    "#pd.pivot_table(values=donor_details., columns=donor_details['stp_level'], index=donor_details['fiscal_year'])\n",
    "#ax = donor_details.loc[:, ['retention_status', 'stp_level']].plot(kind='bar')"
   ]
  },
  {
   "cell_type": "code",
   "execution_count": null,
   "metadata": {},
   "outputs": [],
   "source": [
    "donor_details[donor_details['retention_status'] != 'Lapsed'].pivot_table(values = 'stp_total', index='fiscal_year', columns='retention_status', aggfunc='sum').T.plot(kind='barh', stacked='True')\n"
   ]
  },
  {
   "cell_type": "code",
   "execution_count": null,
   "metadata": {},
   "outputs": [],
   "source": [
    "donor_details.pivot_table(values = 'stp_total', index='fiscal_year', columns='retention_status', aggfunc='sum').T.plot(kind='barh', stacked='True')"
   ]
  },
  {
   "cell_type": "code",
   "execution_count": null,
   "metadata": {},
   "outputs": [],
   "source": [
    "donor_details.pivot_table(values = 'stp_total', index='fiscal_year', columns='retention_status', aggfunc='sum').T"
   ]
  },
  {
   "cell_type": "code",
   "execution_count": null,
   "metadata": {},
   "outputs": [],
   "source": [
    "donor_details.pivot_table(values = 'stp_total', index='fiscal_year', columns=['retention_status', 'stp_level'], aggfunc='sum').T"
   ]
  },
  {
   "cell_type": "code",
   "execution_count": null,
   "metadata": {
    "scrolled": true
   },
   "outputs": [],
   "source": [
    "donor_details.describe(include='all').T"
   ]
  },
  {
   "cell_type": "markdown",
   "metadata": {},
   "source": [
    "# Calculate retention rate by stp_level and fy"
   ]
  },
  {
   "cell_type": "code",
   "execution_count": null,
   "metadata": {},
   "outputs": [],
   "source": [
    "sns.catplot(x='stp_level',col='retention_status',kind='count',data=donor_details)"
   ]
  },
  {
   "cell_type": "code",
   "execution_count": null,
   "metadata": {},
   "outputs": [],
   "source": [
    "donor_details.loc[(donor_details.fiscal_year == '2017') & (donor_details.stp_level == 'Supporter'), 'account_id']"
   ]
  },
  {
   "cell_type": "code",
   "execution_count": null,
   "metadata": {},
   "outputs": [],
   "source": [
    "g = donor_details[donor_details['fiscal_year'] == '2021'].groupby(\"stp_level\").mean()\n",
    "mean_y = donor_details.ret_rate_xfy.mean()\n",
    "feature = 'ret_rate_xfy'\n",
    "fig = plt.figure(figsize = (10,10))\n",
    "plt.title('Bar plot of marital  vs mean ' + feature, fontsize= 20)\n",
    "d = g[feature]\n",
    "d.plot(kind = 'bar', edgecolor = 'black')\n",
    "plt.hlines(mean_y, xmin = -1, xmax = donor_details[donor_details['fiscal_year'] == '2021'].stp_level.nunique(), label = 'avg target value')\n",
    "plt.xlabel(\"stewardship level\", fontsize= 18)\n",
    "plt.ylabel('average retention rate', fontsize= 18)\n",
    "plt.xticks(fontsize= 12, rotation = 45)\n",
    "plt.yticks(fontsize= 12)\n",
    "plt.legend()\n",
    "plt.show()"
   ]
  },
  {
   "cell_type": "code",
   "execution_count": null,
   "metadata": {},
   "outputs": [],
   "source": [
    "# g = df.groupby(\"marital\").mean()\n",
    "# mean_y = df.y.mean()\n",
    "# feature = 'y'\n",
    "# fig = plt.figure(figsize = (10,10))\n",
    "# plt.title('Bar plot of marital  vs mean ' + feature, fontsize= 20)\n",
    "# d = g[feature]\n",
    "# d.plot(kind = 'bar', edgecolor = 'black')\n",
    "# plt.hlines(mean_y, xmin = -1, xmax = df.job.nunique(), label = 'avg target value')\n",
    "# plt.xlabel(\"marital categories\", fontsize= 18)\n",
    "# plt.ylabel('average target value', fontsize= 18)\n",
    "# plt.xticks(fontsize= 12, rotation = 45)\n",
    "# plt.yticks(fontsize= 12)\n",
    "# plt.legend()\n",
    "# plt.show()"
   ]
  },
  {
   "cell_type": "code",
   "execution_count": null,
   "metadata": {},
   "outputs": [],
   "source": [
    "stp_stats_fy = donor_details.pivot_table(values = 'stp_total', index='fiscal_year', columns='stp_level', aggfunc='sum').T.set_index(pd.Index(['Did Not Give', 'Pre-Steward', 'Supporter', 'Investor', 'Underwriter', 'Performer', 'Director', 'Producer'])).iloc[1:,]\n",
    "type(stp_stats_fy)"
   ]
  },
  {
   "cell_type": "code",
   "execution_count": null,
   "metadata": {},
   "outputs": [],
   "source": [
    "stp_stats_fy.index"
   ]
  },
  {
   "cell_type": "code",
   "execution_count": null,
   "metadata": {},
   "outputs": [],
   "source": [
    "stp_stats_fy.values"
   ]
  },
  {
   "cell_type": "code",
   "execution_count": null,
   "metadata": {
    "scrolled": true
   },
   "outputs": [],
   "source": [
    "stp_stats_fy.columns"
   ]
  },
  {
   "cell_type": "code",
   "execution_count": null,
   "metadata": {},
   "outputs": [],
   "source": [
    "donor_details.head()"
   ]
  },
  {
   "cell_type": "code",
   "execution_count": null,
   "metadata": {},
   "outputs": [],
   "source": [
    "sns.catplot(x='fiscal_year',\n",
    "            y='stp_total',\n",
    "            data=donor_details,\n",
    "            kind='box',\n",
    "            hue='stp_level')"
   ]
  },
  {
   "cell_type": "code",
   "execution_count": null,
   "metadata": {},
   "outputs": [],
   "source": [
    "sns.catplot(x='fiscal_year',\n",
    "            y='stp_total',\n",
    "            data=donor_details,\n",
    "            kind='box',\n",
    "            hue='stp_level',\n",
    "           col='stp_level',\n",
    "           col_wrap=2,\n",
    "           sharex = True,\n",
    "            sharey=False)"
   ]
  },
  {
   "cell_type": "code",
   "execution_count": null,
   "metadata": {
    "scrolled": false
   },
   "outputs": [],
   "source": [
    "sns.catplot(x='fiscal_year',\n",
    "            y='stp_total',\n",
    "            data=donor_details.loc[donor_details.stp_level != 'Did Not Give'],\n",
    "            kind='box',\n",
    "            hue='fiscal_year',\n",
    "           col='stp_level',\n",
    "           col_wrap=1,\n",
    "            col_order=['Pre-Steward', 'Supporter', 'Investor', 'Underwriter', 'Performer',\n",
    "       'Director', 'Producer'],\n",
    "           sharex = True,\n",
    "            sharey=False,\n",
    "           legend_out=True)"
   ]
  },
  {
   "cell_type": "code",
   "execution_count": null,
   "metadata": {},
   "outputs": [],
   "source": [
    "sns.catplot(x='fiscal_year',\n",
    "            y='stp_total',\n",
    "            data=donor_details.loc[donor_details.stp_level != 'Did Not Give'],\n",
    "            kind='box',\n",
    "            hue='fiscal_year',\n",
    "           col='stp_level',\n",
    "           col_wrap=3,\n",
    "            col_order=['Pre-Steward', 'Supporter', 'Investor', 'Underwriter', 'Performer',\n",
    "       'Director', 'Producer'],\n",
    "           sharex = True,\n",
    "            sharey=False,\n",
    "           legend_out=True)"
   ]
  },
  {
   "cell_type": "code",
   "execution_count": null,
   "metadata": {},
   "outputs": [],
   "source": [
    "#Summary stats showing concrete numbers of graphs above\n",
    "donor_details.groupby(['stp_level', 'fiscal_year'])['stp_total'].describe().T"
   ]
  },
  {
   "cell_type": "code",
   "execution_count": null,
   "metadata": {
    "scrolled": false
   },
   "outputs": [],
   "source": [
    "sns.catplot(x='fiscal_year',\n",
    "            y='stp_total',\n",
    "            data=donor_details.loc[donor_details.stp_level != 'Did Not Give'],\n",
    "            kind='swarm',\n",
    "            hue='fiscal_year',\n",
    "           col='stp_level',\n",
    "           col_wrap=1,\n",
    "            col_order=['Pre-Steward', 'Supporter', 'Investor', 'Underwriter', 'Performer',\n",
    "       'Director', 'Producer'],\n",
    "           sharex = False,\n",
    "            sharey=False,\n",
    "           legend_out=True)\n",
    "plt.show()"
   ]
  },
  {
   "cell_type": "code",
   "execution_count": null,
   "metadata": {
    "scrolled": false
   },
   "outputs": [],
   "source": [
    "sns.catplot(x='fiscal_year',\n",
    "            y='stp_total',\n",
    "            data=donor_details.loc[(donor_details.stp_level != 'Did Not Give') & (donor_details.stp_level != 'Producer')],\n",
    "            kind='swarm',\n",
    "            hue='stp_level', hue_order=['Pre-Steward', 'Supporter', 'Investor', 'Underwriter', 'Performer', 'Director', 'Producer'],\n",
    "           #col='stp_level',\n",
    "           #col_wrap=1,\n",
    "            #col_order=['Pre-Steward', 'Supporter', 'Investor', 'Underwriter', 'Performer',\n",
    "       #'Director', 'Producer'],\n",
    "           sharex = True,\n",
    "            sharey=True,\n",
    "           legend_out=True)\n",
    "plt.title('Distribution of Stewardship Giving Totals Level by Level and Fiscal Year')\n",
    "plt.show()"
   ]
  },
  {
   "cell_type": "code",
   "execution_count": null,
   "metadata": {},
   "outputs": [],
   "source": [
    "sns.catplot(x='fiscal_year',\n",
    "            y='stp_total',\n",
    "            data=donor_details.loc[(donor_details.stp_level != 'Did Not Give')],\n",
    "            kind='swarm',\n",
    "            hue='stp_level', hue_order=['Pre-Steward', 'Supporter', 'Investor', 'Underwriter', 'Performer', 'Director', 'Producer'],\n",
    "           #col='stp_level',\n",
    "           #col_wrap=1,\n",
    "            #col_order=['Pre-Steward', 'Supporter', 'Investor', 'Underwriter', 'Performer',\n",
    "       #'Director', 'Producer'],\n",
    "           sharex = True,\n",
    "            sharey=True,\n",
    "           legend_out=True)\n",
    "plt.title('Distribution of Stewardship Giving Totals Level by Level and Fiscal Year')\n",
    "plt.show()"
   ]
  },
  {
   "cell_type": "code",
   "execution_count": null,
   "metadata": {
    "scrolled": true
   },
   "outputs": [],
   "source": [
    "sns.catplot(ax=ax, x='fiscal_year',\n",
    "            y='stp_total',\n",
    "            data=donor_details.loc[donor_details.stp_level != 'Did Not Give'],\n",
    "            kind='point',\n",
    "            hue='stp_level',\n",
    "           #col='stp_level',\n",
    "           #col_wrap=1,\n",
    "            #col_order=['Pre-Steward', 'Supporter', 'Investor', 'Underwriter', 'Performer',\n",
    "       #'Director', 'Producer'],\n",
    "           sharex = True,\n",
    "            sharey=False,\n",
    "           legend_out=True)\n",
    "plt.show()"
   ]
  },
  {
   "cell_type": "code",
   "execution_count": null,
   "metadata": {},
   "outputs": [],
   "source": [
    "#.set_index(pd.Index(['Did Not Give', 'Pre-Steward', 'Supporter', 'Investor', 'Underwriter', 'Performer', 'Director', 'Producer'])).iloc[1:,]\n",
    "donor_details.loc[donor_details.stp_level != 'Did Not Give'].set_index(pd.Index(['Did Not Give', 'Pre-Steward', 'Supporter', 'Investor', 'Underwriter', 'Performer', 'Director', 'Producer'])).iloc[1:,]"
   ]
  },
  {
   "cell_type": "code",
   "execution_count": null,
   "metadata": {},
   "outputs": [],
   "source": [
    "fig, ax = plt.subplots(figsize=(15,20))\n",
    "ax = sns.pointplot(ax=ax, x='stp_level',\n",
    "            y='stp_total',\n",
    "            data=donor_details.loc[donor_details.stp_level != 'Did Not Give'],\n",
    "            #kind='point',\n",
    "            hue='fiscal_year',\n",
    "            order=['Pre-Steward', 'Supporter', 'Investor', 'Underwriter', 'Performer', 'Director', 'Producer'],\n",
    "           alpha=.5,\n",
    "                   #col='stp_level',\n",
    "           #col_wrap=1,\n",
    "            #col_order=['Pre-Steward', 'Supporter', 'Investor', 'Underwriter', 'Performer',\n",
    "       #'Director', 'Producer'],\n",
    "           sharex = True,\n",
    "            sharey=False,\n",
    "           legend_out=True)\n",
    "plt.show()"
   ]
  },
  {
   "cell_type": "code",
   "execution_count": null,
   "metadata": {},
   "outputs": [],
   "source": [
    "fig, ax = plt.subplots(figsize=(15,20))\n",
    "ax = sns.pointplot(ax=ax, x='fiscal_year',\n",
    "            y='stp_total',\n",
    "            data=donor_details.loc[donor_details.stp_level != 'Did Not Give'],\n",
    "            #kind='point',\n",
    "            hue='stp_level',\n",
    "           #col='stp_level',\n",
    "           #col_wrap=1,\n",
    "            #col_order=['Pre-Steward', 'Supporter', 'Investor', 'Underwriter', 'Performer',\n",
    "       #'Director', 'Producer'],\n",
    "           sharex = True,\n",
    "            sharey=False,\n",
    "           legend_out=True)\n",
    "plt.show()"
   ]
  },
  {
   "cell_type": "code",
   "execution_count": null,
   "metadata": {},
   "outputs": [],
   "source": [
    "g = sns.catplot(y='stp_level',\n",
    "            x='stp_total',\n",
    "            data=donor_details.loc[donor_details.stp_level != 'Did Not Give'],\n",
    "            kind='box',\n",
    "            hue='stp_level',\n",
    "           col='fiscal_year',\n",
    "           col_wrap=2,\n",
    "           sharex = False,\n",
    "            sharey=False,\n",
    "           legend_out=True)\n",
    "for ax in g.axes.flat:\n",
    "    for label in ax.get_xticklabels():\n",
    "        label.set_rotation(45)"
   ]
  },
  {
   "cell_type": "markdown",
   "metadata": {},
   "source": [
    "**Reorder Y Axes Above**"
   ]
  },
  {
   "cell_type": "code",
   "execution_count": null,
   "metadata": {},
   "outputs": [],
   "source": [
    "donor_details.pivot_table(values = 'stp_total', index='fiscal_year', columns='stp_level', aggfunc='sum').plot(kind='bar')"
   ]
  },
  {
   "cell_type": "code",
   "execution_count": null,
   "metadata": {},
   "outputs": [],
   "source": [
    "donor_details.pivot_table(values = 'stp_total', index='fiscal_year', columns=['stp_level', 'retention_status'], aggfunc='sum').T.plot(kind='bar')"
   ]
  },
  {
   "cell_type": "code",
   "execution_count": null,
   "metadata": {},
   "outputs": [],
   "source": [
    "#Check that all stewardship levels are present in each season\n",
    "level_cols = ['stp_total_s28_level', 'stp_total_s27_level', 'stp_total_s26_level', 'stp_total_s25_level', 'stp_total_s24_level',\n",
    "              'stp_toDate_s28_level', 'stp_toDate_s27_level', 'stp_toDate_s26_level', 'stp_toDate_s25_level', 'stp_toDate_s24_level']\n",
    "for col in level_cols:\n",
    "    print(levels_by_season_df[col].value_counts(dropna=False))"
   ]
  },
  {
   "cell_type": "code",
   "execution_count": null,
   "metadata": {},
   "outputs": [],
   "source": [
    "#Check that all stewardship levels are present in each season (display as relative frequencies)\n",
    "level_cols = ['stp_total_s28_level', 'stp_total_s27_level', 'stp_total_s26_level', 'stp_total_s25_level', 'stp_total_s24_level',\n",
    "              'stp_toDate_s28_level', 'stp_toDate_s27_level', 'stp_toDate_s26_level', 'stp_toDate_s25_level', 'stp_toDate_s24_level']\n",
    "for col in level_cols:\n",
    "    print(levels_by_season_df[col].value_counts(normalize = True, dropna=False))"
   ]
  },
  {
   "cell_type": "code",
   "execution_count": null,
   "metadata": {},
   "outputs": [],
   "source": [
    "stp_allDonors_s24 = levels_by_season_df.groupby('stp_total_s24_level')['account_id'].count().rename('stp_total_s24_level')"
   ]
  },
  {
   "cell_type": "code",
   "execution_count": null,
   "metadata": {},
   "outputs": [],
   "source": [
    "stp_allDonors_s25 = levels_by_season_df.groupby('stp_total_s25_level')['account_id'].count().rename('stp_total_s25_level')"
   ]
  },
  {
   "cell_type": "code",
   "execution_count": null,
   "metadata": {},
   "outputs": [],
   "source": [
    "#stp_allDonors_s25.loc['Producer'] = 0"
   ]
  },
  {
   "cell_type": "code",
   "execution_count": null,
   "metadata": {
    "scrolled": true
   },
   "outputs": [],
   "source": [
    "stp_allDonors_s25"
   ]
  },
  {
   "cell_type": "code",
   "execution_count": null,
   "metadata": {},
   "outputs": [],
   "source": [
    "stp_allDonors_s26 = levels_by_season_df.groupby('stp_total_s26_level')['account_id'].count().rename('stp_total_s26_level')"
   ]
  },
  {
   "cell_type": "code",
   "execution_count": null,
   "metadata": {},
   "outputs": [],
   "source": [
    "stp_allDonors_s27 = levels_by_season_df.groupby('stp_total_s27_level')['account_id'].count().rename('stp_total_s27_level')"
   ]
  },
  {
   "cell_type": "code",
   "execution_count": null,
   "metadata": {},
   "outputs": [],
   "source": [
    "stp_allDonors_s28 = levels_by_season_df.groupby('stp_total_s28_level')['account_id'].count().rename('stp_total_s28_level')"
   ]
  },
  {
   "cell_type": "code",
   "execution_count": null,
   "metadata": {},
   "outputs": [],
   "source": [
    "stp_toDateDonors_s24 = levels_by_season_df.groupby('stp_toDate_s24_level')['account_id'].count().rename('stp_toDate_s24_level')"
   ]
  },
  {
   "cell_type": "code",
   "execution_count": null,
   "metadata": {},
   "outputs": [],
   "source": [
    "stp_toDateDonors_s25 = levels_by_season_df.groupby('stp_toDate_s25_level')['account_id'].count().rename('stp_toDate_s25_level')"
   ]
  },
  {
   "cell_type": "code",
   "execution_count": null,
   "metadata": {},
   "outputs": [],
   "source": [
    "#stp_toDateDonors_s25.loc['Producer'] = 0"
   ]
  },
  {
   "cell_type": "code",
   "execution_count": null,
   "metadata": {},
   "outputs": [],
   "source": [
    "stp_toDateDonors_s26 = levels_by_season_df.groupby('stp_toDate_s26_level')['account_id'].count().rename('stp_toDate_s26_level')"
   ]
  },
  {
   "cell_type": "code",
   "execution_count": null,
   "metadata": {},
   "outputs": [],
   "source": [
    "#stp_toDateDonors_s26.loc['Producer'] = 0"
   ]
  },
  {
   "cell_type": "code",
   "execution_count": null,
   "metadata": {},
   "outputs": [],
   "source": [
    "stp_toDateDonors_s27 = levels_by_season_df.groupby('stp_toDate_s27_level')['account_id'].count().rename('stp_toDate_s27_level')"
   ]
  },
  {
   "cell_type": "code",
   "execution_count": null,
   "metadata": {},
   "outputs": [],
   "source": [
    "stp_toDateDonors_s28 = levels_by_season_df.groupby('stp_toDate_s28_level')['account_id'].count().rename('stp_toDate_s28_level')"
   ]
  },
  {
   "cell_type": "code",
   "execution_count": null,
   "metadata": {},
   "outputs": [],
   "source": [
    "#Concatenate the series above to facilitate visualizing stewardship levels by season\n",
    "stp_level_dist = (pd.concat([stp_allDonors_s24, stp_allDonors_s25, stp_allDonors_s26, stp_allDonors_s27, stp_allDonors_s28, stp_toDateDonors_s24, stp_toDateDonors_s25, stp_toDateDonors_s26, stp_toDateDonors_s27, stp_toDateDonors_s28], axis=1, join='inner', copy=False))\n",
    "stp_level_dist"
   ]
  },
  {
   "cell_type": "code",
   "execution_count": null,
   "metadata": {},
   "outputs": [],
   "source": [
    "#Change row index to arrange the levels in proper order.\n",
    "stp_level_dist = stp_level_dist.loc[['Did Not Give', 'Pre-Steward', 'Supporter', 'Investor', 'Underwriter', 'Performer', 'Director', 'Producer']]\n",
    "stp_level_dist"
   ]
  },
  {
   "cell_type": "markdown",
   "metadata": {},
   "source": [
    "**Merge aFund df with a subset of donor_details to append stewardship level and retention metrics to former in which each row is a donation.**"
   ]
  },
  {
   "cell_type": "code",
   "execution_count": null,
   "metadata": {},
   "outputs": [],
   "source": [
    "aFund.shape, donor_details.shape"
   ]
  },
  {
   "cell_type": "code",
   "execution_count": null,
   "metadata": {
    "scrolled": true
   },
   "outputs": [],
   "source": [
    "keep=[0,3,5,7,8,10,11,13,16, 17, 18, 19, 20,22,23,26,28,29,30,31,32]\n",
    "np.take(aFund.columns, keep)"
   ]
  },
  {
   "cell_type": "code",
   "execution_count": null,
   "metadata": {},
   "outputs": [],
   "source": [
    "#Prepare aFund subset to join with donor_details df\n",
    "#Select relevant columns and filter out rows where fiscal year is 2016 (2016 not included in donor_details df)\n",
    "# aFund_subset = aFund.loc[,['account_id', 'account_record_type', 'donation_record_type', 'amount',\n",
    "#        'close_date', 'mailing_city', 'mailing_state', 'fund', 'type', 'stage',\n",
    "#        'fiscal_year', 'fiscal_quarter', 'last_donation_amount', 'close_month',\n",
    "#        'anonymous', 'matching_amount', 'lifetime_donation_total_amount',\n",
    "#        'lifetime_donation_count', 'lifetime_subscription_purchase_total',\n",
    "#        'lifetime_single_ticket_purchase_total', 'lifetime_order_count']]\n",
    "# aFund_subset.sort_values('fiscal_year').reset_index(drop=True)"
   ]
  },
  {
   "cell_type": "code",
   "execution_count": null,
   "metadata": {},
   "outputs": [],
   "source": [
    "#Prepare aFund subset to join with donor_details df\n",
    "#Select relevant columns and filter out rows where fiscal year is 2016 (2016 not included in donor_details df)\n",
    "aFund_subset = aFund.loc[:,['account_id', 'account_record_type', 'donation_record_type', 'amount',\n",
    "       'close_date', 'mailing_city', 'mailing_state', 'fund', 'type', 'stage',\n",
    "       'fiscal_year', 'fiscal_quarter', 'last_donation_amount', 'close_month',\n",
    "       'anonymous', 'matching_amount', 'lifetime_donation_total_amount',\n",
    "       'lifetime_donation_count', 'lifetime_subscription_purchase_total',\n",
    "       'lifetime_single_ticket_purchase_total', 'lifetime_order_count']]\n",
    "aFund_subset.sort_values('fiscal_year').reset_index(drop=True)"
   ]
  },
  {
   "cell_type": "markdown",
   "metadata": {},
   "source": [
    "# Add donor_detail columns to aFund_subset to faciliate deeper analysis."
   ]
  },
  {
   "cell_type": "code",
   "execution_count": null,
   "metadata": {},
   "outputs": [],
   "source": [
    "aFund_donations = pd.merge(aFund_subset, donor_details, how='left', on=['account_id', 'fiscal_year']).sort_values(by=['fiscal_year', 'account_id']).reset_index(drop=True)\n",
    "aFund_donations.head()"
   ]
  },
  {
   "cell_type": "code",
   "execution_count": null,
   "metadata": {},
   "outputs": [],
   "source": [
    "donor_details_afund = pd.merge(donor_details, aFund_subset, how='left', on=['account_id', 'fiscal_year']).sort_values(by=['fiscal_year', 'account_id']).reset_index(drop=True)\n",
    "donor_details_afund.head()"
   ]
  },
  {
   "cell_type": "code",
   "execution_count": null,
   "metadata": {
    "scrolled": true
   },
   "outputs": [],
   "source": [
    "#Create dataframe of af donation totals by fiscal year and the contributors' stewardship level\n",
    "totals_fyStp = donor_details_afund.groupby(['fiscal_year', 'stp_level'])['amount'].sum().reset_index()\n",
    "totals_fyStp"
   ]
  },
  {
   "cell_type": "markdown",
   "metadata": {},
   "source": [
    "# Use the 3 below (after perfecting them)"
   ]
  },
  {
   "cell_type": "code",
   "execution_count": null,
   "metadata": {},
   "outputs": [],
   "source": [
    "totals_fyStp.pivot_table(values='amount', index='fiscal_year', columns='stp_level').loc[:,['Pre-Steward', 'Supporter', 'Investor', 'Underwriter', 'Performer', 'Director', 'Producer']].columns"
   ]
  },
  {
   "cell_type": "code",
   "execution_count": null,
   "metadata": {},
   "outputs": [],
   "source": [
    "#Create dataframe of af donation totals by fiscal year and the contributors' stewardship level\n",
    "#totals_fyStp = donor_details_afund.groupby(['fiscal_year', 'stp_level'])['amount'].sum().reset_index()\n",
    "\n",
    "\n",
    "#Plot the annual fund medians by fiscal year\n",
    "\n",
    "#set style\n",
    "sns.set(style='darkgrid')\n",
    "\n",
    "#Adjust the plot size\n",
    "plt.figure(figsize=[15,6])\n",
    "\n",
    "#Line Plot\n",
    "g = sns.barplot(x=totals_fyStp.pivot_table(values='amount', index='fiscal_year', columns='stp_level').loc[:,['Pre-Steward', 'Supporter', 'Investor', 'Underwriter', 'Performer', 'Director', 'Producer']].index, \n",
    "            y=totals_fyStp.pivot_table(values='amount', index='fiscal_year', columns='stp_level').loc[:,['Pre-Steward', 'Supporter', 'Investor', 'Underwriter', 'Performer', 'Director', 'Producer']].values, \n",
    "            hue = totals_fyStp.pivot_table(values='amount', index='fiscal_year', columns='stp_level').loc[:,['Pre-Steward', 'Supporter', 'Investor', 'Underwriter', 'Performer', 'Director', 'Producer']].columns,\n",
    "           dodge=False)\n",
    "#Add legend title (line below + setting the sns.barplot object equal to 'g' as above)\n",
    "g.legend().set_title('Stewardship Level')\n",
    "\n",
    "#Assign axis labels:\n",
    "plt.ylabel('Median Donation ($)', fontsize=14)\n",
    "plt.xlabel('Fiscal Quarter', fontsize=14)\n",
    "plt.xticks(rotation=45)\n",
    "plt.title('Annual Fund Donation Median By Fiscal Quarter', fontsize=15)\n",
    "\n",
    "#Annotate\n",
    "# This is the location for the annotated text\n",
    "i = 1.0\n",
    "j = 1\n",
    "# Annotating the bar plot with the values \n",
    "# for i in range(len(['Q1-2016', 'Q2-2016', 'Q3-2016','Q4-2016', 'Q1-2017', 'Q2-2017', 'Q3-2017','Q4-2017','Q1-2018', 'Q2-2018', 'Q3-2018','Q4-2018', 'Q1-2019', 'Q2-2019', 'Q3-2019','Q4-2019',\n",
    "#                      'Q1-2020', 'Q2-2020', 'Q3-2020','Q4-2020', 'Q1-2021', 'Q2-2021', 'Q3-2021'])):\n",
    "#     plt.annotate(round(aFund.groupby(['fiscal_quarter'])['amount'].median().loc[['Q1-2016', 'Q2-2016', 'Q3-2016','Q4-2016', 'Q1-2017', 'Q2-2017', 'Q3-2017','Q4-2017','Q1-2018', 'Q2-2018', 'Q3-2018','Q4-2018', 'Q1-2019', 'Q2-2019', 'Q3-2019','Q4-2019',\n",
    "#                      'Q1-2020', 'Q2-2020', 'Q3-2020','Q4-2020', 'Q1-2021', 'Q2-2021', 'Q3-2021']], 2).values[i], (-0.1 + i, aFund.groupby(['fiscal_quarter'])['amount'].median().loc[['Q1-2016', 'Q2-2016', 'Q3-2016','Q4-2016', 'Q1-2017', 'Q2-2017', 'Q3-2017','Q4-2017','Q1-2018', 'Q2-2018', 'Q3-2018','Q4-2018', 'Q1-2019', 'Q2-2019', 'Q3-2019','Q4-2019',\n",
    "#                      'Q1-2020', 'Q2-2020', 'Q3-2020','Q4-2020', 'Q1-2021', 'Q2-2021', 'Q3-2021']].values[i] + j),\n",
    "#                 horizontalalignment='center',\n",
    "#                 fontsize=13)"
   ]
  },
  {
   "cell_type": "code",
   "execution_count": null,
   "metadata": {},
   "outputs": [],
   "source": [
    "ax = totals_fyStp.pivot_table(values='amount', index='fiscal_year', columns='stp_level').loc[:,['Pre-Steward', 'Supporter', 'Investor', 'Underwriter', 'Performer', 'Director', 'Producer']].plot(kind='bar', stacked=True)\n",
    "plt.title(\"Each Stewardship Level Tends to Contribute More Money Over Time\")\n",
    "plt.xlabel(\"Fiscal Year\")\n",
    "plt.xticks(rotation=45)\n",
    "plt.ylabel(\"Donation Totals ($) by Fiscal Year\")\n",
    "ax.legend(loc='center left', bbox_to_anchor=(1.0, 0.5)).set_title('Stewardship Level')"
   ]
  },
  {
   "cell_type": "code",
   "execution_count": null,
   "metadata": {
    "scrolled": true
   },
   "outputs": [],
   "source": [
    "#Plot each stewardship level's contribution to the annual fund totals by fiscal year\n",
    "ax = pd.crosstab(index=totals_fyStp.fiscal_year, columns=totals_fyStp.stp_level, values=totals_fyStp.amount, aggfunc='max', normalize='index').loc[:,['Pre-Steward', 'Supporter', 'Investor', 'Underwriter', 'Performer', 'Director', 'Producer']].plot(kind='bar', stacked=True, rot=45)\n",
    "plt.title(\"'Performers' Consistenty Account for the Largest % of Annual Fund Gift By Fiscal Year\")\n",
    "plt.xlabel(\"Fiscal Year\")\n",
    "plt.xticks(rotation=45)\n",
    "plt.ylabel(\"Proportion of Total Donation\")\n",
    "ax.legend(loc='center left', bbox_to_anchor=(1.0, 0.5)).set_title('Stewardship Level')"
   ]
  },
  {
   "cell_type": "code",
   "execution_count": null,
   "metadata": {},
   "outputs": [],
   "source": [
    "pd.crosstab(index=totals_fyStp.fiscal_year, columns=totals_fyStp.stp_level, values=totals_fyStp.amount, aggfunc='max', normalize='index').loc[:,['Pre-Steward', 'Supporter', 'Investor', 'Underwriter', 'Performer', 'Director', 'Producer']]"
   ]
  },
  {
   "cell_type": "code",
   "execution_count": null,
   "metadata": {
    "scrolled": true
   },
   "outputs": [],
   "source": [
    "g = sns.catplot(x=\"fiscal_year\", y=\"number_of_donations_byFY\",\n",
    "                 hue=\"retention_status\", col=\"stp_level\", col_wrap=2,\n",
    "                 data=donor_details_afund[donor_details_afund.stp_level != 'Did Not Give'], kind=\"box\",\n",
    "                 height=10, aspect=1.5)"
   ]
  },
  {
   "cell_type": "code",
   "execution_count": null,
   "metadata": {},
   "outputs": [],
   "source": [
    "g = sns.catplot(x=\"fiscal_year\", y=\"number_of_donations_byFY\",\n",
    "                 hue=\"retention_status\", col=\"stp_level\", col_wrap=2,\n",
    "                 data=donor_details_afund[donor_details_afund.stp_level != 'Did Not Give'], kind=\"point\",\n",
    "                 height=10, aspect=1.5)\n"
   ]
  },
  {
   "cell_type": "code",
   "execution_count": null,
   "metadata": {},
   "outputs": [],
   "source": [
    "g = sns.catplot(x=\"fiscal_year\", y=\"donor_total_byFY\",\n",
    "                 hue=\"stp_level\", hue_order=['Pre-Steward', 'Supporter', 'Investor', 'Underwriter', 'Performer', 'Director', 'Producer'],\n",
    "                 data=donor_details_afund[donor_details_afund.stp_level != 'Did Not Give'], kind=\"point\",\n",
    "                 height=10, aspect=1.5)"
   ]
  },
  {
   "cell_type": "code",
   "execution_count": null,
   "metadata": {},
   "outputs": [],
   "source": [
    "g = sns.catplot(x=\"fiscal_year\", y=\"number_of_donations_byFY\",\n",
    "                 hue=\"stp_level\", hue_order=['Pre-Steward', 'Supporter', 'Investor', 'Underwriter', 'Performer', 'Director', 'Producer'],\n",
    "                 data=donor_details_afund[donor_details_afund.stp_level != 'Did Not Give'], kind=\"point\",\n",
    "                 height=10, aspect=1.5)"
   ]
  },
  {
   "cell_type": "code",
   "execution_count": null,
   "metadata": {},
   "outputs": [],
   "source": [
    "\n",
    "g = sns.catplot(x=\"fiscal_year\", y=\"number_of_donations_byFY\",\n",
    "                 hue=\"retention_status\", col=\"stp_level\", col_wrap=2,\n",
    "                 data=donor_details_afund[donor_details_afund.stp_level != 'Did Not Give'], kind=\"swarm\",\n",
    "                 height=10, aspect=1.5)"
   ]
  },
  {
   "cell_type": "code",
   "execution_count": null,
   "metadata": {},
   "outputs": [],
   "source": [
    "#Plot the annual fund means by fiscal year\n",
    "\n",
    "#set style\n",
    "sns.set(style='darkgrid')\n",
    "\n",
    "#Adjust the plot size\n",
    "plt.figure(figsize=[15,6])\n",
    "\n",
    "#Line Plot\n",
    "sns.barplot(x=aFund.groupby(['fiscal_year'])['amount'].sum().index, y=aFund.groupby(['fiscal_year'])['amount'].sum().values, color='green')\n",
    "\n",
    "#Assign axis labels:\n",
    "plt.ylabel('Donation Totals ($)', fontsize=14)\n",
    "plt.xlabel('Fiscal Year', fontsize=14)\n",
    "plt.title('Annual Fund Donation Totals By Fiscal Year (July 1 - June 30)', fontsize=14)\n",
    "\n",
    "#Annotate\n",
    "# This is the location for the annotated text\n",
    "i = 1.0\n",
    "j = 10\n",
    "# Annotating the bar plot with the values (means by fy)\n",
    "for i in range(len(np.sort(aFund.fiscal_year.unique()))):\n",
    "    plt.annotate(round(aFund.groupby(['fiscal_year'])['amount'].sum().loc[['2016', '2017', '2018', '2019', '2020', '2021']], 2).values[i],\n",
    "                 (-0.1 + i, aFund.groupby(['fiscal_year'])['amount'].sum().loc[['2016', '2017', '2018', '2019', '2020', '2021']].values[i] + j), \n",
    "                 fontsize=13)\n",
    "    \n",
    "plt.show()"
   ]
  },
  {
   "cell_type": "code",
   "execution_count": null,
   "metadata": {},
   "outputs": [],
   "source": [
    "#Plot the annual fund totals by fiscal quarter\n",
    "\n",
    "#set style\n",
    "sns.set(style='darkgrid')\n",
    "\n",
    "#Adjust the plot size\n",
    "plt.figure(figsize=[20,8])\n",
    "\n",
    "#Line Plot\n",
    "g = sns.barplot(x=aFund.groupby(['fiscal_quarter'])['amount'].sum().loc[['Q1-2016', 'Q2-2016', 'Q3-2016','Q4-2016', 'Q1-2017', 'Q2-2017', 'Q3-2017','Q4-2017','Q1-2018', 'Q2-2018', 'Q3-2018','Q4-2018', 'Q1-2019', 'Q2-2019', 'Q3-2019','Q4-2019',\n",
    "                     'Q1-2020', 'Q2-2020', 'Q3-2020','Q4-2020', 'Q1-2021', 'Q2-2021', 'Q3-2021']].index, \n",
    "            y=aFund.groupby(['fiscal_quarter'])['amount'].sum().loc[['Q1-2016', 'Q2-2016', 'Q3-2016','Q4-2016', 'Q1-2017', 'Q2-2017', 'Q3-2017','Q4-2017','Q1-2018', 'Q2-2018', 'Q3-2018','Q4-2018', 'Q1-2019', 'Q2-2019', 'Q3-2019','Q4-2019',\n",
    "                     'Q1-2020', 'Q2-2020', 'Q3-2020','Q4-2020', 'Q1-2021', 'Q2-2021', 'Q3-2021']].values, \n",
    "            hue = fq_wfy['fiscal_year'].values,\n",
    "           dodge=False)\n",
    "g.legend(loc='upper left').set_title('RTP Fiscal Year')\n",
    "#Assign axis labels:\n",
    "plt.ylabel('Donations Totals ($)', fontsize=15)\n",
    "plt.xlabel('Fiscal Quarter', fontsize=15)\n",
    "plt.xticks(rotation=45)\n",
    "plt.title('Annual Fund Donation Totals By Fiscal Quarter', fontsize=17)\n",
    "\n",
    "#Annotate\n",
    "# This is the location for the annotated text\n",
    "i = 1.0\n",
    "j = 2000\n",
    "# Annotating the bar plot with the values \n",
    "for i in range(len(['Q1-2016', 'Q2-2016', 'Q3-2016','Q4-2016', 'Q1-2017', 'Q2-2017', 'Q3-2017','Q4-2017','Q1-2018', 'Q2-2018', 'Q3-2018','Q4-2018', 'Q1-2019', 'Q2-2019', 'Q3-2019','Q4-2019',\n",
    "                     'Q1-2020', 'Q2-2020', 'Q3-2020','Q4-2020', 'Q1-2021', 'Q2-2021', 'Q3-2021'])):\n",
    "    plt.annotate(round(aFund.groupby(['fiscal_quarter'])['amount'].sum().loc[['Q1-2016', 'Q2-2016', 'Q3-2016','Q4-2016', 'Q1-2017', 'Q2-2017', 'Q3-2017','Q4-2017','Q1-2018', 'Q2-2018', 'Q3-2018','Q4-2018', 'Q1-2019', 'Q2-2019', 'Q3-2019','Q4-2019',\n",
    "                     'Q1-2020', 'Q2-2020', 'Q3-2020','Q4-2020', 'Q1-2021', 'Q2-2021', 'Q3-2021']], 2).values[i], (-0.1 + i, aFund.groupby(['fiscal_quarter'])['amount'].sum().loc[['Q1-2016', 'Q2-2016', 'Q3-2016','Q4-2016', 'Q1-2017', 'Q2-2017', 'Q3-2017','Q4-2017','Q1-2018', 'Q2-2018', 'Q3-2018','Q4-2018', 'Q1-2019', 'Q2-2019', 'Q3-2019','Q4-2019',\n",
    "                     'Q1-2020', 'Q2-2020', 'Q3-2020','Q4-2020', 'Q1-2021', 'Q2-2021', 'Q3-2021']].values[i] + j), \n",
    "                 horizontalalignment='center',\n",
    "                 verticalalignment='top',\n",
    "                 fontsize=13)"
   ]
  },
  {
   "cell_type": "code",
   "execution_count": null,
   "metadata": {},
   "outputs": [],
   "source": [
    "#Plot the annual fund means by fiscal year\n",
    "\n",
    "#set style\n",
    "sns.set(style='darkgrid')\n",
    "\n",
    "#Adjust the plot size\n",
    "plt.figure(figsize=[15,6])\n",
    "\n",
    "#Line Plot\n",
    "sns.barplot(data=totals_fyStp, x='fiscal_year', y='amount', hue='stp_level', hue_order=['Pre-Steward', 'Supporter', 'Investor', 'Underwriter', 'Performer', 'Director', 'Producer'], ci=None)\n",
    "\n",
    "#Assign axis labels:\n",
    "plt.ylabel('Donation Totals ($)', fontsize=14)\n",
    "plt.xlabel('Fiscal Year', fontsize=14)\n",
    "plt.title('Annual Fund Donation Totals By Fiscal Year (July 1 - June 30)', fontsize=14)\n",
    "\n",
    "#Annotate\n",
    "# This is the location for the annotated text\n",
    "i = 1.0\n",
    "j = 10\n",
    "# Annotating the bar plot with the values (means by fy)\n",
    "for i in range(len(np.sort(aFund.fiscal_year.unique()))):\n",
    "    plt.annotate(round(totals_fyStp['amount'].loc[['2017', '2018', '2019', '2020', '2021']], 2).values[i],\n",
    "                 (-0.1 + i, totals_fyStp['amount'].loc[['2017', '2018', '2019', '2020', '2021']].values[i] + j), \n",
    "                 fontsize=13)\n",
    "    \n",
    "plt.show()"
   ]
  },
  {
   "cell_type": "code",
   "execution_count": null,
   "metadata": {},
   "outputs": [],
   "source": [
    "totals_fyStp.plot(kind='bar', x='fiscal_year', y='amount', color='stp_level')"
   ]
  },
  {
   "cell_type": "code",
   "execution_count": null,
   "metadata": {},
   "outputs": [],
   "source": [
    "# One liner to create a stacked bar chart.\n",
    "ax = sns.histplot(totals_fyStp, x='fiscal_year', hue='stp_level', weights='amount',\n",
    "             multiple='stack')\n",
    "ax.set_ylabel('amount')\n",
    "# Fix the legend so it's not on top of the bars.\n",
    "legend = ax.get_legend()\n",
    "legend.set_bbox_to_anchor((1, 1))"
   ]
  },
  {
   "cell_type": "code",
   "execution_count": null,
   "metadata": {},
   "outputs": [],
   "source": [
    "#Plot the annual fund means by fiscal year\n",
    "\n",
    "#set style\n",
    "sns.set(style='darkgrid')\n",
    "\n",
    "#Adjust the plot size\n",
    "plt.figure(figsize=[15,6])\n",
    "\n",
    "#Line Plot\n",
    "sns.barplot(data=totals_fyStp, x='fiscal_year', y='amount', stacked=True, hue='stp_level', hue_order=['Pre-Steward', 'Supporter', 'Investor', 'Underwriter', 'Performer', 'Director', 'Producer'], ci=None)\n",
    "\n",
    "#Assign axis labels:\n",
    "plt.ylabel('Donation Totals ($)', fontsize=14)\n",
    "plt.xlabel('Fiscal Year', fontsize=14)\n",
    "plt.title('Annual Fund Donation Totals By Fiscal Year (July 1 - June 30)', fontsize=14)\n",
    "\n",
    "#Annotate\n",
    "# This is the location for the annotated text\n",
    "# i = 1.0\n",
    "# j = 10\n",
    "# # Annotating the bar plot with the values (means by fy)\n",
    "# for i in range(len(np.sort(aFund.fiscal_year.unique()))):\n",
    "#     plt.annotate(round(aFund.groupby(['fiscal_year'])['amount'].sum().loc[['2016', '2017', '2018', '2019', '2020', '2021']], 2).values[i],\n",
    "#                  (-0.1 + i, aFund.groupby(['fiscal_year'])['amount'].sum().loc[['2016', '2017', '2018', '2019', '2020', '2021']].values[i] + j), \n",
    "#                  fontsize=13)\n",
    "    \n",
    "plt.show()"
   ]
  },
  {
   "cell_type": "code",
   "execution_count": null,
   "metadata": {
    "scrolled": true
   },
   "outputs": [],
   "source": [
    "ax = sns.set(style=\"ticks\") #Update sns version to access set_theme attribute, but investigate all implications before updating te version\n",
    "\n",
    "# Load the example tips dataset\n",
    "#tips = sns.load_dataset(\"tips\")\n",
    "\n",
    "# Draw a nested boxplot to show bills by day and time\n",
    "ax = sns.boxplot(x=\"fiscal_year\", y=\"stp_total\",\n",
    "            hue='currentVlapsed', palette=[\"m\", \"g\"],\n",
    "            data=donor_details)\n",
    "#sns.despine(offset=10, trim=True)"
   ]
  },
  {
   "cell_type": "code",
   "execution_count": null,
   "metadata": {},
   "outputs": [],
   "source": [
    "sns.set(style=\"ticks\")\n",
    "g = sns.catplot(x=\"fiscal_year\", y=\"stp_total\",\n",
    "            hue='currentVlapsed',\n",
    "            data=donor_details)"
   ]
  },
  {
   "cell_type": "code",
   "execution_count": null,
   "metadata": {},
   "outputs": [],
   "source": [
    "sns.set(style=\"ticks\")\n",
    "g = sns.catplot(x='stp_level', y=\"stp_total\",\n",
    "            hue='currentVlapsed', col=\"fiscal_year\",\n",
    "            data=donor_details)\n",
    "plt.xticks(rotation=45)"
   ]
  },
  {
   "cell_type": "code",
   "execution_count": null,
   "metadata": {},
   "outputs": [],
   "source": [
    "sns.set(style=\"ticks\")\n",
    "g = sns.catplot(x='stp_level', y=\"stp_total\",\n",
    "            hue='currentVlapsed', col=\"fiscal_year\", col_wrap=2,\n",
    "            data=donor_details[donor_details.stp_level != 'Did Not Give'],  height=3, aspect=1.5, jitter=True)\n",
    "plt.xticks(rotation=45)"
   ]
  },
  {
   "cell_type": "code",
   "execution_count": null,
   "metadata": {},
   "outputs": [],
   "source": [
    "sns.set(style=\"ticks\")\n",
    "g = sns.catplot(x='stp_level', y=\"stp_total\",\n",
    "            hue='currentVlapsed', col=\"fiscal_year\", col_wrap=2,\n",
    "            data=donor_details[donor_details.stp_level != 'Did Not Give'],  height=3, aspect=1.5)\n",
    "plt.xticks(rotation=45)"
   ]
  },
  {
   "cell_type": "code",
   "execution_count": null,
   "metadata": {
    "scrolled": false
   },
   "outputs": [],
   "source": [
    "ax = stp_level_dist.iloc[1:,5:].plot(kind='bar', stacked=True)"
   ]
  },
  {
   "cell_type": "code",
   "execution_count": null,
   "metadata": {},
   "outputs": [],
   "source": [
    "ax = stp_level_dist.iloc[2:,0:5].T.plot(kind='bar', stacked=True)"
   ]
  },
  {
   "cell_type": "code",
   "execution_count": null,
   "metadata": {},
   "outputs": [],
   "source": [
    "ax = stp_level_dist.iloc[2:,0:5].T.plot(kind='bar', stacked=False)"
   ]
  },
  {
   "cell_type": "code",
   "execution_count": null,
   "metadata": {},
   "outputs": [],
   "source": [
    "ax = stp_level_dist.iloc[2:,0:5].T.set_index(pd.Index(['2017', '2018', '2019', '2020', '2021'])).plot(kind='bar', stacked=False) "
   ]
  },
  {
   "cell_type": "code",
   "execution_count": null,
   "metadata": {},
   "outputs": [],
   "source": [
    "ax = stp_level_dist.iloc[1:,0:5].T.set_index(pd.Index(['2017', '2018', '2019', '2020', '2021'])).plot(kind='bar', stacked=False)\n",
    "ax.legend(loc='upper left')#.set_title('Stewardship Level')\n",
    "plt.show()"
   ]
  },
  {
   "cell_type": "code",
   "execution_count": null,
   "metadata": {},
   "outputs": [],
   "source": [
    "sns.set(style=\"ticks\")\n",
    "g = sns.catplot(x='stp_level', y=\"stp_total\",\n",
    "            hue='retention_status', col=\"fiscal_year\",\n",
    "            data=donor_details)\n",
    "#plt.xticks(rotation=45)\n",
    "for ax in g.axes.flat:\n",
    "    for label in ax.get_xticklabels():\n",
    "        label.set_rotation(45)"
   ]
  },
  {
   "cell_type": "code",
   "execution_count": null,
   "metadata": {},
   "outputs": [],
   "source": [
    "\n",
    "sns.set(style=\"ticks\")\n",
    "g = sns.catplot(x='stp_level', y=\"donor_median_byFY\",\n",
    "            hue='retention_status', col=\"fiscal_year\", kind='box',\n",
    "            col_wrap=2,\n",
    "            data=donor_details[donor_details.stp_level != 'Did Not Give'],  height=3, aspect=1.5)\n",
    "#plt.xticks(rotation=45)\n",
    "for ax in g.axes.flat:\n",
    "    for label in ax.get_xticklabels():\n",
    "        label.set_rotation(45)\n"
   ]
  },
  {
   "cell_type": "code",
   "execution_count": null,
   "metadata": {},
   "outputs": [],
   "source": [
    "sns.set(style=\"ticks\")\n",
    "g = sns.catplot(x=\"fiscal_year\", y=\"donor_median_byFY\",\n",
    "            hue='currentVlapsed', col='stp_level' , kind='box',\n",
    "            col_wrap=2,\n",
    "            data=donor_details[donor_details.stp_level != 'Did Not Give'],  height=3, aspect=1.5)\n",
    "#plt.xticks(rotation=45)\n",
    "for ax in g.axes.flat:\n",
    "    for label in ax.get_xticklabels():\n",
    "        label.set_rotation(45)\n"
   ]
  },
  {
   "cell_type": "code",
   "execution_count": null,
   "metadata": {},
   "outputs": [],
   "source": [
    "sns.set(style=\"ticks\")\n",
    "g = sns.catplot(x=\"fiscal_year\", y=\"donor_median_byFY\",\n",
    "            hue='currentVlapsed', col='stp_level' , kind='box',\n",
    "            col_wrap=2,\n",
    "            data=donor_details.loc[donor_details.stp_level.isin(['Supporter', 'Investor', 'Underwriter', 'Performer', 'Director', 'Producer'])],  height=3, aspect=1.5)\n",
    "#plt.xticks(rotation=45)\n",
    "for ax in g.axes.flat:\n",
    "    for label in ax.get_xticklabels():\n",
    "        label.set_rotation(45)\n"
   ]
  },
  {
   "cell_type": "code",
   "execution_count": null,
   "metadata": {},
   "outputs": [],
   "source": [
    "sns.set(style=\"ticks\")\n",
    "g = sns.catplot(x=\"fiscal_year\", y=\"donor_median_byFY\",\n",
    "            hue='currentVlapsed', col='stp_level' , kind='box',\n",
    "            col_wrap=1,\n",
    "            data=donor_details.loc[donor_details.stp_level.isin(['Supporter', 'Investor', 'Underwriter', 'Performer', 'Director', 'Producer'])],  height=3, aspect=1.5)\n",
    "#plt.xticks(rotation=45)\n",
    "for ax in g.axes.flat:\n",
    "    for label in ax.get_xticklabels():\n",
    "        label.set_rotation(45)"
   ]
  },
  {
   "cell_type": "code",
   "execution_count": null,
   "metadata": {},
   "outputs": [],
   "source": [
    "sns.set(style=\"ticks\")\n",
    "g = sns.catplot(x=\"fiscal_year\", y=\"number_of_donations_byFY\",\n",
    "            hue='currentVlapsed', col='stp_level' , kind='box',\n",
    "            col_wrap=2,\n",
    "            data=donor_details.loc[donor_details.stp_level.isin(['Supporter', 'Investor', 'Underwriter', 'Performer', 'Director', 'Producer'])],  height=3, aspect=1.5)\n",
    "#plt.xticks(rotation=45)\n",
    "for ax in g.axes.flat:\n",
    "    for label in ax.get_xticklabels():\n",
    "        label.set_rotation(45)"
   ]
  },
  {
   "cell_type": "code",
   "execution_count": null,
   "metadata": {},
   "outputs": [],
   "source": [
    "sns.set(style=\"ticks\")\n",
    "g = sns.catplot(x=\"fiscal_year\", y=\"donor_median_byFY\",\n",
    "            hue='retention_status', col='stp_level' , kind='box',\n",
    "            col_wrap=2,\n",
    "            data=donor_details[donor_details.stp_level != 'Did Not Give'],  height=3, aspect=1.5)\n",
    "#plt.xticks(rotation=45)\n",
    "for ax in g.axes.flat:\n",
    "    for label in ax.get_xticklabels():\n",
    "        label.set_rotation(45)\n"
   ]
  },
  {
   "cell_type": "code",
   "execution_count": null,
   "metadata": {},
   "outputs": [],
   "source": [
    "sns.set(style=\"ticks\")\n",
    "g = sns.catplot(x='stp_level', y=\"stp_total\",\n",
    "            hue='retention_status', col=\"fiscal_year\", kind='box',\n",
    "            col_wrap=2,\n",
    "            data=donor_details[donor_details.stp_level != 'Did Not Give'],  height=3, aspect=1.5)\n",
    "#plt.xticks(rotation=45)\n",
    "for ax in g.axes.flat:\n",
    "    for label in ax.get_xticklabels():\n",
    "        label.set_rotation(45)"
   ]
  },
  {
   "cell_type": "code",
   "execution_count": null,
   "metadata": {},
   "outputs": [],
   "source": [
    "stp_level_dist.iloc[2:,0:5].T.set_index(pd.Index(['2017', '2018', '2019', '2020', '2021']))"
   ]
  },
  {
   "cell_type": "code",
   "execution_count": null,
   "metadata": {},
   "outputs": [],
   "source": [
    "stp_level_dist.iloc[2:,0:5].T.set_index(pd.Index(['2017', '2018', '2019', '2020', '2021'])).plot(kind='bar', stacked=False)"
   ]
  },
  {
   "cell_type": "code",
   "execution_count": null,
   "metadata": {
    "scrolled": true
   },
   "outputs": [],
   "source": [
    "ax = stp_level_dist.iloc[2:,0:5].plot(kind='bar', stacked=False)"
   ]
  },
  {
   "cell_type": "code",
   "execution_count": null,
   "metadata": {},
   "outputs": [],
   "source": [
    "ax = stp_level_dist.iloc[2:,0:5].T.plot(kind='bar', stacked=False)"
   ]
  },
  {
   "cell_type": "markdown",
   "metadata": {},
   "source": [
    "# Facet wrap w/ fiscal year"
   ]
  },
  {
   "cell_type": "code",
   "execution_count": null,
   "metadata": {},
   "outputs": [],
   "source": [
    "ax = stp_level_dist.T.iloc[0:4,:].plot(kind='bar', stacked=True)"
   ]
  },
  {
   "cell_type": "code",
   "execution_count": null,
   "metadata": {},
   "outputs": [],
   "source": [
    "ax = stp_level_dist.T.iloc[0:4,:].plot(kind='bar', stacked=False)"
   ]
  },
  {
   "cell_type": "code",
   "execution_count": null,
   "metadata": {},
   "outputs": [],
   "source": [
    "stp_level_dist.T"
   ]
  },
  {
   "cell_type": "code",
   "execution_count": null,
   "metadata": {
    "scrolled": false
   },
   "outputs": [],
   "source": [
    "ax = stp_level_dist.T.iloc[:5,1:].set_index(pd.Index(['Season 24', 'Season 25', 'Season 26', 'Season 27', 'Season 28'])).plot(kind='bar', stacked=False, figsize=(20,12), title='Stewardship Level Volume by Season - Full Giving Periods')\n",
    "for p in ax.patches:\n",
    "    ax.annotate(str(p.get_height()), (p.get_x() * 1.005, p.get_height() * 1.005))"
   ]
  },
  {
   "cell_type": "markdown",
   "metadata": {},
   "source": [
    "# ADD DOLLAR AMOUNTS TO STEWARDSHIP PERIOD LEGENDS & ANNOTATE GIVING PERIOD UNDER REVIEW"
   ]
  },
  {
   "cell_type": "code",
   "execution_count": null,
   "metadata": {},
   "outputs": [],
   "source": [
    "ax = stp_level_dist.T.iloc[:5,2:].set_index(pd.Index(['Season 24', 'Season 25', 'Season 26', 'Season 27', 'Season 28'])).plot(kind='bar', stacked=False, figsize=(20,12), title='Stewardship Level Volume by Season - Full Giving Periods')\n",
    "for p in ax.patches:\n",
    "    ax.annotate(str(p.get_height()), (p.get_x() * 1.005, p.get_height() * 1.005))"
   ]
  },
  {
   "cell_type": "code",
   "execution_count": null,
   "metadata": {
    "scrolled": false
   },
   "outputs": [],
   "source": [
    "ax = stp_level_dist.T.iloc[5:,1:].set_index(pd.Index(['Season 24', 'Season 25', 'Season 26', 'Season 27', 'Season 28'])).plot(kind='bar', stacked=False, figsize=(20,12), title='Stewardship Level Volume by Season - Full Giving Periods')\n",
    "for p in ax.patches:\n",
    "    ax.annotate(str(p.get_height()), (p.get_x() * 1.005, p.get_height() * 1.005))"
   ]
  },
  {
   "cell_type": "code",
   "execution_count": null,
   "metadata": {},
   "outputs": [],
   "source": [
    "ax = stp_level_dist.T.iloc[5:,2:].set_index(pd.Index(['Season 24', 'Season 25', 'Season 26', 'Season 27', 'Season 28'])).plot(kind='bar', stacked=False, figsize=(20,12), title='Stewardship Level Volume by Season - Common Date Range')\n",
    "for p in ax.patches:\n",
    "    ax.annotate(str(p.get_height()), (p.get_x() * 1.005, p.get_height() * 1.005))"
   ]
  },
  {
   "cell_type": "code",
   "execution_count": null,
   "metadata": {},
   "outputs": [],
   "source": [
    "ax = stp_level_dist.T.iloc[5:,2:].plot(kind='bar', stacked=False, subplots=True, layout=(4,2), legend=False, title='Stewardship Level Volume by Season - Common Date Range')"
   ]
  },
  {
   "cell_type": "code",
   "execution_count": null,
   "metadata": {},
   "outputs": [],
   "source": [
    "ax = stp_level_dist.T.iloc[5:,2:].plot(kind='box')"
   ]
  },
  {
   "cell_type": "code",
   "execution_count": null,
   "metadata": {},
   "outputs": [],
   "source": [
    "ax = stp_level_dist.T.iloc[5:,2:].set_index(pd.Index(['Season 24', 'Season 25', 'Season 26', 'Season 27', 'Season 28'])).T.plot(kind='box')\n"
   ]
  },
  {
   "cell_type": "code",
   "execution_count": null,
   "metadata": {},
   "outputs": [],
   "source": [
    "#Let's look specifically at the new stewardship total columns\n",
    "aFund[['account_name','stp_total_s28', 'stp_total_s27', 'stp_total_s26', 'stp_total_s25']].sort_values(by='stp_total_s28')"
   ]
  },
  {
   "cell_type": "code",
   "execution_count": null,
   "metadata": {},
   "outputs": [],
   "source": [
    "figure, ax = plt.subplots(1,1, figsize=(20,24), squeeze=False)\n",
    "\n",
    "#See the distrubution of the data\n",
    "\n",
    "sns.distplot(donations['amount'],ax= ax[0,0])\n",
    "plt.show()"
   ]
  },
  {
   "cell_type": "code",
   "execution_count": null,
   "metadata": {},
   "outputs": [],
   "source": [
    "plt.hist(donations.amount[donations.amount.notnull()], color = 'blue', edgecolor = 'black', bins = int(25000/250))"
   ]
  },
  {
   "cell_type": "code",
   "execution_count": null,
   "metadata": {},
   "outputs": [],
   "source": [
    "sns.distplot(donations.amount[donations.amount.notnull()], hist=True, kde=False, \n",
    "             bins=int(25000/250), color = 'blue',\n",
    "             hist_kws={'edgecolor':'black'})\n",
    "# Add labels\n",
    "#plt.title('Histogram of Arrival Delays')\n",
    "#plt.xlabel('Delay (min)')\n",
    "#plt.ylabel('Flights')"
   ]
  },
  {
   "cell_type": "code",
   "execution_count": null,
   "metadata": {},
   "outputs": [],
   "source": [
    "donations.amount[donations.amount.notnull()]"
   ]
  },
  {
   "cell_type": "code",
   "execution_count": null,
   "metadata": {},
   "outputs": [],
   "source": [
    "donations.isna().sum()"
   ]
  }
 ],
 "metadata": {
  "kernelspec": {
   "display_name": "Python 3",
   "language": "python",
   "name": "python3"
  },
  "language_info": {
   "codemirror_mode": {
    "name": "ipython",
    "version": 3
   },
   "file_extension": ".py",
   "mimetype": "text/x-python",
   "name": "python",
   "nbconvert_exporter": "python",
   "pygments_lexer": "ipython3",
   "version": "3.7.7"
  }
 },
 "nbformat": 4,
 "nbformat_minor": 4
}
