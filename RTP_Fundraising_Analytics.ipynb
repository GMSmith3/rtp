{
 "cells": [
  {
   "cell_type": "markdown",
   "metadata": {},
   "source": [
    "# Setup"
   ]
  },
  {
   "cell_type": "code",
   "execution_count": null,
   "metadata": {},
   "outputs": [],
   "source": [
    "#Check directory\n",
    "#!pwd"
   ]
  },
  {
   "cell_type": "code",
   "execution_count": null,
   "metadata": {},
   "outputs": [],
   "source": [
    "#Change directory\n",
    "#%cd /Users/georgesmith/Desktop/RTP/DONOR DATA ANALYSIS"
   ]
  },
  {
   "cell_type": "code",
   "execution_count": 1,
   "metadata": {},
   "outputs": [
    {
     "name": "stderr",
     "output_type": "stream",
     "text": [
      "/Users/georgesmith/anaconda3/lib/python3.7/site-packages/outdated/utils.py:18: OutdatedPackageWarning: The package pingouin is out of date. Your version is 0.3.3, the latest is 0.3.6.\n",
      "Set the environment variable OUTDATED_IGNORE=1 to disable these warnings.\n",
      "  **kwargs\n"
     ]
    },
    {
     "data": {
      "text/html": [
       "        <script type=\"text/javascript\">\n",
       "        window.PlotlyConfig = {MathJaxConfig: 'local'};\n",
       "        if (window.MathJax) {MathJax.Hub.Config({SVG: {font: \"STIX-Web\"}});}\n",
       "        if (typeof require !== 'undefined') {\n",
       "        require.undef(\"plotly\");\n",
       "        requirejs.config({\n",
       "            paths: {\n",
       "                'plotly': ['https://cdn.plot.ly/plotly-latest.min']\n",
       "            }\n",
       "        });\n",
       "        require(['plotly'], function(Plotly) {\n",
       "            window._Plotly = Plotly;\n",
       "        });\n",
       "        }\n",
       "        </script>\n",
       "        "
      ]
     },
     "metadata": {},
     "output_type": "display_data"
    }
   ],
   "source": [
    "#Import necessary packages:\n",
    "import pandas as pd\n",
    "from pandas.plotting import scatter_matrix\n",
    "import numpy as np\n",
    "import datetime\n",
    "from datetime import date\n",
    "from datetime import datetime\n",
    "import matplotlib\n",
    "import matplotlib.pyplot as plt\n",
    "import seaborn as sns\n",
    "from scipy import stats\n",
    "from IPython.display import display\n",
    "import sys\n",
    "#Install pingouin package into this jupyter kernal\n",
    "#!{sys.executable} -m pip install pingouin\n",
    "import pingouin as pg #this throws the warning message\n",
    "#!{sys.executable} -m pip install --upgrade statsmodels\n",
    "import pickle\n",
    "import plotly.offline as py\n",
    "color = sns.color_palette()\n",
    "import plotly.graph_objs as go\n",
    "py.init_notebook_mode(connected=True)\n",
    "import plotly.tools as tls\n",
    "#import sys\n",
    "#!{sys.executable} -m pip install pandas_profiling\n",
    "#import pandas_profiling\n",
    "\n",
    "%matplotlib inline"
   ]
  },
  {
   "cell_type": "code",
   "execution_count": 2,
   "metadata": {},
   "outputs": [],
   "source": [
    "#Read in donation data:\n",
    "input_cols = ['donation_id',\n",
    " 'donation_name',\n",
    " 'donation_record_type',\n",
    " 'amount',\n",
    " 'close_date',\n",
    " 'account_name',\n",
    " 'account_id',\n",
    " 'account_record_type',\n",
    " 'contact_id',\n",
    " 'pledge_amount',\n",
    " 'fund',\n",
    " 'payment_type',\n",
    " 'fiscal_quarter',\n",
    " 'fiscal_year',\n",
    " 'type',\n",
    " 'frequency',\n",
    " 'donation_matched',\n",
    " 'amount_matched',\n",
    " 'matching_close_date',\n",
    " 'first_donation_date',\n",
    " 'last_donation_amount',\n",
    " 'last_donation_date',\n",
    " 'lifetime_donation_count',\n",
    " 'lifetime_donation_total_amount',\n",
    " 'lifetime_order_count',\n",
    " 'lifetime_single_ticket_purchase_total',\n",
    " 'lifetime_subscription_purchase_total',\n",
    " 'do_not_mail',\n",
    " 'email_opt_out',\n",
    " 'account_created_date',\n",
    " 'contact_email',\n",
    " 'payment_schedule',\n",
    " 'stage',\n",
    " 'contact_phone',\n",
    " 'account_phone',\n",
    " 'amount_due',\n",
    " 'amount_paid',\n",
    " 'anonymous',\n",
    " 'card_type',\n",
    " 'dedication_type',\n",
    " 'donation_origin',\n",
    " 'donor_name',\n",
    " 'donor_last_first',\n",
    " 'amount_donated_last_365_days',\n",
    " 'amount_donated_last_fiscal_year',\n",
    " 'amount_donated_this_fiscal_year',\n",
    " 'description',\n",
    " 'group_sales_total',\n",
    " 'ticket_order_id',\n",
    " 'total_amount',\n",
    " 'transaction_id',\n",
    " 'last_transaction_id',\n",
    " 'order_count_last_#_days',\n",
    " 'mailing_street',\n",
    " 'mailing_city',\n",
    " 'mailing_state',\n",
    " 'mailing_zip']\n",
    "raw_donations = pd.read_csv('/Users/georgesmith/Desktop/RTP/DONOR DATA ANALYSIS/donations_by_acct_contact_July_2014_July_21_2020.csv', header=0, names=input_cols)"
   ]
  },
  {
   "cell_type": "code",
   "execution_count": 3,
   "metadata": {},
   "outputs": [
    {
     "data": {
      "text/html": [
       "<div>\n",
       "<style scoped>\n",
       "    .dataframe tbody tr th:only-of-type {\n",
       "        vertical-align: middle;\n",
       "    }\n",
       "\n",
       "    .dataframe tbody tr th {\n",
       "        vertical-align: top;\n",
       "    }\n",
       "\n",
       "    .dataframe thead th {\n",
       "        text-align: right;\n",
       "    }\n",
       "</style>\n",
       "<table border=\"1\" class=\"dataframe\">\n",
       "  <thead>\n",
       "    <tr style=\"text-align: right;\">\n",
       "      <th></th>\n",
       "      <th>donation_id</th>\n",
       "      <th>donation_record_type</th>\n",
       "      <th>amount</th>\n",
       "      <th>close_date</th>\n",
       "      <th>account_id</th>\n",
       "      <th>account_record_type</th>\n",
       "      <th>contact_id</th>\n",
       "      <th>pledge_amount</th>\n",
       "      <th>fund</th>\n",
       "      <th>payment_type</th>\n",
       "      <th>...</th>\n",
       "      <th>description</th>\n",
       "      <th>group_sales_total</th>\n",
       "      <th>ticket_order_id</th>\n",
       "      <th>total_amount</th>\n",
       "      <th>transaction_id</th>\n",
       "      <th>last_transaction_id</th>\n",
       "      <th>order_count_last_#_days</th>\n",
       "      <th>mailing_city</th>\n",
       "      <th>mailing_state</th>\n",
       "      <th>mailing_zip</th>\n",
       "    </tr>\n",
       "  </thead>\n",
       "  <tbody>\n",
       "    <tr>\n",
       "      <th>0</th>\n",
       "      <td>0063600000h6uBQ</td>\n",
       "      <td>Pledge Payment</td>\n",
       "      <td>1000.0</td>\n",
       "      <td>6/30/18</td>\n",
       "      <td>0013600000VKQlu</td>\n",
       "      <td>Household</td>\n",
       "      <td>0033600000NZkdZ</td>\n",
       "      <td>NaN</td>\n",
       "      <td>25th Anniversary Campaign Fund</td>\n",
       "      <td>Check</td>\n",
       "      <td>...</td>\n",
       "      <td>NaN</td>\n",
       "      <td>0.0</td>\n",
       "      <td>NaN</td>\n",
       "      <td>1000.0</td>\n",
       "      <td>NaN</td>\n",
       "      <td>NaN</td>\n",
       "      <td>7.0</td>\n",
       "      <td>Richmond</td>\n",
       "      <td>VA</td>\n",
       "      <td>23230-4411</td>\n",
       "    </tr>\n",
       "    <tr>\n",
       "      <th>1</th>\n",
       "      <td>0063600000GVWrS</td>\n",
       "      <td>Pledge Payment</td>\n",
       "      <td>1000.0</td>\n",
       "      <td>12/28/16</td>\n",
       "      <td>0013600000VKQlu</td>\n",
       "      <td>Household</td>\n",
       "      <td>0033600000NZkdZ</td>\n",
       "      <td>NaN</td>\n",
       "      <td>25th Anniversary Campaign Fund</td>\n",
       "      <td>Check</td>\n",
       "      <td>...</td>\n",
       "      <td>NaN</td>\n",
       "      <td>0.0</td>\n",
       "      <td>NaN</td>\n",
       "      <td>1000.0</td>\n",
       "      <td>NaN</td>\n",
       "      <td>NaN</td>\n",
       "      <td>7.0</td>\n",
       "      <td>Richmond</td>\n",
       "      <td>VA</td>\n",
       "      <td>23230-4411</td>\n",
       "    </tr>\n",
       "    <tr>\n",
       "      <th>2</th>\n",
       "      <td>0063p00000tn3Rf</td>\n",
       "      <td>Pledge Payment</td>\n",
       "      <td>20000.0</td>\n",
       "      <td>12/13/19</td>\n",
       "      <td>0013600000VKRZd</td>\n",
       "      <td>Individual</td>\n",
       "      <td>0033600000NZkkJ</td>\n",
       "      <td>NaN</td>\n",
       "      <td>25th Anniversary Campaign Fund</td>\n",
       "      <td>Credit Card</td>\n",
       "      <td>...</td>\n",
       "      <td>NaN</td>\n",
       "      <td>0.0</td>\n",
       "      <td>NaN</td>\n",
       "      <td>20000.0</td>\n",
       "      <td>111844.0</td>\n",
       "      <td>00D36000000j6TAEAY~0063p00000tn3RfAAI~00000011...</td>\n",
       "      <td>5.0</td>\n",
       "      <td>RICHMOND</td>\n",
       "      <td>VA</td>\n",
       "      <td>23229</td>\n",
       "    </tr>\n",
       "    <tr>\n",
       "      <th>3</th>\n",
       "      <td>0063600000WKiZk</td>\n",
       "      <td>Pledge Payment</td>\n",
       "      <td>20000.0</td>\n",
       "      <td>12/22/17</td>\n",
       "      <td>0013600000VKRZd</td>\n",
       "      <td>Individual</td>\n",
       "      <td>0033600000NZkkJ</td>\n",
       "      <td>NaN</td>\n",
       "      <td>25th Anniversary Fund</td>\n",
       "      <td>Check</td>\n",
       "      <td>...</td>\n",
       "      <td>NaN</td>\n",
       "      <td>0.0</td>\n",
       "      <td>NaN</td>\n",
       "      <td>20000.0</td>\n",
       "      <td>NaN</td>\n",
       "      <td>NaN</td>\n",
       "      <td>5.0</td>\n",
       "      <td>RICHMOND</td>\n",
       "      <td>VA</td>\n",
       "      <td>23229</td>\n",
       "    </tr>\n",
       "    <tr>\n",
       "      <th>4</th>\n",
       "      <td>0063600000GVNJz</td>\n",
       "      <td>Pledge Payment</td>\n",
       "      <td>20000.0</td>\n",
       "      <td>12/30/16</td>\n",
       "      <td>0013600000VKRZd</td>\n",
       "      <td>Individual</td>\n",
       "      <td>0033600000NZkkJ</td>\n",
       "      <td>NaN</td>\n",
       "      <td>25th Anniversary Campaign Fund</td>\n",
       "      <td>Check</td>\n",
       "      <td>...</td>\n",
       "      <td>NaN</td>\n",
       "      <td>0.0</td>\n",
       "      <td>NaN</td>\n",
       "      <td>20000.0</td>\n",
       "      <td>NaN</td>\n",
       "      <td>NaN</td>\n",
       "      <td>5.0</td>\n",
       "      <td>RICHMOND</td>\n",
       "      <td>VA</td>\n",
       "      <td>23229</td>\n",
       "    </tr>\n",
       "  </tbody>\n",
       "</table>\n",
       "<p>5 rows × 48 columns</p>\n",
       "</div>"
      ],
      "text/plain": [
       "       donation_id donation_record_type   amount close_date       account_id  \\\n",
       "0  0063600000h6uBQ       Pledge Payment   1000.0    6/30/18  0013600000VKQlu   \n",
       "1  0063600000GVWrS       Pledge Payment   1000.0   12/28/16  0013600000VKQlu   \n",
       "2  0063p00000tn3Rf       Pledge Payment  20000.0   12/13/19  0013600000VKRZd   \n",
       "3  0063600000WKiZk       Pledge Payment  20000.0   12/22/17  0013600000VKRZd   \n",
       "4  0063600000GVNJz       Pledge Payment  20000.0   12/30/16  0013600000VKRZd   \n",
       "\n",
       "  account_record_type       contact_id  pledge_amount  \\\n",
       "0           Household  0033600000NZkdZ            NaN   \n",
       "1           Household  0033600000NZkdZ            NaN   \n",
       "2          Individual  0033600000NZkkJ            NaN   \n",
       "3          Individual  0033600000NZkkJ            NaN   \n",
       "4          Individual  0033600000NZkkJ            NaN   \n",
       "\n",
       "                             fund payment_type  ... description  \\\n",
       "0  25th Anniversary Campaign Fund        Check  ...         NaN   \n",
       "1  25th Anniversary Campaign Fund        Check  ...         NaN   \n",
       "2  25th Anniversary Campaign Fund  Credit Card  ...         NaN   \n",
       "3           25th Anniversary Fund        Check  ...         NaN   \n",
       "4  25th Anniversary Campaign Fund        Check  ...         NaN   \n",
       "\n",
       "   group_sales_total ticket_order_id total_amount  transaction_id  \\\n",
       "0                0.0             NaN       1000.0             NaN   \n",
       "1                0.0             NaN       1000.0             NaN   \n",
       "2                0.0             NaN      20000.0        111844.0   \n",
       "3                0.0             NaN      20000.0             NaN   \n",
       "4                0.0             NaN      20000.0             NaN   \n",
       "\n",
       "                                 last_transaction_id order_count_last_#_days  \\\n",
       "0                                                NaN                     7.0   \n",
       "1                                                NaN                     7.0   \n",
       "2  00D36000000j6TAEAY~0063p00000tn3RfAAI~00000011...                     5.0   \n",
       "3                                                NaN                     5.0   \n",
       "4                                                NaN                     5.0   \n",
       "\n",
       "   mailing_city mailing_state  mailing_zip  \n",
       "0      Richmond            VA   23230-4411  \n",
       "1      Richmond            VA   23230-4411  \n",
       "2      RICHMOND            VA        23229  \n",
       "3      RICHMOND            VA        23229  \n",
       "4      RICHMOND            VA        23229  \n",
       "\n",
       "[5 rows x 48 columns]"
      ]
     },
     "execution_count": 3,
     "metadata": {},
     "output_type": "execute_result"
    }
   ],
   "source": [
    "#Remove columns necessary to anonymize each record\n",
    "identifying_cols = ['donation_name', 'account_name', 'donation_matched', 'contact_email', 'contact_phone', 'account_phone', 'donor_name', 'donor_last_first', 'mailing_street']\n",
    "donations = raw_donations.drop(identifying_cols, axis=1, inplace=False)\n",
    "donations.head()"
   ]
  },
  {
   "cell_type": "code",
   "execution_count": 4,
   "metadata": {},
   "outputs": [
    {
     "data": {
      "text/plain": [
       "(4193, 48)"
      ]
     },
     "execution_count": 4,
     "metadata": {},
     "output_type": "execute_result"
    }
   ],
   "source": [
    "donations.shape"
   ]
  },
  {
   "cell_type": "code",
   "execution_count": 5,
   "metadata": {},
   "outputs": [
    {
     "name": "stdout",
     "output_type": "stream",
     "text": [
      "<class 'pandas.core.frame.DataFrame'>\n",
      "RangeIndex: 4193 entries, 0 to 4192\n",
      "Data columns (total 48 columns):\n",
      " #   Column                                 Non-Null Count  Dtype  \n",
      "---  ------                                 --------------  -----  \n",
      " 0   donation_id                            4193 non-null   object \n",
      " 1   donation_record_type                   4193 non-null   object \n",
      " 2   amount                                 4146 non-null   float64\n",
      " 3   close_date                             4193 non-null   object \n",
      " 4   account_id                             4191 non-null   object \n",
      " 5   account_record_type                    4191 non-null   object \n",
      " 6   contact_id                             4193 non-null   object \n",
      " 7   pledge_amount                          43 non-null     float64\n",
      " 8   fund                                   2486 non-null   object \n",
      " 9   payment_type                           4036 non-null   object \n",
      " 10  fiscal_quarter                         4193 non-null   object \n",
      " 11  fiscal_year                            4193 non-null   int64  \n",
      " 12  type                                   2489 non-null   object \n",
      " 13  frequency                              1393 non-null   object \n",
      " 14  amount_matched                         4193 non-null   int64  \n",
      " 15  matching_close_date                    0 non-null      float64\n",
      " 16  first_donation_date                    4186 non-null   object \n",
      " 17  last_donation_amount                   4177 non-null   float64\n",
      " 18  last_donation_date                     4186 non-null   object \n",
      " 19  lifetime_donation_count                4191 non-null   float64\n",
      " 20  lifetime_donation_total_amount         4191 non-null   float64\n",
      " 21  lifetime_order_count                   4191 non-null   float64\n",
      " 22  lifetime_single_ticket_purchase_total  4191 non-null   float64\n",
      " 23  lifetime_subscription_purchase_total   4191 non-null   float64\n",
      " 24  do_not_mail                            4193 non-null   int64  \n",
      " 25  email_opt_out                          4193 non-null   int64  \n",
      " 26  account_created_date                   4193 non-null   object \n",
      " 27  payment_schedule                       22 non-null     object \n",
      " 28  stage                                  4193 non-null   object \n",
      " 29  amount_due                             4193 non-null   float64\n",
      " 30  amount_paid                            4193 non-null   float64\n",
      " 31  anonymous                              4193 non-null   int64  \n",
      " 32  card_type                              1523 non-null   object \n",
      " 33  dedication_type                        116 non-null    object \n",
      " 34  donation_origin                        1807 non-null   object \n",
      " 35  amount_donated_last_365_days           4189 non-null   float64\n",
      " 36  amount_donated_last_fiscal_year        4189 non-null   float64\n",
      " 37  amount_donated_this_fiscal_year        4191 non-null   float64\n",
      " 38  description                            137 non-null    object \n",
      " 39  group_sales_total                      4193 non-null   float64\n",
      " 40  ticket_order_id                        228 non-null    object \n",
      " 41  total_amount                           4193 non-null   float64\n",
      " 42  transaction_id                         1475 non-null   float64\n",
      " 43  last_transaction_id                    703 non-null    object \n",
      " 44  order_count_last_#_days                4191 non-null   float64\n",
      " 45  mailing_city                           3984 non-null   object \n",
      " 46  mailing_state                          3983 non-null   object \n",
      " 47  mailing_zip                            3984 non-null   object \n",
      "dtypes: float64(18), int64(5), object(25)\n",
      "memory usage: 1.5+ MB\n"
     ]
    }
   ],
   "source": [
    "#Get variable dataypes and non-null counts:\n",
    "donations.info()"
   ]
  },
  {
   "cell_type": "code",
   "execution_count": 6,
   "metadata": {},
   "outputs": [],
   "source": [
    "def col_dtype_conversions(df, col_list1, new_dtype1, col_list2, new_dtype2):\n",
    "    \"\"\"\n",
    "    Converts columns in col_list1 to datatype specified in new_dtype1\n",
    "    and converts those in col_list2 to datatype specified in new_dtype2\n",
    "\n",
    "    Params\n",
    "    ------\n",
    "    df : pandas.DataFrame\n",
    "        dataframe with columns in both col_lists\n",
    "    col_list1 : list\n",
    "        list of column names to be converted to dtype specified by new_dtype1\n",
    "    new_dtype1 : str (must put in quotes)\n",
    "        data type to which columns in col_list1 will be converted\n",
    "    col_list2 : list\n",
    "        list of column names to be converted to dtype specified by new_dtype2\n",
    "    new_dtype2 : str (must put in quotes)\n",
    "        data type to which columns in col_list2 will be converted\n",
    "\n",
    "    Returns\n",
    "    -------\n",
    "    pandas.DataFrame\n",
    "        Returns a dataframe with the same columns, some of which are now cast as\n",
    "        the specified data types\n",
    "    \"\"\"\n",
    "    for col1 in col_list1:\n",
    "        df[col1] = df[col1].astype(new_dtype1)\n",
    "        for col2 in col_list2:\n",
    "            df[col2] = df[col2].astype(new_dtype2)\n",
    "    return"
   ]
  },
  {
   "cell_type": "code",
   "execution_count": 7,
   "metadata": {},
   "outputs": [],
   "source": [
    "col1 = ['fiscal_year', 'transaction_id']\n",
    "col2 = ['close_date', 'first_donation_date', 'last_donation_date', 'account_created_date']"
   ]
  },
  {
   "cell_type": "code",
   "execution_count": 8,
   "metadata": {},
   "outputs": [],
   "source": [
    "col_dtype_conversions(donations, col1, 'str', col2, 'datetime64[ns]')"
   ]
  },
  {
   "cell_type": "code",
   "execution_count": 9,
   "metadata": {},
   "outputs": [
    {
     "data": {
      "text/plain": [
       "donation_id                                      object\n",
       "donation_record_type                             object\n",
       "amount                                          float64\n",
       "close_date                               datetime64[ns]\n",
       "account_id                                       object\n",
       "account_record_type                              object\n",
       "contact_id                                       object\n",
       "pledge_amount                                   float64\n",
       "fund                                             object\n",
       "payment_type                                     object\n",
       "fiscal_quarter                                   object\n",
       "fiscal_year                                      object\n",
       "type                                             object\n",
       "frequency                                        object\n",
       "amount_matched                                    int64\n",
       "matching_close_date                             float64\n",
       "first_donation_date                      datetime64[ns]\n",
       "last_donation_amount                            float64\n",
       "last_donation_date                       datetime64[ns]\n",
       "lifetime_donation_count                         float64\n",
       "lifetime_donation_total_amount                  float64\n",
       "lifetime_order_count                            float64\n",
       "lifetime_single_ticket_purchase_total           float64\n",
       "lifetime_subscription_purchase_total            float64\n",
       "do_not_mail                                       int64\n",
       "email_opt_out                                     int64\n",
       "account_created_date                     datetime64[ns]\n",
       "payment_schedule                                 object\n",
       "stage                                            object\n",
       "amount_due                                      float64\n",
       "amount_paid                                     float64\n",
       "anonymous                                         int64\n",
       "card_type                                        object\n",
       "dedication_type                                  object\n",
       "donation_origin                                  object\n",
       "amount_donated_last_365_days                    float64\n",
       "amount_donated_last_fiscal_year                 float64\n",
       "amount_donated_this_fiscal_year                 float64\n",
       "description                                      object\n",
       "group_sales_total                               float64\n",
       "ticket_order_id                                  object\n",
       "total_amount                                    float64\n",
       "transaction_id                                   object\n",
       "last_transaction_id                              object\n",
       "order_count_last_#_days                         float64\n",
       "mailing_city                                     object\n",
       "mailing_state                                    object\n",
       "mailing_zip                                      object\n",
       "dtype: object"
      ]
     },
     "execution_count": 9,
     "metadata": {},
     "output_type": "execute_result"
    }
   ],
   "source": [
    "#Confirm dtype conversions\n",
    "donations.dtypes"
   ]
  },
  {
   "cell_type": "code",
   "execution_count": 10,
   "metadata": {},
   "outputs": [],
   "source": [
    "#Remove all refunded donation lineitems to omit them from analysis and calculations\n",
    "donations = donations[donations['stage'] != 'Refunded']"
   ]
  },
  {
   "cell_type": "code",
   "execution_count": 11,
   "metadata": {},
   "outputs": [
    {
     "data": {
      "text/html": [
       "<div>\n",
       "<style scoped>\n",
       "    .dataframe tbody tr th:only-of-type {\n",
       "        vertical-align: middle;\n",
       "    }\n",
       "\n",
       "    .dataframe tbody tr th {\n",
       "        vertical-align: top;\n",
       "    }\n",
       "\n",
       "    .dataframe thead th {\n",
       "        text-align: right;\n",
       "    }\n",
       "</style>\n",
       "<table border=\"1\" class=\"dataframe\">\n",
       "  <thead>\n",
       "    <tr style=\"text-align: right;\">\n",
       "      <th></th>\n",
       "      <th>count</th>\n",
       "      <th>unique</th>\n",
       "      <th>top</th>\n",
       "      <th>freq</th>\n",
       "    </tr>\n",
       "  </thead>\n",
       "  <tbody>\n",
       "    <tr>\n",
       "      <th>donation_id</th>\n",
       "      <td>4180</td>\n",
       "      <td>4180</td>\n",
       "      <td>0063p00000whSja</td>\n",
       "      <td>1</td>\n",
       "    </tr>\n",
       "    <tr>\n",
       "      <th>donation_record_type</th>\n",
       "      <td>4180</td>\n",
       "      <td>7</td>\n",
       "      <td>Donation</td>\n",
       "      <td>2910</td>\n",
       "    </tr>\n",
       "    <tr>\n",
       "      <th>account_id</th>\n",
       "      <td>4178</td>\n",
       "      <td>1561</td>\n",
       "      <td>0013600000VKQlO</td>\n",
       "      <td>96</td>\n",
       "    </tr>\n",
       "    <tr>\n",
       "      <th>account_record_type</th>\n",
       "      <td>4178</td>\n",
       "      <td>5</td>\n",
       "      <td>Individual</td>\n",
       "      <td>2416</td>\n",
       "    </tr>\n",
       "    <tr>\n",
       "      <th>contact_id</th>\n",
       "      <td>4180</td>\n",
       "      <td>1653</td>\n",
       "      <td>0033600000NZjZS</td>\n",
       "      <td>96</td>\n",
       "    </tr>\n",
       "    <tr>\n",
       "      <th>fund</th>\n",
       "      <td>2482</td>\n",
       "      <td>21</td>\n",
       "      <td>Annual Fund</td>\n",
       "      <td>1779</td>\n",
       "    </tr>\n",
       "    <tr>\n",
       "      <th>payment_type</th>\n",
       "      <td>4023</td>\n",
       "      <td>10</td>\n",
       "      <td>Credit Card</td>\n",
       "      <td>1474</td>\n",
       "    </tr>\n",
       "    <tr>\n",
       "      <th>fiscal_quarter</th>\n",
       "      <td>4180</td>\n",
       "      <td>25</td>\n",
       "      <td>Q4-2020</td>\n",
       "      <td>836</td>\n",
       "    </tr>\n",
       "    <tr>\n",
       "      <th>fiscal_year</th>\n",
       "      <td>4180</td>\n",
       "      <td>7</td>\n",
       "      <td>2020</td>\n",
       "      <td>1512</td>\n",
       "    </tr>\n",
       "    <tr>\n",
       "      <th>type</th>\n",
       "      <td>2479</td>\n",
       "      <td>13</td>\n",
       "      <td>Gift</td>\n",
       "      <td>1047</td>\n",
       "    </tr>\n",
       "    <tr>\n",
       "      <th>frequency</th>\n",
       "      <td>1383</td>\n",
       "      <td>2</td>\n",
       "      <td>Single</td>\n",
       "      <td>1229</td>\n",
       "    </tr>\n",
       "    <tr>\n",
       "      <th>payment_schedule</th>\n",
       "      <td>22</td>\n",
       "      <td>5</td>\n",
       "      <td>Annually</td>\n",
       "      <td>9</td>\n",
       "    </tr>\n",
       "    <tr>\n",
       "      <th>stage</th>\n",
       "      <td>4180</td>\n",
       "      <td>5</td>\n",
       "      <td>Posted</td>\n",
       "      <td>4132</td>\n",
       "    </tr>\n",
       "    <tr>\n",
       "      <th>card_type</th>\n",
       "      <td>1520</td>\n",
       "      <td>4</td>\n",
       "      <td>Visa</td>\n",
       "      <td>908</td>\n",
       "    </tr>\n",
       "    <tr>\n",
       "      <th>dedication_type</th>\n",
       "      <td>116</td>\n",
       "      <td>4</td>\n",
       "      <td>in honor</td>\n",
       "      <td>62</td>\n",
       "    </tr>\n",
       "    <tr>\n",
       "      <th>donation_origin</th>\n",
       "      <td>1804</td>\n",
       "      <td>19</td>\n",
       "      <td>Ticket Order</td>\n",
       "      <td>794</td>\n",
       "    </tr>\n",
       "    <tr>\n",
       "      <th>description</th>\n",
       "      <td>136</td>\n",
       "      <td>128</td>\n",
       "      <td>made through Travelers</td>\n",
       "      <td>3</td>\n",
       "    </tr>\n",
       "    <tr>\n",
       "      <th>ticket_order_id</th>\n",
       "      <td>228</td>\n",
       "      <td>215</td>\n",
       "      <td>ORDER-000034325</td>\n",
       "      <td>6</td>\n",
       "    </tr>\n",
       "    <tr>\n",
       "      <th>transaction_id</th>\n",
       "      <td>4180</td>\n",
       "      <td>881</td>\n",
       "      <td>nan</td>\n",
       "      <td>2708</td>\n",
       "    </tr>\n",
       "    <tr>\n",
       "      <th>last_transaction_id</th>\n",
       "      <td>700</td>\n",
       "      <td>700</td>\n",
       "      <td>00D36000000j6TAEAY~0061R00000mKzneQAC~00000011...</td>\n",
       "      <td>1</td>\n",
       "    </tr>\n",
       "    <tr>\n",
       "      <th>mailing_city</th>\n",
       "      <td>3973</td>\n",
       "      <td>193</td>\n",
       "      <td>Richmond</td>\n",
       "      <td>2219</td>\n",
       "    </tr>\n",
       "    <tr>\n",
       "      <th>mailing_state</th>\n",
       "      <td>3972</td>\n",
       "      <td>28</td>\n",
       "      <td>VA</td>\n",
       "      <td>3802</td>\n",
       "    </tr>\n",
       "    <tr>\n",
       "      <th>mailing_zip</th>\n",
       "      <td>3973</td>\n",
       "      <td>630</td>\n",
       "      <td>23221</td>\n",
       "      <td>329</td>\n",
       "    </tr>\n",
       "  </tbody>\n",
       "</table>\n",
       "</div>"
      ],
      "text/plain": [
       "                     count unique  \\\n",
       "donation_id           4180   4180   \n",
       "donation_record_type  4180      7   \n",
       "account_id            4178   1561   \n",
       "account_record_type   4178      5   \n",
       "contact_id            4180   1653   \n",
       "fund                  2482     21   \n",
       "payment_type          4023     10   \n",
       "fiscal_quarter        4180     25   \n",
       "fiscal_year           4180      7   \n",
       "type                  2479     13   \n",
       "frequency             1383      2   \n",
       "payment_schedule        22      5   \n",
       "stage                 4180      5   \n",
       "card_type             1520      4   \n",
       "dedication_type        116      4   \n",
       "donation_origin       1804     19   \n",
       "description            136    128   \n",
       "ticket_order_id        228    215   \n",
       "transaction_id        4180    881   \n",
       "last_transaction_id    700    700   \n",
       "mailing_city          3973    193   \n",
       "mailing_state         3972     28   \n",
       "mailing_zip           3973    630   \n",
       "\n",
       "                                                                    top  freq  \n",
       "donation_id                                             0063p00000whSja     1  \n",
       "donation_record_type                                           Donation  2910  \n",
       "account_id                                              0013600000VKQlO    96  \n",
       "account_record_type                                          Individual  2416  \n",
       "contact_id                                              0033600000NZjZS    96  \n",
       "fund                                                        Annual Fund  1779  \n",
       "payment_type                                                Credit Card  1474  \n",
       "fiscal_quarter                                                  Q4-2020   836  \n",
       "fiscal_year                                                        2020  1512  \n",
       "type                                                               Gift  1047  \n",
       "frequency                                                        Single  1229  \n",
       "payment_schedule                                               Annually     9  \n",
       "stage                                                            Posted  4132  \n",
       "card_type                                                          Visa   908  \n",
       "dedication_type                                                in honor    62  \n",
       "donation_origin                                            Ticket Order   794  \n",
       "description                                      made through Travelers     3  \n",
       "ticket_order_id                                         ORDER-000034325     6  \n",
       "transaction_id                                                      nan  2708  \n",
       "last_transaction_id   00D36000000j6TAEAY~0061R00000mKzneQAC~00000011...     1  \n",
       "mailing_city                                                   Richmond  2219  \n",
       "mailing_state                                                        VA  3802  \n",
       "mailing_zip                                                       23221   329  "
      ]
     },
     "execution_count": 11,
     "metadata": {},
     "output_type": "execute_result"
    }
   ],
   "source": [
    "#Show descriptive statistics for non-numeric columns in donations df\n",
    "#Top - most common value in given column; freq - frequency of column's most common value\n",
    "donations.describe(include=['O']).T"
   ]
  },
  {
   "cell_type": "code",
   "execution_count": 12,
   "metadata": {},
   "outputs": [
    {
     "data": {
      "text/html": [
       "<div>\n",
       "<style scoped>\n",
       "    .dataframe tbody tr th:only-of-type {\n",
       "        vertical-align: middle;\n",
       "    }\n",
       "\n",
       "    .dataframe tbody tr th {\n",
       "        vertical-align: top;\n",
       "    }\n",
       "\n",
       "    .dataframe thead th {\n",
       "        text-align: right;\n",
       "    }\n",
       "</style>\n",
       "<table border=\"1\" class=\"dataframe\">\n",
       "  <thead>\n",
       "    <tr style=\"text-align: right;\">\n",
       "      <th></th>\n",
       "      <th>count</th>\n",
       "      <th>mean</th>\n",
       "      <th>std</th>\n",
       "      <th>min</th>\n",
       "      <th>25%</th>\n",
       "      <th>50%</th>\n",
       "      <th>75%</th>\n",
       "      <th>max</th>\n",
       "    </tr>\n",
       "  </thead>\n",
       "  <tbody>\n",
       "    <tr>\n",
       "      <th>amount</th>\n",
       "      <td>4133.0</td>\n",
       "      <td>393.689286</td>\n",
       "      <td>3428.868094</td>\n",
       "      <td>0.00</td>\n",
       "      <td>16.5000</td>\n",
       "      <td>50.0</td>\n",
       "      <td>125.00</td>\n",
       "      <td>158115.36</td>\n",
       "    </tr>\n",
       "    <tr>\n",
       "      <th>pledge_amount</th>\n",
       "      <td>43.0</td>\n",
       "      <td>7882.282791</td>\n",
       "      <td>18298.019446</td>\n",
       "      <td>50.00</td>\n",
       "      <td>500.0000</td>\n",
       "      <td>2000.0</td>\n",
       "      <td>4775.00</td>\n",
       "      <td>100000.00</td>\n",
       "    </tr>\n",
       "    <tr>\n",
       "      <th>amount_matched</th>\n",
       "      <td>4180.0</td>\n",
       "      <td>0.057416</td>\n",
       "      <td>3.712129</td>\n",
       "      <td>0.00</td>\n",
       "      <td>0.0000</td>\n",
       "      <td>0.0</td>\n",
       "      <td>0.00</td>\n",
       "      <td>240.00</td>\n",
       "    </tr>\n",
       "    <tr>\n",
       "      <th>matching_close_date</th>\n",
       "      <td>0.0</td>\n",
       "      <td>NaN</td>\n",
       "      <td>NaN</td>\n",
       "      <td>NaN</td>\n",
       "      <td>NaN</td>\n",
       "      <td>NaN</td>\n",
       "      <td>NaN</td>\n",
       "      <td>NaN</td>\n",
       "    </tr>\n",
       "    <tr>\n",
       "      <th>last_donation_amount</th>\n",
       "      <td>4167.0</td>\n",
       "      <td>282.065769</td>\n",
       "      <td>3660.462735</td>\n",
       "      <td>0.25</td>\n",
       "      <td>16.5000</td>\n",
       "      <td>50.0</td>\n",
       "      <td>125.00</td>\n",
       "      <td>158115.36</td>\n",
       "    </tr>\n",
       "    <tr>\n",
       "      <th>lifetime_donation_count</th>\n",
       "      <td>4178.0</td>\n",
       "      <td>15.271661</td>\n",
       "      <td>25.273551</td>\n",
       "      <td>1.00</td>\n",
       "      <td>2.0000</td>\n",
       "      <td>6.0</td>\n",
       "      <td>16.00</td>\n",
       "      <td>138.00</td>\n",
       "    </tr>\n",
       "    <tr>\n",
       "      <th>lifetime_donation_total_amount</th>\n",
       "      <td>4178.0</td>\n",
       "      <td>6196.887058</td>\n",
       "      <td>23685.971244</td>\n",
       "      <td>0.00</td>\n",
       "      <td>75.0000</td>\n",
       "      <td>480.3</td>\n",
       "      <td>3325.00</td>\n",
       "      <td>593000.00</td>\n",
       "    </tr>\n",
       "    <tr>\n",
       "      <th>lifetime_order_count</th>\n",
       "      <td>4178.0</td>\n",
       "      <td>14.130445</td>\n",
       "      <td>19.120048</td>\n",
       "      <td>0.00</td>\n",
       "      <td>2.0000</td>\n",
       "      <td>7.0</td>\n",
       "      <td>19.00</td>\n",
       "      <td>151.00</td>\n",
       "    </tr>\n",
       "    <tr>\n",
       "      <th>lifetime_single_ticket_purchase_total</th>\n",
       "      <td>4178.0</td>\n",
       "      <td>837.978698</td>\n",
       "      <td>1144.485256</td>\n",
       "      <td>0.00</td>\n",
       "      <td>76.0625</td>\n",
       "      <td>361.0</td>\n",
       "      <td>1109.25</td>\n",
       "      <td>5820.50</td>\n",
       "    </tr>\n",
       "    <tr>\n",
       "      <th>lifetime_subscription_purchase_total</th>\n",
       "      <td>4178.0</td>\n",
       "      <td>313.645285</td>\n",
       "      <td>557.069359</td>\n",
       "      <td>0.00</td>\n",
       "      <td>0.0000</td>\n",
       "      <td>0.0</td>\n",
       "      <td>370.00</td>\n",
       "      <td>3840.00</td>\n",
       "    </tr>\n",
       "    <tr>\n",
       "      <th>do_not_mail</th>\n",
       "      <td>4180.0</td>\n",
       "      <td>0.005742</td>\n",
       "      <td>0.075565</td>\n",
       "      <td>0.00</td>\n",
       "      <td>0.0000</td>\n",
       "      <td>0.0</td>\n",
       "      <td>0.00</td>\n",
       "      <td>1.00</td>\n",
       "    </tr>\n",
       "    <tr>\n",
       "      <th>email_opt_out</th>\n",
       "      <td>4180.0</td>\n",
       "      <td>0.046890</td>\n",
       "      <td>0.211428</td>\n",
       "      <td>0.00</td>\n",
       "      <td>0.0000</td>\n",
       "      <td>0.0</td>\n",
       "      <td>0.00</td>\n",
       "      <td>1.00</td>\n",
       "    </tr>\n",
       "    <tr>\n",
       "      <th>amount_due</th>\n",
       "      <td>4180.0</td>\n",
       "      <td>-55.646715</td>\n",
       "      <td>1749.697394</td>\n",
       "      <td>-80000.00</td>\n",
       "      <td>0.0000</td>\n",
       "      <td>0.0</td>\n",
       "      <td>0.00</td>\n",
       "      <td>2040.00</td>\n",
       "    </tr>\n",
       "    <tr>\n",
       "      <th>amount_paid</th>\n",
       "      <td>4180.0</td>\n",
       "      <td>71.383856</td>\n",
       "      <td>1745.959176</td>\n",
       "      <td>0.00</td>\n",
       "      <td>0.0000</td>\n",
       "      <td>0.0</td>\n",
       "      <td>0.00</td>\n",
       "      <td>80000.00</td>\n",
       "    </tr>\n",
       "    <tr>\n",
       "      <th>anonymous</th>\n",
       "      <td>4180.0</td>\n",
       "      <td>0.007895</td>\n",
       "      <td>0.088511</td>\n",
       "      <td>0.00</td>\n",
       "      <td>0.0000</td>\n",
       "      <td>0.0</td>\n",
       "      <td>0.00</td>\n",
       "      <td>1.00</td>\n",
       "    </tr>\n",
       "    <tr>\n",
       "      <th>amount_donated_last_365_days</th>\n",
       "      <td>4176.0</td>\n",
       "      <td>750.012936</td>\n",
       "      <td>3714.359111</td>\n",
       "      <td>0.00</td>\n",
       "      <td>10.0000</td>\n",
       "      <td>123.5</td>\n",
       "      <td>515.00</td>\n",
       "      <td>38095.00</td>\n",
       "    </tr>\n",
       "    <tr>\n",
       "      <th>amount_donated_last_fiscal_year</th>\n",
       "      <td>4176.0</td>\n",
       "      <td>795.753738</td>\n",
       "      <td>3712.589233</td>\n",
       "      <td>0.00</td>\n",
       "      <td>10.0000</td>\n",
       "      <td>125.0</td>\n",
       "      <td>525.00</td>\n",
       "      <td>38095.00</td>\n",
       "    </tr>\n",
       "    <tr>\n",
       "      <th>amount_donated_this_fiscal_year</th>\n",
       "      <td>4178.0</td>\n",
       "      <td>21.803557</td>\n",
       "      <td>256.640281</td>\n",
       "      <td>0.00</td>\n",
       "      <td>0.0000</td>\n",
       "      <td>0.0</td>\n",
       "      <td>0.00</td>\n",
       "      <td>5000.00</td>\n",
       "    </tr>\n",
       "    <tr>\n",
       "      <th>group_sales_total</th>\n",
       "      <td>4180.0</td>\n",
       "      <td>15.737141</td>\n",
       "      <td>104.020347</td>\n",
       "      <td>0.00</td>\n",
       "      <td>0.0000</td>\n",
       "      <td>0.0</td>\n",
       "      <td>0.00</td>\n",
       "      <td>2040.00</td>\n",
       "    </tr>\n",
       "    <tr>\n",
       "      <th>total_amount</th>\n",
       "      <td>4180.0</td>\n",
       "      <td>389.320053</td>\n",
       "      <td>3409.788461</td>\n",
       "      <td>0.00</td>\n",
       "      <td>15.0000</td>\n",
       "      <td>50.0</td>\n",
       "      <td>125.00</td>\n",
       "      <td>158115.36</td>\n",
       "    </tr>\n",
       "    <tr>\n",
       "      <th>order_count_last_#_days</th>\n",
       "      <td>4178.0</td>\n",
       "      <td>1.531355</td>\n",
       "      <td>2.366391</td>\n",
       "      <td>0.00</td>\n",
       "      <td>0.0000</td>\n",
       "      <td>1.0</td>\n",
       "      <td>2.00</td>\n",
       "      <td>19.00</td>\n",
       "    </tr>\n",
       "  </tbody>\n",
       "</table>\n",
       "</div>"
      ],
      "text/plain": [
       "                                        count         mean           std  \\\n",
       "amount                                 4133.0   393.689286   3428.868094   \n",
       "pledge_amount                            43.0  7882.282791  18298.019446   \n",
       "amount_matched                         4180.0     0.057416      3.712129   \n",
       "matching_close_date                       0.0          NaN           NaN   \n",
       "last_donation_amount                   4167.0   282.065769   3660.462735   \n",
       "lifetime_donation_count                4178.0    15.271661     25.273551   \n",
       "lifetime_donation_total_amount         4178.0  6196.887058  23685.971244   \n",
       "lifetime_order_count                   4178.0    14.130445     19.120048   \n",
       "lifetime_single_ticket_purchase_total  4178.0   837.978698   1144.485256   \n",
       "lifetime_subscription_purchase_total   4178.0   313.645285    557.069359   \n",
       "do_not_mail                            4180.0     0.005742      0.075565   \n",
       "email_opt_out                          4180.0     0.046890      0.211428   \n",
       "amount_due                             4180.0   -55.646715   1749.697394   \n",
       "amount_paid                            4180.0    71.383856   1745.959176   \n",
       "anonymous                              4180.0     0.007895      0.088511   \n",
       "amount_donated_last_365_days           4176.0   750.012936   3714.359111   \n",
       "amount_donated_last_fiscal_year        4176.0   795.753738   3712.589233   \n",
       "amount_donated_this_fiscal_year        4178.0    21.803557    256.640281   \n",
       "group_sales_total                      4180.0    15.737141    104.020347   \n",
       "total_amount                           4180.0   389.320053   3409.788461   \n",
       "order_count_last_#_days                4178.0     1.531355      2.366391   \n",
       "\n",
       "                                            min       25%     50%      75%  \\\n",
       "amount                                     0.00   16.5000    50.0   125.00   \n",
       "pledge_amount                             50.00  500.0000  2000.0  4775.00   \n",
       "amount_matched                             0.00    0.0000     0.0     0.00   \n",
       "matching_close_date                         NaN       NaN     NaN      NaN   \n",
       "last_donation_amount                       0.25   16.5000    50.0   125.00   \n",
       "lifetime_donation_count                    1.00    2.0000     6.0    16.00   \n",
       "lifetime_donation_total_amount             0.00   75.0000   480.3  3325.00   \n",
       "lifetime_order_count                       0.00    2.0000     7.0    19.00   \n",
       "lifetime_single_ticket_purchase_total      0.00   76.0625   361.0  1109.25   \n",
       "lifetime_subscription_purchase_total       0.00    0.0000     0.0   370.00   \n",
       "do_not_mail                                0.00    0.0000     0.0     0.00   \n",
       "email_opt_out                              0.00    0.0000     0.0     0.00   \n",
       "amount_due                            -80000.00    0.0000     0.0     0.00   \n",
       "amount_paid                                0.00    0.0000     0.0     0.00   \n",
       "anonymous                                  0.00    0.0000     0.0     0.00   \n",
       "amount_donated_last_365_days               0.00   10.0000   123.5   515.00   \n",
       "amount_donated_last_fiscal_year            0.00   10.0000   125.0   525.00   \n",
       "amount_donated_this_fiscal_year            0.00    0.0000     0.0     0.00   \n",
       "group_sales_total                          0.00    0.0000     0.0     0.00   \n",
       "total_amount                               0.00   15.0000    50.0   125.00   \n",
       "order_count_last_#_days                    0.00    0.0000     1.0     2.00   \n",
       "\n",
       "                                             max  \n",
       "amount                                 158115.36  \n",
       "pledge_amount                          100000.00  \n",
       "amount_matched                            240.00  \n",
       "matching_close_date                          NaN  \n",
       "last_donation_amount                   158115.36  \n",
       "lifetime_donation_count                   138.00  \n",
       "lifetime_donation_total_amount         593000.00  \n",
       "lifetime_order_count                      151.00  \n",
       "lifetime_single_ticket_purchase_total    5820.50  \n",
       "lifetime_subscription_purchase_total     3840.00  \n",
       "do_not_mail                                 1.00  \n",
       "email_opt_out                               1.00  \n",
       "amount_due                               2040.00  \n",
       "amount_paid                             80000.00  \n",
       "anonymous                                   1.00  \n",
       "amount_donated_last_365_days            38095.00  \n",
       "amount_donated_last_fiscal_year         38095.00  \n",
       "amount_donated_this_fiscal_year          5000.00  \n",
       "group_sales_total                        2040.00  \n",
       "total_amount                           158115.36  \n",
       "order_count_last_#_days                    19.00  "
      ]
     },
     "execution_count": 12,
     "metadata": {},
     "output_type": "execute_result"
    }
   ],
   "source": [
    "#Show descriptive statistics for numeric columns in donations df\n",
    "#Top - most common value in given column; freq - frequency of column's most common value\n",
    "donations.describe().T"
   ]
  },
  {
   "cell_type": "code",
   "execution_count": 13,
   "metadata": {},
   "outputs": [
    {
     "data": {
      "text/plain": [
       "393.68928623276065"
      ]
     },
     "execution_count": 13,
     "metadata": {},
     "output_type": "execute_result"
    }
   ],
   "source": [
    "donations.describe().T.at['amount', 'mean']"
   ]
  },
  {
   "cell_type": "code",
   "execution_count": 14,
   "metadata": {},
   "outputs": [],
   "source": [
    "#Remove columns that are already clearly extraneous and/or lacking variability\n",
    "donations.drop(['matching_close_date'], axis=1, inplace=True)"
   ]
  },
  {
   "cell_type": "markdown",
   "metadata": {},
   "source": [
    "# Initial research question: are donations (volume and dollar total) increasing overtime?"
   ]
  },
  {
   "cell_type": "code",
   "execution_count": null,
   "metadata": {},
   "outputs": [],
   "source": [
    "# # Pandas - Profiling - For a quick overview of all the features, levels etc, along with the numeric correlations, \n",
    "# # https://github.com/pandas-profiling/pandas-profiling\n",
    "# profile = pandas_profiling.ProfileReport(donations)\n",
    "# profile.to_file(\"donations_profile.html\") # download it for viewing in the browser\n",
    "# profile # ATTEMPT to render it in kernal"
   ]
  },
  {
   "cell_type": "markdown",
   "metadata": {},
   "source": [
    "Address nulls."
   ]
  },
  {
   "cell_type": "markdown",
   "metadata": {},
   "source": [
    "Handle Outliers, Leverages and Influence Points:"
   ]
  },
  {
   "cell_type": "code",
   "execution_count": 15,
   "metadata": {},
   "outputs": [],
   "source": [
    "#Remove outlier amounts from the dataframe\n",
    "#Define outlier donation amount as any amount greater than 3 standard deviations from the mean\n",
    "outlier_threshold = donations.describe().T.at['amount', 'mean'] + 3*(donations.describe().T.at['amount', 'std'])\n",
    "donations_no_outlier_amts = donations.loc[(donations['amount'] < outlier_threshold) & (donations['amount'] != 0)].reset_index(drop=True)"
   ]
  },
  {
   "cell_type": "code",
   "execution_count": 16,
   "metadata": {},
   "outputs": [
    {
     "data": {
      "text/html": [
       "<div>\n",
       "<style scoped>\n",
       "    .dataframe tbody tr th:only-of-type {\n",
       "        vertical-align: middle;\n",
       "    }\n",
       "\n",
       "    .dataframe tbody tr th {\n",
       "        vertical-align: top;\n",
       "    }\n",
       "\n",
       "    .dataframe thead th {\n",
       "        text-align: right;\n",
       "    }\n",
       "</style>\n",
       "<table border=\"1\" class=\"dataframe\">\n",
       "  <thead>\n",
       "    <tr style=\"text-align: right;\">\n",
       "      <th></th>\n",
       "      <th>amount</th>\n",
       "      <th>pledge_amount</th>\n",
       "      <th>amount_matched</th>\n",
       "      <th>last_donation_amount</th>\n",
       "      <th>lifetime_donation_count</th>\n",
       "      <th>lifetime_donation_total_amount</th>\n",
       "      <th>lifetime_order_count</th>\n",
       "      <th>lifetime_single_ticket_purchase_total</th>\n",
       "      <th>lifetime_subscription_purchase_total</th>\n",
       "      <th>do_not_mail</th>\n",
       "      <th>email_opt_out</th>\n",
       "      <th>amount_due</th>\n",
       "      <th>amount_paid</th>\n",
       "      <th>anonymous</th>\n",
       "      <th>amount_donated_last_365_days</th>\n",
       "      <th>amount_donated_last_fiscal_year</th>\n",
       "      <th>amount_donated_this_fiscal_year</th>\n",
       "      <th>group_sales_total</th>\n",
       "      <th>total_amount</th>\n",
       "      <th>order_count_last_#_days</th>\n",
       "    </tr>\n",
       "  </thead>\n",
       "  <tbody>\n",
       "    <tr>\n",
       "      <th>count</th>\n",
       "      <td>4105.000000</td>\n",
       "      <td>0.0</td>\n",
       "      <td>4105.000000</td>\n",
       "      <td>4100.000000</td>\n",
       "      <td>4103.000000</td>\n",
       "      <td>4103.000000</td>\n",
       "      <td>4103.000000</td>\n",
       "      <td>4103.000000</td>\n",
       "      <td>4103.000000</td>\n",
       "      <td>4105.000000</td>\n",
       "      <td>4105.000000</td>\n",
       "      <td>4105.000000</td>\n",
       "      <td>4105.000000</td>\n",
       "      <td>4105.000000</td>\n",
       "      <td>4103.000000</td>\n",
       "      <td>4103.000000</td>\n",
       "      <td>4103.000000</td>\n",
       "      <td>4105.000000</td>\n",
       "      <td>4105.000000</td>\n",
       "      <td>4103.000000</td>\n",
       "    </tr>\n",
       "    <tr>\n",
       "      <th>mean</th>\n",
       "      <td>197.732553</td>\n",
       "      <td>NaN</td>\n",
       "      <td>0.058465</td>\n",
       "      <td>204.609249</td>\n",
       "      <td>14.963929</td>\n",
       "      <td>5140.786010</td>\n",
       "      <td>13.873995</td>\n",
       "      <td>823.256581</td>\n",
       "      <td>309.022666</td>\n",
       "      <td>0.005847</td>\n",
       "      <td>0.047747</td>\n",
       "      <td>15.975469</td>\n",
       "      <td>0.049196</td>\n",
       "      <td>0.008039</td>\n",
       "      <td>721.532791</td>\n",
       "      <td>766.326500</td>\n",
       "      <td>22.202111</td>\n",
       "      <td>16.024665</td>\n",
       "      <td>197.791018</td>\n",
       "      <td>1.509627</td>\n",
       "    </tr>\n",
       "    <tr>\n",
       "      <th>std</th>\n",
       "      <td>607.646333</td>\n",
       "      <td>NaN</td>\n",
       "      <td>3.745887</td>\n",
       "      <td>2549.626651</td>\n",
       "      <td>25.007462</td>\n",
       "      <td>14073.088426</td>\n",
       "      <td>18.849140</td>\n",
       "      <td>1127.031937</td>\n",
       "      <td>552.865332</td>\n",
       "      <td>0.076248</td>\n",
       "      <td>0.213256</td>\n",
       "      <td>104.999402</td>\n",
       "      <td>3.152008</td>\n",
       "      <td>0.089310</td>\n",
       "      <td>3605.148772</td>\n",
       "      <td>3603.447179</td>\n",
       "      <td>258.958740</td>\n",
       "      <td>104.944567</td>\n",
       "      <td>607.686967</td>\n",
       "      <td>2.342107</td>\n",
       "    </tr>\n",
       "    <tr>\n",
       "      <th>min</th>\n",
       "      <td>0.250000</td>\n",
       "      <td>NaN</td>\n",
       "      <td>0.000000</td>\n",
       "      <td>0.250000</td>\n",
       "      <td>1.000000</td>\n",
       "      <td>0.250000</td>\n",
       "      <td>0.000000</td>\n",
       "      <td>0.000000</td>\n",
       "      <td>0.000000</td>\n",
       "      <td>0.000000</td>\n",
       "      <td>0.000000</td>\n",
       "      <td>-201.950000</td>\n",
       "      <td>0.000000</td>\n",
       "      <td>0.000000</td>\n",
       "      <td>0.000000</td>\n",
       "      <td>0.000000</td>\n",
       "      <td>0.000000</td>\n",
       "      <td>0.000000</td>\n",
       "      <td>0.250000</td>\n",
       "      <td>0.000000</td>\n",
       "    </tr>\n",
       "    <tr>\n",
       "      <th>25%</th>\n",
       "      <td>16.000000</td>\n",
       "      <td>NaN</td>\n",
       "      <td>0.000000</td>\n",
       "      <td>16.500000</td>\n",
       "      <td>2.000000</td>\n",
       "      <td>71.250000</td>\n",
       "      <td>2.000000</td>\n",
       "      <td>80.000000</td>\n",
       "      <td>0.000000</td>\n",
       "      <td>0.000000</td>\n",
       "      <td>0.000000</td>\n",
       "      <td>0.000000</td>\n",
       "      <td>0.000000</td>\n",
       "      <td>0.000000</td>\n",
       "      <td>10.000000</td>\n",
       "      <td>10.000000</td>\n",
       "      <td>0.000000</td>\n",
       "      <td>0.000000</td>\n",
       "      <td>16.000000</td>\n",
       "      <td>0.000000</td>\n",
       "    </tr>\n",
       "    <tr>\n",
       "      <th>50%</th>\n",
       "      <td>50.000000</td>\n",
       "      <td>NaN</td>\n",
       "      <td>0.000000</td>\n",
       "      <td>50.000000</td>\n",
       "      <td>6.000000</td>\n",
       "      <td>470.000000</td>\n",
       "      <td>7.000000</td>\n",
       "      <td>357.250000</td>\n",
       "      <td>0.000000</td>\n",
       "      <td>0.000000</td>\n",
       "      <td>0.000000</td>\n",
       "      <td>0.000000</td>\n",
       "      <td>0.000000</td>\n",
       "      <td>0.000000</td>\n",
       "      <td>120.300000</td>\n",
       "      <td>125.000000</td>\n",
       "      <td>0.000000</td>\n",
       "      <td>0.000000</td>\n",
       "      <td>50.000000</td>\n",
       "      <td>1.000000</td>\n",
       "    </tr>\n",
       "    <tr>\n",
       "      <th>75%</th>\n",
       "      <td>125.000000</td>\n",
       "      <td>NaN</td>\n",
       "      <td>0.000000</td>\n",
       "      <td>125.000000</td>\n",
       "      <td>16.000000</td>\n",
       "      <td>2988.000000</td>\n",
       "      <td>18.000000</td>\n",
       "      <td>1085.000000</td>\n",
       "      <td>370.000000</td>\n",
       "      <td>0.000000</td>\n",
       "      <td>0.000000</td>\n",
       "      <td>0.000000</td>\n",
       "      <td>0.000000</td>\n",
       "      <td>0.000000</td>\n",
       "      <td>500.000000</td>\n",
       "      <td>515.000000</td>\n",
       "      <td>0.000000</td>\n",
       "      <td>0.000000</td>\n",
       "      <td>125.000000</td>\n",
       "      <td>2.000000</td>\n",
       "    </tr>\n",
       "    <tr>\n",
       "      <th>max</th>\n",
       "      <td>10000.000000</td>\n",
       "      <td>NaN</td>\n",
       "      <td>240.000000</td>\n",
       "      <td>158115.360000</td>\n",
       "      <td>138.000000</td>\n",
       "      <td>178115.360000</td>\n",
       "      <td>151.000000</td>\n",
       "      <td>5820.500000</td>\n",
       "      <td>3840.000000</td>\n",
       "      <td>1.000000</td>\n",
       "      <td>1.000000</td>\n",
       "      <td>2040.000000</td>\n",
       "      <td>201.950000</td>\n",
       "      <td>1.000000</td>\n",
       "      <td>38095.000000</td>\n",
       "      <td>38095.000000</td>\n",
       "      <td>5000.000000</td>\n",
       "      <td>2040.000000</td>\n",
       "      <td>10000.000000</td>\n",
       "      <td>19.000000</td>\n",
       "    </tr>\n",
       "  </tbody>\n",
       "</table>\n",
       "</div>"
      ],
      "text/plain": [
       "             amount  pledge_amount  amount_matched  last_donation_amount  \\\n",
       "count   4105.000000            0.0     4105.000000           4100.000000   \n",
       "mean     197.732553            NaN        0.058465            204.609249   \n",
       "std      607.646333            NaN        3.745887           2549.626651   \n",
       "min        0.250000            NaN        0.000000              0.250000   \n",
       "25%       16.000000            NaN        0.000000             16.500000   \n",
       "50%       50.000000            NaN        0.000000             50.000000   \n",
       "75%      125.000000            NaN        0.000000            125.000000   \n",
       "max    10000.000000            NaN      240.000000         158115.360000   \n",
       "\n",
       "       lifetime_donation_count  lifetime_donation_total_amount  \\\n",
       "count              4103.000000                     4103.000000   \n",
       "mean                 14.963929                     5140.786010   \n",
       "std                  25.007462                    14073.088426   \n",
       "min                   1.000000                        0.250000   \n",
       "25%                   2.000000                       71.250000   \n",
       "50%                   6.000000                      470.000000   \n",
       "75%                  16.000000                     2988.000000   \n",
       "max                 138.000000                   178115.360000   \n",
       "\n",
       "       lifetime_order_count  lifetime_single_ticket_purchase_total  \\\n",
       "count           4103.000000                            4103.000000   \n",
       "mean              13.873995                             823.256581   \n",
       "std               18.849140                            1127.031937   \n",
       "min                0.000000                               0.000000   \n",
       "25%                2.000000                              80.000000   \n",
       "50%                7.000000                             357.250000   \n",
       "75%               18.000000                            1085.000000   \n",
       "max              151.000000                            5820.500000   \n",
       "\n",
       "       lifetime_subscription_purchase_total  do_not_mail  email_opt_out  \\\n",
       "count                           4103.000000  4105.000000    4105.000000   \n",
       "mean                             309.022666     0.005847       0.047747   \n",
       "std                              552.865332     0.076248       0.213256   \n",
       "min                                0.000000     0.000000       0.000000   \n",
       "25%                                0.000000     0.000000       0.000000   \n",
       "50%                                0.000000     0.000000       0.000000   \n",
       "75%                              370.000000     0.000000       0.000000   \n",
       "max                             3840.000000     1.000000       1.000000   \n",
       "\n",
       "        amount_due  amount_paid    anonymous  amount_donated_last_365_days  \\\n",
       "count  4105.000000  4105.000000  4105.000000                   4103.000000   \n",
       "mean     15.975469     0.049196     0.008039                    721.532791   \n",
       "std     104.999402     3.152008     0.089310                   3605.148772   \n",
       "min    -201.950000     0.000000     0.000000                      0.000000   \n",
       "25%       0.000000     0.000000     0.000000                     10.000000   \n",
       "50%       0.000000     0.000000     0.000000                    120.300000   \n",
       "75%       0.000000     0.000000     0.000000                    500.000000   \n",
       "max    2040.000000   201.950000     1.000000                  38095.000000   \n",
       "\n",
       "       amount_donated_last_fiscal_year  amount_donated_this_fiscal_year  \\\n",
       "count                      4103.000000                      4103.000000   \n",
       "mean                        766.326500                        22.202111   \n",
       "std                        3603.447179                       258.958740   \n",
       "min                           0.000000                         0.000000   \n",
       "25%                          10.000000                         0.000000   \n",
       "50%                         125.000000                         0.000000   \n",
       "75%                         515.000000                         0.000000   \n",
       "max                       38095.000000                      5000.000000   \n",
       "\n",
       "       group_sales_total  total_amount  order_count_last_#_days  \n",
       "count        4105.000000   4105.000000              4103.000000  \n",
       "mean           16.024665    197.791018                 1.509627  \n",
       "std           104.944567    607.686967                 2.342107  \n",
       "min             0.000000      0.250000                 0.000000  \n",
       "25%             0.000000     16.000000                 0.000000  \n",
       "50%             0.000000     50.000000                 1.000000  \n",
       "75%             0.000000    125.000000                 2.000000  \n",
       "max          2040.000000  10000.000000                19.000000  "
      ]
     },
     "execution_count": 16,
     "metadata": {},
     "output_type": "execute_result"
    }
   ],
   "source": [
    "donations_no_outlier_amts.describe()"
   ]
  },
  {
   "cell_type": "markdown",
   "metadata": {},
   "source": [
    "Separate continuous and categorical features for exploration."
   ]
  },
  {
   "cell_type": "code",
   "execution_count": null,
   "metadata": {},
   "outputs": [],
   "source": [
    "#cont_cols = list(donations.describe().T.index)"
   ]
  },
  {
   "cell_type": "code",
   "execution_count": null,
   "metadata": {},
   "outputs": [],
   "source": [
    "#Create continuous dataframe\n",
    "#cont = donations.loc[:, cont_cols].fillna(0).reset_index(drop=True)\n",
    "#cont"
   ]
  },
  {
   "cell_type": "code",
   "execution_count": null,
   "metadata": {},
   "outputs": [],
   "source": [
    "#Select remaining variables for cats df (categorical variables)\n",
    "#features = donations.columns\n",
    "#cont_vars = cont.columns\n",
    "#cat_vars = [f for f in features if f not in cont_vars]"
   ]
  },
  {
   "cell_type": "code",
   "execution_count": null,
   "metadata": {},
   "outputs": [],
   "source": [
    "#Create cont df\n",
    "#cats = donations.loc[:, cat_vars]\n",
    "\n",
    "#Add in the continuous target variable: 'amount'\n",
    "#cats['amount'] = cont['amount']\n",
    "\n",
    "#Review head records\n",
    "#cats.head()"
   ]
  },
  {
   "cell_type": "code",
   "execution_count": null,
   "metadata": {},
   "outputs": [],
   "source": [
    "#Remove outliers\n",
    "#z = np.abs(stats.zscore(cont))\n",
    "#print(z)"
   ]
  },
  {
   "cell_type": "code",
   "execution_count": null,
   "metadata": {},
   "outputs": [],
   "source": [
    "#cont_no_outliers = cont[(z<3).all(axis=1)]"
   ]
  },
  {
   "cell_type": "markdown",
   "metadata": {},
   "source": [
    "Fund Column:"
   ]
  },
  {
   "cell_type": "code",
   "execution_count": 17,
   "metadata": {},
   "outputs": [],
   "source": [
    "#Convert nan in fund column (except for pledges) to Annual Fund.\n",
    "#Also, replace other AF categories with 'Annual Fund'\n",
    "donations.loc[(((donations['fund'].isna()) | (donations['fund'].isin([\"Annual Fund Historical\", 'ANN']))) & (donations['donation_record_type'] != 'Pledge')), 'fund'] = \"Annual Fund\""
   ]
  },
  {
   "cell_type": "code",
   "execution_count": 18,
   "metadata": {},
   "outputs": [],
   "source": [
    "donations.loc[(donations['donation_record_type'] != 'Pledge') & (donations['account_record_type'] != 'Business') & (donations['fund'].isna()), 'fund'] = 'Annual Fund'"
   ]
  },
  {
   "cell_type": "code",
   "execution_count": 22,
   "metadata": {},
   "outputs": [],
   "source": [
    "#Group levels referencing the same fund under common levels\n",
    "donations.loc[(donations['fund'].isin([\"25th Anniversary Campaign Fund\", '25th Anniversary Fund', '25TH'])), 'fund'] = \"25th Anniversary Capital Campaign\"\n",
    "donations.loc[(donations['fund'] == 'NEXT'), 'fund'] = \"Next Stage Campaign\"\n",
    "donations.loc[(donations['fund'] == 'John Knapp -Tim Gillham Fund'), 'fund'] = \"New Works (Knapp-Gillham) Fund\"\n",
    "donations.loc[(donations['fund'].isin([\"Education Program Fund\", 'EDUC'])), 'fund'] = \"Education Fund\"\n",
    "donations.loc[(donations['fund'] == 'MMP'), 'fund'] = \"Mary Morton Parsons Challenge Grant Match\""
   ]
  },
  {
   "cell_type": "code",
   "execution_count": null,
   "metadata": {},
   "outputs": [],
   "source": [
    "#Change 20th Anniversary Campaign record to \"25th Anniversary Capital Campaign\" (fix in database before next pull)\n",
    "#donations.loc[(donations['account_id'] == '0013600000VKR6T'), 'fund' ] = \"25th Anniversary Capital Campaign\""
   ]
  },
  {
   "cell_type": "code",
   "execution_count": 23,
   "metadata": {},
   "outputs": [],
   "source": [
    "#Change record marked as single ticket sale in fund to Annual Fund (fix in database before next pull):\n",
    "donations.loc[(donations['fund'] == 'Single Ticket Sale'), 'fund'] = \"Annual Fund\""
   ]
  },
  {
   "cell_type": "code",
   "execution_count": 24,
   "metadata": {},
   "outputs": [
    {
     "data": {
      "text/plain": [
       "Annual Fund                                  3842\n",
       "25th Anniversary Capital Campaign              85\n",
       "Next Stage Campaign                            81\n",
       "Advertiser                                     72\n",
       "Sponsorship Fund                               24\n",
       "Education Fund                                 22\n",
       "Mary Morton Parsons Challenge Grant Match      11\n",
       "Moose Management Academy Attendance             8\n",
       "Project Fund                                    6\n",
       "New Works (Knapp-Gillham) Fund                  6\n",
       "Building Fund                                   3\n",
       "Name: fund, dtype: int64"
      ]
     },
     "execution_count": 24,
     "metadata": {},
     "output_type": "execute_result"
    }
   ],
   "source": [
    "#Check fund column value changes\n",
    "donations.fund.value_counts()"
   ]
  },
  {
   "cell_type": "code",
   "execution_count": 25,
   "metadata": {},
   "outputs": [
    {
     "data": {
      "text/plain": [
       "Credit Card                  1474\n",
       "Credit Card - Third Party    1143\n",
       "Check                        1070\n",
       "Ticket Order Refund           147\n",
       "CRED                          146\n",
       "In Kind                        14\n",
       "INKND                          11\n",
       "Stock                          10\n",
       "Cash                            7\n",
       "Third Party                     1\n",
       "Name: payment_type, dtype: int64"
      ]
     },
     "execution_count": 25,
     "metadata": {},
     "output_type": "execute_result"
    }
   ],
   "source": [
    "donations.payment_type.value_counts()"
   ]
  },
  {
   "cell_type": "code",
   "execution_count": 26,
   "metadata": {},
   "outputs": [],
   "source": [
    "#Assign group levels referencing the same payment_type to common levels\n",
    "donations.loc[(donations['payment_type'] == 'CRED'), 'payment_type'] = \"Credit Card\"\n",
    "donations.loc[(donations['payment_type'] == 'Third Party'), 'payment_type'] = \"Credit Card - Third Party\"\n",
    "donations.loc[(donations['payment_type'] == 'INKND'), 'payment_type'] = \"In Kind\""
   ]
  },
  {
   "cell_type": "code",
   "execution_count": 27,
   "metadata": {},
   "outputs": [
    {
     "data": {
      "text/plain": [
       "Credit Card                  1620\n",
       "Credit Card - Third Party    1144\n",
       "Check                        1070\n",
       "Ticket Order Refund           147\n",
       "In Kind                        25\n",
       "Stock                          10\n",
       "Cash                            7\n",
       "Name: payment_type, dtype: int64"
      ]
     },
     "execution_count": 27,
     "metadata": {},
     "output_type": "execute_result"
    }
   ],
   "source": [
    "donations.payment_type.value_counts()"
   ]
  },
  {
   "cell_type": "code",
   "execution_count": 28,
   "metadata": {},
   "outputs": [
    {
     "data": {
      "text/plain": [
       "Donation                 2910\n",
       "PatronTicket Donation    1022\n",
       "Pledge Payment            180\n",
       "Pledge                     43\n",
       "Corporate Donation         16\n",
       "Grant Payment               5\n",
       "Sponsorship                 4\n",
       "Name: donation_record_type, dtype: int64"
      ]
     },
     "execution_count": 28,
     "metadata": {},
     "output_type": "execute_result"
    }
   ],
   "source": [
    "donations.donation_record_type.value_counts(dropna=False)"
   ]
  },
  {
   "cell_type": "code",
   "execution_count": 29,
   "metadata": {},
   "outputs": [],
   "source": [
    "#Define function to show value counts of categorical vars specified in column list input\n",
    "def cat_col_value_counts(df, cat_col_list):\n",
    "    x=[]\n",
    "    \"\"\"\n",
    "    Prints value counts of each categorical variable from df that is listed in cat_col_list \n",
    "\n",
    "    Params\n",
    "    ------\n",
    "    df : pandas.DataFrame\n",
    "        dataframe containing columns in cat_col_list\n",
    "    cat_col_list : list\n",
    "        list of column names for which value counts will be printed\n",
    "\n",
    "    Returns\n",
    "    -------\n",
    "    prints value counts for each variable in cat_col_list\n",
    "    \"\"\"\n",
    "\n",
    "    for cat_col in cat_col_list:\n",
    "         x.append(df[cat_col].value_counts(dropna= False))\n",
    "    print (x)"
   ]
  },
  {
   "cell_type": "code",
   "execution_count": 30,
   "metadata": {},
   "outputs": [],
   "source": [
    "cat_col_list = ['account_record_type', 'type', 'frequency', 'payment_schedule', 'stage', 'card_type', 'donation_origin', 'mailing_city', 'mailing_state']"
   ]
  },
  {
   "cell_type": "code",
   "execution_count": 31,
   "metadata": {},
   "outputs": [
    {
     "name": "stdout",
     "output_type": "stream",
     "text": [
      "[Individual    2416\n",
      "Household     1623\n",
      "Business       119\n",
      "Foundation      16\n",
      "Government       4\n",
      "NaN              2\n",
      "Name: account_record_type, dtype: int64, NaN                 1701\n",
      "Gift                1047\n",
      "Give OUT Day         856\n",
      "GIVINGTUESDAYNOW     217\n",
      "Pledge Payment       108\n",
      "Board                107\n",
      "Sale                  60\n",
      "General               24\n",
      "Pledge                23\n",
      "Restricted            18\n",
      "Unrestricted           8\n",
      "Grant                  6\n",
      "Single                 4\n",
      "Matching               1\n",
      "Name: type, dtype: int64, NaN          2797\n",
      "Single       1229\n",
      "Recurring     154\n",
      "Name: frequency, dtype: int64, NaN              4158\n",
      "Annually            9\n",
      "Monthly             4\n",
      "Variable            4\n",
      "Quarterly           3\n",
      "Semi-Annually       2\n",
      "Name: payment_schedule, dtype: int64, Posted            4132\n",
      "Pledged             37\n",
      "Partially Paid       7\n",
      "Paid in Full         3\n",
      "Not Posted           1\n",
      "Name: stage, dtype: int64, NaN           2660\n",
      "Visa           908\n",
      "MasterCard     396\n",
      "Amex           176\n",
      "Discover        40\n",
      "Name: card_type, dtype: int64, NaN                                2376\n",
      "Ticket Order                        794\n",
      "Online: Donation Form               499\n",
      "Ticket Order Refund                 228\n",
      "Online: Recurring Donation Form     164\n",
      "Annual Fund Mailing                  55\n",
      "Online: Annual Fund Donations        42\n",
      "Subscription Renewal                  6\n",
      "Giving Tuesday                        3\n",
      "Body Awareness Photo Exhibit          2\n",
      "Donations Box                         2\n",
      "Balance of Stock Transfer             1\n",
      "Unsolicited                           1\n",
      "Subs Renewal                          1\n",
      "Network For Good                      1\n",
      "Maury Place Event                     1\n",
      "Stock Sale                            1\n",
      "Give Out Day                          1\n",
      "Cake Sponsor                          1\n",
      "an                                    1\n",
      "Name: donation_origin, dtype: int64, Richmond             2219\n",
      "Henrico               268\n",
      "NaN                   207\n",
      "Midlothian            204\n",
      "Glen Allen            131\n",
      "                     ... \n",
      "Morristown              1\n",
      "Iowa City               1\n",
      "North Chestefield       1\n",
      "Greenville              1\n",
      "Sandston                1\n",
      "Name: mailing_city, Length: 194, dtype: int64, VA     3802\n",
      "NaN     208\n",
      "NC       34\n",
      "MD       18\n",
      "FL       15\n",
      "MI       13\n",
      "DC       13\n",
      "NY       11\n",
      "CA       11\n",
      "CT        6\n",
      "PA        6\n",
      "MN        5\n",
      "SC        5\n",
      "MA        5\n",
      "NJ        4\n",
      "GA        4\n",
      "TX        3\n",
      "OH        2\n",
      "IN        2\n",
      "TN        2\n",
      "VT        2\n",
      "NV        2\n",
      "LA        1\n",
      "AR        1\n",
      "KY        1\n",
      "IA        1\n",
      "HI        1\n",
      "AZ        1\n",
      "AK        1\n",
      "Name: mailing_state, dtype: int64]\n"
     ]
    }
   ],
   "source": [
    "cat_col_value_counts(donations, cat_col_list)"
   ]
  },
  {
   "cell_type": "markdown",
   "metadata": {},
   "source": [
    "Create campaign column"
   ]
  },
  {
   "cell_type": "code",
   "execution_count": 32,
   "metadata": {},
   "outputs": [],
   "source": [
    "#Assign regular appeal campaigns\n",
    "donations.loc[(donations['type'] == 'GIVINGTUESDAYNOW'), 'campaign'] = 'GIVINGTUESDAYNOW (S27)'\n",
    "donations.loc[(donations['close_date'] > '2020-06-05') & (donations['close_date'] < '2020-08-01') & (donations['fund'] == 'Annual Fund'), 'campaign'] = 'Spring 2020 Annual Fund Appeal (S27)'\n",
    "donations.loc[(donations['close_date'] > '2019-11-19') & (donations['close_date'] < '2020-02-01') & (donations['fund'] == 'Annual Fund'), 'campaign'] = 'Fall 2019 Annual Fund Appeal (S27)'\n",
    "donations.loc[(donations['close_date'] > '2019-05-20') & (donations['close_date'] < '2019-08-01') & (donations['fund'] == 'Annual Fund'), 'campaign'] = 'Spring 2019 Annual Fund Appeal (S26)'\n",
    "donations.loc[(donations['close_date'] > '2018-11-25') & (donations['close_date'] < '2019-02-01') & (donations['fund'] == 'Annual Fund'), 'campaign'] = 'Fall 2018 Annual Fund Appeal (S26)'\n",
    "donations.loc[(donations['close_date'] > '2018-05-20') & (donations['close_date'] < '2018-08-01') & (donations['fund'] == 'Annual Fund'), 'campaign'] = 'Spring 2018 Annual Fund Appeal (S25)'\n",
    "donations.loc[(donations['close_date'] > '2017-11-10') & (donations['close_date'] < '2018-02-01') & (donations['fund'] == 'Annual Fund'), 'campaign'] = 'Fall 2017 Annual Fund Appeal (S25)'\n",
    "donations.loc[(donations['close_date'] > '2016-11-14') & (donations['close_date'] < '2017-02-01') & (donations['fund'] == 'Annual Fund'), 'campaign'] = 'Fall 2016 Annual Fund Appeal (S24)'\n",
    "donations.loc[(donations['close_date'] > '2015-11-14') & (donations['close_date'] < '2016-02-01') & (donations['fund'] == 'Annual Fund'), 'campaign'] = 'Fall 2015 Annual Fund Appeal (S23)'\n",
    "donations.loc[(donations['close_date'] > '2014-11-14') & (donations['close_date'] < '2015-02-01') & (donations['fund'] == 'Annual Fund'), 'campaign'] = 'Fall 2014 Annual Fund Appeal (S22)'\n",
    "donations.loc[(donations['close_date'] > '2020-04-30') & (donations['close_date'] < '2020-08-01') & (donations['type'] == 'Give OUT Day') & (donations['fund'] == 'Annual Fund'), 'campaign'] = 'Give OUT Day (S27)'\n",
    "donations.loc[((donations['fiscal_year'] == '2019') | (donations['close_date'] == '2019-07-19')) & (donations['type'] == 'Give OUT Day') & (donations['fund'] == 'Annual Fund'), 'campaign'] = 'Give OUT Day (S26)'\n",
    "donations.loc[((donations['fiscal_year'] == '2018') | (donations['close_date'] == '2020-03-10')) & (donations['type'] == 'Give OUT Day') & (donations['fund'] == 'Annual Fund'), 'campaign'] = 'Give OUT Day (S25)'"
   ]
  },
  {
   "cell_type": "code",
   "execution_count": 33,
   "metadata": {},
   "outputs": [
    {
     "data": {
      "text/html": [
       "<div>\n",
       "<style scoped>\n",
       "    .dataframe tbody tr th:only-of-type {\n",
       "        vertical-align: middle;\n",
       "    }\n",
       "\n",
       "    .dataframe tbody tr th {\n",
       "        vertical-align: top;\n",
       "    }\n",
       "\n",
       "    .dataframe thead th {\n",
       "        text-align: right;\n",
       "    }\n",
       "</style>\n",
       "<table border=\"1\" class=\"dataframe\">\n",
       "  <thead>\n",
       "    <tr style=\"text-align: right;\">\n",
       "      <th></th>\n",
       "      <th>donation_id</th>\n",
       "      <th>donation_record_type</th>\n",
       "      <th>amount</th>\n",
       "      <th>close_date</th>\n",
       "      <th>account_id</th>\n",
       "      <th>account_record_type</th>\n",
       "      <th>contact_id</th>\n",
       "      <th>pledge_amount</th>\n",
       "      <th>fund</th>\n",
       "      <th>payment_type</th>\n",
       "      <th>...</th>\n",
       "      <th>group_sales_total</th>\n",
       "      <th>ticket_order_id</th>\n",
       "      <th>total_amount</th>\n",
       "      <th>transaction_id</th>\n",
       "      <th>last_transaction_id</th>\n",
       "      <th>order_count_last_#_days</th>\n",
       "      <th>mailing_city</th>\n",
       "      <th>mailing_state</th>\n",
       "      <th>mailing_zip</th>\n",
       "      <th>campaign</th>\n",
       "    </tr>\n",
       "  </thead>\n",
       "  <tbody>\n",
       "    <tr>\n",
       "      <th>0</th>\n",
       "      <td>0063600000h6uBQ</td>\n",
       "      <td>Pledge Payment</td>\n",
       "      <td>1000.0</td>\n",
       "      <td>2018-06-30</td>\n",
       "      <td>0013600000VKQlu</td>\n",
       "      <td>Household</td>\n",
       "      <td>0033600000NZkdZ</td>\n",
       "      <td>NaN</td>\n",
       "      <td>25th Anniversary Capital Campaign</td>\n",
       "      <td>Check</td>\n",
       "      <td>...</td>\n",
       "      <td>0.0</td>\n",
       "      <td>NaN</td>\n",
       "      <td>1000.0</td>\n",
       "      <td>nan</td>\n",
       "      <td>NaN</td>\n",
       "      <td>7.0</td>\n",
       "      <td>Richmond</td>\n",
       "      <td>VA</td>\n",
       "      <td>23230-4411</td>\n",
       "      <td>NaN</td>\n",
       "    </tr>\n",
       "    <tr>\n",
       "      <th>1</th>\n",
       "      <td>0063600000GVWrS</td>\n",
       "      <td>Pledge Payment</td>\n",
       "      <td>1000.0</td>\n",
       "      <td>2016-12-28</td>\n",
       "      <td>0013600000VKQlu</td>\n",
       "      <td>Household</td>\n",
       "      <td>0033600000NZkdZ</td>\n",
       "      <td>NaN</td>\n",
       "      <td>25th Anniversary Capital Campaign</td>\n",
       "      <td>Check</td>\n",
       "      <td>...</td>\n",
       "      <td>0.0</td>\n",
       "      <td>NaN</td>\n",
       "      <td>1000.0</td>\n",
       "      <td>nan</td>\n",
       "      <td>NaN</td>\n",
       "      <td>7.0</td>\n",
       "      <td>Richmond</td>\n",
       "      <td>VA</td>\n",
       "      <td>23230-4411</td>\n",
       "      <td>NaN</td>\n",
       "    </tr>\n",
       "    <tr>\n",
       "      <th>2</th>\n",
       "      <td>0063p00000tn3Rf</td>\n",
       "      <td>Pledge Payment</td>\n",
       "      <td>20000.0</td>\n",
       "      <td>2019-12-13</td>\n",
       "      <td>0013600000VKRZd</td>\n",
       "      <td>Individual</td>\n",
       "      <td>0033600000NZkkJ</td>\n",
       "      <td>NaN</td>\n",
       "      <td>25th Anniversary Capital Campaign</td>\n",
       "      <td>Credit Card</td>\n",
       "      <td>...</td>\n",
       "      <td>0.0</td>\n",
       "      <td>NaN</td>\n",
       "      <td>20000.0</td>\n",
       "      <td>111844.0</td>\n",
       "      <td>00D36000000j6TAEAY~0063p00000tn3RfAAI~00000011...</td>\n",
       "      <td>5.0</td>\n",
       "      <td>RICHMOND</td>\n",
       "      <td>VA</td>\n",
       "      <td>23229</td>\n",
       "      <td>NaN</td>\n",
       "    </tr>\n",
       "    <tr>\n",
       "      <th>3</th>\n",
       "      <td>0063600000WKiZk</td>\n",
       "      <td>Pledge Payment</td>\n",
       "      <td>20000.0</td>\n",
       "      <td>2017-12-22</td>\n",
       "      <td>0013600000VKRZd</td>\n",
       "      <td>Individual</td>\n",
       "      <td>0033600000NZkkJ</td>\n",
       "      <td>NaN</td>\n",
       "      <td>25th Anniversary Capital Campaign</td>\n",
       "      <td>Check</td>\n",
       "      <td>...</td>\n",
       "      <td>0.0</td>\n",
       "      <td>NaN</td>\n",
       "      <td>20000.0</td>\n",
       "      <td>nan</td>\n",
       "      <td>NaN</td>\n",
       "      <td>5.0</td>\n",
       "      <td>RICHMOND</td>\n",
       "      <td>VA</td>\n",
       "      <td>23229</td>\n",
       "      <td>NaN</td>\n",
       "    </tr>\n",
       "    <tr>\n",
       "      <th>4</th>\n",
       "      <td>0063600000GVNJz</td>\n",
       "      <td>Pledge Payment</td>\n",
       "      <td>20000.0</td>\n",
       "      <td>2016-12-30</td>\n",
       "      <td>0013600000VKRZd</td>\n",
       "      <td>Individual</td>\n",
       "      <td>0033600000NZkkJ</td>\n",
       "      <td>NaN</td>\n",
       "      <td>25th Anniversary Capital Campaign</td>\n",
       "      <td>Check</td>\n",
       "      <td>...</td>\n",
       "      <td>0.0</td>\n",
       "      <td>NaN</td>\n",
       "      <td>20000.0</td>\n",
       "      <td>nan</td>\n",
       "      <td>NaN</td>\n",
       "      <td>5.0</td>\n",
       "      <td>RICHMOND</td>\n",
       "      <td>VA</td>\n",
       "      <td>23229</td>\n",
       "      <td>NaN</td>\n",
       "    </tr>\n",
       "    <tr>\n",
       "      <th>...</th>\n",
       "      <td>...</td>\n",
       "      <td>...</td>\n",
       "      <td>...</td>\n",
       "      <td>...</td>\n",
       "      <td>...</td>\n",
       "      <td>...</td>\n",
       "      <td>...</td>\n",
       "      <td>...</td>\n",
       "      <td>...</td>\n",
       "      <td>...</td>\n",
       "      <td>...</td>\n",
       "      <td>...</td>\n",
       "      <td>...</td>\n",
       "      <td>...</td>\n",
       "      <td>...</td>\n",
       "      <td>...</td>\n",
       "      <td>...</td>\n",
       "      <td>...</td>\n",
       "      <td>...</td>\n",
       "      <td>...</td>\n",
       "      <td>...</td>\n",
       "    </tr>\n",
       "    <tr>\n",
       "      <th>4181</th>\n",
       "      <td>0063600000PAlQk</td>\n",
       "      <td>PatronTicket Donation</td>\n",
       "      <td>100.0</td>\n",
       "      <td>2017-07-12</td>\n",
       "      <td>0013600000ggddF</td>\n",
       "      <td>Individual</td>\n",
       "      <td>0033600000VY68i</td>\n",
       "      <td>NaN</td>\n",
       "      <td>Annual Fund</td>\n",
       "      <td>Credit Card</td>\n",
       "      <td>...</td>\n",
       "      <td>0.0</td>\n",
       "      <td>NaN</td>\n",
       "      <td>100.0</td>\n",
       "      <td>8.25791e+17</td>\n",
       "      <td>NaN</td>\n",
       "      <td>0.0</td>\n",
       "      <td>Richmond</td>\n",
       "      <td>VA</td>\n",
       "      <td>23221-2734</td>\n",
       "      <td>NaN</td>\n",
       "    </tr>\n",
       "    <tr>\n",
       "      <th>4182</th>\n",
       "      <td>0063600000BI30b</td>\n",
       "      <td>Donation</td>\n",
       "      <td>1000.0</td>\n",
       "      <td>2014-12-15</td>\n",
       "      <td>0013600000VKRL7</td>\n",
       "      <td>Individual</td>\n",
       "      <td>0033600000VY5gJ</td>\n",
       "      <td>NaN</td>\n",
       "      <td>Mary Morton Parsons Challenge Grant Match</td>\n",
       "      <td>Check</td>\n",
       "      <td>...</td>\n",
       "      <td>0.0</td>\n",
       "      <td>NaN</td>\n",
       "      <td>1000.0</td>\n",
       "      <td>nan</td>\n",
       "      <td>NaN</td>\n",
       "      <td>0.0</td>\n",
       "      <td>Richmond</td>\n",
       "      <td>VA</td>\n",
       "      <td>23220-4410</td>\n",
       "      <td>NaN</td>\n",
       "    </tr>\n",
       "    <tr>\n",
       "      <th>4183</th>\n",
       "      <td>0063600000jiGMG</td>\n",
       "      <td>PatronTicket Donation</td>\n",
       "      <td>10.0</td>\n",
       "      <td>2018-09-21</td>\n",
       "      <td>0013600000VKRXK</td>\n",
       "      <td>Individual</td>\n",
       "      <td>0033600000VY5gQ</td>\n",
       "      <td>NaN</td>\n",
       "      <td>Annual Fund</td>\n",
       "      <td>Credit Card</td>\n",
       "      <td>...</td>\n",
       "      <td>0.0</td>\n",
       "      <td>NaN</td>\n",
       "      <td>10.0</td>\n",
       "      <td>8.27465e+17</td>\n",
       "      <td>NaN</td>\n",
       "      <td>1.0</td>\n",
       "      <td>Maidens</td>\n",
       "      <td>VA</td>\n",
       "      <td>23102-2627</td>\n",
       "      <td>NaN</td>\n",
       "    </tr>\n",
       "    <tr>\n",
       "      <th>4188</th>\n",
       "      <td>0063600000BI2wy</td>\n",
       "      <td>Donation</td>\n",
       "      <td>50.0</td>\n",
       "      <td>2014-10-10</td>\n",
       "      <td>0013600000VKQmb</td>\n",
       "      <td>Household</td>\n",
       "      <td>0033600000NZk3o</td>\n",
       "      <td>NaN</td>\n",
       "      <td>Next Stage Campaign</td>\n",
       "      <td>Credit Card</td>\n",
       "      <td>...</td>\n",
       "      <td>0.0</td>\n",
       "      <td>NaN</td>\n",
       "      <td>50.0</td>\n",
       "      <td>nan</td>\n",
       "      <td>NaN</td>\n",
       "      <td>0.0</td>\n",
       "      <td>Dublin</td>\n",
       "      <td>VA</td>\n",
       "      <td>24084</td>\n",
       "      <td>NaN</td>\n",
       "    </tr>\n",
       "    <tr>\n",
       "      <th>4192</th>\n",
       "      <td>0063p00000wMyTN</td>\n",
       "      <td>Donation</td>\n",
       "      <td>250.0</td>\n",
       "      <td>2020-04-12</td>\n",
       "      <td>0013600000VKQoZ</td>\n",
       "      <td>Household</td>\n",
       "      <td>0033p00002Umwkn</td>\n",
       "      <td>NaN</td>\n",
       "      <td>Annual Fund</td>\n",
       "      <td>Credit Card</td>\n",
       "      <td>...</td>\n",
       "      <td>0.0</td>\n",
       "      <td>NaN</td>\n",
       "      <td>250.0</td>\n",
       "      <td>132624.0</td>\n",
       "      <td>00D36000000j6TAEAY~0063p00000wMyTNAA0~00000013...</td>\n",
       "      <td>2.0</td>\n",
       "      <td>Richmond</td>\n",
       "      <td>VA</td>\n",
       "      <td>23220</td>\n",
       "      <td>NaN</td>\n",
       "    </tr>\n",
       "  </tbody>\n",
       "</table>\n",
       "<p>1637 rows × 48 columns</p>\n",
       "</div>"
      ],
      "text/plain": [
       "          donation_id   donation_record_type   amount close_date  \\\n",
       "0     0063600000h6uBQ         Pledge Payment   1000.0 2018-06-30   \n",
       "1     0063600000GVWrS         Pledge Payment   1000.0 2016-12-28   \n",
       "2     0063p00000tn3Rf         Pledge Payment  20000.0 2019-12-13   \n",
       "3     0063600000WKiZk         Pledge Payment  20000.0 2017-12-22   \n",
       "4     0063600000GVNJz         Pledge Payment  20000.0 2016-12-30   \n",
       "...               ...                    ...      ...        ...   \n",
       "4181  0063600000PAlQk  PatronTicket Donation    100.0 2017-07-12   \n",
       "4182  0063600000BI30b               Donation   1000.0 2014-12-15   \n",
       "4183  0063600000jiGMG  PatronTicket Donation     10.0 2018-09-21   \n",
       "4188  0063600000BI2wy               Donation     50.0 2014-10-10   \n",
       "4192  0063p00000wMyTN               Donation    250.0 2020-04-12   \n",
       "\n",
       "           account_id account_record_type       contact_id  pledge_amount  \\\n",
       "0     0013600000VKQlu           Household  0033600000NZkdZ            NaN   \n",
       "1     0013600000VKQlu           Household  0033600000NZkdZ            NaN   \n",
       "2     0013600000VKRZd          Individual  0033600000NZkkJ            NaN   \n",
       "3     0013600000VKRZd          Individual  0033600000NZkkJ            NaN   \n",
       "4     0013600000VKRZd          Individual  0033600000NZkkJ            NaN   \n",
       "...               ...                 ...              ...            ...   \n",
       "4181  0013600000ggddF          Individual  0033600000VY68i            NaN   \n",
       "4182  0013600000VKRL7          Individual  0033600000VY5gJ            NaN   \n",
       "4183  0013600000VKRXK          Individual  0033600000VY5gQ            NaN   \n",
       "4188  0013600000VKQmb           Household  0033600000NZk3o            NaN   \n",
       "4192  0013600000VKQoZ           Household  0033p00002Umwkn            NaN   \n",
       "\n",
       "                                           fund payment_type  ...  \\\n",
       "0             25th Anniversary Capital Campaign        Check  ...   \n",
       "1             25th Anniversary Capital Campaign        Check  ...   \n",
       "2             25th Anniversary Capital Campaign  Credit Card  ...   \n",
       "3             25th Anniversary Capital Campaign        Check  ...   \n",
       "4             25th Anniversary Capital Campaign        Check  ...   \n",
       "...                                         ...          ...  ...   \n",
       "4181                                Annual Fund  Credit Card  ...   \n",
       "4182  Mary Morton Parsons Challenge Grant Match        Check  ...   \n",
       "4183                                Annual Fund  Credit Card  ...   \n",
       "4188                        Next Stage Campaign  Credit Card  ...   \n",
       "4192                                Annual Fund  Credit Card  ...   \n",
       "\n",
       "     group_sales_total ticket_order_id total_amount transaction_id  \\\n",
       "0                  0.0             NaN       1000.0            nan   \n",
       "1                  0.0             NaN       1000.0            nan   \n",
       "2                  0.0             NaN      20000.0       111844.0   \n",
       "3                  0.0             NaN      20000.0            nan   \n",
       "4                  0.0             NaN      20000.0            nan   \n",
       "...                ...             ...          ...            ...   \n",
       "4181               0.0             NaN        100.0    8.25791e+17   \n",
       "4182               0.0             NaN       1000.0            nan   \n",
       "4183               0.0             NaN         10.0    8.27465e+17   \n",
       "4188               0.0             NaN         50.0            nan   \n",
       "4192               0.0             NaN        250.0       132624.0   \n",
       "\n",
       "                                    last_transaction_id  \\\n",
       "0                                                   NaN   \n",
       "1                                                   NaN   \n",
       "2     00D36000000j6TAEAY~0063p00000tn3RfAAI~00000011...   \n",
       "3                                                   NaN   \n",
       "4                                                   NaN   \n",
       "...                                                 ...   \n",
       "4181                                                NaN   \n",
       "4182                                                NaN   \n",
       "4183                                                NaN   \n",
       "4188                                                NaN   \n",
       "4192  00D36000000j6TAEAY~0063p00000wMyTNAA0~00000013...   \n",
       "\n",
       "     order_count_last_#_days  mailing_city mailing_state  mailing_zip  \\\n",
       "0                        7.0      Richmond            VA   23230-4411   \n",
       "1                        7.0      Richmond            VA   23230-4411   \n",
       "2                        5.0      RICHMOND            VA        23229   \n",
       "3                        5.0      RICHMOND            VA        23229   \n",
       "4                        5.0      RICHMOND            VA        23229   \n",
       "...                      ...           ...           ...          ...   \n",
       "4181                     0.0      Richmond            VA   23221-2734   \n",
       "4182                     0.0      Richmond            VA   23220-4410   \n",
       "4183                     1.0       Maidens            VA   23102-2627   \n",
       "4188                     0.0        Dublin            VA        24084   \n",
       "4192                     2.0      Richmond            VA        23220   \n",
       "\n",
       "      campaign  \n",
       "0          NaN  \n",
       "1          NaN  \n",
       "2          NaN  \n",
       "3          NaN  \n",
       "4          NaN  \n",
       "...        ...  \n",
       "4181       NaN  \n",
       "4182       NaN  \n",
       "4183       NaN  \n",
       "4188       NaN  \n",
       "4192       NaN  \n",
       "\n",
       "[1637 rows x 48 columns]"
      ]
     },
     "execution_count": 33,
     "metadata": {},
     "output_type": "execute_result"
    }
   ],
   "source": [
    "donations[donations['campaign'].isna()]"
   ]
  },
  {
   "cell_type": "code",
   "execution_count": 34,
   "metadata": {},
   "outputs": [],
   "source": [
    "donations.loc[(donations['close_date'] > '2019-06-30') & (donations['close_date'] < '2020-07-01') & (donations['campaign'].isna()), 'campaign'] = 'Outside of Campaign Period (S27)'\n",
    "donations.loc[(donations['close_date'] > '2018-06-30') & (donations['close_date'] < '2019-07-01') & (donations['campaign'].isna()), 'campaign'] = 'Outside of Campaign Period (S26)'\n",
    "donations.loc[(donations['close_date'] > '2017-06-30') & (donations['close_date'] < '2018-07-01') & (donations['campaign'].isna()), 'campaign'] = 'Outside of Campaign Period (S25)'\n",
    "donations.loc[(donations['close_date'] > '2016-06-30') & (donations['close_date'] < '2017-07-01') & (donations['campaign'].isna()), 'campaign'] = 'Outside of Campaign Period (S24)'\n",
    "donations.loc[(donations['close_date'] > '2015-06-30') & (donations['close_date'] < '2016-07-01') & (donations['campaign'].isna()), 'campaign'] = 'Outside of Campaign Period (S23)'\n",
    "donations.loc[(donations['close_date'] > '2014-06-30') & (donations['close_date'] < '2015-07-01') & (donations['campaign'].isna()), 'campaign'] = 'Outside of Campaign Period (S22)'"
   ]
  },
  {
   "cell_type": "code",
   "execution_count": 35,
   "metadata": {},
   "outputs": [
    {
     "data": {
      "text/plain": [
       "Outside of Campaign Period (S27)        553\n",
       "Give OUT Day (S27)                      351\n",
       "Give OUT Day (S25)                      343\n",
       "Outside of Campaign Period (S26)        301\n",
       "Fall 2019 Annual Fund Appeal (S27)      250\n",
       "Outside of Campaign Period (S24)        242\n",
       "GIVINGTUESDAYNOW (S27)                  216\n",
       "Fall 2017 Annual Fund Appeal (S25)      206\n",
       "Outside of Campaign Period (S25)        204\n",
       "Spring 2019 Annual Fund Appeal (S26)    202\n",
       "Fall 2016 Annual Fund Appeal (S24)      198\n",
       "Outside of Campaign Period (S22)        191\n",
       "Fall 2018 Annual Fund Appeal (S26)      165\n",
       "Give OUT Day (S26)                      162\n",
       "Outside of Campaign Period (S23)        146\n",
       "Spring 2018 Annual Fund Appeal (S25)    137\n",
       "Fall 2015 Annual Fund Appeal (S23)      115\n",
       "Spring 2020 Annual Fund Appeal (S27)    101\n",
       "Fall 2014 Annual Fund Appeal (S22)       97\n",
       "Name: campaign, dtype: int64"
      ]
     },
     "execution_count": 35,
     "metadata": {},
     "output_type": "execute_result"
    }
   ],
   "source": [
    "donations.campaign.value_counts()"
   ]
  },
  {
   "cell_type": "code",
   "execution_count": 36,
   "metadata": {},
   "outputs": [
    {
     "data": {
      "text/html": [
       "<div>\n",
       "<style scoped>\n",
       "    .dataframe tbody tr th:only-of-type {\n",
       "        vertical-align: middle;\n",
       "    }\n",
       "\n",
       "    .dataframe tbody tr th {\n",
       "        vertical-align: top;\n",
       "    }\n",
       "\n",
       "    .dataframe thead th {\n",
       "        text-align: right;\n",
       "    }\n",
       "</style>\n",
       "<table border=\"1\" class=\"dataframe\">\n",
       "  <thead>\n",
       "    <tr style=\"text-align: right;\">\n",
       "      <th></th>\n",
       "      <th>donation_id</th>\n",
       "      <th>donation_record_type</th>\n",
       "      <th>amount</th>\n",
       "      <th>close_date</th>\n",
       "      <th>account_id</th>\n",
       "      <th>account_record_type</th>\n",
       "      <th>contact_id</th>\n",
       "      <th>pledge_amount</th>\n",
       "      <th>fund</th>\n",
       "      <th>payment_type</th>\n",
       "      <th>...</th>\n",
       "      <th>group_sales_total</th>\n",
       "      <th>ticket_order_id</th>\n",
       "      <th>total_amount</th>\n",
       "      <th>transaction_id</th>\n",
       "      <th>last_transaction_id</th>\n",
       "      <th>order_count_last_#_days</th>\n",
       "      <th>mailing_city</th>\n",
       "      <th>mailing_state</th>\n",
       "      <th>mailing_zip</th>\n",
       "      <th>campaign</th>\n",
       "    </tr>\n",
       "  </thead>\n",
       "  <tbody>\n",
       "  </tbody>\n",
       "</table>\n",
       "<p>0 rows × 48 columns</p>\n",
       "</div>"
      ],
      "text/plain": [
       "Empty DataFrame\n",
       "Columns: [donation_id, donation_record_type, amount, close_date, account_id, account_record_type, contact_id, pledge_amount, fund, payment_type, fiscal_quarter, fiscal_year, type, frequency, amount_matched, first_donation_date, last_donation_amount, last_donation_date, lifetime_donation_count, lifetime_donation_total_amount, lifetime_order_count, lifetime_single_ticket_purchase_total, lifetime_subscription_purchase_total, do_not_mail, email_opt_out, account_created_date, payment_schedule, stage, amount_due, amount_paid, anonymous, card_type, dedication_type, donation_origin, amount_donated_last_365_days, amount_donated_last_fiscal_year, amount_donated_this_fiscal_year, description, group_sales_total, ticket_order_id, total_amount, transaction_id, last_transaction_id, order_count_last_#_days, mailing_city, mailing_state, mailing_zip, campaign]\n",
       "Index: []\n",
       "\n",
       "[0 rows x 48 columns]"
      ]
     },
     "execution_count": 36,
     "metadata": {},
     "output_type": "execute_result"
    }
   ],
   "source": [
    "#Where is the other Give OUT Day donation that don't appear in S25, S26 or S27 above?\n",
    "#Adjust close date (in campaign assignment cell above) starting range for s26 based on first record returned below\n",
    "donations.loc[(donations['type'] == 'Give OUT Day') & ~(donations['campaign'].isin(['Give OUT Day (S25)', 'Give OUT Day (S26)', 'Give OUT Day (S27)']))].sort_values(by=['close_date'])"
   ]
  },
  {
   "cell_type": "code",
   "execution_count": 37,
   "metadata": {},
   "outputs": [
    {
     "name": "stderr",
     "output_type": "stream",
     "text": [
      "*c* argument looks like a single numeric RGB or RGBA sequence, which should be avoided as value-mapping will have precedence in case its length matches with *x* & *y*.  Please use the *color* keyword-argument or provide a 2-D array with a single row if you intend to specify the same RGB or RGBA value for all points.\n"
     ]
    },
    {
     "data": {
      "image/png": "[encoded data removed]",
      "text/plain": [
       "<Figure size 432x288 with 1 Axes>"
      ]
     },
     "metadata": {
      "needs_background": "light"
     },
     "output_type": "display_data"
    }
   ],
   "source": [
    "#Visualize donations over time\n",
    "dons = donations.plot.scatter('close_date', 'amount')"
   ]
  },
  {
   "cell_type": "code",
   "execution_count": 38,
   "metadata": {},
   "outputs": [
    {
     "name": "stderr",
     "output_type": "stream",
     "text": [
      "*c* argument looks like a single numeric RGB or RGBA sequence, which should be avoided as value-mapping will have precedence in case its length matches with *x* & *y*.  Please use the *color* keyword-argument or provide a 2-D array with a single row if you intend to specify the same RGB or RGBA value for all points.\n"
     ]
    },
    {
     "data": {
      "image/png": "[encoded data removed]",
      "text/plain": [
       "<Figure size 432x288 with 1 Axes>"
      ]
     },
     "metadata": {
      "needs_background": "light"
     },
     "output_type": "display_data"
    }
   ],
   "source": [
    "dons = donations_no_outlier_amts.plot.scatter('close_date', 'amount')"
   ]
  },
  {
   "cell_type": "code",
   "execution_count": 39,
   "metadata": {},
   "outputs": [
    {
     "data": {
      "text/plain": [
       "<matplotlib.axes._subplots.AxesSubplot at 0x7fdd9038ce50>"
      ]
     },
     "execution_count": 39,
     "metadata": {},
     "output_type": "execute_result"
    },
    {
     "data": {
      "image/png": "[encoded data removed]",
      "text/plain": [
       "<Figure size 432x288 with 1 Axes>"
      ]
     },
     "metadata": {
      "needs_background": "light"
     },
     "output_type": "display_data"
    }
   ],
   "source": [
    "sns.boxplot(x=donations['amount'])"
   ]
  },
  {
   "cell_type": "code",
   "execution_count": 40,
   "metadata": {},
   "outputs": [
    {
     "data": {
      "text/plain": [
       "<matplotlib.axes._subplots.AxesSubplot at 0x7fddb2162910>"
      ]
     },
     "execution_count": 40,
     "metadata": {},
     "output_type": "execute_result"
    },
    {
     "data": {
      "image/png": "[encoded data removed]",
      "text/plain": [
       "<Figure size 432x288 with 1 Axes>"
      ]
     },
     "metadata": {
      "needs_background": "light"
     },
     "output_type": "display_data"
    }
   ],
   "source": [
    "sns.boxplot(x=donations_no_outlier_amts['amount'])"
   ]
  },
  {
   "cell_type": "code",
   "execution_count": 41,
   "metadata": {},
   "outputs": [
    {
     "data": {
      "text/html": [
       "<div>\n",
       "<style scoped>\n",
       "    .dataframe tbody tr th:only-of-type {\n",
       "        vertical-align: middle;\n",
       "    }\n",
       "\n",
       "    .dataframe tbody tr th {\n",
       "        vertical-align: top;\n",
       "    }\n",
       "\n",
       "    .dataframe thead th {\n",
       "        text-align: right;\n",
       "    }\n",
       "</style>\n",
       "<table border=\"1\" class=\"dataframe\">\n",
       "  <thead>\n",
       "    <tr style=\"text-align: right;\">\n",
       "      <th></th>\n",
       "      <th>account_id</th>\n",
       "      <th>type</th>\n",
       "      <th>amount</th>\n",
       "      <th>close_date</th>\n",
       "      <th>fund</th>\n",
       "    </tr>\n",
       "  </thead>\n",
       "  <tbody>\n",
       "    <tr>\n",
       "      <th>413</th>\n",
       "      <td>0013600000VKRVh</td>\n",
       "      <td>Pledge Payment</td>\n",
       "      <td>50000.00</td>\n",
       "      <td>2017-06-28</td>\n",
       "      <td>25th Anniversary Capital Campaign</td>\n",
       "    </tr>\n",
       "    <tr>\n",
       "      <th>575</th>\n",
       "      <td>0013p00001uSMBr</td>\n",
       "      <td>Grant</td>\n",
       "      <td>50000.00</td>\n",
       "      <td>2020-07-18</td>\n",
       "      <td>Annual Fund</td>\n",
       "    </tr>\n",
       "    <tr>\n",
       "      <th>1099</th>\n",
       "      <td>0013600000VKQpB</td>\n",
       "      <td>Board</td>\n",
       "      <td>50000.00</td>\n",
       "      <td>2017-01-20</td>\n",
       "      <td>25th Anniversary Capital Campaign</td>\n",
       "    </tr>\n",
       "    <tr>\n",
       "      <th>1721</th>\n",
       "      <td>0013600000VKR7B</td>\n",
       "      <td>Gift</td>\n",
       "      <td>158115.36</td>\n",
       "      <td>2016-03-07</td>\n",
       "      <td>Next Stage Campaign</td>\n",
       "    </tr>\n",
       "    <tr>\n",
       "      <th>2776</th>\n",
       "      <td>0013600000VKQlS</td>\n",
       "      <td>Gift</td>\n",
       "      <td>50000.00</td>\n",
       "      <td>2015-08-03</td>\n",
       "      <td>Annual Fund</td>\n",
       "    </tr>\n",
       "    <tr>\n",
       "      <th>2777</th>\n",
       "      <td>0013600000VKQlS</td>\n",
       "      <td>Gift</td>\n",
       "      <td>50000.00</td>\n",
       "      <td>2014-07-21</td>\n",
       "      <td>Annual Fund</td>\n",
       "    </tr>\n",
       "    <tr>\n",
       "      <th>3241</th>\n",
       "      <td>0013600000VKRb8</td>\n",
       "      <td>Pledge Payment</td>\n",
       "      <td>50000.00</td>\n",
       "      <td>2015-10-27</td>\n",
       "      <td>Next Stage Campaign</td>\n",
       "    </tr>\n",
       "  </tbody>\n",
       "</table>\n",
       "</div>"
      ],
      "text/plain": [
       "           account_id            type     amount close_date  \\\n",
       "413   0013600000VKRVh  Pledge Payment   50000.00 2017-06-28   \n",
       "575   0013p00001uSMBr           Grant   50000.00 2020-07-18   \n",
       "1099  0013600000VKQpB           Board   50000.00 2017-01-20   \n",
       "1721  0013600000VKR7B            Gift  158115.36 2016-03-07   \n",
       "2776  0013600000VKQlS            Gift   50000.00 2015-08-03   \n",
       "2777  0013600000VKQlS            Gift   50000.00 2014-07-21   \n",
       "3241  0013600000VKRb8  Pledge Payment   50000.00 2015-10-27   \n",
       "\n",
       "                                   fund  \n",
       "413   25th Anniversary Capital Campaign  \n",
       "575                         Annual Fund  \n",
       "1099  25th Anniversary Capital Campaign  \n",
       "1721                Next Stage Campaign  \n",
       "2776                        Annual Fund  \n",
       "2777                        Annual Fund  \n",
       "3241                Next Stage Campaign  "
      ]
     },
     "execution_count": 41,
     "metadata": {},
     "output_type": "execute_result"
    }
   ],
   "source": [
    "donations.loc[donations['amount']>40000, ['account_id','type', 'amount', 'close_date', 'fund']]"
   ]
  },
  {
   "cell_type": "code",
   "execution_count": 42,
   "metadata": {},
   "outputs": [],
   "source": [
    "#Remove the 6 outliers above (those above 40k) as well as donations marked stage == 'Refunded'\n",
    "less_max = donations[(donations['amount']<40000) & (donations['donation_record_type'] != 'Pledge')]"
   ]
  },
  {
   "cell_type": "code",
   "execution_count": 43,
   "metadata": {},
   "outputs": [
    {
     "data": {
      "text/plain": [
       "<matplotlib.axes._subplots.AxesSubplot at 0x7fdda074a150>"
      ]
     },
     "execution_count": 43,
     "metadata": {},
     "output_type": "execute_result"
    },
    {
     "data": {
      "image/png": "[encoded data removed]",
      "text/plain": [
       "<Figure size 432x288 with 1 Axes>"
      ]
     },
     "metadata": {
      "needs_background": "light"
     },
     "output_type": "display_data"
    }
   ],
   "source": [
    "sns.boxplot(x=less_max['amount'])"
   ]
  },
  {
   "cell_type": "code",
   "execution_count": 44,
   "metadata": {},
   "outputs": [
    {
     "name": "stderr",
     "output_type": "stream",
     "text": [
      "*c* argument looks like a single numeric RGB or RGBA sequence, which should be avoided as value-mapping will have precedence in case its length matches with *x* & *y*.  Please use the *color* keyword-argument or provide a 2-D array with a single row if you intend to specify the same RGB or RGBA value for all points.\n"
     ]
    },
    {
     "data": {
      "image/png": "[encoded data removed]",
      "text/plain": [
       "<Figure size 432x288 with 1 Axes>"
      ]
     },
     "metadata": {
      "needs_background": "light"
     },
     "output_type": "display_data"
    }
   ],
   "source": [
    "less_max_scatter = less_max.plot.scatter('close_date', 'amount')"
   ]
  },
  {
   "cell_type": "code",
   "execution_count": 45,
   "metadata": {},
   "outputs": [
    {
     "data": {
      "text/plain": [
       "close_date\n",
       "2014-07-01    1\n",
       "2014-07-09    4\n",
       "2014-07-16    5\n",
       "2014-07-21    1\n",
       "2014-07-28    7\n",
       "Name: donation_id, dtype: int64"
      ]
     },
     "execution_count": 45,
     "metadata": {},
     "output_type": "execute_result"
    }
   ],
   "source": [
    "#Find donation volume by date (excludes donations over 40,000 and refunds)\n",
    "donations_by_date = less_max.groupby('close_date')['donation_id'].count()\n",
    "donations_by_date.head()"
   ]
  },
  {
   "cell_type": "code",
   "execution_count": 46,
   "metadata": {},
   "outputs": [
    {
     "data": {
      "text/plain": [
       "close_date\n",
       "2014-07-01    1\n",
       "2014-07-09    4\n",
       "2014-07-16    5\n",
       "2014-07-21    1\n",
       "2014-07-28    7\n",
       "Name: donation_id, dtype: int64"
      ]
     },
     "execution_count": 46,
     "metadata": {},
     "output_type": "execute_result"
    }
   ],
   "source": [
    "donations_by_date_noout = donations_no_outlier_amts.groupby('close_date')['donation_id'].count()\n",
    "donations_by_date_noout.head()"
   ]
  },
  {
   "cell_type": "code",
   "execution_count": 52,
   "metadata": {},
   "outputs": [
    {
     "data": {
      "text/plain": [
       "close_date\n",
       "2014-07-01    1\n",
       "2014-07-09    4\n",
       "2014-07-16    5\n",
       "2014-07-21    2\n",
       "2014-07-28    7\n",
       "Name: donation_id, dtype: int64"
      ]
     },
     "execution_count": 52,
     "metadata": {},
     "output_type": "execute_result"
    }
   ],
   "source": [
    "don_vol = donations.loc[(~donations.amount.isna()) & (donations['amount'] != 0)]\n",
    "don_vol_by_date = don_vol.groupby('close_date')['donation_id'].count()\n",
    "don_vol_by_date.head()"
   ]
  },
  {
   "cell_type": "code",
   "execution_count": 141,
   "metadata": {},
   "outputs": [
    {
     "data": {
      "text/plain": [
       "close_date\n",
       "2020-06-12      3\n",
       "2020-06-13      1\n",
       "2020-06-15     18\n",
       "2020-06-16      5\n",
       "2020-06-17      1\n",
       "2020-06-21      1\n",
       "2020-06-22      3\n",
       "2020-06-23     10\n",
       "2020-06-24      6\n",
       "2020-06-25     23\n",
       "2020-06-26     27\n",
       "2020-06-27      6\n",
       "2020-06-28     13\n",
       "2020-06-29     78\n",
       "2020-06-30    197\n",
       "2020-07-01      2\n",
       "2020-07-02      2\n",
       "2020-07-03      8\n",
       "2020-07-04      2\n",
       "2020-07-06      1\n",
       "2020-07-09      1\n",
       "2020-07-10      5\n",
       "2020-07-16      4\n",
       "2020-07-18      4\n",
       "2020-07-20      1\n",
       "Name: donation_id, dtype: int64"
      ]
     },
     "execution_count": 141,
     "metadata": {},
     "output_type": "execute_result"
    }
   ],
   "source": [
    "don_vol_by_date.tail(25)"
   ]
  },
  {
   "cell_type": "code",
   "execution_count": 53,
   "metadata": {},
   "outputs": [
    {
     "data": {
      "text/plain": [
       "Text(0.5, 0, 'Date')"
      ]
     },
     "execution_count": 53,
     "metadata": {},
     "output_type": "execute_result"
    },
    {
     "data": {
      "image/png": "[encoded data removed]",
      "text/plain": [
       "<Figure size 1080x432 with 1 Axes>"
      ]
     },
     "metadata": {},
     "output_type": "display_data"
    }
   ],
   "source": [
    "#Plot the daily donation volume\n",
    "\n",
    "#set style\n",
    "sns.set(style='darkgrid')\n",
    "\n",
    "#Adjust the plot size\n",
    "plt.figure(figsize=[15,6])\n",
    "\n",
    "#Line Plot\n",
    "sns.lineplot(x=don_vol_by_date.index, y=don_vol_by_date.values, color='purple')\n",
    "\n",
    "#Assign axis labels:\n",
    "plt.ylabel('Number of Donations', fontsize=14)\n",
    "plt.xlabel('Date', fontsize=14)"
   ]
  },
  {
   "cell_type": "code",
   "execution_count": 55,
   "metadata": {},
   "outputs": [
    {
     "data": {
      "text/plain": [
       "0   2018-04-19\n",
       "dtype: datetime64[ns]"
      ]
     },
     "execution_count": 55,
     "metadata": {},
     "output_type": "execute_result"
    }
   ],
   "source": [
    "#Which date over the analysis period had the largest donation volume?\n",
    "donations.close_date.mode()\n",
    "\n",
    "#04-19-2018 makes sense as it was our first giveoutday"
   ]
  },
  {
   "cell_type": "code",
   "execution_count": 60,
   "metadata": {},
   "outputs": [
    {
     "data": {
      "text/html": [
       "<div>\n",
       "<style scoped>\n",
       "    .dataframe tbody tr th:only-of-type {\n",
       "        vertical-align: middle;\n",
       "    }\n",
       "\n",
       "    .dataframe tbody tr th {\n",
       "        vertical-align: top;\n",
       "    }\n",
       "\n",
       "    .dataframe thead th {\n",
       "        text-align: right;\n",
       "    }\n",
       "</style>\n",
       "<table border=\"1\" class=\"dataframe\">\n",
       "  <thead>\n",
       "    <tr style=\"text-align: right;\">\n",
       "      <th></th>\n",
       "      <th>donation_id</th>\n",
       "      <th>donation_record_type</th>\n",
       "      <th>amount</th>\n",
       "      <th>close_date</th>\n",
       "      <th>account_id</th>\n",
       "      <th>account_record_type</th>\n",
       "      <th>contact_id</th>\n",
       "      <th>pledge_amount</th>\n",
       "      <th>fund</th>\n",
       "      <th>payment_type</th>\n",
       "      <th>...</th>\n",
       "      <th>group_sales_total</th>\n",
       "      <th>ticket_order_id</th>\n",
       "      <th>total_amount</th>\n",
       "      <th>transaction_id</th>\n",
       "      <th>last_transaction_id</th>\n",
       "      <th>order_count_last_#_days</th>\n",
       "      <th>mailing_city</th>\n",
       "      <th>mailing_state</th>\n",
       "      <th>mailing_zip</th>\n",
       "      <th>campaign</th>\n",
       "    </tr>\n",
       "  </thead>\n",
       "  <tbody>\n",
       "    <tr>\n",
       "      <th>1517</th>\n",
       "      <td>0063600000BpB9G</td>\n",
       "      <td>Pledge</td>\n",
       "      <td>0.0</td>\n",
       "      <td>2015-08-03</td>\n",
       "      <td>0013600000VKQlu</td>\n",
       "      <td>Household</td>\n",
       "      <td>0033600000NZkdZ</td>\n",
       "      <td>3000.00</td>\n",
       "      <td>NaN</td>\n",
       "      <td>NaN</td>\n",
       "      <td>...</td>\n",
       "      <td>0.0</td>\n",
       "      <td>NaN</td>\n",
       "      <td>0.0</td>\n",
       "      <td>nan</td>\n",
       "      <td>NaN</td>\n",
       "      <td>7.0</td>\n",
       "      <td>Richmond</td>\n",
       "      <td>VA</td>\n",
       "      <td>23230-4411</td>\n",
       "      <td>Outside of Campaign Period (S23)</td>\n",
       "    </tr>\n",
       "    <tr>\n",
       "      <th>1541</th>\n",
       "      <td>0063600000BpB9C</td>\n",
       "      <td>Pledge</td>\n",
       "      <td>0.0</td>\n",
       "      <td>2015-08-01</td>\n",
       "      <td>0013600000VKQqT</td>\n",
       "      <td>Household</td>\n",
       "      <td>0033600000NZkQL</td>\n",
       "      <td>1500.00</td>\n",
       "      <td>NaN</td>\n",
       "      <td>NaN</td>\n",
       "      <td>...</td>\n",
       "      <td>0.0</td>\n",
       "      <td>NaN</td>\n",
       "      <td>0.0</td>\n",
       "      <td>nan</td>\n",
       "      <td>NaN</td>\n",
       "      <td>8.0</td>\n",
       "      <td>Glen Allen</td>\n",
       "      <td>VA</td>\n",
       "      <td>23060-6199</td>\n",
       "      <td>Outside of Campaign Period (S23)</td>\n",
       "    </tr>\n",
       "    <tr>\n",
       "      <th>1542</th>\n",
       "      <td>0063600000BpB9B</td>\n",
       "      <td>Pledge</td>\n",
       "      <td>0.0</td>\n",
       "      <td>2015-08-01</td>\n",
       "      <td>0013600000VKQqT</td>\n",
       "      <td>Household</td>\n",
       "      <td>0033600000NZkQL</td>\n",
       "      <td>600.00</td>\n",
       "      <td>NaN</td>\n",
       "      <td>NaN</td>\n",
       "      <td>...</td>\n",
       "      <td>0.0</td>\n",
       "      <td>NaN</td>\n",
       "      <td>0.0</td>\n",
       "      <td>nan</td>\n",
       "      <td>NaN</td>\n",
       "      <td>8.0</td>\n",
       "      <td>Glen Allen</td>\n",
       "      <td>VA</td>\n",
       "      <td>23060-6199</td>\n",
       "      <td>Outside of Campaign Period (S23)</td>\n",
       "    </tr>\n",
       "    <tr>\n",
       "      <th>1574</th>\n",
       "      <td>0063600000GVNJa</td>\n",
       "      <td>Pledge</td>\n",
       "      <td>0.0</td>\n",
       "      <td>2016-12-30</td>\n",
       "      <td>0013600000VKRZd</td>\n",
       "      <td>Individual</td>\n",
       "      <td>0033600000NZkkJ</td>\n",
       "      <td>100000.00</td>\n",
       "      <td>25th Anniversary Capital Campaign</td>\n",
       "      <td>NaN</td>\n",
       "      <td>...</td>\n",
       "      <td>0.0</td>\n",
       "      <td>NaN</td>\n",
       "      <td>0.0</td>\n",
       "      <td>nan</td>\n",
       "      <td>NaN</td>\n",
       "      <td>5.0</td>\n",
       "      <td>RICHMOND</td>\n",
       "      <td>VA</td>\n",
       "      <td>23229</td>\n",
       "      <td>Outside of Campaign Period (S24)</td>\n",
       "    </tr>\n",
       "    <tr>\n",
       "      <th>1751</th>\n",
       "      <td>0063600000eiOyq</td>\n",
       "      <td>Pledge</td>\n",
       "      <td>0.0</td>\n",
       "      <td>2018-05-02</td>\n",
       "      <td>0013600000VKQqJ</td>\n",
       "      <td>Household</td>\n",
       "      <td>0033600000NZkqA</td>\n",
       "      <td>2500.00</td>\n",
       "      <td>Annual Fund</td>\n",
       "      <td>NaN</td>\n",
       "      <td>...</td>\n",
       "      <td>0.0</td>\n",
       "      <td>NaN</td>\n",
       "      <td>0.0</td>\n",
       "      <td>nan</td>\n",
       "      <td>NaN</td>\n",
       "      <td>2.0</td>\n",
       "      <td>Richmond</td>\n",
       "      <td>VA</td>\n",
       "      <td>23222</td>\n",
       "      <td>Outside of Campaign Period (S25)</td>\n",
       "    </tr>\n",
       "    <tr>\n",
       "      <th>1763</th>\n",
       "      <td>0063600000EdAey</td>\n",
       "      <td>Pledge</td>\n",
       "      <td>0.0</td>\n",
       "      <td>2016-07-29</td>\n",
       "      <td>0013600000VKRG9</td>\n",
       "      <td>Individual</td>\n",
       "      <td>0033600000NZkRL</td>\n",
       "      <td>420.00</td>\n",
       "      <td>Annual Fund</td>\n",
       "      <td>NaN</td>\n",
       "      <td>...</td>\n",
       "      <td>0.0</td>\n",
       "      <td>NaN</td>\n",
       "      <td>0.0</td>\n",
       "      <td>nan</td>\n",
       "      <td>NaN</td>\n",
       "      <td>0.0</td>\n",
       "      <td>Richmond</td>\n",
       "      <td>VA</td>\n",
       "      <td>23228-5548</td>\n",
       "      <td>Outside of Campaign Period (S24)</td>\n",
       "    </tr>\n",
       "    <tr>\n",
       "      <th>1818</th>\n",
       "      <td>0063600000BpB8M</td>\n",
       "      <td>Pledge</td>\n",
       "      <td>0.0</td>\n",
       "      <td>2015-11-25</td>\n",
       "      <td>0013600000VKR8S</td>\n",
       "      <td>Individual</td>\n",
       "      <td>0033600000NZkqY</td>\n",
       "      <td>720.00</td>\n",
       "      <td>NaN</td>\n",
       "      <td>NaN</td>\n",
       "      <td>...</td>\n",
       "      <td>0.0</td>\n",
       "      <td>NaN</td>\n",
       "      <td>0.0</td>\n",
       "      <td>nan</td>\n",
       "      <td>NaN</td>\n",
       "      <td>0.0</td>\n",
       "      <td>Richmond</td>\n",
       "      <td>VA</td>\n",
       "      <td>23228-5548</td>\n",
       "      <td>Outside of Campaign Period (S23)</td>\n",
       "    </tr>\n",
       "    <tr>\n",
       "      <th>1916</th>\n",
       "      <td>0061R00000q863b</td>\n",
       "      <td>Pledge</td>\n",
       "      <td>0.0</td>\n",
       "      <td>2019-06-18</td>\n",
       "      <td>0013600000VKRcL</td>\n",
       "      <td>Individual</td>\n",
       "      <td>0033600000NZkMG</td>\n",
       "      <td>500.00</td>\n",
       "      <td>Annual Fund</td>\n",
       "      <td>NaN</td>\n",
       "      <td>...</td>\n",
       "      <td>0.0</td>\n",
       "      <td>NaN</td>\n",
       "      <td>0.0</td>\n",
       "      <td>nan</td>\n",
       "      <td>NaN</td>\n",
       "      <td>1.0</td>\n",
       "      <td>Richmond</td>\n",
       "      <td>VA</td>\n",
       "      <td>23220-3526</td>\n",
       "      <td>Spring 2019 Annual Fund Appeal (S26)</td>\n",
       "    </tr>\n",
       "    <tr>\n",
       "      <th>1965</th>\n",
       "      <td>0063600000BpB8z</td>\n",
       "      <td>Pledge</td>\n",
       "      <td>0.0</td>\n",
       "      <td>2016-01-18</td>\n",
       "      <td>0013600000VKRmy</td>\n",
       "      <td>Individual</td>\n",
       "      <td>0033600000NZkWg</td>\n",
       "      <td>25000.00</td>\n",
       "      <td>NaN</td>\n",
       "      <td>NaN</td>\n",
       "      <td>...</td>\n",
       "      <td>0.0</td>\n",
       "      <td>NaN</td>\n",
       "      <td>0.0</td>\n",
       "      <td>nan</td>\n",
       "      <td>NaN</td>\n",
       "      <td>3.0</td>\n",
       "      <td>Richmond</td>\n",
       "      <td>VA</td>\n",
       "      <td>23220</td>\n",
       "      <td>Outside of Campaign Period (S23)</td>\n",
       "    </tr>\n",
       "    <tr>\n",
       "      <th>2409</th>\n",
       "      <td>0063p00000x39lI</td>\n",
       "      <td>Pledge</td>\n",
       "      <td>0.0</td>\n",
       "      <td>2020-06-15</td>\n",
       "      <td>0013600000VKQlg</td>\n",
       "      <td>Government</td>\n",
       "      <td>0033600001nRzJP</td>\n",
       "      <td>2000.00</td>\n",
       "      <td>Annual Fund</td>\n",
       "      <td>NaN</td>\n",
       "      <td>...</td>\n",
       "      <td>0.0</td>\n",
       "      <td>NaN</td>\n",
       "      <td>0.0</td>\n",
       "      <td>nan</td>\n",
       "      <td>NaN</td>\n",
       "      <td>0.0</td>\n",
       "      <td>Richmond</td>\n",
       "      <td>VA</td>\n",
       "      <td>23219</td>\n",
       "      <td>Spring 2020 Annual Fund Appeal (S27)</td>\n",
       "    </tr>\n",
       "    <tr>\n",
       "      <th>2498</th>\n",
       "      <td>0063600000BpB8f</td>\n",
       "      <td>Pledge</td>\n",
       "      <td>0.0</td>\n",
       "      <td>2015-12-30</td>\n",
       "      <td>0013600000VKROV</td>\n",
       "      <td>Individual</td>\n",
       "      <td>0033600000NZjpi</td>\n",
       "      <td>500.00</td>\n",
       "      <td>NaN</td>\n",
       "      <td>NaN</td>\n",
       "      <td>...</td>\n",
       "      <td>0.0</td>\n",
       "      <td>NaN</td>\n",
       "      <td>0.0</td>\n",
       "      <td>nan</td>\n",
       "      <td>NaN</td>\n",
       "      <td>0.0</td>\n",
       "      <td>North Chesterfield</td>\n",
       "      <td>VA</td>\n",
       "      <td>23235-5161</td>\n",
       "      <td>Outside of Campaign Period (S23)</td>\n",
       "    </tr>\n",
       "    <tr>\n",
       "      <th>2500</th>\n",
       "      <td>0063600000BpB8c</td>\n",
       "      <td>Pledge</td>\n",
       "      <td>0.0</td>\n",
       "      <td>2016-06-25</td>\n",
       "      <td>0013600000VKRGU</td>\n",
       "      <td>Household</td>\n",
       "      <td>0033600000NZjrA</td>\n",
       "      <td>2500.00</td>\n",
       "      <td>NaN</td>\n",
       "      <td>NaN</td>\n",
       "      <td>...</td>\n",
       "      <td>0.0</td>\n",
       "      <td>NaN</td>\n",
       "      <td>0.0</td>\n",
       "      <td>nan</td>\n",
       "      <td>NaN</td>\n",
       "      <td>0.0</td>\n",
       "      <td>Richmond</td>\n",
       "      <td>VA</td>\n",
       "      <td>23230</td>\n",
       "      <td>Outside of Campaign Period (S23)</td>\n",
       "    </tr>\n",
       "    <tr>\n",
       "      <th>2511</th>\n",
       "      <td>0063p00000whX5O</td>\n",
       "      <td>Pledge</td>\n",
       "      <td>0.0</td>\n",
       "      <td>2020-05-16</td>\n",
       "      <td>0013600000VKQmI</td>\n",
       "      <td>Household</td>\n",
       "      <td>0033600000NZk02</td>\n",
       "      <td>57.72</td>\n",
       "      <td>Annual Fund</td>\n",
       "      <td>NaN</td>\n",
       "      <td>...</td>\n",
       "      <td>0.0</td>\n",
       "      <td>NaN</td>\n",
       "      <td>0.0</td>\n",
       "      <td>nan</td>\n",
       "      <td>NaN</td>\n",
       "      <td>5.0</td>\n",
       "      <td>Richmond</td>\n",
       "      <td>VA</td>\n",
       "      <td>23222</td>\n",
       "      <td>Outside of Campaign Period (S27)</td>\n",
       "    </tr>\n",
       "    <tr>\n",
       "      <th>2512</th>\n",
       "      <td>0063p00000whX5J</td>\n",
       "      <td>Pledge</td>\n",
       "      <td>0.0</td>\n",
       "      <td>2020-05-16</td>\n",
       "      <td>0013600000VKQmI</td>\n",
       "      <td>Household</td>\n",
       "      <td>0033600000NZk02</td>\n",
       "      <td>115.44</td>\n",
       "      <td>Annual Fund</td>\n",
       "      <td>NaN</td>\n",
       "      <td>...</td>\n",
       "      <td>0.0</td>\n",
       "      <td>NaN</td>\n",
       "      <td>0.0</td>\n",
       "      <td>nan</td>\n",
       "      <td>NaN</td>\n",
       "      <td>5.0</td>\n",
       "      <td>Richmond</td>\n",
       "      <td>VA</td>\n",
       "      <td>23222</td>\n",
       "      <td>Outside of Campaign Period (S27)</td>\n",
       "    </tr>\n",
       "    <tr>\n",
       "      <th>2520</th>\n",
       "      <td>0063p00000wN6BV</td>\n",
       "      <td>Pledge</td>\n",
       "      <td>0.0</td>\n",
       "      <td>2020-04-27</td>\n",
       "      <td>0013600000VKQmI</td>\n",
       "      <td>Household</td>\n",
       "      <td>0033600000NZk02</td>\n",
       "      <td>100.00</td>\n",
       "      <td>Annual Fund</td>\n",
       "      <td>NaN</td>\n",
       "      <td>...</td>\n",
       "      <td>0.0</td>\n",
       "      <td>NaN</td>\n",
       "      <td>0.0</td>\n",
       "      <td>nan</td>\n",
       "      <td>NaN</td>\n",
       "      <td>5.0</td>\n",
       "      <td>Richmond</td>\n",
       "      <td>VA</td>\n",
       "      <td>23222</td>\n",
       "      <td>Outside of Campaign Period (S27)</td>\n",
       "    </tr>\n",
       "    <tr>\n",
       "      <th>2521</th>\n",
       "      <td>0063p00000wN6BQ</td>\n",
       "      <td>Pledge</td>\n",
       "      <td>0.0</td>\n",
       "      <td>2020-04-27</td>\n",
       "      <td>0013600000VKQmI</td>\n",
       "      <td>Household</td>\n",
       "      <td>0033600000NZk02</td>\n",
       "      <td>200.00</td>\n",
       "      <td>Annual Fund</td>\n",
       "      <td>NaN</td>\n",
       "      <td>...</td>\n",
       "      <td>0.0</td>\n",
       "      <td>NaN</td>\n",
       "      <td>0.0</td>\n",
       "      <td>nan</td>\n",
       "      <td>NaN</td>\n",
       "      <td>5.0</td>\n",
       "      <td>Richmond</td>\n",
       "      <td>VA</td>\n",
       "      <td>23222</td>\n",
       "      <td>Outside of Campaign Period (S27)</td>\n",
       "    </tr>\n",
       "    <tr>\n",
       "      <th>2523</th>\n",
       "      <td>0063p00000tnDiD</td>\n",
       "      <td>Pledge</td>\n",
       "      <td>0.0</td>\n",
       "      <td>2020-02-20</td>\n",
       "      <td>0013600000VKQmI</td>\n",
       "      <td>Household</td>\n",
       "      <td>0033600000NZk02</td>\n",
       "      <td>50.00</td>\n",
       "      <td>Annual Fund</td>\n",
       "      <td>NaN</td>\n",
       "      <td>...</td>\n",
       "      <td>0.0</td>\n",
       "      <td>NaN</td>\n",
       "      <td>0.0</td>\n",
       "      <td>nan</td>\n",
       "      <td>NaN</td>\n",
       "      <td>5.0</td>\n",
       "      <td>Richmond</td>\n",
       "      <td>VA</td>\n",
       "      <td>23222</td>\n",
       "      <td>Outside of Campaign Period (S27)</td>\n",
       "    </tr>\n",
       "    <tr>\n",
       "      <th>2524</th>\n",
       "      <td>0063p00000tnA4Z</td>\n",
       "      <td>Pledge</td>\n",
       "      <td>0.0</td>\n",
       "      <td>2020-01-30</td>\n",
       "      <td>0013600000VKQmI</td>\n",
       "      <td>Household</td>\n",
       "      <td>0033600000NZk02</td>\n",
       "      <td>1500.00</td>\n",
       "      <td>Annual Fund</td>\n",
       "      <td>NaN</td>\n",
       "      <td>...</td>\n",
       "      <td>0.0</td>\n",
       "      <td>NaN</td>\n",
       "      <td>0.0</td>\n",
       "      <td>nan</td>\n",
       "      <td>NaN</td>\n",
       "      <td>5.0</td>\n",
       "      <td>Richmond</td>\n",
       "      <td>VA</td>\n",
       "      <td>23222</td>\n",
       "      <td>Fall 2019 Annual Fund Appeal (S27)</td>\n",
       "    </tr>\n",
       "    <tr>\n",
       "      <th>2532</th>\n",
       "      <td>0063600000BpB8T</td>\n",
       "      <td>Pledge</td>\n",
       "      <td>0.0</td>\n",
       "      <td>2015-02-04</td>\n",
       "      <td>0013600000VKQmI</td>\n",
       "      <td>Household</td>\n",
       "      <td>0033600000NZk02</td>\n",
       "      <td>2500.00</td>\n",
       "      <td>NaN</td>\n",
       "      <td>NaN</td>\n",
       "      <td>...</td>\n",
       "      <td>0.0</td>\n",
       "      <td>NaN</td>\n",
       "      <td>0.0</td>\n",
       "      <td>nan</td>\n",
       "      <td>NaN</td>\n",
       "      <td>5.0</td>\n",
       "      <td>Richmond</td>\n",
       "      <td>VA</td>\n",
       "      <td>23222</td>\n",
       "      <td>Outside of Campaign Period (S22)</td>\n",
       "    </tr>\n",
       "    <tr>\n",
       "      <th>2533</th>\n",
       "      <td>0063600000BpB8S</td>\n",
       "      <td>Pledge</td>\n",
       "      <td>0.0</td>\n",
       "      <td>2015-02-04</td>\n",
       "      <td>0013600000VKQmI</td>\n",
       "      <td>Household</td>\n",
       "      <td>0033600000NZk02</td>\n",
       "      <td>1200.00</td>\n",
       "      <td>NaN</td>\n",
       "      <td>NaN</td>\n",
       "      <td>...</td>\n",
       "      <td>0.0</td>\n",
       "      <td>NaN</td>\n",
       "      <td>0.0</td>\n",
       "      <td>nan</td>\n",
       "      <td>NaN</td>\n",
       "      <td>5.0</td>\n",
       "      <td>Richmond</td>\n",
       "      <td>VA</td>\n",
       "      <td>23222</td>\n",
       "      <td>Outside of Campaign Period (S22)</td>\n",
       "    </tr>\n",
       "    <tr>\n",
       "      <th>2537</th>\n",
       "      <td>0061R00000qyG0e</td>\n",
       "      <td>Pledge</td>\n",
       "      <td>0.0</td>\n",
       "      <td>2019-07-07</td>\n",
       "      <td>0013600000VKQmI</td>\n",
       "      <td>Household</td>\n",
       "      <td>0033600000NZk02</td>\n",
       "      <td>300.00</td>\n",
       "      <td>Annual Fund</td>\n",
       "      <td>NaN</td>\n",
       "      <td>...</td>\n",
       "      <td>0.0</td>\n",
       "      <td>NaN</td>\n",
       "      <td>0.0</td>\n",
       "      <td>nan</td>\n",
       "      <td>NaN</td>\n",
       "      <td>5.0</td>\n",
       "      <td>Richmond</td>\n",
       "      <td>VA</td>\n",
       "      <td>23222</td>\n",
       "      <td>Spring 2019 Annual Fund Appeal (S26)</td>\n",
       "    </tr>\n",
       "    <tr>\n",
       "      <th>2590</th>\n",
       "      <td>0063600000BpB8K</td>\n",
       "      <td>Pledge</td>\n",
       "      <td>0.0</td>\n",
       "      <td>2015-05-26</td>\n",
       "      <td>0013600000VKR6T</td>\n",
       "      <td>Individual</td>\n",
       "      <td>0033600000NZk0j</td>\n",
       "      <td>1000.00</td>\n",
       "      <td>NaN</td>\n",
       "      <td>NaN</td>\n",
       "      <td>...</td>\n",
       "      <td>0.0</td>\n",
       "      <td>NaN</td>\n",
       "      <td>0.0</td>\n",
       "      <td>nan</td>\n",
       "      <td>NaN</td>\n",
       "      <td>1.0</td>\n",
       "      <td>Richmond</td>\n",
       "      <td>VA</td>\n",
       "      <td>23226-1750</td>\n",
       "      <td>Outside of Campaign Period (S22)</td>\n",
       "    </tr>\n",
       "    <tr>\n",
       "      <th>2591</th>\n",
       "      <td>0063600000BpB8J</td>\n",
       "      <td>Pledge</td>\n",
       "      <td>0.0</td>\n",
       "      <td>2015-07-07</td>\n",
       "      <td>0013600000VKR6T</td>\n",
       "      <td>Individual</td>\n",
       "      <td>0033600000NZk0j</td>\n",
       "      <td>10000.00</td>\n",
       "      <td>NaN</td>\n",
       "      <td>NaN</td>\n",
       "      <td>...</td>\n",
       "      <td>0.0</td>\n",
       "      <td>NaN</td>\n",
       "      <td>0.0</td>\n",
       "      <td>nan</td>\n",
       "      <td>NaN</td>\n",
       "      <td>1.0</td>\n",
       "      <td>Richmond</td>\n",
       "      <td>VA</td>\n",
       "      <td>23226-1750</td>\n",
       "      <td>Outside of Campaign Period (S23)</td>\n",
       "    </tr>\n",
       "    <tr>\n",
       "      <th>2592</th>\n",
       "      <td>0063600000BpB8I</td>\n",
       "      <td>Pledge</td>\n",
       "      <td>0.0</td>\n",
       "      <td>2015-07-07</td>\n",
       "      <td>0013600000VKR6T</td>\n",
       "      <td>Individual</td>\n",
       "      <td>0033600000NZk0j</td>\n",
       "      <td>3000.00</td>\n",
       "      <td>NaN</td>\n",
       "      <td>NaN</td>\n",
       "      <td>...</td>\n",
       "      <td>0.0</td>\n",
       "      <td>NaN</td>\n",
       "      <td>0.0</td>\n",
       "      <td>nan</td>\n",
       "      <td>NaN</td>\n",
       "      <td>1.0</td>\n",
       "      <td>Richmond</td>\n",
       "      <td>VA</td>\n",
       "      <td>23226-1750</td>\n",
       "      <td>Outside of Campaign Period (S23)</td>\n",
       "    </tr>\n",
       "    <tr>\n",
       "      <th>2641</th>\n",
       "      <td>0063600000BpB8w</td>\n",
       "      <td>Pledge</td>\n",
       "      <td>0.0</td>\n",
       "      <td>2015-08-03</td>\n",
       "      <td>0013600000VKQoC</td>\n",
       "      <td>Household</td>\n",
       "      <td>0033600000NZjwz</td>\n",
       "      <td>6000.00</td>\n",
       "      <td>25th Anniversary Capital Campaign</td>\n",
       "      <td>NaN</td>\n",
       "      <td>...</td>\n",
       "      <td>0.0</td>\n",
       "      <td>NaN</td>\n",
       "      <td>0.0</td>\n",
       "      <td>nan</td>\n",
       "      <td>NaN</td>\n",
       "      <td>3.0</td>\n",
       "      <td>Richmond</td>\n",
       "      <td>VA</td>\n",
       "      <td>23225</td>\n",
       "      <td>Outside of Campaign Period (S23)</td>\n",
       "    </tr>\n",
       "    <tr>\n",
       "      <th>2696</th>\n",
       "      <td>0063p00000tnA45</td>\n",
       "      <td>Pledge</td>\n",
       "      <td>0.0</td>\n",
       "      <td>2020-01-15</td>\n",
       "      <td>0013600000VKQlO</td>\n",
       "      <td>Individual</td>\n",
       "      <td>0033600000NZjZS</td>\n",
       "      <td>1500.00</td>\n",
       "      <td>Annual Fund</td>\n",
       "      <td>NaN</td>\n",
       "      <td>...</td>\n",
       "      <td>0.0</td>\n",
       "      <td>NaN</td>\n",
       "      <td>0.0</td>\n",
       "      <td>nan</td>\n",
       "      <td>NaN</td>\n",
       "      <td>0.0</td>\n",
       "      <td>Richmond</td>\n",
       "      <td>VA</td>\n",
       "      <td>23225-3502</td>\n",
       "      <td>Fall 2019 Annual Fund Appeal (S27)</td>\n",
       "    </tr>\n",
       "    <tr>\n",
       "      <th>2810</th>\n",
       "      <td>0063600000JucWd</td>\n",
       "      <td>Pledge</td>\n",
       "      <td>0.0</td>\n",
       "      <td>2017-04-17</td>\n",
       "      <td>0013600000VKQkx</td>\n",
       "      <td>Household</td>\n",
       "      <td>0033600000NZja6</td>\n",
       "      <td>750.00</td>\n",
       "      <td>25th Anniversary Capital Campaign</td>\n",
       "      <td>NaN</td>\n",
       "      <td>...</td>\n",
       "      <td>0.0</td>\n",
       "      <td>NaN</td>\n",
       "      <td>0.0</td>\n",
       "      <td>nan</td>\n",
       "      <td>NaN</td>\n",
       "      <td>2.0</td>\n",
       "      <td>Richmond</td>\n",
       "      <td>VA</td>\n",
       "      <td>23226</td>\n",
       "      <td>Outside of Campaign Period (S24)</td>\n",
       "    </tr>\n",
       "    <tr>\n",
       "      <th>2811</th>\n",
       "      <td>0063600000JucWE</td>\n",
       "      <td>Pledge</td>\n",
       "      <td>0.0</td>\n",
       "      <td>2017-04-17</td>\n",
       "      <td>0013600000VKQkx</td>\n",
       "      <td>Household</td>\n",
       "      <td>0033600000NZja6</td>\n",
       "      <td>2500.00</td>\n",
       "      <td>25th Anniversary Capital Campaign</td>\n",
       "      <td>NaN</td>\n",
       "      <td>...</td>\n",
       "      <td>0.0</td>\n",
       "      <td>NaN</td>\n",
       "      <td>0.0</td>\n",
       "      <td>nan</td>\n",
       "      <td>NaN</td>\n",
       "      <td>2.0</td>\n",
       "      <td>Richmond</td>\n",
       "      <td>VA</td>\n",
       "      <td>23226</td>\n",
       "      <td>Outside of Campaign Period (S24)</td>\n",
       "    </tr>\n",
       "    <tr>\n",
       "      <th>3189</th>\n",
       "      <td>0063600000Pwxe9</td>\n",
       "      <td>Pledge</td>\n",
       "      <td>0.0</td>\n",
       "      <td>2017-08-28</td>\n",
       "      <td>0013600000VKR9b</td>\n",
       "      <td>Household</td>\n",
       "      <td>0033600000NZkIA</td>\n",
       "      <td>10000.00</td>\n",
       "      <td>25th Anniversary Capital Campaign</td>\n",
       "      <td>NaN</td>\n",
       "      <td>...</td>\n",
       "      <td>0.0</td>\n",
       "      <td>NaN</td>\n",
       "      <td>0.0</td>\n",
       "      <td>nan</td>\n",
       "      <td>NaN</td>\n",
       "      <td>2.0</td>\n",
       "      <td>Richmond</td>\n",
       "      <td>VA</td>\n",
       "      <td>23231</td>\n",
       "      <td>Outside of Campaign Period (S25)</td>\n",
       "    </tr>\n",
       "    <tr>\n",
       "      <th>3205</th>\n",
       "      <td>0063600000BpB8F</td>\n",
       "      <td>Pledge</td>\n",
       "      <td>0.0</td>\n",
       "      <td>2015-08-03</td>\n",
       "      <td>0013600000VKQnl</td>\n",
       "      <td>Household</td>\n",
       "      <td>0033600000NZkIV</td>\n",
       "      <td>500.00</td>\n",
       "      <td>NaN</td>\n",
       "      <td>NaN</td>\n",
       "      <td>...</td>\n",
       "      <td>0.0</td>\n",
       "      <td>NaN</td>\n",
       "      <td>0.0</td>\n",
       "      <td>nan</td>\n",
       "      <td>NaN</td>\n",
       "      <td>0.0</td>\n",
       "      <td>Powhatan</td>\n",
       "      <td>VA</td>\n",
       "      <td>23139</td>\n",
       "      <td>Outside of Campaign Period (S23)</td>\n",
       "    </tr>\n",
       "    <tr>\n",
       "      <th>3226</th>\n",
       "      <td>0061R00000q9Chv</td>\n",
       "      <td>Pledge</td>\n",
       "      <td>0.0</td>\n",
       "      <td>2019-06-30</td>\n",
       "      <td>0013600000VKQlo</td>\n",
       "      <td>Household</td>\n",
       "      <td>0033600000NZk7k</td>\n",
       "      <td>4550.00</td>\n",
       "      <td>Annual Fund</td>\n",
       "      <td>NaN</td>\n",
       "      <td>...</td>\n",
       "      <td>0.0</td>\n",
       "      <td>NaN</td>\n",
       "      <td>0.0</td>\n",
       "      <td>nan</td>\n",
       "      <td>NaN</td>\n",
       "      <td>13.0</td>\n",
       "      <td>Richmond</td>\n",
       "      <td>VA</td>\n",
       "      <td>23230</td>\n",
       "      <td>Spring 2019 Annual Fund Appeal (S26)</td>\n",
       "    </tr>\n",
       "    <tr>\n",
       "      <th>3242</th>\n",
       "      <td>0063600000BpB8n</td>\n",
       "      <td>Pledge</td>\n",
       "      <td>0.0</td>\n",
       "      <td>2014-12-15</td>\n",
       "      <td>0013600000VKRb8</td>\n",
       "      <td>Business</td>\n",
       "      <td>0033600000NZkH0</td>\n",
       "      <td>50000.00</td>\n",
       "      <td>NaN</td>\n",
       "      <td>NaN</td>\n",
       "      <td>...</td>\n",
       "      <td>0.0</td>\n",
       "      <td>NaN</td>\n",
       "      <td>0.0</td>\n",
       "      <td>nan</td>\n",
       "      <td>NaN</td>\n",
       "      <td>0.0</td>\n",
       "      <td>Richmond</td>\n",
       "      <td>VA</td>\n",
       "      <td>23219-4037</td>\n",
       "      <td>Outside of Campaign Period (S22)</td>\n",
       "    </tr>\n",
       "    <tr>\n",
       "      <th>3251</th>\n",
       "      <td>0061R00000qyFoI</td>\n",
       "      <td>Pledge</td>\n",
       "      <td>0.0</td>\n",
       "      <td>2019-07-07</td>\n",
       "      <td>0013600000VKR6q</td>\n",
       "      <td>Business</td>\n",
       "      <td>0033600000NZkHD</td>\n",
       "      <td>425.00</td>\n",
       "      <td>Advertiser</td>\n",
       "      <td>NaN</td>\n",
       "      <td>...</td>\n",
       "      <td>0.0</td>\n",
       "      <td>NaN</td>\n",
       "      <td>0.0</td>\n",
       "      <td>nan</td>\n",
       "      <td>NaN</td>\n",
       "      <td>0.0</td>\n",
       "      <td>Richmond</td>\n",
       "      <td>VA</td>\n",
       "      <td>23221</td>\n",
       "      <td>Outside of Campaign Period (S27)</td>\n",
       "    </tr>\n",
       "    <tr>\n",
       "      <th>3258</th>\n",
       "      <td>0063600000BpB8N</td>\n",
       "      <td>Pledge</td>\n",
       "      <td>0.0</td>\n",
       "      <td>2014-10-30</td>\n",
       "      <td>0013600000VKR96</td>\n",
       "      <td>Business</td>\n",
       "      <td>0033600000NZkHR</td>\n",
       "      <td>10000.00</td>\n",
       "      <td>NaN</td>\n",
       "      <td>NaN</td>\n",
       "      <td>...</td>\n",
       "      <td>0.0</td>\n",
       "      <td>NaN</td>\n",
       "      <td>0.0</td>\n",
       "      <td>nan</td>\n",
       "      <td>NaN</td>\n",
       "      <td>0.0</td>\n",
       "      <td>Santa Rosa</td>\n",
       "      <td>CA</td>\n",
       "      <td>95403</td>\n",
       "      <td>Outside of Campaign Period (S22)</td>\n",
       "    </tr>\n",
       "    <tr>\n",
       "      <th>3297</th>\n",
       "      <td>0063600000JJNce</td>\n",
       "      <td>Pledge</td>\n",
       "      <td>0.0</td>\n",
       "      <td>2017-03-24</td>\n",
       "      <td>0013600000VKQm7</td>\n",
       "      <td>Household</td>\n",
       "      <td>0033600000NZk5e</td>\n",
       "      <td>25000.00</td>\n",
       "      <td>25th Anniversary Capital Campaign</td>\n",
       "      <td>NaN</td>\n",
       "      <td>...</td>\n",
       "      <td>0.0</td>\n",
       "      <td>NaN</td>\n",
       "      <td>0.0</td>\n",
       "      <td>nan</td>\n",
       "      <td>NaN</td>\n",
       "      <td>3.0</td>\n",
       "      <td>Richmond</td>\n",
       "      <td>VA</td>\n",
       "      <td>23226</td>\n",
       "      <td>Outside of Campaign Period (S24)</td>\n",
       "    </tr>\n",
       "    <tr>\n",
       "      <th>3310</th>\n",
       "      <td>0063p00000tnA46</td>\n",
       "      <td>Pledge</td>\n",
       "      <td>0.0</td>\n",
       "      <td>2020-01-15</td>\n",
       "      <td>0013600000VKRpL</td>\n",
       "      <td>Individual</td>\n",
       "      <td>0033600000NZk5H</td>\n",
       "      <td>2400.00</td>\n",
       "      <td>Annual Fund</td>\n",
       "      <td>NaN</td>\n",
       "      <td>...</td>\n",
       "      <td>0.0</td>\n",
       "      <td>NaN</td>\n",
       "      <td>0.0</td>\n",
       "      <td>nan</td>\n",
       "      <td>NaN</td>\n",
       "      <td>2.0</td>\n",
       "      <td>Richmond</td>\n",
       "      <td>VA</td>\n",
       "      <td>23221</td>\n",
       "      <td>Fall 2019 Annual Fund Appeal (S27)</td>\n",
       "    </tr>\n",
       "    <tr>\n",
       "      <th>3311</th>\n",
       "      <td>0063p00000tn4rx</td>\n",
       "      <td>Pledge</td>\n",
       "      <td>0.0</td>\n",
       "      <td>2019-12-26</td>\n",
       "      <td>0013600000VKRpL</td>\n",
       "      <td>Individual</td>\n",
       "      <td>0033600000NZk5H</td>\n",
       "      <td>2400.00</td>\n",
       "      <td>Annual Fund</td>\n",
       "      <td>NaN</td>\n",
       "      <td>...</td>\n",
       "      <td>0.0</td>\n",
       "      <td>NaN</td>\n",
       "      <td>0.0</td>\n",
       "      <td>nan</td>\n",
       "      <td>NaN</td>\n",
       "      <td>2.0</td>\n",
       "      <td>Richmond</td>\n",
       "      <td>VA</td>\n",
       "      <td>23221</td>\n",
       "      <td>Fall 2019 Annual Fund Appeal (S27)</td>\n",
       "    </tr>\n",
       "    <tr>\n",
       "      <th>3312</th>\n",
       "      <td>0063600000hgZh2</td>\n",
       "      <td>Pledge</td>\n",
       "      <td>0.0</td>\n",
       "      <td>2018-08-17</td>\n",
       "      <td>0013600000VKRpL</td>\n",
       "      <td>Individual</td>\n",
       "      <td>0033600000NZk5H</td>\n",
       "      <td>2400.00</td>\n",
       "      <td>Annual Fund</td>\n",
       "      <td>NaN</td>\n",
       "      <td>...</td>\n",
       "      <td>0.0</td>\n",
       "      <td>NaN</td>\n",
       "      <td>0.0</td>\n",
       "      <td>nan</td>\n",
       "      <td>NaN</td>\n",
       "      <td>2.0</td>\n",
       "      <td>Richmond</td>\n",
       "      <td>VA</td>\n",
       "      <td>23221</td>\n",
       "      <td>Outside of Campaign Period (S26)</td>\n",
       "    </tr>\n",
       "    <tr>\n",
       "      <th>3317</th>\n",
       "      <td>0063600000BpB91</td>\n",
       "      <td>Pledge</td>\n",
       "      <td>0.0</td>\n",
       "      <td>2015-05-26</td>\n",
       "      <td>0013600000VKRpL</td>\n",
       "      <td>Individual</td>\n",
       "      <td>0033600000NZk5H</td>\n",
       "      <td>5000.00</td>\n",
       "      <td>NaN</td>\n",
       "      <td>NaN</td>\n",
       "      <td>...</td>\n",
       "      <td>0.0</td>\n",
       "      <td>NaN</td>\n",
       "      <td>0.0</td>\n",
       "      <td>nan</td>\n",
       "      <td>NaN</td>\n",
       "      <td>2.0</td>\n",
       "      <td>Richmond</td>\n",
       "      <td>VA</td>\n",
       "      <td>23221</td>\n",
       "      <td>Outside of Campaign Period (S22)</td>\n",
       "    </tr>\n",
       "    <tr>\n",
       "      <th>3318</th>\n",
       "      <td>0063600000BpB90</td>\n",
       "      <td>Pledge</td>\n",
       "      <td>0.0</td>\n",
       "      <td>2015-05-26</td>\n",
       "      <td>0013600000VKRpL</td>\n",
       "      <td>Individual</td>\n",
       "      <td>0033600000NZk5H</td>\n",
       "      <td>5000.00</td>\n",
       "      <td>NaN</td>\n",
       "      <td>NaN</td>\n",
       "      <td>...</td>\n",
       "      <td>0.0</td>\n",
       "      <td>NaN</td>\n",
       "      <td>0.0</td>\n",
       "      <td>nan</td>\n",
       "      <td>NaN</td>\n",
       "      <td>2.0</td>\n",
       "      <td>Richmond</td>\n",
       "      <td>VA</td>\n",
       "      <td>23221</td>\n",
       "      <td>Outside of Campaign Period (S22)</td>\n",
       "    </tr>\n",
       "    <tr>\n",
       "      <th>4008</th>\n",
       "      <td>0063600000FhDtM</td>\n",
       "      <td>Pledge</td>\n",
       "      <td>0.0</td>\n",
       "      <td>2016-08-14</td>\n",
       "      <td>0013600000VKQlq</td>\n",
       "      <td>Household</td>\n",
       "      <td>0033600000VY5hZ</td>\n",
       "      <td>1000.00</td>\n",
       "      <td>NaN</td>\n",
       "      <td>NaN</td>\n",
       "      <td>...</td>\n",
       "      <td>0.0</td>\n",
       "      <td>NaN</td>\n",
       "      <td>0.0</td>\n",
       "      <td>nan</td>\n",
       "      <td>NaN</td>\n",
       "      <td>5.0</td>\n",
       "      <td>Richmond</td>\n",
       "      <td>VA</td>\n",
       "      <td>23221</td>\n",
       "      <td>Outside of Campaign Period (S24)</td>\n",
       "    </tr>\n",
       "    <tr>\n",
       "      <th>4020</th>\n",
       "      <td>0063600000BpB8W</td>\n",
       "      <td>Pledge</td>\n",
       "      <td>0.0</td>\n",
       "      <td>2015-12-18</td>\n",
       "      <td>0013600000ggdKh</td>\n",
       "      <td>Individual</td>\n",
       "      <td>0033600000VY5oZ</td>\n",
       "      <td>250.00</td>\n",
       "      <td>NaN</td>\n",
       "      <td>NaN</td>\n",
       "      <td>...</td>\n",
       "      <td>0.0</td>\n",
       "      <td>NaN</td>\n",
       "      <td>0.0</td>\n",
       "      <td>nan</td>\n",
       "      <td>NaN</td>\n",
       "      <td>0.0</td>\n",
       "      <td>Richmond</td>\n",
       "      <td>VA</td>\n",
       "      <td>23235</td>\n",
       "      <td>Outside of Campaign Period (S23)</td>\n",
       "    </tr>\n",
       "    <tr>\n",
       "      <th>4115</th>\n",
       "      <td>0063600000BpB8a</td>\n",
       "      <td>Pledge</td>\n",
       "      <td>0.0</td>\n",
       "      <td>2015-06-29</td>\n",
       "      <td>0013600000VKRGW</td>\n",
       "      <td>Individual</td>\n",
       "      <td>0033600000VY5eM</td>\n",
       "      <td>50000.00</td>\n",
       "      <td>NaN</td>\n",
       "      <td>NaN</td>\n",
       "      <td>...</td>\n",
       "      <td>0.0</td>\n",
       "      <td>NaN</td>\n",
       "      <td>0.0</td>\n",
       "      <td>nan</td>\n",
       "      <td>NaN</td>\n",
       "      <td>1.0</td>\n",
       "      <td>Richmond</td>\n",
       "      <td>VA</td>\n",
       "      <td>23226</td>\n",
       "      <td>Outside of Campaign Period (S22)</td>\n",
       "    </tr>\n",
       "  </tbody>\n",
       "</table>\n",
       "<p>43 rows × 48 columns</p>\n",
       "</div>"
      ],
      "text/plain": [
       "          donation_id donation_record_type  amount close_date  \\\n",
       "1517  0063600000BpB9G               Pledge     0.0 2015-08-03   \n",
       "1541  0063600000BpB9C               Pledge     0.0 2015-08-01   \n",
       "1542  0063600000BpB9B               Pledge     0.0 2015-08-01   \n",
       "1574  0063600000GVNJa               Pledge     0.0 2016-12-30   \n",
       "1751  0063600000eiOyq               Pledge     0.0 2018-05-02   \n",
       "1763  0063600000EdAey               Pledge     0.0 2016-07-29   \n",
       "1818  0063600000BpB8M               Pledge     0.0 2015-11-25   \n",
       "1916  0061R00000q863b               Pledge     0.0 2019-06-18   \n",
       "1965  0063600000BpB8z               Pledge     0.0 2016-01-18   \n",
       "2409  0063p00000x39lI               Pledge     0.0 2020-06-15   \n",
       "2498  0063600000BpB8f               Pledge     0.0 2015-12-30   \n",
       "2500  0063600000BpB8c               Pledge     0.0 2016-06-25   \n",
       "2511  0063p00000whX5O               Pledge     0.0 2020-05-16   \n",
       "2512  0063p00000whX5J               Pledge     0.0 2020-05-16   \n",
       "2520  0063p00000wN6BV               Pledge     0.0 2020-04-27   \n",
       "2521  0063p00000wN6BQ               Pledge     0.0 2020-04-27   \n",
       "2523  0063p00000tnDiD               Pledge     0.0 2020-02-20   \n",
       "2524  0063p00000tnA4Z               Pledge     0.0 2020-01-30   \n",
       "2532  0063600000BpB8T               Pledge     0.0 2015-02-04   \n",
       "2533  0063600000BpB8S               Pledge     0.0 2015-02-04   \n",
       "2537  0061R00000qyG0e               Pledge     0.0 2019-07-07   \n",
       "2590  0063600000BpB8K               Pledge     0.0 2015-05-26   \n",
       "2591  0063600000BpB8J               Pledge     0.0 2015-07-07   \n",
       "2592  0063600000BpB8I               Pledge     0.0 2015-07-07   \n",
       "2641  0063600000BpB8w               Pledge     0.0 2015-08-03   \n",
       "2696  0063p00000tnA45               Pledge     0.0 2020-01-15   \n",
       "2810  0063600000JucWd               Pledge     0.0 2017-04-17   \n",
       "2811  0063600000JucWE               Pledge     0.0 2017-04-17   \n",
       "3189  0063600000Pwxe9               Pledge     0.0 2017-08-28   \n",
       "3205  0063600000BpB8F               Pledge     0.0 2015-08-03   \n",
       "3226  0061R00000q9Chv               Pledge     0.0 2019-06-30   \n",
       "3242  0063600000BpB8n               Pledge     0.0 2014-12-15   \n",
       "3251  0061R00000qyFoI               Pledge     0.0 2019-07-07   \n",
       "3258  0063600000BpB8N               Pledge     0.0 2014-10-30   \n",
       "3297  0063600000JJNce               Pledge     0.0 2017-03-24   \n",
       "3310  0063p00000tnA46               Pledge     0.0 2020-01-15   \n",
       "3311  0063p00000tn4rx               Pledge     0.0 2019-12-26   \n",
       "3312  0063600000hgZh2               Pledge     0.0 2018-08-17   \n",
       "3317  0063600000BpB91               Pledge     0.0 2015-05-26   \n",
       "3318  0063600000BpB90               Pledge     0.0 2015-05-26   \n",
       "4008  0063600000FhDtM               Pledge     0.0 2016-08-14   \n",
       "4020  0063600000BpB8W               Pledge     0.0 2015-12-18   \n",
       "4115  0063600000BpB8a               Pledge     0.0 2015-06-29   \n",
       "\n",
       "           account_id account_record_type       contact_id  pledge_amount  \\\n",
       "1517  0013600000VKQlu           Household  0033600000NZkdZ        3000.00   \n",
       "1541  0013600000VKQqT           Household  0033600000NZkQL        1500.00   \n",
       "1542  0013600000VKQqT           Household  0033600000NZkQL         600.00   \n",
       "1574  0013600000VKRZd          Individual  0033600000NZkkJ      100000.00   \n",
       "1751  0013600000VKQqJ           Household  0033600000NZkqA        2500.00   \n",
       "1763  0013600000VKRG9          Individual  0033600000NZkRL         420.00   \n",
       "1818  0013600000VKR8S          Individual  0033600000NZkqY         720.00   \n",
       "1916  0013600000VKRcL          Individual  0033600000NZkMG         500.00   \n",
       "1965  0013600000VKRmy          Individual  0033600000NZkWg       25000.00   \n",
       "2409  0013600000VKQlg          Government  0033600001nRzJP        2000.00   \n",
       "2498  0013600000VKROV          Individual  0033600000NZjpi         500.00   \n",
       "2500  0013600000VKRGU           Household  0033600000NZjrA        2500.00   \n",
       "2511  0013600000VKQmI           Household  0033600000NZk02          57.72   \n",
       "2512  0013600000VKQmI           Household  0033600000NZk02         115.44   \n",
       "2520  0013600000VKQmI           Household  0033600000NZk02         100.00   \n",
       "2521  0013600000VKQmI           Household  0033600000NZk02         200.00   \n",
       "2523  0013600000VKQmI           Household  0033600000NZk02          50.00   \n",
       "2524  0013600000VKQmI           Household  0033600000NZk02        1500.00   \n",
       "2532  0013600000VKQmI           Household  0033600000NZk02        2500.00   \n",
       "2533  0013600000VKQmI           Household  0033600000NZk02        1200.00   \n",
       "2537  0013600000VKQmI           Household  0033600000NZk02         300.00   \n",
       "2590  0013600000VKR6T          Individual  0033600000NZk0j        1000.00   \n",
       "2591  0013600000VKR6T          Individual  0033600000NZk0j       10000.00   \n",
       "2592  0013600000VKR6T          Individual  0033600000NZk0j        3000.00   \n",
       "2641  0013600000VKQoC           Household  0033600000NZjwz        6000.00   \n",
       "2696  0013600000VKQlO          Individual  0033600000NZjZS        1500.00   \n",
       "2810  0013600000VKQkx           Household  0033600000NZja6         750.00   \n",
       "2811  0013600000VKQkx           Household  0033600000NZja6        2500.00   \n",
       "3189  0013600000VKR9b           Household  0033600000NZkIA       10000.00   \n",
       "3205  0013600000VKQnl           Household  0033600000NZkIV         500.00   \n",
       "3226  0013600000VKQlo           Household  0033600000NZk7k        4550.00   \n",
       "3242  0013600000VKRb8            Business  0033600000NZkH0       50000.00   \n",
       "3251  0013600000VKR6q            Business  0033600000NZkHD         425.00   \n",
       "3258  0013600000VKR96            Business  0033600000NZkHR       10000.00   \n",
       "3297  0013600000VKQm7           Household  0033600000NZk5e       25000.00   \n",
       "3310  0013600000VKRpL          Individual  0033600000NZk5H        2400.00   \n",
       "3311  0013600000VKRpL          Individual  0033600000NZk5H        2400.00   \n",
       "3312  0013600000VKRpL          Individual  0033600000NZk5H        2400.00   \n",
       "3317  0013600000VKRpL          Individual  0033600000NZk5H        5000.00   \n",
       "3318  0013600000VKRpL          Individual  0033600000NZk5H        5000.00   \n",
       "4008  0013600000VKQlq           Household  0033600000VY5hZ        1000.00   \n",
       "4020  0013600000ggdKh          Individual  0033600000VY5oZ         250.00   \n",
       "4115  0013600000VKRGW          Individual  0033600000VY5eM       50000.00   \n",
       "\n",
       "                                   fund payment_type  ... group_sales_total  \\\n",
       "1517                                NaN          NaN  ...               0.0   \n",
       "1541                                NaN          NaN  ...               0.0   \n",
       "1542                                NaN          NaN  ...               0.0   \n",
       "1574  25th Anniversary Capital Campaign          NaN  ...               0.0   \n",
       "1751                        Annual Fund          NaN  ...               0.0   \n",
       "1763                        Annual Fund          NaN  ...               0.0   \n",
       "1818                                NaN          NaN  ...               0.0   \n",
       "1916                        Annual Fund          NaN  ...               0.0   \n",
       "1965                                NaN          NaN  ...               0.0   \n",
       "2409                        Annual Fund          NaN  ...               0.0   \n",
       "2498                                NaN          NaN  ...               0.0   \n",
       "2500                                NaN          NaN  ...               0.0   \n",
       "2511                        Annual Fund          NaN  ...               0.0   \n",
       "2512                        Annual Fund          NaN  ...               0.0   \n",
       "2520                        Annual Fund          NaN  ...               0.0   \n",
       "2521                        Annual Fund          NaN  ...               0.0   \n",
       "2523                        Annual Fund          NaN  ...               0.0   \n",
       "2524                        Annual Fund          NaN  ...               0.0   \n",
       "2532                                NaN          NaN  ...               0.0   \n",
       "2533                                NaN          NaN  ...               0.0   \n",
       "2537                        Annual Fund          NaN  ...               0.0   \n",
       "2590                                NaN          NaN  ...               0.0   \n",
       "2591                                NaN          NaN  ...               0.0   \n",
       "2592                                NaN          NaN  ...               0.0   \n",
       "2641  25th Anniversary Capital Campaign          NaN  ...               0.0   \n",
       "2696                        Annual Fund          NaN  ...               0.0   \n",
       "2810  25th Anniversary Capital Campaign          NaN  ...               0.0   \n",
       "2811  25th Anniversary Capital Campaign          NaN  ...               0.0   \n",
       "3189  25th Anniversary Capital Campaign          NaN  ...               0.0   \n",
       "3205                                NaN          NaN  ...               0.0   \n",
       "3226                        Annual Fund          NaN  ...               0.0   \n",
       "3242                                NaN          NaN  ...               0.0   \n",
       "3251                         Advertiser          NaN  ...               0.0   \n",
       "3258                                NaN          NaN  ...               0.0   \n",
       "3297  25th Anniversary Capital Campaign          NaN  ...               0.0   \n",
       "3310                        Annual Fund          NaN  ...               0.0   \n",
       "3311                        Annual Fund          NaN  ...               0.0   \n",
       "3312                        Annual Fund          NaN  ...               0.0   \n",
       "3317                                NaN          NaN  ...               0.0   \n",
       "3318                                NaN          NaN  ...               0.0   \n",
       "4008                                NaN          NaN  ...               0.0   \n",
       "4020                                NaN          NaN  ...               0.0   \n",
       "4115                                NaN          NaN  ...               0.0   \n",
       "\n",
       "     ticket_order_id total_amount transaction_id  last_transaction_id  \\\n",
       "1517             NaN          0.0            nan                  NaN   \n",
       "1541             NaN          0.0            nan                  NaN   \n",
       "1542             NaN          0.0            nan                  NaN   \n",
       "1574             NaN          0.0            nan                  NaN   \n",
       "1751             NaN          0.0            nan                  NaN   \n",
       "1763             NaN          0.0            nan                  NaN   \n",
       "1818             NaN          0.0            nan                  NaN   \n",
       "1916             NaN          0.0            nan                  NaN   \n",
       "1965             NaN          0.0            nan                  NaN   \n",
       "2409             NaN          0.0            nan                  NaN   \n",
       "2498             NaN          0.0            nan                  NaN   \n",
       "2500             NaN          0.0            nan                  NaN   \n",
       "2511             NaN          0.0            nan                  NaN   \n",
       "2512             NaN          0.0            nan                  NaN   \n",
       "2520             NaN          0.0            nan                  NaN   \n",
       "2521             NaN          0.0            nan                  NaN   \n",
       "2523             NaN          0.0            nan                  NaN   \n",
       "2524             NaN          0.0            nan                  NaN   \n",
       "2532             NaN          0.0            nan                  NaN   \n",
       "2533             NaN          0.0            nan                  NaN   \n",
       "2537             NaN          0.0            nan                  NaN   \n",
       "2590             NaN          0.0            nan                  NaN   \n",
       "2591             NaN          0.0            nan                  NaN   \n",
       "2592             NaN          0.0            nan                  NaN   \n",
       "2641             NaN          0.0            nan                  NaN   \n",
       "2696             NaN          0.0            nan                  NaN   \n",
       "2810             NaN          0.0            nan                  NaN   \n",
       "2811             NaN          0.0            nan                  NaN   \n",
       "3189             NaN          0.0            nan                  NaN   \n",
       "3205             NaN          0.0            nan                  NaN   \n",
       "3226             NaN          0.0            nan                  NaN   \n",
       "3242             NaN          0.0            nan                  NaN   \n",
       "3251             NaN          0.0            nan                  NaN   \n",
       "3258             NaN          0.0            nan                  NaN   \n",
       "3297             NaN          0.0            nan                  NaN   \n",
       "3310             NaN          0.0            nan                  NaN   \n",
       "3311             NaN          0.0            nan                  NaN   \n",
       "3312             NaN          0.0            nan                  NaN   \n",
       "3317             NaN          0.0            nan                  NaN   \n",
       "3318             NaN          0.0            nan                  NaN   \n",
       "4008             NaN          0.0            nan                  NaN   \n",
       "4020             NaN          0.0            nan                  NaN   \n",
       "4115             NaN          0.0            nan                  NaN   \n",
       "\n",
       "     order_count_last_#_days        mailing_city mailing_state  mailing_zip  \\\n",
       "1517                     7.0            Richmond            VA   23230-4411   \n",
       "1541                     8.0          Glen Allen            VA   23060-6199   \n",
       "1542                     8.0          Glen Allen            VA   23060-6199   \n",
       "1574                     5.0            RICHMOND            VA        23229   \n",
       "1751                     2.0            Richmond            VA        23222   \n",
       "1763                     0.0            Richmond            VA   23228-5548   \n",
       "1818                     0.0            Richmond            VA   23228-5548   \n",
       "1916                     1.0            Richmond            VA   23220-3526   \n",
       "1965                     3.0            Richmond            VA        23220   \n",
       "2409                     0.0            Richmond            VA        23219   \n",
       "2498                     0.0  North Chesterfield            VA   23235-5161   \n",
       "2500                     0.0            Richmond            VA        23230   \n",
       "2511                     5.0            Richmond            VA        23222   \n",
       "2512                     5.0            Richmond            VA        23222   \n",
       "2520                     5.0            Richmond            VA        23222   \n",
       "2521                     5.0            Richmond            VA        23222   \n",
       "2523                     5.0            Richmond            VA        23222   \n",
       "2524                     5.0            Richmond            VA        23222   \n",
       "2532                     5.0            Richmond            VA        23222   \n",
       "2533                     5.0            Richmond            VA        23222   \n",
       "2537                     5.0            Richmond            VA        23222   \n",
       "2590                     1.0            Richmond            VA   23226-1750   \n",
       "2591                     1.0            Richmond            VA   23226-1750   \n",
       "2592                     1.0            Richmond            VA   23226-1750   \n",
       "2641                     3.0            Richmond            VA        23225   \n",
       "2696                     0.0            Richmond            VA   23225-3502   \n",
       "2810                     2.0            Richmond            VA        23226   \n",
       "2811                     2.0            Richmond            VA        23226   \n",
       "3189                     2.0            Richmond            VA        23231   \n",
       "3205                     0.0            Powhatan            VA        23139   \n",
       "3226                    13.0            Richmond            VA        23230   \n",
       "3242                     0.0            Richmond            VA   23219-4037   \n",
       "3251                     0.0            Richmond            VA        23221   \n",
       "3258                     0.0          Santa Rosa            CA        95403   \n",
       "3297                     3.0            Richmond            VA        23226   \n",
       "3310                     2.0            Richmond            VA        23221   \n",
       "3311                     2.0            Richmond            VA        23221   \n",
       "3312                     2.0            Richmond            VA        23221   \n",
       "3317                     2.0            Richmond            VA        23221   \n",
       "3318                     2.0            Richmond            VA        23221   \n",
       "4008                     5.0            Richmond            VA        23221   \n",
       "4020                     0.0            Richmond            VA        23235   \n",
       "4115                     1.0            Richmond            VA        23226   \n",
       "\n",
       "                                  campaign  \n",
       "1517      Outside of Campaign Period (S23)  \n",
       "1541      Outside of Campaign Period (S23)  \n",
       "1542      Outside of Campaign Period (S23)  \n",
       "1574      Outside of Campaign Period (S24)  \n",
       "1751      Outside of Campaign Period (S25)  \n",
       "1763      Outside of Campaign Period (S24)  \n",
       "1818      Outside of Campaign Period (S23)  \n",
       "1916  Spring 2019 Annual Fund Appeal (S26)  \n",
       "1965      Outside of Campaign Period (S23)  \n",
       "2409  Spring 2020 Annual Fund Appeal (S27)  \n",
       "2498      Outside of Campaign Period (S23)  \n",
       "2500      Outside of Campaign Period (S23)  \n",
       "2511      Outside of Campaign Period (S27)  \n",
       "2512      Outside of Campaign Period (S27)  \n",
       "2520      Outside of Campaign Period (S27)  \n",
       "2521      Outside of Campaign Period (S27)  \n",
       "2523      Outside of Campaign Period (S27)  \n",
       "2524    Fall 2019 Annual Fund Appeal (S27)  \n",
       "2532      Outside of Campaign Period (S22)  \n",
       "2533      Outside of Campaign Period (S22)  \n",
       "2537  Spring 2019 Annual Fund Appeal (S26)  \n",
       "2590      Outside of Campaign Period (S22)  \n",
       "2591      Outside of Campaign Period (S23)  \n",
       "2592      Outside of Campaign Period (S23)  \n",
       "2641      Outside of Campaign Period (S23)  \n",
       "2696    Fall 2019 Annual Fund Appeal (S27)  \n",
       "2810      Outside of Campaign Period (S24)  \n",
       "2811      Outside of Campaign Period (S24)  \n",
       "3189      Outside of Campaign Period (S25)  \n",
       "3205      Outside of Campaign Period (S23)  \n",
       "3226  Spring 2019 Annual Fund Appeal (S26)  \n",
       "3242      Outside of Campaign Period (S22)  \n",
       "3251      Outside of Campaign Period (S27)  \n",
       "3258      Outside of Campaign Period (S22)  \n",
       "3297      Outside of Campaign Period (S24)  \n",
       "3310    Fall 2019 Annual Fund Appeal (S27)  \n",
       "3311    Fall 2019 Annual Fund Appeal (S27)  \n",
       "3312      Outside of Campaign Period (S26)  \n",
       "3317      Outside of Campaign Period (S22)  \n",
       "3318      Outside of Campaign Period (S22)  \n",
       "4008      Outside of Campaign Period (S24)  \n",
       "4020      Outside of Campaign Period (S23)  \n",
       "4115      Outside of Campaign Period (S22)  \n",
       "\n",
       "[43 rows x 48 columns]"
      ]
     },
     "execution_count": 60,
     "metadata": {},
     "output_type": "execute_result"
    }
   ],
   "source": [
    "#Fill nan in donations['amount'] with 0\n",
    "donations.loc[donations['amount'].isna(), 'amount'] = 0\n",
    "#Check it\n",
    "donations[donations['donation_record_type'] == 'Pledge']"
   ]
  },
  {
   "cell_type": "code",
   "execution_count": 62,
   "metadata": {},
   "outputs": [],
   "source": [
    "#Convert nan in fund column (except for pledges) to Annual Fund.\n",
    "#Also, replace other AF categories with 'Annual Fund'\n",
    "donations_no_outlier_amts.loc[(((donations_no_outlier_amts['fund'].isna()) | (donations_no_outlier_amts['fund'].isin([\"Annual Fund Historical\", 'ANN']))) & (donations_no_outlier_amts['donation_record_type'] != 'Pledge')), 'fund'] = \"Annual Fund\""
   ]
  },
  {
   "cell_type": "code",
   "execution_count": 63,
   "metadata": {},
   "outputs": [],
   "source": [
    "donations_no_outlier_amts.loc[(donations_no_outlier_amts['donation_record_type'] != 'Pledge') & (donations['account_record_type'] != 'Business') & (donations['fund'].isna()), 'fund'] = 'Annual Fund'"
   ]
  },
  {
   "cell_type": "code",
   "execution_count": 78,
   "metadata": {},
   "outputs": [],
   "source": [
    "#Group levels referencing the same fund under common levels\n",
    "donations_no_outlier_amts.loc[(donations_no_outlier_amts['fund'].isin([\"25th Anniversary Campaign Fund\", '25th Anniversary Fund', '25TH'])), 'fund'] = \"25th Anniversary Capital Campaign\"\n",
    "donations_no_outlier_amts.loc[(donations_no_outlier_amts['fund'] == 'NEXT'), 'fund'] = \"Next Stage Campaign\"\n",
    "donations_no_outlier_amts.loc[(donations_no_outlier_amts['fund'] == 'John Knapp -Tim Gillham Fund'), 'fund'] = \"New Works (Knapp-Gillham) Fund\"\n",
    "donations_no_outlier_amts.loc[(donations_no_outlier_amts['fund'].isin([\"Education Program Fund\", 'EDUC'])), 'fund'] = \"Education Fund\"\n",
    "donations_no_outlier_amts.loc[(donations_no_outlier_amts['fund'] == 'MMP'), 'fund'] = \"Mary Morton Parsons Challenge Grant Match\""
   ]
  },
  {
   "cell_type": "code",
   "execution_count": 65,
   "metadata": {},
   "outputs": [],
   "source": [
    "#Change record marked as single ticket sale in fund to Annual Fund (fix in database before next pull):\n",
    "donations_no_outlier_amts.loc[(donations_no_outlier_amts['fund'] == 'Single Ticket Sale'), 'fund'] = \"Annual Fund\""
   ]
  },
  {
   "cell_type": "code",
   "execution_count": 66,
   "metadata": {},
   "outputs": [
    {
     "data": {
      "text/plain": [
       "Annual Fund                                  3816\n",
       "Next Stage Campaign                            78\n",
       "Advertiser                                     69\n",
       "25th Anniversary Capital Campaign              64\n",
       "Sponsorship Fund                               24\n",
       "Education Fund                                 22\n",
       "Mary Morton Parsons Challenge Grant Match      11\n",
       "Moose Management Academy Attendance             8\n",
       "Project Fund                                    5\n",
       "New Works (Knapp-Gillham) Fund                  5\n",
       "Building Fund                                   3\n",
       "Name: fund, dtype: int64"
      ]
     },
     "execution_count": 66,
     "metadata": {},
     "output_type": "execute_result"
    }
   ],
   "source": [
    "#Check fund column value changes\n",
    "donations_no_outlier_amts.fund.value_counts()"
   ]
  },
  {
   "cell_type": "code",
   "execution_count": 67,
   "metadata": {},
   "outputs": [
    {
     "data": {
      "text/plain": [
       "Credit Card                  1472\n",
       "Credit Card - Third Party    1141\n",
       "Check                        1049\n",
       "Ticket Order Refund           147\n",
       "CRED                          146\n",
       "In Kind                        13\n",
       "INKND                          10\n",
       "Stock                           8\n",
       "Cash                            7\n",
       "Third Party                     1\n",
       "Name: payment_type, dtype: int64"
      ]
     },
     "execution_count": 67,
     "metadata": {},
     "output_type": "execute_result"
    }
   ],
   "source": [
    "donations_no_outlier_amts.payment_type.value_counts()"
   ]
  },
  {
   "cell_type": "code",
   "execution_count": 68,
   "metadata": {},
   "outputs": [],
   "source": [
    "#Assign group levels referencing the same payment_type to common levels\n",
    "donations_no_outlier_amts.loc[(donations_no_outlier_amts['payment_type'] == 'CRED'), 'payment_type'] = \"Credit Card\"\n",
    "donations_no_outlier_amts.loc[(donations_no_outlier_amts['payment_type'] == 'Third Party'), 'payment_type'] = \"Credit Card - Third Party\"\n",
    "donations_no_outlier_amts.loc[(donations_no_outlier_amts['payment_type'] == 'INKND'), 'payment_type'] = \"In Kind\""
   ]
  },
  {
   "cell_type": "code",
   "execution_count": 69,
   "metadata": {},
   "outputs": [
    {
     "data": {
      "text/plain": [
       "Credit Card                  1618\n",
       "Credit Card - Third Party    1142\n",
       "Check                        1049\n",
       "Ticket Order Refund           147\n",
       "In Kind                        23\n",
       "Stock                           8\n",
       "Cash                            7\n",
       "Name: payment_type, dtype: int64"
      ]
     },
     "execution_count": 69,
     "metadata": {},
     "output_type": "execute_result"
    }
   ],
   "source": [
    "donations_no_outlier_amts.payment_type.value_counts()"
   ]
  },
  {
   "cell_type": "code",
   "execution_count": 70,
   "metadata": {},
   "outputs": [
    {
     "data": {
      "text/plain": [
       "Donation                 2896\n",
       "PatronTicket Donation    1019\n",
       "Pledge Payment            168\n",
       "Corporate Donation         16\n",
       "Sponsorship                 4\n",
       "Grant Payment               2\n",
       "Name: donation_record_type, dtype: int64"
      ]
     },
     "execution_count": 70,
     "metadata": {},
     "output_type": "execute_result"
    }
   ],
   "source": [
    "donations_no_outlier_amts.donation_record_type.value_counts(dropna=False)"
   ]
  },
  {
   "cell_type": "code",
   "execution_count": 71,
   "metadata": {},
   "outputs": [],
   "source": [
    "#Define function to show value counts of categorical vars specified in column list input\n",
    "def cat_col_value_counts(df, cat_col_list):\n",
    "    x=[]\n",
    "    \"\"\"\n",
    "    Prints value counts of each categorical variable from df that is listed in cat_col_list \n",
    "\n",
    "    Params\n",
    "    ------\n",
    "    df : pandas.DataFrame\n",
    "        dataframe containing columns in cat_col_list\n",
    "    cat_col_list : list\n",
    "        list of column names for which value counts will be printed\n",
    "\n",
    "    Returns\n",
    "    -------\n",
    "    prints value counts for each variable in cat_col_list\n",
    "    \"\"\"\n",
    "\n",
    "    for cat_col in cat_col_list:\n",
    "         x.append(df[cat_col].value_counts(dropna= False))\n",
    "    print (x)"
   ]
  },
  {
   "cell_type": "code",
   "execution_count": 72,
   "metadata": {},
   "outputs": [],
   "source": [
    "cat_col_list = ['account_record_type', 'type', 'frequency', 'payment_schedule', 'stage', 'card_type', 'donation_origin', 'mailing_city', 'mailing_state']"
   ]
  },
  {
   "cell_type": "code",
   "execution_count": 73,
   "metadata": {},
   "outputs": [
    {
     "name": "stdout",
     "output_type": "stream",
     "text": [
      "[Individual    2385\n",
      "Household     1593\n",
      "Business       112\n",
      "Foundation      11\n",
      "Government       2\n",
      "NaN              2\n",
      "Name: account_record_type, dtype: int64, NaN                 1697\n",
      "Gift                1036\n",
      "Give OUT Day         855\n",
      "GIVINGTUESDAYNOW     217\n",
      "Pledge Payment       100\n",
      "Board                 93\n",
      "Sale                  60\n",
      "General               22\n",
      "Restricted            12\n",
      "Unrestricted           7\n",
      "Single                 4\n",
      "Grant                  1\n",
      "Matching               1\n",
      "Name: type, dtype: int64, NaN          2741\n",
      "Single       1218\n",
      "Recurring     146\n",
      "Name: frequency, dtype: int64, NaN    4105\n",
      "Name: payment_schedule, dtype: int64, Posted          4100\n",
      "Pledged            2\n",
      "Paid in Full       2\n",
      "Not Posted         1\n",
      "Name: stage, dtype: int64, NaN           2633\n",
      "Visa           860\n",
      "MasterCard     396\n",
      "Amex           176\n",
      "Discover        40\n",
      "Name: card_type, dtype: int64, NaN                                2306\n",
      "Ticket Order                        794\n",
      "Online: Donation Form               497\n",
      "Ticket Order Refund                 225\n",
      "Online: Recurring Donation Form     164\n",
      "Annual Fund Mailing                  55\n",
      "Online: Annual Fund Donations        42\n",
      "Subscription Renewal                  6\n",
      "Giving Tuesday                        3\n",
      "Body Awareness Photo Exhibit          2\n",
      "Donations Box                         2\n",
      "Balance of Stock Transfer             1\n",
      "Unsolicited                           1\n",
      "Subs Renewal                          1\n",
      "Network For Good                      1\n",
      "Maury Place Event                     1\n",
      "Stock Sale                            1\n",
      "Give Out Day                          1\n",
      "Cake Sponsor                          1\n",
      "an                                    1\n",
      "Name: donation_origin, dtype: int64, Richmond              2167\n",
      "Henrico                268\n",
      "Midlothian             204\n",
      "NaN                    203\n",
      "Glen Allen             129\n",
      "                      ... \n",
      "SOUTH CHESTERFIELD       1\n",
      "Centreville              1\n",
      "FREDERICKSBURG           1\n",
      "New Kent                 1\n",
      "Smithfield               1\n",
      "Name: mailing_city, Length: 192, dtype: int64, VA     3738\n",
      "NaN     204\n",
      "NC       34\n",
      "MD       17\n",
      "FL       15\n",
      "DC       13\n",
      "MI       13\n",
      "NY       11\n",
      "CA       10\n",
      "CT        6\n",
      "MN        5\n",
      "SC        5\n",
      "MA        5\n",
      "GA        4\n",
      "NJ        4\n",
      "TX        3\n",
      "OH        2\n",
      "PA        2\n",
      "NV        2\n",
      "IN        2\n",
      "VT        2\n",
      "KY        1\n",
      "TN        1\n",
      "AR        1\n",
      "LA        1\n",
      "IA        1\n",
      "HI        1\n",
      "AZ        1\n",
      "AK        1\n",
      "Name: mailing_state, dtype: int64]\n"
     ]
    }
   ],
   "source": [
    "cat_col_value_counts(donations_no_outlier_amts, cat_col_list)"
   ]
  },
  {
   "cell_type": "markdown",
   "metadata": {},
   "source": [
    "Create campaign column"
   ]
  },
  {
   "cell_type": "code",
   "execution_count": 74,
   "metadata": {},
   "outputs": [],
   "source": [
    "#Assign regular appeal campaigns\n",
    "donations_no_outlier_amts.loc[(donations_no_outlier_amts['type'] == 'GIVINGTUESDAYNOW'), 'campaign'] = 'GIVINGTUESDAYNOW (S27)'\n",
    "donations_no_outlier_amts.loc[(donations_no_outlier_amts['close_date'] > '2020-06-05') & (donations_no_outlier_amts['close_date'] < '2020-08-01') & (donations_no_outlier_amts['fund'] == 'Annual Fund'), 'campaign'] = 'Spring 2020 Annual Fund Appeal (S27)'\n",
    "donations_no_outlier_amts.loc[(donations_no_outlier_amts['close_date'] > '2019-11-19') & (donations_no_outlier_amts['close_date'] < '2020-02-01') & (donations_no_outlier_amts['fund'] == 'Annual Fund'), 'campaign'] = 'Fall 2019 Annual Fund Appeal (S27)'\n",
    "donations_no_outlier_amts.loc[(donations_no_outlier_amts['close_date'] > '2019-05-20') & (donations_no_outlier_amts['close_date'] < '2019-08-01') & (donations_no_outlier_amts['fund'] == 'Annual Fund'), 'campaign'] = 'Spring 2019 Annual Fund Appeal (S26)'\n",
    "donations_no_outlier_amts.loc[(donations_no_outlier_amts['close_date'] > '2018-11-25') & (donations_no_outlier_amts['close_date'] < '2019-02-01') & (donations_no_outlier_amts['fund'] == 'Annual Fund'), 'campaign'] = 'Fall 2018 Annual Fund Appeal (S26)'\n",
    "donations_no_outlier_amts.loc[(donations_no_outlier_amts['close_date'] > '2018-05-20') & (donations_no_outlier_amts['close_date'] < '2018-08-01') & (donations_no_outlier_amts['fund'] == 'Annual Fund'), 'campaign'] = 'Spring 2018 Annual Fund Appeal (S25)'\n",
    "donations_no_outlier_amts.loc[(donations_no_outlier_amts['close_date'] > '2017-11-10') & (donations_no_outlier_amts['close_date'] < '2018-02-01') & (donations_no_outlier_amts['fund'] == 'Annual Fund'), 'campaign'] = 'Fall 2017 Annual Fund Appeal (S25)'\n",
    "donations_no_outlier_amts.loc[(donations_no_outlier_amts['close_date'] > '2016-11-14') & (donations_no_outlier_amts['close_date'] < '2017-02-01') & (donations_no_outlier_amts['fund'] == 'Annual Fund'), 'campaign'] = 'Fall 2016 Annual Fund Appeal (S24)'\n",
    "donations_no_outlier_amts.loc[(donations_no_outlier_amts['close_date'] > '2015-11-14') & (donations_no_outlier_amts['close_date'] < '2016-02-01') & (donations_no_outlier_amts['fund'] == 'Annual Fund'), 'campaign'] = 'Fall 2015 Annual Fund Appeal (S23)'\n",
    "donations_no_outlier_amts.loc[(donations_no_outlier_amts['close_date'] > '2014-11-14') & (donations_no_outlier_amts['close_date'] < '2015-02-01') & (donations_no_outlier_amts['fund'] == 'Annual Fund'), 'campaign'] = 'Fall 2014 Annual Fund Appeal (S22)'\n",
    "donations_no_outlier_amts.loc[(donations_no_outlier_amts['close_date'] > '2020-04-30') & (donations_no_outlier_amts['close_date'] < '2020-08-01') & (donations_no_outlier_amts['type'] == 'Give OUT Day') & (donations_no_outlier_amts['fund'] == 'Annual Fund'), 'campaign'] = 'Give OUT Day (S27)'\n",
    "donations_no_outlier_amts.loc[((donations_no_outlier_amts['fiscal_year'] == '2019') | (donations_no_outlier_amts['close_date'] == '2019-07-19')) & (donations_no_outlier_amts['type'] == 'Give OUT Day') & (donations_no_outlier_amts['fund'] == 'Annual Fund'), 'campaign'] = 'Give OUT Day (S26)'\n",
    "donations_no_outlier_amts.loc[((donations_no_outlier_amts['fiscal_year'] == '2018') | (donations_no_outlier_amts['close_date'] == '2020-03-10')) & (donations_no_outlier_amts['type'] == 'Give OUT Day') & (donations_no_outlier_amts['fund'] == 'Annual Fund'), 'campaign'] = 'Give OUT Day (S25)'"
   ]
  },
  {
   "cell_type": "code",
   "execution_count": 75,
   "metadata": {},
   "outputs": [],
   "source": [
    "donations_no_outlier_amts.loc[(donations_no_outlier_amts['close_date'] > '2019-06-30') & (donations_no_outlier_amts['close_date'] < '2020-07-01') & (donations_no_outlier_amts['campaign'].isna()), 'campaign'] = 'Outside of Campaign Period (S27)'\n",
    "donations_no_outlier_amts.loc[(donations_no_outlier_amts['close_date'] > '2018-06-30') & (donations_no_outlier_amts['close_date'] < '2019-07-01') & (donations_no_outlier_amts['campaign'].isna()), 'campaign'] = 'Outside of Campaign Period (S26)'\n",
    "donations_no_outlier_amts.loc[(donations_no_outlier_amts['close_date'] > '2017-06-30') & (donations_no_outlier_amts['close_date'] < '2018-07-01') & (donations_no_outlier_amts['campaign'].isna()), 'campaign'] = 'Outside of Campaign Period (S25)'\n",
    "donations_no_outlier_amts.loc[(donations_no_outlier_amts['close_date'] > '2016-06-30') & (donations_no_outlier_amts['close_date'] < '2017-07-01') & (donations_no_outlier_amts['campaign'].isna()), 'campaign'] = 'Outside of Campaign Period (S24)'\n",
    "donations_no_outlier_amts.loc[(donations_no_outlier_amts['close_date'] > '2015-06-30') & (donations_no_outlier_amts['close_date'] < '2016-07-01') & (donations_no_outlier_amts['campaign'].isna()), 'campaign'] = 'Outside of Campaign Period (S23)'\n",
    "donations_no_outlier_amts.loc[(donations_no_outlier_amts['close_date'] > '2014-06-30') & (donations_no_outlier_amts['close_date'] < '2015-07-01') & (donations_no_outlier_amts['campaign'].isna()), 'campaign'] = 'Outside of Campaign Period (S22)'"
   ]
  },
  {
   "cell_type": "code",
   "execution_count": 76,
   "metadata": {},
   "outputs": [
    {
     "data": {
      "text/plain": [
       "Outside of Campaign Period (S27)        544\n",
       "Give OUT Day (S27)                      350\n",
       "Give OUT Day (S25)                      343\n",
       "Outside of Campaign Period (S26)        296\n",
       "Fall 2019 Annual Fund Appeal (S27)      245\n",
       "Outside of Campaign Period (S24)        229\n",
       "GIVINGTUESDAYNOW (S27)                  216\n",
       "Fall 2017 Annual Fund Appeal (S25)      206\n",
       "Spring 2019 Annual Fund Appeal (S26)    199\n",
       "Outside of Campaign Period (S25)        199\n",
       "Fall 2016 Annual Fund Appeal (S24)      196\n",
       "Outside of Campaign Period (S22)        181\n",
       "Fall 2018 Annual Fund Appeal (S26)      165\n",
       "Give OUT Day (S26)                      162\n",
       "Spring 2018 Annual Fund Appeal (S25)    137\n",
       "Outside of Campaign Period (S23)        124\n",
       "Fall 2015 Annual Fund Appeal (S23)      117\n",
       "Spring 2020 Annual Fund Appeal (S27)     99\n",
       "Fall 2014 Annual Fund Appeal (S22)       97\n",
       "Name: campaign, dtype: int64"
      ]
     },
     "execution_count": 76,
     "metadata": {},
     "output_type": "execute_result"
    }
   ],
   "source": [
    "donations_no_outlier_amts.campaign.value_counts()"
   ]
  },
  {
   "cell_type": "code",
   "execution_count": 57,
   "metadata": {},
   "outputs": [
    {
     "data": {
      "text/plain": [
       "fiscal_year\n",
       "2015     85162.32\n",
       "2016    120678.82\n",
       "2017    117786.26\n",
       "2018    129134.47\n",
       "2019    117417.11\n",
       "2020    231452.89\n",
       "2021     10060.26\n",
       "Name: amount, dtype: float64"
      ]
     },
     "execution_count": 57,
     "metadata": {},
     "output_type": "execute_result"
    }
   ],
   "source": [
    "#Show all donations by fiscal year\n",
    "donations_by_fiscal_year = donations_no_outlier_amts[(donations_no_outlier_amts['donation_record_type'] != 'Pledge')].groupby('fiscal_year')['amount'].sum()\n",
    "donations_by_fiscal_year"
   ]
  },
  {
   "cell_type": "code",
   "execution_count": 77,
   "metadata": {},
   "outputs": [
    {
     "data": {
      "text/plain": [
       "Text(0.5, 0, 'Fiscal Year')"
      ]
     },
     "execution_count": 77,
     "metadata": {},
     "output_type": "execute_result"
    },
    {
     "data": {
      "image/png": "[encoded data removed]",
      "text/plain": [
       "<Figure size 1080x432 with 1 Axes>"
      ]
     },
     "metadata": {},
     "output_type": "display_data"
    }
   ],
   "source": [
    "#Plot the FY donation volume\n",
    "\n",
    "#set style\n",
    "sns.set(style='darkgrid')\n",
    "\n",
    "#Adjust the plot size\n",
    "plt.figure(figsize=[15,6])\n",
    "\n",
    "#Line Plot\n",
    "sns.lineplot(x=donations_by_fiscal_year.index, y=donations_by_fiscal_year.values, color='magenta')\n",
    "\n",
    "#Assign axis labels:\n",
    "plt.ylabel('Donation Total ($)', fontsize=14)\n",
    "plt.xlabel('Fiscal Year', fontsize=14)"
   ]
  },
  {
   "cell_type": "code",
   "execution_count": 142,
   "metadata": {},
   "outputs": [
    {
     "ename": "Exception",
     "evalue": "Data must be 1-dimensional",
     "output_type": "error",
     "traceback": [
      "\u001b[0;31m---------------------------------------------------------------------------\u001b[0m",
      "\u001b[0;31mException\u001b[0m                                 Traceback (most recent call last)",
      "\u001b[0;32m<ipython-input-142-3805459f3992>\u001b[0m in \u001b[0;36m<module>\u001b[0;34m\u001b[0m\n\u001b[1;32m      8\u001b[0m \u001b[0;34m\u001b[0m\u001b[0m\n\u001b[1;32m      9\u001b[0m \u001b[0;31m#Line Plot\u001b[0m\u001b[0;34m\u001b[0m\u001b[0;34m\u001b[0m\u001b[0;34m\u001b[0m\u001b[0m\n\u001b[0;32m---> 10\u001b[0;31m \u001b[0msns\u001b[0m\u001b[0;34m.\u001b[0m\u001b[0mlineplot\u001b[0m\u001b[0;34m(\u001b[0m\u001b[0mx\u001b[0m\u001b[0;34m=\u001b[0m\u001b[0mdonations\u001b[0m\u001b[0;34m.\u001b[0m\u001b[0mindex\u001b[0m\u001b[0;34m,\u001b[0m \u001b[0my\u001b[0m\u001b[0;34m=\u001b[0m\u001b[0mdonations\u001b[0m\u001b[0;34m.\u001b[0m\u001b[0mvalues\u001b[0m\u001b[0;34m,\u001b[0m \u001b[0mcolor\u001b[0m\u001b[0;34m=\u001b[0m\u001b[0;34m'magenta'\u001b[0m\u001b[0;34m)\u001b[0m\u001b[0;34m\u001b[0m\u001b[0;34m\u001b[0m\u001b[0m\n\u001b[0m\u001b[1;32m     11\u001b[0m \u001b[0;34m\u001b[0m\u001b[0m\n\u001b[1;32m     12\u001b[0m \u001b[0;31m#Assign axis labels:\u001b[0m\u001b[0;34m\u001b[0m\u001b[0;34m\u001b[0m\u001b[0;34m\u001b[0m\u001b[0m\n",
      "\u001b[0;32m~/anaconda3/lib/python3.7/site-packages/seaborn/relational.py\u001b[0m in \u001b[0;36mlineplot\u001b[0;34m(x, y, hue, size, style, data, palette, hue_order, hue_norm, sizes, size_order, size_norm, dashes, markers, style_order, units, estimator, ci, n_boot, seed, sort, err_style, err_kws, legend, ax, **kwargs)\u001b[0m\n\u001b[1;32m   1124\u001b[0m         \u001b[0mdashes\u001b[0m\u001b[0;34m=\u001b[0m\u001b[0mdashes\u001b[0m\u001b[0;34m,\u001b[0m \u001b[0mmarkers\u001b[0m\u001b[0;34m=\u001b[0m\u001b[0mmarkers\u001b[0m\u001b[0;34m,\u001b[0m \u001b[0mstyle_order\u001b[0m\u001b[0;34m=\u001b[0m\u001b[0mstyle_order\u001b[0m\u001b[0;34m,\u001b[0m\u001b[0;34m\u001b[0m\u001b[0;34m\u001b[0m\u001b[0m\n\u001b[1;32m   1125\u001b[0m         \u001b[0munits\u001b[0m\u001b[0;34m=\u001b[0m\u001b[0munits\u001b[0m\u001b[0;34m,\u001b[0m \u001b[0mestimator\u001b[0m\u001b[0;34m=\u001b[0m\u001b[0mestimator\u001b[0m\u001b[0;34m,\u001b[0m \u001b[0mci\u001b[0m\u001b[0;34m=\u001b[0m\u001b[0mci\u001b[0m\u001b[0;34m,\u001b[0m \u001b[0mn_boot\u001b[0m\u001b[0;34m=\u001b[0m\u001b[0mn_boot\u001b[0m\u001b[0;34m,\u001b[0m \u001b[0mseed\u001b[0m\u001b[0;34m=\u001b[0m\u001b[0mseed\u001b[0m\u001b[0;34m,\u001b[0m\u001b[0;34m\u001b[0m\u001b[0;34m\u001b[0m\u001b[0m\n\u001b[0;32m-> 1126\u001b[0;31m         \u001b[0msort\u001b[0m\u001b[0;34m=\u001b[0m\u001b[0msort\u001b[0m\u001b[0;34m,\u001b[0m \u001b[0merr_style\u001b[0m\u001b[0;34m=\u001b[0m\u001b[0merr_style\u001b[0m\u001b[0;34m,\u001b[0m \u001b[0merr_kws\u001b[0m\u001b[0;34m=\u001b[0m\u001b[0merr_kws\u001b[0m\u001b[0;34m,\u001b[0m \u001b[0mlegend\u001b[0m\u001b[0;34m=\u001b[0m\u001b[0mlegend\u001b[0m\u001b[0;34m,\u001b[0m\u001b[0;34m\u001b[0m\u001b[0;34m\u001b[0m\u001b[0m\n\u001b[0m\u001b[1;32m   1127\u001b[0m     )\n\u001b[1;32m   1128\u001b[0m \u001b[0;34m\u001b[0m\u001b[0m\n",
      "\u001b[0;32m~/anaconda3/lib/python3.7/site-packages/seaborn/relational.py\u001b[0m in \u001b[0;36m__init__\u001b[0;34m(self, x, y, hue, size, style, data, palette, hue_order, hue_norm, sizes, size_order, size_norm, dashes, markers, style_order, units, estimator, ci, n_boot, seed, sort, err_style, err_kws, legend)\u001b[0m\n\u001b[1;32m    693\u001b[0m \u001b[0;34m\u001b[0m\u001b[0m\n\u001b[1;32m    694\u001b[0m         plot_data = self.establish_variables(\n\u001b[0;32m--> 695\u001b[0;31m             \u001b[0mx\u001b[0m\u001b[0;34m,\u001b[0m \u001b[0my\u001b[0m\u001b[0;34m,\u001b[0m \u001b[0mhue\u001b[0m\u001b[0;34m,\u001b[0m \u001b[0msize\u001b[0m\u001b[0;34m,\u001b[0m \u001b[0mstyle\u001b[0m\u001b[0;34m,\u001b[0m \u001b[0munits\u001b[0m\u001b[0;34m,\u001b[0m \u001b[0mdata\u001b[0m\u001b[0;34m\u001b[0m\u001b[0;34m\u001b[0m\u001b[0m\n\u001b[0m\u001b[1;32m    696\u001b[0m         )\n\u001b[1;32m    697\u001b[0m \u001b[0;34m\u001b[0m\u001b[0m\n",
      "\u001b[0;32m~/anaconda3/lib/python3.7/site-packages/seaborn/relational.py\u001b[0m in \u001b[0;36mestablish_variables\u001b[0;34m(self, x, y, hue, size, style, units, data)\u001b[0m\n\u001b[1;32m    150\u001b[0m                 \u001b[0munits\u001b[0m\u001b[0;34m=\u001b[0m\u001b[0munits\u001b[0m\u001b[0;34m\u001b[0m\u001b[0;34m\u001b[0m\u001b[0m\n\u001b[1;32m    151\u001b[0m             )\n\u001b[0;32m--> 152\u001b[0;31m             \u001b[0mplot_data\u001b[0m \u001b[0;34m=\u001b[0m \u001b[0mpd\u001b[0m\u001b[0;34m.\u001b[0m\u001b[0mDataFrame\u001b[0m\u001b[0;34m(\u001b[0m\u001b[0mplot_data\u001b[0m\u001b[0;34m)\u001b[0m\u001b[0;34m\u001b[0m\u001b[0;34m\u001b[0m\u001b[0m\n\u001b[0m\u001b[1;32m    153\u001b[0m \u001b[0;34m\u001b[0m\u001b[0m\n\u001b[1;32m    154\u001b[0m         \u001b[0;31m# Option 3:\u001b[0m\u001b[0;34m\u001b[0m\u001b[0;34m\u001b[0m\u001b[0;34m\u001b[0m\u001b[0m\n",
      "\u001b[0;32m~/anaconda3/lib/python3.7/site-packages/pandas/core/frame.py\u001b[0m in \u001b[0;36m__init__\u001b[0;34m(self, data, index, columns, dtype, copy)\u001b[0m\n\u001b[1;32m    433\u001b[0m             )\n\u001b[1;32m    434\u001b[0m         \u001b[0;32melif\u001b[0m \u001b[0misinstance\u001b[0m\u001b[0;34m(\u001b[0m\u001b[0mdata\u001b[0m\u001b[0;34m,\u001b[0m \u001b[0mdict\u001b[0m\u001b[0;34m)\u001b[0m\u001b[0;34m:\u001b[0m\u001b[0;34m\u001b[0m\u001b[0;34m\u001b[0m\u001b[0m\n\u001b[0;32m--> 435\u001b[0;31m             \u001b[0mmgr\u001b[0m \u001b[0;34m=\u001b[0m \u001b[0minit_dict\u001b[0m\u001b[0;34m(\u001b[0m\u001b[0mdata\u001b[0m\u001b[0;34m,\u001b[0m \u001b[0mindex\u001b[0m\u001b[0;34m,\u001b[0m \u001b[0mcolumns\u001b[0m\u001b[0;34m,\u001b[0m \u001b[0mdtype\u001b[0m\u001b[0;34m=\u001b[0m\u001b[0mdtype\u001b[0m\u001b[0;34m)\u001b[0m\u001b[0;34m\u001b[0m\u001b[0;34m\u001b[0m\u001b[0m\n\u001b[0m\u001b[1;32m    436\u001b[0m         \u001b[0;32melif\u001b[0m \u001b[0misinstance\u001b[0m\u001b[0;34m(\u001b[0m\u001b[0mdata\u001b[0m\u001b[0;34m,\u001b[0m \u001b[0mma\u001b[0m\u001b[0;34m.\u001b[0m\u001b[0mMaskedArray\u001b[0m\u001b[0;34m)\u001b[0m\u001b[0;34m:\u001b[0m\u001b[0;34m\u001b[0m\u001b[0;34m\u001b[0m\u001b[0m\n\u001b[1;32m    437\u001b[0m             \u001b[0;32mimport\u001b[0m \u001b[0mnumpy\u001b[0m\u001b[0;34m.\u001b[0m\u001b[0mma\u001b[0m\u001b[0;34m.\u001b[0m\u001b[0mmrecords\u001b[0m \u001b[0;32mas\u001b[0m \u001b[0mmrecords\u001b[0m\u001b[0;34m\u001b[0m\u001b[0;34m\u001b[0m\u001b[0m\n",
      "\u001b[0;32m~/anaconda3/lib/python3.7/site-packages/pandas/core/internals/construction.py\u001b[0m in \u001b[0;36minit_dict\u001b[0;34m(data, index, columns, dtype)\u001b[0m\n\u001b[1;32m    252\u001b[0m             \u001b[0marr\u001b[0m \u001b[0;32mif\u001b[0m \u001b[0;32mnot\u001b[0m \u001b[0mis_datetime64tz_dtype\u001b[0m\u001b[0;34m(\u001b[0m\u001b[0marr\u001b[0m\u001b[0;34m)\u001b[0m \u001b[0;32melse\u001b[0m \u001b[0marr\u001b[0m\u001b[0;34m.\u001b[0m\u001b[0mcopy\u001b[0m\u001b[0;34m(\u001b[0m\u001b[0;34m)\u001b[0m \u001b[0;32mfor\u001b[0m \u001b[0marr\u001b[0m \u001b[0;32min\u001b[0m \u001b[0marrays\u001b[0m\u001b[0;34m\u001b[0m\u001b[0;34m\u001b[0m\u001b[0m\n\u001b[1;32m    253\u001b[0m         ]\n\u001b[0;32m--> 254\u001b[0;31m     \u001b[0;32mreturn\u001b[0m \u001b[0marrays_to_mgr\u001b[0m\u001b[0;34m(\u001b[0m\u001b[0marrays\u001b[0m\u001b[0;34m,\u001b[0m \u001b[0mdata_names\u001b[0m\u001b[0;34m,\u001b[0m \u001b[0mindex\u001b[0m\u001b[0;34m,\u001b[0m \u001b[0mcolumns\u001b[0m\u001b[0;34m,\u001b[0m \u001b[0mdtype\u001b[0m\u001b[0;34m=\u001b[0m\u001b[0mdtype\u001b[0m\u001b[0;34m)\u001b[0m\u001b[0;34m\u001b[0m\u001b[0;34m\u001b[0m\u001b[0m\n\u001b[0m\u001b[1;32m    255\u001b[0m \u001b[0;34m\u001b[0m\u001b[0m\n\u001b[1;32m    256\u001b[0m \u001b[0;34m\u001b[0m\u001b[0m\n",
      "\u001b[0;32m~/anaconda3/lib/python3.7/site-packages/pandas/core/internals/construction.py\u001b[0m in \u001b[0;36marrays_to_mgr\u001b[0;34m(arrays, arr_names, index, columns, dtype)\u001b[0m\n\u001b[1;32m     67\u001b[0m \u001b[0;34m\u001b[0m\u001b[0m\n\u001b[1;32m     68\u001b[0m     \u001b[0;31m# don't force copy because getting jammed in an ndarray anyway\u001b[0m\u001b[0;34m\u001b[0m\u001b[0;34m\u001b[0m\u001b[0;34m\u001b[0m\u001b[0m\n\u001b[0;32m---> 69\u001b[0;31m     \u001b[0marrays\u001b[0m \u001b[0;34m=\u001b[0m \u001b[0m_homogenize\u001b[0m\u001b[0;34m(\u001b[0m\u001b[0marrays\u001b[0m\u001b[0;34m,\u001b[0m \u001b[0mindex\u001b[0m\u001b[0;34m,\u001b[0m \u001b[0mdtype\u001b[0m\u001b[0;34m)\u001b[0m\u001b[0;34m\u001b[0m\u001b[0;34m\u001b[0m\u001b[0m\n\u001b[0m\u001b[1;32m     70\u001b[0m \u001b[0;34m\u001b[0m\u001b[0m\n\u001b[1;32m     71\u001b[0m     \u001b[0;31m# from BlockManager perspective\u001b[0m\u001b[0;34m\u001b[0m\u001b[0;34m\u001b[0m\u001b[0;34m\u001b[0m\u001b[0m\n",
      "\u001b[0;32m~/anaconda3/lib/python3.7/site-packages/pandas/core/internals/construction.py\u001b[0m in \u001b[0;36m_homogenize\u001b[0;34m(data, index, dtype)\u001b[0m\n\u001b[1;32m    321\u001b[0m                 \u001b[0mval\u001b[0m \u001b[0;34m=\u001b[0m \u001b[0mlib\u001b[0m\u001b[0;34m.\u001b[0m\u001b[0mfast_multiget\u001b[0m\u001b[0;34m(\u001b[0m\u001b[0mval\u001b[0m\u001b[0;34m,\u001b[0m \u001b[0moindex\u001b[0m\u001b[0;34m.\u001b[0m\u001b[0mvalues\u001b[0m\u001b[0;34m,\u001b[0m \u001b[0mdefault\u001b[0m\u001b[0;34m=\u001b[0m\u001b[0mnp\u001b[0m\u001b[0;34m.\u001b[0m\u001b[0mnan\u001b[0m\u001b[0;34m)\u001b[0m\u001b[0;34m\u001b[0m\u001b[0;34m\u001b[0m\u001b[0m\n\u001b[1;32m    322\u001b[0m             val = sanitize_array(\n\u001b[0;32m--> 323\u001b[0;31m                 \u001b[0mval\u001b[0m\u001b[0;34m,\u001b[0m \u001b[0mindex\u001b[0m\u001b[0;34m,\u001b[0m \u001b[0mdtype\u001b[0m\u001b[0;34m=\u001b[0m\u001b[0mdtype\u001b[0m\u001b[0;34m,\u001b[0m \u001b[0mcopy\u001b[0m\u001b[0;34m=\u001b[0m\u001b[0;32mFalse\u001b[0m\u001b[0;34m,\u001b[0m \u001b[0mraise_cast_failure\u001b[0m\u001b[0;34m=\u001b[0m\u001b[0;32mFalse\u001b[0m\u001b[0;34m\u001b[0m\u001b[0;34m\u001b[0m\u001b[0m\n\u001b[0m\u001b[1;32m    324\u001b[0m             )\n\u001b[1;32m    325\u001b[0m \u001b[0;34m\u001b[0m\u001b[0m\n",
      "\u001b[0;32m~/anaconda3/lib/python3.7/site-packages/pandas/core/construction.py\u001b[0m in \u001b[0;36msanitize_array\u001b[0;34m(data, index, dtype, copy, raise_cast_failure)\u001b[0m\n\u001b[1;32m    480\u001b[0m     \u001b[0;32melif\u001b[0m \u001b[0msubarr\u001b[0m\u001b[0;34m.\u001b[0m\u001b[0mndim\u001b[0m \u001b[0;34m>\u001b[0m \u001b[0;36m1\u001b[0m\u001b[0;34m:\u001b[0m\u001b[0;34m\u001b[0m\u001b[0;34m\u001b[0m\u001b[0m\n\u001b[1;32m    481\u001b[0m         \u001b[0;32mif\u001b[0m \u001b[0misinstance\u001b[0m\u001b[0;34m(\u001b[0m\u001b[0mdata\u001b[0m\u001b[0;34m,\u001b[0m \u001b[0mnp\u001b[0m\u001b[0;34m.\u001b[0m\u001b[0mndarray\u001b[0m\u001b[0;34m)\u001b[0m\u001b[0;34m:\u001b[0m\u001b[0;34m\u001b[0m\u001b[0;34m\u001b[0m\u001b[0m\n\u001b[0;32m--> 482\u001b[0;31m             \u001b[0;32mraise\u001b[0m \u001b[0mException\u001b[0m\u001b[0;34m(\u001b[0m\u001b[0;34m\"Data must be 1-dimensional\"\u001b[0m\u001b[0;34m)\u001b[0m\u001b[0;34m\u001b[0m\u001b[0;34m\u001b[0m\u001b[0m\n\u001b[0m\u001b[1;32m    483\u001b[0m         \u001b[0;32melse\u001b[0m\u001b[0;34m:\u001b[0m\u001b[0;34m\u001b[0m\u001b[0;34m\u001b[0m\u001b[0m\n\u001b[1;32m    484\u001b[0m             \u001b[0msubarr\u001b[0m \u001b[0;34m=\u001b[0m \u001b[0mcom\u001b[0m\u001b[0;34m.\u001b[0m\u001b[0masarray_tuplesafe\u001b[0m\u001b[0;34m(\u001b[0m\u001b[0mdata\u001b[0m\u001b[0;34m,\u001b[0m \u001b[0mdtype\u001b[0m\u001b[0;34m=\u001b[0m\u001b[0mdtype\u001b[0m\u001b[0;34m)\u001b[0m\u001b[0;34m\u001b[0m\u001b[0;34m\u001b[0m\u001b[0m\n",
      "\u001b[0;31mException\u001b[0m: Data must be 1-dimensional"
     ]
    },
    {
     "data": {
      "text/plain": [
       "<Figure size 1080x432 with 0 Axes>"
      ]
     },
     "metadata": {},
     "output_type": "display_data"
    }
   ],
   "source": [
    "#Plot the FY donation volume\n",
    "\n",
    "#set style\n",
    "#sns.set(style='darkgrid')\n",
    "\n",
    "#Adjust the plot size\n",
    "#plt.figure(figsize=[15,6])\n",
    "\n",
    "#Line Plot\n",
    "#sns.lineplot(x=donations.index, y=donations.values, color='magenta')\n",
    "\n",
    "#Assign axis labels:\n",
    "#plt.ylabel('Donation Total ($)', fontsize=14)\n",
    "#plt.xlabel('Fiscal Year', fontsize=14)"
   ]
  },
  {
   "cell_type": "code",
   "execution_count": 79,
   "metadata": {},
   "outputs": [
    {
     "data": {
      "text/plain": [
       "fund                                       fiscal_year\n",
       "25th Anniversary Capital Campaign          2016            38775.00\n",
       "                                           2017            51301.92\n",
       "                                           2018            50173.10\n",
       "                                           2019             4690.49\n",
       "                                           2020            11000.00\n",
       "Advertiser                                 2015             5350.00\n",
       "                                           2016             7125.00\n",
       "                                           2019              210.00\n",
       "                                           2020            11780.00\n",
       "Annual Fund                                2015            45344.65\n",
       "                                           2016            42712.72\n",
       "                                           2017            65844.34\n",
       "                                           2018            74461.37\n",
       "                                           2019           103186.62\n",
       "                                           2020           183801.82\n",
       "                                           2021            10060.26\n",
       "Building Fund                              2017              390.00\n",
       "                                           2020              350.00\n",
       "Education Fund                             2015             2050.00\n",
       "                                           2016             3000.00\n",
       "                                           2019             4050.00\n",
       "                                           2020             3350.00\n",
       "Mary Morton Parsons Challenge Grant Match  2015            13600.00\n",
       "                                           2016              100.00\n",
       "Moose Management Academy Attendance        2016              160.00\n",
       "New Works (Knapp-Gillham) Fund             2019              600.00\n",
       "                                           2020             5750.00\n",
       "Next Stage Campaign                        2015            18817.67\n",
       "                                           2016            26806.10\n",
       "                                           2017              250.00\n",
       "Project Fund                               2018             3000.00\n",
       "                                           2019              180.00\n",
       "                                           2020              892.90\n",
       "Sponsorship Fund                           2016             2000.00\n",
       "                                           2018             1500.00\n",
       "                                           2019             4500.00\n",
       "                                           2020            14528.17\n",
       "Name: amount, dtype: float64"
      ]
     },
     "execution_count": 79,
     "metadata": {},
     "output_type": "execute_result"
    }
   ],
   "source": [
    "#Show donation totals by fund and fiscal year\n",
    "donations_by_fy_fund = donations_no_outlier_amts[(donations_no_outlier_amts['donation_record_type'] != 'Pledge')].groupby(['fund','fiscal_year'])['amount'].sum()\n",
    "donations_by_fy_fund"
   ]
  },
  {
   "cell_type": "code",
   "execution_count": 80,
   "metadata": {},
   "outputs": [
    {
     "name": "stderr",
     "output_type": "stream",
     "text": [
      "/Users/georgesmith/anaconda3/lib/python3.7/site-packages/ipykernel_launcher.py:2: UserWarning:\n",
      "\n",
      "Boolean Series key will be reindexed to match DataFrame index.\n",
      "\n"
     ]
    },
    {
     "data": {
      "text/plain": [
       "close_date\n",
       "2014-07-01      30.0\n",
       "2014-07-09     409.0\n",
       "2014-07-16     485.0\n",
       "2014-07-21     100.0\n",
       "2014-07-28    1200.0\n",
       "Name: amount, dtype: float64"
      ]
     },
     "execution_count": 80,
     "metadata": {},
     "output_type": "execute_result"
    }
   ],
   "source": [
    "#Visualize annual fund donations by date\n",
    "af_donations_by_close_date = donations_no_outlier_amts[(donations['fund'] == 'Annual Fund') & (donations_no_outlier_amts['donation_record_type'] != 'Pledge')].groupby('close_date')['amount'].sum()\n",
    "af_donations_by_close_date.head()"
   ]
  },
  {
   "cell_type": "code",
   "execution_count": 143,
   "metadata": {},
   "outputs": [
    {
     "data": {
      "text/plain": [
       "Text(0.5, 1.0, 'Annual Fund Donation Totals Per Day')"
      ]
     },
     "execution_count": 143,
     "metadata": {},
     "output_type": "execute_result"
    },
    {
     "data": {
      "image/png": "[encoded data removed]",
      "text/plain": [
       "<Figure size 1080x432 with 1 Axes>"
      ]
     },
     "metadata": {},
     "output_type": "display_data"
    }
   ],
   "source": [
    "#Plot the daily annual fund donation totals\n",
    "\n",
    "#set style\n",
    "sns.set(style='darkgrid')\n",
    "\n",
    "#Adjust the plot size\n",
    "plt.figure(figsize=[15,6])\n",
    "\n",
    "#Line Plot\n",
    "sns.lineplot(x=af_donations_by_close_date.index, y=af_donations_by_close_date.values, color='magenta')\n",
    "\n",
    "#Assign axis labels:\n",
    "plt.ylabel('Donation Total ($)', fontsize=14)\n",
    "plt.xlabel('Close Date', fontsize=14)\n",
    "plt.title('Annual Fund Donation Totals Per Day')"
   ]
  },
  {
   "cell_type": "code",
   "execution_count": 83,
   "metadata": {},
   "outputs": [
    {
     "data": {
      "text/plain": [
       "fiscal_year\n",
       "2015    216.960048\n",
       "2016    268.633459\n",
       "2017    165.854761\n",
       "2018     89.820712\n",
       "2019    133.316047\n",
       "2020    129.529119\n",
       "2021    346.905517\n",
       "Name: amount, dtype: float64"
      ]
     },
     "execution_count": 83,
     "metadata": {},
     "output_type": "execute_result"
    }
   ],
   "source": [
    "#Visualize mean annual fund donations by FY\n",
    "af_donations_mean_by_fy = donations_no_outlier_amts[(donations_no_outlier_amts['fund'] == 'Annual Fund') & (donations_no_outlier_amts['donation_record_type'] != 'Pledge')].groupby('fiscal_year')['amount'].mean()\n",
    "af_donations_mean_by_fy"
   ]
  },
  {
   "cell_type": "code",
   "execution_count": 84,
   "metadata": {},
   "outputs": [
    {
     "data": {
      "text/plain": [
       "Text(0.5, 1.0, 'Annual Fund Donation Means By Fiscal Year')"
      ]
     },
     "execution_count": 84,
     "metadata": {},
     "output_type": "execute_result"
    },
    {
     "data": {
      "image/png": "[encoded data removed]",
      "text/plain": [
       "<Figure size 1080x432 with 1 Axes>"
      ]
     },
     "metadata": {},
     "output_type": "display_data"
    }
   ],
   "source": [
    "#Plot the annual fund means by fiscal year\n",
    "\n",
    "#set style\n",
    "sns.set(style='darkgrid')\n",
    "\n",
    "#Adjust the plot size\n",
    "plt.figure(figsize=[15,6])\n",
    "\n",
    "#Line Plot\n",
    "sns.barplot(x=af_donations_mean_by_fy.index, y=af_donations_mean_by_fy.values, color='green')\n",
    "\n",
    "#Assign axis labels:\n",
    "plt.ylabel('Mean Donations ($)', fontsize=14)\n",
    "plt.xlabel('Fiscal Year', fontsize=14)\n",
    "plt.title('Annual Fund Donation Means By Fiscal Year')"
   ]
  },
  {
   "cell_type": "code",
   "execution_count": 85,
   "metadata": {},
   "outputs": [
    {
     "data": {
      "text/html": [
       "<div>\n",
       "<style scoped>\n",
       "    .dataframe tbody tr th:only-of-type {\n",
       "        vertical-align: middle;\n",
       "    }\n",
       "\n",
       "    .dataframe tbody tr th {\n",
       "        vertical-align: top;\n",
       "    }\n",
       "\n",
       "    .dataframe thead th {\n",
       "        text-align: right;\n",
       "    }\n",
       "</style>\n",
       "<table border=\"1\" class=\"dataframe\">\n",
       "  <thead>\n",
       "    <tr style=\"text-align: right;\">\n",
       "      <th>fiscal_year</th>\n",
       "      <th>2015</th>\n",
       "      <th>2016</th>\n",
       "      <th>2017</th>\n",
       "      <th>2018</th>\n",
       "      <th>2019</th>\n",
       "      <th>2020</th>\n",
       "      <th>2021</th>\n",
       "    </tr>\n",
       "  </thead>\n",
       "  <tbody>\n",
       "    <tr>\n",
       "      <th>amount</th>\n",
       "      <td>216.960048</td>\n",
       "      <td>268.633459</td>\n",
       "      <td>165.854761</td>\n",
       "      <td>89.820712</td>\n",
       "      <td>133.316047</td>\n",
       "      <td>129.529119</td>\n",
       "      <td>346.905517</td>\n",
       "    </tr>\n",
       "  </tbody>\n",
       "</table>\n",
       "</div>"
      ],
      "text/plain": [
       "fiscal_year        2015        2016        2017       2018        2019  \\\n",
       "amount       216.960048  268.633459  165.854761  89.820712  133.316047   \n",
       "\n",
       "fiscal_year        2020        2021  \n",
       "amount       129.529119  346.905517  "
      ]
     },
     "execution_count": 85,
     "metadata": {},
     "output_type": "execute_result"
    }
   ],
   "source": [
    "pd.DataFrame(af_donations_mean_by_fy).T"
   ]
  },
  {
   "cell_type": "code",
   "execution_count": 86,
   "metadata": {},
   "outputs": [
    {
     "data": {
      "text/plain": [
       "fiscal_year\n",
       "2015     209\n",
       "2016     159\n",
       "2017     397\n",
       "2018     829\n",
       "2019     774\n",
       "2020    1419\n",
       "2021      29\n",
       "Name: amount, dtype: int64"
      ]
     },
     "execution_count": 86,
     "metadata": {},
     "output_type": "execute_result"
    }
   ],
   "source": [
    "#Visualize annual fund donation volume by FY\n",
    "af_donations_vol_by_fy = donations_no_outlier_amts[(donations_no_outlier_amts['fund'] == 'Annual Fund') & (donations_no_outlier_amts['donation_record_type'] != 'Pledge')].groupby('fiscal_year')['amount'].count()\n",
    "af_donations_vol_by_fy"
   ]
  },
  {
   "cell_type": "code",
   "execution_count": 87,
   "metadata": {},
   "outputs": [
    {
     "data": {
      "text/plain": [
       "Text(0.5, 1.0, 'Annual Fund Donation Volume By Fiscal Year')"
      ]
     },
     "execution_count": 87,
     "metadata": {},
     "output_type": "execute_result"
    },
    {
     "data": {
      "image/png": "[encoded data removed]",
      "text/plain": [
       "<Figure size 1080x432 with 1 Axes>"
      ]
     },
     "metadata": {},
     "output_type": "display_data"
    }
   ],
   "source": [
    "#Plot the annual fund volume by fiscal year\n",
    "\n",
    "#set style\n",
    "sns.set(style='darkgrid')\n",
    "\n",
    "#Adjust the plot size\n",
    "plt.figure(figsize=[15,6])\n",
    "\n",
    "#Line Plot\n",
    "sns.barplot(x=af_donations_vol_by_fy.index, y=af_donations_vol_by_fy.values, color='purple')\n",
    "\n",
    "#Assign axis labels:\n",
    "plt.ylabel('Number of Donors', fontsize=14)\n",
    "plt.xlabel('Fiscal Year', fontsize=14)\n",
    "plt.title('Annual Fund Donation Volume By Fiscal Year')"
   ]
  },
  {
   "cell_type": "code",
   "execution_count": 90,
   "metadata": {},
   "outputs": [
    {
     "data": {
      "text/plain": [
       "fiscal_year\n",
       "2015     45344.65\n",
       "2016     42712.72\n",
       "2017     65844.34\n",
       "2018     74461.37\n",
       "2019    103186.62\n",
       "2020    183801.82\n",
       "2021     10060.26\n",
       "Name: amount, dtype: float64"
      ]
     },
     "execution_count": 90,
     "metadata": {},
     "output_type": "execute_result"
    }
   ],
   "source": [
    "#AF Donations by FY\n",
    "donations_no_outlier_amts[(donations_no_outlier_amts['fund'] == 'Annual Fund')].groupby('fiscal_year')['amount'].sum()"
   ]
  },
  {
   "cell_type": "code",
   "execution_count": null,
   "metadata": {},
   "outputs": [],
   "source": [
    "#Visualize donations by campaign\n",
    "#donations_by_campaign = donations[(donations['donation_record_type'] != 'Pledge')].groupby('campaign')['amount'].sum()\n",
    "#donations_by_campaign.reindex(['Outside of Campaign Period (S22)', 'Fall 2014 Annual Fund Appeal (S22)', 'Outside of Campaign Period (S23)', 'Fall 2015 Annual Fund Appeal (S23)', 'Outside of Campaign Period (S24)', 'Fall 2016 Annual Fund Appeal (S24)', 'Outside of Campaign Period (S25)', 'Fall 2017 Annual Fund Appeal (S25)', 'Spring 2018 Annual Fund Appeal (S25)', 'Outside of Campaign Period (S26)', 'Fall 2018 Annual Fund Appeal (S26)', 'Spring 2019 Annual Fund Appeal (S26)', 'Outside of Campaign Period (S27)', 'Fall 2019 Annual Fund Appeal (S27)', 'GIVINGTUESDAYNOW (S27)', 'Spring 2020 Annual Fund Appeal (S27)'])"
   ]
  },
  {
   "cell_type": "code",
   "execution_count": null,
   "metadata": {},
   "outputs": [],
   "source": [
    "#Plot the daily donation volume\n",
    "\n",
    "#set style\n",
    "#sns.set(style='darkgrid')\n",
    "\n",
    "#Adjust the plot size\n",
    "#plt.figure(figsize=[15,6])\n",
    "\n",
    "#Line Plot\n",
    "#sns.lineplot(x=donations_by_campaign.index, y=donations_by_campaign.values, color='green')\n",
    "\n",
    "#Assign axis labels:\n",
    "#plt.ylabel('Donation Total ($)', fontsize=14)\n",
    "#plt.xlabel('Campaign Period', fontsize=14)\n",
    "#plt.xticks(rotation=90)"
   ]
  },
  {
   "cell_type": "code",
   "execution_count": null,
   "metadata": {},
   "outputs": [],
   "source": [
    "# pledges = donations.loc[donations['donation_record_type'] == 'Pledge', \n",
    "#                         ['donation_id', 'donation_record_type', 'amount',\n",
    "#        'close_date', 'account_name', 'account_id', 'account_record_type',\n",
    "#        'contact_id', 'pledge_amount', 'fund', \n",
    "#        'fiscal_year', 'type', 'first_donation_date', 'last_donation_amount',\n",
    "#        'last_donation_date', 'lifetime_donation_count',\n",
    "#        'lifetime_donation_total_amount', 'lifetime_order_count',\n",
    "#        'lifetime_single_ticket_purchase_total',\n",
    "#        'lifetime_subscription_purchase_total', 'account_created_date', 'account_phone', 'amount_donated_last_365_days',\n",
    "#        'amount_donated_last_fiscal_year', 'amount_donated_this_fiscal_year',\n",
    "#        'ticket_order_id', 'order_count_last_#_days',\n",
    "#        'mailing_street', 'mailing_city', 'mailing_state', 'mailing_zip',\n",
    "#        'campaign']]"
   ]
  },
  {
   "cell_type": "code",
   "execution_count": null,
   "metadata": {},
   "outputs": [],
   "source": [
    "# #Filter refunded out of donations; select columns for analysis\n",
    "# donations = donations.loc[(donations['stage'] != 'Refunded') & (donations['donation_record_type'] != 'Pledge'), \n",
    "#                           ['donation_id', 'donation_record_type', 'amount',\n",
    "#        'close_date', 'account_name', 'account_id', 'account_record_type',\n",
    "#        'contact_id', 'pledge_amount', 'fund', \n",
    "#        'fiscal_year', 'type', 'first_donation_date', 'last_donation_amount',\n",
    "#        'last_donation_date', 'lifetime_donation_count',\n",
    "#        'lifetime_donation_total_amount', 'lifetime_order_count',\n",
    "#        'lifetime_single_ticket_purchase_total',\n",
    "#        'lifetime_subscription_purchase_total', 'account_created_date', 'account_phone', 'amount_donated_last_365_days',\n",
    "#        'amount_donated_last_fiscal_year', 'amount_donated_this_fiscal_year',\n",
    "#        'ticket_order_id', 'order_count_last_#_days',\n",
    "#        'mailing_street', 'mailing_city', 'mailing_state', 'mailing_zip',\n",
    "#        'campaign']]"
   ]
  },
  {
   "cell_type": "markdown",
   "metadata": {},
   "source": [
    "# Stewardship Program Analysis"
   ]
  },
  {
   "cell_type": "markdown",
   "metadata": {},
   "source": [
    "Create stewardship level columns"
   ]
  },
  {
   "cell_type": "code",
   "execution_count": 91,
   "metadata": {},
   "outputs": [],
   "source": [
    "#Only Annual Fund dontations made by Household or Individual donors are included in stewardship program totals\n",
    "donations_no_outlier_amts['stp_total_s27'] = donations_no_outlier_amts.loc[(donations_no_outlier_amts['close_date'] >= '2018-07-01') & (donations_no_outlier_amts['fund'] == 'Annual Fund') & (donations_no_outlier_amts['account_record_type'].isin(['Household', 'Individual']))].groupby('account_id')['amount'].transform('sum')\n",
    "donations_no_outlier_amts['stp_total_s26'] = donations_no_outlier_amts.loc[(donations_no_outlier_amts['close_date'] >= '2017-07-01') & (donations_no_outlier_amts['close_date'] <= '2019-06-30') & (donations_no_outlier_amts['fund'] == 'Annual Fund') & (donations_no_outlier_amts['account_record_type'].isin(['Household', 'Individual']))].groupby('account_id')['amount'].transform('sum')\n",
    "donations_no_outlier_amts['stp_total_s25'] = donations_no_outlier_amts.loc[(donations_no_outlier_amts['close_date'] >= '2016-07-01') & (donations_no_outlier_amts['close_date'] <= '2018-06-30') & (donations_no_outlier_amts['fund'] == 'Annual Fund') & (donations_no_outlier_amts['account_record_type'].isin(['Household', 'Individual']))].groupby('account_id')['amount'].transform('sum')\n",
    "donations_no_outlier_amts['stp_total_s24'] = donations_no_outlier_amts.loc[(donations_no_outlier_amts['close_date'] >= '2015-07-01') & (donations_no_outlier_amts['close_date'] <= '2017-06-30') & (donations_no_outlier_amts['fund'] == 'Annual Fund') & (donations_no_outlier_amts['account_record_type'].isin(['Household', 'Individual']))].groupby('account_id')['amount'].transform('sum')\n",
    "donations_no_outlier_amts['stp_total_s23'] = donations_no_outlier_amts.loc[(donations_no_outlier_amts['close_date'] >= '2014-07-01') & (donations_no_outlier_amts['close_date'] <= '2016-06-30') & (donations_no_outlier_amts['fund'] == 'Annual Fund') & (donations_no_outlier_amts['account_record_type'].isin(['Household', 'Individual']))].groupby('account_id')['amount'].transform('sum')"
   ]
  },
  {
   "cell_type": "code",
   "execution_count": 92,
   "metadata": {},
   "outputs": [],
   "source": [
    "#Fill NaNs with max value for that account_id shown in other rows for that particular stp_total_sXX column \n",
    "stp_total_cols = ['stp_total_s27', 'stp_total_s26', 'stp_total_s25', 'stp_total_s24', 'stp_total_s23']\n",
    "for col in stp_total_cols:\n",
    "    donations_no_outlier_amts.loc[donations_no_outlier_amts[col].isnull(), col] = donations_no_outlier_amts.groupby('account_id')[col].transform('max')"
   ]
  },
  {
   "cell_type": "code",
   "execution_count": 93,
   "metadata": {},
   "outputs": [],
   "source": [
    "#Now, fill remaining nan in stp_total_sXX cols with 0 to simplify ufunc (stp_level_generator) below:  \n",
    "donations_no_outlier_amts[['stp_total_s27', 'stp_total_s26', 'stp_total_s25', 'stp_total_s24', 'stp_total_s23']] = donations_no_outlier_amts.loc[:,['stp_total_s27', 'stp_total_s26', 'stp_total_s25', 'stp_total_s24', 'stp_total_s23']].fillna(0)"
   ]
  },
  {
   "cell_type": "code",
   "execution_count": 94,
   "metadata": {
    "scrolled": false
   },
   "outputs": [
    {
     "data": {
      "text/html": [
       "<div>\n",
       "<style scoped>\n",
       "    .dataframe tbody tr th:only-of-type {\n",
       "        vertical-align: middle;\n",
       "    }\n",
       "\n",
       "    .dataframe tbody tr th {\n",
       "        vertical-align: top;\n",
       "    }\n",
       "\n",
       "    .dataframe thead th {\n",
       "        text-align: right;\n",
       "    }\n",
       "</style>\n",
       "<table border=\"1\" class=\"dataframe\">\n",
       "  <thead>\n",
       "    <tr style=\"text-align: right;\">\n",
       "      <th></th>\n",
       "      <th>stp_total_s27</th>\n",
       "      <th>stp_total_s26</th>\n",
       "      <th>stp_total_s25</th>\n",
       "      <th>stp_total_s24</th>\n",
       "      <th>stp_total_s23</th>\n",
       "    </tr>\n",
       "  </thead>\n",
       "  <tbody>\n",
       "    <tr>\n",
       "      <th>364</th>\n",
       "      <td>615.0</td>\n",
       "      <td>455.0</td>\n",
       "      <td>642.0</td>\n",
       "      <td>502.0</td>\n",
       "      <td>0.0</td>\n",
       "    </tr>\n",
       "    <tr>\n",
       "      <th>365</th>\n",
       "      <td>615.0</td>\n",
       "      <td>455.0</td>\n",
       "      <td>642.0</td>\n",
       "      <td>502.0</td>\n",
       "      <td>0.0</td>\n",
       "    </tr>\n",
       "    <tr>\n",
       "      <th>1306</th>\n",
       "      <td>615.0</td>\n",
       "      <td>455.0</td>\n",
       "      <td>642.0</td>\n",
       "      <td>502.0</td>\n",
       "      <td>0.0</td>\n",
       "    </tr>\n",
       "    <tr>\n",
       "      <th>1307</th>\n",
       "      <td>615.0</td>\n",
       "      <td>455.0</td>\n",
       "      <td>642.0</td>\n",
       "      <td>502.0</td>\n",
       "      <td>0.0</td>\n",
       "    </tr>\n",
       "    <tr>\n",
       "      <th>2507</th>\n",
       "      <td>615.0</td>\n",
       "      <td>455.0</td>\n",
       "      <td>642.0</td>\n",
       "      <td>502.0</td>\n",
       "      <td>0.0</td>\n",
       "    </tr>\n",
       "    <tr>\n",
       "      <th>2508</th>\n",
       "      <td>615.0</td>\n",
       "      <td>455.0</td>\n",
       "      <td>642.0</td>\n",
       "      <td>502.0</td>\n",
       "      <td>0.0</td>\n",
       "    </tr>\n",
       "    <tr>\n",
       "      <th>2509</th>\n",
       "      <td>615.0</td>\n",
       "      <td>455.0</td>\n",
       "      <td>642.0</td>\n",
       "      <td>502.0</td>\n",
       "      <td>0.0</td>\n",
       "    </tr>\n",
       "    <tr>\n",
       "      <th>2510</th>\n",
       "      <td>615.0</td>\n",
       "      <td>455.0</td>\n",
       "      <td>642.0</td>\n",
       "      <td>502.0</td>\n",
       "      <td>0.0</td>\n",
       "    </tr>\n",
       "    <tr>\n",
       "      <th>2511</th>\n",
       "      <td>615.0</td>\n",
       "      <td>455.0</td>\n",
       "      <td>642.0</td>\n",
       "      <td>502.0</td>\n",
       "      <td>0.0</td>\n",
       "    </tr>\n",
       "    <tr>\n",
       "      <th>2512</th>\n",
       "      <td>615.0</td>\n",
       "      <td>455.0</td>\n",
       "      <td>642.0</td>\n",
       "      <td>502.0</td>\n",
       "      <td>0.0</td>\n",
       "    </tr>\n",
       "    <tr>\n",
       "      <th>2513</th>\n",
       "      <td>615.0</td>\n",
       "      <td>455.0</td>\n",
       "      <td>642.0</td>\n",
       "      <td>502.0</td>\n",
       "      <td>0.0</td>\n",
       "    </tr>\n",
       "    <tr>\n",
       "      <th>2514</th>\n",
       "      <td>615.0</td>\n",
       "      <td>455.0</td>\n",
       "      <td>642.0</td>\n",
       "      <td>502.0</td>\n",
       "      <td>0.0</td>\n",
       "    </tr>\n",
       "    <tr>\n",
       "      <th>2515</th>\n",
       "      <td>615.0</td>\n",
       "      <td>455.0</td>\n",
       "      <td>642.0</td>\n",
       "      <td>502.0</td>\n",
       "      <td>0.0</td>\n",
       "    </tr>\n",
       "    <tr>\n",
       "      <th>2516</th>\n",
       "      <td>615.0</td>\n",
       "      <td>455.0</td>\n",
       "      <td>642.0</td>\n",
       "      <td>502.0</td>\n",
       "      <td>0.0</td>\n",
       "    </tr>\n",
       "    <tr>\n",
       "      <th>2517</th>\n",
       "      <td>615.0</td>\n",
       "      <td>455.0</td>\n",
       "      <td>642.0</td>\n",
       "      <td>502.0</td>\n",
       "      <td>0.0</td>\n",
       "    </tr>\n",
       "    <tr>\n",
       "      <th>2518</th>\n",
       "      <td>615.0</td>\n",
       "      <td>455.0</td>\n",
       "      <td>642.0</td>\n",
       "      <td>502.0</td>\n",
       "      <td>0.0</td>\n",
       "    </tr>\n",
       "    <tr>\n",
       "      <th>2519</th>\n",
       "      <td>615.0</td>\n",
       "      <td>455.0</td>\n",
       "      <td>642.0</td>\n",
       "      <td>502.0</td>\n",
       "      <td>0.0</td>\n",
       "    </tr>\n",
       "    <tr>\n",
       "      <th>2520</th>\n",
       "      <td>615.0</td>\n",
       "      <td>455.0</td>\n",
       "      <td>642.0</td>\n",
       "      <td>502.0</td>\n",
       "      <td>0.0</td>\n",
       "    </tr>\n",
       "    <tr>\n",
       "      <th>2521</th>\n",
       "      <td>615.0</td>\n",
       "      <td>455.0</td>\n",
       "      <td>642.0</td>\n",
       "      <td>502.0</td>\n",
       "      <td>0.0</td>\n",
       "    </tr>\n",
       "    <tr>\n",
       "      <th>2522</th>\n",
       "      <td>615.0</td>\n",
       "      <td>455.0</td>\n",
       "      <td>642.0</td>\n",
       "      <td>502.0</td>\n",
       "      <td>0.0</td>\n",
       "    </tr>\n",
       "    <tr>\n",
       "      <th>3069</th>\n",
       "      <td>615.0</td>\n",
       "      <td>455.0</td>\n",
       "      <td>642.0</td>\n",
       "      <td>502.0</td>\n",
       "      <td>0.0</td>\n",
       "    </tr>\n",
       "    <tr>\n",
       "      <th>3070</th>\n",
       "      <td>615.0</td>\n",
       "      <td>455.0</td>\n",
       "      <td>642.0</td>\n",
       "      <td>502.0</td>\n",
       "      <td>0.0</td>\n",
       "    </tr>\n",
       "    <tr>\n",
       "      <th>3071</th>\n",
       "      <td>615.0</td>\n",
       "      <td>455.0</td>\n",
       "      <td>642.0</td>\n",
       "      <td>502.0</td>\n",
       "      <td>0.0</td>\n",
       "    </tr>\n",
       "    <tr>\n",
       "      <th>3072</th>\n",
       "      <td>615.0</td>\n",
       "      <td>455.0</td>\n",
       "      <td>642.0</td>\n",
       "      <td>502.0</td>\n",
       "      <td>0.0</td>\n",
       "    </tr>\n",
       "    <tr>\n",
       "      <th>3073</th>\n",
       "      <td>615.0</td>\n",
       "      <td>455.0</td>\n",
       "      <td>642.0</td>\n",
       "      <td>502.0</td>\n",
       "      <td>0.0</td>\n",
       "    </tr>\n",
       "  </tbody>\n",
       "</table>\n",
       "</div>"
      ],
      "text/plain": [
       "      stp_total_s27  stp_total_s26  stp_total_s25  stp_total_s24  \\\n",
       "364           615.0          455.0          642.0          502.0   \n",
       "365           615.0          455.0          642.0          502.0   \n",
       "1306          615.0          455.0          642.0          502.0   \n",
       "1307          615.0          455.0          642.0          502.0   \n",
       "2507          615.0          455.0          642.0          502.0   \n",
       "2508          615.0          455.0          642.0          502.0   \n",
       "2509          615.0          455.0          642.0          502.0   \n",
       "2510          615.0          455.0          642.0          502.0   \n",
       "2511          615.0          455.0          642.0          502.0   \n",
       "2512          615.0          455.0          642.0          502.0   \n",
       "2513          615.0          455.0          642.0          502.0   \n",
       "2514          615.0          455.0          642.0          502.0   \n",
       "2515          615.0          455.0          642.0          502.0   \n",
       "2516          615.0          455.0          642.0          502.0   \n",
       "2517          615.0          455.0          642.0          502.0   \n",
       "2518          615.0          455.0          642.0          502.0   \n",
       "2519          615.0          455.0          642.0          502.0   \n",
       "2520          615.0          455.0          642.0          502.0   \n",
       "2521          615.0          455.0          642.0          502.0   \n",
       "2522          615.0          455.0          642.0          502.0   \n",
       "3069          615.0          455.0          642.0          502.0   \n",
       "3070          615.0          455.0          642.0          502.0   \n",
       "3071          615.0          455.0          642.0          502.0   \n",
       "3072          615.0          455.0          642.0          502.0   \n",
       "3073          615.0          455.0          642.0          502.0   \n",
       "\n",
       "      stp_total_s23  \n",
       "364             0.0  \n",
       "365             0.0  \n",
       "1306            0.0  \n",
       "1307            0.0  \n",
       "2507            0.0  \n",
       "2508            0.0  \n",
       "2509            0.0  \n",
       "2510            0.0  \n",
       "2511            0.0  \n",
       "2512            0.0  \n",
       "2513            0.0  \n",
       "2514            0.0  \n",
       "2515            0.0  \n",
       "2516            0.0  \n",
       "2517            0.0  \n",
       "2518            0.0  \n",
       "2519            0.0  \n",
       "2520            0.0  \n",
       "2521            0.0  \n",
       "2522            0.0  \n",
       "3069            0.0  \n",
       "3070            0.0  \n",
       "3071            0.0  \n",
       "3072            0.0  \n",
       "3073            0.0  "
      ]
     },
     "execution_count": 94,
     "metadata": {},
     "output_type": "execute_result"
    }
   ],
   "source": [
    "#Confirm by checking output for one account_id\n",
    "donations_no_outlier_amts.loc[donations_no_outlier_amts['account_id'] == '0013600000VKRp8', ['stp_total_s27', 'stp_total_s26', 'stp_total_s25', 'stp_total_s24', 'stp_total_s23'] ]"
   ]
  },
  {
   "cell_type": "code",
   "execution_count": 95,
   "metadata": {},
   "outputs": [
    {
     "data": {
      "text/plain": [
       "donation_id                                 0\n",
       "donation_record_type                        0\n",
       "amount                                      0\n",
       "close_date                                  0\n",
       "account_id                                  2\n",
       "account_record_type                         2\n",
       "contact_id                                  0\n",
       "pledge_amount                            4105\n",
       "fund                                        0\n",
       "payment_type                              111\n",
       "fiscal_quarter                              0\n",
       "fiscal_year                                 0\n",
       "type                                     1697\n",
       "frequency                                2741\n",
       "amount_matched                              0\n",
       "first_donation_date                         2\n",
       "last_donation_amount                        5\n",
       "last_donation_date                          2\n",
       "lifetime_donation_count                     2\n",
       "lifetime_donation_total_amount              2\n",
       "lifetime_order_count                        2\n",
       "lifetime_single_ticket_purchase_total       2\n",
       "lifetime_subscription_purchase_total        2\n",
       "do_not_mail                                 0\n",
       "email_opt_out                               0\n",
       "account_created_date                        0\n",
       "payment_schedule                         4105\n",
       "stage                                       0\n",
       "amount_due                                  0\n",
       "amount_paid                                 0\n",
       "anonymous                                   0\n",
       "card_type                                2633\n",
       "dedication_type                          3989\n",
       "donation_origin                          2306\n",
       "amount_donated_last_365_days                2\n",
       "amount_donated_last_fiscal_year             2\n",
       "amount_donated_this_fiscal_year             2\n",
       "description                              3976\n",
       "group_sales_total                           0\n",
       "ticket_order_id                          3880\n",
       "total_amount                                0\n",
       "transaction_id                              0\n",
       "last_transaction_id                      3407\n",
       "order_count_last_#_days                     2\n",
       "mailing_city                              203\n",
       "mailing_state                             204\n",
       "mailing_zip                               203\n",
       "campaign                                    0\n",
       "stp_total_s27                               0\n",
       "stp_total_s26                               0\n",
       "stp_total_s25                               0\n",
       "stp_total_s24                               0\n",
       "stp_total_s23                               0\n",
       "dtype: int64"
      ]
     },
     "execution_count": 95,
     "metadata": {},
     "output_type": "execute_result"
    }
   ],
   "source": [
    "donations_no_outlier_amts.isna().sum()"
   ]
  },
  {
   "cell_type": "markdown",
   "metadata": {},
   "source": [
    "# Translate stewardship amount by season into stewardship level by account_id"
   ]
  },
  {
   "cell_type": "code",
   "execution_count": 96,
   "metadata": {},
   "outputs": [],
   "source": [
    "def stp_level_generator(series):\n",
    "    if series == 0:\n",
    "        return 'Did Not Give'\n",
    "    elif (series > 0) & (series < 125):\n",
    "        return 'Pre-Steward'\n",
    "    elif (series >= 125) & (series < 250):\n",
    "        return 'Supporter'\n",
    "    elif (series >= 250) & (series < 500):\n",
    "        return 'Investor'\n",
    "    elif (series >= 500) & (series < 1000):\n",
    "        return 'Underwriter'\n",
    "    elif (series >= 1000) & (series < 2500):\n",
    "        return 'Performer'\n",
    "    elif (series >= 2500) & (series < 5000):\n",
    "        return 'Director'\n",
    "    elif (series >= 5000):\n",
    "        return 'Producer'"
   ]
  },
  {
   "cell_type": "code",
   "execution_count": 97,
   "metadata": {},
   "outputs": [],
   "source": [
    "#Create new dataframe with account_id, stp_total_sX cols and corresponding stp_level cols: \n",
    "stp_amt_list = ['stp_total_s27', 'stp_total_s26', 'stp_total_s25', 'stp_total_s24', 'stp_total_s23']\n",
    "levels_by_season_df = pd.DataFrame()\n",
    "levels_by_season_df['account_id'] = donations_no_outlier_amts['account_id']\n",
    "\n",
    "for col in stp_amt_list:\n",
    "    levels_by_season_df[col] = donations_no_outlier_amts[col]\n",
    "    col_name = col[:3] + col[9:] + '_level'\n",
    "    levels_by_season_df[col_name] = (donations_no_outlier_amts[col].apply(stp_level_generator))"
   ]
  },
  {
   "cell_type": "code",
   "execution_count": 98,
   "metadata": {},
   "outputs": [
    {
     "data": {
      "text/html": [
       "<div>\n",
       "<style scoped>\n",
       "    .dataframe tbody tr th:only-of-type {\n",
       "        vertical-align: middle;\n",
       "    }\n",
       "\n",
       "    .dataframe tbody tr th {\n",
       "        vertical-align: top;\n",
       "    }\n",
       "\n",
       "    .dataframe thead th {\n",
       "        text-align: right;\n",
       "    }\n",
       "</style>\n",
       "<table border=\"1\" class=\"dataframe\">\n",
       "  <thead>\n",
       "    <tr style=\"text-align: right;\">\n",
       "      <th></th>\n",
       "      <th>account_id</th>\n",
       "      <th>stp_total_s27</th>\n",
       "      <th>stp_s27_level</th>\n",
       "      <th>stp_total_s26</th>\n",
       "      <th>stp_s26_level</th>\n",
       "      <th>stp_total_s25</th>\n",
       "      <th>stp_s25_level</th>\n",
       "      <th>stp_total_s24</th>\n",
       "      <th>stp_s24_level</th>\n",
       "      <th>stp_total_s23</th>\n",
       "      <th>stp_s23_level</th>\n",
       "    </tr>\n",
       "  </thead>\n",
       "  <tbody>\n",
       "    <tr>\n",
       "      <th>0</th>\n",
       "      <td>0013600000VKQlu</td>\n",
       "      <td>1220.0</td>\n",
       "      <td>Performer</td>\n",
       "      <td>1120.0</td>\n",
       "      <td>Performer</td>\n",
       "      <td>100.00</td>\n",
       "      <td>Pre-Steward</td>\n",
       "      <td>0.00</td>\n",
       "      <td>Did Not Give</td>\n",
       "      <td>250.0</td>\n",
       "      <td>Investor</td>\n",
       "    </tr>\n",
       "    <tr>\n",
       "      <th>1</th>\n",
       "      <td>0013600000VKQlu</td>\n",
       "      <td>1220.0</td>\n",
       "      <td>Performer</td>\n",
       "      <td>1120.0</td>\n",
       "      <td>Performer</td>\n",
       "      <td>100.00</td>\n",
       "      <td>Pre-Steward</td>\n",
       "      <td>0.00</td>\n",
       "      <td>Did Not Give</td>\n",
       "      <td>250.0</td>\n",
       "      <td>Investor</td>\n",
       "    </tr>\n",
       "    <tr>\n",
       "      <th>2</th>\n",
       "      <td>0013600000VKRVZ</td>\n",
       "      <td>12392.0</td>\n",
       "      <td>Producer</td>\n",
       "      <td>981.0</td>\n",
       "      <td>Underwriter</td>\n",
       "      <td>1026.25</td>\n",
       "      <td>Performer</td>\n",
       "      <td>442.25</td>\n",
       "      <td>Investor</td>\n",
       "      <td>0.0</td>\n",
       "      <td>Did Not Give</td>\n",
       "    </tr>\n",
       "    <tr>\n",
       "      <th>3</th>\n",
       "      <td>0013600000VKRVZ</td>\n",
       "      <td>12392.0</td>\n",
       "      <td>Producer</td>\n",
       "      <td>981.0</td>\n",
       "      <td>Underwriter</td>\n",
       "      <td>1026.25</td>\n",
       "      <td>Performer</td>\n",
       "      <td>442.25</td>\n",
       "      <td>Investor</td>\n",
       "      <td>0.0</td>\n",
       "      <td>Did Not Give</td>\n",
       "    </tr>\n",
       "    <tr>\n",
       "      <th>4</th>\n",
       "      <td>0013600000VKRVZ</td>\n",
       "      <td>12392.0</td>\n",
       "      <td>Producer</td>\n",
       "      <td>981.0</td>\n",
       "      <td>Underwriter</td>\n",
       "      <td>1026.25</td>\n",
       "      <td>Performer</td>\n",
       "      <td>442.25</td>\n",
       "      <td>Investor</td>\n",
       "      <td>0.0</td>\n",
       "      <td>Did Not Give</td>\n",
       "    </tr>\n",
       "  </tbody>\n",
       "</table>\n",
       "</div>"
      ],
      "text/plain": [
       "        account_id  stp_total_s27 stp_s27_level  stp_total_s26 stp_s26_level  \\\n",
       "0  0013600000VKQlu         1220.0     Performer         1120.0     Performer   \n",
       "1  0013600000VKQlu         1220.0     Performer         1120.0     Performer   \n",
       "2  0013600000VKRVZ        12392.0      Producer          981.0   Underwriter   \n",
       "3  0013600000VKRVZ        12392.0      Producer          981.0   Underwriter   \n",
       "4  0013600000VKRVZ        12392.0      Producer          981.0   Underwriter   \n",
       "\n",
       "   stp_total_s25 stp_s25_level  stp_total_s24 stp_s24_level  stp_total_s23  \\\n",
       "0         100.00   Pre-Steward           0.00  Did Not Give          250.0   \n",
       "1         100.00   Pre-Steward           0.00  Did Not Give          250.0   \n",
       "2        1026.25     Performer         442.25      Investor            0.0   \n",
       "3        1026.25     Performer         442.25      Investor            0.0   \n",
       "4        1026.25     Performer         442.25      Investor            0.0   \n",
       "\n",
       "  stp_s23_level  \n",
       "0      Investor  \n",
       "1      Investor  \n",
       "2  Did Not Give  \n",
       "3  Did Not Give  \n",
       "4  Did Not Give  "
      ]
     },
     "execution_count": 98,
     "metadata": {},
     "output_type": "execute_result"
    }
   ],
   "source": [
    "levels_by_season_df.head()"
   ]
  },
  {
   "cell_type": "code",
   "execution_count": 99,
   "metadata": {},
   "outputs": [],
   "source": [
    "#Remove duplicate rows based on account_id to show each donor's stewardship levels across the most recent 5 seasons\n",
    "levels_by_season_df = levels_by_season_df.drop_duplicates(subset='account_id', keep='first').reset_index(drop='True')"
   ]
  },
  {
   "cell_type": "code",
   "execution_count": 100,
   "metadata": {},
   "outputs": [
    {
     "name": "stdout",
     "output_type": "stream",
     "text": [
      "Did Not Give    1330\n",
      "Pre-Steward      126\n",
      "Investor          30\n",
      "Supporter         27\n",
      "Underwriter       20\n",
      "Performer         16\n",
      "Director           6\n",
      "Name: stp_s23_level, dtype: int64\n",
      "Did Not Give    1184\n",
      "Pre-Steward      228\n",
      "Investor          46\n",
      "Supporter         44\n",
      "Underwriter       25\n",
      "Performer         21\n",
      "Director           7\n",
      "Name: stp_s24_level, dtype: int64\n",
      "Did Not Give    920\n",
      "Pre-Steward     430\n",
      "Supporter        77\n",
      "Investor         49\n",
      "Underwriter      40\n",
      "Performer        35\n",
      "Director          4\n",
      "Name: stp_s25_level, dtype: int64\n",
      "Did Not Give    813\n",
      "Pre-Steward     494\n",
      "Supporter        99\n",
      "Investor         61\n",
      "Performer        41\n",
      "Underwriter      37\n",
      "Director          7\n",
      "Producer          3\n",
      "Name: stp_s26_level, dtype: int64\n",
      "Pre-Steward     757\n",
      "Did Not Give    454\n",
      "Supporter       121\n",
      "Investor        101\n",
      "Performer        54\n",
      "Underwriter      52\n",
      "Director         11\n",
      "Producer          5\n",
      "Name: stp_s27_level, dtype: int64\n"
     ]
    }
   ],
   "source": [
    "#Check that all stewardship levels are present in each season\n",
    "level_cols = ['stp_s23_level', 'stp_s24_level', 'stp_s25_level', 'stp_s26_level', 'stp_s27_level']\n",
    "for col in level_cols:\n",
    "    print(levels_by_season_df[col].value_counts())"
   ]
  },
  {
   "cell_type": "markdown",
   "metadata": {},
   "source": [
    "The producer level is missing from season 25. Add it below when creating that series."
   ]
  },
  {
   "cell_type": "code",
   "execution_count": 101,
   "metadata": {},
   "outputs": [
    {
     "data": {
      "text/plain": [
       "stp_s27_level\n",
       "Did Not Give    453\n",
       "Director         11\n",
       "Investor        101\n",
       "Performer        54\n",
       "Pre-Steward     757\n",
       "Producer          5\n",
       "Supporter       121\n",
       "Underwriter      52\n",
       "Name: stp_s27_level, dtype: int64"
      ]
     },
     "execution_count": 101,
     "metadata": {},
     "output_type": "execute_result"
    }
   ],
   "source": [
    "stp_donors_s27 = (levels_by_season_df.groupby('stp_s27_level')['account_id'].count()).rename('stp_s27_level')\n",
    "stp_donors_s27"
   ]
  },
  {
   "cell_type": "code",
   "execution_count": 102,
   "metadata": {},
   "outputs": [],
   "source": [
    "stp_donors_s26 = levels_by_season_df.groupby('stp_s26_level')['account_id'].count().rename('stp_s26_level')"
   ]
  },
  {
   "cell_type": "code",
   "execution_count": 107,
   "metadata": {},
   "outputs": [],
   "source": [
    "stp_donors_s25 = levels_by_season_df.groupby('stp_s25_level')['account_id'].count().rename('stp_s25_level')"
   ]
  },
  {
   "cell_type": "code",
   "execution_count": 109,
   "metadata": {},
   "outputs": [],
   "source": [
    "#stp_s25_level is has no 'Producer' level records. Add this level to the index with a value of 0.\n",
    "stp_donors_s25.loc['Producer'] = 0"
   ]
  },
  {
   "cell_type": "code",
   "execution_count": 110,
   "metadata": {},
   "outputs": [
    {
     "data": {
      "text/plain": [
       "stp_s25_level\n",
       "Did Not Give    919\n",
       "Director          4\n",
       "Investor         49\n",
       "Performer        35\n",
       "Pre-Steward     430\n",
       "Supporter        77\n",
       "Underwriter      40\n",
       "Producer          0\n",
       "Name: stp_s25_level, dtype: int64"
      ]
     },
     "execution_count": 110,
     "metadata": {},
     "output_type": "execute_result"
    }
   ],
   "source": [
    "stp_donors_s25"
   ]
  },
  {
   "cell_type": "code",
   "execution_count": 111,
   "metadata": {},
   "outputs": [],
   "source": [
    "stp_donors_s24 = levels_by_season_df.groupby('stp_s24_level')['account_id'].count().rename('stp_s24_level')"
   ]
  },
  {
   "cell_type": "code",
   "execution_count": 118,
   "metadata": {},
   "outputs": [],
   "source": [
    "#stp_s24_level is has no 'Producer' level records. Add this level to the index with a value of 0.\n",
    "stp_donors_s24.loc['Producer'] = 0"
   ]
  },
  {
   "cell_type": "code",
   "execution_count": 112,
   "metadata": {},
   "outputs": [],
   "source": [
    "stp_donors_s23 = levels_by_season_df.groupby('stp_s23_level')['account_id'].count().rename('stp_s23_level')"
   ]
  },
  {
   "cell_type": "code",
   "execution_count": 119,
   "metadata": {},
   "outputs": [],
   "source": [
    "#stp_s23_level is has no 'Producer' level records. Add this level to the index with a value of 0.\n",
    "stp_donors_s23.loc['Producer'] = 0"
   ]
  },
  {
   "cell_type": "markdown",
   "metadata": {},
   "source": [
    "# Visualize change in level size across time (seasons)"
   ]
  },
  {
   "cell_type": "code",
   "execution_count": 120,
   "metadata": {},
   "outputs": [],
   "source": [
    "#Concatenate the series above to facilitate visualizing stewardship levels by season\n",
    "stp_level_dist = (pd.concat([stp_donors_s23, stp_donors_s24, stp_donors_s25, stp_donors_s26, stp_donors_s27], axis=1, join='inner', copy=False))"
   ]
  },
  {
   "cell_type": "code",
   "execution_count": 121,
   "metadata": {
    "scrolled": false
   },
   "outputs": [
    {
     "data": {
      "text/html": [
       "<div>\n",
       "<style scoped>\n",
       "    .dataframe tbody tr th:only-of-type {\n",
       "        vertical-align: middle;\n",
       "    }\n",
       "\n",
       "    .dataframe tbody tr th {\n",
       "        vertical-align: top;\n",
       "    }\n",
       "\n",
       "    .dataframe thead th {\n",
       "        text-align: right;\n",
       "    }\n",
       "</style>\n",
       "<table border=\"1\" class=\"dataframe\">\n",
       "  <thead>\n",
       "    <tr style=\"text-align: right;\">\n",
       "      <th></th>\n",
       "      <th>stp_s23_level</th>\n",
       "      <th>stp_s24_level</th>\n",
       "      <th>stp_s25_level</th>\n",
       "      <th>stp_s26_level</th>\n",
       "      <th>stp_s27_level</th>\n",
       "    </tr>\n",
       "  </thead>\n",
       "  <tbody>\n",
       "    <tr>\n",
       "      <th>Did Not Give</th>\n",
       "      <td>1329</td>\n",
       "      <td>1183</td>\n",
       "      <td>919</td>\n",
       "      <td>812</td>\n",
       "      <td>453</td>\n",
       "    </tr>\n",
       "    <tr>\n",
       "      <th>Director</th>\n",
       "      <td>6</td>\n",
       "      <td>7</td>\n",
       "      <td>4</td>\n",
       "      <td>7</td>\n",
       "      <td>11</td>\n",
       "    </tr>\n",
       "    <tr>\n",
       "      <th>Investor</th>\n",
       "      <td>30</td>\n",
       "      <td>46</td>\n",
       "      <td>49</td>\n",
       "      <td>61</td>\n",
       "      <td>101</td>\n",
       "    </tr>\n",
       "    <tr>\n",
       "      <th>Performer</th>\n",
       "      <td>16</td>\n",
       "      <td>21</td>\n",
       "      <td>35</td>\n",
       "      <td>41</td>\n",
       "      <td>54</td>\n",
       "    </tr>\n",
       "    <tr>\n",
       "      <th>Pre-Steward</th>\n",
       "      <td>126</td>\n",
       "      <td>228</td>\n",
       "      <td>430</td>\n",
       "      <td>494</td>\n",
       "      <td>757</td>\n",
       "    </tr>\n",
       "    <tr>\n",
       "      <th>Supporter</th>\n",
       "      <td>27</td>\n",
       "      <td>44</td>\n",
       "      <td>77</td>\n",
       "      <td>99</td>\n",
       "      <td>121</td>\n",
       "    </tr>\n",
       "    <tr>\n",
       "      <th>Underwriter</th>\n",
       "      <td>20</td>\n",
       "      <td>25</td>\n",
       "      <td>40</td>\n",
       "      <td>37</td>\n",
       "      <td>52</td>\n",
       "    </tr>\n",
       "    <tr>\n",
       "      <th>Producer</th>\n",
       "      <td>0</td>\n",
       "      <td>0</td>\n",
       "      <td>0</td>\n",
       "      <td>3</td>\n",
       "      <td>5</td>\n",
       "    </tr>\n",
       "  </tbody>\n",
       "</table>\n",
       "</div>"
      ],
      "text/plain": [
       "              stp_s23_level  stp_s24_level  stp_s25_level  stp_s26_level  \\\n",
       "Did Not Give           1329           1183            919            812   \n",
       "Director                  6              7              4              7   \n",
       "Investor                 30             46             49             61   \n",
       "Performer                16             21             35             41   \n",
       "Pre-Steward             126            228            430            494   \n",
       "Supporter                27             44             77             99   \n",
       "Underwriter              20             25             40             37   \n",
       "Producer                  0              0              0              3   \n",
       "\n",
       "              stp_s27_level  \n",
       "Did Not Give            453  \n",
       "Director                 11  \n",
       "Investor                101  \n",
       "Performer                54  \n",
       "Pre-Steward             757  \n",
       "Supporter               121  \n",
       "Underwriter              52  \n",
       "Producer                  5  "
      ]
     },
     "execution_count": 121,
     "metadata": {},
     "output_type": "execute_result"
    }
   ],
   "source": [
    "stp_level_dist"
   ]
  },
  {
   "cell_type": "code",
   "execution_count": 122,
   "metadata": {},
   "outputs": [
    {
     "data": {
      "image/png": "[encoded data removed]",
      "text/plain": [
       "<Figure size 432x288 with 1 Axes>"
      ]
     },
     "metadata": {},
     "output_type": "display_data"
    }
   ],
   "source": [
    "#Create bar chart showing donor volume by stewardship level for season 23\n",
    "stp_23 = (levels_by_season_df.groupby('stp_s23_level')['account_id'].count().to_frame().iloc[1:]).plot(kind='bar', stacked=True)"
   ]
  },
  {
   "cell_type": "code",
   "execution_count": 123,
   "metadata": {},
   "outputs": [
    {
     "data": {
      "image/png": "[encoded data removed]",
      "text/plain": [
       "<Figure size 432x288 with 1 Axes>"
      ]
     },
     "metadata": {},
     "output_type": "display_data"
    }
   ],
   "source": [
    "ax = stp_level_dist.plot(kind='bar', stacked=True)"
   ]
  },
  {
   "cell_type": "markdown",
   "metadata": {},
   "source": [
    "Change row index for chart above so that the levels are in proper order."
   ]
  },
  {
   "cell_type": "code",
   "execution_count": 124,
   "metadata": {},
   "outputs": [
    {
     "data": {
      "text/plain": [
       "Index(['Did Not Give', 'Pre-Steward', 'Supporter', 'Investor', 'Underwriter',\n",
       "       'Performer', 'Director', 'Producer'],\n",
       "      dtype='object')"
      ]
     },
     "execution_count": 124,
     "metadata": {},
     "output_type": "execute_result"
    }
   ],
   "source": [
    "stp_level_dist = stp_level_dist.loc[['Did Not Give', 'Pre-Steward', 'Supporter', 'Investor', 'Underwriter', 'Performer', 'Director', 'Producer']]\n",
    "stp_level_dist.index"
   ]
  },
  {
   "cell_type": "code",
   "execution_count": 125,
   "metadata": {},
   "outputs": [
    {
     "data": {
      "image/png": "[encoded data removed]",
      "text/plain": [
       "<Figure size 432x288 with 1 Axes>"
      ]
     },
     "metadata": {},
     "output_type": "display_data"
    }
   ],
   "source": [
    "#Replot bar chart above with proper level order\n",
    "ax = stp_level_dist.plot(kind='bar', stacked=True)"
   ]
  },
  {
   "cell_type": "code",
   "execution_count": 126,
   "metadata": {},
   "outputs": [
    {
     "data": {
      "text/html": [
       "<div>\n",
       "<style scoped>\n",
       "    .dataframe tbody tr th:only-of-type {\n",
       "        vertical-align: middle;\n",
       "    }\n",
       "\n",
       "    .dataframe tbody tr th {\n",
       "        vertical-align: top;\n",
       "    }\n",
       "\n",
       "    .dataframe thead th {\n",
       "        text-align: right;\n",
       "    }\n",
       "</style>\n",
       "<table border=\"1\" class=\"dataframe\">\n",
       "  <thead>\n",
       "    <tr style=\"text-align: right;\">\n",
       "      <th></th>\n",
       "      <th>Did Not Give</th>\n",
       "      <th>Pre-Steward</th>\n",
       "      <th>Supporter</th>\n",
       "      <th>Investor</th>\n",
       "      <th>Underwriter</th>\n",
       "      <th>Performer</th>\n",
       "      <th>Director</th>\n",
       "      <th>Producer</th>\n",
       "    </tr>\n",
       "  </thead>\n",
       "  <tbody>\n",
       "    <tr>\n",
       "      <th>stp_s23_level</th>\n",
       "      <td>1329</td>\n",
       "      <td>126</td>\n",
       "      <td>27</td>\n",
       "      <td>30</td>\n",
       "      <td>20</td>\n",
       "      <td>16</td>\n",
       "      <td>6</td>\n",
       "      <td>0</td>\n",
       "    </tr>\n",
       "    <tr>\n",
       "      <th>stp_s24_level</th>\n",
       "      <td>1183</td>\n",
       "      <td>228</td>\n",
       "      <td>44</td>\n",
       "      <td>46</td>\n",
       "      <td>25</td>\n",
       "      <td>21</td>\n",
       "      <td>7</td>\n",
       "      <td>0</td>\n",
       "    </tr>\n",
       "    <tr>\n",
       "      <th>stp_s25_level</th>\n",
       "      <td>919</td>\n",
       "      <td>430</td>\n",
       "      <td>77</td>\n",
       "      <td>49</td>\n",
       "      <td>40</td>\n",
       "      <td>35</td>\n",
       "      <td>4</td>\n",
       "      <td>0</td>\n",
       "    </tr>\n",
       "    <tr>\n",
       "      <th>stp_s26_level</th>\n",
       "      <td>812</td>\n",
       "      <td>494</td>\n",
       "      <td>99</td>\n",
       "      <td>61</td>\n",
       "      <td>37</td>\n",
       "      <td>41</td>\n",
       "      <td>7</td>\n",
       "      <td>3</td>\n",
       "    </tr>\n",
       "    <tr>\n",
       "      <th>stp_s27_level</th>\n",
       "      <td>453</td>\n",
       "      <td>757</td>\n",
       "      <td>121</td>\n",
       "      <td>101</td>\n",
       "      <td>52</td>\n",
       "      <td>54</td>\n",
       "      <td>11</td>\n",
       "      <td>5</td>\n",
       "    </tr>\n",
       "  </tbody>\n",
       "</table>\n",
       "</div>"
      ],
      "text/plain": [
       "               Did Not Give  Pre-Steward  Supporter  Investor  Underwriter  \\\n",
       "stp_s23_level          1329          126         27        30           20   \n",
       "stp_s24_level          1183          228         44        46           25   \n",
       "stp_s25_level           919          430         77        49           40   \n",
       "stp_s26_level           812          494         99        61           37   \n",
       "stp_s27_level           453          757        121       101           52   \n",
       "\n",
       "               Performer  Director  Producer  \n",
       "stp_s23_level         16         6         0  \n",
       "stp_s24_level         21         7         0  \n",
       "stp_s25_level         35         4         0  \n",
       "stp_s26_level         41         7         3  \n",
       "stp_s27_level         54        11         5  "
      ]
     },
     "execution_count": 126,
     "metadata": {},
     "output_type": "execute_result"
    }
   ],
   "source": [
    "stp_level_dist.T"
   ]
  },
  {
   "cell_type": "code",
   "execution_count": 127,
   "metadata": {},
   "outputs": [
    {
     "data": {
      "text/html": [
       "<div>\n",
       "<style scoped>\n",
       "    .dataframe tbody tr th:only-of-type {\n",
       "        vertical-align: middle;\n",
       "    }\n",
       "\n",
       "    .dataframe tbody tr th {\n",
       "        vertical-align: top;\n",
       "    }\n",
       "\n",
       "    .dataframe thead th {\n",
       "        text-align: right;\n",
       "    }\n",
       "</style>\n",
       "<table border=\"1\" class=\"dataframe\">\n",
       "  <thead>\n",
       "    <tr style=\"text-align: right;\">\n",
       "      <th></th>\n",
       "      <th>Did Not Give</th>\n",
       "      <th>Pre-Steward</th>\n",
       "      <th>Supporter</th>\n",
       "      <th>Investor</th>\n",
       "      <th>Underwriter</th>\n",
       "      <th>Performer</th>\n",
       "      <th>Director</th>\n",
       "      <th>Producer</th>\n",
       "    </tr>\n",
       "  </thead>\n",
       "  <tbody>\n",
       "    <tr>\n",
       "      <th>Season 23</th>\n",
       "      <td>1329</td>\n",
       "      <td>126</td>\n",
       "      <td>27</td>\n",
       "      <td>30</td>\n",
       "      <td>20</td>\n",
       "      <td>16</td>\n",
       "      <td>6</td>\n",
       "      <td>0</td>\n",
       "    </tr>\n",
       "    <tr>\n",
       "      <th>Season 24</th>\n",
       "      <td>1183</td>\n",
       "      <td>228</td>\n",
       "      <td>44</td>\n",
       "      <td>46</td>\n",
       "      <td>25</td>\n",
       "      <td>21</td>\n",
       "      <td>7</td>\n",
       "      <td>0</td>\n",
       "    </tr>\n",
       "    <tr>\n",
       "      <th>Season 25</th>\n",
       "      <td>919</td>\n",
       "      <td>430</td>\n",
       "      <td>77</td>\n",
       "      <td>49</td>\n",
       "      <td>40</td>\n",
       "      <td>35</td>\n",
       "      <td>4</td>\n",
       "      <td>0</td>\n",
       "    </tr>\n",
       "    <tr>\n",
       "      <th>Season 26</th>\n",
       "      <td>812</td>\n",
       "      <td>494</td>\n",
       "      <td>99</td>\n",
       "      <td>61</td>\n",
       "      <td>37</td>\n",
       "      <td>41</td>\n",
       "      <td>7</td>\n",
       "      <td>3</td>\n",
       "    </tr>\n",
       "    <tr>\n",
       "      <th>Season 27</th>\n",
       "      <td>453</td>\n",
       "      <td>757</td>\n",
       "      <td>121</td>\n",
       "      <td>101</td>\n",
       "      <td>52</td>\n",
       "      <td>54</td>\n",
       "      <td>11</td>\n",
       "      <td>5</td>\n",
       "    </tr>\n",
       "  </tbody>\n",
       "</table>\n",
       "</div>"
      ],
      "text/plain": [
       "           Did Not Give  Pre-Steward  Supporter  Investor  Underwriter  \\\n",
       "Season 23          1329          126         27        30           20   \n",
       "Season 24          1183          228         44        46           25   \n",
       "Season 25           919          430         77        49           40   \n",
       "Season 26           812          494         99        61           37   \n",
       "Season 27           453          757        121       101           52   \n",
       "\n",
       "           Performer  Director  Producer  \n",
       "Season 23         16         6         0  \n",
       "Season 24         21         7         0  \n",
       "Season 25         35         4         0  \n",
       "Season 26         41         7         3  \n",
       "Season 27         54        11         5  "
      ]
     },
     "execution_count": 127,
     "metadata": {},
     "output_type": "execute_result"
    }
   ],
   "source": [
    "#Change the row labels to fix improve the bar charts\n",
    "stp_level_dist.T.set_index(pd.Index(['Season 23', 'Season 24', 'Season 25', 'Season 26', 'Season 27']))"
   ]
  },
  {
   "cell_type": "code",
   "execution_count": 128,
   "metadata": {},
   "outputs": [
    {
     "data": {
      "image/png": "[encoded data removed]",
      "text/plain": [
       "<Figure size 432x288 with 1 Axes>"
      ]
     },
     "metadata": {},
     "output_type": "display_data"
    }
   ],
   "source": [
    "ax = stp_level_dist.T.set_index(pd.Index(['Season 23', 'Season 24', 'Season 25', 'Season 26', 'Season 27'])).plot(kind='bar', stacked=True, title='Stewardship Level Volume by Season')"
   ]
  },
  {
   "cell_type": "code",
   "execution_count": 129,
   "metadata": {},
   "outputs": [
    {
     "data": {
      "image/png": "[encoded data removed]",
      "text/plain": [
       "<Figure size 432x288 with 1 Axes>"
      ]
     },
     "metadata": {},
     "output_type": "display_data"
    }
   ],
   "source": [
    "#Replot above without Did Not Give group in each season\n",
    "stp_levels = stp_level_dist[1:].T.set_index(pd.Index(['Season 23', 'Season 24', 'Season 25', 'Season 26', 'Season 27'])).plot(kind='bar', stacked=True, title='Stewardship Level Volume by Season')"
   ]
  },
  {
   "cell_type": "code",
   "execution_count": 130,
   "metadata": {},
   "outputs": [
    {
     "data": {
      "text/html": [
       "<div>\n",
       "<style scoped>\n",
       "    .dataframe tbody tr th:only-of-type {\n",
       "        vertical-align: middle;\n",
       "    }\n",
       "\n",
       "    .dataframe tbody tr th {\n",
       "        vertical-align: top;\n",
       "    }\n",
       "\n",
       "    .dataframe thead th {\n",
       "        text-align: right;\n",
       "    }\n",
       "</style>\n",
       "<table border=\"1\" class=\"dataframe\">\n",
       "  <thead>\n",
       "    <tr style=\"text-align: right;\">\n",
       "      <th></th>\n",
       "      <th>Supporter</th>\n",
       "      <th>Investor</th>\n",
       "      <th>Underwriter</th>\n",
       "      <th>Performer</th>\n",
       "      <th>Director</th>\n",
       "      <th>Producer</th>\n",
       "    </tr>\n",
       "  </thead>\n",
       "  <tbody>\n",
       "    <tr>\n",
       "      <th>Season 23</th>\n",
       "      <td>27</td>\n",
       "      <td>30</td>\n",
       "      <td>20</td>\n",
       "      <td>16</td>\n",
       "      <td>6</td>\n",
       "      <td>0</td>\n",
       "    </tr>\n",
       "    <tr>\n",
       "      <th>Season 24</th>\n",
       "      <td>44</td>\n",
       "      <td>46</td>\n",
       "      <td>25</td>\n",
       "      <td>21</td>\n",
       "      <td>7</td>\n",
       "      <td>0</td>\n",
       "    </tr>\n",
       "    <tr>\n",
       "      <th>Season 25</th>\n",
       "      <td>77</td>\n",
       "      <td>49</td>\n",
       "      <td>40</td>\n",
       "      <td>35</td>\n",
       "      <td>4</td>\n",
       "      <td>0</td>\n",
       "    </tr>\n",
       "    <tr>\n",
       "      <th>Season 26</th>\n",
       "      <td>99</td>\n",
       "      <td>61</td>\n",
       "      <td>37</td>\n",
       "      <td>41</td>\n",
       "      <td>7</td>\n",
       "      <td>3</td>\n",
       "    </tr>\n",
       "    <tr>\n",
       "      <th>Season 27</th>\n",
       "      <td>121</td>\n",
       "      <td>101</td>\n",
       "      <td>52</td>\n",
       "      <td>54</td>\n",
       "      <td>11</td>\n",
       "      <td>5</td>\n",
       "    </tr>\n",
       "  </tbody>\n",
       "</table>\n",
       "</div>"
      ],
      "text/plain": [
       "           Supporter  Investor  Underwriter  Performer  Director  Producer\n",
       "Season 23         27        30           20         16         6         0\n",
       "Season 24         44        46           25         21         7         0\n",
       "Season 25         77        49           40         35         4         0\n",
       "Season 26         99        61           37         41         7         3\n",
       "Season 27        121       101           52         54        11         5"
      ]
     },
     "execution_count": 130,
     "metadata": {},
     "output_type": "execute_result"
    }
   ],
   "source": [
    "#Transform df to show stewardship level donor counts by season, including only the actual stewardship levels\n",
    "stp_level_dist.T.set_index(pd.Index(['Season 23', 'Season 24', 'Season 25', 'Season 26', 'Season 27'])).loc[:,['Supporter', 'Investor', 'Underwriter', 'Performer', 'Director', 'Producer']]"
   ]
  },
  {
   "cell_type": "code",
   "execution_count": 149,
   "metadata": {},
   "outputs": [
    {
     "data": {
      "image/png": "[encoded data removed]",
      "text/plain": [
       "<Figure size 432x288 with 1 Axes>"
      ]
     },
     "metadata": {},
     "output_type": "display_data"
    }
   ],
   "source": [
    "stp_stacked_bars = stp_level_dist.T.set_index(pd.Index(['Season 23', 'Season 24', 'Season 25', 'Season 26', 'Season 27'])).loc[:,['Supporter', 'Investor', 'Underwriter', 'Performer', 'Director', 'Producer']].plot(kind='bar', stacked=True, title='Stewardship Levels Largely Grow Over Time')"
   ]
  },
  {
   "cell_type": "code",
   "execution_count": 150,
   "metadata": {},
   "outputs": [
    {
     "data": {
      "text/html": [
       "<div>\n",
       "<style scoped>\n",
       "    .dataframe tbody tr th:only-of-type {\n",
       "        vertical-align: middle;\n",
       "    }\n",
       "\n",
       "    .dataframe tbody tr th {\n",
       "        vertical-align: top;\n",
       "    }\n",
       "\n",
       "    .dataframe thead th {\n",
       "        text-align: right;\n",
       "    }\n",
       "</style>\n",
       "<table border=\"1\" class=\"dataframe\">\n",
       "  <thead>\n",
       "    <tr style=\"text-align: right;\">\n",
       "      <th></th>\n",
       "      <th>Supporter</th>\n",
       "      <th>Investor</th>\n",
       "      <th>Underwriter</th>\n",
       "      <th>Performer</th>\n",
       "      <th>Director</th>\n",
       "      <th>Producer</th>\n",
       "    </tr>\n",
       "  </thead>\n",
       "  <tbody>\n",
       "    <tr>\n",
       "      <th>Season 23</th>\n",
       "      <td>27</td>\n",
       "      <td>30</td>\n",
       "      <td>20</td>\n",
       "      <td>16</td>\n",
       "      <td>6</td>\n",
       "      <td>0</td>\n",
       "    </tr>\n",
       "    <tr>\n",
       "      <th>Season 24</th>\n",
       "      <td>44</td>\n",
       "      <td>46</td>\n",
       "      <td>25</td>\n",
       "      <td>21</td>\n",
       "      <td>7</td>\n",
       "      <td>0</td>\n",
       "    </tr>\n",
       "    <tr>\n",
       "      <th>Season 25</th>\n",
       "      <td>77</td>\n",
       "      <td>49</td>\n",
       "      <td>40</td>\n",
       "      <td>35</td>\n",
       "      <td>4</td>\n",
       "      <td>0</td>\n",
       "    </tr>\n",
       "    <tr>\n",
       "      <th>Season 26</th>\n",
       "      <td>99</td>\n",
       "      <td>61</td>\n",
       "      <td>37</td>\n",
       "      <td>41</td>\n",
       "      <td>7</td>\n",
       "      <td>3</td>\n",
       "    </tr>\n",
       "    <tr>\n",
       "      <th>Season 27</th>\n",
       "      <td>121</td>\n",
       "      <td>101</td>\n",
       "      <td>52</td>\n",
       "      <td>54</td>\n",
       "      <td>11</td>\n",
       "      <td>5</td>\n",
       "    </tr>\n",
       "  </tbody>\n",
       "</table>\n",
       "</div>"
      ],
      "text/plain": [
       "           Supporter  Investor  Underwriter  Performer  Director  Producer\n",
       "Season 23         27        30           20         16         6         0\n",
       "Season 24         44        46           25         21         7         0\n",
       "Season 25         77        49           40         35         4         0\n",
       "Season 26         99        61           37         41         7         3\n",
       "Season 27        121       101           52         54        11         5"
      ]
     },
     "execution_count": 150,
     "metadata": {},
     "output_type": "execute_result"
    }
   ],
   "source": [
    "stp_level_counts = stp_level_dist.T.set_index(pd.Index(['Season 23', 'Season 24', 'Season 25', 'Season 26', 'Season 27'])).loc[:,['Supporter', 'Investor', 'Underwriter', 'Performer', 'Director', 'Producer']]\n",
    "stp_level_counts"
   ]
  },
  {
   "cell_type": "code",
   "execution_count": 133,
   "metadata": {},
   "outputs": [
    {
     "name": "stdout",
     "output_type": "stream",
     "text": [
      "[0 1 2 3 4] [0.25, 1.25, 2.25, 3.25, 4.25] [0.5, 1.5, 2.5, 3.5, 4.5] [0.75, 1.75, 2.75, 3.75, 4.75] [1.0, 2.0, 3.0, 4.0, 5.0] [1.25, 2.25, 3.25, 4.25, 5.25]\n"
     ]
    }
   ],
   "source": [
    "# set width of bar\n",
    "barWidth = 0.25\n",
    " \n",
    "# set height of bar\n",
    "bars1 = list(stp_level_counts.T.values[0])\n",
    "bars2 = list(stp_level_counts.T.values[1])\n",
    "bars3 = list(stp_level_counts.T.values[2])\n",
    "bars4 = list(stp_level_counts.T.values[3])\n",
    "bars5 = list(stp_level_counts.T.values[4])\n",
    "bars6 = list(stp_level_counts.T.values[5])\n",
    " \n",
    "# Set position of bar on X axis\n",
    "r1 = np.arange(len(bars1))\n",
    "r2 = [x + barWidth for x in r1]\n",
    "r3 = [x + barWidth for x in r2]\n",
    "r4 = [x + barWidth for x in r3]\n",
    "r5 = [x + barWidth for x in r4]\n",
    "r6 = [x + barWidth for x in r5]\n",
    "\n",
    "print(r1, r2, r3, r4, r5, r6)"
   ]
  },
  {
   "cell_type": "code",
   "execution_count": 134,
   "metadata": {},
   "outputs": [
    {
     "data": {
      "image/png": "[encoded data removed]",
      "text/plain": [
       "<Figure size 432x288 with 1 Axes>"
      ]
     },
     "metadata": {},
     "output_type": "display_data"
    }
   ],
   "source": [
    "#Visualize stewardship level counts by season as a grouped barplot.\n",
    "\n",
    "# set width of bar\n",
    "barWidth = 0.150 #Resolved overlapping bars by reducing the width from .25 to .15\n",
    " \n",
    "# set height of bar\n",
    "bars1 = list(stp_level_counts.T.values[0])\n",
    "bars2 = list(stp_level_counts.T.values[1])\n",
    "bars3 = list(stp_level_counts.T.values[2])\n",
    "bars4 = list(stp_level_counts.T.values[3])\n",
    "bars5 = list(stp_level_counts.T.values[4])\n",
    "bars6 = list(stp_level_counts.T.values[5])\n",
    " \n",
    "# Set position of bar on X axis\n",
    "r1 = np.arange(len(bars1))\n",
    "r2 = [x + barWidth for x in r1]\n",
    "r3 = [x + barWidth for x in r2]\n",
    "r4 = [x + barWidth for x in r3]\n",
    "r5 = [x + barWidth for x in r4]\n",
    "r6 = [x + barWidth for x in r5]\n",
    " \n",
    "# Make the plot\n",
    "plt.bar(r1, bars1, color='yellow', width=barWidth, edgecolor='white', label='Supporter')\n",
    "plt.bar(r2, bars2, color='lightblue', width=barWidth, edgecolor='white', label='Investor')\n",
    "plt.bar(r3, bars3, color='orange', width=barWidth, edgecolor='white', label='Underwriter')\n",
    "plt.bar(r4, bars4, color='navy', width=barWidth, edgecolor='white', label='Performer')\n",
    "plt.bar(r5, bars5, color='red', width=barWidth, edgecolor='white', label='Director')\n",
    "plt.bar(r6, bars6, color='purple', width=barWidth, edgecolor='white', label='Producer')\n",
    "\n",
    "# Add xticks on the middle of the group bars\n",
    "plt.xlabel('Season', fontweight='bold')\n",
    "plt.xticks([r + barWidth for r in range(len(bars1))], list(stp_level_counts.index))\n",
    " \n",
    "# Add title, Create legend and Show graphic\n",
    "plt.title('Stewardship Level Volumes Largely Grow Over Time')\n",
    "plt.legend()\n",
    "plt.show()\n"
   ]
  },
  {
   "cell_type": "code",
   "execution_count": 135,
   "metadata": {},
   "outputs": [
    {
     "data": {
      "text/html": [
       "<div>\n",
       "<style scoped>\n",
       "    .dataframe tbody tr th:only-of-type {\n",
       "        vertical-align: middle;\n",
       "    }\n",
       "\n",
       "    .dataframe tbody tr th {\n",
       "        vertical-align: top;\n",
       "    }\n",
       "\n",
       "    .dataframe thead th {\n",
       "        text-align: right;\n",
       "    }\n",
       "</style>\n",
       "<table border=\"1\" class=\"dataframe\">\n",
       "  <thead>\n",
       "    <tr style=\"text-align: right;\">\n",
       "      <th></th>\n",
       "      <th>Pre-Steward</th>\n",
       "      <th>Supporter</th>\n",
       "      <th>Investor</th>\n",
       "      <th>Underwriter</th>\n",
       "      <th>Performer</th>\n",
       "      <th>Director</th>\n",
       "      <th>Producer</th>\n",
       "    </tr>\n",
       "  </thead>\n",
       "  <tbody>\n",
       "    <tr>\n",
       "      <th>Season 23</th>\n",
       "      <td>126</td>\n",
       "      <td>27</td>\n",
       "      <td>30</td>\n",
       "      <td>20</td>\n",
       "      <td>16</td>\n",
       "      <td>6</td>\n",
       "      <td>0</td>\n",
       "    </tr>\n",
       "    <tr>\n",
       "      <th>Season 24</th>\n",
       "      <td>228</td>\n",
       "      <td>44</td>\n",
       "      <td>46</td>\n",
       "      <td>25</td>\n",
       "      <td>21</td>\n",
       "      <td>7</td>\n",
       "      <td>0</td>\n",
       "    </tr>\n",
       "    <tr>\n",
       "      <th>Season 25</th>\n",
       "      <td>430</td>\n",
       "      <td>77</td>\n",
       "      <td>49</td>\n",
       "      <td>40</td>\n",
       "      <td>35</td>\n",
       "      <td>4</td>\n",
       "      <td>0</td>\n",
       "    </tr>\n",
       "    <tr>\n",
       "      <th>Season 26</th>\n",
       "      <td>494</td>\n",
       "      <td>99</td>\n",
       "      <td>61</td>\n",
       "      <td>37</td>\n",
       "      <td>41</td>\n",
       "      <td>7</td>\n",
       "      <td>3</td>\n",
       "    </tr>\n",
       "    <tr>\n",
       "      <th>Season 27</th>\n",
       "      <td>757</td>\n",
       "      <td>121</td>\n",
       "      <td>101</td>\n",
       "      <td>52</td>\n",
       "      <td>54</td>\n",
       "      <td>11</td>\n",
       "      <td>5</td>\n",
       "    </tr>\n",
       "  </tbody>\n",
       "</table>\n",
       "</div>"
      ],
      "text/plain": [
       "           Pre-Steward  Supporter  Investor  Underwriter  Performer  Director  \\\n",
       "Season 23          126         27        30           20         16         6   \n",
       "Season 24          228         44        46           25         21         7   \n",
       "Season 25          430         77        49           40         35         4   \n",
       "Season 26          494         99        61           37         41         7   \n",
       "Season 27          757        121       101           52         54        11   \n",
       "\n",
       "           Producer  \n",
       "Season 23         0  \n",
       "Season 24         0  \n",
       "Season 25         0  \n",
       "Season 26         3  \n",
       "Season 27         5  "
      ]
     },
     "execution_count": 135,
     "metadata": {},
     "output_type": "execute_result"
    }
   ],
   "source": [
    "stp_donor_counts = stp_level_dist.T.set_index(pd.Index(['Season 23', 'Season 24', 'Season 25', 'Season 26', 'Season 27'])).loc[:,['Pre-Steward', 'Supporter', 'Investor', 'Underwriter', 'Performer', 'Director', 'Producer']]\n",
    "stp_donor_counts"
   ]
  },
  {
   "cell_type": "code",
   "execution_count": 136,
   "metadata": {},
   "outputs": [
    {
     "data": {
      "image/png": "[encoded data removed]",
      "text/plain": [
       "<Figure size 432x288 with 1 Axes>"
      ]
     },
     "metadata": {},
     "output_type": "display_data"
    }
   ],
   "source": [
    "#Visualize stewardship donor counts by season as a grouped barplot.\n",
    "\n",
    "# set width of bar\n",
    "barWidth = 0.10 \n",
    " \n",
    "# set height of bar\n",
    "bars1 = list(stp_donor_counts.T.values[0])\n",
    "bars2 = list(stp_donor_counts.T.values[1])\n",
    "bars3 = list(stp_donor_counts.T.values[2])\n",
    "bars4 = list(stp_donor_counts.T.values[3])\n",
    "bars5 = list(stp_donor_counts.T.values[4])\n",
    "bars6 = list(stp_donor_counts.T.values[5])\n",
    "bars7 = list(stp_donor_counts.T.values[6])\n",
    " \n",
    "# Set position of bar on X axis\n",
    "r1 = np.arange(len(bars1))\n",
    "r2 = [x + barWidth for x in r1]\n",
    "r3 = [x + barWidth for x in r2]\n",
    "r4 = [x + barWidth for x in r3]\n",
    "r5 = [x + barWidth for x in r4]\n",
    "r6 = [x + barWidth for x in r5]\n",
    "r7 = [x + barWidth for x in r6]\n",
    " \n",
    "# Make the plot\n",
    "plt.bar(r1, bars1, color='magenta', width=barWidth, edgecolor='white', label='Pre-Steward')\n",
    "plt.bar(r2, bars2, color='yellow', width=barWidth, edgecolor='white', label='Supporter')\n",
    "plt.bar(r3, bars3, color='lightblue', width=barWidth, edgecolor='white', label='Investor')\n",
    "plt.bar(r4, bars4, color='orange', width=barWidth, edgecolor='white', label='Underwriter')\n",
    "plt.bar(r5, bars5, color='navy', width=barWidth, edgecolor='white', label='Performer')\n",
    "plt.bar(r6, bars6, color='red', width=barWidth, edgecolor='white', label='Director')\n",
    "plt.bar(r7, bars7, color='purple', width=barWidth, edgecolor='white', label='Producer')\n",
    "\n",
    "# Add xticks on the middle of the group bars\n",
    "plt.xlabel('Season', fontweight='bold')\n",
    "plt.xticks([r + barWidth for r in range(len(bars1))], list(stp_level_counts.index))\n",
    " \n",
    "# Add title, Create legend and Show graphic\n",
    "plt.title('Stewardship Donor Volumes Largely Grow Over Time')\n",
    "plt.legend()\n",
    "plt.show()\n",
    "\n"
   ]
  },
  {
   "cell_type": "markdown",
   "metadata": {},
   "source": [
    "Run a statistical test to determine if the number of donors in each level is statistically significantly higher than each of them in the previous season."
   ]
  },
  {
   "cell_type": "markdown",
   "metadata": {},
   "source": [
    "Examine growth rates in levels over time"
   ]
  },
  {
   "cell_type": "code",
   "execution_count": 137,
   "metadata": {},
   "outputs": [
    {
     "data": {
      "text/html": [
       "<div>\n",
       "<style scoped>\n",
       "    .dataframe tbody tr th:only-of-type {\n",
       "        vertical-align: middle;\n",
       "    }\n",
       "\n",
       "    .dataframe tbody tr th {\n",
       "        vertical-align: top;\n",
       "    }\n",
       "\n",
       "    .dataframe thead th {\n",
       "        text-align: right;\n",
       "    }\n",
       "</style>\n",
       "<table border=\"1\" class=\"dataframe\">\n",
       "  <thead>\n",
       "    <tr style=\"text-align: right;\">\n",
       "      <th></th>\n",
       "      <th>Did Not Give</th>\n",
       "      <th>Pre-Steward</th>\n",
       "      <th>Supporter</th>\n",
       "      <th>Investor</th>\n",
       "      <th>Underwriter</th>\n",
       "      <th>Performer</th>\n",
       "      <th>Director</th>\n",
       "      <th>Producer</th>\n",
       "    </tr>\n",
       "  </thead>\n",
       "  <tbody>\n",
       "    <tr>\n",
       "      <th>Season 23</th>\n",
       "      <td>1329</td>\n",
       "      <td>126</td>\n",
       "      <td>27</td>\n",
       "      <td>30</td>\n",
       "      <td>20</td>\n",
       "      <td>16</td>\n",
       "      <td>6</td>\n",
       "      <td>0</td>\n",
       "    </tr>\n",
       "    <tr>\n",
       "      <th>Season 24</th>\n",
       "      <td>1183</td>\n",
       "      <td>228</td>\n",
       "      <td>44</td>\n",
       "      <td>46</td>\n",
       "      <td>25</td>\n",
       "      <td>21</td>\n",
       "      <td>7</td>\n",
       "      <td>0</td>\n",
       "    </tr>\n",
       "    <tr>\n",
       "      <th>Season 25</th>\n",
       "      <td>919</td>\n",
       "      <td>430</td>\n",
       "      <td>77</td>\n",
       "      <td>49</td>\n",
       "      <td>40</td>\n",
       "      <td>35</td>\n",
       "      <td>4</td>\n",
       "      <td>0</td>\n",
       "    </tr>\n",
       "    <tr>\n",
       "      <th>Season 26</th>\n",
       "      <td>812</td>\n",
       "      <td>494</td>\n",
       "      <td>99</td>\n",
       "      <td>61</td>\n",
       "      <td>37</td>\n",
       "      <td>41</td>\n",
       "      <td>7</td>\n",
       "      <td>3</td>\n",
       "    </tr>\n",
       "    <tr>\n",
       "      <th>Season 27</th>\n",
       "      <td>453</td>\n",
       "      <td>757</td>\n",
       "      <td>121</td>\n",
       "      <td>101</td>\n",
       "      <td>52</td>\n",
       "      <td>54</td>\n",
       "      <td>11</td>\n",
       "      <td>5</td>\n",
       "    </tr>\n",
       "  </tbody>\n",
       "</table>\n",
       "</div>"
      ],
      "text/plain": [
       "           Did Not Give  Pre-Steward  Supporter  Investor  Underwriter  \\\n",
       "Season 23          1329          126         27        30           20   \n",
       "Season 24          1183          228         44        46           25   \n",
       "Season 25           919          430         77        49           40   \n",
       "Season 26           812          494         99        61           37   \n",
       "Season 27           453          757        121       101           52   \n",
       "\n",
       "           Performer  Director  Producer  \n",
       "Season 23         16         6         0  \n",
       "Season 24         21         7         0  \n",
       "Season 25         35         4         0  \n",
       "Season 26         41         7         3  \n",
       "Season 27         54        11         5  "
      ]
     },
     "execution_count": 137,
     "metadata": {},
     "output_type": "execute_result"
    }
   ],
   "source": [
    "stp_counts = stp_level_dist.T.set_index(pd.Index(['Season 23', 'Season 24', 'Season 25', 'Season 26', 'Season 27']))\n",
    "stp_counts"
   ]
  },
  {
   "cell_type": "code",
   "execution_count": 138,
   "metadata": {},
   "outputs": [],
   "source": [
    "#Define function to generate growth rates in levels over time:\n",
    "\n",
    "def stp_growth_rates_by_level(df, r, row_name_list):\n",
    "    \"\"\"\n",
    "Params\n",
    "    ------\n",
    "    df : pandas.DataFrame\n",
    "        dataframe with columns as stewardship levels and row index as seasons\n",
    "    r : integer\n",
    "        integer referencing max row index of the df\n",
    "\n",
    "    Returns\n",
    "    -------\n",
    "    np.arrary\n",
    "        Returns a numpy array with one fewer row dimension than the input df, \n",
    "        Each element shows the rounded percent change in each stewardship level value over the previous season\n",
    "        \n",
    "    \"\"\"\n",
    "    a = np.round_((100*(df.to_numpy()[1:,:] - df.to_numpy()[:r,:])/ df.to_numpy()[:r,:]), 2)\n",
    "    a[np.isinf(a)] = 0\n",
    "    x = pd.DataFrame(data=a,\n",
    "                index=row_name_list,\n",
    "                columns=df.columns)\n",
    "    return x"
   ]
  },
  {
   "cell_type": "code",
   "execution_count": 139,
   "metadata": {},
   "outputs": [
    {
     "name": "stderr",
     "output_type": "stream",
     "text": [
      "/Users/georgesmith/anaconda3/lib/python3.7/site-packages/ipykernel_launcher.py:19: RuntimeWarning:\n",
      "\n",
      "divide by zero encountered in true_divide\n",
      "\n",
      "/Users/georgesmith/anaconda3/lib/python3.7/site-packages/ipykernel_launcher.py:19: RuntimeWarning:\n",
      "\n",
      "invalid value encountered in true_divide\n",
      "\n"
     ]
    },
    {
     "data": {
      "text/html": [
       "<div>\n",
       "<style scoped>\n",
       "    .dataframe tbody tr th:only-of-type {\n",
       "        vertical-align: middle;\n",
       "    }\n",
       "\n",
       "    .dataframe tbody tr th {\n",
       "        vertical-align: top;\n",
       "    }\n",
       "\n",
       "    .dataframe thead th {\n",
       "        text-align: right;\n",
       "    }\n",
       "</style>\n",
       "<table border=\"1\" class=\"dataframe\">\n",
       "  <thead>\n",
       "    <tr style=\"text-align: right;\">\n",
       "      <th></th>\n",
       "      <th>Did Not Give</th>\n",
       "      <th>Pre-Steward</th>\n",
       "      <th>Supporter</th>\n",
       "      <th>Investor</th>\n",
       "      <th>Underwriter</th>\n",
       "      <th>Performer</th>\n",
       "      <th>Director</th>\n",
       "      <th>Producer</th>\n",
       "    </tr>\n",
       "  </thead>\n",
       "  <tbody>\n",
       "    <tr>\n",
       "      <th>% Change in Season 24</th>\n",
       "      <td>-10.99</td>\n",
       "      <td>80.95</td>\n",
       "      <td>62.96</td>\n",
       "      <td>53.33</td>\n",
       "      <td>25.00</td>\n",
       "      <td>31.25</td>\n",
       "      <td>16.67</td>\n",
       "      <td>NaN</td>\n",
       "    </tr>\n",
       "    <tr>\n",
       "      <th>% Change in Season 25</th>\n",
       "      <td>-22.32</td>\n",
       "      <td>88.60</td>\n",
       "      <td>75.00</td>\n",
       "      <td>6.52</td>\n",
       "      <td>60.00</td>\n",
       "      <td>66.67</td>\n",
       "      <td>-42.86</td>\n",
       "      <td>NaN</td>\n",
       "    </tr>\n",
       "    <tr>\n",
       "      <th>% Change in Season 26</th>\n",
       "      <td>-11.64</td>\n",
       "      <td>14.88</td>\n",
       "      <td>28.57</td>\n",
       "      <td>24.49</td>\n",
       "      <td>-7.50</td>\n",
       "      <td>17.14</td>\n",
       "      <td>75.00</td>\n",
       "      <td>0.00</td>\n",
       "    </tr>\n",
       "    <tr>\n",
       "      <th>% Change in Season 27</th>\n",
       "      <td>-44.21</td>\n",
       "      <td>53.24</td>\n",
       "      <td>22.22</td>\n",
       "      <td>65.57</td>\n",
       "      <td>40.54</td>\n",
       "      <td>31.71</td>\n",
       "      <td>57.14</td>\n",
       "      <td>66.67</td>\n",
       "    </tr>\n",
       "  </tbody>\n",
       "</table>\n",
       "</div>"
      ],
      "text/plain": [
       "                       Did Not Give  Pre-Steward  Supporter  Investor  \\\n",
       "% Change in Season 24        -10.99        80.95      62.96     53.33   \n",
       "% Change in Season 25        -22.32        88.60      75.00      6.52   \n",
       "% Change in Season 26        -11.64        14.88      28.57     24.49   \n",
       "% Change in Season 27        -44.21        53.24      22.22     65.57   \n",
       "\n",
       "                       Underwriter  Performer  Director  Producer  \n",
       "% Change in Season 24        25.00      31.25     16.67       NaN  \n",
       "% Change in Season 25        60.00      66.67    -42.86       NaN  \n",
       "% Change in Season 26        -7.50      17.14     75.00      0.00  \n",
       "% Change in Season 27        40.54      31.71     57.14     66.67  "
      ]
     },
     "execution_count": 139,
     "metadata": {},
     "output_type": "execute_result"
    }
   ],
   "source": [
    "perc_change_level_vol = stp_growth_rates_by_level(stp_counts, 4, ['% Change in Season 24', '% Change in Season 25', '% Change in Season 26', '% Change in Season 27'])\n",
    "perc_change_level_vol"
   ]
  },
  {
   "cell_type": "code",
   "execution_count": 148,
   "metadata": {},
   "outputs": [
    {
     "data": {
      "image/png": "[encoded data removed]",
      "text/plain": [
       "<Figure size 432x288 with 1 Axes>"
      ]
     },
     "metadata": {},
     "output_type": "display_data"
    }
   ],
   "source": [
    "#Visualize percent change in stewardship level volume by season as a grouped barplot.\n",
    "\n",
    "# set width of bar\n",
    "barWidth = 0.10 \n",
    " \n",
    "# set height of bar\n",
    "bars1 = list(perc_change_level_vol.T.values[0])\n",
    "bars2 = list(perc_change_level_vol.T.values[1])\n",
    "bars3 = list(perc_change_level_vol.T.values[2])\n",
    "bars4 = list(perc_change_level_vol.T.values[3])\n",
    "bars5 = list(perc_change_level_vol.T.values[4])\n",
    "bars6 = list(perc_change_level_vol.T.values[5])\n",
    "bars7 = list(perc_change_level_vol.T.values[6])\n",
    "bars8 = list(perc_change_level_vol.T.values[6])\n",
    " \n",
    "# Set position of bar on X axis\n",
    "r1 = np.arange(len(bars1))\n",
    "r2 = [x + barWidth for x in r1]\n",
    "r3 = [x + barWidth for x in r2]\n",
    "r4 = [x + barWidth for x in r3]\n",
    "r5 = [x + barWidth for x in r4]\n",
    "r6 = [x + barWidth for x in r5]\n",
    "r7 = [x + barWidth for x in r6]\n",
    "r8 = [x + barWidth for x in r7]\n",
    " \n",
    "# Make the plot\n",
    "plt.bar(r1, bars1, color='teal', width=barWidth, edgecolor='white', label='Did Not Give')\n",
    "plt.bar(r2, bars2, color='magenta', width=barWidth, edgecolor='white', label='Pre-Steward')\n",
    "plt.bar(r3, bars3, color='yellow', width=barWidth, edgecolor='white', label='Supporter')\n",
    "plt.bar(r4, bars4, color='lightblue', width=barWidth, edgecolor='white', label='Investor')\n",
    "plt.bar(r5, bars5, color='orange', width=barWidth, edgecolor='white', label='Underwriter')\n",
    "plt.bar(r6, bars6, color='navy', width=barWidth, edgecolor='white', label='Performer')\n",
    "plt.bar(r7, bars7, color='red', width=barWidth, edgecolor='white', label='Director')\n",
    "plt.bar(r8, bars8, color='purple', width=barWidth, edgecolor='white', label='Producer')\n",
    "\n",
    "# Add xticks on the middle of the group bars\n",
    "plt.xlabel('Season', fontweight='bold')\n",
    "plt.xticks([r + barWidth for r in range(len(bars1))], list(perc_change_level_vol.index), rotation=45)\n",
    "plt.ylabel('Percent Change in Level Size', fontweight='bold')\n",
    " \n",
    "# Add title, Create legend and Show graphic\n",
    "plt.title('Stewardship Levels Sizes Tend to Grow Each Season')\n",
    "plt.legend(bbox_to_anchor=(1.05, 1), loc='upper left', borderaxespad=0.)\n",
    "plt.show()\n"
   ]
  },
  {
   "cell_type": "code",
   "execution_count": null,
   "metadata": {},
   "outputs": [],
   "source": [
    "#function to create a statewise stacked plot of positive and negative cases\n",
    "#def pandas_plot(covid_df):\n",
    "#    ax = covid_df.iloc[:,[0,7]].plot(kind='bar',stacked=True,title = 'US Covid19 Stats By State as of '+max(covid_df['dateModified']),rot=0)\n",
    "#    for lbl in ax.patches:\n",
    "#        ax.annotate(\"{:.0f}\".format(int(lbl.get_height())),\\\n",
    "#                    (lbl.get_x()+.25, lbl.get_height()+lbl.get_y()),\\\n",
    "#                    verticalalignment='bottom', horizontalalignment='center', \\\n",
    "#                    fontsize=7, color='black')\n",
    "        \n",
    "#if __name__ == '__main__':\n",
    "#    state_list = ['NY','WA','CA','NJ'] #define list of states for which details are needed\n",
    "#    covid_df = api_dataload(state_list) #pass the list of states to the api_dataloaf function\n",
    "#    pandas_plot(covid_df) #use the consolidated covid_df to create stacked plot using pandas_plot function"
   ]
  },
  {
   "cell_type": "markdown",
   "metadata": {},
   "source": [
    "# Visualize change in donation totals across time"
   ]
  },
  {
   "cell_type": "markdown",
   "metadata": {},
   "source": [
    "Create a dataframe of donation totals & means by stewardship level over time."
   ]
  },
  {
   "cell_type": "code",
   "execution_count": 162,
   "metadata": {},
   "outputs": [
    {
     "data": {
      "text/plain": [
       "stp_s23_level\n",
       "Did Not Give        0.00\n",
       "Supporter        4940.00\n",
       "Pre-Steward      7310.50\n",
       "Investor         9065.90\n",
       "Underwriter     11435.11\n",
       "Director        17383.25\n",
       "Performer       21914.07\n",
       "Name: stp_totals_s23, dtype: float64"
      ]
     },
     "execution_count": 162,
     "metadata": {},
     "output_type": "execute_result"
    }
   ],
   "source": [
    "stp_totals_s23 = levels_by_season_df.groupby('stp_s23_level')['stp_total_s23'].sum().rename('stp_totals_s23').sort_values()\n",
    "stp_totals_s23"
   ]
  },
  {
   "cell_type": "code",
   "execution_count": 161,
   "metadata": {},
   "outputs": [
    {
     "data": {
      "text/plain": [
       "stp_s23_level\n",
       "Did Not Give       0.000000\n",
       "Pre-Steward       58.019841\n",
       "Supporter        182.962963\n",
       "Investor         302.196667\n",
       "Underwriter      571.755500\n",
       "Performer       1369.629375\n",
       "Director        2897.208333\n",
       "Name: stp_means_s23, dtype: float64"
      ]
     },
     "execution_count": 161,
     "metadata": {},
     "output_type": "execute_result"
    }
   ],
   "source": [
    "stp_means_s23 = levels_by_season_df.groupby('stp_s23_level')['stp_total_s23'].mean().rename('stp_means_s23').sort_values()\n",
    "stp_means_s23"
   ]
  },
  {
   "cell_type": "code",
   "execution_count": 163,
   "metadata": {},
   "outputs": [
    {
     "data": {
      "text/plain": [
       "stp_s24_level\n",
       "Did Not Give        0.00\n",
       "Supporter        8275.00\n",
       "Pre-Steward      9007.16\n",
       "Investor        13688.75\n",
       "Underwriter     14682.99\n",
       "Director        21786.33\n",
       "Performer       28585.83\n",
       "Name: stp_totals_s24, dtype: float64"
      ]
     },
     "execution_count": 163,
     "metadata": {},
     "output_type": "execute_result"
    }
   ],
   "source": [
    "stp_totals_s24 = levels_by_season_df.groupby('stp_s24_level')['stp_total_s24'].sum().rename('stp_totals_s24').sort_values()\n",
    "stp_totals_s24"
   ]
  },
  {
   "cell_type": "code",
   "execution_count": 165,
   "metadata": {},
   "outputs": [
    {
     "data": {
      "text/plain": [
       "stp_s24_level\n",
       "Did Not Give       0.000000\n",
       "Pre-Steward       39.505088\n",
       "Supporter        188.068182\n",
       "Investor         297.581522\n",
       "Underwriter      587.319600\n",
       "Performer       1361.230000\n",
       "Director        3112.332857\n",
       "Name: stp_means_s24, dtype: float64"
      ]
     },
     "execution_count": 165,
     "metadata": {},
     "output_type": "execute_result"
    }
   ],
   "source": [
    "stp_means_s24 = levels_by_season_df.groupby('stp_s24_level')['stp_total_s24'].mean().rename('stp_means_s24').sort_values()\n",
    "stp_means_s24"
   ]
  },
  {
   "cell_type": "code",
   "execution_count": 166,
   "metadata": {},
   "outputs": [
    {
     "data": {
      "text/plain": [
       "stp_s25_level\n",
       "Did Not Give        0.00\n",
       "Supporter       13787.50\n",
       "Pre-Steward     14701.16\n",
       "Director        14972.01\n",
       "Investor        15484.75\n",
       "Underwriter     24771.00\n",
       "Performer       52039.29\n",
       "Name: stp_totals_s25, dtype: float64"
      ]
     },
     "execution_count": 166,
     "metadata": {},
     "output_type": "execute_result"
    }
   ],
   "source": [
    "stp_totals_s25 = levels_by_season_df.groupby('stp_s25_level')['stp_total_s25'].sum().rename('stp_totals_s25').sort_values()\n",
    "stp_totals_s25"
   ]
  },
  {
   "cell_type": "code",
   "execution_count": 167,
   "metadata": {},
   "outputs": [
    {
     "data": {
      "text/plain": [
       "stp_s25_level\n",
       "Did Not Give       0.000000\n",
       "Pre-Steward       34.188744\n",
       "Supporter        179.058442\n",
       "Investor         316.015306\n",
       "Underwriter      619.275000\n",
       "Performer       1486.836857\n",
       "Director        3743.002500\n",
       "Name: stp_means_s25, dtype: float64"
      ]
     },
     "execution_count": 167,
     "metadata": {},
     "output_type": "execute_result"
    }
   ],
   "source": [
    "stp_means_s25 = levels_by_season_df.groupby('stp_s25_level')['stp_total_s25'].mean().rename('stp_means_s25').sort_values()\n",
    "stp_means_s25"
   ]
  },
  {
   "cell_type": "code",
   "execution_count": 168,
   "metadata": {},
   "outputs": [
    {
     "data": {
      "text/plain": [
       "stp_s26_level\n",
       "Did Not Give        0.00\n",
       "Pre-Steward     14971.41\n",
       "Producer        15800.00\n",
       "Supporter       16454.76\n",
       "Investor        19232.70\n",
       "Director        22688.00\n",
       "Underwriter     22933.37\n",
       "Performer       57358.75\n",
       "Name: stp_totals_s26, dtype: float64"
      ]
     },
     "execution_count": 168,
     "metadata": {},
     "output_type": "execute_result"
    }
   ],
   "source": [
    "stp_totals_s26 = levels_by_season_df.groupby('stp_s26_level')['stp_total_s26'].sum().rename('stp_totals_s26').sort_values()\n",
    "stp_totals_s26"
   ]
  },
  {
   "cell_type": "code",
   "execution_count": 169,
   "metadata": {},
   "outputs": [
    {
     "data": {
      "text/plain": [
       "stp_s26_level\n",
       "Did Not Give       0.000000\n",
       "Pre-Steward       30.306498\n",
       "Supporter        166.209697\n",
       "Investor         315.290164\n",
       "Underwriter      619.820811\n",
       "Performer       1398.993902\n",
       "Director        3241.142857\n",
       "Producer        5266.666667\n",
       "Name: stp_means_s26, dtype: float64"
      ]
     },
     "execution_count": 169,
     "metadata": {},
     "output_type": "execute_result"
    }
   ],
   "source": [
    "stp_means_s26 = levels_by_season_df.groupby('stp_s26_level')['stp_total_s26'].mean().rename('stp_means_s26').sort_values()\n",
    "stp_means_s26"
   ]
  },
  {
   "cell_type": "code",
   "execution_count": 170,
   "metadata": {},
   "outputs": [
    {
     "data": {
      "text/plain": [
       "stp_s27_level\n",
       "Did Not Give        0.00\n",
       "Supporter       20595.40\n",
       "Pre-Steward     26299.27\n",
       "Investor        32001.82\n",
       "Underwriter     33470.29\n",
       "Director        39655.10\n",
       "Producer        47622.00\n",
       "Performer       79417.06\n",
       "Name: stp_totals_s27, dtype: float64"
      ]
     },
     "execution_count": 170,
     "metadata": {},
     "output_type": "execute_result"
    }
   ],
   "source": [
    "stp_totals_s27 = levels_by_season_df.groupby('stp_s27_level')['stp_total_s27'].sum().rename('stp_totals_s27').sort_values()\n",
    "stp_totals_s27"
   ]
  },
  {
   "cell_type": "code",
   "execution_count": 171,
   "metadata": {},
   "outputs": [
    {
     "data": {
      "text/plain": [
       "stp_s27_level\n",
       "Did Not Give       0.000000\n",
       "Pre-Steward       34.741440\n",
       "Supporter        170.209917\n",
       "Investor         316.849703\n",
       "Underwriter      643.659423\n",
       "Performer       1470.686296\n",
       "Director        3605.009091\n",
       "Producer        9524.400000\n",
       "Name: stp_means_s27, dtype: float64"
      ]
     },
     "execution_count": 171,
     "metadata": {},
     "output_type": "execute_result"
    }
   ],
   "source": [
    "stp_means_s27 = levels_by_season_df.groupby('stp_s27_level')['stp_total_s27'].mean().rename('stp_means_s27').sort_values()\n",
    "stp_means_s27"
   ]
  },
  {
   "cell_type": "markdown",
   "metadata": {},
   "source": [
    "# Determine which accounts made any annual fund contributions in each season:"
   ]
  },
  {
   "cell_type": "code",
   "execution_count": 172,
   "metadata": {
    "scrolled": true
   },
   "outputs": [
    {
     "data": {
      "text/html": [
       "<div>\n",
       "<style scoped>\n",
       "    .dataframe tbody tr th:only-of-type {\n",
       "        vertical-align: middle;\n",
       "    }\n",
       "\n",
       "    .dataframe tbody tr th {\n",
       "        vertical-align: top;\n",
       "    }\n",
       "\n",
       "    .dataframe thead th {\n",
       "        text-align: right;\n",
       "    }\n",
       "</style>\n",
       "<table border=\"1\" class=\"dataframe\">\n",
       "  <thead>\n",
       "    <tr style=\"text-align: right;\">\n",
       "      <th></th>\n",
       "      <th>account_id</th>\n",
       "      <th>stp_s27_level</th>\n",
       "    </tr>\n",
       "  </thead>\n",
       "  <tbody>\n",
       "    <tr>\n",
       "      <th>0</th>\n",
       "      <td>0013600000VKQlu</td>\n",
       "      <td>Performer</td>\n",
       "    </tr>\n",
       "    <tr>\n",
       "      <th>1</th>\n",
       "      <td>0013600000VKRVZ</td>\n",
       "      <td>Producer</td>\n",
       "    </tr>\n",
       "    <tr>\n",
       "      <th>2</th>\n",
       "      <td>0013600000VKQqY</td>\n",
       "      <td>Underwriter</td>\n",
       "    </tr>\n",
       "    <tr>\n",
       "      <th>3</th>\n",
       "      <td>0013600000VKQqU</td>\n",
       "      <td>Director</td>\n",
       "    </tr>\n",
       "    <tr>\n",
       "      <th>4</th>\n",
       "      <td>0013600000VKR8S</td>\n",
       "      <td>Performer</td>\n",
       "    </tr>\n",
       "    <tr>\n",
       "      <th>...</th>\n",
       "      <td>...</td>\n",
       "      <td>...</td>\n",
       "    </tr>\n",
       "    <tr>\n",
       "      <th>1096</th>\n",
       "      <td>0013600000VKR8H</td>\n",
       "      <td>Pre-Steward</td>\n",
       "    </tr>\n",
       "    <tr>\n",
       "      <th>1097</th>\n",
       "      <td>0013600000ggddD</td>\n",
       "      <td>Pre-Steward</td>\n",
       "    </tr>\n",
       "    <tr>\n",
       "      <th>1098</th>\n",
       "      <td>0013600000VKRXK</td>\n",
       "      <td>Pre-Steward</td>\n",
       "    </tr>\n",
       "    <tr>\n",
       "      <th>1099</th>\n",
       "      <td>0013600000VKRBT</td>\n",
       "      <td>Pre-Steward</td>\n",
       "    </tr>\n",
       "    <tr>\n",
       "      <th>1100</th>\n",
       "      <td>0013600000VKQk6</td>\n",
       "      <td>Pre-Steward</td>\n",
       "    </tr>\n",
       "  </tbody>\n",
       "</table>\n",
       "<p>1101 rows × 2 columns</p>\n",
       "</div>"
      ],
      "text/plain": [
       "           account_id stp_s27_level\n",
       "0     0013600000VKQlu     Performer\n",
       "1     0013600000VKRVZ      Producer\n",
       "2     0013600000VKQqY   Underwriter\n",
       "3     0013600000VKQqU      Director\n",
       "4     0013600000VKR8S     Performer\n",
       "...               ...           ...\n",
       "1096  0013600000VKR8H   Pre-Steward\n",
       "1097  0013600000ggddD   Pre-Steward\n",
       "1098  0013600000VKRXK   Pre-Steward\n",
       "1099  0013600000VKRBT   Pre-Steward\n",
       "1100  0013600000VKQk6   Pre-Steward\n",
       "\n",
       "[1101 rows x 2 columns]"
      ]
     },
     "execution_count": 172,
     "metadata": {},
     "output_type": "execute_result"
    }
   ],
   "source": [
    "#Season 27 AF Donors\n",
    "(levels_by_season_df[levels_by_season_df['stp_s27_level'] != 'Did Not Give'].reset_index(drop='True')).loc[:,['account_id','stp_s27_level']]"
   ]
  },
  {
   "cell_type": "code",
   "execution_count": 173,
   "metadata": {},
   "outputs": [
    {
     "data": {
      "text/html": [
       "<div>\n",
       "<style scoped>\n",
       "    .dataframe tbody tr th:only-of-type {\n",
       "        vertical-align: middle;\n",
       "    }\n",
       "\n",
       "    .dataframe tbody tr th {\n",
       "        vertical-align: top;\n",
       "    }\n",
       "\n",
       "    .dataframe thead th {\n",
       "        text-align: right;\n",
       "    }\n",
       "</style>\n",
       "<table border=\"1\" class=\"dataframe\">\n",
       "  <thead>\n",
       "    <tr style=\"text-align: right;\">\n",
       "      <th></th>\n",
       "      <th>account_id</th>\n",
       "      <th>stp_s26_level</th>\n",
       "    </tr>\n",
       "  </thead>\n",
       "  <tbody>\n",
       "    <tr>\n",
       "      <th>0</th>\n",
       "      <td>0013600000VKQlu</td>\n",
       "      <td>Performer</td>\n",
       "    </tr>\n",
       "    <tr>\n",
       "      <th>1</th>\n",
       "      <td>0013600000VKRVZ</td>\n",
       "      <td>Underwriter</td>\n",
       "    </tr>\n",
       "    <tr>\n",
       "      <th>2</th>\n",
       "      <td>0013600000VKQqY</td>\n",
       "      <td>Investor</td>\n",
       "    </tr>\n",
       "    <tr>\n",
       "      <th>3</th>\n",
       "      <td>0013600000VKQqU</td>\n",
       "      <td>Director</td>\n",
       "    </tr>\n",
       "    <tr>\n",
       "      <th>4</th>\n",
       "      <td>0013600000VKR8S</td>\n",
       "      <td>Performer</td>\n",
       "    </tr>\n",
       "    <tr>\n",
       "      <th>...</th>\n",
       "      <td>...</td>\n",
       "      <td>...</td>\n",
       "    </tr>\n",
       "    <tr>\n",
       "      <th>737</th>\n",
       "      <td>0013600000VKRXK</td>\n",
       "      <td>Pre-Steward</td>\n",
       "    </tr>\n",
       "    <tr>\n",
       "      <th>738</th>\n",
       "      <td>0013600000VKRg8</td>\n",
       "      <td>Pre-Steward</td>\n",
       "    </tr>\n",
       "    <tr>\n",
       "      <th>739</th>\n",
       "      <td>0013600000VKS0i</td>\n",
       "      <td>Pre-Steward</td>\n",
       "    </tr>\n",
       "    <tr>\n",
       "      <th>740</th>\n",
       "      <td>0013600000VKRBT</td>\n",
       "      <td>Pre-Steward</td>\n",
       "    </tr>\n",
       "    <tr>\n",
       "      <th>741</th>\n",
       "      <td>0013600000VKQk6</td>\n",
       "      <td>Pre-Steward</td>\n",
       "    </tr>\n",
       "  </tbody>\n",
       "</table>\n",
       "<p>742 rows × 2 columns</p>\n",
       "</div>"
      ],
      "text/plain": [
       "          account_id stp_s26_level\n",
       "0    0013600000VKQlu     Performer\n",
       "1    0013600000VKRVZ   Underwriter\n",
       "2    0013600000VKQqY      Investor\n",
       "3    0013600000VKQqU      Director\n",
       "4    0013600000VKR8S     Performer\n",
       "..               ...           ...\n",
       "737  0013600000VKRXK   Pre-Steward\n",
       "738  0013600000VKRg8   Pre-Steward\n",
       "739  0013600000VKS0i   Pre-Steward\n",
       "740  0013600000VKRBT   Pre-Steward\n",
       "741  0013600000VKQk6   Pre-Steward\n",
       "\n",
       "[742 rows x 2 columns]"
      ]
     },
     "execution_count": 173,
     "metadata": {},
     "output_type": "execute_result"
    }
   ],
   "source": [
    "#Season 26 AF Donors\n",
    "(levels_by_season_df[levels_by_season_df['stp_s26_level'] != 'Did Not Give'].reset_index(drop='True')).loc[:,['account_id','stp_s26_level']]"
   ]
  },
  {
   "cell_type": "code",
   "execution_count": 174,
   "metadata": {},
   "outputs": [
    {
     "data": {
      "text/html": [
       "<div>\n",
       "<style scoped>\n",
       "    .dataframe tbody tr th:only-of-type {\n",
       "        vertical-align: middle;\n",
       "    }\n",
       "\n",
       "    .dataframe tbody tr th {\n",
       "        vertical-align: top;\n",
       "    }\n",
       "\n",
       "    .dataframe thead th {\n",
       "        text-align: right;\n",
       "    }\n",
       "</style>\n",
       "<table border=\"1\" class=\"dataframe\">\n",
       "  <thead>\n",
       "    <tr style=\"text-align: right;\">\n",
       "      <th></th>\n",
       "      <th>account_id</th>\n",
       "      <th>stp_s25_level</th>\n",
       "    </tr>\n",
       "  </thead>\n",
       "  <tbody>\n",
       "    <tr>\n",
       "      <th>0</th>\n",
       "      <td>0013600000VKQlu</td>\n",
       "      <td>Pre-Steward</td>\n",
       "    </tr>\n",
       "    <tr>\n",
       "      <th>1</th>\n",
       "      <td>0013600000VKRVZ</td>\n",
       "      <td>Performer</td>\n",
       "    </tr>\n",
       "    <tr>\n",
       "      <th>2</th>\n",
       "      <td>0013600000VKQqY</td>\n",
       "      <td>Supporter</td>\n",
       "    </tr>\n",
       "    <tr>\n",
       "      <th>3</th>\n",
       "      <td>0013600000VKRG9</td>\n",
       "      <td>Underwriter</td>\n",
       "    </tr>\n",
       "    <tr>\n",
       "      <th>4</th>\n",
       "      <td>0013600000VKQqU</td>\n",
       "      <td>Supporter</td>\n",
       "    </tr>\n",
       "    <tr>\n",
       "      <th>...</th>\n",
       "      <td>...</td>\n",
       "      <td>...</td>\n",
       "    </tr>\n",
       "    <tr>\n",
       "      <th>630</th>\n",
       "      <td>0013600000VKRO1</td>\n",
       "      <td>Pre-Steward</td>\n",
       "    </tr>\n",
       "    <tr>\n",
       "      <th>631</th>\n",
       "      <td>0013600000ggddF</td>\n",
       "      <td>Supporter</td>\n",
       "    </tr>\n",
       "    <tr>\n",
       "      <th>632</th>\n",
       "      <td>0013600000VKRg8</td>\n",
       "      <td>Pre-Steward</td>\n",
       "    </tr>\n",
       "    <tr>\n",
       "      <th>633</th>\n",
       "      <td>0013600000VKS0i</td>\n",
       "      <td>Pre-Steward</td>\n",
       "    </tr>\n",
       "    <tr>\n",
       "      <th>634</th>\n",
       "      <td>0013600000ggdOb</td>\n",
       "      <td>Pre-Steward</td>\n",
       "    </tr>\n",
       "  </tbody>\n",
       "</table>\n",
       "<p>635 rows × 2 columns</p>\n",
       "</div>"
      ],
      "text/plain": [
       "          account_id stp_s25_level\n",
       "0    0013600000VKQlu   Pre-Steward\n",
       "1    0013600000VKRVZ     Performer\n",
       "2    0013600000VKQqY     Supporter\n",
       "3    0013600000VKRG9   Underwriter\n",
       "4    0013600000VKQqU     Supporter\n",
       "..               ...           ...\n",
       "630  0013600000VKRO1   Pre-Steward\n",
       "631  0013600000ggddF     Supporter\n",
       "632  0013600000VKRg8   Pre-Steward\n",
       "633  0013600000VKS0i   Pre-Steward\n",
       "634  0013600000ggdOb   Pre-Steward\n",
       "\n",
       "[635 rows x 2 columns]"
      ]
     },
     "execution_count": 174,
     "metadata": {},
     "output_type": "execute_result"
    }
   ],
   "source": [
    "#Season 25 AF Donors\n",
    "(levels_by_season_df[levels_by_season_df['stp_s25_level'] != 'Did Not Give'].reset_index(drop='True')).loc[:,['account_id','stp_s25_level']]"
   ]
  },
  {
   "cell_type": "code",
   "execution_count": 175,
   "metadata": {},
   "outputs": [
    {
     "data": {
      "text/html": [
       "<div>\n",
       "<style scoped>\n",
       "    .dataframe tbody tr th:only-of-type {\n",
       "        vertical-align: middle;\n",
       "    }\n",
       "\n",
       "    .dataframe tbody tr th {\n",
       "        vertical-align: top;\n",
       "    }\n",
       "\n",
       "    .dataframe thead th {\n",
       "        text-align: right;\n",
       "    }\n",
       "</style>\n",
       "<table border=\"1\" class=\"dataframe\">\n",
       "  <thead>\n",
       "    <tr style=\"text-align: right;\">\n",
       "      <th></th>\n",
       "      <th>account_id</th>\n",
       "      <th>stp_s24_level</th>\n",
       "    </tr>\n",
       "  </thead>\n",
       "  <tbody>\n",
       "    <tr>\n",
       "      <th>0</th>\n",
       "      <td>0013600000VKRVZ</td>\n",
       "      <td>Investor</td>\n",
       "    </tr>\n",
       "    <tr>\n",
       "      <th>1</th>\n",
       "      <td>0013600000VKQqY</td>\n",
       "      <td>Supporter</td>\n",
       "    </tr>\n",
       "    <tr>\n",
       "      <th>2</th>\n",
       "      <td>0013600000VKRG9</td>\n",
       "      <td>Underwriter</td>\n",
       "    </tr>\n",
       "    <tr>\n",
       "      <th>3</th>\n",
       "      <td>0013600000VKQqU</td>\n",
       "      <td>Pre-Steward</td>\n",
       "    </tr>\n",
       "    <tr>\n",
       "      <th>4</th>\n",
       "      <td>0013600000VKR8S</td>\n",
       "      <td>Underwriter</td>\n",
       "    </tr>\n",
       "    <tr>\n",
       "      <th>...</th>\n",
       "      <td>...</td>\n",
       "      <td>...</td>\n",
       "    </tr>\n",
       "    <tr>\n",
       "      <th>366</th>\n",
       "      <td>0013600000ggdB5</td>\n",
       "      <td>Supporter</td>\n",
       "    </tr>\n",
       "    <tr>\n",
       "      <th>367</th>\n",
       "      <td>0013600000ggdo9</td>\n",
       "      <td>Pre-Steward</td>\n",
       "    </tr>\n",
       "    <tr>\n",
       "      <th>368</th>\n",
       "      <td>0013600000VKRAH</td>\n",
       "      <td>Pre-Steward</td>\n",
       "    </tr>\n",
       "    <tr>\n",
       "      <th>369</th>\n",
       "      <td>0013600000ggdGl</td>\n",
       "      <td>Pre-Steward</td>\n",
       "    </tr>\n",
       "    <tr>\n",
       "      <th>370</th>\n",
       "      <td>0013600000ggdOb</td>\n",
       "      <td>Pre-Steward</td>\n",
       "    </tr>\n",
       "  </tbody>\n",
       "</table>\n",
       "<p>371 rows × 2 columns</p>\n",
       "</div>"
      ],
      "text/plain": [
       "          account_id stp_s24_level\n",
       "0    0013600000VKRVZ      Investor\n",
       "1    0013600000VKQqY     Supporter\n",
       "2    0013600000VKRG9   Underwriter\n",
       "3    0013600000VKQqU   Pre-Steward\n",
       "4    0013600000VKR8S   Underwriter\n",
       "..               ...           ...\n",
       "366  0013600000ggdB5     Supporter\n",
       "367  0013600000ggdo9   Pre-Steward\n",
       "368  0013600000VKRAH   Pre-Steward\n",
       "369  0013600000ggdGl   Pre-Steward\n",
       "370  0013600000ggdOb   Pre-Steward\n",
       "\n",
       "[371 rows x 2 columns]"
      ]
     },
     "execution_count": 175,
     "metadata": {},
     "output_type": "execute_result"
    }
   ],
   "source": [
    "#Season 24 AF Donors\n",
    "(levels_by_season_df[levels_by_season_df['stp_s24_level'] != 'Did Not Give'].reset_index(drop='True')).loc[:,['account_id','stp_s24_level']]"
   ]
  },
  {
   "cell_type": "code",
   "execution_count": 176,
   "metadata": {},
   "outputs": [
    {
     "data": {
      "text/html": [
       "<div>\n",
       "<style scoped>\n",
       "    .dataframe tbody tr th:only-of-type {\n",
       "        vertical-align: middle;\n",
       "    }\n",
       "\n",
       "    .dataframe tbody tr th {\n",
       "        vertical-align: top;\n",
       "    }\n",
       "\n",
       "    .dataframe thead th {\n",
       "        text-align: right;\n",
       "    }\n",
       "</style>\n",
       "<table border=\"1\" class=\"dataframe\">\n",
       "  <thead>\n",
       "    <tr style=\"text-align: right;\">\n",
       "      <th></th>\n",
       "      <th>account_id</th>\n",
       "      <th>stp_s23_level</th>\n",
       "    </tr>\n",
       "  </thead>\n",
       "  <tbody>\n",
       "    <tr>\n",
       "      <th>0</th>\n",
       "      <td>0013600000VKQlu</td>\n",
       "      <td>Investor</td>\n",
       "    </tr>\n",
       "    <tr>\n",
       "      <th>1</th>\n",
       "      <td>0013600000VKQqY</td>\n",
       "      <td>Pre-Steward</td>\n",
       "    </tr>\n",
       "    <tr>\n",
       "      <th>2</th>\n",
       "      <td>0013600000VKQqU</td>\n",
       "      <td>Performer</td>\n",
       "    </tr>\n",
       "    <tr>\n",
       "      <th>3</th>\n",
       "      <td>0013600000VKR8S</td>\n",
       "      <td>Performer</td>\n",
       "    </tr>\n",
       "    <tr>\n",
       "      <th>4</th>\n",
       "      <td>0013600000VKQmI</td>\n",
       "      <td>Underwriter</td>\n",
       "    </tr>\n",
       "    <tr>\n",
       "      <th>...</th>\n",
       "      <td>...</td>\n",
       "      <td>...</td>\n",
       "    </tr>\n",
       "    <tr>\n",
       "      <th>220</th>\n",
       "      <td>0013600000VKRVN</td>\n",
       "      <td>Pre-Steward</td>\n",
       "    </tr>\n",
       "    <tr>\n",
       "      <th>221</th>\n",
       "      <td>0013600000VKROO</td>\n",
       "      <td>Pre-Steward</td>\n",
       "    </tr>\n",
       "    <tr>\n",
       "      <th>222</th>\n",
       "      <td>0013600000VKRAH</td>\n",
       "      <td>Pre-Steward</td>\n",
       "    </tr>\n",
       "    <tr>\n",
       "      <th>223</th>\n",
       "      <td>0013600000ggdBV</td>\n",
       "      <td>Pre-Steward</td>\n",
       "    </tr>\n",
       "    <tr>\n",
       "      <th>224</th>\n",
       "      <td>0013600000ggdGl</td>\n",
       "      <td>Pre-Steward</td>\n",
       "    </tr>\n",
       "  </tbody>\n",
       "</table>\n",
       "<p>225 rows × 2 columns</p>\n",
       "</div>"
      ],
      "text/plain": [
       "          account_id stp_s23_level\n",
       "0    0013600000VKQlu      Investor\n",
       "1    0013600000VKQqY   Pre-Steward\n",
       "2    0013600000VKQqU     Performer\n",
       "3    0013600000VKR8S     Performer\n",
       "4    0013600000VKQmI   Underwriter\n",
       "..               ...           ...\n",
       "220  0013600000VKRVN   Pre-Steward\n",
       "221  0013600000VKROO   Pre-Steward\n",
       "222  0013600000VKRAH   Pre-Steward\n",
       "223  0013600000ggdBV   Pre-Steward\n",
       "224  0013600000ggdGl   Pre-Steward\n",
       "\n",
       "[225 rows x 2 columns]"
      ]
     },
     "execution_count": 176,
     "metadata": {},
     "output_type": "execute_result"
    }
   ],
   "source": [
    "#Season 23 AF Donors\n",
    "(levels_by_season_df[levels_by_season_df['stp_s23_level'] != 'Did Not Give'].reset_index(drop='True')).loc[:,['account_id','stp_s23_level']]"
   ]
  },
  {
   "cell_type": "code",
   "execution_count": 177,
   "metadata": {},
   "outputs": [],
   "source": [
    "#Create annual_fund dictionary where each key stores the account_ids of donors who gave during that season\n",
    "level_cols = ['stp_s27_level', 'stp_s26_level', 'stp_s25_level', 'stp_s24_level', 'stp_s23_level']\n",
    "annual_fund = {}\n",
    "for col in level_cols:\n",
    "    annual_fund[col[4:7]+'_donors'] = (levels_by_season_df[levels_by_season_df[col] != 'Did Not Give'].reset_index(drop='True')).loc[:,['account_id',col]]"
   ]
  },
  {
   "cell_type": "code",
   "execution_count": 178,
   "metadata": {},
   "outputs": [
    {
     "data": {
      "text/plain": [
       "{'s27_donors':            account_id stp_s27_level\n",
       " 0     0013600000VKQlu     Performer\n",
       " 1     0013600000VKRVZ      Producer\n",
       " 2     0013600000VKQqY   Underwriter\n",
       " 3     0013600000VKQqU      Director\n",
       " 4     0013600000VKR8S     Performer\n",
       " ...               ...           ...\n",
       " 1096  0013600000VKR8H   Pre-Steward\n",
       " 1097  0013600000ggddD   Pre-Steward\n",
       " 1098  0013600000VKRXK   Pre-Steward\n",
       " 1099  0013600000VKRBT   Pre-Steward\n",
       " 1100  0013600000VKQk6   Pre-Steward\n",
       " \n",
       " [1101 rows x 2 columns],\n",
       " 's26_donors':           account_id stp_s26_level\n",
       " 0    0013600000VKQlu     Performer\n",
       " 1    0013600000VKRVZ   Underwriter\n",
       " 2    0013600000VKQqY      Investor\n",
       " 3    0013600000VKQqU      Director\n",
       " 4    0013600000VKR8S     Performer\n",
       " ..               ...           ...\n",
       " 737  0013600000VKRXK   Pre-Steward\n",
       " 738  0013600000VKRg8   Pre-Steward\n",
       " 739  0013600000VKS0i   Pre-Steward\n",
       " 740  0013600000VKRBT   Pre-Steward\n",
       " 741  0013600000VKQk6   Pre-Steward\n",
       " \n",
       " [742 rows x 2 columns],\n",
       " 's25_donors':           account_id stp_s25_level\n",
       " 0    0013600000VKQlu   Pre-Steward\n",
       " 1    0013600000VKRVZ     Performer\n",
       " 2    0013600000VKQqY     Supporter\n",
       " 3    0013600000VKRG9   Underwriter\n",
       " 4    0013600000VKQqU     Supporter\n",
       " ..               ...           ...\n",
       " 630  0013600000VKRO1   Pre-Steward\n",
       " 631  0013600000ggddF     Supporter\n",
       " 632  0013600000VKRg8   Pre-Steward\n",
       " 633  0013600000VKS0i   Pre-Steward\n",
       " 634  0013600000ggdOb   Pre-Steward\n",
       " \n",
       " [635 rows x 2 columns],\n",
       " 's24_donors':           account_id stp_s24_level\n",
       " 0    0013600000VKRVZ      Investor\n",
       " 1    0013600000VKQqY     Supporter\n",
       " 2    0013600000VKRG9   Underwriter\n",
       " 3    0013600000VKQqU   Pre-Steward\n",
       " 4    0013600000VKR8S   Underwriter\n",
       " ..               ...           ...\n",
       " 366  0013600000ggdB5     Supporter\n",
       " 367  0013600000ggdo9   Pre-Steward\n",
       " 368  0013600000VKRAH   Pre-Steward\n",
       " 369  0013600000ggdGl   Pre-Steward\n",
       " 370  0013600000ggdOb   Pre-Steward\n",
       " \n",
       " [371 rows x 2 columns],\n",
       " 's23_donors':           account_id stp_s23_level\n",
       " 0    0013600000VKQlu      Investor\n",
       " 1    0013600000VKQqY   Pre-Steward\n",
       " 2    0013600000VKQqU     Performer\n",
       " 3    0013600000VKR8S     Performer\n",
       " 4    0013600000VKQmI   Underwriter\n",
       " ..               ...           ...\n",
       " 220  0013600000VKRVN   Pre-Steward\n",
       " 221  0013600000VKROO   Pre-Steward\n",
       " 222  0013600000VKRAH   Pre-Steward\n",
       " 223  0013600000ggdBV   Pre-Steward\n",
       " 224  0013600000ggdGl   Pre-Steward\n",
       " \n",
       " [225 rows x 2 columns]}"
      ]
     },
     "execution_count": 178,
     "metadata": {},
     "output_type": "execute_result"
    }
   ],
   "source": [
    "#View the annual fund dictionary, which shows donors levels by season (excluding those who did not give during a given season)\n",
    "annual_fund"
   ]
  },
  {
   "cell_type": "code",
   "execution_count": 179,
   "metadata": {},
   "outputs": [
    {
     "data": {
      "text/plain": [
       "dict_values([           account_id stp_s27_level\n",
       "0     0013600000VKQlu     Performer\n",
       "1     0013600000VKRVZ      Producer\n",
       "2     0013600000VKQqY   Underwriter\n",
       "3     0013600000VKQqU      Director\n",
       "4     0013600000VKR8S     Performer\n",
       "...               ...           ...\n",
       "1096  0013600000VKR8H   Pre-Steward\n",
       "1097  0013600000ggddD   Pre-Steward\n",
       "1098  0013600000VKRXK   Pre-Steward\n",
       "1099  0013600000VKRBT   Pre-Steward\n",
       "1100  0013600000VKQk6   Pre-Steward\n",
       "\n",
       "[1101 rows x 2 columns],           account_id stp_s26_level\n",
       "0    0013600000VKQlu     Performer\n",
       "1    0013600000VKRVZ   Underwriter\n",
       "2    0013600000VKQqY      Investor\n",
       "3    0013600000VKQqU      Director\n",
       "4    0013600000VKR8S     Performer\n",
       "..               ...           ...\n",
       "737  0013600000VKRXK   Pre-Steward\n",
       "738  0013600000VKRg8   Pre-Steward\n",
       "739  0013600000VKS0i   Pre-Steward\n",
       "740  0013600000VKRBT   Pre-Steward\n",
       "741  0013600000VKQk6   Pre-Steward\n",
       "\n",
       "[742 rows x 2 columns],           account_id stp_s25_level\n",
       "0    0013600000VKQlu   Pre-Steward\n",
       "1    0013600000VKRVZ     Performer\n",
       "2    0013600000VKQqY     Supporter\n",
       "3    0013600000VKRG9   Underwriter\n",
       "4    0013600000VKQqU     Supporter\n",
       "..               ...           ...\n",
       "630  0013600000VKRO1   Pre-Steward\n",
       "631  0013600000ggddF     Supporter\n",
       "632  0013600000VKRg8   Pre-Steward\n",
       "633  0013600000VKS0i   Pre-Steward\n",
       "634  0013600000ggdOb   Pre-Steward\n",
       "\n",
       "[635 rows x 2 columns],           account_id stp_s24_level\n",
       "0    0013600000VKRVZ      Investor\n",
       "1    0013600000VKQqY     Supporter\n",
       "2    0013600000VKRG9   Underwriter\n",
       "3    0013600000VKQqU   Pre-Steward\n",
       "4    0013600000VKR8S   Underwriter\n",
       "..               ...           ...\n",
       "366  0013600000ggdB5     Supporter\n",
       "367  0013600000ggdo9   Pre-Steward\n",
       "368  0013600000VKRAH   Pre-Steward\n",
       "369  0013600000ggdGl   Pre-Steward\n",
       "370  0013600000ggdOb   Pre-Steward\n",
       "\n",
       "[371 rows x 2 columns],           account_id stp_s23_level\n",
       "0    0013600000VKQlu      Investor\n",
       "1    0013600000VKQqY   Pre-Steward\n",
       "2    0013600000VKQqU     Performer\n",
       "3    0013600000VKR8S     Performer\n",
       "4    0013600000VKQmI   Underwriter\n",
       "..               ...           ...\n",
       "220  0013600000VKRVN   Pre-Steward\n",
       "221  0013600000VKROO   Pre-Steward\n",
       "222  0013600000VKRAH   Pre-Steward\n",
       "223  0013600000ggdBV   Pre-Steward\n",
       "224  0013600000ggdGl   Pre-Steward\n",
       "\n",
       "[225 rows x 2 columns]])"
      ]
     },
     "execution_count": 179,
     "metadata": {},
     "output_type": "execute_result"
    }
   ],
   "source": [
    "annual_fund.values()"
   ]
  },
  {
   "cell_type": "code",
   "execution_count": 180,
   "metadata": {},
   "outputs": [
    {
     "name": "stdout",
     "output_type": "stream",
     "text": [
      "1101\n",
      "742\n",
      "635\n",
      "371\n",
      "225\n"
     ]
    }
   ],
   "source": [
    "#How many accounts donated to the annual fund in each season (s27-s23):\n",
    "af_donor_keys = ['s27_donors', 's26_donors', 's25_donors', 's24_donors', 's23_donors']\n",
    "for key in af_donor_keys:\n",
    "    print(len(annual_fund[key]['account_id'].values))"
   ]
  },
  {
   "cell_type": "markdown",
   "metadata": {},
   "source": [
    "# Stewardship Donor Retention: accounts retained as annual fund donors from season to season (s24-s27)"
   ]
  },
  {
   "cell_type": "code",
   "execution_count": 181,
   "metadata": {},
   "outputs": [],
   "source": [
    "#Which season 26 donors were retained in season 27?\n",
    "retained_s27 = [a for a in annual_fund['s27_donors']['account_id'].values if a in annual_fund['s26_donors']['account_id'].values]"
   ]
  },
  {
   "cell_type": "code",
   "execution_count": 182,
   "metadata": {},
   "outputs": [
    {
     "data": {
      "text/plain": [
       "50.14"
      ]
     },
     "execution_count": 182,
     "metadata": {},
     "output_type": "execute_result"
    }
   ],
   "source": [
    "#Season 27 donor retention rate:\n",
    "round(len(retained_s27)/len(annual_fund['s27_donors']['account_id'].values)*100, 2)"
   ]
  },
  {
   "cell_type": "code",
   "execution_count": 183,
   "metadata": {},
   "outputs": [],
   "source": [
    "#Which season 25 donors were retained in season 26?\n",
    "retained_s26 = [a for a in annual_fund['s26_donors']['account_id'].values if a in annual_fund['s25_donors']['account_id'].values]"
   ]
  },
  {
   "cell_type": "code",
   "execution_count": 184,
   "metadata": {},
   "outputs": [
    {
     "data": {
      "text/plain": [
       "68.46"
      ]
     },
     "execution_count": 184,
     "metadata": {},
     "output_type": "execute_result"
    }
   ],
   "source": [
    "#Season 26 donor retention rate:\n",
    "round(len(retained_s26)/len(annual_fund['s26_donors']['account_id'].values)*100, 2)"
   ]
  },
  {
   "cell_type": "code",
   "execution_count": 185,
   "metadata": {},
   "outputs": [],
   "source": [
    "#Which season 24 donors were retained in season 25?\n",
    "retained_s25 = [a for a in annual_fund['s25_donors']['account_id'].values if a in annual_fund['s24_donors']['account_id'].values]"
   ]
  },
  {
   "cell_type": "code",
   "execution_count": 186,
   "metadata": {},
   "outputs": [
    {
     "data": {
      "text/plain": [
       "51.18"
      ]
     },
     "execution_count": 186,
     "metadata": {},
     "output_type": "execute_result"
    }
   ],
   "source": [
    "#Season 25 donor retention rate:\n",
    "round(len(retained_s25)/len(annual_fund['s25_donors']['account_id'].values)*100, 2)"
   ]
  },
  {
   "cell_type": "code",
   "execution_count": 187,
   "metadata": {},
   "outputs": [],
   "source": [
    "#Which season 23 donors were retained in season 24?\n",
    "retained_s24 = [a for a in annual_fund['s24_donors']['account_id'].values if a in annual_fund['s23_donors']['account_id'].values]"
   ]
  },
  {
   "cell_type": "code",
   "execution_count": 188,
   "metadata": {},
   "outputs": [
    {
     "data": {
      "text/plain": [
       "47.44"
      ]
     },
     "execution_count": 188,
     "metadata": {},
     "output_type": "execute_result"
    }
   ],
   "source": [
    "#Season 24 donor retention rate:\n",
    "round(len(retained_s24)/len(annual_fund['s24_donors']['account_id'].values)*100, 2)"
   ]
  },
  {
   "cell_type": "code",
   "execution_count": 189,
   "metadata": {},
   "outputs": [
    {
     "data": {
      "text/plain": [
       "(552, 508, 325, 176)"
      ]
     },
     "execution_count": 189,
     "metadata": {},
     "output_type": "execute_result"
    }
   ],
   "source": [
    "#How many donors did we retain season over season (count number of donors in the 4 lists created above):\n",
    "len(retained_s27), len(retained_s26), len(retained_s25), len(retained_s24)"
   ]
  },
  {
   "cell_type": "code",
   "execution_count": 190,
   "metadata": {},
   "outputs": [
    {
     "data": {
      "text/plain": [
       "'Retained Annual Fund Donor Growth Rate s25 versus s24 is 84.66%'"
      ]
     },
     "execution_count": 190,
     "metadata": {},
     "output_type": "execute_result"
    }
   ],
   "source": [
    "#Retained donor growth rates:\n",
    "retained_donor_growth_s25 = round((len(retained_s25) - len(retained_s24))/len(retained_s24)*100, 2)\n",
    "f'Retained Annual Fund Donor Growth Rate s25 versus s24 is {retained_donor_growth_s25}%'"
   ]
  },
  {
   "cell_type": "code",
   "execution_count": 191,
   "metadata": {},
   "outputs": [
    {
     "data": {
      "text/plain": [
       "'Retained Annual Fund Donor Growth Rate s26 versus s25 is 56.31%'"
      ]
     },
     "execution_count": 191,
     "metadata": {},
     "output_type": "execute_result"
    }
   ],
   "source": [
    "retained_donor_growth_s26 = round((len(retained_s26) - len(retained_s25))/len(retained_s25)*100, 2)\n",
    "f'Retained Annual Fund Donor Growth Rate s26 versus s25 is {retained_donor_growth_s26}%'"
   ]
  },
  {
   "cell_type": "code",
   "execution_count": 192,
   "metadata": {},
   "outputs": [
    {
     "data": {
      "text/plain": [
       "'Retained Annual Fund Donor Growth Rate s27 versus s26 is 8.66%'"
      ]
     },
     "execution_count": 192,
     "metadata": {},
     "output_type": "execute_result"
    }
   ],
   "source": [
    "retained_donor_growth_s27 = round((len(retained_s27) - len(retained_s26))/len(retained_s26)*100, 2)\n",
    "f'Retained Annual Fund Donor Growth Rate s27 versus s26 is {retained_donor_growth_s27}%'"
   ]
  },
  {
   "cell_type": "code",
   "execution_count": 193,
   "metadata": {},
   "outputs": [
    {
     "data": {
      "text/plain": [
       "130"
      ]
     },
     "execution_count": 193,
     "metadata": {},
     "output_type": "execute_result"
    }
   ],
   "source": [
    "#How many stewardship donors gave to the annual fund in s23, s24 and s25\n",
    "retained_consecutively_2 = list(set.intersection(*map(set, [annual_fund['s25_donors']['account_id'].values, annual_fund['s24_donors']['account_id'].values, annual_fund['s23_donors']['account_id'].values])))\n",
    "len(retained_consecutively_2)"
   ]
  },
  {
   "cell_type": "code",
   "execution_count": 194,
   "metadata": {},
   "outputs": [
    {
     "data": {
      "text/plain": [
       "116"
      ]
     },
     "execution_count": 194,
     "metadata": {},
     "output_type": "execute_result"
    }
   ],
   "source": [
    "#How many stewardship donors gave to the annual fund in s23, s24, s25 and s26\n",
    "retained_consecutively_3 = list(set.intersection(*map(set, [annual_fund['s26_donors']['account_id'].values, annual_fund['s25_donors']['account_id'].values, annual_fund['s24_donors']['account_id'].values, annual_fund['s23_donors']['account_id'].values])))\n",
    "len(retained_consecutively_3)"
   ]
  },
  {
   "cell_type": "code",
   "execution_count": 195,
   "metadata": {},
   "outputs": [
    {
     "data": {
      "text/plain": [
       "105"
      ]
     },
     "execution_count": 195,
     "metadata": {},
     "output_type": "execute_result"
    }
   ],
   "source": [
    "#How many stewardship donors gave to the annual fund in s23, s24, s25, s26 and s27\n",
    "retained_consecutively_4 = list(set.intersection(*map(set, [annual_fund['s27_donors']['account_id'].values, annual_fund['s26_donors']['account_id'].values, annual_fund['s25_donors']['account_id'].values, annual_fund['s24_donors']['account_id'].values, annual_fund['s23_donors']['account_id'].values])))\n",
    "len(retained_consecutively_4)"
   ]
  },
  {
   "cell_type": "markdown",
   "metadata": {},
   "source": [
    "# Acquisition / Reactivation Metrics"
   ]
  },
  {
   "cell_type": "code",
   "execution_count": 196,
   "metadata": {},
   "outputs": [
    {
     "data": {
      "text/plain": [
       "549"
      ]
     },
     "execution_count": 196,
     "metadata": {},
     "output_type": "execute_result"
    }
   ],
   "source": [
    "#Which accounts were acquired/reactivated in season 27?\n",
    "new_s27 = [a for a in annual_fund['s27_donors']['account_id'].values if a not in annual_fund['s26_donors']['account_id'].values]\n",
    "#How many?\n",
    "len(new_s27)"
   ]
  },
  {
   "cell_type": "code",
   "execution_count": 198,
   "metadata": {},
   "outputs": [
    {
     "data": {
      "text/plain": [
       "49.86"
      ]
     },
     "execution_count": 198,
     "metadata": {},
     "output_type": "execute_result"
    }
   ],
   "source": [
    "#Percent of season 27 donors that were newly acquired or reactivated donors:\n",
    "round(((len(new_s27)/len(annual_fund['s27_donors']['account_id'].values))*100),2)"
   ]
  },
  {
   "cell_type": "code",
   "execution_count": 197,
   "metadata": {},
   "outputs": [
    {
     "data": {
      "text/plain": [
       "234"
      ]
     },
     "execution_count": 197,
     "metadata": {},
     "output_type": "execute_result"
    }
   ],
   "source": [
    "#Which accounts were acquired/reactivated in season 26?\n",
    "new_s26 = [a for a in annual_fund['s26_donors']['account_id'].values if a not in annual_fund['s25_donors']['account_id'].values]\n",
    "#How many?\n",
    "len(new_s26)"
   ]
  },
  {
   "cell_type": "code",
   "execution_count": 199,
   "metadata": {},
   "outputs": [
    {
     "data": {
      "text/plain": [
       "31.54"
      ]
     },
     "execution_count": 199,
     "metadata": {},
     "output_type": "execute_result"
    }
   ],
   "source": [
    "#Percent of season 26 donors that were newly acquired or reactivated donors:\n",
    "round(((len(new_s26)/len(annual_fund['s26_donors']['account_id'].values))*100),2)"
   ]
  },
  {
   "cell_type": "code",
   "execution_count": 201,
   "metadata": {},
   "outputs": [
    {
     "data": {
      "text/plain": [
       "310"
      ]
     },
     "execution_count": 201,
     "metadata": {},
     "output_type": "execute_result"
    }
   ],
   "source": [
    "#Which accounts were acquired/reactivated in season 25?\n",
    "new_s25 = [a for a in annual_fund['s25_donors']['account_id'].values if a not in annual_fund['s24_donors']['account_id'].values]\n",
    "#How many?\n",
    "len(new_s25)"
   ]
  },
  {
   "cell_type": "code",
   "execution_count": 202,
   "metadata": {},
   "outputs": [
    {
     "data": {
      "text/plain": [
       "48.82"
      ]
     },
     "execution_count": 202,
     "metadata": {},
     "output_type": "execute_result"
    }
   ],
   "source": [
    "#Percent of season 25 donors that were newly acquired or reactivated donors:\n",
    "round(((len(new_s25)/len(annual_fund['s25_donors']['account_id'].values))*100),2)"
   ]
  },
  {
   "cell_type": "code",
   "execution_count": 203,
   "metadata": {},
   "outputs": [
    {
     "data": {
      "text/plain": [
       "195"
      ]
     },
     "execution_count": 203,
     "metadata": {},
     "output_type": "execute_result"
    }
   ],
   "source": [
    "#Which accounts were acquired/reactivated in season 24?\n",
    "new_s24 = [a for a in annual_fund['s24_donors']['account_id'].values if a not in annual_fund['s23_donors']['account_id'].values]\n",
    "#How many?\n",
    "len(new_s24)"
   ]
  },
  {
   "cell_type": "code",
   "execution_count": 204,
   "metadata": {},
   "outputs": [
    {
     "data": {
      "text/plain": [
       "52.56"
      ]
     },
     "execution_count": 204,
     "metadata": {},
     "output_type": "execute_result"
    }
   ],
   "source": [
    "#Percent of season 24 donors that were newly acquired or reactivated donors:\n",
    "round(((len(new_s24)/len(annual_fund['s24_donors']['account_id'].values))*100),2)"
   ]
  },
  {
   "cell_type": "markdown",
   "metadata": {},
   "source": [
    "# Churn Metrics: Annual Fund Donor Accounts who Churned Season over Season (s24-s27) "
   ]
  },
  {
   "cell_type": "markdown",
   "metadata": {},
   "source": [
    "Here, we're examining donors who churned defined as the specific donors who gave last season but not this season.\n",
    "Churn rate = number who gave last season but not this season / total number who gave last season"
   ]
  },
  {
   "cell_type": "code",
   "execution_count": 205,
   "metadata": {},
   "outputs": [
    {
     "data": {
      "text/plain": [
       "190"
      ]
     },
     "execution_count": 205,
     "metadata": {},
     "output_type": "execute_result"
    }
   ],
   "source": [
    "#Which season 26 donors churned in season 27?\n",
    "churn_s27 = [a for a in annual_fund['s26_donors']['account_id'].values if a not in annual_fund['s27_donors']['account_id'].values]\n",
    "#How many churned?\n",
    "len(churn_s27)"
   ]
  },
  {
   "cell_type": "code",
   "execution_count": 206,
   "metadata": {},
   "outputs": [
    {
     "data": {
      "text/plain": [
       "25.61"
      ]
     },
     "execution_count": 206,
     "metadata": {},
     "output_type": "execute_result"
    }
   ],
   "source": [
    "#Season 27 churn rate (based on specific donors):\n",
    "churn_rate_s27 = round(len(churn_s27)/len(annual_fund['s26_donors']['account_id'].values)*100, 2)\n",
    "churn_rate_s27"
   ]
  },
  {
   "cell_type": "code",
   "execution_count": 207,
   "metadata": {},
   "outputs": [
    {
     "data": {
      "text/plain": [
       "-48.38"
      ]
     },
     "execution_count": 207,
     "metadata": {},
     "output_type": "execute_result"
    }
   ],
   "source": [
    "#Season 27 churn rate (based on donor counts):\n",
    "round(((len(annual_fund['s26_donors']['account_id'].values) - len(annual_fund['s27_donors']['account_id'].values))/len(annual_fund['s26_donors']['account_id'].values)*100),2)"
   ]
  },
  {
   "cell_type": "code",
   "execution_count": 208,
   "metadata": {},
   "outputs": [
    {
     "data": {
      "text/plain": [
       "127"
      ]
     },
     "execution_count": 208,
     "metadata": {},
     "output_type": "execute_result"
    }
   ],
   "source": [
    "#Which season 25 donors churned in season 26?\n",
    "churn_s26 = [a for a in annual_fund['s25_donors']['account_id'].values if a not in annual_fund['s26_donors']['account_id'].values]\n",
    "#How many churned?\n",
    "len(churn_s26)"
   ]
  },
  {
   "cell_type": "code",
   "execution_count": 209,
   "metadata": {},
   "outputs": [
    {
     "data": {
      "text/plain": [
       "20.0"
      ]
     },
     "execution_count": 209,
     "metadata": {},
     "output_type": "execute_result"
    }
   ],
   "source": [
    "#Season 26 churn rate (based on specific donors):\n",
    "churn_rate_s26 = round(len(churn_s26)/len(annual_fund['s25_donors']['account_id'].values)*100, 2)\n",
    "churn_rate_s26"
   ]
  },
  {
   "cell_type": "code",
   "execution_count": 210,
   "metadata": {},
   "outputs": [
    {
     "data": {
      "text/plain": [
       "-16.85"
      ]
     },
     "execution_count": 210,
     "metadata": {},
     "output_type": "execute_result"
    }
   ],
   "source": [
    "#Season 26 churn rate (based on donor counts):\n",
    "round(((len(annual_fund['s25_donors']['account_id'].values) - len(annual_fund['s26_donors']['account_id'].values))/len(annual_fund['s25_donors']['account_id'].values)*100),2)"
   ]
  },
  {
   "cell_type": "code",
   "execution_count": 211,
   "metadata": {},
   "outputs": [
    {
     "data": {
      "text/plain": [
       "46"
      ]
     },
     "execution_count": 211,
     "metadata": {},
     "output_type": "execute_result"
    }
   ],
   "source": [
    "#Which season 24 donors churned in season 25?\n",
    "churn_s25 = [a for a in annual_fund['s24_donors']['account_id'].values if a not in annual_fund['s25_donors']['account_id'].values]\n",
    "#How many churned?\n",
    "len(churn_s25)"
   ]
  },
  {
   "cell_type": "code",
   "execution_count": 212,
   "metadata": {},
   "outputs": [
    {
     "data": {
      "text/plain": [
       "12.4"
      ]
     },
     "execution_count": 212,
     "metadata": {},
     "output_type": "execute_result"
    }
   ],
   "source": [
    "#Season 25 churn rate (based on specific donors):\n",
    "churn_rate_s25 = round(len(churn_s25)/len(annual_fund['s24_donors']['account_id'].values)*100, 2)\n",
    "churn_rate_s25"
   ]
  },
  {
   "cell_type": "code",
   "execution_count": 213,
   "metadata": {},
   "outputs": [
    {
     "data": {
      "text/plain": [
       "-71.16"
      ]
     },
     "execution_count": 213,
     "metadata": {},
     "output_type": "execute_result"
    }
   ],
   "source": [
    "#Season 25 churn rate (based on donor counts):\n",
    "round(((len(annual_fund['s24_donors']['account_id'].values) - len(annual_fund['s25_donors']['account_id'].values))/len(annual_fund['s24_donors']['account_id'].values)*100),2)"
   ]
  },
  {
   "cell_type": "code",
   "execution_count": 214,
   "metadata": {},
   "outputs": [
    {
     "data": {
      "text/plain": [
       "49"
      ]
     },
     "execution_count": 214,
     "metadata": {},
     "output_type": "execute_result"
    }
   ],
   "source": [
    "#Which season 24 donors churned in season 25?\n",
    "churn_s24 = [a for a in annual_fund['s23_donors']['account_id'].values if a not in annual_fund['s24_donors']['account_id'].values]\n",
    "#How many churned?\n",
    "len(churn_s24)"
   ]
  },
  {
   "cell_type": "code",
   "execution_count": 215,
   "metadata": {},
   "outputs": [
    {
     "data": {
      "text/plain": [
       "21.78"
      ]
     },
     "execution_count": 215,
     "metadata": {},
     "output_type": "execute_result"
    }
   ],
   "source": [
    "#Season 24 churn rate (based on specific donors):\n",
    "churn_rate_s24 = round(len(churn_s24)/len(annual_fund['s23_donors']['account_id'].values)*100, 2)\n",
    "churn_rate_s24"
   ]
  },
  {
   "cell_type": "code",
   "execution_count": 216,
   "metadata": {},
   "outputs": [
    {
     "data": {
      "text/plain": [
       "-64.89"
      ]
     },
     "execution_count": 216,
     "metadata": {},
     "output_type": "execute_result"
    }
   ],
   "source": [
    "#Season 24 churn rate (based on donor counts):\n",
    "round(((len(annual_fund['s23_donors']['account_id'].values) - len(annual_fund['s24_donors']['account_id'].values))/len(annual_fund['s23_donors']['account_id'].values)*100),2)"
   ]
  },
  {
   "cell_type": "markdown",
   "metadata": {},
   "source": [
    "First, defining retention as donor gave to the annual fund for two or more consecutive seasons"
   ]
  },
  {
   "cell_type": "code",
   "execution_count": null,
   "metadata": {},
   "outputs": [],
   "source": [
    "#As DICTIONARY:\n",
    "#stp_amt_list = ['stp_total_s27', 'stp_total_s26', 'stp_total_s25', 'stp_total_s24', 'stp_total_s23']\n",
    "#donor_levels_by_season_dict_of_dfs = {}\n",
    "#donor_levels_by_season['account_id'] = donations_no_outlier_amts['account_id']\n",
    "#for col in stp_amt_list:\n",
    "#    df_name = col[:3] + col[9:] + 'level'\n",
    "#    donor_levels_by_season[df_name] = (donations_no_outlier_amts[col].apply(stp_level_generator))"
   ]
  },
  {
   "cell_type": "code",
   "execution_count": 226,
   "metadata": {},
   "outputs": [],
   "source": [
    "#Store a new dataframe with each iteration as a new dictionary value\n",
    "#stp_amt_list = ['stp_total_s27', 'stp_total_s26', 'stp_total_s25', 'stp_total_s24', 'stp_total_s23']\n",
    "#donor_levels_by_season_dict_of_dfs = {} #initialize empty dictionary\n",
    "\n",
    "#for col in stp_amt_list:\n",
    "#    new_df_name = col[:3] + col[9:] + 'level' \n",
    "#    donor_levels_by_season_dict_of_dfs[new_df_name] = donations_no_outlier_amts[col].apply(stp_level_generator)"
   ]
  },
  {
   "cell_type": "markdown",
   "metadata": {},
   "source": [
    "# Left Off Here"
   ]
  },
  {
   "cell_type": "markdown",
   "metadata": {},
   "source": [
    "Separate continuous and categorical features for exploration."
   ]
  },
  {
   "cell_type": "code",
   "execution_count": null,
   "metadata": {},
   "outputs": [],
   "source": []
  },
  {
   "cell_type": "code",
   "execution_count": null,
   "metadata": {},
   "outputs": [],
   "source": [
    "cats['donation_record_type'].value_counts().plot.bar(title='Freq dist of Donation Record Type', figsize=[15,10])"
   ]
  },
  {
   "cell_type": "code",
   "execution_count": null,
   "metadata": {},
   "outputs": [],
   "source": [
    "donations['fund'].value_counts().plot.bar(title='Freq dist of Fund', figsize=[15,10])"
   ]
  },
  {
   "cell_type": "code",
   "execution_count": null,
   "metadata": {},
   "outputs": [],
   "source": [
    "cont_vars"
   ]
  },
  {
   "cell_type": "markdown",
   "metadata": {},
   "source": [
    "Continuous Plots"
   ]
  },
  {
   "cell_type": "code",
   "execution_count": null,
   "metadata": {},
   "outputs": [],
   "source": [
    "x = less_max['amount']\n",
    "ax = sns.distplot(x)"
   ]
  },
  {
   "cell_type": "code",
   "execution_count": null,
   "metadata": {},
   "outputs": [],
   "source": [
    "fig, ax = plt.subplots(len(cont_vars), figsize=(16,12))\n",
    "\n",
    "for i, col_val in enumerate(cont_vars):\n",
    "    try:\n",
    "        sns.distplot(cont[col_val], hist=True, ax=ax[i])\n",
    "        ax[i].set_title('Freq dist '+col_val, fontsize=10)\n",
    "        ax[i].set_xlabel(col_val, fontsize=8)\n",
    "        ax[i].set_ylabel('Count', fontsize=8)\n",
    "    except RuntimeError as re:\n",
    "        if str(re).startswith(\"Selected KDE bandwidth is 0. Cannot estimate density.\"):\n",
    "            sns.distplot(cont[col_val], hist=True, ax=ax[i], kde_kws={'bw': 0.1})\n",
    "        else:\n",
    "            raise re\n",
    "    \n",
    "plt.show()"
   ]
  },
  {
   "cell_type": "code",
   "execution_count": null,
   "metadata": {},
   "outputs": [],
   "source": [
    "cont_dollars = ['amount', 'pledge_amount', 'amount_matched', 'last_donation_amount','lifetime_donation_total_amount',\n",
    "       'lifetime_single_ticket_purchase_total', 'lifetime_subscription_purchase_total', 'amount_paid', 'amount_donated_last_365_days',\n",
    "       'amount_donated_last_fiscal_year', 'amount_donated_this_fiscal_year', 'group_sales_total', 'total_amount']"
   ]
  },
  {
   "cell_type": "code",
   "execution_count": null,
   "metadata": {},
   "outputs": [],
   "source": [
    "fig, ax = plt.subplots(len(cont_dollars), figsize=(16,12))\n",
    "\n",
    "for i, col_val in enumerate(cont_dollars):\n",
    "    try:\n",
    "        sns.distplot(less_max[col_val], hist=True, ax=ax[i])\n",
    "        ax[i].set_title('Freq dist '+col_val, fontsize=10)\n",
    "        ax[i].set_xlabel(col_val, fontsize=8)\n",
    "        ax[i].set_ylabel('Count', fontsize=8)\n",
    "    except RuntimeError as re:\n",
    "        if str(re).startswith(\"Selected KDE bandwidth is 0. Cannot estimate density.\"):\n",
    "            sns.distplot(less_max[col_val], hist=True, ax=ax[i], kde_kws={'bw': 0.1})\n",
    "        else:\n",
    "            raise re\n",
    "    \n",
    "plt.show()"
   ]
  },
  {
   "cell_type": "code",
   "execution_count": null,
   "metadata": {},
   "outputs": [],
   "source": []
  },
  {
   "cell_type": "code",
   "execution_count": null,
   "metadata": {},
   "outputs": [],
   "source": [
    "fig, ax = plt.subplots(len(cont_vars), figsize=(16,12))\n",
    "\n",
    "for i, col_val in enumerate(cont_vars):\n",
    "    try:\n",
    "        sns.distplot(cont[col_val], hist=True, ax=ax[i])\n",
    "        ax[i].set_title('Freq dist '+col_val, fontsize=10)\n",
    "        ax[i].set_xlabel(col_val, fontsize=8)\n",
    "        ax[i].set_ylabel('Count', fontsize=8)\n",
    "    except RuntimeError as re:\n",
    "        if str(re).startswith(\"Selected KDE bandwidth is 0. Cannot estimate density.\"):\n",
    "            sns.distplot(cont[col_val], hist=True, ax=ax[i], kde_kws={'bw': 0.1})\n",
    "        else:\n",
    "            raise re\n",
    "    \n",
    "plt.show()"
   ]
  },
  {
   "cell_type": "code",
   "execution_count": null,
   "metadata": {},
   "outputs": [],
   "source": []
  },
  {
   "cell_type": "code",
   "execution_count": null,
   "metadata": {},
   "outputs": [],
   "source": []
  },
  {
   "cell_type": "code",
   "execution_count": null,
   "metadata": {},
   "outputs": [],
   "source": []
  },
  {
   "cell_type": "code",
   "execution_count": null,
   "metadata": {},
   "outputs": [],
   "source": []
  },
  {
   "cell_type": "code",
   "execution_count": null,
   "metadata": {},
   "outputs": [],
   "source": []
  },
  {
   "cell_type": "code",
   "execution_count": null,
   "metadata": {},
   "outputs": [],
   "source": []
  },
  {
   "cell_type": "code",
   "execution_count": null,
   "metadata": {},
   "outputs": [],
   "source": []
  },
  {
   "cell_type": "code",
   "execution_count": null,
   "metadata": {},
   "outputs": [],
   "source": []
  },
  {
   "cell_type": "code",
   "execution_count": null,
   "metadata": {},
   "outputs": [],
   "source": []
  },
  {
   "cell_type": "code",
   "execution_count": null,
   "metadata": {},
   "outputs": [],
   "source": []
  },
  {
   "cell_type": "code",
   "execution_count": null,
   "metadata": {},
   "outputs": [],
   "source": []
  },
  {
   "cell_type": "code",
   "execution_count": null,
   "metadata": {},
   "outputs": [],
   "source": []
  },
  {
   "cell_type": "code",
   "execution_count": null,
   "metadata": {},
   "outputs": [],
   "source": []
  },
  {
   "cell_type": "code",
   "execution_count": null,
   "metadata": {},
   "outputs": [],
   "source": []
  },
  {
   "cell_type": "code",
   "execution_count": null,
   "metadata": {},
   "outputs": [],
   "source": []
  },
  {
   "cell_type": "code",
   "execution_count": null,
   "metadata": {},
   "outputs": [],
   "source": []
  },
  {
   "cell_type": "code",
   "execution_count": null,
   "metadata": {},
   "outputs": [],
   "source": []
  },
  {
   "cell_type": "code",
   "execution_count": null,
   "metadata": {},
   "outputs": [],
   "source": []
  },
  {
   "cell_type": "code",
   "execution_count": null,
   "metadata": {},
   "outputs": [],
   "source": []
  },
  {
   "cell_type": "code",
   "execution_count": null,
   "metadata": {},
   "outputs": [],
   "source": []
  },
  {
   "cell_type": "code",
   "execution_count": null,
   "metadata": {},
   "outputs": [],
   "source": []
  }
 ],
 "metadata": {
  "kernelspec": {
   "display_name": "Python 3",
   "language": "python",
   "name": "python3"
  },
  "language_info": {
   "codemirror_mode": {
    "name": "ipython",
    "version": 3
   },
   "file_extension": ".py",
   "mimetype": "text/x-python",
   "name": "python",
   "nbconvert_exporter": "python",
   "pygments_lexer": "ipython3",
   "version": "3.7.7"
  }
 },
 "nbformat": 4,
 "nbformat_minor": 4
}
