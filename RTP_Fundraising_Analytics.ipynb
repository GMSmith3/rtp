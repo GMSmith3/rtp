{
 "cells": [
  {
   "cell_type": "markdown",
   "metadata": {},
   "source": [
    "# Setup"
   ]
  },
  {
   "cell_type": "code",
   "execution_count": null,
   "metadata": {},
   "outputs": [],
   "source": [
    "#Check directory\n",
    "#!pwd"
   ]
  },
  {
   "cell_type": "code",
   "execution_count": null,
   "metadata": {},
   "outputs": [],
   "source": [
    "#Change directory\n",
    "#%cd /Users/georgesmith/Desktop/RTP/DONOR DATA ANALYSIS"
   ]
  },
  {
   "cell_type": "code",
   "execution_count": null,
   "metadata": {},
   "outputs": [],
   "source": [
    "#Import necessary packages:\n",
    "import pandas as pd\n",
    "from pandas.plotting import scatter_matrix\n",
    "import numpy as np\n",
    "import datetime\n",
    "from datetime import date\n",
    "from datetime import datetime\n",
    "import matplotlib\n",
    "import matplotlib.pyplot as plt\n",
    "import seaborn as sns\n",
    "from scipy import stats\n",
    "from IPython.display import display\n",
    "import sys\n",
    "#Install pingouin package into this jupyter kernal\n",
    "#!{sys.executable} -m pip install pingouin\n",
    "import pingouin as pg #this throws the warning message\n",
    "#!{sys.executable} -m pip install --upgrade statsmodels\n",
    "import pickle\n",
    "import plotly.offline as py\n",
    "color = sns.color_palette()\n",
    "import plotly.graph_objs as go\n",
    "py.init_notebook_mode(connected=True)\n",
    "import plotly.tools as tls\n",
    "#import sys\n",
    "#!{sys.executable} -m pip install pandas_profiling\n",
    "import pandas_profiling\n",
    "\n",
    "%matplotlib inline"
   ]
  },
  {
   "cell_type": "code",
   "execution_count": null,
   "metadata": {},
   "outputs": [],
   "source": [
    "#Read in donation data:\n",
    "donations = pd.read_csv('/Users/georgesmith/Desktop/RTP/DONOR DATA ANALYSIS/donations_by_acct_contact_July_2014_June_29_2020.csv')\n",
    "\n",
    "#Review import:\n",
    "donations.head()"
   ]
  },
  {
   "cell_type": "code",
   "execution_count": null,
   "metadata": {},
   "outputs": [],
   "source": [
    "donations.shape"
   ]
  },
  {
   "cell_type": "code",
   "execution_count": null,
   "metadata": {},
   "outputs": [],
   "source": [
    "#Get variable dataypes and non-null counts:\n",
    "donations.info()"
   ]
  },
  {
   "cell_type": "code",
   "execution_count": null,
   "metadata": {},
   "outputs": [],
   "source": [
    "def col_dtype_conversions(df, col_list1, new_dtype1, col_list2, new_dtype2):\n",
    "    \"\"\"\n",
    "    Converts columns in col_list1 to datatype specified in new_dtype1\n",
    "    and converts those in col_list2 to datatype specified in new_dtype2\n",
    "\n",
    "    Params\n",
    "    ------\n",
    "    df : pandas.DataFrame\n",
    "        dataframe with columns in both col_lists\n",
    "    col_list1 : list\n",
    "        list of column names to be converted to dtype specified by new_dtype1\n",
    "    new_dtype1 : str (must put in quotes)\n",
    "        data type to which columns in col_list1 will be converted\n",
    "    col_list2 : list\n",
    "        list of column names to be converted to dtype specified by new_dtype2\n",
    "    new_dtype2 : str (must put in quotes)\n",
    "        data type to which columns in col_list2 will be converted\n",
    "\n",
    "    Returns\n",
    "    -------\n",
    "    pandas.DataFrame\n",
    "        Returns a dataframe with the same columns, some of which are now cast as\n",
    "        the specified data types\n",
    "    \"\"\"\n",
    "    for col1 in col_list1:\n",
    "        df[col1] = df[col1].astype(new_dtype1)\n",
    "        for col2 in col_list2:\n",
    "            df[col2] = df[col2].astype(new_dtype2)\n",
    "    return"
   ]
  },
  {
   "cell_type": "code",
   "execution_count": null,
   "metadata": {},
   "outputs": [],
   "source": [
    "col1 = ['fiscal_year', 'transaction_id']\n",
    "col2 = ['close_date', 'first_donation_date', 'last_donation_date', 'account_created_date']"
   ]
  },
  {
   "cell_type": "code",
   "execution_count": null,
   "metadata": {},
   "outputs": [],
   "source": [
    "col_dtype_conversions(donations, col1, 'str', col2, 'datetime64[ns]')"
   ]
  },
  {
   "cell_type": "code",
   "execution_count": null,
   "metadata": {},
   "outputs": [],
   "source": [
    "#Confirm dtype conversions\n",
    "donations.dtypes"
   ]
  },
  {
   "cell_type": "code",
   "execution_count": null,
   "metadata": {},
   "outputs": [],
   "source": [
    "#Remove all refunded donation lineitems to omit them from analysis and calculations\n",
    "donations = donations[donations['stage'] != 'Refunded']"
   ]
  },
  {
   "cell_type": "code",
   "execution_count": null,
   "metadata": {},
   "outputs": [],
   "source": [
    "donations.shape"
   ]
  },
  {
   "cell_type": "code",
   "execution_count": null,
   "metadata": {},
   "outputs": [],
   "source": [
    "#Show descriptive statistics for non-numeric columns in donations df\n",
    "#Top - most common value in given column; freq - frequency of column's most common value\n",
    "donations.describe(include=['O']).T"
   ]
  },
  {
   "cell_type": "code",
   "execution_count": null,
   "metadata": {},
   "outputs": [],
   "source": [
    "#Show descriptive statistics for numeric columns in donations df\n",
    "#Top - most common value in given column; freq - frequency of column's most common value\n",
    "donations.describe().T"
   ]
  },
  {
   "cell_type": "code",
   "execution_count": null,
   "metadata": {},
   "outputs": [],
   "source": [
    "#Remove columns that are already clearly extraneous and/or lacking variability\n",
    "donations.drop(['matching_close_date'], axis=1, inplace=True)"
   ]
  },
  {
   "cell_type": "markdown",
   "metadata": {},
   "source": [
    "# Initial research question: are donations (volume and dollar total) increasing overtime?"
   ]
  },
  {
   "cell_type": "code",
   "execution_count": null,
   "metadata": {},
   "outputs": [],
   "source": [
    "import pandas_profiling"
   ]
  },
  {
   "cell_type": "code",
   "execution_count": null,
   "metadata": {},
   "outputs": [],
   "source": [
    "# For a quick overview of all the features, levels etc, along with the numeric correlations, \n",
    "# https://github.com/pandas-profiling/pandas-profiling\n",
    "profile = pandas_profiling.ProfileReport(donations)\n",
    "profile.to_file(\"donations_profile.html\") # download it for viewing in the browser\n",
    "profile # ATTEMPT to render it in kernal"
   ]
  },
  {
   "cell_type": "markdown",
   "metadata": {},
   "source": [
    "Address nulls."
   ]
  },
  {
   "cell_type": "markdown",
   "metadata": {},
   "source": [
    "Fund Column:"
   ]
  },
  {
   "cell_type": "code",
   "execution_count": null,
   "metadata": {},
   "outputs": [],
   "source": [
    "#Convert nan in fund column (except for pledges) to Annual Fund.\n",
    "#Also, replace other AF categories with 'Annual Fund'\n",
    "donations.loc[(((donations['fund'].isna()) | (donations['fund'].isin([\"Annual Fund Historical\", 'ANN']))) & (donations['donation_record_type'] != 'Pledge')), 'fund'] = \"Annual Fund\""
   ]
  },
  {
   "cell_type": "code",
   "execution_count": null,
   "metadata": {},
   "outputs": [],
   "source": [
    "donations.loc[(donations['donation_record_type'] != 'Pledge') & (donations['account_record_type'] != 'Business') & (donations['fund'].isna()), 'fund'] = 'Annual Fund'"
   ]
  },
  {
   "cell_type": "code",
   "execution_count": null,
   "metadata": {},
   "outputs": [],
   "source": [
    "#Group levels referencing the same fund under common levels\n",
    "donations.loc[(donations['fund'].isin([\"25th Anniversary Campaign Fund\", '25th Anniversary Fund', '25TH'])), 'fund'] = \"25th Anniversary Capital Campaign\"\n",
    "donations.loc[(donations['fund'] == 'NEXT'), 'fund'] = \"Next Stage Campaign\"\n",
    "donations.loc[(donations['fund'] == 'John Knapp -Tim Gillham Fund'), 'fund'] = \"New Works (Knapp-Gillham) Fund\"\n",
    "donations.loc[(donations['fund'].isin([\"Education Program Fund\", 'EDUC'])), 'fund'] = \"Education Fund\""
   ]
  },
  {
   "cell_type": "code",
   "execution_count": null,
   "metadata": {},
   "outputs": [],
   "source": [
    "#Check fund column value changes\n",
    "donations.fund.value_counts()"
   ]
  },
  {
   "cell_type": "code",
   "execution_count": null,
   "metadata": {},
   "outputs": [],
   "source": [
    "donations.payment_type.value_counts()"
   ]
  },
  {
   "cell_type": "code",
   "execution_count": null,
   "metadata": {},
   "outputs": [],
   "source": [
    "#Group levels referencing the same payment_type under common levels\n",
    "donations.loc[(donations['payment_type'] == 'CRED'), 'payment_type'] = \"Credit Card\"\n",
    "donations.loc[(donations['payment_type'] == 'Third Party'), 'payment_type'] = \"Credit Card - Third Party\"\n",
    "donations.loc[(donations['payment_type'] == 'INKND'), 'payment_type'] = \"In Kind\""
   ]
  },
  {
   "cell_type": "code",
   "execution_count": null,
   "metadata": {},
   "outputs": [],
   "source": [
    "donations.payment_type.value_counts()"
   ]
  },
  {
   "cell_type": "code",
   "execution_count": null,
   "metadata": {},
   "outputs": [],
   "source": [
    "donations.donation_record_type.value_counts(dropna=False)"
   ]
  },
  {
   "cell_type": "code",
   "execution_count": null,
   "metadata": {},
   "outputs": [],
   "source": [
    "#Define function to show value counts of categorical vars specified in column list input\n",
    "def cat_col_value_counts(df, cat_col_list):\n",
    "    x=[]\n",
    "    for cat_col in cat_col_list:\n",
    "         x.append(df[cat_col].value_counts(dropna= False))\n",
    "    print (x)"
   ]
  },
  {
   "cell_type": "code",
   "execution_count": null,
   "metadata": {},
   "outputs": [],
   "source": [
    "cat_col_list = ['account_record_type', 'type', 'frequency', 'payment_schedule', 'stage', 'card_type', 'donation_origin', 'mailing_city', 'mailing_state']"
   ]
  },
  {
   "cell_type": "code",
   "execution_count": null,
   "metadata": {},
   "outputs": [],
   "source": [
    "cat_col_value_counts(donations, cat_col_list)"
   ]
  },
  {
   "cell_type": "markdown",
   "metadata": {},
   "source": [
    "Take a look a donations marked with stage == 'Pledged' as well as those marked with type == 'Pledge Payment'"
   ]
  },
  {
   "cell_type": "code",
   "execution_count": null,
   "metadata": {},
   "outputs": [],
   "source": [
    "donations.loc[(donations['stage'] == 'Pledged'), ['account_name','stage', 'frequency', 'type', 'payment_schedule', 'donation_origin', 'amount', 'payment_type', 'pledge_amount', 'amount_paid', 'close_date']]"
   ]
  },
  {
   "cell_type": "code",
   "execution_count": null,
   "metadata": {},
   "outputs": [],
   "source": [
    "donations.loc[(donations['type'] == 'Pledge Payment'), ['account_name','stage', 'frequency', 'type', 'payment_schedule', 'donation_origin', 'amount', 'payment_type', 'pledge_amount', 'amount_paid', 'close_date']]"
   ]
  },
  {
   "cell_type": "code",
   "execution_count": null,
   "metadata": {},
   "outputs": [],
   "source": [
    "donations.loc[(donations['close_date'] > '2015-11-01') & (donations['close_date'] < '2016-01-31'), ['amount', 'close_date', 'donation_record_type', 'payment_type']]"
   ]
  },
  {
   "cell_type": "markdown",
   "metadata": {},
   "source": [
    "Create campaign column"
   ]
  },
  {
   "cell_type": "code",
   "execution_count": null,
   "metadata": {},
   "outputs": [],
   "source": [
    "donations.loc[(donations['close_date'] > '2020-06-05') & (donations['close_date'] < '2020-08-01') & (donations['fund'] == 'Annual Fund'), 'campaign'] = 'Spring 2020 Annual Fund Appeal (S27)'\n",
    "donations.loc[(donations['close_date'] > '2019-11-19') & (donations['close_date'] < '2020-02-01') & (donations['fund'] == 'Annual Fund'), 'campaign'] = 'Fall 2019 Annual Fund Appeal (S27)'\n",
    "donations.loc[(donations['close_date'] > '2019-05-20') & (donations['close_date'] < '2019-08-01') & (donations['fund'] == 'Annual Fund'), 'campaign'] = 'Spring 2019 Annual Fund Appeal (S26)'\n",
    "donations.loc[(donations['close_date'] > '2018-11-25') & (donations['close_date'] < '2019-02-01') & (donations['fund'] == 'Annual Fund'), 'campaign'] = 'Fall 2018 Annual Fund Appeal (S26)'\n",
    "donations.loc[(donations['close_date'] > '2018-05-20') & (donations['close_date'] < '2018-08-01') & (donations['fund'] == 'Annual Fund'), 'campaign'] = 'Spring 2018 Annual Fund Appeal (S25)'\n",
    "donations.loc[(donations['close_date'] > '2017-11-10') & (donations['close_date'] < '2018-02-01') & (donations['fund'] == 'Annual Fund'), 'campaign'] = 'Fall 2017 Annual Fund Appeal (S25)'\n",
    "donations.loc[(donations['close_date'] > '2016-11-14') & (donations['close_date'] < '2017-02-01') & (donations['fund'] == 'Annual Fund'), 'campaign'] = 'Fall 2016 Annual Fund Appeal (S24)'\n",
    "donations.loc[(donations['close_date'] > '2015-11-14') & (donations['close_date'] < '2016-02-01') & (donations['fund'] == 'Annual Fund'), 'campaign'] = 'Fall 2015 Annual Fund Appeal (S23)'\n",
    "donations.loc[(donations['close_date'] > '2014-11-14') & (donations['close_date'] < '2015-02-01') & (donations['fund'] == 'Annual Fund'), 'campaign'] = 'Fall 2014 Annual Fund Appeal (S22)'\n",
    "donations.loc[(donations['type'] == 'GIVINGTUESDAYNOW'), 'campaign'] = 'GIVINGTUESDAYNOW (S27)'"
   ]
  },
  {
   "cell_type": "code",
   "execution_count": null,
   "metadata": {},
   "outputs": [],
   "source": [
    "donations.loc[(donations['close_date'] > '2019-06-30') & (donations['close_date'] < '2020-07-01') & (donations['campaign'].isna()), 'campaign'] = 'Outside of Campaign Period (S27)'\n",
    "donations.loc[(donations['close_date'] > '2018-06-30') & (donations['close_date'] < '2019-07-01') & (donations['campaign'].isna()), 'campaign'] = 'Outside of Campaign Period (S26)'\n",
    "donations.loc[(donations['close_date'] > '2017-06-30') & (donations['close_date'] < '2018-07-01') & (donations['campaign'].isna()), 'campaign'] = 'Outside of Campaign Period (S25)'\n",
    "donations.loc[(donations['close_date'] > '2016-06-30') & (donations['close_date'] < '2017-07-01') & (donations['campaign'].isna()), 'campaign'] = 'Outside of Campaign Period (S24)'\n",
    "donations.loc[(donations['close_date'] > '2015-06-30') & (donations['close_date'] < '2016-07-01') & (donations['campaign'].isna()), 'campaign'] = 'Outside of Campaign Period (S23)'\n",
    "donations.loc[(donations['close_date'] > '2014-06-30') & (donations['close_date'] < '2015-07-01') & (donations['campaign'].isna()), 'campaign'] = 'Outside of Campaign Period (S22)'"
   ]
  },
  {
   "cell_type": "code",
   "execution_count": null,
   "metadata": {},
   "outputs": [],
   "source": [
    "donations.campaign.value_counts()"
   ]
  },
  {
   "cell_type": "code",
   "execution_count": null,
   "metadata": {},
   "outputs": [],
   "source": [
    "#Visualize donations over time\n",
    "dons = donations.plot.scatter('close_date', 'amount')"
   ]
  },
  {
   "cell_type": "code",
   "execution_count": null,
   "metadata": {},
   "outputs": [],
   "source": [
    "donations.loc[donations['amount']>40000, ['donation_name', 'amount', 'close_date', 'fund']]"
   ]
  },
  {
   "cell_type": "code",
   "execution_count": null,
   "metadata": {},
   "outputs": [],
   "source": [
    "#Remove the 6 outliers above (those above 40k) as well as donations marked stage == 'Refunded'\n",
    "less_max = donations[(donations['amount']<40000) & (donations['donation_record_type'] != 'Pledge')]"
   ]
  },
  {
   "cell_type": "code",
   "execution_count": null,
   "metadata": {},
   "outputs": [],
   "source": [
    "less_max_scatter = less_max.plot.scatter('close_date', 'amount')"
   ]
  },
  {
   "cell_type": "code",
   "execution_count": null,
   "metadata": {},
   "outputs": [],
   "source": [
    "#Find donation volume by date (excludes donations over 40,000 and refunds)\n",
    "donations_by_date = less_max.groupby('close_date')['donation_id'].count()\n",
    "donations_by_date.head()"
   ]
  },
  {
   "cell_type": "code",
   "execution_count": null,
   "metadata": {},
   "outputs": [],
   "source": [
    "#Plot the daily donation volume\n",
    "\n",
    "#set style\n",
    "sns.set(style='darkgrid')\n",
    "\n",
    "#Adjust the plot size\n",
    "plt.figure(figsize=[15,6])\n",
    "\n",
    "#Line Plot\n",
    "sns.lineplot(x=donations_by_date.index, y=donations_by_date.values, color='purple')\n",
    "\n",
    "#Assign axis labels:\n",
    "plt.ylabel('Number of Donations', fontsize=14)\n",
    "plt.xlabel('Date', fontsize=14)"
   ]
  },
  {
   "cell_type": "code",
   "execution_count": null,
   "metadata": {},
   "outputs": [],
   "source": [
    "#Which date over the analysis period had the largest donation volume?\n",
    "donations.close_date.mode()\n",
    "\n",
    "#04-19-2018 makes sense as it was our first giveoutday"
   ]
  },
  {
   "cell_type": "code",
   "execution_count": null,
   "metadata": {},
   "outputs": [],
   "source": [
    "#Fill nan in donations['amount'] with 0\n",
    "donations.loc[donations['amount'].isna(), 'amount'] = 0\n",
    "donations[donations['donation_record_type'] == 'Pledge']"
   ]
  },
  {
   "cell_type": "code",
   "execution_count": null,
   "metadata": {},
   "outputs": [],
   "source": [
    "#Show all donations by fiscal year\n",
    "donations_by_fiscal_year = donations[(donations['donation_record_type'] != 'Pledge')].groupby('fiscal_year')['amount'].sum()\n",
    "donations_by_fiscal_year"
   ]
  },
  {
   "cell_type": "code",
   "execution_count": null,
   "metadata": {},
   "outputs": [],
   "source": [
    "#Show donations by fund and fiscal year\n",
    "donations_by_fy_fund = donations[(donations['donation_record_type'] != 'Pledge')].groupby(['fund','fiscal_year'])['amount'].sum()\n",
    "donations_by_fy_fund"
   ]
  },
  {
   "cell_type": "code",
   "execution_count": null,
   "metadata": {},
   "outputs": [],
   "source": [
    "donations.fund.value_counts()"
   ]
  },
  {
   "cell_type": "code",
   "execution_count": null,
   "metadata": {},
   "outputs": [],
   "source": [
    "#Plot the daily donation volume\n",
    "\n",
    "#set style\n",
    "sns.set(style='darkgrid')\n",
    "\n",
    "#Adjust the plot size\n",
    "plt.figure(figsize=[15,6])\n",
    "\n",
    "#Line Plot\n",
    "sns.lineplot(x=donations_by_fiscal_year.index, y=donations_by_fiscal_year.values, color='magenta')\n",
    "\n",
    "#Assign axis labels:\n",
    "plt.ylabel('Donation Total ($)', fontsize=14)\n",
    "plt.xlabel('Fiscal Year', fontsize=14)"
   ]
  },
  {
   "cell_type": "code",
   "execution_count": null,
   "metadata": {},
   "outputs": [],
   "source": [
    "#Visualize annual fund donations by date\n",
    "af_donations_by_close_date = donations[(donations['fund'] == 'Annual Fund') & (donations['donation_record_type'] != 'Pledge')].groupby('close_date')['amount'].sum()\n",
    "af_donations_by_close_date.head()"
   ]
  },
  {
   "cell_type": "code",
   "execution_count": null,
   "metadata": {},
   "outputs": [],
   "source": [
    "#Plot the total daily annual fund donations\n",
    "\n",
    "#set style\n",
    "sns.set(style='darkgrid')\n",
    "\n",
    "#Adjust the plot size\n",
    "plt.figure(figsize=[15,6])\n",
    "\n",
    "#Line Plot\n",
    "sns.lineplot(x=af_donations_by_close_date.index, y=af_donations_by_close_date.values, color='magenta')\n",
    "\n",
    "#Assign axis labels:\n",
    "plt.ylabel('Donation Total ($)', fontsize=14)\n",
    "plt.xlabel('Fiscal Year', fontsize=14)\n",
    "plt.title('Annual Fund Donation Totals Per Day')"
   ]
  },
  {
   "cell_type": "code",
   "execution_count": null,
   "metadata": {},
   "outputs": [],
   "source": [
    "#Visualize total annual fund donations by FY\n",
    "af_donations_by_fy = donations[(donations['fund'] == 'Annual Fund') & (donations['donation_record_type'] != 'Pledge')].groupby('fiscal_year')['amount'].sum()\n",
    "af_donations_by_fy"
   ]
  },
  {
   "cell_type": "code",
   "execution_count": null,
   "metadata": {},
   "outputs": [],
   "source": [
    "#Plot the total annual fund donations by fiscal year\n",
    "\n",
    "#set style\n",
    "sns.set(style='darkgrid')\n",
    "\n",
    "#Adjust the plot size\n",
    "plt.figure(figsize=[15,6])\n",
    "\n",
    "#Line Plot\n",
    "sns.barplot(x=af_donations_by_fy.index, y=af_donations_by_fy.values, color='magenta')\n",
    "\n",
    "#Assign axis labels:\n",
    "plt.ylabel('Donation Total ($)', fontsize=14)\n",
    "plt.xlabel('Fiscal Year', fontsize=14)\n",
    "plt.title('Annual Fund Donation Totals By Fiscal Year')"
   ]
  },
  {
   "cell_type": "code",
   "execution_count": null,
   "metadata": {},
   "outputs": [],
   "source": [
    "#Visualize mean annual fund donations by FY\n",
    "af_donations_mean_by_fy = donations[(donations['fund'] == 'Annual Fund') & (donations['donation_record_type'] != 'Pledge')].groupby('fiscal_year')['amount'].mean()\n",
    "af_donations_mean_by_fy"
   ]
  },
  {
   "cell_type": "code",
   "execution_count": null,
   "metadata": {},
   "outputs": [],
   "source": [
    "#Plot the annual fund means by fiscal year\n",
    "\n",
    "#set style\n",
    "sns.set(style='darkgrid')\n",
    "\n",
    "#Adjust the plot size\n",
    "plt.figure(figsize=[15,6])\n",
    "\n",
    "#Line Plot\n",
    "sns.barplot(x=af_donations_mean_by_fy.index, y=af_donations_mean_by_fy.values, color='green')\n",
    "\n",
    "#Assign axis labels:\n",
    "plt.ylabel('Mean Donations ($)', fontsize=14)\n",
    "plt.xlabel('Fiscal Year', fontsize=14)\n",
    "plt.title('Annual Fund Donation Means By Fiscal Year')"
   ]
  },
  {
   "cell_type": "code",
   "execution_count": null,
   "metadata": {},
   "outputs": [],
   "source": [
    "pd.DataFrame(af_donations_mean_by_fy).T"
   ]
  },
  {
   "cell_type": "code",
   "execution_count": null,
   "metadata": {},
   "outputs": [],
   "source": [
    "#Visualize mean annual fund donations by FY\n",
    "af_donations_vol_by_fy = donations[(donations['fund'] == 'Annual Fund') & (donations['donation_record_type'] != 'Pledge')].groupby('fiscal_year')['amount'].count()\n",
    "af_donations_vol_by_fy"
   ]
  },
  {
   "cell_type": "code",
   "execution_count": null,
   "metadata": {},
   "outputs": [],
   "source": [
    "#Plot the annual fund means by fiscal year\n",
    "\n",
    "#set style\n",
    "sns.set(style='darkgrid')\n",
    "\n",
    "#Adjust the plot size\n",
    "plt.figure(figsize=[15,6])\n",
    "\n",
    "#Line Plot\n",
    "sns.barplot(x=af_donations_vol_by_fy.index, y=af_donations_vol_by_fy.values, color='purple')\n",
    "\n",
    "#Assign axis labels:\n",
    "plt.ylabel('Donation Volume', fontsize=14)\n",
    "plt.xlabel('Fiscal Year', fontsize=14)\n",
    "plt.title('Annual Fund Donation Volume By Fiscal Year')"
   ]
  },
  {
   "cell_type": "code",
   "execution_count": null,
   "metadata": {},
   "outputs": [],
   "source": [
    "donations.fund.value_counts()"
   ]
  },
  {
   "cell_type": "code",
   "execution_count": null,
   "metadata": {},
   "outputs": [],
   "source": [
    "donations.campaign.value_counts()"
   ]
  },
  {
   "cell_type": "code",
   "execution_count": null,
   "metadata": {},
   "outputs": [],
   "source": [
    "len(donations.campaign.value_counts())"
   ]
  },
  {
   "cell_type": "code",
   "execution_count": null,
   "metadata": {},
   "outputs": [],
   "source": [
    "donations[(donations['fund'] == 'Annual Fund')].groupby('campaign')['amount'].sum().sort_values()"
   ]
  },
  {
   "cell_type": "code",
   "execution_count": null,
   "metadata": {},
   "outputs": [],
   "source": [
    "donations[(donations['fund'] == 'Annual Fund')].groupby('campaign')['amount'].mean().sort_values()"
   ]
  },
  {
   "cell_type": "code",
   "execution_count": null,
   "metadata": {},
   "outputs": [],
   "source": [
    "#Mean annual fund donations by fiscal year (sorted)\n",
    "donations[(donations['fund'] == 'Annual Fund')].groupby('fiscal_year')['amount'].mean().sort_values()"
   ]
  },
  {
   "cell_type": "code",
   "execution_count": null,
   "metadata": {},
   "outputs": [],
   "source": [
    "#Visualize donations by campaign\n",
    "donations_by_campaign = donations[(donations['donation_record_type'] != 'Pledge')].groupby('campaign')['amount'].sum()\n",
    "donations_by_campaign.reindex(['Outside of Campaign Period (S22)', 'Fall 2014 Annual Fund Appeal (S22)', 'Outside of Campaign Period (S23)', 'Fall 2015 Annual Fund Appeal (S23)', 'Outside of Campaign Period (S24)', 'Fall 2016 Annual Fund Appeal (S24)', 'Outside of Campaign Period (S25)', 'Fall 2017 Annual Fund Appeal (S25)', 'Spring 2018 Annual Fund Appeal (S25)', 'Outside of Campaign Period (S26)', 'Fall 2018 Annual Fund Appeal (S26)', 'Spring 2019 Annual Fund Appeal (S26)', 'Outside of Campaign Period (S27)', 'Fall 2019 Annual Fund Appeal (S27)', 'GIVINGTUESDAYNOW (S27)', 'Spring 2020 Annual Fund Appeal (S27)'])"
   ]
  },
  {
   "cell_type": "code",
   "execution_count": null,
   "metadata": {},
   "outputs": [],
   "source": [
    "#Plot the daily donation volume\n",
    "\n",
    "#set style\n",
    "sns.set(style='darkgrid')\n",
    "\n",
    "#Adjust the plot size\n",
    "plt.figure(figsize=[15,6])\n",
    "\n",
    "#Line Plot\n",
    "sns.lineplot(x=donations_by_campaign.index, y=donations_by_campaign.values, color='green')\n",
    "\n",
    "#Assign axis labels:\n",
    "plt.ylabel('Donation Total ($)', fontsize=14)\n",
    "plt.xlabel('Campaign Period', fontsize=14)\n",
    "plt.xticks(rotation=90)"
   ]
  },
  {
   "cell_type": "code",
   "execution_count": null,
   "metadata": {},
   "outputs": [],
   "source": [
    "pledges = donations.loc[donations['donation_record_type'] == 'Pledge', \n",
    "                        ['donation_id', 'donation_record_type', 'amount',\n",
    "       'close_date', 'account_name', 'account_id', 'account_record_type',\n",
    "       'contact_id', 'pledge_amount', 'fund', \n",
    "       'fiscal_year', 'type', 'first_donation_date', 'last_donation_amount',\n",
    "       'last_donation_date', 'lifetime_donation_count',\n",
    "       'lifetime_donation_total_amount', 'lifetime_order_count',\n",
    "       'lifetime_single_ticket_purchase_total',\n",
    "       'lifetime_subscription_purchase_total', 'account_created_date', 'account_phone', 'amount_donated_last_365_days',\n",
    "       'amount_donated_last_fiscal_year', 'amount_donated_this_fiscal_year',\n",
    "       'ticket_order_id', 'order_count_last_#_days',\n",
    "       'mailing_street', 'mailing_city', 'mailing_state', 'mailing_zip',\n",
    "       'campaign']]"
   ]
  },
  {
   "cell_type": "code",
   "execution_count": null,
   "metadata": {},
   "outputs": [],
   "source": [
    "#Filter refunded out of donations; select columns for analysis\n",
    "donations = donations.loc[(donations['stage'] != 'Refunded') & (donations['donation_record_type'] != 'Pledge'), \n",
    "                          ['donation_id', 'donation_record_type', 'amount',\n",
    "       'close_date', 'account_name', 'account_id', 'account_record_type',\n",
    "       'contact_id', 'pledge_amount', 'fund', \n",
    "       'fiscal_year', 'type', 'first_donation_date', 'last_donation_amount',\n",
    "       'last_donation_date', 'lifetime_donation_count',\n",
    "       'lifetime_donation_total_amount', 'lifetime_order_count',\n",
    "       'lifetime_single_ticket_purchase_total',\n",
    "       'lifetime_subscription_purchase_total', 'account_created_date', 'account_phone', 'amount_donated_last_365_days',\n",
    "       'amount_donated_last_fiscal_year', 'amount_donated_this_fiscal_year',\n",
    "       'ticket_order_id', 'order_count_last_#_days',\n",
    "       'mailing_street', 'mailing_city', 'mailing_state', 'mailing_zip',\n",
    "       'campaign']]"
   ]
  },
  {
   "cell_type": "markdown",
   "metadata": {},
   "source": [
    "Create stewardship level columns"
   ]
  },
  {
   "cell_type": "code",
   "execution_count": null,
   "metadata": {},
   "outputs": [],
   "source": [
    "#Only Annual Fund dontations made by Household or Individual donors are included in stewardship program totals\n",
    "donations['stp_total_s27'] = donations.loc[(donations['close_date'] >= '2018-07-01') & (donations['fund'] == 'Annual Fund') & (donations['account_record_type'].isin(['Household', 'Individual']))].groupby('account_id')['amount'].transform('sum')\n",
    "donations['stp_total_s26'] = donations.loc[(donations['close_date'] >= '2017-07-01') & (donations['close_date'] <= '2019-06-30') & (donations['fund'] == 'Annual Fund') & (donations['account_record_type'].isin(['Household', 'Individual']))].groupby('account_id')['amount'].transform('sum')\n",
    "donations['stp_total_s25'] = donations.loc[(donations['close_date'] >= '2016-07-01') & (donations['close_date'] <= '2018-06-30') & (donations['fund'] == 'Annual Fund') & (donations['account_record_type'].isin(['Household', 'Individual']))].groupby('account_id')['amount'].transform('sum')\n",
    "donations['stp_total_s24'] = donations.loc[(donations['close_date'] >= '2015-07-01') & (donations['close_date'] <= '2017-06-30') & (donations['fund'] == 'Annual Fund') & (donations['account_record_type'].isin(['Household', 'Individual']))].groupby('account_id')['amount'].transform('sum')\n",
    "donations['stp_total_s23'] = donations.loc[(donations['close_date'] >= '2014-07-01') & (donations['close_date'] <= '2016-06-30') & (donations['fund'] == 'Annual Fund') & (donations['account_record_type'].isin(['Household', 'Individual']))].groupby('account_id')['amount'].transform('sum')"
   ]
  },
  {
   "cell_type": "code",
   "execution_count": null,
   "metadata": {},
   "outputs": [],
   "source": [
    "#Fill nan in stp_total_sXX cols with 0 to simplify ufunc (stp_level_generator) below:  \n",
    "donations[['stp_total_s27', 'stp_total_s26', 'stp_total_s25', 'stp_total_s24', 'stp_total_s23']] = donations.loc[:,['stp_total_s27', 'stp_total_s26', 'stp_total_s25', 'stp_total_s24', 'stp_total_s23']].fillna(0)"
   ]
  },
  {
   "cell_type": "code",
   "execution_count": null,
   "metadata": {},
   "outputs": [],
   "source": [
    "donations.isna().sum()"
   ]
  },
  {
   "cell_type": "markdown",
   "metadata": {},
   "source": [
    "# Translater stewardship amount by season into stewardship level by account_id"
   ]
  },
  {
   "cell_type": "code",
   "execution_count": null,
   "metadata": {},
   "outputs": [],
   "source": [
    "def stp_level_generator(series):\n",
    "    if series == 0:\n",
    "        return 'Did Not Give'\n",
    "    elif (series > 0) & (series < 125):\n",
    "        return 'Pre-Steward'\n",
    "    elif (series >= 125) & (series < 250):\n",
    "        return 'Supporter'\n",
    "    elif (series >= 250) & (series < 500):\n",
    "        return 'Investor'\n",
    "    elif (series >= 500) & (series < 1000):\n",
    "        return 'Underwriter'\n",
    "    elif (series >= 1000) & (series < 2500):\n",
    "        return 'Performer'\n",
    "    elif (series >= 2500) & (series < 5000):\n",
    "        return 'Director'\n",
    "    elif (series >= 5000):\n",
    "        return 'Producer'"
   ]
  },
  {
   "cell_type": "code",
   "execution_count": null,
   "metadata": {},
   "outputs": [],
   "source": [
    "#As DICTIONARY:\n",
    "# stp_amt_list = ['stp_total_s27', 'stp_total_s26', 'stp_total_s25', 'stp_total_s24', 'stp_total_s23']\n",
    "# donor_levels_by_season = {}\n",
    "# donor_levels_by_season['account_id'] = donations['account_id']\n",
    "# for col in stp_amt_list:\n",
    "#     df_name = col[:3] + col[9:] + 'level'\n",
    "#     donor_levels_by_season[df_name] = (donations[col].apply(stp_level_generator))"
   ]
  },
  {
   "cell_type": "code",
   "execution_count": null,
   "metadata": {},
   "outputs": [],
   "source": [
    "#Create new dataframes with account_id, stp_total_sX cols and corresponding stp_level cols: \n",
    "stp_amt_list = ['stp_total_s27', 'stp_total_s26', 'stp_total_s25', 'stp_total_s24', 'stp_total_s23']\n",
    "levels_by_season_df = pd.DataFrame()\n",
    "levels_by_season_df['account_id'] = donations['account_id']\n",
    "\n",
    "for col in stp_amt_list:\n",
    "    levels_by_season_df[col] = donations[col]\n",
    "    col_name = col[:3] + col[9:] + '_level'\n",
    "    levels_by_season_df[col_name] = (donations[col].apply(stp_level_generator))"
   ]
  },
  {
   "cell_type": "code",
   "execution_count": null,
   "metadata": {},
   "outputs": [],
   "source": [
    "levels_by_season_df.tail()"
   ]
  },
  {
   "cell_type": "code",
   "execution_count": null,
   "metadata": {},
   "outputs": [],
   "source": [
    "levels_by_season_df.columns"
   ]
  },
  {
   "cell_type": "code",
   "execution_count": null,
   "metadata": {},
   "outputs": [],
   "source": [
    "donor_levels_by_season.keys()"
   ]
  },
  {
   "cell_type": "code",
   "execution_count": null,
   "metadata": {},
   "outputs": [],
   "source": []
  },
  {
   "cell_type": "code",
   "execution_count": null,
   "metadata": {},
   "outputs": [],
   "source": []
  },
  {
   "cell_type": "code",
   "execution_count": null,
   "metadata": {},
   "outputs": [],
   "source": [
    "for col in stp_level_list:\n",
    "    print(donations[col].value_counts().sort_values())"
   ]
  },
  {
   "cell_type": "code",
   "execution_count": null,
   "metadata": {},
   "outputs": [],
   "source": [
    "levels_by_season_df.head(50)"
   ]
  },
  {
   "cell_type": "markdown",
   "metadata": {},
   "source": [
    "# DeDupe the level cols of the dataframe (above) by account_id"
   ]
  },
  {
   "cell_type": "code",
   "execution_count": null,
   "metadata": {},
   "outputs": [],
   "source": [
    "levels_by_season_df"
   ]
  },
  {
   "cell_type": "code",
   "execution_count": null,
   "metadata": {},
   "outputs": [],
   "source": [
    "type(levels_by_season_df.loc[:,['account_id','stp__s27_level']])"
   ]
  },
  {
   "cell_type": "code",
   "execution_count": null,
   "metadata": {},
   "outputs": [],
   "source": [
    "levels_by_season_df.loc[:,['account_id','stp__s27_level']].drop_duplicates(subset='account_id', keep='last')"
   ]
  },
  {
   "cell_type": "code",
   "execution_count": null,
   "metadata": {
    "scrolled": true
   },
   "outputs": [],
   "source": [
    "(levels_by_season_df['stp__s27_level'].drop_duplicates(subset='account_id', keep='last')).loc[:, ['account_id', 'account_name', 'stp__s27_level']]"
   ]
  },
  {
   "cell_type": "code",
   "execution_count": null,
   "metadata": {},
   "outputs": [],
   "source": [
    "for col in stp_level_list:\n",
    "    [col + '_']\n",
    "    (donations.drop_duplicates(subset=['account_id', col], keep='last')).loc[:, ['account_id', 'account_name', col]]"
   ]
  },
  {
   "cell_type": "code",
   "execution_count": null,
   "metadata": {},
   "outputs": [],
   "source": [
    "d = pd.DataFrame()\n",
    "for i, col in enumerate stp_level_list:\n",
    "    "
   ]
  },
  {
   "cell_type": "code",
   "execution_count": null,
   "metadata": {},
   "outputs": [],
   "source": [
    "donations.loc[donations['stp_s26level'] == 'Producer'].drop_duplicates(subset='account_id', keep='last')"
   ]
  },
  {
   "cell_type": "code",
   "execution_count": null,
   "metadata": {},
   "outputs": [],
   "source": [
    "donations['test1'] = donations.stp_total_s27.apply(stp_level_generator)\n",
    "donations['test1'].value_counts()"
   ]
  },
  {
   "cell_type": "code",
   "execution_count": null,
   "metadata": {},
   "outputs": [],
   "source": [
    "donations.columns"
   ]
  },
  {
   "cell_type": "code",
   "execution_count": null,
   "metadata": {},
   "outputs": [],
   "source": []
  },
  {
   "cell_type": "code",
   "execution_count": null,
   "metadata": {},
   "outputs": [],
   "source": [
    "donations.tail(50)"
   ]
  },
  {
   "cell_type": "code",
   "execution_count": null,
   "metadata": {},
   "outputs": [],
   "source": [
    "for i in range(len(donations)):\n",
    "     if (donations.loc[i, 'stp_total_s27'] > 0) & (donations.loc[i, 'stp_total_s27'] < 125):\n",
    "        level[s27] = 'Pre-Steward'\n",
    "    elif (donations.loc[i, 'stp_total_s27'] > 125) & (donations.loc[i, 'stp_total_s27'] < 5000):\n",
    "        level[s27] = 'Stewards'\n",
    "    elif donations.loc[i, 'stp_total_s27'] > 5000:\n",
    "        level[s27] = 'money bags'"
   ]
  },
  {
   "cell_type": "code",
   "execution_count": null,
   "metadata": {},
   "outputs": [],
   "source": [
    " donations.shape"
   ]
  },
  {
   "cell_type": "code",
   "execution_count": null,
   "metadata": {},
   "outputs": [],
   "source": [
    "for col1 in col_list1:\n",
    "        df[col1] = df[col1].astype(new_dtype1)\n",
    "        for col2 in col_list2:\n",
    "            df[col2] = df[col2].astype(new_dtype2)\n",
    "    return"
   ]
  },
  {
   "cell_type": "markdown",
   "metadata": {},
   "source": [
    "# Retention"
   ]
  },
  {
   "cell_type": "code",
   "execution_count": null,
   "metadata": {},
   "outputs": [],
   "source": [
    "#donations[donations['']]"
   ]
  },
  {
   "cell_type": "code",
   "execution_count": null,
   "metadata": {},
   "outputs": [],
   "source": [
    "stp_total_2019.head()"
   ]
  },
  {
   "cell_type": "markdown",
   "metadata": {},
   "source": [
    "Separate continuous and categorical features for exploration."
   ]
  },
  {
   "cell_type": "code",
   "execution_count": null,
   "metadata": {},
   "outputs": [],
   "source": [
    "#Assign continuous columns\n",
    "cont = donations.iloc[:, np.r_[3:5, 9, 17:26, 28, 34, 41:44, 45, 47, 50]]\n",
    "cont.head()"
   ]
  },
  {
   "cell_type": "code",
   "execution_count": null,
   "metadata": {},
   "outputs": [],
   "source": [
    "#Select remaining variables for cats df (categorical variables)\n",
    "features = donations.columns\n",
    "cont_vars = cont.columns\n",
    "cat_vars = [f for f in features if f not in cont_vars]"
   ]
  },
  {
   "cell_type": "code",
   "execution_count": null,
   "metadata": {},
   "outputs": [],
   "source": [
    "#Create cont df\n",
    "cats = donations.loc[:, cat_vars]\n",
    "\n",
    "#Add in the continuous target variable: 'amount'\n",
    "cats['amount'] = cont['amount']\n",
    "\n",
    "#Review head records\n",
    "cats.head()"
   ]
  },
  {
   "cell_type": "code",
   "execution_count": null,
   "metadata": {},
   "outputs": [],
   "source": [
    "cats['donation_record_type'].value_counts().plot.bar(title='Freq dist of Donation Record Type', figsize=[15,10])"
   ]
  },
  {
   "cell_type": "code",
   "execution_count": null,
   "metadata": {},
   "outputs": [],
   "source": [
    "donations['fund'].value_counts().plot.bar(title='Freq dist of Fund', figsize=[15,10])"
   ]
  },
  {
   "cell_type": "code",
   "execution_count": null,
   "metadata": {},
   "outputs": [],
   "source": [
    "cont_vars"
   ]
  },
  {
   "cell_type": "markdown",
   "metadata": {},
   "source": [
    "Continuous Plots"
   ]
  },
  {
   "cell_type": "code",
   "execution_count": null,
   "metadata": {},
   "outputs": [],
   "source": [
    "x = less_max['amount']\n",
    "ax = sns.distplot(x)"
   ]
  },
  {
   "cell_type": "code",
   "execution_count": null,
   "metadata": {},
   "outputs": [],
   "source": [
    "fig, ax = plt.subplots(len(cont_vars), figsize=(16,12))\n",
    "\n",
    "for i, col_val in enumerate(cont_vars):\n",
    "    try:\n",
    "        sns.distplot(cont[col_val], hist=True, ax=ax[i])\n",
    "        ax[i].set_title('Freq dist '+col_val, fontsize=10)\n",
    "        ax[i].set_xlabel(col_val, fontsize=8)\n",
    "        ax[i].set_ylabel('Count', fontsize=8)\n",
    "    except RuntimeError as re:\n",
    "        if str(re).startswith(\"Selected KDE bandwidth is 0. Cannot estimate density.\"):\n",
    "            sns.distplot(cont[col_val], hist=True, ax=ax[i], kde_kws={'bw': 0.1})\n",
    "        else:\n",
    "            raise re\n",
    "    \n",
    "plt.show()"
   ]
  },
  {
   "cell_type": "code",
   "execution_count": null,
   "metadata": {},
   "outputs": [],
   "source": [
    "cont_dollars = ['amount', 'pledge_amount', 'amount_matched', 'last_donation_amount','lifetime_donation_total_amount',\n",
    "       'lifetime_single_ticket_purchase_total', 'lifetime_subscription_purchase_total', 'amount_paid', 'amount_donated_last_365_days',\n",
    "       'amount_donated_last_fiscal_year', 'amount_donated_this_fiscal_year', 'group_sales_total', 'total_amount']"
   ]
  },
  {
   "cell_type": "code",
   "execution_count": null,
   "metadata": {},
   "outputs": [],
   "source": [
    "fig, ax = plt.subplots(len(cont_dollars), figsize=(16,12))\n",
    "\n",
    "for i, col_val in enumerate(cont_dollars):\n",
    "    try:\n",
    "        sns.distplot(less_max[col_val], hist=True, ax=ax[i])\n",
    "        ax[i].set_title('Freq dist '+col_val, fontsize=10)\n",
    "        ax[i].set_xlabel(col_val, fontsize=8)\n",
    "        ax[i].set_ylabel('Count', fontsize=8)\n",
    "    except RuntimeError as re:\n",
    "        if str(re).startswith(\"Selected KDE bandwidth is 0. Cannot estimate density.\"):\n",
    "            sns.distplot(less_max[col_val], hist=True, ax=ax[i], kde_kws={'bw': 0.1})\n",
    "        else:\n",
    "            raise re\n",
    "    \n",
    "plt.show()"
   ]
  },
  {
   "cell_type": "code",
   "execution_count": null,
   "metadata": {},
   "outputs": [],
   "source": []
  },
  {
   "cell_type": "code",
   "execution_count": null,
   "metadata": {},
   "outputs": [],
   "source": [
    "fig, ax = plt.subplots(len(cont_vars), figsize=(16,12))\n",
    "\n",
    "for i, col_val in enumerate(cont_vars):\n",
    "    try:\n",
    "        sns.distplot(cont[col_val], hist=True, ax=ax[i])\n",
    "        ax[i].set_title('Freq dist '+col_val, fontsize=10)\n",
    "        ax[i].set_xlabel(col_val, fontsize=8)\n",
    "        ax[i].set_ylabel('Count', fontsize=8)\n",
    "    except RuntimeError as re:\n",
    "        if str(re).startswith(\"Selected KDE bandwidth is 0. Cannot estimate density.\"):\n",
    "            sns.distplot(cont[col_val], hist=True, ax=ax[i], kde_kws={'bw': 0.1})\n",
    "        else:\n",
    "            raise re\n",
    "    \n",
    "plt.show()"
   ]
  },
  {
   "cell_type": "code",
   "execution_count": null,
   "metadata": {},
   "outputs": [],
   "source": []
  },
  {
   "cell_type": "code",
   "execution_count": null,
   "metadata": {},
   "outputs": [],
   "source": []
  },
  {
   "cell_type": "code",
   "execution_count": null,
   "metadata": {},
   "outputs": [],
   "source": []
  },
  {
   "cell_type": "code",
   "execution_count": null,
   "metadata": {},
   "outputs": [],
   "source": []
  },
  {
   "cell_type": "code",
   "execution_count": null,
   "metadata": {},
   "outputs": [],
   "source": []
  },
  {
   "cell_type": "code",
   "execution_count": null,
   "metadata": {},
   "outputs": [],
   "source": []
  },
  {
   "cell_type": "code",
   "execution_count": null,
   "metadata": {},
   "outputs": [],
   "source": []
  },
  {
   "cell_type": "code",
   "execution_count": null,
   "metadata": {},
   "outputs": [],
   "source": []
  },
  {
   "cell_type": "code",
   "execution_count": null,
   "metadata": {},
   "outputs": [],
   "source": []
  },
  {
   "cell_type": "code",
   "execution_count": null,
   "metadata": {},
   "outputs": [],
   "source": []
  },
  {
   "cell_type": "code",
   "execution_count": null,
   "metadata": {},
   "outputs": [],
   "source": []
  },
  {
   "cell_type": "code",
   "execution_count": null,
   "metadata": {},
   "outputs": [],
   "source": []
  },
  {
   "cell_type": "code",
   "execution_count": null,
   "metadata": {},
   "outputs": [],
   "source": []
  },
  {
   "cell_type": "code",
   "execution_count": null,
   "metadata": {},
   "outputs": [],
   "source": []
  },
  {
   "cell_type": "code",
   "execution_count": null,
   "metadata": {},
   "outputs": [],
   "source": []
  },
  {
   "cell_type": "code",
   "execution_count": null,
   "metadata": {},
   "outputs": [],
   "source": []
  },
  {
   "cell_type": "code",
   "execution_count": null,
   "metadata": {},
   "outputs": [],
   "source": []
  },
  {
   "cell_type": "code",
   "execution_count": null,
   "metadata": {},
   "outputs": [],
   "source": []
  },
  {
   "cell_type": "code",
   "execution_count": null,
   "metadata": {},
   "outputs": [],
   "source": []
  },
  {
   "cell_type": "code",
   "execution_count": null,
   "metadata": {},
   "outputs": [],
   "source": []
  },
  {
   "cell_type": "code",
   "execution_count": null,
   "metadata": {},
   "outputs": [],
   "source": []
  }
 ],
 "metadata": {
  "kernelspec": {
   "display_name": "Python 3",
   "language": "python",
   "name": "python3"
  },
  "language_info": {
   "codemirror_mode": {
    "name": "ipython",
    "version": 3
   },
   "file_extension": ".py",
   "mimetype": "text/x-python",
   "name": "python",
   "nbconvert_exporter": "python",
   "pygments_lexer": "ipython3",
   "version": "3.7.1"
  }
 },
 "nbformat": 4,
 "nbformat_minor": 4
}
