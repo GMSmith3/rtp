{
 "cells": [
  {
   "cell_type": "markdown",
   "metadata": {},
   "source": [
    "# Setup"
   ]
  },
  {
   "cell_type": "code",
   "execution_count": null,
   "metadata": {},
   "outputs": [],
   "source": [
    "#Check directory\n",
    "#!pwd"
   ]
  },
  {
   "cell_type": "code",
   "execution_count": null,
   "metadata": {},
   "outputs": [],
   "source": [
    "#Change directory\n",
    "#%cd /Users/georgesmith/Desktop/RTP/DONOR DATA ANALYSIS"
   ]
  },
  {
   "cell_type": "code",
   "execution_count": null,
   "metadata": {},
   "outputs": [],
   "source": [
    "#Import necessary packages:\n",
    "import pandas as pd\n",
    "from pandas.plotting import scatter_matrix\n",
    "import numpy as np\n",
    "import datetime\n",
    "from datetime import date\n",
    "from datetime import datetime\n",
    "import matplotlib\n",
    "import matplotlib.pyplot as plt\n",
    "import seaborn as sns\n",
    "from scipy import stats\n",
    "from IPython.display import display\n",
    "#import sys\n",
    "#Install pingouin package into this jupyter kernal\n",
    "#!{sys.executable} -m pip install pingouin\n",
    "#import pingouin as pg #this throws the warning message\n",
    "#!{sys.executable} -m pip install --upgrade statsmodels\n",
    "#import pickle\n",
    "import plotly.offline as py\n",
    "color = sns.color_palette()\n",
    "import plotly.graph_objs as go\n",
    "py.init_notebook_mode(connected=True)\n",
    "import plotly.tools as tls\n",
    "\n",
    "\n",
    "%matplotlib inline"
   ]
  },
  {
   "cell_type": "code",
   "execution_count": null,
   "metadata": {},
   "outputs": [],
   "source": [
    "#Read in donation data:\n",
    "input_cols = ['donation_id',\n",
    " 'donation_name',\n",
    " 'donation_record_type',\n",
    " 'amount',\n",
    " 'close_date',\n",
    " 'account_name',\n",
    " 'account_id',\n",
    " 'account_record_type',\n",
    " 'contact_id',\n",
    " 'pledge_amount',\n",
    " 'fund',\n",
    " 'payment_type',\n",
    " 'fiscal_quarter',\n",
    " 'fiscal_year',\n",
    " 'type',\n",
    " 'frequency',\n",
    " 'donation_matched',\n",
    " 'amount_matched',\n",
    " 'matching_close_date',\n",
    " 'first_donation_date',\n",
    " 'last_donation_amount',\n",
    " 'last_donation_date',\n",
    " 'lifetime_donation_count',\n",
    " 'lifetime_donation_total_amount',\n",
    " 'lifetime_order_count',\n",
    " 'lifetime_single_ticket_purchase_total',\n",
    " 'lifetime_subscription_purchase_total',\n",
    " 'do_not_mail',\n",
    " 'email_opt_out',\n",
    " 'account_created_date',\n",
    " 'contact_email',\n",
    " 'payment_schedule',\n",
    " 'stage',\n",
    " 'contact_phone',\n",
    " 'account_phone',\n",
    " 'amount_due',\n",
    " 'amount_paid',\n",
    " 'anonymous',\n",
    " 'card_type',\n",
    " 'dedication_type',\n",
    " 'donation_origin',\n",
    " 'donor_name',\n",
    " 'donor_last_first',\n",
    " 'amount_donated_last_365_days',\n",
    " 'amount_donated_last_fiscal_year',\n",
    " 'amount_donated_this_fiscal_year',\n",
    " 'description',\n",
    " 'group_sales_total',\n",
    " 'ticket_order_id',\n",
    " 'total_amount',\n",
    " 'transaction_id',\n",
    " 'last_transaction_id',\n",
    " 'order_count_last_#_days',\n",
    " 'mailing_street',\n",
    " 'mailing_city',\n",
    " 'mailing_state',\n",
    " 'mailing_zip']\n",
    "raw_donations = pd.read_csv('/Users/georgesmith/Desktop/RTP/DONOR DATA ANALYSIS/donations_by_acct_contact_July_2014_Aug_06_2020.csv', header=0, names=input_cols)"
   ]
  },
  {
   "cell_type": "code",
   "execution_count": null,
   "metadata": {},
   "outputs": [],
   "source": [
    "#Remove columns necessary to anonymize each record\n",
    "iden_cols = ['donation_name', 'account_name', 'donation_matched', 'contact_email', 'contact_phone', 'account_phone', 'donor_name', 'donor_last_first', 'mailing_street']\n",
    "donations = raw_donations.drop(iden_cols, axis=1, inplace=False)\n",
    "donations.head()"
   ]
  },
  {
   "cell_type": "code",
   "execution_count": null,
   "metadata": {},
   "outputs": [],
   "source": [
    "donations.shape"
   ]
  },
  {
   "cell_type": "code",
   "execution_count": null,
   "metadata": {},
   "outputs": [],
   "source": [
    "#Get variable dataypes and non-null counts:\n",
    "donations.info()"
   ]
  },
  {
   "cell_type": "code",
   "execution_count": null,
   "metadata": {},
   "outputs": [],
   "source": [
    "def col_dtype_conversions(df, col_list1, new_dtype1, col_list2, new_dtype2):\n",
    "    \"\"\"\n",
    "    Converts columns in col_list1 to datatype specified in new_dtype1\n",
    "    and converts those in col_list2 to datatype specified in new_dtype2\n",
    "\n",
    "    Params\n",
    "    ------\n",
    "    df : pandas.DataFrame\n",
    "        dataframe with columns in both col_lists\n",
    "    col_list1 : list\n",
    "        list of column names to be converted to dtype specified by new_dtype1\n",
    "    new_dtype1 : str (must put in quotes)\n",
    "        data type to which columns in col_list1 will be converted\n",
    "    col_list2 : list\n",
    "        list of column names to be converted to dtype specified by new_dtype2\n",
    "    new_dtype2 : str (must put in quotes)\n",
    "        data type to which columns in col_list2 will be converted\n",
    "\n",
    "    Returns\n",
    "    -------\n",
    "    pandas.DataFrame\n",
    "        Returns a dataframe with the same columns, some of which are now cast as\n",
    "        the specified data types\n",
    "    \"\"\"\n",
    "    for col1 in col_list1:\n",
    "        df[col1] = df[col1].astype(new_dtype1)\n",
    "        for col2 in col_list2:\n",
    "            df[col2] = df[col2].astype(new_dtype2)\n",
    "    return"
   ]
  },
  {
   "cell_type": "code",
   "execution_count": null,
   "metadata": {},
   "outputs": [],
   "source": [
    "col1 = ['fiscal_year', 'transaction_id']\n",
    "col2 = ['close_date', 'first_donation_date', 'last_donation_date', 'account_created_date']"
   ]
  },
  {
   "cell_type": "code",
   "execution_count": null,
   "metadata": {},
   "outputs": [],
   "source": [
    "col_dtype_conversions(donations, col1, 'str', col2, 'datetime64[ns]')"
   ]
  },
  {
   "cell_type": "code",
   "execution_count": null,
   "metadata": {},
   "outputs": [],
   "source": [
    "#Confirm dtype conversions\n",
    "donations.dtypes"
   ]
  },
  {
   "cell_type": "code",
   "execution_count": null,
   "metadata": {},
   "outputs": [],
   "source": [
    "#Remove all refunded donation line items to omit them from analysis and calculations\n",
    "donations = donations[donations['stage'] != 'Refunded']"
   ]
  },
  {
   "cell_type": "code",
   "execution_count": null,
   "metadata": {},
   "outputs": [],
   "source": [
    "#Show descriptive statistics for non-numeric columns in donations df\n",
    "#Top - most common value in given column; freq - frequency of column's most common value\n",
    "donations.describe(include=['O']).T"
   ]
  },
  {
   "cell_type": "code",
   "execution_count": null,
   "metadata": {},
   "outputs": [],
   "source": [
    "#Show descriptive statistics for numeric columns in donations df\n",
    "donations.describe().T"
   ]
  },
  {
   "cell_type": "code",
   "execution_count": null,
   "metadata": {},
   "outputs": [],
   "source": [
    "#Remove columns that are already clearly extraneous and/or lacking variability\n",
    "donations.drop(['matching_close_date'], axis=1, inplace=True)"
   ]
  },
  {
   "cell_type": "code",
   "execution_count": null,
   "metadata": {},
   "outputs": [],
   "source": [
    "#Isolate the mean donation amount(for use later in outlier identification)\n",
    "donations.describe().T.at['amount', 'mean']"
   ]
  },
  {
   "cell_type": "code",
   "execution_count": null,
   "metadata": {},
   "outputs": [],
   "source": [
    "#See if rows where amount == 0 have other valuable info\n",
    "pd.set_option('display.max_columns', None)\n",
    "pd.set_option('display.max_rows', None)\n",
    "donations.loc[donations['amount'] == 0]"
   ]
  },
  {
   "cell_type": "markdown",
   "metadata": {},
   "source": [
    "Records where amount is 0 appear to lack other necessary info so we'll remove them. This will also enhance accuracy of median imputation below."
   ]
  },
  {
   "cell_type": "code",
   "execution_count": null,
   "metadata": {},
   "outputs": [],
   "source": [
    "#Remove rows where amount == 0\n",
    "donations = donations.loc[donations['amount'] != 0]"
   ]
  },
  {
   "cell_type": "markdown",
   "metadata": {},
   "source": [
    "# Initial research question: are donations (volume and dollar total) increasing overtime?"
   ]
  },
  {
   "cell_type": "markdown",
   "metadata": {},
   "source": [
    "**Handle Null Values**"
   ]
  },
  {
   "cell_type": "code",
   "execution_count": null,
   "metadata": {},
   "outputs": [],
   "source": [
    "#Which columns have nan records (and how many)?\n",
    "num_nan = donations.isna().sum()\n",
    "print(num_nan[num_nan >0])"
   ]
  },
  {
   "cell_type": "markdown",
   "metadata": {},
   "source": [
    "Amount:"
   ]
  },
  {
   "cell_type": "code",
   "execution_count": null,
   "metadata": {
    "scrolled": false
   },
   "outputs": [],
   "source": [
    "#Review the records to understand how to handle these nulls\n",
    "donations.loc[donations['amount'].isna()].reset_index(drop=True)"
   ]
  },
  {
   "cell_type": "code",
   "execution_count": null,
   "metadata": {
    "scrolled": false
   },
   "outputs": [],
   "source": [
    "dons_to_research = raw_donations.loc[(raw_donations['account_id'].isin(['0013600000VKRpL', '0013600000VKQmI'])) & (raw_donations['amount'].isna()) & (raw_donations['donation_record_type'] == 'Pledge Payment')]"
   ]
  },
  {
   "cell_type": "markdown",
   "metadata": {},
   "source": [
    "**The null pledge payment amounts for the account ids referenced in the cell above seem to be the result of a failure to record the amounts for which those donation checks were issued. Research these amounts and update the CRM accordingly.**"
   ]
  },
  {
   "cell_type": "code",
   "execution_count": null,
   "metadata": {},
   "outputs": [],
   "source": [
    "#Separate pledge records from actual donation records\n",
    "pledges = donations.loc[donations['donation_record_type'] == 'Pledge', \n",
    "                        ['donation_id', 'donation_record_type', 'amount',\n",
    "       'close_date', 'account_id', 'account_record_type', 'contact_id', 'pledge_amount', 'fund', \n",
    "       'fiscal_year', 'payment_schedule', 'type', 'first_donation_date', 'last_donation_amount',\n",
    "       'last_donation_date', 'lifetime_donation_count',\n",
    "       'lifetime_donation_total_amount', 'lifetime_order_count',\n",
    "       'lifetime_single_ticket_purchase_total',\n",
    "       'lifetime_subscription_purchase_total', 'account_created_date', 'amount_donated_last_365_days',\n",
    "       'amount_donated_last_fiscal_year', 'amount_donated_this_fiscal_year',\n",
    "       'ticket_order_id', 'order_count_last_#_days',\n",
    "       'mailing_city', 'mailing_state', 'mailing_zip']]"
   ]
  },
  {
   "cell_type": "code",
   "execution_count": null,
   "metadata": {},
   "outputs": [],
   "source": [
    "#Update donations df to exclude the two pledge payments with nan amounts and all pledge records (as these are not actually donations)\n",
    "donations = donations.loc[~donations['amount'].isna()]\n",
    "#Confirm pledge rows are eliminated\n",
    "donations.donation_record_type.value_counts(dropna=False)"
   ]
  },
  {
   "cell_type": "code",
   "execution_count": null,
   "metadata": {},
   "outputs": [],
   "source": [
    "#Drop Pledge Amount column given pledge rows have been removed\n",
    "donations.drop(['pledge_amount'], axis=1, inplace=True)"
   ]
  },
  {
   "cell_type": "code",
   "execution_count": null,
   "metadata": {
    "scrolled": true
   },
   "outputs": [],
   "source": [
    "#Check to ensure the amount column in all rows is now populated\n",
    "donations.amount.isna().sum()"
   ]
  },
  {
   "cell_type": "code",
   "execution_count": null,
   "metadata": {},
   "outputs": [],
   "source": [
    "#NAMED TUPLE EXAMPLE\n",
    "# from collections import namedtuple\n",
    "# >>> Student = namedtuple(\"Student\", \"name age student_id\")\n",
    "# >>> student = Student(\"John Smith\", 17, 178044)\n",
    "# >>> print(f\"name: {student.name}\\nage: {student.age}\\nstudent id: {student.student_id}\")\n",
    "# name: John Smith\n",
    "# age: 17\n",
    "# student id: 178044"
   ]
  },
  {
   "cell_type": "code",
   "execution_count": null,
   "metadata": {},
   "outputs": [],
   "source": [
    "#Recheck amount stats\n",
    "donations.describe().T"
   ]
  },
  {
   "cell_type": "markdown",
   "metadata": {},
   "source": [
    "**Visualize input frequency distributions for continuous features**"
   ]
  },
  {
   "cell_type": "code",
   "execution_count": null,
   "metadata": {},
   "outputs": [],
   "source": [
    "col_names = ['amount',\n",
    " 'amount_matched',\n",
    " 'last_donation_amount',\n",
    " 'lifetime_donation_count',\n",
    " 'lifetime_donation_total_amount',\n",
    " 'lifetime_order_count',\n",
    " 'lifetime_single_ticket_purchase_total',\n",
    " 'lifetime_subscription_purchase_total',\n",
    " 'amount_due',\n",
    " 'amount_paid',\n",
    " 'amount_donated_last_365_days',\n",
    " 'amount_donated_last_fiscal_year',\n",
    " 'amount_donated_this_fiscal_year',\n",
    " 'group_sales_total',\n",
    " 'total_amount',\n",
    " 'order_count_last_#_days']\n",
    "\n",
    "fig, ax = plt.subplots(len(col_names), figsize=(16,12))\n",
    "\n",
    "for i, col_val in enumerate(col_names):\n",
    "\n",
    "    sns.distplot(donations[col_val], hist=True, ax=ax[i])\n",
    "    ax[i].set_title('Freq dist '+col_val, fontsize=10)\n",
    "    ax[i].set_xlabel(col_val, fontsize=8)\n",
    "    ax[i].set_ylabel('Count', fontsize=8)\n",
    "\n",
    "plt.show()"
   ]
  },
  {
   "cell_type": "code",
   "execution_count": null,
   "metadata": {},
   "outputs": [],
   "source": [
    "figure, ax = plt.subplots(5,2, figsize=(12,24))\n",
    "\n",
    "#See the distrubution of the data\n",
    "sns.distplot(donations['amount'],ax= ax[0,0])\n",
    "sns.distplot(donations['last_donation_amount'],ax=ax[0,1])\n",
    "sns.distplot(donations['lifetime_donation_count'],ax= ax[1,0])\n",
    "sns.distplot(donations['lifetime_donation_total_amount'],ax= ax[1,1])\n",
    "sns.distplot(donations['lifetime_single_ticket_purchase_total'],ax= ax[2,0])\n",
    "sns.distplot(donations['lifetime_subscription_purchase_total'],ax=ax[2,1])\n",
    "sns.distplot(donations['amount_donated_last_365_days'],ax= ax[3,0])\n",
    "sns.distplot(donations['amount_donated_last_fiscal_year'],ax= ax[3,1])\n",
    "sns.distplot(donations['lifetime_order_count'],ax= ax[4,0])\n",
    "sns.distplot(donations['order_count_last_#_days'],ax= ax[4,1])\n",
    "\n",
    "plt.show() #optional line -- eliminates strange text output before plots"
   ]
  },
  {
   "cell_type": "markdown",
   "metadata": {},
   "source": [
    "last_donation_amount:"
   ]
  },
  {
   "cell_type": "code",
   "execution_count": null,
   "metadata": {},
   "outputs": [],
   "source": [
    "#Which records have null last donation amounts?\n",
    "donations.loc[donations.last_donation_amount.isna()]"
   ]
  },
  {
   "cell_type": "code",
   "execution_count": null,
   "metadata": {},
   "outputs": [],
   "source": [
    "#last_donation_amount seems to be null for records that represent an account's first donation. \n",
    "#As such, impute NaN with 0 when close_date == first_donation_date\n",
    "donations['last_donation_amount'] = np.where(((donations['last_donation_amount'].isna()) & (donations['close_date'] == donations['first_donation_date'])), 0, donations['last_donation_amount'])"
   ]
  },
  {
   "cell_type": "code",
   "execution_count": null,
   "metadata": {},
   "outputs": [],
   "source": [
    "#Recheck which records have null last donation amounts?\n",
    "donations.loc[donations.last_donation_amount.isna()]"
   ]
  },
  {
   "cell_type": "code",
   "execution_count": null,
   "metadata": {},
   "outputs": [],
   "source": [
    "#Looked up the account in the CRM. last_donation_amount for record above is $5,000. Impute accordingly.\n",
    "donations.loc[donations.last_donation_amount.isna(), 'last_donation_amount'] = 5000"
   ]
  },
  {
   "cell_type": "markdown",
   "metadata": {},
   "source": [
    "Ensure next data pull includes the record referenced in last_donation_amount above (i.e. account_id == '0013600000VKR96' & close_date == '2016-10-24')"
   ]
  },
  {
   "cell_type": "code",
   "execution_count": null,
   "metadata": {},
   "outputs": [],
   "source": [
    "#Check result -- Which records have null last donation amounts?\n",
    "donations.loc[donations.last_donation_amount.isna()]"
   ]
  },
  {
   "cell_type": "markdown",
   "metadata": {},
   "source": [
    "Fund Column:"
   ]
  },
  {
   "cell_type": "code",
   "execution_count": null,
   "metadata": {},
   "outputs": [],
   "source": [
    "#Check out non-household / non-individual records with NaN in fund column\n",
    "donations.loc[((donations['fund'].isna()) | (donations['fund'].isin([\"Annual Fund Historical\", 'ANN']))) & (~donations['account_record_type'].isin(['Household', 'Individual']))].reset_index(drop=True)"
   ]
  },
  {
   "cell_type": "code",
   "execution_count": null,
   "metadata": {},
   "outputs": [],
   "source": [
    "#Check out household / individual records with NaN in fund column\n",
    "donations.loc[((donations['fund'].isna()) | (donations['fund'].isin([\"Annual Fund Historical\", 'ANN']))) & (donations['account_record_type'].isin(['Household', 'Individual']))]"
   ]
  },
  {
   "cell_type": "code",
   "execution_count": null,
   "metadata": {},
   "outputs": [],
   "source": [
    "#Convert nan in fund column (except for pledges, which have already been filtered into pledges df) to Annual Fund.\n",
    "#Also, replace other AF naming conventions with with 'Annual Fund'\n",
    "donations.loc[(donations['fund'].isna()) | (donations['fund'].isin([\"Annual Fund Historical\", 'ANN'])), 'fund'] = 'Annual Fund'"
   ]
  },
  {
   "cell_type": "code",
   "execution_count": null,
   "metadata": {},
   "outputs": [],
   "source": [
    "#Consolidate levels referencing the same fund under common levels\n",
    "donations.loc[(donations['fund'].isin([\"25th Anniversary Campaign Fund\", '25th Anniversary Fund', '25TH'])), 'fund'] = \"25th Anniversary Capital Campaign\"\n",
    "donations.loc[(donations['fund'] == 'NEXT'), 'fund'] = \"Next Stage Campaign\"\n",
    "donations.loc[(donations['fund'] == 'John Knapp -Tim Gillham Fund'), 'fund'] = \"New Works (Knapp-Gillham) Fund\"\n",
    "donations.loc[(donations['fund'].isin([\"Education Program Fund\", 'EDUC'])), 'fund'] = \"Education Fund\"\n",
    "donations.loc[(donations['fund'] == 'MMP'), 'fund'] = \"Mary Morton Parsons Challenge Grant Match\""
   ]
  },
  {
   "cell_type": "code",
   "execution_count": null,
   "metadata": {},
   "outputs": [],
   "source": [
    "#Check fund column value changes\n",
    "donations.fund.value_counts(dropna=False)"
   ]
  },
  {
   "cell_type": "markdown",
   "metadata": {},
   "source": [
    "payment_type:"
   ]
  },
  {
   "cell_type": "code",
   "execution_count": null,
   "metadata": {},
   "outputs": [],
   "source": [
    "donations.payment_type.value_counts(dropna=False)"
   ]
  },
  {
   "cell_type": "code",
   "execution_count": null,
   "metadata": {},
   "outputs": [],
   "source": [
    "#Assign group levels referencing the same payment_type to common levels\n",
    "donations.loc[(donations['payment_type'] == 'CRED'), 'payment_type'] = \"Credit Card\"\n",
    "donations.loc[(donations['payment_type'] == 'Third Party'), 'payment_type'] = \"Credit Card - Third Party\"\n",
    "donations.loc[(donations['payment_type'] == 'INKND'), 'payment_type'] = \"In Kind\""
   ]
  },
  {
   "cell_type": "code",
   "execution_count": null,
   "metadata": {},
   "outputs": [],
   "source": [
    "donations.loc[donations.payment_type.isna()].sort_values(by=['donation_record_type'])"
   ]
  },
  {
   "cell_type": "code",
   "execution_count": null,
   "metadata": {},
   "outputs": [],
   "source": [
    "#Fill NaN in payment_type with Ticket Order Refund if donation_origin == Ticket Order Refund\n",
    "donations.loc[(donations.payment_type.isna()) & (donations.donation_origin == 'Ticket Order Refund'), 'payment_type'] = 'Ticket Order Refund'"
   ]
  },
  {
   "cell_type": "code",
   "execution_count": null,
   "metadata": {},
   "outputs": [],
   "source": [
    "#The remaining NaN records in the payment_type column seem to be checks (based on spot checking some records in the CRM):\n",
    "donations.loc[donations.payment_type.isna(), 'payment_type'] = 'Check'"
   ]
  },
  {
   "cell_type": "code",
   "execution_count": null,
   "metadata": {},
   "outputs": [],
   "source": [
    "donations.payment_type.value_counts(dropna=False)"
   ]
  },
  {
   "cell_type": "code",
   "execution_count": null,
   "metadata": {},
   "outputs": [],
   "source": [
    "#Define function to show value counts of categorical vars specified in column list input\n",
    "def cat_col_value_counts(df, cat_col_list):\n",
    "    x=[]\n",
    "    \"\"\"\n",
    "    Prints value counts of each categorical variable from df that is listed in cat_col_list \n",
    "\n",
    "    Params\n",
    "    ------\n",
    "    df : pandas.DataFrame\n",
    "        dataframe containing columns in cat_col_list\n",
    "    cat_col_list : list\n",
    "        list of column names for which value counts will be printed\n",
    "\n",
    "    Returns\n",
    "    -------\n",
    "    prints value counts for each variable in cat_col_list\n",
    "    \"\"\"\n",
    "\n",
    "    for cat_col in cat_col_list:\n",
    "        x.append(df[cat_col].value_counts(dropna= False))\n",
    "        pd.Series(x).sort_index()\n",
    "    print (x)"
   ]
  },
  {
   "cell_type": "code",
   "execution_count": null,
   "metadata": {},
   "outputs": [],
   "source": [
    "#Title case the mailing_city to help join like levels\n",
    "donations['mailing_city'] = donations.mailing_city.str.title()"
   ]
  },
  {
   "cell_type": "code",
   "execution_count": null,
   "metadata": {},
   "outputs": [],
   "source": [
    "cat_col_list = ['account_record_type', 'type', 'payment_schedule', 'frequency', 'stage', 'card_type', 'donation_origin', 'mailing_city', 'mailing_state']"
   ]
  },
  {
   "cell_type": "code",
   "execution_count": null,
   "metadata": {},
   "outputs": [],
   "source": [
    "cat_col_value_counts(donations, cat_col_list)"
   ]
  },
  {
   "cell_type": "markdown",
   "metadata": {},
   "source": [
    "mailing_city:"
   ]
  },
  {
   "cell_type": "markdown",
   "metadata": {},
   "source": [
    "mailing_city value_counts() output illustrates need to standardize city name storage conventions (i.e. Fredericksburg and FREDERICKSBURG are the same city, but currently stored differently)"
   ]
  },
  {
   "cell_type": "code",
   "execution_count": null,
   "metadata": {},
   "outputs": [],
   "source": [
    "#Sort mailing city value counts by index to see which cities are the same, but written differently\n",
    "donations['mailing_city'].value_counts(dropna=False).to_frame().sort_index()"
   ]
  },
  {
   "cell_type": "code",
   "execution_count": null,
   "metadata": {},
   "outputs": [],
   "source": [
    "#Consolidate cities that are the same, but written differently\n",
    "donations.loc[(donations['mailing_city'] == 'Charlottesvle'), 'mailing_city'] = \"Charlottesville\"\n",
    "donations.loc[donations['mailing_city'].isin(['Manakin Sabot Virginia', 'Manakin-Sabot']), 'mailing_city'] = \"Manakin Sabot\"\n",
    "donations.loc[donations['mailing_city'].isin(['Mechanicsvile', 'Mechsnicsville']), 'mailing_city'] = \"Mechanicsville\"\n",
    "donations.loc[donations['mailing_city'].isin(['N. Chesterfield', 'N.Chesterfield', 'No Chesterfield', 'North Chestefield', 'N Chesterfield']), 'mailing_city'] = \"North Chesterfield\"\n",
    "donations.loc[donations['mailing_city'].isin(['Richmmond', 'Rickmond']), 'mailing_city'] = 'Richmond'\n",
    "\n",
    "#Recheck mailing_city value_counts():\n",
    "donations['mailing_city'].value_counts(dropna=False).to_frame().sort_index()"
   ]
  },
  {
   "cell_type": "code",
   "execution_count": null,
   "metadata": {},
   "outputs": [],
   "source": [
    "#Create binary flags columns to mark nulls in mailing_city and some other categorical columns:\n",
    "\n",
    "cat_cols = ['account_record_type', 'type', 'stage', 'card_type', 'mailing_city', 'mailing_state']\n",
    "\n",
    "for col in cat_cols:\n",
    "    flag_col = col + '_null_flag'\n",
    "    donations[flag_col] = np.where(donations[col].isnull(), 1, 0)"
   ]
  },
  {
   "cell_type": "code",
   "execution_count": null,
   "metadata": {},
   "outputs": [],
   "source": [
    "donations.iloc[:, 46:].head()"
   ]
  },
  {
   "cell_type": "code",
   "execution_count": null,
   "metadata": {},
   "outputs": [],
   "source": [
    "#Impute NaN in the following columns with \"not stored\" - ['donation_origin', 'card_type', 'type', 'mailing_city', 'mailing_state']\n",
    "donations.loc[:, ['donation_origin', 'card_type', 'type', 'mailing_city', 'mailing_state']] = donations[['donation_origin', 'card_type', 'type', 'mailing_city', 'mailing_state']].fillna('not stored')"
   ]
  },
  {
   "cell_type": "code",
   "execution_count": null,
   "metadata": {},
   "outputs": [],
   "source": [
    "#Drop categoricals with large proportion of random nulls\n",
    "donations.drop(['payment_schedule', 'frequency', 'donation_origin', 'dedication_type', 'description', 'ticket_order_id', 'last_transaction_id', 'mailing_zip'], axis=1, inplace=True)"
   ]
  },
  {
   "cell_type": "markdown",
   "metadata": {},
   "source": [
    "Create campaign column"
   ]
  },
  {
   "cell_type": "code",
   "execution_count": null,
   "metadata": {},
   "outputs": [],
   "source": [
    "#Assign regular appeal campaigns\n",
    "donations.loc[(donations['type'] == 'GIVINGTUESDAYNOW'), 'campaign'] = 'GIVINGTUESDAYNOW (S27)'\n",
    "donations.loc[(donations['close_date'] > '2020-06-05') & (donations['close_date'] < '2020-08-01') & (donations['fund'] == 'Annual Fund'), 'campaign'] = 'Spring 2020 Annual Fund Appeal (S27)'\n",
    "donations.loc[(donations['close_date'] > '2019-11-19') & (donations['close_date'] < '2020-02-01') & (donations['fund'] == 'Annual Fund'), 'campaign'] = 'Fall 2019 Annual Fund Appeal (S27)'\n",
    "donations.loc[(donations['close_date'] > '2019-05-20') & (donations['close_date'] < '2019-08-01') & (donations['fund'] == 'Annual Fund'), 'campaign'] = 'Spring 2019 Annual Fund Appeal (S26)'\n",
    "donations.loc[(donations['close_date'] > '2018-11-25') & (donations['close_date'] < '2019-02-01') & (donations['fund'] == 'Annual Fund'), 'campaign'] = 'Fall 2018 Annual Fund Appeal (S26)'\n",
    "donations.loc[(donations['close_date'] > '2018-05-20') & (donations['close_date'] < '2018-08-01') & (donations['fund'] == 'Annual Fund'), 'campaign'] = 'Spring 2018 Annual Fund Appeal (S25)'\n",
    "donations.loc[(donations['close_date'] > '2017-11-10') & (donations['close_date'] < '2018-02-01') & (donations['fund'] == 'Annual Fund'), 'campaign'] = 'Fall 2017 Annual Fund Appeal (S25)'\n",
    "donations.loc[(donations['close_date'] > '2016-11-14') & (donations['close_date'] < '2017-02-01') & (donations['fund'] == 'Annual Fund'), 'campaign'] = 'Fall 2016 Annual Fund Appeal (S24)'\n",
    "donations.loc[(donations['close_date'] > '2015-11-14') & (donations['close_date'] < '2016-02-01') & (donations['fund'] == 'Annual Fund'), 'campaign'] = 'Fall 2015 Annual Fund Appeal (S23)'\n",
    "donations.loc[(donations['close_date'] > '2014-11-14') & (donations['close_date'] < '2015-02-01') & (donations['fund'] == 'Annual Fund'), 'campaign'] = 'Fall 2014 Annual Fund Appeal (S22)'\n",
    "donations.loc[(donations['close_date'] > '2020-04-30') & (donations['close_date'] < '2020-08-01') & (donations['type'] == 'Give OUT Day') & (donations['fund'] == 'Annual Fund'), 'campaign'] = 'Give OUT Day (S27)'\n",
    "donations.loc[((donations['fiscal_year'] == '2019') | (donations['close_date'] == '2019-07-19')) & (donations['type'] == 'Give OUT Day') & (donations['fund'] == 'Annual Fund'), 'campaign'] = 'Give OUT Day (S26)'\n",
    "donations.loc[((donations['fiscal_year'] == '2018') | (donations['close_date'] == '2020-03-10')) & (donations['type'] == 'Give OUT Day') & (donations['fund'] == 'Annual Fund'), 'campaign'] = 'Give OUT Day (S25)'"
   ]
  },
  {
   "cell_type": "code",
   "execution_count": null,
   "metadata": {},
   "outputs": [],
   "source": [
    "donations[donations['campaign'].isna()].reset_index(drop=True).head(20)"
   ]
  },
  {
   "cell_type": "code",
   "execution_count": null,
   "metadata": {},
   "outputs": [],
   "source": [
    "donations.loc[(donations['close_date'] > '2020-06-30') & (donations['close_date'] < '2021-07-01') & (donations['campaign'].isna()), 'campaign'] = 'Outside of Campaign Period (S28)'\n",
    "donations.loc[(donations['close_date'] > '2019-06-30') & (donations['close_date'] < '2020-07-01') & (donations['campaign'].isna()), 'campaign'] = 'Outside of Campaign Period (S27)'\n",
    "donations.loc[(donations['close_date'] > '2018-06-30') & (donations['close_date'] < '2019-07-01') & (donations['campaign'].isna()), 'campaign'] = 'Outside of Campaign Period (S26)'\n",
    "donations.loc[(donations['close_date'] > '2017-06-30') & (donations['close_date'] < '2018-07-01') & (donations['campaign'].isna()), 'campaign'] = 'Outside of Campaign Period (S25)'\n",
    "donations.loc[(donations['close_date'] > '2016-06-30') & (donations['close_date'] < '2017-07-01') & (donations['campaign'].isna()), 'campaign'] = 'Outside of Campaign Period (S24)'\n",
    "donations.loc[(donations['close_date'] > '2015-06-30') & (donations['close_date'] < '2016-07-01') & (donations['campaign'].isna()), 'campaign'] = 'Outside of Campaign Period (S23)'\n",
    "donations.loc[(donations['close_date'] > '2014-06-30') & (donations['close_date'] < '2015-07-01') & (donations['campaign'].isna()), 'campaign'] = 'Outside of Campaign Period (S22)'"
   ]
  },
  {
   "cell_type": "code",
   "execution_count": null,
   "metadata": {},
   "outputs": [],
   "source": [
    "donations.campaign.value_counts(dropna=False)"
   ]
  },
  {
   "cell_type": "code",
   "execution_count": null,
   "metadata": {},
   "outputs": [],
   "source": [
    "donations.isna().sum()"
   ]
  },
  {
   "cell_type": "markdown",
   "metadata": {},
   "source": [
    "As shown in output above, null values in all retained columns have been addressed."
   ]
  },
  {
   "cell_type": "markdown",
   "metadata": {},
   "source": [
    "**Explore donations df (with nulls handled) through visualizations**"
   ]
  },
  {
   "cell_type": "code",
   "execution_count": null,
   "metadata": {},
   "outputs": [],
   "source": [
    "col_names = ['amount',\n",
    " 'close_date',\n",
    " 'fiscal_year',\n",
    " 'last_donation_amount',\n",
    " 'last_donation_date',\n",
    " 'lifetime_donation_count',\n",
    " 'lifetime_donation_total_amount',\n",
    " 'lifetime_order_count',\n",
    " 'lifetime_single_ticket_purchase_total',\n",
    " 'lifetime_subscription_purchase_total',\n",
    " 'amount_due',\n",
    " 'amount_paid',\n",
    " 'amount_donated_last_365_days',\n",
    " 'amount_donated_last_fiscal_year',\n",
    " 'amount_donated_this_fiscal_year',\n",
    " 'total_amount',\n",
    " 'order_count_last_#_days']\n",
    "\n",
    "fig, ax = plt.subplots(len(col_names), figsize=(24,18))\n",
    "\n",
    "for i, col_val in enumerate(col_names):\n",
    "\n",
    "    sns.distplot(donations[col_val], hist=True, ax=ax[i])\n",
    "    ax[i].set_title('Freq dist '+col_val, fontsize=10)\n",
    "    ax[i].set_xlabel(col_val, fontsize=8)\n",
    "    ax[i].set_ylabel('Count', fontsize=8)\n",
    "\n",
    "plt.show()"
   ]
  },
  {
   "cell_type": "code",
   "execution_count": null,
   "metadata": {},
   "outputs": [],
   "source": [
    "figure, ax = plt.subplots(6,2, figsize=(12,24))\n",
    "\n",
    "#See the distrubution of the data\n",
    "\n",
    "sns.distplot(donations['amount'],ax= ax[0,0])\n",
    "sns.distplot(donations['last_donation_amount'],ax=ax[0,1])\n",
    "sns.distplot(donations['lifetime_donation_count'],ax= ax[1,0])\n",
    "sns.distplot(donations['lifetime_donation_total_amount'],ax= ax[1,1])\n",
    "sns.distplot(donations['lifetime_single_ticket_purchase_total'],ax= ax[2,0])\n",
    "sns.distplot(donations['lifetime_subscription_purchase_total'],ax=ax[2,1])\n",
    "sns.distplot(donations['amount_donated_last_365_days'],ax= ax[3,0])\n",
    "sns.distplot(donations['amount_donated_last_fiscal_year'],ax= ax[3,1])\n",
    "sns.distplot(donations['amount_due'],ax= ax[4,0])\n",
    "sns.distplot(donations['total_amount'],ax=ax[4,1])\n",
    "sns.distplot(donations['lifetime_order_count'],ax= ax[5,0])\n",
    "sns.distplot(donations['order_count_last_#_days'],ax= ax[5,1])\n",
    "\n",
    "plt.show() #optional line -- eliminates strange text output before plots"
   ]
  },
  {
   "cell_type": "code",
   "execution_count": null,
   "metadata": {},
   "outputs": [],
   "source": [
    "figure, ax = plt.subplots(8,2, figsize=(16,32))\n",
    "\n",
    "#See the distrubution of the data\n",
    "\n",
    "sns.countplot(donations['donation_record_type'],ax=ax[0,0])\n",
    "sns.countplot(donations['account_record_type'],ax= ax[0,1])\n",
    "sns.countplot(donations['fund'],ax= ax[1,0])\n",
    "sns.countplot(donations['payment_type'],ax=ax[1,1])\n",
    "sns.countplot(donations['type'],ax= ax[2,0])\n",
    "sns.countplot(donations['stage'],ax= ax[2,1])\n",
    "sns.countplot(donations['card_type'],ax=ax[3,0])\n",
    "sns.countplot(donations['campaign'],ax= ax[3,1])\n",
    "sns.countplot(donations['fiscal_quarter'],ax= ax[4,0])\n",
    "sns.countplot(donations['fiscal_year'],ax=ax[4,1])\n",
    "sns.countplot(donations['do_not_mail'],ax= ax[5,0])\n",
    "sns.countplot(donations['email_opt_out'],ax= ax[5,1])\n",
    "sns.countplot(donations['mailing_state'],ax=ax[6,0])\n",
    "sns.countplot(donations['anonymous'],ax= ax[6,1])\n",
    "sns.countplot(donations['mailing_city'],ax= ax[7,0])\n",
    " "
   ]
  },
  {
   "cell_type": "code",
   "execution_count": null,
   "metadata": {},
   "outputs": [],
   "source": [
    "#visualize pairwise relationships among selected continuous features\n",
    "cont_cols = ['amount',\n",
    " 'close_date',\n",
    " 'fiscal_year',\n",
    " 'last_donation_amount',\n",
    " 'last_donation_date',\n",
    " 'lifetime_donation_count',\n",
    " 'lifetime_donation_total_amount',\n",
    " 'lifetime_order_count',\n",
    " 'lifetime_single_ticket_purchase_total',\n",
    " 'lifetime_subscription_purchase_total',\n",
    " 'amount_due',\n",
    " 'amount_paid',\n",
    " 'amount_donated_last_365_days',\n",
    " 'amount_donated_last_fiscal_year',\n",
    " 'amount_donated_this_fiscal_year',\n",
    " 'total_amount',\n",
    " 'order_count_last_#_days']\n",
    "sns.pairplot(donations[cont_cols])\n",
    "plt.show()"
   ]
  },
  {
   "cell_type": "code",
   "execution_count": null,
   "metadata": {},
   "outputs": [],
   "source": [
    "#Lets look at the funds on amount vs lifetime_order_count:\n",
    "\n",
    "sns.lmplot(x=\"amount\", y=\"lifetime_order_count\", hue=\"fund\", data=donations, palette = 'muted', height = 7)\n",
    "plt.show(sns)"
   ]
  },
  {
   "cell_type": "code",
   "execution_count": null,
   "metadata": {},
   "outputs": [],
   "source": [
    "sns.lmplot(x=\"amount\", y=\"lifetime_order_count\", hue=\"fiscal_year\", data=donations, palette = 'muted', height = 7)\n",
    "plt.show(sns)"
   ]
  },
  {
   "cell_type": "code",
   "execution_count": null,
   "metadata": {},
   "outputs": [],
   "source": [
    "sns.lmplot(x=\"lifetime_order_count\", y=\"amount\", hue=\"email_opt_out\", data=donations, palette = 'muted', height = 7)\n",
    "plt.show(sns)"
   ]
  },
  {
   "cell_type": "code",
   "execution_count": null,
   "metadata": {},
   "outputs": [],
   "source": [
    "#Lets look at correlation:\n",
    "\n",
    "corr = donations[cont_cols].corr()\n",
    "\n",
    "plt.figure(figsize=(12, 9))\n",
    "\n",
    "sns.heatmap(corr, cmap = 'Wistia', annot= True)\n",
    "plt.show(sns)"
   ]
  },
  {
   "cell_type": "markdown",
   "metadata": {},
   "source": [
    "# Create time-series and account_id-based dfs for external analysis"
   ]
  },
  {
   "cell_type": "code",
   "execution_count": null,
   "metadata": {},
   "outputs": [],
   "source": [
    "#show columns names to serve as reference in choosing which to retain\n",
    "donations.columns"
   ]
  },
  {
   "cell_type": "markdown",
   "metadata": {},
   "source": [
    "# Engineer Features for Time Series"
   ]
  },
  {
   "cell_type": "code",
   "execution_count": null,
   "metadata": {},
   "outputs": [],
   "source": [
    "#Create a donation_recency feature indicating how many days since this donation was made\n",
    "donations['donation_recency'] = (date.today() - donations['close_date'].dt.date).dt.days\n",
    "donations['donation_recency'].head()"
   ]
  },
  {
   "cell_type": "code",
   "execution_count": null,
   "metadata": {},
   "outputs": [],
   "source": [
    "#Create feature showing the number of days between this donation and the last\n",
    "donations['days_since_last'] = (donations['last_donation_date'] - donations['close_date']).dt.days\n",
    "donations['days_since_last'].head()"
   ]
  },
  {
   "cell_type": "code",
   "execution_count": null,
   "metadata": {},
   "outputs": [],
   "source": [
    "#Create feature indicating days elapsed since between this/current donation and the corresponding donor's first\n",
    "donations['days_since_first'] = (donations['close_date'] - donations['first_donation_date']).dt.days\n",
    "donations['days_since_first'].head()"
   ]
  },
  {
   "cell_type": "code",
   "execution_count": null,
   "metadata": {},
   "outputs": [],
   "source": [
    "#Create first donation indicator\n",
    "donations['first_donation_flag'] = np.where(donations['close_date'] == donations['first_donation_date'], 1, 0)\n",
    "donations['first_donation_flag'].head()"
   ]
  },
  {
   "cell_type": "code",
   "execution_count": null,
   "metadata": {},
   "outputs": [],
   "source": [
    "#Create last donation indicator\n",
    "donations['last_donation_flag'] = np.where(donations['close_date'] == donations['last_donation_date'], 1, 0)\n",
    "donations['last_donation_flag'].head()"
   ]
  },
  {
   "cell_type": "code",
   "execution_count": null,
   "metadata": {},
   "outputs": [],
   "source": [
    "#Create dictionary of aggregations needed to summarize data as time series.\n",
    "aggregations = {\n",
    "    'number_of_donations' : ('donation_id', 'size'),\n",
    "    'don_total' : ('amount', 'sum'),\n",
    "    'don_median' : ('amount', 'median'),\n",
    "    'don_avg' : ('amount', 'mean'),\n",
    "    'don_recency_median' : ('donation_recency', 'median'),\n",
    "    'don_recency_avg' : ('donation_recency', 'mean'),\n",
    "    'last_don_median' : ('last_donation_amount', 'median'),\n",
    "    'last_don_avg' : ('last_donation_amount', 'median'),\n",
    "    'avg_days_since_last' : ('days_since_last', 'mean'),\n",
    "    'median_days_since_last' : ('days_since_last', 'median'),\n",
    "    'avg_days_since_first' : ('days_since_first', 'mean'),\n",
    "    'median_days_since_first' : ('days_since_first', 'median'),\n",
    "    'number_firsts_on_this_date' : ('first_donation_flag', 'sum'),\n",
    "    'number_lasts_on_this_date' : ('last_donation_flag', 'sum')\n",
    "}"
   ]
  },
  {
   "cell_type": "markdown",
   "metadata": {},
   "source": [
    "Create the donation time series dfs by grouping by close_date (as primary index) as well as other features for the higher level indicies"
   ]
  },
  {
   "cell_type": "code",
   "execution_count": null,
   "metadata": {},
   "outputs": [],
   "source": [
    "donations.groupby(['close_date', 'fund']).agg(**aggregations).reset_index('fund').tail(30)"
   ]
  },
  {
   "cell_type": "code",
   "execution_count": null,
   "metadata": {},
   "outputs": [],
   "source": [
    "don_ts = donations.groupby(['close_date', 'fiscal_year', 'fund', 'account_record_type', 'donation_record_type']).agg(**aggregations).reset_index(['fiscal_year', 'fund', 'account_record_type', 'donation_record_type'])\n",
    "don_ts.tail(10)"
   ]
  },
  {
   "cell_type": "code",
   "execution_count": null,
   "metadata": {},
   "outputs": [],
   "source": [
    "#Add campaign as a group and output df column\n",
    "don_ts_wcamp = donations.groupby(['close_date', 'fiscal_year', 'fund', 'account_record_type', 'donation_record_type', 'campaign']).agg(**aggregations).reset_index(['fiscal_year', 'fund', 'account_record_type', 'donation_record_type', 'campaign'])\n",
    "don_ts_wcamp.tail(10)"
   ]
  },
  {
   "cell_type": "code",
   "execution_count": null,
   "metadata": {},
   "outputs": [],
   "source": [
    "#Add type as a group and output df column\n",
    "don_ts_wtype = donations.groupby(['close_date', 'fiscal_year', 'fund', 'account_record_type', 'donation_record_type', 'type']).agg(**aggregations).reset_index(['fiscal_year', 'fund', 'account_record_type', 'donation_record_type', 'type'])\n",
    "don_ts_wtype.tail(10)"
   ]
  },
  {
   "cell_type": "code",
   "execution_count": null,
   "metadata": {},
   "outputs": [],
   "source": [
    "donations.groupby('close_date').agg(**aggregations).tail(10)\n"
   ]
  },
  {
   "cell_type": "code",
   "execution_count": null,
   "metadata": {},
   "outputs": [],
   "source": [
    "don_ts_all = donations.groupby(['close_date', 'fiscal_year', 'campaign', 'fund', 'type', 'account_record_type', 'donation_record_type']).agg(**aggregations).reset_index(['fiscal_year', 'campaign', 'fund', 'type', 'account_record_type', 'donation_record_type'])\n",
    "don_ts_all.tail(10)"
   ]
  },
  {
   "cell_type": "code",
   "execution_count": null,
   "metadata": {},
   "outputs": [],
   "source": [
    "#Write the time series above to csv\n",
    "don_ts_all.to_csv('daily_donations.csv')"
   ]
  },
  {
   "cell_type": "markdown",
   "metadata": {},
   "source": [
    "**Come back to add development communication dates into times series as binary flags** "
   ]
  },
  {
   "cell_type": "code",
   "execution_count": null,
   "metadata": {},
   "outputs": [],
   "source": [
    "don_ts.columns"
   ]
  },
  {
   "cell_type": "markdown",
   "metadata": {},
   "source": [
    "# Outlier Detection Analysis"
   ]
  },
  {
   "cell_type": "code",
   "execution_count": null,
   "metadata": {},
   "outputs": [],
   "source": [
    "donations.loc[donations['amount'] < 15000].hist(column='amount', bins=30)"
   ]
  },
  {
   "cell_type": "markdown",
   "metadata": {},
   "source": [
    "Because the frequency distribution plot of the amount variable is skewed (right) rather than approximately normal, outliers are likely better defined using criteria other than 3 std from mean. Perhaps 1.5(IRQ), percentile-based or z-score."
   ]
  },
  {
   "cell_type": "code",
   "execution_count": null,
   "metadata": {},
   "outputs": [],
   "source": [
    "def percentile_based_outlier(data, threshold=95):\n",
    "    diff = (100 - threshold) / 2\n",
    "    minval, maxval = np.percentile(data, [diff, 100 - diff])\n",
    "    return (data < minval) | (data > maxval)\n",
    "\n",
    "col_names = ['amount',\n",
    " 'last_donation_amount',\n",
    " 'lifetime_donation_count',\n",
    " 'lifetime_donation_total_amount',\n",
    " 'lifetime_order_count',\n",
    " 'lifetime_single_ticket_purchase_total',\n",
    " 'lifetime_subscription_purchase_total',\n",
    " 'amount_due',\n",
    " 'amount_paid',\n",
    " 'amount_donated_last_365_days',\n",
    " 'amount_donated_last_fiscal_year',\n",
    " 'amount_donated_this_fiscal_year',\n",
    " 'group_sales_total',\n",
    " 'total_amount',\n",
    " 'order_count_last_#_days']\n",
    "\n",
    "fig, ax = plt.subplots(len(col_names), figsize=(8,40))\n",
    "\n",
    "for i, col_val in enumerate(col_names):\n",
    "    x = donations[col_val]\n",
    "    sns.distplot(x, ax=ax[i], rug=True, hist=False)\n",
    "    outliers = x[percentile_based_outlier(x)]\n",
    "    ax[i].plot(outliers, np.zeros_like(outliers), 'ro', clip_on=False)\n",
    "\n",
    "    ax[i].set_title('Outlier detection - {}'.format(col_val), fontsize=10)\n",
    "    ax[i].set_xlabel(col_val, fontsize=8)\n",
    "\n",
    "plt.show()"
   ]
  },
  {
   "cell_type": "code",
   "execution_count": null,
   "metadata": {},
   "outputs": [],
   "source": [
    "#Define outlier donation amounts as those below quartile 1 - 1.5*IQR or above quartile 3 + 1.5*IQR\n",
    "IQR = donations.describe().at['75%', 'amount'] - donations.describe().at['25%', 'amount']\n",
    "lthreshold = donations.describe().at['25%', 'amount'] - 1.5*IQR\n",
    "uthreshold = donations.describe().at['75%', 'amount'] + 1.5*IQR\n",
    "\n",
    "#Print range of 'normal' data (i.e. range including non-outlier amounts):\n",
    "print (lthreshold, uthreshold)"
   ]
  },
  {
   "cell_type": "code",
   "execution_count": null,
   "metadata": {},
   "outputs": [],
   "source": [
    "#With no donations below zero, we identify and address outliers as those amounts > 287.645\n",
    "#Impute outlier amounts from the dataframe with the median of the top half of the distribution\n",
    "donations['amount'] = np.where(donations['amount'] > uthreshold, donations.describe().at['75%', 'amount'], donations['amount'])"
   ]
  },
  {
   "cell_type": "code",
   "execution_count": null,
   "metadata": {},
   "outputs": [],
   "source": [
    "#Plot new frequency distribution of amount column\n",
    "donations.hist(column='amount', bins=30)"
   ]
  },
  {
   "cell_type": "code",
   "execution_count": null,
   "metadata": {},
   "outputs": [],
   "source": [
    "plt.hist(donations['amount'], density=True, alpha=.5)\n",
    "plt.title(\"Frequency Distribution of Amount Variable (with Outlier Imputation)\")\n",
    "plt.xlabel(\"Donation Amount Bins\")\n",
    "plt.ylabel(\"Probability\")"
   ]
  },
  {
   "cell_type": "code",
   "execution_count": null,
   "metadata": {},
   "outputs": [],
   "source": [
    "#Plot cumulative distribution of amount column\n",
    "plt.hist(donations['amount'], density=True, alpha=.5, cumulative=True)"
   ]
  },
  {
   "cell_type": "code",
   "execution_count": null,
   "metadata": {},
   "outputs": [],
   "source": [
    ".87602906-.69854722"
   ]
  },
  {
   "cell_type": "markdown",
   "metadata": {},
   "source": [
    "The largest step in the cumulative probability distribution of 17.75%, which exists between the 100 bar and the next one, suggests a substantial concentration of unique donations near the stewardship program entry level amount of $125. "
   ]
  },
  {
   "cell_type": "code",
   "execution_count": null,
   "metadata": {},
   "outputs": [],
   "source": [
    "# #Define outlier donation amount as any amount greater than 3 standard deviations from the mean\n",
    "# outlier_threshold = donations.describe().at['mean', 'amount'] + 3*(donations.describe().at['std', 'amount'])\n",
    "\n",
    "# #Impute outlier amounts from the dataframe with the col median.\n",
    "# donations['amount'] = np.where(donations['amount'] > outlier_threshold, donations.amount.median(), donations['amount'])"
   ]
  },
  {
   "cell_type": "code",
   "execution_count": null,
   "metadata": {},
   "outputs": [],
   "source": [
    "donations.describe().T"
   ]
  },
  {
   "cell_type": "markdown",
   "metadata": {},
   "source": [
    "**Explore the bivariate relationships of the continuous variables**"
   ]
  },
  {
   "cell_type": "markdown",
   "metadata": {},
   "source": [
    "Separate continuous and categorical features for exploration."
   ]
  },
  {
   "cell_type": "code",
   "execution_count": null,
   "metadata": {},
   "outputs": [],
   "source": [
    "cont_cols = list(donations.describe().T.index)\n",
    "cont_cols"
   ]
  },
  {
   "cell_type": "code",
   "execution_count": null,
   "metadata": {},
   "outputs": [],
   "source": [
    "#Create continuous dataframe\n",
    "cont = donations.loc[:, cont_cols].dropna().reset_index(drop=True)\n",
    "cont.drop(['do_not_mail', 'email_opt_out', 'anonymous', 'group_sales_total', 'amount_matched'], axis=1, inplace=True)\n",
    "cont"
   ]
  },
  {
   "cell_type": "code",
   "execution_count": null,
   "metadata": {},
   "outputs": [],
   "source": [
    "#Select remaining variables for cats df (categorical variables)\n",
    "#features = donations.columns\n",
    "#cont_vars = cont.columns\n",
    "#cat_vars = [f for f in features if f not in cont_vars]"
   ]
  },
  {
   "cell_type": "code",
   "execution_count": null,
   "metadata": {},
   "outputs": [],
   "source": [
    "#Create cont df\n",
    "#cats = donations.loc[:, cat_vars]\n",
    "\n",
    "#Add in the continuous target variable: 'amount'\n",
    "#cats['amount'] = cont['amount']\n",
    "\n",
    "#Review head records\n",
    "#cats.head()"
   ]
  },
  {
   "cell_type": "code",
   "execution_count": null,
   "metadata": {},
   "outputs": [],
   "source": [
    "sns.pairplot(cont)"
   ]
  },
  {
   "cell_type": "markdown",
   "metadata": {},
   "source": [
    "Amount Column"
   ]
  },
  {
   "cell_type": "code",
   "execution_count": null,
   "metadata": {},
   "outputs": [],
   "source": [
    "#Visualize donations over time\n",
    "dons = donations.plot.scatter('close_date', 'amount')"
   ]
  },
  {
   "cell_type": "code",
   "execution_count": null,
   "metadata": {
    "scrolled": true
   },
   "outputs": [],
   "source": [
    "sns.boxplot(x=donations['amount'])"
   ]
  },
  {
   "cell_type": "markdown",
   "metadata": {},
   "source": [
    "Boxplot illustrates our efficacy in imputing amount outliers"
   ]
  },
  {
   "cell_type": "code",
   "execution_count": null,
   "metadata": {},
   "outputs": [],
   "source": [
    "donations_by_date = donations.groupby('close_date')['donation_id'].count()\n",
    "donations_by_date.head()"
   ]
  },
  {
   "cell_type": "code",
   "execution_count": null,
   "metadata": {},
   "outputs": [],
   "source": [
    "donations_by_date.tail(25)"
   ]
  },
  {
   "cell_type": "code",
   "execution_count": null,
   "metadata": {},
   "outputs": [],
   "source": [
    "#Plot the daily donation volume\n",
    "\n",
    "#set style\n",
    "sns.set(style='darkgrid')\n",
    "\n",
    "#Adjust the plot size\n",
    "plt.figure(figsize=[15,6])\n",
    "\n",
    "#Line Plot\n",
    "sns.lineplot(x=donations_by_date.index, y=donations_by_date.values, color='purple')\n",
    "\n",
    "#Assign axis labels:\n",
    "plt.ylabel('Number of Donations', fontsize=14)\n",
    "plt.xlabel('Date', fontsize=14)\n",
    "plt.title('Volume of All Donations by Close Date')"
   ]
  },
  {
   "cell_type": "code",
   "execution_count": null,
   "metadata": {},
   "outputs": [],
   "source": [
    "#Which date over the analysis period had the largest donation volume?\n",
    "donations.close_date.mode()\n",
    "\n",
    "#04-19-2018 makes sense as it was our first giveoutday"
   ]
  },
  {
   "cell_type": "code",
   "execution_count": null,
   "metadata": {},
   "outputs": [],
   "source": [
    "# #Fill nan in donations['amount'] with 0\n",
    "# donations.loc[donations['amount'].isna(), 'amount'] = 0\n",
    "# #Check it\n",
    "# donations[donations['donation_record_type'] == 'Pledge']"
   ]
  },
  {
   "cell_type": "code",
   "execution_count": null,
   "metadata": {},
   "outputs": [],
   "source": [
    "# #Convert nan in fund column (except for pledges) to Annual Fund.\n",
    "# #Also, replace other AF categories with 'Annual Fund'\n",
    "# donations.loc[(donations['fund'].isna()) & (donations['donation_record_type'] != 'Pledge') & (donations['account_record_type'].isin([\"Individual\", 'Household'])), 'fund'] = \"Annual Fund\""
   ]
  },
  {
   "cell_type": "code",
   "execution_count": null,
   "metadata": {},
   "outputs": [],
   "source": [
    "#donations.loc[(donations(donations['fund'].isin([\"Annual Fund Historical\", 'ANN']) & ['donation_record_type'] != 'Pledge') & (donations['account_record_type'] != 'Business') & (donations['fund'].isna()), 'fund'] = 'Annual Fund'"
   ]
  },
  {
   "cell_type": "code",
   "execution_count": null,
   "metadata": {},
   "outputs": [],
   "source": [
    "#Group levels referencing the same fund under common levels\n",
    "# donations_no_outlier_amts.loc[(donations_no_outlier_amts['fund'].isin([\"25th Anniversary Campaign Fund\", '25th Anniversary Fund', '25TH'])), 'fund'] = \"25th Anniversary Capital Campaign\"\n",
    "# donations_no_outlier_amts.loc[(donations_no_outlier_amts['fund'] == 'NEXT'), 'fund'] = \"Next Stage Campaign\"\n",
    "# donations_no_outlier_amts.loc[(donations_no_outlier_amts['fund'] == 'John Knapp -Tim Gillham Fund'), 'fund'] = \"New Works (Knapp-Gillham) Fund\"\n",
    "# donations_no_outlier_amts.loc[(donations_no_outlier_amts['fund'].isin([\"Education Program Fund\", 'EDUC'])), 'fund'] = \"Education Fund\"\n",
    "# donations_no_outlier_amts.loc[(donations_no_outlier_amts['fund'] == 'MMP'), 'fund'] = \"Mary Morton Parsons Challenge Grant Match\""
   ]
  },
  {
   "cell_type": "code",
   "execution_count": null,
   "metadata": {},
   "outputs": [],
   "source": [
    "#Show all donation totals by fiscal year\n",
    "donations_by_fy = donations.groupby('fiscal_year')['amount'].sum()\n",
    "donations_by_fy"
   ]
  },
  {
   "cell_type": "code",
   "execution_count": null,
   "metadata": {},
   "outputs": [],
   "source": [
    "#Plot the FY donation totals\n",
    "\n",
    "#set style\n",
    "sns.set(style='darkgrid')\n",
    "\n",
    "#Adjust the plot size\n",
    "plt.figure(figsize=[15,6])\n",
    "\n",
    "#Line Plot\n",
    "sns.lineplot(x=donations_by_fy.index, y=donations_by_fy.values, color='magenta')\n",
    "\n",
    "#Assign axis labels:\n",
    "plt.ylabel('Donation Total ($)', fontsize=14)\n",
    "plt.xlabel('Fiscal Year', fontsize=14)"
   ]
  },
  {
   "cell_type": "code",
   "execution_count": null,
   "metadata": {},
   "outputs": [],
   "source": [
    "#Plot the FY donation volume\n",
    "\n",
    "#set style\n",
    "#sns.set(style='darkgrid')\n",
    "\n",
    "#Adjust the plot size\n",
    "#plt.figure(figsize=[15,6])\n",
    "\n",
    "#Line Plot\n",
    "#sns.lineplot(x=donations.index, y=donations.values, color='magenta')\n",
    "\n",
    "#Assign axis labels:\n",
    "#plt.ylabel('Donation Total ($)', fontsize=14)\n",
    "#plt.xlabel('Fiscal Year', fontsize=14)"
   ]
  },
  {
   "cell_type": "code",
   "execution_count": null,
   "metadata": {},
   "outputs": [],
   "source": [
    "#Show donation totals by fund and fiscal year\n",
    "donations_by_fy_fund = donations.groupby(['fund','fiscal_year'])['amount'].sum()\n",
    "donations_by_fy_fund"
   ]
  },
  {
   "cell_type": "code",
   "execution_count": null,
   "metadata": {},
   "outputs": [],
   "source": [
    "#Visualize annual fund donations by date\n",
    "af_donations_by_close_date = donations.loc[(donations['fund'] == 'Annual Fund')].groupby('close_date')['amount'].sum()\n",
    "af_donations_by_close_date.head()"
   ]
  },
  {
   "cell_type": "code",
   "execution_count": null,
   "metadata": {},
   "outputs": [],
   "source": [
    "#Plot the daily annual fund donation totals\n",
    "\n",
    "#set style\n",
    "sns.set(style='darkgrid')\n",
    "\n",
    "#Adjust the plot size\n",
    "plt.figure(figsize=[15,6])\n",
    "\n",
    "#Line Plot\n",
    "sns.lineplot(x=af_donations_by_close_date.index, y=af_donations_by_close_date.values, color='magenta')\n",
    "\n",
    "#Assign axis labels:\n",
    "plt.ylabel('Donation Total ($)', fontsize=14)\n",
    "plt.xlabel('Close Date', fontsize=14)\n",
    "plt.title('Annual Fund Donation Totals Per Day')"
   ]
  },
  {
   "cell_type": "code",
   "execution_count": null,
   "metadata": {},
   "outputs": [],
   "source": [
    "#Visualize mean annual fund donations by FY\n",
    "af_donations_mean_by_fy = donations[(donations['fund'] == 'Annual Fund')].groupby('fiscal_year')['amount'].mean()\n",
    "af_donations_mean_by_fy"
   ]
  },
  {
   "cell_type": "code",
   "execution_count": null,
   "metadata": {},
   "outputs": [],
   "source": [
    "#Plot the annual fund means by fiscal year\n",
    "\n",
    "#set style\n",
    "sns.set(style='darkgrid')\n",
    "\n",
    "#Adjust the plot size\n",
    "plt.figure(figsize=[15,6])\n",
    "\n",
    "#Line Plot\n",
    "sns.barplot(x=af_donations_mean_by_fy.index, y=af_donations_mean_by_fy.values, color='green')\n",
    "\n",
    "#Assign axis labels:\n",
    "plt.ylabel('Mean Donations ($)', fontsize=14)\n",
    "plt.xlabel('Fiscal Year', fontsize=14)\n",
    "plt.title('Annual Fund Donation Means By Fiscal Year')"
   ]
  },
  {
   "cell_type": "code",
   "execution_count": null,
   "metadata": {},
   "outputs": [],
   "source": [
    "pd.DataFrame(af_donations_mean_by_fy).T"
   ]
  },
  {
   "cell_type": "code",
   "execution_count": null,
   "metadata": {},
   "outputs": [],
   "source": [
    "#Visualize annual fund donation volume by FY\n",
    "af_donations_vol_by_fy = donations[(donations['fund'] == 'Annual Fund')].groupby('fiscal_year')['amount'].count()\n",
    "af_donations_vol_by_fy"
   ]
  },
  {
   "cell_type": "code",
   "execution_count": null,
   "metadata": {},
   "outputs": [],
   "source": [
    "#Plot the annual fund volume by fiscal year\n",
    "\n",
    "#set style\n",
    "sns.set(style='darkgrid')\n",
    "\n",
    "#Adjust the plot size\n",
    "plt.figure(figsize=[15,6])\n",
    "\n",
    "#Line Plot\n",
    "sns.barplot(x=af_donations_vol_by_fy.index, y=af_donations_vol_by_fy.values, color='purple')\n",
    "\n",
    "#Assign axis labels:\n",
    "plt.ylabel('Number of Donors', fontsize=14)\n",
    "plt.xlabel('Fiscal Year', fontsize=14)\n",
    "plt.title('Annual Fund Donation Volume By Fiscal Year')"
   ]
  },
  {
   "cell_type": "code",
   "execution_count": null,
   "metadata": {},
   "outputs": [],
   "source": [
    "#AF donation totals by FY\n",
    "af_totals_fy = donations[(donations['fund'] == 'Annual Fund')].groupby('fiscal_year')['amount'].sum()\n",
    "af_totals_fy"
   ]
  },
  {
   "cell_type": "code",
   "execution_count": null,
   "metadata": {},
   "outputs": [],
   "source": [
    "#Plot the annual fund totals by fiscal year\n",
    "\n",
    "#set style\n",
    "sns.set(style='darkgrid')\n",
    "\n",
    "#Adjust the plot size\n",
    "plt.figure(figsize=[15,6])\n",
    "\n",
    "#Line Plot\n",
    "sns.barplot(x=af_totals_fy.index, y=af_totals_fy.values, color='purple')\n",
    "\n",
    "#Assign axis labels:\n",
    "plt.ylabel('Number of Donors', fontsize=14)\n",
    "plt.xlabel('Fiscal Year', fontsize=14)\n",
    "plt.title('Annual Fund Donation Totals By Fiscal Year')"
   ]
  },
  {
   "cell_type": "markdown",
   "metadata": {},
   "source": [
    "# Stewardship Program Analysis"
   ]
  },
  {
   "cell_type": "markdown",
   "metadata": {},
   "source": [
    "Create stewardship level columns"
   ]
  },
  {
   "cell_type": "code",
   "execution_count": null,
   "metadata": {},
   "outputs": [],
   "source": [
    "#Only Annual Fund dontations made by Household or Individual donors are included in stewardship program totals\n",
    "donations['stp_total_s28'] = donations.loc[(donations['close_date'] >= '2019-07-01') & (donations['fund'] == 'Annual Fund') & (donations['account_record_type'].isin(['Household', 'Individual']))].groupby('account_id')['amount'].transform('sum')\n",
    "donations['stp_total_s27'] = donations.loc[(donations['close_date'] >= '2018-07-01') & (donations['close_date'] <= '2020-06-30') & (donations['fund'] == 'Annual Fund') & (donations['account_record_type'].isin(['Household', 'Individual']))].groupby('account_id')['amount'].transform('sum')\n",
    "donations['stp_total_s26'] = donations.loc[(donations['close_date'] >= '2017-07-01') & (donations['close_date'] <= '2019-06-30') & (donations['fund'] == 'Annual Fund') & (donations['account_record_type'].isin(['Household', 'Individual']))].groupby('account_id')['amount'].transform('sum')\n",
    "donations['stp_total_s25'] = donations.loc[(donations['close_date'] >= '2016-07-01') & (donations['close_date'] <= '2018-06-30') & (donations['fund'] == 'Annual Fund') & (donations['account_record_type'].isin(['Household', 'Individual']))].groupby('account_id')['amount'].transform('sum')\n",
    "donations['stp_total_s24'] = donations.loc[(donations['close_date'] >= '2015-07-01') & (donations['close_date'] <= '2017-06-30') & (donations['fund'] == 'Annual Fund') & (donations['account_record_type'].isin(['Household', 'Individual']))].groupby('account_id')['amount'].transform('sum')\n",
    "donations['stp_total_s23'] = donations.loc[(donations['close_date'] >= '2014-07-01') & (donations['close_date'] <= '2016-06-30') & (donations['fund'] == 'Annual Fund') & (donations['account_record_type'].isin(['Household', 'Individual']))].groupby('account_id')['amount'].transform('sum')"
   ]
  },
  {
   "cell_type": "code",
   "execution_count": null,
   "metadata": {},
   "outputs": [],
   "source": [
    "#Fill NaNs with max value for that account_id shown in other rows for that particular stp_total_sXX column \n",
    "stp_total_cols = ['stp_total_s28', 'stp_total_s27', 'stp_total_s26', 'stp_total_s25', 'stp_total_s24', 'stp_total_s23']\n",
    "for col in stp_total_cols:\n",
    "    donations.loc[donations[col].isnull(), col] = donations.groupby('account_id')[col].transform('max')"
   ]
  },
  {
   "cell_type": "code",
   "execution_count": null,
   "metadata": {},
   "outputs": [],
   "source": [
    "stp_total_cols.append('account_id')"
   ]
  },
  {
   "cell_type": "code",
   "execution_count": null,
   "metadata": {},
   "outputs": [],
   "source": [
    "#Review cols just created\n",
    "donations.loc[:, stp_total_cols]"
   ]
  },
  {
   "cell_type": "code",
   "execution_count": null,
   "metadata": {},
   "outputs": [],
   "source": [
    "#Now, fill remaining nan in stp_total_sXX cols with 0 to simplify ufunc (stp_level_generator) below:  \n",
    "donations[['stp_total_s28', 'stp_total_s27', 'stp_total_s26', 'stp_total_s25', 'stp_total_s24', 'stp_total_s23']] = donations.loc[:,['stp_total_s28', 'stp_total_s27', 'stp_total_s26', 'stp_total_s25', 'stp_total_s24', 'stp_total_s23']].fillna(0)"
   ]
  },
  {
   "cell_type": "code",
   "execution_count": null,
   "metadata": {
    "scrolled": false
   },
   "outputs": [],
   "source": [
    "#Confirm accuracy by checking output for one account_id\n",
    "donations.loc[donations['account_id'] == '0013600000VKRp8', ['stp_total_s28', 'stp_total_s27', 'stp_total_s26', 'stp_total_s25', 'stp_total_s24', 'stp_total_s23']]"
   ]
  },
  {
   "cell_type": "code",
   "execution_count": null,
   "metadata": {},
   "outputs": [],
   "source": [
    "#Double check that nulls are eliminated for new cols\n",
    "donations.isna().sum()"
   ]
  },
  {
   "cell_type": "markdown",
   "metadata": {},
   "source": [
    "# Translate stewardship amount by season into stewardship level by account_id"
   ]
  },
  {
   "cell_type": "code",
   "execution_count": null,
   "metadata": {},
   "outputs": [],
   "source": [
    "def stp_level_generator(series):\n",
    "    if series == 0:\n",
    "        return 'Did Not Give'\n",
    "    elif (series > 0) & (series < 125):\n",
    "        return 'Pre-Steward'\n",
    "    elif (series >= 125) & (series < 250):\n",
    "        return 'Supporter'\n",
    "    elif (series >= 250) & (series < 500):\n",
    "        return 'Investor'\n",
    "    elif (series >= 500) & (series < 1000):\n",
    "        return 'Underwriter'\n",
    "    elif (series >= 1000) & (series < 2500):\n",
    "        return 'Performer'\n",
    "    elif (series >= 2500) & (series < 5000):\n",
    "        return 'Director'\n",
    "    elif (series >= 5000):\n",
    "        return 'Producer'"
   ]
  },
  {
   "cell_type": "code",
   "execution_count": null,
   "metadata": {},
   "outputs": [],
   "source": [
    "#Create new dataframe with account_id, stp_total_sX cols and corresponding stp_level cols: \n",
    "stp_amt_list = ['stp_total_s28', 'stp_total_s27', 'stp_total_s26', 'stp_total_s25', 'stp_total_s24', 'stp_total_s23']\n",
    "levels_by_season_df = pd.DataFrame()\n",
    "levels_by_season_df['account_id'] = donations['account_id']\n",
    "\n",
    "for col in stp_amt_list:\n",
    "    levels_by_season_df[col] = donations[col]\n",
    "    col_name = col[:3] + col[9:] + '_level'\n",
    "    levels_by_season_df[col_name] = (donations[col].apply(stp_level_generator))"
   ]
  },
  {
   "cell_type": "code",
   "execution_count": null,
   "metadata": {},
   "outputs": [],
   "source": [
    "levels_by_season_df.head()"
   ]
  },
  {
   "cell_type": "code",
   "execution_count": null,
   "metadata": {},
   "outputs": [],
   "source": [
    "#Remove duplicate rows based on account_id to show each donor's stewardship levels across the most recent 6 seasons\n",
    "levels_by_season_df = levels_by_season_df.drop_duplicates(subset='account_id', keep='first').reset_index(drop='True')"
   ]
  },
  {
   "cell_type": "code",
   "execution_count": null,
   "metadata": {},
   "outputs": [],
   "source": [
    "#Check that all stewardship levels are present in each season\n",
    "level_cols = ['stp_s23_level', 'stp_s24_level', 'stp_s25_level', 'stp_s26_level', 'stp_s27_level', 'stp_total_s28']\n",
    "for col in level_cols:\n",
    "    print(levels_by_season_df[col].value_counts())"
   ]
  },
  {
   "cell_type": "markdown",
   "metadata": {},
   "source": [
    "The producer level is missing from season 25. Add it below when creating that series."
   ]
  },
  {
   "cell_type": "code",
   "execution_count": null,
   "metadata": {},
   "outputs": [],
   "source": [
    "stp_donors_s27 = (levels_by_season_df.groupby('stp_s27_level')['account_id'].count()).rename('stp_s27_level')\n",
    "stp_donors_s27"
   ]
  },
  {
   "cell_type": "code",
   "execution_count": null,
   "metadata": {},
   "outputs": [],
   "source": [
    "stp_donors_s26 = levels_by_season_df.groupby('stp_s26_level')['account_id'].count().rename('stp_s26_level')"
   ]
  },
  {
   "cell_type": "code",
   "execution_count": null,
   "metadata": {},
   "outputs": [],
   "source": [
    "stp_donors_s25 = levels_by_season_df.groupby('stp_s25_level')['account_id'].count().rename('stp_s25_level')"
   ]
  },
  {
   "cell_type": "code",
   "execution_count": null,
   "metadata": {},
   "outputs": [],
   "source": [
    "#stp_s25_level is has no 'Producer' level records. Add this level to the index with a value of 0.\n",
    "stp_donors_s25.loc['Producer'] = 0"
   ]
  },
  {
   "cell_type": "code",
   "execution_count": null,
   "metadata": {},
   "outputs": [],
   "source": [
    "stp_donors_s25"
   ]
  },
  {
   "cell_type": "code",
   "execution_count": null,
   "metadata": {},
   "outputs": [],
   "source": [
    "stp_donors_s24 = levels_by_season_df.groupby('stp_s24_level')['account_id'].count().rename('stp_s24_level')"
   ]
  },
  {
   "cell_type": "code",
   "execution_count": null,
   "metadata": {},
   "outputs": [],
   "source": [
    "#stp_s24_level is has no 'Producer' level records. Add this level to the index with a value of 0.\n",
    "stp_donors_s24.loc['Producer'] = 0"
   ]
  },
  {
   "cell_type": "code",
   "execution_count": null,
   "metadata": {},
   "outputs": [],
   "source": [
    "stp_donors_s23 = levels_by_season_df.groupby('stp_s23_level')['account_id'].count().rename('stp_s23_level')"
   ]
  },
  {
   "cell_type": "code",
   "execution_count": null,
   "metadata": {},
   "outputs": [],
   "source": [
    "#stp_s23_level is has no 'Producer' level records. Add this level to the index with a value of 0.\n",
    "stp_donors_s23.loc['Producer'] = 0"
   ]
  },
  {
   "cell_type": "markdown",
   "metadata": {},
   "source": [
    "# Visualize change in level size across time (seasons)"
   ]
  },
  {
   "cell_type": "code",
   "execution_count": null,
   "metadata": {},
   "outputs": [],
   "source": [
    "#Concatenate the series above to facilitate visualizing stewardship levels by season\n",
    "stp_level_dist = (pd.concat([stp_donors_s23, stp_donors_s24, stp_donors_s25, stp_donors_s26, stp_donors_s27], axis=1, join='inner', copy=False))"
   ]
  },
  {
   "cell_type": "code",
   "execution_count": null,
   "metadata": {
    "scrolled": false
   },
   "outputs": [],
   "source": [
    "stp_level_dist"
   ]
  },
  {
   "cell_type": "code",
   "execution_count": null,
   "metadata": {},
   "outputs": [],
   "source": [
    "#Create bar chart showing donor volume by stewardship level for season 23\n",
    "stp_23 = (levels_by_season_df.groupby('stp_s23_level')['account_id'].count().to_frame().iloc[1:]).plot(kind='bar', stacked=True)"
   ]
  },
  {
   "cell_type": "code",
   "execution_count": null,
   "metadata": {},
   "outputs": [],
   "source": [
    "ax = stp_level_dist.plot(kind='bar', stacked=True)"
   ]
  },
  {
   "cell_type": "markdown",
   "metadata": {},
   "source": [
    "Change row index for chart above so that the levels are in proper order."
   ]
  },
  {
   "cell_type": "code",
   "execution_count": null,
   "metadata": {},
   "outputs": [],
   "source": [
    "stp_level_dist = stp_level_dist.loc[['Did Not Give', 'Pre-Steward', 'Supporter', 'Investor', 'Underwriter', 'Performer', 'Director', 'Producer']]\n",
    "stp_level_dist.index"
   ]
  },
  {
   "cell_type": "code",
   "execution_count": null,
   "metadata": {},
   "outputs": [],
   "source": [
    "#Replot bar chart above with proper level order\n",
    "ax = stp_level_dist.plot(kind='bar', stacked=True)"
   ]
  },
  {
   "cell_type": "code",
   "execution_count": null,
   "metadata": {},
   "outputs": [],
   "source": [
    "stp_level_dist.T"
   ]
  },
  {
   "cell_type": "code",
   "execution_count": null,
   "metadata": {},
   "outputs": [],
   "source": [
    "#Change the row labels to fix improve the bar charts\n",
    "stp_level_dist.T.set_index(pd.Index(['Season 23', 'Season 24', 'Season 25', 'Season 26', 'Season 27']))"
   ]
  },
  {
   "cell_type": "code",
   "execution_count": null,
   "metadata": {},
   "outputs": [],
   "source": [
    "ax = stp_level_dist.T.set_index(pd.Index(['Season 23', 'Season 24', 'Season 25', 'Season 26', 'Season 27'])).plot(kind='bar', stacked=True, title='Stewardship Level Volume by Season')"
   ]
  },
  {
   "cell_type": "code",
   "execution_count": null,
   "metadata": {},
   "outputs": [],
   "source": [
    "#Replot above without Did Not Give group in each season\n",
    "stp_levels = stp_level_dist[1:].T.set_index(pd.Index(['Season 23', 'Season 24', 'Season 25', 'Season 26', 'Season 27'])).plot(kind='bar', stacked=True, title='Stewardship Level Volume by Season')"
   ]
  },
  {
   "cell_type": "code",
   "execution_count": null,
   "metadata": {},
   "outputs": [],
   "source": [
    "#Transform df to show stewardship level donor counts by season, including only the actual stewardship levels\n",
    "stp_level_dist.T.set_index(pd.Index(['Season 23', 'Season 24', 'Season 25', 'Season 26', 'Season 27'])).loc[:,['Supporter', 'Investor', 'Underwriter', 'Performer', 'Director', 'Producer']]"
   ]
  },
  {
   "cell_type": "code",
   "execution_count": null,
   "metadata": {},
   "outputs": [],
   "source": [
    "stp_stacked_bars = stp_level_dist.T.set_index(pd.Index(['Season 23', 'Season 24', 'Season 25', 'Season 26', 'Season 27'])).loc[:,['Supporter', 'Investor', 'Underwriter', 'Performer', 'Director', 'Producer']].plot(kind='bar', stacked=True, title='Stewardship Levels Largely Grow Over Time')"
   ]
  },
  {
   "cell_type": "code",
   "execution_count": null,
   "metadata": {},
   "outputs": [],
   "source": [
    "stp_level_counts = stp_level_dist.T.set_index(pd.Index(['Season 23', 'Season 24', 'Season 25', 'Season 26', 'Season 27'])).loc[:,['Supporter', 'Investor', 'Underwriter', 'Performer', 'Director', 'Producer']]\n",
    "stp_level_counts"
   ]
  },
  {
   "cell_type": "code",
   "execution_count": null,
   "metadata": {},
   "outputs": [],
   "source": [
    "# set width of bar\n",
    "barWidth = 0.25\n",
    " \n",
    "# set height of bar\n",
    "bars1 = list(stp_level_counts.T.values[0])\n",
    "bars2 = list(stp_level_counts.T.values[1])\n",
    "bars3 = list(stp_level_counts.T.values[2])\n",
    "bars4 = list(stp_level_counts.T.values[3])\n",
    "bars5 = list(stp_level_counts.T.values[4])\n",
    "bars6 = list(stp_level_counts.T.values[5])\n",
    " \n",
    "# Set position of bar on X axis\n",
    "r1 = np.arange(len(bars1))\n",
    "r2 = [x + barWidth for x in r1]\n",
    "r3 = [x + barWidth for x in r2]\n",
    "r4 = [x + barWidth for x in r3]\n",
    "r5 = [x + barWidth for x in r4]\n",
    "r6 = [x + barWidth for x in r5]\n",
    "\n",
    "print(r1, r2, r3, r4, r5, r6)"
   ]
  },
  {
   "cell_type": "code",
   "execution_count": null,
   "metadata": {},
   "outputs": [],
   "source": [
    "#Visualize stewardship level counts by season as a grouped barplot.\n",
    "\n",
    "# set width of bar\n",
    "barWidth = 0.150 #Resolved overlapping bars by reducing the width from .25 to .15\n",
    " \n",
    "# set height of bar\n",
    "bars1 = list(stp_level_counts.T.values[0])\n",
    "bars2 = list(stp_level_counts.T.values[1])\n",
    "bars3 = list(stp_level_counts.T.values[2])\n",
    "bars4 = list(stp_level_counts.T.values[3])\n",
    "bars5 = list(stp_level_counts.T.values[4])\n",
    "bars6 = list(stp_level_counts.T.values[5])\n",
    " \n",
    "# Set position of bar on X axis\n",
    "r1 = np.arange(len(bars1))\n",
    "r2 = [x + barWidth for x in r1]\n",
    "r3 = [x + barWidth for x in r2]\n",
    "r4 = [x + barWidth for x in r3]\n",
    "r5 = [x + barWidth for x in r4]\n",
    "r6 = [x + barWidth for x in r5]\n",
    " \n",
    "# Make the plot\n",
    "plt.bar(r1, bars1, color='yellow', width=barWidth, edgecolor='white', label='Supporter')\n",
    "plt.bar(r2, bars2, color='lightblue', width=barWidth, edgecolor='white', label='Investor')\n",
    "plt.bar(r3, bars3, color='orange', width=barWidth, edgecolor='white', label='Underwriter')\n",
    "plt.bar(r4, bars4, color='navy', width=barWidth, edgecolor='white', label='Performer')\n",
    "plt.bar(r5, bars5, color='red', width=barWidth, edgecolor='white', label='Director')\n",
    "plt.bar(r6, bars6, color='purple', width=barWidth, edgecolor='white', label='Producer')\n",
    "\n",
    "# Add xticks on the middle of the group bars\n",
    "plt.xlabel('Season', fontweight='bold')\n",
    "plt.xticks([r + barWidth for r in range(len(bars1))], list(stp_level_counts.index))\n",
    " \n",
    "# Add title, Create legend and Show graphic\n",
    "plt.title('Stewardship Level Volumes Largely Grow Over Time')\n",
    "plt.legend()\n",
    "plt.show()\n"
   ]
  },
  {
   "cell_type": "code",
   "execution_count": null,
   "metadata": {},
   "outputs": [],
   "source": [
    "stp_donor_counts = stp_level_dist.T.set_index(pd.Index(['Season 23', 'Season 24', 'Season 25', 'Season 26', 'Season 27'])).loc[:,['Pre-Steward', 'Supporter', 'Investor', 'Underwriter', 'Performer', 'Director', 'Producer']]\n",
    "stp_donor_counts"
   ]
  },
  {
   "cell_type": "code",
   "execution_count": null,
   "metadata": {},
   "outputs": [],
   "source": [
    "#Visualize stewardship donor counts by season as a grouped barplot.\n",
    "\n",
    "# set width of bar\n",
    "barWidth = 0.10 \n",
    " \n",
    "# set height of bar\n",
    "bars1 = list(stp_donor_counts.T.values[0])\n",
    "bars2 = list(stp_donor_counts.T.values[1])\n",
    "bars3 = list(stp_donor_counts.T.values[2])\n",
    "bars4 = list(stp_donor_counts.T.values[3])\n",
    "bars5 = list(stp_donor_counts.T.values[4])\n",
    "bars6 = list(stp_donor_counts.T.values[5])\n",
    "bars7 = list(stp_donor_counts.T.values[6])\n",
    " \n",
    "# Set position of bar on X axis\n",
    "r1 = np.arange(len(bars1))\n",
    "r2 = [x + barWidth for x in r1]\n",
    "r3 = [x + barWidth for x in r2]\n",
    "r4 = [x + barWidth for x in r3]\n",
    "r5 = [x + barWidth for x in r4]\n",
    "r6 = [x + barWidth for x in r5]\n",
    "r7 = [x + barWidth for x in r6]\n",
    " \n",
    "# Make the plot\n",
    "plt.bar(r1, bars1, color='magenta', width=barWidth, edgecolor='white', label='Pre-Steward')\n",
    "plt.bar(r2, bars2, color='yellow', width=barWidth, edgecolor='white', label='Supporter')\n",
    "plt.bar(r3, bars3, color='lightblue', width=barWidth, edgecolor='white', label='Investor')\n",
    "plt.bar(r4, bars4, color='orange', width=barWidth, edgecolor='white', label='Underwriter')\n",
    "plt.bar(r5, bars5, color='navy', width=barWidth, edgecolor='white', label='Performer')\n",
    "plt.bar(r6, bars6, color='red', width=barWidth, edgecolor='white', label='Director')\n",
    "plt.bar(r7, bars7, color='purple', width=barWidth, edgecolor='white', label='Producer')\n",
    "\n",
    "# Add xticks on the middle of the group bars\n",
    "plt.xlabel('Season', fontweight='bold')\n",
    "plt.xticks([r + barWidth for r in range(len(bars1))], list(stp_level_counts.index))\n",
    " \n",
    "# Add title, Create legend and Show graphic\n",
    "plt.title('Stewardship Donor Volumes Largely Grow Over Time')\n",
    "plt.legend()\n",
    "plt.show()\n",
    "\n"
   ]
  },
  {
   "cell_type": "markdown",
   "metadata": {},
   "source": [
    "Run a statistical test to determine if the number of donors in each level is statistically significantly higher than each of them in the previous season."
   ]
  },
  {
   "cell_type": "markdown",
   "metadata": {},
   "source": [
    "Examine growth rates in levels over time"
   ]
  },
  {
   "cell_type": "code",
   "execution_count": null,
   "metadata": {},
   "outputs": [],
   "source": [
    "stp_counts = stp_level_dist.T.set_index(pd.Index(['Season 23', 'Season 24', 'Season 25', 'Season 26', 'Season 27']))\n",
    "stp_counts"
   ]
  },
  {
   "cell_type": "code",
   "execution_count": null,
   "metadata": {},
   "outputs": [],
   "source": [
    "#Define function to generate growth rates in levels over time:\n",
    "\n",
    "def stp_growth_rates_by_level(df, r, row_name_list):\n",
    "    \"\"\"\n",
    "Params\n",
    "    ------\n",
    "    df : pandas.DataFrame\n",
    "        dataframe with columns as stewardship levels and row index as seasons\n",
    "    r : integer\n",
    "        integer referencing max row index of the df\n",
    "\n",
    "    Returns\n",
    "    -------\n",
    "    np.arrary\n",
    "        Returns a numpy array with one fewer row dimension than the input df, \n",
    "        Each element shows the rounded percent change in each stewardship level value over the previous season\n",
    "        \n",
    "    \"\"\"\n",
    "    a = np.round_((100*(df.to_numpy()[1:,:] - df.to_numpy()[:r,:])/ df.to_numpy()[:r,:]), 2)\n",
    "    a[np.isinf(a)] = 0\n",
    "    x = pd.DataFrame(data=a,\n",
    "                index=row_name_list,\n",
    "                columns=df.columns)\n",
    "    return x"
   ]
  },
  {
   "cell_type": "code",
   "execution_count": null,
   "metadata": {},
   "outputs": [],
   "source": [
    "perc_change_level_vol = stp_growth_rates_by_level(stp_counts, 4, ['% Change in Season 24', '% Change in Season 25', '% Change in Season 26', '% Change in Season 27'])\n",
    "perc_change_level_vol"
   ]
  },
  {
   "cell_type": "code",
   "execution_count": null,
   "metadata": {},
   "outputs": [],
   "source": [
    "#Visualize percent change in stewardship level volume by season as a grouped barplot.\n",
    "\n",
    "# set width of bar\n",
    "barWidth = 0.10 \n",
    " \n",
    "# set height of bar\n",
    "bars1 = list(perc_change_level_vol.T.values[0])\n",
    "bars2 = list(perc_change_level_vol.T.values[1])\n",
    "bars3 = list(perc_change_level_vol.T.values[2])\n",
    "bars4 = list(perc_change_level_vol.T.values[3])\n",
    "bars5 = list(perc_change_level_vol.T.values[4])\n",
    "bars6 = list(perc_change_level_vol.T.values[5])\n",
    "bars7 = list(perc_change_level_vol.T.values[6])\n",
    "bars8 = list(perc_change_level_vol.T.values[6])\n",
    " \n",
    "# Set position of bar on X axis\n",
    "r1 = np.arange(len(bars1))\n",
    "r2 = [x + barWidth for x in r1]\n",
    "r3 = [x + barWidth for x in r2]\n",
    "r4 = [x + barWidth for x in r3]\n",
    "r5 = [x + barWidth for x in r4]\n",
    "r6 = [x + barWidth for x in r5]\n",
    "r7 = [x + barWidth for x in r6]\n",
    "r8 = [x + barWidth for x in r7]\n",
    " \n",
    "# Make the plot\n",
    "plt.bar(r1, bars1, color='teal', width=barWidth, edgecolor='white', label='Did Not Give')\n",
    "plt.bar(r2, bars2, color='magenta', width=barWidth, edgecolor='white', label='Pre-Steward')\n",
    "plt.bar(r3, bars3, color='yellow', width=barWidth, edgecolor='white', label='Supporter')\n",
    "plt.bar(r4, bars4, color='lightblue', width=barWidth, edgecolor='white', label='Investor')\n",
    "plt.bar(r5, bars5, color='orange', width=barWidth, edgecolor='white', label='Underwriter')\n",
    "plt.bar(r6, bars6, color='navy', width=barWidth, edgecolor='white', label='Performer')\n",
    "plt.bar(r7, bars7, color='red', width=barWidth, edgecolor='white', label='Director')\n",
    "plt.bar(r8, bars8, color='purple', width=barWidth, edgecolor='white', label='Producer')\n",
    "\n",
    "# Add xticks on the middle of the group bars\n",
    "plt.xlabel('Season', fontweight='bold')\n",
    "plt.xticks([r + barWidth for r in range(len(bars1))], list(perc_change_level_vol.index), rotation=45)\n",
    "plt.ylabel('Percent Change in Level Size', fontweight='bold')\n",
    " \n",
    "# Add title, Create legend and Show graphic\n",
    "plt.title('Stewardship Levels Sizes Tend to Grow Each Season')\n",
    "plt.legend(bbox_to_anchor=(1.05, 1), loc='upper left', borderaxespad=0.)\n",
    "plt.show()\n"
   ]
  },
  {
   "cell_type": "code",
   "execution_count": null,
   "metadata": {},
   "outputs": [],
   "source": [
    "#function to create a statewise stacked plot of positive and negative cases\n",
    "#def pandas_plot(covid_df):\n",
    "#    ax = covid_df.iloc[:,[0,7]].plot(kind='bar',stacked=True,title = 'US Covid19 Stats By State as of '+max(covid_df['dateModified']),rot=0)\n",
    "#    for lbl in ax.patches:\n",
    "#        ax.annotate(\"{:.0f}\".format(int(lbl.get_height())),\\\n",
    "#                    (lbl.get_x()+.25, lbl.get_height()+lbl.get_y()),\\\n",
    "#                    verticalalignment='bottom', horizontalalignment='center', \\\n",
    "#                    fontsize=7, color='black')\n",
    "        \n",
    "#if __name__ == '__main__':\n",
    "#    state_list = ['NY','WA','CA','NJ'] #define list of states for which details are needed\n",
    "#    covid_df = api_dataload(state_list) #pass the list of states to the api_dataloaf function\n",
    "#    pandas_plot(covid_df) #use the consolidated covid_df to create stacked plot using pandas_plot function"
   ]
  },
  {
   "cell_type": "markdown",
   "metadata": {},
   "source": [
    "# Visualize change in donation totals across time"
   ]
  },
  {
   "cell_type": "markdown",
   "metadata": {},
   "source": [
    "Create a dataframe of donation totals & means by stewardship level over time."
   ]
  },
  {
   "cell_type": "code",
   "execution_count": null,
   "metadata": {},
   "outputs": [],
   "source": [
    "stp_totals_s23 = levels_by_season_df.groupby('stp_s23_level')['stp_total_s23'].sum().rename('stp_totals_s23').sort_values()\n",
    "stp_totals_s23"
   ]
  },
  {
   "cell_type": "code",
   "execution_count": null,
   "metadata": {},
   "outputs": [],
   "source": [
    "stp_means_s23 = levels_by_season_df.groupby('stp_s23_level')['stp_total_s23'].mean().rename('stp_means_s23').sort_values()\n",
    "stp_means_s23"
   ]
  },
  {
   "cell_type": "code",
   "execution_count": null,
   "metadata": {},
   "outputs": [],
   "source": [
    "stp_totals_s24 = levels_by_season_df.groupby('stp_s24_level')['stp_total_s24'].sum().rename('stp_totals_s24').sort_values()\n",
    "stp_totals_s24"
   ]
  },
  {
   "cell_type": "code",
   "execution_count": null,
   "metadata": {},
   "outputs": [],
   "source": [
    "stp_means_s24 = levels_by_season_df.groupby('stp_s24_level')['stp_total_s24'].mean().rename('stp_means_s24').sort_values()\n",
    "stp_means_s24"
   ]
  },
  {
   "cell_type": "code",
   "execution_count": null,
   "metadata": {},
   "outputs": [],
   "source": [
    "stp_totals_s25 = levels_by_season_df.groupby('stp_s25_level')['stp_total_s25'].sum().rename('stp_totals_s25').sort_values()\n",
    "stp_totals_s25"
   ]
  },
  {
   "cell_type": "code",
   "execution_count": null,
   "metadata": {},
   "outputs": [],
   "source": [
    "stp_means_s25 = levels_by_season_df.groupby('stp_s25_level')['stp_total_s25'].mean().rename('stp_means_s25').sort_values()\n",
    "stp_means_s25"
   ]
  },
  {
   "cell_type": "code",
   "execution_count": null,
   "metadata": {},
   "outputs": [],
   "source": [
    "stp_totals_s26 = levels_by_season_df.groupby('stp_s26_level')['stp_total_s26'].sum().rename('stp_totals_s26').sort_values()\n",
    "stp_totals_s26"
   ]
  },
  {
   "cell_type": "code",
   "execution_count": null,
   "metadata": {},
   "outputs": [],
   "source": [
    "stp_means_s26 = levels_by_season_df.groupby('stp_s26_level')['stp_total_s26'].mean().rename('stp_means_s26').sort_values()\n",
    "stp_means_s26"
   ]
  },
  {
   "cell_type": "code",
   "execution_count": null,
   "metadata": {},
   "outputs": [],
   "source": [
    "stp_totals_s27 = levels_by_season_df.groupby('stp_s27_level')['stp_total_s27'].sum().rename('stp_totals_s27').sort_values()\n",
    "stp_totals_s27"
   ]
  },
  {
   "cell_type": "code",
   "execution_count": null,
   "metadata": {},
   "outputs": [],
   "source": [
    "stp_means_s27 = levels_by_season_df.groupby('stp_s27_level')['stp_total_s27'].mean().rename('stp_means_s27').sort_values()\n",
    "stp_means_s27"
   ]
  },
  {
   "cell_type": "markdown",
   "metadata": {},
   "source": [
    "# Determine which accounts made any annual fund contributions in each season:"
   ]
  },
  {
   "cell_type": "code",
   "execution_count": null,
   "metadata": {
    "scrolled": true
   },
   "outputs": [],
   "source": [
    "#Season 27 AF Donors\n",
    "(levels_by_season_df[levels_by_season_df['stp_s27_level'] != 'Did Not Give'].reset_index(drop='True')).loc[:,['account_id','stp_s27_level']]"
   ]
  },
  {
   "cell_type": "code",
   "execution_count": null,
   "metadata": {},
   "outputs": [],
   "source": [
    "#Season 26 AF Donors\n",
    "(levels_by_season_df[levels_by_season_df['stp_s26_level'] != 'Did Not Give'].reset_index(drop='True')).loc[:,['account_id','stp_s26_level']]"
   ]
  },
  {
   "cell_type": "code",
   "execution_count": null,
   "metadata": {},
   "outputs": [],
   "source": [
    "#Season 25 AF Donors\n",
    "(levels_by_season_df[levels_by_season_df['stp_s25_level'] != 'Did Not Give'].reset_index(drop='True')).loc[:,['account_id','stp_s25_level']]"
   ]
  },
  {
   "cell_type": "code",
   "execution_count": null,
   "metadata": {},
   "outputs": [],
   "source": [
    "#Season 24 AF Donors\n",
    "(levels_by_season_df[levels_by_season_df['stp_s24_level'] != 'Did Not Give'].reset_index(drop='True')).loc[:,['account_id','stp_s24_level']]"
   ]
  },
  {
   "cell_type": "code",
   "execution_count": null,
   "metadata": {},
   "outputs": [],
   "source": [
    "#Season 23 AF Donors\n",
    "(levels_by_season_df[levels_by_season_df['stp_s23_level'] != 'Did Not Give'].reset_index(drop='True')).loc[:,['account_id','stp_s23_level']]"
   ]
  },
  {
   "cell_type": "code",
   "execution_count": null,
   "metadata": {},
   "outputs": [],
   "source": [
    "#Create annual_fund dictionary where each key stores the account_ids of donors who gave during that season\n",
    "level_cols = ['stp_s27_level', 'stp_s26_level', 'stp_s25_level', 'stp_s24_level', 'stp_s23_level']\n",
    "annual_fund = {}\n",
    "for col in level_cols:\n",
    "    annual_fund[col[4:7]+'_donors'] = (levels_by_season_df[levels_by_season_df[col] != 'Did Not Give'].reset_index(drop='True')).loc[:,['account_id',col]]"
   ]
  },
  {
   "cell_type": "code",
   "execution_count": null,
   "metadata": {},
   "outputs": [],
   "source": [
    "#View the annual fund dictionary, which shows donors levels by season (excluding those who did not give during a given season)\n",
    "annual_fund"
   ]
  },
  {
   "cell_type": "code",
   "execution_count": null,
   "metadata": {},
   "outputs": [],
   "source": [
    "annual_fund.values()"
   ]
  },
  {
   "cell_type": "code",
   "execution_count": null,
   "metadata": {},
   "outputs": [],
   "source": [
    "#How many accounts donated to the annual fund in each season (s27-s23):\n",
    "af_donor_keys = ['s27_donors', 's26_donors', 's25_donors', 's24_donors', 's23_donors']\n",
    "for key in af_donor_keys:\n",
    "    print(len(annual_fund[key]['account_id'].values))"
   ]
  },
  {
   "cell_type": "markdown",
   "metadata": {},
   "source": [
    "# Stewardship Donor Retention: accounts retained as annual fund donors from season to season (s24-s27)"
   ]
  },
  {
   "cell_type": "code",
   "execution_count": null,
   "metadata": {},
   "outputs": [],
   "source": [
    "#Which season 26 donors were retained in season 27?\n",
    "retained_s27 = [a for a in annual_fund['s27_donors']['account_id'].values if a in annual_fund['s26_donors']['account_id'].values]"
   ]
  },
  {
   "cell_type": "code",
   "execution_count": null,
   "metadata": {},
   "outputs": [],
   "source": [
    "#Season 27 donor retention rate:\n",
    "round(len(retained_s27)/len(annual_fund['s27_donors']['account_id'].values)*100, 2)"
   ]
  },
  {
   "cell_type": "code",
   "execution_count": null,
   "metadata": {},
   "outputs": [],
   "source": [
    "#Which season 25 donors were retained in season 26?\n",
    "retained_s26 = [a for a in annual_fund['s26_donors']['account_id'].values if a in annual_fund['s25_donors']['account_id'].values]"
   ]
  },
  {
   "cell_type": "code",
   "execution_count": null,
   "metadata": {},
   "outputs": [],
   "source": [
    "#Season 26 donor retention rate:\n",
    "round(len(retained_s26)/len(annual_fund['s26_donors']['account_id'].values)*100, 2)"
   ]
  },
  {
   "cell_type": "code",
   "execution_count": null,
   "metadata": {},
   "outputs": [],
   "source": [
    "#Which season 24 donors were retained in season 25?\n",
    "retained_s25 = [a for a in annual_fund['s25_donors']['account_id'].values if a in annual_fund['s24_donors']['account_id'].values]"
   ]
  },
  {
   "cell_type": "code",
   "execution_count": null,
   "metadata": {},
   "outputs": [],
   "source": [
    "#Season 25 donor retention rate:\n",
    "round(len(retained_s25)/len(annual_fund['s25_donors']['account_id'].values)*100, 2)"
   ]
  },
  {
   "cell_type": "code",
   "execution_count": null,
   "metadata": {},
   "outputs": [],
   "source": [
    "#Which season 23 donors were retained in season 24?\n",
    "retained_s24 = [a for a in annual_fund['s24_donors']['account_id'].values if a in annual_fund['s23_donors']['account_id'].values]"
   ]
  },
  {
   "cell_type": "code",
   "execution_count": null,
   "metadata": {},
   "outputs": [],
   "source": [
    "#Season 24 donor retention rate:\n",
    "round(len(retained_s24)/len(annual_fund['s24_donors']['account_id'].values)*100, 2)"
   ]
  },
  {
   "cell_type": "code",
   "execution_count": null,
   "metadata": {},
   "outputs": [],
   "source": [
    "#How many donors did we retain season over season (count number of donors in the 4 lists created above):\n",
    "len(retained_s27), len(retained_s26), len(retained_s25), len(retained_s24)"
   ]
  },
  {
   "cell_type": "code",
   "execution_count": null,
   "metadata": {},
   "outputs": [],
   "source": [
    "#Retained donor growth rates:\n",
    "retained_donor_growth_s25 = round((len(retained_s25) - len(retained_s24))/len(retained_s24)*100, 2)\n",
    "f'Retained Annual Fund Donor Growth Rate s25 versus s24 is {retained_donor_growth_s25}%'"
   ]
  },
  {
   "cell_type": "code",
   "execution_count": null,
   "metadata": {},
   "outputs": [],
   "source": [
    "retained_donor_growth_s26 = round((len(retained_s26) - len(retained_s25))/len(retained_s25)*100, 2)\n",
    "f'Retained Annual Fund Donor Growth Rate s26 versus s25 is {retained_donor_growth_s26}%'"
   ]
  },
  {
   "cell_type": "code",
   "execution_count": null,
   "metadata": {},
   "outputs": [],
   "source": [
    "retained_donor_growth_s27 = round((len(retained_s27) - len(retained_s26))/len(retained_s26)*100, 2)\n",
    "f'Retained Annual Fund Donor Growth Rate s27 versus s26 is {retained_donor_growth_s27}%'"
   ]
  },
  {
   "cell_type": "code",
   "execution_count": null,
   "metadata": {},
   "outputs": [],
   "source": [
    "#How many stewardship donors gave to the annual fund in s23, s24 and s25\n",
    "retained_consecutively_2 = list(set.intersection(*map(set, [annual_fund['s25_donors']['account_id'].values, annual_fund['s24_donors']['account_id'].values, annual_fund['s23_donors']['account_id'].values])))\n",
    "len(retained_consecutively_2)"
   ]
  },
  {
   "cell_type": "code",
   "execution_count": null,
   "metadata": {},
   "outputs": [],
   "source": [
    "#How many stewardship donors gave to the annual fund in s23, s24, s25 and s26\n",
    "retained_consecutively_3 = list(set.intersection(*map(set, [annual_fund['s26_donors']['account_id'].values, annual_fund['s25_donors']['account_id'].values, annual_fund['s24_donors']['account_id'].values, annual_fund['s23_donors']['account_id'].values])))\n",
    "len(retained_consecutively_3)"
   ]
  },
  {
   "cell_type": "code",
   "execution_count": null,
   "metadata": {},
   "outputs": [],
   "source": [
    "#How many stewardship donors gave to the annual fund in s23, s24, s25, s26 and s27\n",
    "retained_consecutively_4 = list(set.intersection(*map(set, [annual_fund['s27_donors']['account_id'].values, annual_fund['s26_donors']['account_id'].values, annual_fund['s25_donors']['account_id'].values, annual_fund['s24_donors']['account_id'].values, annual_fund['s23_donors']['account_id'].values])))\n",
    "len(retained_consecutively_4)"
   ]
  },
  {
   "cell_type": "markdown",
   "metadata": {},
   "source": [
    "# Acquisition / Reactivation Metrics"
   ]
  },
  {
   "cell_type": "code",
   "execution_count": null,
   "metadata": {},
   "outputs": [],
   "source": [
    "#Which accounts were acquired/reactivated in season 27?\n",
    "new_s27 = [a for a in annual_fund['s27_donors']['account_id'].values if a not in annual_fund['s26_donors']['account_id'].values]\n",
    "#How many?\n",
    "len(new_s27)"
   ]
  },
  {
   "cell_type": "code",
   "execution_count": null,
   "metadata": {},
   "outputs": [],
   "source": [
    "#Percent of season 27 donors that were newly acquired or reactivated donors:\n",
    "round(((len(new_s27)/len(annual_fund['s27_donors']['account_id'].values))*100),2)"
   ]
  },
  {
   "cell_type": "code",
   "execution_count": null,
   "metadata": {},
   "outputs": [],
   "source": [
    "#Which accounts were acquired/reactivated in season 26?\n",
    "new_s26 = [a for a in annual_fund['s26_donors']['account_id'].values if a not in annual_fund['s25_donors']['account_id'].values]\n",
    "#How many?\n",
    "len(new_s26)"
   ]
  },
  {
   "cell_type": "code",
   "execution_count": null,
   "metadata": {},
   "outputs": [],
   "source": [
    "#Percent of season 26 donors that were newly acquired or reactivated donors:\n",
    "round(((len(new_s26)/len(annual_fund['s26_donors']['account_id'].values))*100),2)"
   ]
  },
  {
   "cell_type": "code",
   "execution_count": null,
   "metadata": {},
   "outputs": [],
   "source": [
    "#Which accounts were acquired/reactivated in season 25?\n",
    "new_s25 = [a for a in annual_fund['s25_donors']['account_id'].values if a not in annual_fund['s24_donors']['account_id'].values]\n",
    "#How many?\n",
    "len(new_s25)"
   ]
  },
  {
   "cell_type": "code",
   "execution_count": null,
   "metadata": {},
   "outputs": [],
   "source": [
    "#Percent of season 25 donors that were newly acquired or reactivated donors:\n",
    "round(((len(new_s25)/len(annual_fund['s25_donors']['account_id'].values))*100),2)"
   ]
  },
  {
   "cell_type": "code",
   "execution_count": null,
   "metadata": {},
   "outputs": [],
   "source": [
    "#Which accounts were acquired/reactivated in season 24?\n",
    "new_s24 = [a for a in annual_fund['s24_donors']['account_id'].values if a not in annual_fund['s23_donors']['account_id'].values]\n",
    "#How many?\n",
    "len(new_s24)"
   ]
  },
  {
   "cell_type": "code",
   "execution_count": null,
   "metadata": {},
   "outputs": [],
   "source": [
    "#Percent of season 24 donors that were newly acquired or reactivated donors:\n",
    "round(((len(new_s24)/len(annual_fund['s24_donors']['account_id'].values))*100),2)"
   ]
  },
  {
   "cell_type": "markdown",
   "metadata": {},
   "source": [
    "# Churn Metrics: Annual Fund Donor Accounts who Churned Season over Season (s24-s27) "
   ]
  },
  {
   "cell_type": "markdown",
   "metadata": {},
   "source": [
    "Here, we're examining donors who churned defined as the specific donors who gave last season but not this season.\n",
    "Churn rate = number who gave last season but not this season / total number who gave last season"
   ]
  },
  {
   "cell_type": "code",
   "execution_count": null,
   "metadata": {},
   "outputs": [],
   "source": [
    "#Which season 26 donors churned in season 27?\n",
    "churn_s27 = [a for a in annual_fund['s26_donors']['account_id'].values if a not in annual_fund['s27_donors']['account_id'].values]\n",
    "#How many churned?\n",
    "len(churn_s27)"
   ]
  },
  {
   "cell_type": "code",
   "execution_count": null,
   "metadata": {},
   "outputs": [],
   "source": [
    "#Season 27 churn rate (based on specific donors):\n",
    "churn_rate_s27 = round(len(churn_s27)/len(annual_fund['s26_donors']['account_id'].values)*100, 2)\n",
    "churn_rate_s27"
   ]
  },
  {
   "cell_type": "code",
   "execution_count": null,
   "metadata": {},
   "outputs": [],
   "source": [
    "#Season 27 churn rate (based on donor counts):\n",
    "round(((len(annual_fund['s26_donors']['account_id'].values) - len(annual_fund['s27_donors']['account_id'].values))/len(annual_fund['s26_donors']['account_id'].values)*100),2)"
   ]
  },
  {
   "cell_type": "code",
   "execution_count": null,
   "metadata": {},
   "outputs": [],
   "source": [
    "#Which season 25 donors churned in season 26?\n",
    "churn_s26 = [a for a in annual_fund['s25_donors']['account_id'].values if a not in annual_fund['s26_donors']['account_id'].values]\n",
    "#How many churned?\n",
    "len(churn_s26)"
   ]
  },
  {
   "cell_type": "code",
   "execution_count": null,
   "metadata": {},
   "outputs": [],
   "source": [
    "#Season 26 churn rate (based on specific donors):\n",
    "churn_rate_s26 = round(len(churn_s26)/len(annual_fund['s25_donors']['account_id'].values)*100, 2)\n",
    "churn_rate_s26"
   ]
  },
  {
   "cell_type": "code",
   "execution_count": null,
   "metadata": {},
   "outputs": [],
   "source": [
    "#Season 26 churn rate (based on donor counts):\n",
    "round(((len(annual_fund['s25_donors']['account_id'].values) - len(annual_fund['s26_donors']['account_id'].values))/len(annual_fund['s25_donors']['account_id'].values)*100),2)"
   ]
  },
  {
   "cell_type": "code",
   "execution_count": null,
   "metadata": {},
   "outputs": [],
   "source": [
    "#Which season 24 donors churned in season 25?\n",
    "churn_s25 = [a for a in annual_fund['s24_donors']['account_id'].values if a not in annual_fund['s25_donors']['account_id'].values]\n",
    "#How many churned?\n",
    "len(churn_s25)"
   ]
  },
  {
   "cell_type": "code",
   "execution_count": null,
   "metadata": {},
   "outputs": [],
   "source": [
    "#Season 25 churn rate (based on specific donors):\n",
    "churn_rate_s25 = round(len(churn_s25)/len(annual_fund['s24_donors']['account_id'].values)*100, 2)\n",
    "churn_rate_s25"
   ]
  },
  {
   "cell_type": "code",
   "execution_count": null,
   "metadata": {},
   "outputs": [],
   "source": [
    "#Season 25 churn rate (based on donor counts):\n",
    "round(((len(annual_fund['s24_donors']['account_id'].values) - len(annual_fund['s25_donors']['account_id'].values))/len(annual_fund['s24_donors']['account_id'].values)*100),2)"
   ]
  },
  {
   "cell_type": "code",
   "execution_count": null,
   "metadata": {},
   "outputs": [],
   "source": [
    "#Which season 24 donors churned in season 25?\n",
    "churn_s24 = [a for a in annual_fund['s23_donors']['account_id'].values if a not in annual_fund['s24_donors']['account_id'].values]\n",
    "#How many churned?\n",
    "len(churn_s24)"
   ]
  },
  {
   "cell_type": "code",
   "execution_count": null,
   "metadata": {},
   "outputs": [],
   "source": [
    "#Season 24 churn rate (based on specific donors):\n",
    "churn_rate_s24 = round(len(churn_s24)/len(annual_fund['s23_donors']['account_id'].values)*100, 2)\n",
    "churn_rate_s24"
   ]
  },
  {
   "cell_type": "code",
   "execution_count": null,
   "metadata": {},
   "outputs": [],
   "source": [
    "#Season 24 churn rate (based on donor counts):\n",
    "round(((len(annual_fund['s23_donors']['account_id'].values) - len(annual_fund['s24_donors']['account_id'].values))/len(annual_fund['s23_donors']['account_id'].values)*100),2)"
   ]
  },
  {
   "cell_type": "markdown",
   "metadata": {},
   "source": [
    "First, defining retention as donor gave to the annual fund for two or more consecutive seasons"
   ]
  },
  {
   "cell_type": "code",
   "execution_count": null,
   "metadata": {},
   "outputs": [],
   "source": [
    "#As DICTIONARY:\n",
    "#stp_amt_list = ['stp_total_s27', 'stp_total_s26', 'stp_total_s25', 'stp_total_s24', 'stp_total_s23']\n",
    "#donor_levels_by_season_dict_of_dfs = {}\n",
    "#donor_levels_by_season['account_id'] = donations_no_outlier_amts['account_id']\n",
    "#for col in stp_amt_list:\n",
    "#    df_name = col[:3] + col[9:] + 'level'\n",
    "#    donor_levels_by_season[df_name] = (donations_no_outlier_amts[col].apply(stp_level_generator))"
   ]
  },
  {
   "cell_type": "code",
   "execution_count": null,
   "metadata": {},
   "outputs": [],
   "source": [
    "#Store a new dataframe with each iteration as a new dictionary value\n",
    "#stp_amt_list = ['stp_total_s27', 'stp_total_s26', 'stp_total_s25', 'stp_total_s24', 'stp_total_s23']\n",
    "#donor_levels_by_season_dict_of_dfs = {} #initialize empty dictionary\n",
    "\n",
    "#for col in stp_amt_list:\n",
    "#    new_df_name = col[:3] + col[9:] + 'level' \n",
    "#    donor_levels_by_season_dict_of_dfs[new_df_name] = donations_no_outlier_amts[col].apply(stp_level_generator)"
   ]
  },
  {
   "cell_type": "markdown",
   "metadata": {},
   "source": [
    "# Left Off Here"
   ]
  },
  {
   "cell_type": "markdown",
   "metadata": {},
   "source": [
    "Separate continuous and categorical features for exploration."
   ]
  },
  {
   "cell_type": "code",
   "execution_count": null,
   "metadata": {},
   "outputs": [],
   "source": [
    "cats['donation_record_type'].value_counts().plot.bar(title='Freq dist of Donation Record Type', figsize=[15,10])"
   ]
  },
  {
   "cell_type": "code",
   "execution_count": null,
   "metadata": {},
   "outputs": [],
   "source": [
    "donations['fund'].value_counts().plot.bar(title='Freq dist of Fund', figsize=[15,10])"
   ]
  },
  {
   "cell_type": "code",
   "execution_count": null,
   "metadata": {},
   "outputs": [],
   "source": [
    "cont_vars"
   ]
  },
  {
   "cell_type": "markdown",
   "metadata": {},
   "source": [
    "Continuous Plots"
   ]
  },
  {
   "cell_type": "code",
   "execution_count": null,
   "metadata": {},
   "outputs": [],
   "source": [
    "x = less_max['amount']\n",
    "ax = sns.distplot(x)"
   ]
  },
  {
   "cell_type": "code",
   "execution_count": null,
   "metadata": {},
   "outputs": [],
   "source": [
    "fig, ax = plt.subplots(len(cont_vars), figsize=(16,12))\n",
    "\n",
    "for i, col_val in enumerate(cont_vars):\n",
    "    try:\n",
    "        sns.distplot(cont[col_val], hist=True, ax=ax[i])\n",
    "        ax[i].set_title('Freq dist '+col_val, fontsize=10)\n",
    "        ax[i].set_xlabel(col_val, fontsize=8)\n",
    "        ax[i].set_ylabel('Count', fontsize=8)\n",
    "    except RuntimeError as re:\n",
    "        if str(re).startswith(\"Selected KDE bandwidth is 0. Cannot estimate density.\"):\n",
    "            sns.distplot(cont[col_val], hist=True, ax=ax[i], kde_kws={'bw': 0.1})\n",
    "        else:\n",
    "            raise re\n",
    "    \n",
    "plt.show()"
   ]
  },
  {
   "cell_type": "code",
   "execution_count": null,
   "metadata": {},
   "outputs": [],
   "source": [
    "cont_dollars = ['amount', 'pledge_amount', 'amount_matched', 'last_donation_amount','lifetime_donation_total_amount',\n",
    "       'lifetime_single_ticket_purchase_total', 'lifetime_subscription_purchase_total', 'amount_paid', 'amount_donated_last_365_days',\n",
    "       'amount_donated_last_fiscal_year', 'amount_donated_this_fiscal_year', 'group_sales_total', 'total_amount']"
   ]
  },
  {
   "cell_type": "code",
   "execution_count": null,
   "metadata": {},
   "outputs": [],
   "source": [
    "fig, ax = plt.subplots(len(cont_dollars), figsize=(16,12))\n",
    "\n",
    "for i, col_val in enumerate(cont_dollars):\n",
    "    try:\n",
    "        sns.distplot(less_max[col_val], hist=True, ax=ax[i])\n",
    "        ax[i].set_title('Freq dist '+col_val, fontsize=10)\n",
    "        ax[i].set_xlabel(col_val, fontsize=8)\n",
    "        ax[i].set_ylabel('Count', fontsize=8)\n",
    "    except RuntimeError as re:\n",
    "        if str(re).startswith(\"Selected KDE bandwidth is 0. Cannot estimate density.\"):\n",
    "            sns.distplot(less_max[col_val], hist=True, ax=ax[i], kde_kws={'bw': 0.1})\n",
    "        else:\n",
    "            raise re\n",
    "    \n",
    "plt.show()"
   ]
  },
  {
   "cell_type": "code",
   "execution_count": null,
   "metadata": {},
   "outputs": [],
   "source": [
    "fig, ax = plt.subplots(len(cont_vars), figsize=(16,12))\n",
    "\n",
    "for i, col_val in enumerate(cont_vars):\n",
    "    try:\n",
    "        sns.distplot(cont[col_val], hist=True, ax=ax[i])\n",
    "        ax[i].set_title('Freq dist '+col_val, fontsize=10)\n",
    "        ax[i].set_xlabel(col_val, fontsize=8)\n",
    "        ax[i].set_ylabel('Count', fontsize=8)\n",
    "    except RuntimeError as re:\n",
    "        if str(re).startswith(\"Selected KDE bandwidth is 0. Cannot estimate density.\"):\n",
    "            sns.distplot(cont[col_val], hist=True, ax=ax[i], kde_kws={'bw': 0.1})\n",
    "        else:\n",
    "            raise re\n",
    "    \n",
    "plt.show()"
   ]
  }
 ],
 "metadata": {
  "kernelspec": {
   "display_name": "Python 3",
   "language": "python",
   "name": "python3"
  },
  "language_info": {
   "codemirror_mode": {
    "name": "ipython",
    "version": 3
   },
   "file_extension": ".py",
   "mimetype": "text/x-python",
   "name": "python",
   "nbconvert_exporter": "python",
   "pygments_lexer": "ipython3",
   "version": "3.7.7"
  }
 },
 "nbformat": 4,
 "nbformat_minor": 4
}
